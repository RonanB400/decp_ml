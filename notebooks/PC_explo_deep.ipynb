{
 "cells": [
  {
   "cell_type": "code",
   "execution_count": 7,
   "id": "8a110434",
   "metadata": {},
   "outputs": [],
   "source": [
    "import pandas as pd\n",
    "import numpy as np\n",
    "import os\n",
    "import sys\n",
    "\n",
    "from sklearn.model_selection import train_test_split"
   ]
  },
  {
   "cell_type": "code",
   "execution_count": 5,
   "id": "62dd90bd",
   "metadata": {},
   "outputs": [],
   "source": [
    "df = pd.read_csv('../data/data_clean.csv')"
   ]
  },
  {
   "cell_type": "code",
   "execution_count": 6,
   "id": "74d53ac3",
   "metadata": {},
   "outputs": [
    {
     "name": "stdout",
     "output_type": "stream",
     "text": [
      "Filtered from 73 to 40 CPV categories, keeping 283975 rows out of 286850\n"
     ]
    }
   ],
   "source": [
    "sys.path.append(os.path.abspath(os.path.join(os.getcwd(), '..')))\n",
    "from scripts.data_cleaner import filter_top_cpv_categories\n",
    "\n",
    "df = filter_top_cpv_categories(df, top_n=40, cpv_column='codeCPV_2')"
   ]
  },
  {
   "cell_type": "code",
   "execution_count": 11,
   "id": "c762c3e6",
   "metadata": {},
   "outputs": [],
   "source": [
    "X = df.drop(columns='montant')\n",
    "y = df[['montant']]"
   ]
  },
  {
   "cell_type": "code",
   "execution_count": 16,
   "id": "733b7e80",
   "metadata": {},
   "outputs": [],
   "source": [
    "X_train, X_test, y_train, y_test = train_test_split(\n",
    "    X, y, test_size=0.2, random_state=0, stratify=X['codeCPV_2'])"
   ]
  },
  {
   "cell_type": "code",
   "execution_count": 18,
   "id": "ddbbb84f",
   "metadata": {},
   "outputs": [],
   "source": [
    "sys.path.append(os.path.abspath(os.path.join(os.getcwd(), '..')))\n",
    "from scripts.preprocess_pipeline import create_pipeline_cat\n",
    "\n",
    "cat_list = ['marche_sim', 'pred_montant', 'anomalie']\n",
    "cat = cat_list[1]\n",
    "pipeline = create_pipeline_cat(cat)"
   ]
  },
  {
   "cell_type": "code",
   "execution_count": 19,
   "id": "7f8b646d",
   "metadata": {},
   "outputs": [],
   "source": [
    "X_train_preproc = pipeline.fit_transform(X_train)"
   ]
  },
  {
   "cell_type": "code",
   "execution_count": null,
   "id": "3d30bb43",
   "metadata": {},
   "outputs": [],
   "source": []
  }
 ],
 "metadata": {
  "kernelspec": {
   "display_name": "decp_ml_env",
   "language": "python",
   "name": "python3"
  },
  "language_info": {
   "codemirror_mode": {
    "name": "ipython",
    "version": 3
   },
   "file_extension": ".py",
   "mimetype": "text/x-python",
   "name": "python",
   "nbconvert_exporter": "python",
   "pygments_lexer": "ipython3",
   "version": "3.10.6"
  }
 },
 "nbformat": 4,
 "nbformat_minor": 5
}
