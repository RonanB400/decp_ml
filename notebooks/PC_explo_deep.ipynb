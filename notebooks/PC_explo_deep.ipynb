{
 "cells": [
  {
   "cell_type": "code",
   "execution_count": 29,
   "id": "8a110434",
   "metadata": {},
   "outputs": [],
   "source": [
    "import pandas as pd\n",
    "import numpy as np\n",
    "import os\n",
    "import sys\n",
    "\n",
    "from sklearn.model_selection import train_test_split\n",
    "\n",
    "from keras import Sequential, layers\n",
    "from keras.callbacks import EarlyStopping"
   ]
  },
  {
   "cell_type": "code",
   "execution_count": 2,
   "id": "62dd90bd",
   "metadata": {},
   "outputs": [],
   "source": [
    "df = pd.read_csv('../data/data_clean.csv')"
   ]
  },
  {
   "cell_type": "code",
   "execution_count": 3,
   "id": "74d53ac3",
   "metadata": {},
   "outputs": [
    {
     "name": "stdout",
     "output_type": "stream",
     "text": [
      "Filtered from 392 to 150 CPV categories, keeping 279174 rows out of 286850\n"
     ]
    }
   ],
   "source": [
    "from scripts.data_cleaner import filter_top_cpv_categories\n",
    "\n",
    "df = filter_top_cpv_categories(df, top_n=150, cpv_column='codeCPV_3')"
   ]
  },
  {
   "cell_type": "code",
   "execution_count": 4,
   "id": "e4aeed25",
   "metadata": {},
   "outputs": [
    {
     "data": {
      "text/plain": [
       "(238163, 38)"
      ]
     },
     "execution_count": 4,
     "metadata": {},
     "output_type": "execute_result"
    }
   ],
   "source": [
    "df.drop(df[df['montant'] > 999999].index, inplace=True)\n",
    "df.shape"
   ]
  },
  {
   "cell_type": "code",
   "execution_count": 5,
   "id": "9c3e3af4",
   "metadata": {},
   "outputs": [
    {
     "data": {
      "text/plain": [
       "0    11.292279\n",
       "1    10.882925\n",
       "4    13.235694\n",
       "5    11.350889\n",
       "6    12.044412\n",
       "Name: montant, dtype: float64"
      ]
     },
     "execution_count": 5,
     "metadata": {},
     "output_type": "execute_result"
    }
   ],
   "source": [
    "y = np.log1p(df['montant'])\n",
    "y.head()"
   ]
  },
  {
   "cell_type": "code",
   "execution_count": 6,
   "id": "e334a6b1",
   "metadata": {},
   "outputs": [
    {
     "data": {
      "text/plain": [
       "(238163, 39)"
      ]
     },
     "execution_count": 6,
     "metadata": {},
     "output_type": "execute_result"
    }
   ],
   "source": [
    "bins = np.linspace(y.min(), y.max(), 10)\n",
    "\n",
    "# Créer les étiquettes correspondantes\n",
    "labels = list(range(1, len(bins)))\n",
    "\n",
    "# Ajouter la colonne fourchette_de_prix\n",
    "df['bins'] = pd.cut(y, bins=bins, labels=labels, include_lowest=True, right=True)\n",
    "\n",
    "df.shape"
   ]
  },
  {
   "cell_type": "code",
   "execution_count": 7,
   "id": "3d070bf6",
   "metadata": {},
   "outputs": [
    {
     "data": {
      "text/plain": [
       "0"
      ]
     },
     "execution_count": 7,
     "metadata": {},
     "output_type": "execute_result"
    }
   ],
   "source": [
    "df['bins'].isna().sum()"
   ]
  },
  {
   "cell_type": "code",
   "execution_count": 8,
   "id": "a076f1ac",
   "metadata": {},
   "outputs": [],
   "source": [
    "df['bins'] = df['bins'].astype('int')"
   ]
  },
  {
   "cell_type": "code",
   "execution_count": 9,
   "id": "e77b6460",
   "metadata": {},
   "outputs": [
    {
     "data": {
      "text/plain": [
       "<bound method Series.unique of 0         4\n",
       "1         3\n",
       "4         8\n",
       "5         4\n",
       "6         5\n",
       "         ..\n",
       "286844    3\n",
       "286845    5\n",
       "286846    2\n",
       "286848    9\n",
       "286849    2\n",
       "Name: bins, Length: 238163, dtype: int64>"
      ]
     },
     "execution_count": 9,
     "metadata": {},
     "output_type": "execute_result"
    }
   ],
   "source": [
    "df['bins'].unique"
   ]
  },
  {
   "cell_type": "code",
   "execution_count": null,
   "id": "666a27fc",
   "metadata": {},
   "outputs": [],
   "source": []
  },
  {
   "cell_type": "code",
   "execution_count": 10,
   "id": "a330256d",
   "metadata": {},
   "outputs": [
    {
     "data": {
      "text/plain": [
       "Index(['uid', 'id', 'nature', 'acheteur_id', 'acheteur_nom', 'acheteur_siren',\n",
       "       'titulaire_id', 'titulaire_typeIdentifiant', 'titulaire_nom',\n",
       "       'titulaire_siren', 'objet', 'codeCPV', 'procedure', 'dureeMois',\n",
       "       'dateNotification', 'datePublicationDonnees', 'formePrix',\n",
       "       'attributionAvance', 'offresRecues', 'marcheInnovant', 'ccag',\n",
       "       'sousTraitanceDeclaree', 'typeGroupementOperateurs', 'tauxAvance',\n",
       "       'origineUE', 'origineFrance', 'lieuExecution_code',\n",
       "       'lieuExecution_typeCode', 'idAccordCadre', 'source_open_data',\n",
       "       'codeCPV_FR', 'codeCPV_2', 'codeCPV_3', 'codeCPV_4', 'codeCPV_5',\n",
       "       'codeCPV_2_3', 'annee', 'bins'],\n",
       "      dtype='object')"
      ]
     },
     "execution_count": 10,
     "metadata": {},
     "output_type": "execute_result"
    }
   ],
   "source": [
    "df = df.drop(columns='montant')\n",
    "df.columns"
   ]
  },
  {
   "cell_type": "code",
   "execution_count": 11,
   "id": "c762c3e6",
   "metadata": {},
   "outputs": [],
   "source": [
    "X = df.drop(columns='bins')\n",
    "y = df['bins']"
   ]
  },
  {
   "cell_type": "code",
   "execution_count": 12,
   "id": "733b7e80",
   "metadata": {},
   "outputs": [],
   "source": [
    "X_train, X_test, y_train, y_test = train_test_split(\n",
    "    X, y, test_size=0.2, random_state=0, stratify=X['codeCPV_3'])"
   ]
  },
  {
   "cell_type": "code",
   "execution_count": 13,
   "id": "ddbbb84f",
   "metadata": {},
   "outputs": [],
   "source": [
    "from scripts.preprocess_pipeline import create_pipeline_cat\n",
    "\n",
    "cat_list = ['marche_sim', 'pred_montant', 'anomalie']\n",
    "cat = cat_list[1]\n",
    "pipeline = create_pipeline_cat(cat)"
   ]
  },
  {
   "cell_type": "code",
   "execution_count": 14,
   "id": "7f8b646d",
   "metadata": {},
   "outputs": [],
   "source": [
    "X_train_preproc = pipeline.fit_transform(X_train)"
   ]
  },
  {
   "cell_type": "code",
   "execution_count": 34,
   "id": "3d30bb43",
   "metadata": {},
   "outputs": [
    {
     "data": {
      "text/plain": [
       "(190530, 184)"
      ]
     },
     "execution_count": 34,
     "metadata": {},
     "output_type": "execute_result"
    }
   ],
   "source": [
    "X_train_preproc.shape"
   ]
  },
  {
   "cell_type": "code",
   "execution_count": 37,
   "id": "da18ce74",
   "metadata": {},
   "outputs": [],
   "source": [
    "from keras.utils import to_categorical\n",
    "y_train_cat = to_categorical(y_train)"
   ]
  },
  {
   "cell_type": "code",
   "execution_count": 39,
   "id": "4e7f7919",
   "metadata": {},
   "outputs": [
    {
     "data": {
      "text/plain": [
       "(190530, 10)"
      ]
     },
     "execution_count": 39,
     "metadata": {},
     "output_type": "execute_result"
    }
   ],
   "source": [
    "y_train_cat.shape"
   ]
  },
  {
   "cell_type": "code",
   "execution_count": 17,
   "id": "6188121c",
   "metadata": {},
   "outputs": [],
   "source": [
    "#Création du model --> couches Dense"
   ]
  },
  {
   "cell_type": "code",
   "execution_count": 40,
   "id": "df9f221a",
   "metadata": {},
   "outputs": [
    {
     "data": {
      "text/html": [
       "<pre style=\"white-space:pre;overflow-x:auto;line-height:normal;font-family:Menlo,'DejaVu Sans Mono',consolas,'Courier New',monospace\"><span style=\"font-weight: bold\">Model: \"sequential_4\"</span>\n",
       "</pre>\n"
      ],
      "text/plain": [
       "\u001b[1mModel: \"sequential_4\"\u001b[0m\n"
      ]
     },
     "metadata": {},
     "output_type": "display_data"
    },
    {
     "data": {
      "text/html": [
       "<pre style=\"white-space:pre;overflow-x:auto;line-height:normal;font-family:Menlo,'DejaVu Sans Mono',consolas,'Courier New',monospace\">┏━━━━━━━━━━━━━━━━━━━━━━━━━━━━━━━━━┳━━━━━━━━━━━━━━━━━━━━━━━━┳━━━━━━━━━━━━━━━┓\n",
       "┃<span style=\"font-weight: bold\"> Layer (type)                    </span>┃<span style=\"font-weight: bold\"> Output Shape           </span>┃<span style=\"font-weight: bold\">       Param # </span>┃\n",
       "┡━━━━━━━━━━━━━━━━━━━━━━━━━━━━━━━━━╇━━━━━━━━━━━━━━━━━━━━━━━━╇━━━━━━━━━━━━━━━┩\n",
       "│ dense_21 (<span style=\"color: #0087ff; text-decoration-color: #0087ff\">Dense</span>)                │ (<span style=\"color: #00d7ff; text-decoration-color: #00d7ff\">None</span>, <span style=\"color: #00af00; text-decoration-color: #00af00\">512</span>)            │        <span style=\"color: #00af00; text-decoration-color: #00af00\">94,720</span> │\n",
       "├─────────────────────────────────┼────────────────────────┼───────────────┤\n",
       "│ batch_normalization_6           │ (<span style=\"color: #00d7ff; text-decoration-color: #00d7ff\">None</span>, <span style=\"color: #00af00; text-decoration-color: #00af00\">512</span>)            │         <span style=\"color: #00af00; text-decoration-color: #00af00\">2,048</span> │\n",
       "│ (<span style=\"color: #0087ff; text-decoration-color: #0087ff\">BatchNormalization</span>)            │                        │               │\n",
       "├─────────────────────────────────┼────────────────────────┼───────────────┤\n",
       "│ dropout_6 (<span style=\"color: #0087ff; text-decoration-color: #0087ff\">Dropout</span>)             │ (<span style=\"color: #00d7ff; text-decoration-color: #00d7ff\">None</span>, <span style=\"color: #00af00; text-decoration-color: #00af00\">512</span>)            │             <span style=\"color: #00af00; text-decoration-color: #00af00\">0</span> │\n",
       "├─────────────────────────────────┼────────────────────────┼───────────────┤\n",
       "│ dense_22 (<span style=\"color: #0087ff; text-decoration-color: #0087ff\">Dense</span>)                │ (<span style=\"color: #00d7ff; text-decoration-color: #00d7ff\">None</span>, <span style=\"color: #00af00; text-decoration-color: #00af00\">256</span>)            │       <span style=\"color: #00af00; text-decoration-color: #00af00\">131,328</span> │\n",
       "├─────────────────────────────────┼────────────────────────┼───────────────┤\n",
       "│ batch_normalization_7           │ (<span style=\"color: #00d7ff; text-decoration-color: #00d7ff\">None</span>, <span style=\"color: #00af00; text-decoration-color: #00af00\">256</span>)            │         <span style=\"color: #00af00; text-decoration-color: #00af00\">1,024</span> │\n",
       "│ (<span style=\"color: #0087ff; text-decoration-color: #0087ff\">BatchNormalization</span>)            │                        │               │\n",
       "├─────────────────────────────────┼────────────────────────┼───────────────┤\n",
       "│ dropout_7 (<span style=\"color: #0087ff; text-decoration-color: #0087ff\">Dropout</span>)             │ (<span style=\"color: #00d7ff; text-decoration-color: #00d7ff\">None</span>, <span style=\"color: #00af00; text-decoration-color: #00af00\">256</span>)            │             <span style=\"color: #00af00; text-decoration-color: #00af00\">0</span> │\n",
       "├─────────────────────────────────┼────────────────────────┼───────────────┤\n",
       "│ dense_23 (<span style=\"color: #0087ff; text-decoration-color: #0087ff\">Dense</span>)                │ (<span style=\"color: #00d7ff; text-decoration-color: #00d7ff\">None</span>, <span style=\"color: #00af00; text-decoration-color: #00af00\">128</span>)            │        <span style=\"color: #00af00; text-decoration-color: #00af00\">32,896</span> │\n",
       "├─────────────────────────────────┼────────────────────────┼───────────────┤\n",
       "│ batch_normalization_8           │ (<span style=\"color: #00d7ff; text-decoration-color: #00d7ff\">None</span>, <span style=\"color: #00af00; text-decoration-color: #00af00\">128</span>)            │           <span style=\"color: #00af00; text-decoration-color: #00af00\">512</span> │\n",
       "│ (<span style=\"color: #0087ff; text-decoration-color: #0087ff\">BatchNormalization</span>)            │                        │               │\n",
       "├─────────────────────────────────┼────────────────────────┼───────────────┤\n",
       "│ dropout_8 (<span style=\"color: #0087ff; text-decoration-color: #0087ff\">Dropout</span>)             │ (<span style=\"color: #00d7ff; text-decoration-color: #00d7ff\">None</span>, <span style=\"color: #00af00; text-decoration-color: #00af00\">128</span>)            │             <span style=\"color: #00af00; text-decoration-color: #00af00\">0</span> │\n",
       "├─────────────────────────────────┼────────────────────────┼───────────────┤\n",
       "│ dense_24 (<span style=\"color: #0087ff; text-decoration-color: #0087ff\">Dense</span>)                │ (<span style=\"color: #00d7ff; text-decoration-color: #00d7ff\">None</span>, <span style=\"color: #00af00; text-decoration-color: #00af00\">10</span>)             │         <span style=\"color: #00af00; text-decoration-color: #00af00\">1,290</span> │\n",
       "└─────────────────────────────────┴────────────────────────┴───────────────┘\n",
       "</pre>\n"
      ],
      "text/plain": [
       "┏━━━━━━━━━━━━━━━━━━━━━━━━━━━━━━━━━┳━━━━━━━━━━━━━━━━━━━━━━━━┳━━━━━━━━━━━━━━━┓\n",
       "┃\u001b[1m \u001b[0m\u001b[1mLayer (type)                   \u001b[0m\u001b[1m \u001b[0m┃\u001b[1m \u001b[0m\u001b[1mOutput Shape          \u001b[0m\u001b[1m \u001b[0m┃\u001b[1m \u001b[0m\u001b[1m      Param #\u001b[0m\u001b[1m \u001b[0m┃\n",
       "┡━━━━━━━━━━━━━━━━━━━━━━━━━━━━━━━━━╇━━━━━━━━━━━━━━━━━━━━━━━━╇━━━━━━━━━━━━━━━┩\n",
       "│ dense_21 (\u001b[38;5;33mDense\u001b[0m)                │ (\u001b[38;5;45mNone\u001b[0m, \u001b[38;5;34m512\u001b[0m)            │        \u001b[38;5;34m94,720\u001b[0m │\n",
       "├─────────────────────────────────┼────────────────────────┼───────────────┤\n",
       "│ batch_normalization_6           │ (\u001b[38;5;45mNone\u001b[0m, \u001b[38;5;34m512\u001b[0m)            │         \u001b[38;5;34m2,048\u001b[0m │\n",
       "│ (\u001b[38;5;33mBatchNormalization\u001b[0m)            │                        │               │\n",
       "├─────────────────────────────────┼────────────────────────┼───────────────┤\n",
       "│ dropout_6 (\u001b[38;5;33mDropout\u001b[0m)             │ (\u001b[38;5;45mNone\u001b[0m, \u001b[38;5;34m512\u001b[0m)            │             \u001b[38;5;34m0\u001b[0m │\n",
       "├─────────────────────────────────┼────────────────────────┼───────────────┤\n",
       "│ dense_22 (\u001b[38;5;33mDense\u001b[0m)                │ (\u001b[38;5;45mNone\u001b[0m, \u001b[38;5;34m256\u001b[0m)            │       \u001b[38;5;34m131,328\u001b[0m │\n",
       "├─────────────────────────────────┼────────────────────────┼───────────────┤\n",
       "│ batch_normalization_7           │ (\u001b[38;5;45mNone\u001b[0m, \u001b[38;5;34m256\u001b[0m)            │         \u001b[38;5;34m1,024\u001b[0m │\n",
       "│ (\u001b[38;5;33mBatchNormalization\u001b[0m)            │                        │               │\n",
       "├─────────────────────────────────┼────────────────────────┼───────────────┤\n",
       "│ dropout_7 (\u001b[38;5;33mDropout\u001b[0m)             │ (\u001b[38;5;45mNone\u001b[0m, \u001b[38;5;34m256\u001b[0m)            │             \u001b[38;5;34m0\u001b[0m │\n",
       "├─────────────────────────────────┼────────────────────────┼───────────────┤\n",
       "│ dense_23 (\u001b[38;5;33mDense\u001b[0m)                │ (\u001b[38;5;45mNone\u001b[0m, \u001b[38;5;34m128\u001b[0m)            │        \u001b[38;5;34m32,896\u001b[0m │\n",
       "├─────────────────────────────────┼────────────────────────┼───────────────┤\n",
       "│ batch_normalization_8           │ (\u001b[38;5;45mNone\u001b[0m, \u001b[38;5;34m128\u001b[0m)            │           \u001b[38;5;34m512\u001b[0m │\n",
       "│ (\u001b[38;5;33mBatchNormalization\u001b[0m)            │                        │               │\n",
       "├─────────────────────────────────┼────────────────────────┼───────────────┤\n",
       "│ dropout_8 (\u001b[38;5;33mDropout\u001b[0m)             │ (\u001b[38;5;45mNone\u001b[0m, \u001b[38;5;34m128\u001b[0m)            │             \u001b[38;5;34m0\u001b[0m │\n",
       "├─────────────────────────────────┼────────────────────────┼───────────────┤\n",
       "│ dense_24 (\u001b[38;5;33mDense\u001b[0m)                │ (\u001b[38;5;45mNone\u001b[0m, \u001b[38;5;34m10\u001b[0m)             │         \u001b[38;5;34m1,290\u001b[0m │\n",
       "└─────────────────────────────────┴────────────────────────┴───────────────┘\n"
      ]
     },
     "metadata": {},
     "output_type": "display_data"
    },
    {
     "data": {
      "text/html": [
       "<pre style=\"white-space:pre;overflow-x:auto;line-height:normal;font-family:Menlo,'DejaVu Sans Mono',consolas,'Courier New',monospace\"><span style=\"font-weight: bold\"> Total params: </span><span style=\"color: #00af00; text-decoration-color: #00af00\">263,818</span> (1.01 MB)\n",
       "</pre>\n"
      ],
      "text/plain": [
       "\u001b[1m Total params: \u001b[0m\u001b[38;5;34m263,818\u001b[0m (1.01 MB)\n"
      ]
     },
     "metadata": {},
     "output_type": "display_data"
    },
    {
     "data": {
      "text/html": [
       "<pre style=\"white-space:pre;overflow-x:auto;line-height:normal;font-family:Menlo,'DejaVu Sans Mono',consolas,'Courier New',monospace\"><span style=\"font-weight: bold\"> Trainable params: </span><span style=\"color: #00af00; text-decoration-color: #00af00\">262,026</span> (1023.54 KB)\n",
       "</pre>\n"
      ],
      "text/plain": [
       "\u001b[1m Trainable params: \u001b[0m\u001b[38;5;34m262,026\u001b[0m (1023.54 KB)\n"
      ]
     },
     "metadata": {},
     "output_type": "display_data"
    },
    {
     "data": {
      "text/html": [
       "<pre style=\"white-space:pre;overflow-x:auto;line-height:normal;font-family:Menlo,'DejaVu Sans Mono',consolas,'Courier New',monospace\"><span style=\"font-weight: bold\"> Non-trainable params: </span><span style=\"color: #00af00; text-decoration-color: #00af00\">1,792</span> (7.00 KB)\n",
       "</pre>\n"
      ],
      "text/plain": [
       "\u001b[1m Non-trainable params: \u001b[0m\u001b[38;5;34m1,792\u001b[0m (7.00 KB)\n"
      ]
     },
     "metadata": {},
     "output_type": "display_data"
    }
   ],
   "source": [
    "from keras import metrics\n",
    "\n",
    "# Modèle\n",
    "model = Sequential()\n",
    "\n",
    "# Entrée\n",
    "model.add(layers.Input(shape=(184,)))\n",
    "\n",
    "# Couches cachées\n",
    "model.add(layers.Dense(512, activation='relu'))\n",
    "model.add(layers.BatchNormalization())\n",
    "model.add(layers.Dropout(0.3))\n",
    "\n",
    "model.add(layers.Dense(256, activation='relu'))\n",
    "model.add(layers.BatchNormalization())\n",
    "model.add(layers.Dropout(0.3))\n",
    "\n",
    "model.add(layers.Dense(128, activation='relu'))\n",
    "model.add(layers.BatchNormalization())\n",
    "model.add(layers.Dropout(0.3))\n",
    "\n",
    "# Couche de sortie : 10 classes\n",
    "model.add(layers.Dense(10, activation='softmax'))\n",
    "\n",
    "# Compilation du modèle\n",
    "model.compile(\n",
    "    optimizer='adam',\n",
    "    loss='categorical_crossentropy',  # ou 'sparse_categorical_crossentropy' si tes labels sont des entiers\n",
    "    metrics=[\n",
    "        'accuracy',\n",
    "        metrics.Precision(name='precision'),\n",
    "        metrics.Recall(name='recall'),\n",
    "        metrics.AUC(name='auc'),\n",
    "        metrics.TopKCategoricalAccuracy(k=5, name='top_5_accuracy')\n",
    "    ]\n",
    ")\n",
    "\n",
    "# Affichage du résumé\n",
    "model.summary()"
   ]
  },
  {
   "cell_type": "code",
   "execution_count": 31,
   "id": "5ba2e0a8",
   "metadata": {},
   "outputs": [],
   "source": [
    "# model.compile(\n",
    "#     optimizer='adam',\n",
    "#     loss='categorical_crossentropy',\n",
    "#     metrics=['accuracy', 'precision', 'recall'])"
   ]
  },
  {
   "cell_type": "code",
   "execution_count": 41,
   "id": "3ad64e3b",
   "metadata": {},
   "outputs": [
    {
     "name": "stdout",
     "output_type": "stream",
     "text": [
      "Epoch 1/100\n",
      "\u001b[1m4764/4764\u001b[0m \u001b[32m━━━━━━━━━━━━━━━━━━━━\u001b[0m\u001b[37m\u001b[0m \u001b[1m12s\u001b[0m 2ms/step - accuracy: 0.1800 - auc: 0.6768 - loss: 2.2172 - precision: 0.1694 - recall: 0.0089 - top_5_accuracy: 0.7406 - val_accuracy: 0.2113 - val_auc: 0.7369 - val_loss: 1.9677 - val_precision: 0.5000 - val_recall: 7.8728e-05 - val_top_5_accuracy: 0.8159\n",
      "Epoch 2/100\n",
      "\u001b[1m4764/4764\u001b[0m \u001b[32m━━━━━━━━━━━━━━━━━━━━\u001b[0m\u001b[37m\u001b[0m \u001b[1m10s\u001b[0m 2ms/step - accuracy: 0.2071 - auc: 0.7330 - loss: 1.9787 - precision: 0.1068 - recall: 2.0463e-05 - top_5_accuracy: 0.8129 - val_accuracy: 0.2112 - val_auc: 0.7409 - val_loss: 1.9573 - val_precision: 0.4634 - val_recall: 9.9722e-04 - val_top_5_accuracy: 0.8232\n",
      "Epoch 3/100\n",
      "\u001b[1m4764/4764\u001b[0m \u001b[32m━━━━━━━━━━━━━━━━━━━━\u001b[0m\u001b[37m\u001b[0m \u001b[1m10s\u001b[0m 2ms/step - accuracy: 0.2088 - auc: 0.7388 - loss: 1.9636 - precision: 0.1550 - recall: 4.0979e-05 - top_5_accuracy: 0.8187 - val_accuracy: 0.2153 - val_auc: 0.7423 - val_loss: 1.9544 - val_precision: 0.6495 - val_recall: 0.0017 - val_top_5_accuracy: 0.8226\n",
      "Epoch 4/100\n",
      "\u001b[1m4764/4764\u001b[0m \u001b[32m━━━━━━━━━━━━━━━━━━━━\u001b[0m\u001b[37m\u001b[0m \u001b[1m10s\u001b[0m 2ms/step - accuracy: 0.2153 - auc: 0.7415 - loss: 1.9558 - precision: 0.4158 - recall: 1.5927e-04 - top_5_accuracy: 0.8212 - val_accuracy: 0.2223 - val_auc: 0.7479 - val_loss: 1.9391 - val_precision: 0.5684 - val_recall: 0.0014 - val_top_5_accuracy: 0.8280\n",
      "Epoch 5/100\n",
      "\u001b[1m4764/4764\u001b[0m \u001b[32m━━━━━━━━━━━━━━━━━━━━\u001b[0m\u001b[37m\u001b[0m \u001b[1m10s\u001b[0m 2ms/step - accuracy: 0.2208 - auc: 0.7454 - loss: 1.9476 - precision: 0.4941 - recall: 2.6547e-04 - top_5_accuracy: 0.8237 - val_accuracy: 0.2235 - val_auc: 0.7485 - val_loss: 1.9386 - val_precision: 0.5552 - val_recall: 0.0042 - val_top_5_accuracy: 0.8296\n",
      "Epoch 6/100\n",
      "\u001b[1m4764/4764\u001b[0m \u001b[32m━━━━━━━━━━━━━━━━━━━━\u001b[0m\u001b[37m\u001b[0m \u001b[1m10s\u001b[0m 2ms/step - accuracy: 0.2269 - auc: 0.7491 - loss: 1.9380 - precision: 0.6120 - recall: 9.1632e-04 - top_5_accuracy: 0.8271 - val_accuracy: 0.2254 - val_auc: 0.7500 - val_loss: 1.9353 - val_precision: 0.5577 - val_recall: 0.0046 - val_top_5_accuracy: 0.8297\n",
      "Epoch 7/100\n",
      "\u001b[1m4764/4764\u001b[0m \u001b[32m━━━━━━━━━━━━━━━━━━━━\u001b[0m\u001b[37m\u001b[0m \u001b[1m11s\u001b[0m 2ms/step - accuracy: 0.2277 - auc: 0.7517 - loss: 1.9306 - precision: 0.6039 - recall: 0.0016 - top_5_accuracy: 0.8303 - val_accuracy: 0.2290 - val_auc: 0.7534 - val_loss: 1.9259 - val_precision: 0.5723 - val_recall: 0.0049 - val_top_5_accuracy: 0.8339\n",
      "Epoch 8/100\n",
      "\u001b[1m4764/4764\u001b[0m \u001b[32m━━━━━━━━━━━━━━━━━━━━\u001b[0m\u001b[37m\u001b[0m \u001b[1m11s\u001b[0m 2ms/step - accuracy: 0.2323 - auc: 0.7553 - loss: 1.9207 - precision: 0.5959 - recall: 0.0024 - top_5_accuracy: 0.8349 - val_accuracy: 0.2301 - val_auc: 0.7526 - val_loss: 1.9271 - val_precision: 0.5572 - val_recall: 0.0059 - val_top_5_accuracy: 0.8303\n",
      "Epoch 9/100\n",
      "\u001b[1m4764/4764\u001b[0m \u001b[32m━━━━━━━━━━━━━━━━━━━━\u001b[0m\u001b[37m\u001b[0m \u001b[1m10s\u001b[0m 2ms/step - accuracy: 0.2379 - auc: 0.7573 - loss: 1.9162 - precision: 0.5798 - recall: 0.0030 - top_5_accuracy: 0.8348 - val_accuracy: 0.2304 - val_auc: 0.7544 - val_loss: 1.9237 - val_precision: 0.5857 - val_recall: 0.0069 - val_top_5_accuracy: 0.8329\n",
      "Epoch 10/100\n",
      "\u001b[1m4764/4764\u001b[0m \u001b[32m━━━━━━━━━━━━━━━━━━━━\u001b[0m\u001b[37m\u001b[0m \u001b[1m10s\u001b[0m 2ms/step - accuracy: 0.2396 - auc: 0.7584 - loss: 1.9132 - precision: 0.6396 - recall: 0.0038 - top_5_accuracy: 0.8360 - val_accuracy: 0.2349 - val_auc: 0.7554 - val_loss: 1.9214 - val_precision: 0.5682 - val_recall: 0.0067 - val_top_5_accuracy: 0.8352\n",
      "Epoch 11/100\n",
      "\u001b[1m4764/4764\u001b[0m \u001b[32m━━━━━━━━━━━━━━━━━━━━\u001b[0m\u001b[37m\u001b[0m \u001b[1m10s\u001b[0m 2ms/step - accuracy: 0.2385 - auc: 0.7597 - loss: 1.9093 - precision: 0.6485 - recall: 0.0044 - top_5_accuracy: 0.8364 - val_accuracy: 0.2352 - val_auc: 0.7555 - val_loss: 1.9215 - val_precision: 0.5637 - val_recall: 0.0093 - val_top_5_accuracy: 0.8341\n",
      "Epoch 12/100\n",
      "\u001b[1m4764/4764\u001b[0m \u001b[32m━━━━━━━━━━━━━━━━━━━━\u001b[0m\u001b[37m\u001b[0m \u001b[1m9s\u001b[0m 2ms/step - accuracy: 0.2459 - auc: 0.7619 - loss: 1.9024 - precision: 0.6101 - recall: 0.0059 - top_5_accuracy: 0.8383 - val_accuracy: 0.2394 - val_auc: 0.7564 - val_loss: 1.9189 - val_precision: 0.5589 - val_recall: 0.0102 - val_top_5_accuracy: 0.8336\n",
      "Epoch 13/100\n",
      "\u001b[1m4764/4764\u001b[0m \u001b[32m━━━━━━━━━━━━━━━━━━━━\u001b[0m\u001b[37m\u001b[0m \u001b[1m9s\u001b[0m 2ms/step - accuracy: 0.2488 - auc: 0.7644 - loss: 1.8967 - precision: 0.6246 - recall: 0.0067 - top_5_accuracy: 0.8404 - val_accuracy: 0.2392 - val_auc: 0.7568 - val_loss: 1.9178 - val_precision: 0.5448 - val_recall: 0.0124 - val_top_5_accuracy: 0.8358\n",
      "Epoch 14/100\n",
      "\u001b[1m4764/4764\u001b[0m \u001b[32m━━━━━━━━━━━━━━━━━━━━\u001b[0m\u001b[37m\u001b[0m \u001b[1m9s\u001b[0m 2ms/step - accuracy: 0.2498 - auc: 0.7657 - loss: 1.8917 - precision: 0.6191 - recall: 0.0081 - top_5_accuracy: 0.8413 - val_accuracy: 0.2424 - val_auc: 0.7579 - val_loss: 1.9157 - val_precision: 0.5511 - val_recall: 0.0122 - val_top_5_accuracy: 0.8359\n",
      "Epoch 15/100\n",
      "\u001b[1m4764/4764\u001b[0m \u001b[32m━━━━━━━━━━━━━━━━━━━━\u001b[0m\u001b[37m\u001b[0m \u001b[1m291s\u001b[0m 61ms/step - accuracy: 0.2503 - auc: 0.7673 - loss: 1.8864 - precision: 0.6179 - recall: 0.0082 - top_5_accuracy: 0.8430 - val_accuracy: 0.2423 - val_auc: 0.7595 - val_loss: 1.9111 - val_precision: 0.5699 - val_recall: 0.0150 - val_top_5_accuracy: 0.8372\n",
      "Epoch 16/100\n",
      "\u001b[1m4764/4764\u001b[0m \u001b[32m━━━━━━━━━━━━━━━━━━━━\u001b[0m\u001b[37m\u001b[0m \u001b[1m10s\u001b[0m 2ms/step - accuracy: 0.2560 - auc: 0.7690 - loss: 1.8814 - precision: 0.6511 - recall: 0.0112 - top_5_accuracy: 0.8438 - val_accuracy: 0.2450 - val_auc: 0.7592 - val_loss: 1.9139 - val_precision: 0.5314 - val_recall: 0.0177 - val_top_5_accuracy: 0.8365\n",
      "Epoch 17/100\n",
      "\u001b[1m4764/4764\u001b[0m \u001b[32m━━━━━━━━━━━━━━━━━━━━\u001b[0m\u001b[37m\u001b[0m \u001b[1m10s\u001b[0m 2ms/step - accuracy: 0.2581 - auc: 0.7693 - loss: 1.8805 - precision: 0.6169 - recall: 0.0115 - top_5_accuracy: 0.8445 - val_accuracy: 0.2422 - val_auc: 0.7599 - val_loss: 1.9103 - val_precision: 0.5580 - val_recall: 0.0179 - val_top_5_accuracy: 0.8374\n",
      "Epoch 18/100\n",
      "\u001b[1m4764/4764\u001b[0m \u001b[32m━━━━━━━━━━━━━━━━━━━━\u001b[0m\u001b[37m\u001b[0m \u001b[1m10s\u001b[0m 2ms/step - accuracy: 0.2594 - auc: 0.7709 - loss: 1.8747 - precision: 0.6312 - recall: 0.0135 - top_5_accuracy: 0.8460 - val_accuracy: 0.2458 - val_auc: 0.7597 - val_loss: 1.9102 - val_precision: 0.5594 - val_recall: 0.0194 - val_top_5_accuracy: 0.8349\n",
      "Epoch 19/100\n",
      "\u001b[1m4764/4764\u001b[0m \u001b[32m━━━━━━━━━━━━━━━━━━━━\u001b[0m\u001b[37m\u001b[0m \u001b[1m10s\u001b[0m 2ms/step - accuracy: 0.2603 - auc: 0.7723 - loss: 1.8710 - precision: 0.6231 - recall: 0.0142 - top_5_accuracy: 0.8458 - val_accuracy: 0.2492 - val_auc: 0.7608 - val_loss: 1.9079 - val_precision: 0.5721 - val_recall: 0.0209 - val_top_5_accuracy: 0.8379\n",
      "Epoch 20/100\n",
      "\u001b[1m4764/4764\u001b[0m \u001b[32m━━━━━━━━━━━━━━━━━━━━\u001b[0m\u001b[37m\u001b[0m \u001b[1m521s\u001b[0m 109ms/step - accuracy: 0.2652 - auc: 0.7736 - loss: 1.8667 - precision: 0.6454 - recall: 0.0174 - top_5_accuracy: 0.8480 - val_accuracy: 0.2477 - val_auc: 0.7608 - val_loss: 1.9089 - val_precision: 0.5537 - val_recall: 0.0203 - val_top_5_accuracy: 0.8372\n",
      "Epoch 21/100\n",
      "\u001b[1m4764/4764\u001b[0m \u001b[32m━━━━━━━━━━━━━━━━━━━━\u001b[0m\u001b[37m\u001b[0m \u001b[1m10s\u001b[0m 2ms/step - accuracy: 0.2660 - auc: 0.7744 - loss: 1.8634 - precision: 0.6316 - recall: 0.0181 - top_5_accuracy: 0.8476 - val_accuracy: 0.2484 - val_auc: 0.7602 - val_loss: 1.9151 - val_precision: 0.5327 - val_recall: 0.0254 - val_top_5_accuracy: 0.8370\n",
      "Epoch 22/100\n",
      "\u001b[1m4764/4764\u001b[0m \u001b[32m━━━━━━━━━━━━━━━━━━━━\u001b[0m\u001b[37m\u001b[0m \u001b[1m10s\u001b[0m 2ms/step - accuracy: 0.2654 - auc: 0.7749 - loss: 1.8627 - precision: 0.6348 - recall: 0.0190 - top_5_accuracy: 0.8484 - val_accuracy: 0.2485 - val_auc: 0.7618 - val_loss: 1.9078 - val_precision: 0.5533 - val_recall: 0.0263 - val_top_5_accuracy: 0.8388\n",
      "Epoch 23/100\n",
      "\u001b[1m4764/4764\u001b[0m \u001b[32m━━━━━━━━━━━━━━━━━━━━\u001b[0m\u001b[37m\u001b[0m \u001b[1m10s\u001b[0m 2ms/step - accuracy: 0.2706 - auc: 0.7760 - loss: 1.8588 - precision: 0.6423 - recall: 0.0223 - top_5_accuracy: 0.8469 - val_accuracy: 0.2506 - val_auc: 0.7613 - val_loss: 1.9132 - val_precision: 0.5445 - val_recall: 0.0282 - val_top_5_accuracy: 0.8379\n",
      "Epoch 24/100\n",
      "\u001b[1m4764/4764\u001b[0m \u001b[32m━━━━━━━━━━━━━━━━━━━━\u001b[0m\u001b[37m\u001b[0m \u001b[1m10s\u001b[0m 2ms/step - accuracy: 0.2718 - auc: 0.7768 - loss: 1.8572 - precision: 0.6389 - recall: 0.0225 - top_5_accuracy: 0.8497 - val_accuracy: 0.2499 - val_auc: 0.7611 - val_loss: 1.9105 - val_precision: 0.5657 - val_recall: 0.0288 - val_top_5_accuracy: 0.8367\n",
      "Epoch 25/100\n",
      "\u001b[1m4764/4764\u001b[0m \u001b[32m━━━━━━━━━━━━━━━━━━━━\u001b[0m\u001b[37m\u001b[0m \u001b[1m917s\u001b[0m 193ms/step - accuracy: 0.2681 - auc: 0.7776 - loss: 1.8544 - precision: 0.6355 - recall: 0.0228 - top_5_accuracy: 0.8512 - val_accuracy: 0.2474 - val_auc: 0.7613 - val_loss: 1.9166 - val_precision: 0.5365 - val_recall: 0.0337 - val_top_5_accuracy: 0.8365\n",
      "Epoch 26/100\n",
      "\u001b[1m4764/4764\u001b[0m \u001b[32m━━━━━━━━━━━━━━━━━━━━\u001b[0m\u001b[37m\u001b[0m \u001b[1m10s\u001b[0m 2ms/step - accuracy: 0.2706 - auc: 0.7784 - loss: 1.8522 - precision: 0.6595 - recall: 0.0263 - top_5_accuracy: 0.8505 - val_accuracy: 0.2508 - val_auc: 0.7629 - val_loss: 1.9057 - val_precision: 0.5803 - val_recall: 0.0287 - val_top_5_accuracy: 0.8364\n",
      "Epoch 27/100\n",
      "\u001b[1m4764/4764\u001b[0m \u001b[32m━━━━━━━━━━━━━━━━━━━━\u001b[0m\u001b[37m\u001b[0m \u001b[1m10s\u001b[0m 2ms/step - accuracy: 0.2743 - auc: 0.7799 - loss: 1.8475 - precision: 0.6380 - recall: 0.0254 - top_5_accuracy: 0.8513 - val_accuracy: 0.2539 - val_auc: 0.7626 - val_loss: 1.9094 - val_precision: 0.5441 - val_recall: 0.0334 - val_top_5_accuracy: 0.8383\n",
      "Epoch 28/100\n",
      "\u001b[1m4764/4764\u001b[0m \u001b[32m━━━━━━━━━━━━━━━━━━━━\u001b[0m\u001b[37m\u001b[0m \u001b[1m10s\u001b[0m 2ms/step - accuracy: 0.2753 - auc: 0.7799 - loss: 1.8452 - precision: 0.6705 - recall: 0.0296 - top_5_accuracy: 0.8509 - val_accuracy: 0.2525 - val_auc: 0.7634 - val_loss: 1.9071 - val_precision: 0.5547 - val_recall: 0.0329 - val_top_5_accuracy: 0.8387\n",
      "Epoch 29/100\n",
      "\u001b[1m4764/4764\u001b[0m \u001b[32m━━━━━━━━━━━━━━━━━━━━\u001b[0m\u001b[37m\u001b[0m \u001b[1m10s\u001b[0m 2ms/step - accuracy: 0.2807 - auc: 0.7816 - loss: 1.8405 - precision: 0.6488 - recall: 0.0311 - top_5_accuracy: 0.8524 - val_accuracy: 0.2532 - val_auc: 0.7637 - val_loss: 1.9073 - val_precision: 0.5491 - val_recall: 0.0358 - val_top_5_accuracy: 0.8387\n",
      "Epoch 30/100\n",
      "\u001b[1m4764/4764\u001b[0m \u001b[32m━━━━━━━━━━━━━━━━━━━━\u001b[0m\u001b[37m\u001b[0m \u001b[1m986s\u001b[0m 207ms/step - accuracy: 0.2752 - auc: 0.7813 - loss: 1.8410 - precision: 0.6495 - recall: 0.0299 - top_5_accuracy: 0.8529 - val_accuracy: 0.2557 - val_auc: 0.7631 - val_loss: 1.9057 - val_precision: 0.5596 - val_recall: 0.0353 - val_top_5_accuracy: 0.8384\n",
      "Epoch 31/100\n",
      "\u001b[1m4764/4764\u001b[0m \u001b[32m━━━━━━━━━━━━━━━━━━━━\u001b[0m\u001b[37m\u001b[0m \u001b[1m10s\u001b[0m 2ms/step - accuracy: 0.2799 - auc: 0.7824 - loss: 1.8375 - precision: 0.6512 - recall: 0.0321 - top_5_accuracy: 0.8535 - val_accuracy: 0.2526 - val_auc: 0.7640 - val_loss: 1.9048 - val_precision: 0.5573 - val_recall: 0.0337 - val_top_5_accuracy: 0.8376\n",
      "Epoch 32/100\n",
      "\u001b[1m4764/4764\u001b[0m \u001b[32m━━━━━━━━━━━━━━━━━━━━\u001b[0m\u001b[37m\u001b[0m \u001b[1m10s\u001b[0m 2ms/step - accuracy: 0.2822 - auc: 0.7833 - loss: 1.8341 - precision: 0.6549 - recall: 0.0341 - top_5_accuracy: 0.8527 - val_accuracy: 0.2546 - val_auc: 0.7641 - val_loss: 1.9023 - val_precision: 0.5732 - val_recall: 0.0334 - val_top_5_accuracy: 0.8365\n",
      "Epoch 33/100\n",
      "\u001b[1m4764/4764\u001b[0m \u001b[32m━━━━━━━━━━━━━━━━━━━━\u001b[0m\u001b[37m\u001b[0m \u001b[1m10s\u001b[0m 2ms/step - accuracy: 0.2820 - auc: 0.7841 - loss: 1.8327 - precision: 0.6589 - recall: 0.0343 - top_5_accuracy: 0.8538 - val_accuracy: 0.2572 - val_auc: 0.7643 - val_loss: 1.9091 - val_precision: 0.5307 - val_recall: 0.0383 - val_top_5_accuracy: 0.8369\n",
      "Epoch 34/100\n",
      "\u001b[1m4764/4764\u001b[0m \u001b[32m━━━━━━━━━━━━━━━━━━━━\u001b[0m\u001b[37m\u001b[0m \u001b[1m10s\u001b[0m 2ms/step - accuracy: 0.2808 - auc: 0.7836 - loss: 1.8338 - precision: 0.6540 - recall: 0.0352 - top_5_accuracy: 0.8531 - val_accuracy: 0.2544 - val_auc: 0.7640 - val_loss: 1.9084 - val_precision: 0.5539 - val_recall: 0.0379 - val_top_5_accuracy: 0.8379\n",
      "Epoch 35/100\n",
      "\u001b[1m4764/4764\u001b[0m \u001b[32m━━━━━━━━━━━━━━━━━━━━\u001b[0m\u001b[37m\u001b[0m \u001b[1m10s\u001b[0m 2ms/step - accuracy: 0.2854 - auc: 0.7866 - loss: 1.8230 - precision: 0.6704 - recall: 0.0380 - top_5_accuracy: 0.8568 - val_accuracy: 0.2572 - val_auc: 0.7644 - val_loss: 1.9069 - val_precision: 0.5469 - val_recall: 0.0407 - val_top_5_accuracy: 0.8393\n",
      "Epoch 36/100\n",
      "\u001b[1m4764/4764\u001b[0m \u001b[32m━━━━━━━━━━━━━━━━━━━━\u001b[0m\u001b[37m\u001b[0m \u001b[1m10s\u001b[0m 2ms/step - accuracy: 0.2862 - auc: 0.7853 - loss: 1.8278 - precision: 0.6641 - recall: 0.0377 - top_5_accuracy: 0.8558 - val_accuracy: 0.2560 - val_auc: 0.7644 - val_loss: 1.9061 - val_precision: 0.5660 - val_recall: 0.0400 - val_top_5_accuracy: 0.8368\n",
      "Epoch 37/100\n",
      "\u001b[1m4764/4764\u001b[0m \u001b[32m━━━━━━━━━━━━━━━━━━━━\u001b[0m\u001b[37m\u001b[0m \u001b[1m11s\u001b[0m 2ms/step - accuracy: 0.2850 - auc: 0.7852 - loss: 1.8274 - precision: 0.6642 - recall: 0.0386 - top_5_accuracy: 0.8538 - val_accuracy: 0.2548 - val_auc: 0.7646 - val_loss: 1.9078 - val_precision: 0.5430 - val_recall: 0.0404 - val_top_5_accuracy: 0.8387\n",
      "Epoch 38/100\n",
      "\u001b[1m4764/4764\u001b[0m \u001b[32m━━━━━━━━━━━━━━━━━━━━\u001b[0m\u001b[37m\u001b[0m \u001b[1m10s\u001b[0m 2ms/step - accuracy: 0.2861 - auc: 0.7861 - loss: 1.8242 - precision: 0.6643 - recall: 0.0402 - top_5_accuracy: 0.8550 - val_accuracy: 0.2551 - val_auc: 0.7635 - val_loss: 1.9139 - val_precision: 0.5397 - val_recall: 0.0436 - val_top_5_accuracy: 0.8365\n",
      "Epoch 39/100\n",
      "\u001b[1m4764/4764\u001b[0m \u001b[32m━━━━━━━━━━━━━━━━━━━━\u001b[0m\u001b[37m\u001b[0m \u001b[1m10s\u001b[0m 2ms/step - accuracy: 0.2906 - auc: 0.7875 - loss: 1.8204 - precision: 0.6618 - recall: 0.0424 - top_5_accuracy: 0.8563 - val_accuracy: 0.2549 - val_auc: 0.7647 - val_loss: 1.9069 - val_precision: 0.5670 - val_recall: 0.0415 - val_top_5_accuracy: 0.8402\n",
      "Epoch 40/100\n",
      "\u001b[1m4764/4764\u001b[0m \u001b[32m━━━━━━━━━━━━━━━━━━━━\u001b[0m\u001b[37m\u001b[0m \u001b[1m10s\u001b[0m 2ms/step - accuracy: 0.2857 - auc: 0.7863 - loss: 1.8230 - precision: 0.6723 - recall: 0.0412 - top_5_accuracy: 0.8556 - val_accuracy: 0.2583 - val_auc: 0.7647 - val_loss: 1.9084 - val_precision: 0.5506 - val_recall: 0.0437 - val_top_5_accuracy: 0.8389\n",
      "Epoch 41/100\n",
      "\u001b[1m4764/4764\u001b[0m \u001b[32m━━━━━━━━━━━━━━━━━━━━\u001b[0m\u001b[37m\u001b[0m \u001b[1m11s\u001b[0m 2ms/step - accuracy: 0.2854 - auc: 0.7867 - loss: 1.8233 - precision: 0.6596 - recall: 0.0421 - top_5_accuracy: 0.8560 - val_accuracy: 0.2580 - val_auc: 0.7651 - val_loss: 1.9046 - val_precision: 0.5619 - val_recall: 0.0435 - val_top_5_accuracy: 0.8384\n",
      "Epoch 42/100\n",
      "\u001b[1m4764/4764\u001b[0m \u001b[32m━━━━━━━━━━━━━━━━━━━━\u001b[0m\u001b[37m\u001b[0m \u001b[1m10s\u001b[0m 2ms/step - accuracy: 0.2885 - auc: 0.7887 - loss: 1.8156 - precision: 0.6585 - recall: 0.0450 - top_5_accuracy: 0.8585 - val_accuracy: 0.2586 - val_auc: 0.7661 - val_loss: 1.9039 - val_precision: 0.5565 - val_recall: 0.0467 - val_top_5_accuracy: 0.8391\n"
     ]
    }
   ],
   "source": [
    "es = EarlyStopping(patience=10, restore_best_weights=True)\n",
    "\n",
    "history = model.fit(\n",
    "        X_train_preproc, y_train_cat,\n",
    "        validation_split=0.2,\n",
    "        batch_size=32,\n",
    "        epochs=100,\n",
    "        callbacks=[es],\n",
    "        verbose=1)"
   ]
  },
  {
   "cell_type": "code",
   "execution_count": null,
   "id": "94db701a",
   "metadata": {},
   "outputs": [],
   "source": []
  }
 ],
 "metadata": {
  "kernelspec": {
   "display_name": "decp_ml_env",
   "language": "python",
   "name": "python3"
  },
  "language_info": {
   "codemirror_mode": {
    "name": "ipython",
    "version": 3
   },
   "file_extension": ".py",
   "mimetype": "text/x-python",
   "name": "python",
   "nbconvert_exporter": "python",
   "pygments_lexer": "ipython3",
   "version": "3.10.6"
  }
 },
 "nbformat": 4,
 "nbformat_minor": 5
}
