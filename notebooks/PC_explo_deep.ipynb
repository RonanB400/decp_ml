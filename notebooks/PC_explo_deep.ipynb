{
 "cells": [
  {
   "cell_type": "code",
   "execution_count": 1,
   "id": "8a110434",
   "metadata": {},
   "outputs": [],
   "source": [
    "import pandas as pd\n",
    "import numpy as np\n",
    "import os\n",
    "import sys\n",
    "import matplotlib.pyplot as plt\n",
    "\n",
    "from sklearn.model_selection import train_test_split\n",
    "\n",
    "from keras import Sequential, layers\n",
    "from keras.callbacks import EarlyStopping, ReduceLROnPlateau"
   ]
  },
  {
   "cell_type": "code",
   "execution_count": 2,
   "id": "62dd90bd",
   "metadata": {},
   "outputs": [
    {
     "name": "stderr",
     "output_type": "stream",
     "text": [
      "/var/folders/nj/s1c8f0tj3ksfjdg8xyxr6rdc0000gn/T/ipykernel_53242/2597316256.py:1: DtypeWarning: Columns (38) have mixed types. Specify dtype option on import or set low_memory=False.\n",
      "  df = pd.read_csv('../data/data_clean.csv')\n"
     ]
    },
    {
     "data": {
      "text/html": [
       "<div>\n",
       "<style scoped>\n",
       "    .dataframe tbody tr th:only-of-type {\n",
       "        vertical-align: middle;\n",
       "    }\n",
       "\n",
       "    .dataframe tbody tr th {\n",
       "        vertical-align: top;\n",
       "    }\n",
       "\n",
       "    .dataframe thead th {\n",
       "        text-align: right;\n",
       "    }\n",
       "</style>\n",
       "<table border=\"1\" class=\"dataframe\">\n",
       "  <thead>\n",
       "    <tr style=\"text-align: right;\">\n",
       "      <th></th>\n",
       "      <th>uid</th>\n",
       "      <th>id</th>\n",
       "      <th>nature</th>\n",
       "      <th>acheteur_id</th>\n",
       "      <th>acheteur_nom</th>\n",
       "      <th>acheteur_siren</th>\n",
       "      <th>titulaire_id</th>\n",
       "      <th>titulaire_typeIdentifiant</th>\n",
       "      <th>titulaire_nom</th>\n",
       "      <th>titulaire_siren</th>\n",
       "      <th>...</th>\n",
       "      <th>codeCPV_2</th>\n",
       "      <th>codeCPV_3</th>\n",
       "      <th>codeCPV_4</th>\n",
       "      <th>codeCPV_5</th>\n",
       "      <th>codeCPV_2_3</th>\n",
       "      <th>annee</th>\n",
       "      <th>acheteur_tranche_effectif</th>\n",
       "      <th>acheteur_categorie</th>\n",
       "      <th>titulaire_tranche_effectif</th>\n",
       "      <th>titulaire_categorie</th>\n",
       "    </tr>\n",
       "  </thead>\n",
       "  <tbody>\n",
       "    <tr>\n",
       "      <th>0</th>\n",
       "      <td>2154005160001320242024-LOT04</td>\n",
       "      <td>20242024-LOT04</td>\n",
       "      <td>Marché</td>\n",
       "      <td>21540051600013</td>\n",
       "      <td>COMMUNE DE BATILLY</td>\n",
       "      <td>215400516.0</td>\n",
       "      <td>78885470100018</td>\n",
       "      <td>SIRET</td>\n",
       "      <td>ACOMETAL</td>\n",
       "      <td>788854701.0</td>\n",
       "      <td>...</td>\n",
       "      <td>45000000</td>\n",
       "      <td>45200000</td>\n",
       "      <td>45260000</td>\n",
       "      <td>45261000</td>\n",
       "      <td>45200000</td>\n",
       "      <td>2024</td>\n",
       "      <td>12</td>\n",
       "      <td>PME</td>\n",
       "      <td>03</td>\n",
       "      <td>PME</td>\n",
       "    </tr>\n",
       "    <tr>\n",
       "      <th>1</th>\n",
       "      <td>243500667002882021M226MO</td>\n",
       "      <td>2021M226MO</td>\n",
       "      <td>Marché</td>\n",
       "      <td>24350066700288</td>\n",
       "      <td>CC VAL D'ILLE-AUBIGNE</td>\n",
       "      <td>243500667.0</td>\n",
       "      <td>38373211200032</td>\n",
       "      <td>SIRET</td>\n",
       "      <td>UNIVERS</td>\n",
       "      <td>383732112.0</td>\n",
       "      <td>...</td>\n",
       "      <td>71000000</td>\n",
       "      <td>71200000</td>\n",
       "      <td>71200000</td>\n",
       "      <td>71200000</td>\n",
       "      <td>71200000</td>\n",
       "      <td>2021</td>\n",
       "      <td>22</td>\n",
       "      <td>PME</td>\n",
       "      <td>03</td>\n",
       "      <td>PME</td>\n",
       "    </tr>\n",
       "    <tr>\n",
       "      <th>2</th>\n",
       "      <td>249710047000472024SS_PRD_TRV</td>\n",
       "      <td>2024SS_PRD_TRV</td>\n",
       "      <td>Marché</td>\n",
       "      <td>24971004700047</td>\n",
       "      <td>COMMUNAUTE DE COMMUNES DE MARIE GALANTE</td>\n",
       "      <td>249710047.0</td>\n",
       "      <td>43387249600016</td>\n",
       "      <td>SIRET</td>\n",
       "      <td>COTRAM B.T.P.</td>\n",
       "      <td>433872496.0</td>\n",
       "      <td>...</td>\n",
       "      <td>45000000</td>\n",
       "      <td>45200000</td>\n",
       "      <td>45230000</td>\n",
       "      <td>45232000</td>\n",
       "      <td>45200000</td>\n",
       "      <td>2024</td>\n",
       "      <td>12</td>\n",
       "      <td>PME</td>\n",
       "      <td>12</td>\n",
       "      <td>PME</td>\n",
       "    </tr>\n",
       "    <tr>\n",
       "      <th>3</th>\n",
       "      <td>6254801990001124-0806-L2</td>\n",
       "      <td>24-0806-L2</td>\n",
       "      <td>Marché</td>\n",
       "      <td>62548019900011</td>\n",
       "      <td>LA MAISON POUR TOUS, SOCIETE ANONYME COOPERATI...</td>\n",
       "      <td>625480199.0</td>\n",
       "      <td>55204695502544</td>\n",
       "      <td>SIRET</td>\n",
       "      <td>ENGIE ENERGIE SERVICES</td>\n",
       "      <td>552046955.0</td>\n",
       "      <td>...</td>\n",
       "      <td>50000000</td>\n",
       "      <td>50700000</td>\n",
       "      <td>50720000</td>\n",
       "      <td>50720000</td>\n",
       "      <td>50000000</td>\n",
       "      <td>2024</td>\n",
       "      <td>22</td>\n",
       "      <td>ETI</td>\n",
       "      <td>53</td>\n",
       "      <td>GE</td>\n",
       "    </tr>\n",
       "    <tr>\n",
       "      <th>4</th>\n",
       "      <td>20002563300013202424011BCR</td>\n",
       "      <td>202424011BCR</td>\n",
       "      <td>Marché</td>\n",
       "      <td>20002563300013</td>\n",
       "      <td>SI DE RESTAURATION COLLECTIVE</td>\n",
       "      <td>200025633.0</td>\n",
       "      <td>47698032100238</td>\n",
       "      <td>SIRET</td>\n",
       "      <td>POMONA EPISAVEURS</td>\n",
       "      <td>476980321.0</td>\n",
       "      <td>...</td>\n",
       "      <td>15000000</td>\n",
       "      <td>15800000</td>\n",
       "      <td>15800000</td>\n",
       "      <td>15800000</td>\n",
       "      <td>15000000</td>\n",
       "      <td>2024</td>\n",
       "      <td>12</td>\n",
       "      <td>PME</td>\n",
       "      <td>42</td>\n",
       "      <td>GE</td>\n",
       "    </tr>\n",
       "  </tbody>\n",
       "</table>\n",
       "<p>5 rows × 42 columns</p>\n",
       "</div>"
      ],
      "text/plain": [
       "                            uid              id  nature     acheteur_id  \\\n",
       "0  2154005160001320242024-LOT04  20242024-LOT04  Marché  21540051600013   \n",
       "1      243500667002882021M226MO      2021M226MO  Marché  24350066700288   \n",
       "2  249710047000472024SS_PRD_TRV  2024SS_PRD_TRV  Marché  24971004700047   \n",
       "3      6254801990001124-0806-L2      24-0806-L2  Marché  62548019900011   \n",
       "4    20002563300013202424011BCR    202424011BCR  Marché  20002563300013   \n",
       "\n",
       "                                        acheteur_nom  acheteur_siren  \\\n",
       "0                                 COMMUNE DE BATILLY     215400516.0   \n",
       "1                              CC VAL D'ILLE-AUBIGNE     243500667.0   \n",
       "2            COMMUNAUTE DE COMMUNES DE MARIE GALANTE     249710047.0   \n",
       "3  LA MAISON POUR TOUS, SOCIETE ANONYME COOPERATI...     625480199.0   \n",
       "4                      SI DE RESTAURATION COLLECTIVE     200025633.0   \n",
       "\n",
       "     titulaire_id titulaire_typeIdentifiant           titulaire_nom  \\\n",
       "0  78885470100018                     SIRET                ACOMETAL   \n",
       "1  38373211200032                     SIRET                 UNIVERS   \n",
       "2  43387249600016                     SIRET           COTRAM B.T.P.   \n",
       "3  55204695502544                     SIRET  ENGIE ENERGIE SERVICES   \n",
       "4  47698032100238                     SIRET       POMONA EPISAVEURS   \n",
       "\n",
       "   titulaire_siren  ... codeCPV_2  codeCPV_3 codeCPV_4 codeCPV_5  codeCPV_2_3  \\\n",
       "0      788854701.0  ...  45000000   45200000  45260000  45261000     45200000   \n",
       "1      383732112.0  ...  71000000   71200000  71200000  71200000     71200000   \n",
       "2      433872496.0  ...  45000000   45200000  45230000  45232000     45200000   \n",
       "3      552046955.0  ...  50000000   50700000  50720000  50720000     50000000   \n",
       "4      476980321.0  ...  15000000   15800000  15800000  15800000     15000000   \n",
       "\n",
       "  annee acheteur_tranche_effectif acheteur_categorie  \\\n",
       "0  2024                        12                PME   \n",
       "1  2021                        22                PME   \n",
       "2  2024                        12                PME   \n",
       "3  2024                        22                ETI   \n",
       "4  2024                        12                PME   \n",
       "\n",
       "   titulaire_tranche_effectif  titulaire_categorie  \n",
       "0                          03                  PME  \n",
       "1                          03                  PME  \n",
       "2                          12                  PME  \n",
       "3                          53                   GE  \n",
       "4                          42                   GE  \n",
       "\n",
       "[5 rows x 42 columns]"
      ]
     },
     "execution_count": 2,
     "metadata": {},
     "output_type": "execute_result"
    }
   ],
   "source": [
    "df = pd.read_csv('../data/data_clean.csv')\n",
    "df.head(5)"
   ]
  },
  {
   "cell_type": "code",
   "execution_count": 3,
   "id": "74d53ac3",
   "metadata": {},
   "outputs": [
    {
     "name": "stdout",
     "output_type": "stream",
     "text": [
      "Filtered from 392 to 150 CPV categories, keeping 279174 rows out of 286850\n"
     ]
    }
   ],
   "source": [
    "from scripts.data_cleaner import filter_top_cpv_categories\n",
    "\n",
    "df = filter_top_cpv_categories(df, top_n=150, cpv_column='codeCPV_3')"
   ]
  },
  {
   "cell_type": "code",
   "execution_count": 4,
   "id": "e4aeed25",
   "metadata": {},
   "outputs": [
    {
     "data": {
      "text/plain": [
       "(238163, 38)"
      ]
     },
     "execution_count": 4,
     "metadata": {},
     "output_type": "execute_result"
    }
   ],
   "source": [
    "df.drop(df[df['montant'] > 999999].index, inplace=True)\n",
    "df.shape"
   ]
  },
  {
   "cell_type": "code",
   "execution_count": 5,
   "id": "9c3e3af4",
   "metadata": {},
   "outputs": [
    {
     "data": {
      "text/plain": [
       "0    11.292279\n",
       "1    10.882925\n",
       "4    13.235694\n",
       "5    11.350889\n",
       "6    12.044412\n",
       "Name: montant, dtype: float64"
      ]
     },
     "execution_count": 5,
     "metadata": {},
     "output_type": "execute_result"
    }
   ],
   "source": [
    "y = np.log1p(df['montant'])\n",
    "y.head()"
   ]
  },
  {
   "cell_type": "code",
   "execution_count": 6,
   "id": "e334a6b1",
   "metadata": {},
   "outputs": [
    {
     "data": {
      "text/plain": [
       "(238163, 39)"
      ]
     },
     "execution_count": 6,
     "metadata": {},
     "output_type": "execute_result"
    }
   ],
   "source": [
    "bins = np.linspace(y.min(), y.max(), 10)\n",
    "\n",
    "# Créer les étiquettes correspondantes\n",
    "labels = list(range(1, len(bins)))\n",
    "\n",
    "# Ajouter la colonne fourchette_de_prix\n",
    "df['bins'] = pd.cut(y, bins=bins, labels=labels, include_lowest=True, right=True)\n",
    "\n",
    "df.shape"
   ]
  },
  {
   "cell_type": "code",
   "execution_count": 52,
   "id": "72512b4b",
   "metadata": {},
   "outputs": [
    {
     "data": {
      "text/plain": [
       "array([  20001.        ,   30890.41494143,   47708.50133762,\n",
       "         73683.08597334,  113799.36502582,  175756.69245133,\n",
       "        271446.28561345,  419233.45817256,  647482.39989405,\n",
       "       1000000.        ])"
      ]
     },
     "execution_count": 52,
     "metadata": {},
     "output_type": "execute_result"
    }
   ],
   "source": [
    "np.exp(bins)"
   ]
  },
  {
   "cell_type": "code",
   "execution_count": 7,
   "id": "3d070bf6",
   "metadata": {},
   "outputs": [
    {
     "data": {
      "text/plain": [
       "0"
      ]
     },
     "execution_count": 7,
     "metadata": {},
     "output_type": "execute_result"
    }
   ],
   "source": [
    "df['bins'].isna().sum()"
   ]
  },
  {
   "cell_type": "code",
   "execution_count": 8,
   "id": "a076f1ac",
   "metadata": {},
   "outputs": [],
   "source": [
    "df['bins'] = df['bins'].astype('int')"
   ]
  },
  {
   "cell_type": "code",
   "execution_count": 9,
   "id": "e77b6460",
   "metadata": {},
   "outputs": [
    {
     "data": {
      "text/plain": [
       "<bound method Series.unique of 0         4\n",
       "1         3\n",
       "4         8\n",
       "5         4\n",
       "6         5\n",
       "         ..\n",
       "286844    3\n",
       "286845    5\n",
       "286846    2\n",
       "286848    9\n",
       "286849    2\n",
       "Name: bins, Length: 238163, dtype: int64>"
      ]
     },
     "execution_count": 9,
     "metadata": {},
     "output_type": "execute_result"
    }
   ],
   "source": [
    "df['bins'].unique"
   ]
  },
  {
   "cell_type": "code",
   "execution_count": null,
   "id": "666a27fc",
   "metadata": {},
   "outputs": [],
   "source": []
  },
  {
   "cell_type": "code",
   "execution_count": 10,
   "id": "a330256d",
   "metadata": {},
   "outputs": [
    {
     "data": {
      "text/plain": [
       "Index(['uid', 'id', 'nature', 'acheteur_id', 'acheteur_nom', 'acheteur_siren',\n",
       "       'titulaire_id', 'titulaire_typeIdentifiant', 'titulaire_nom',\n",
       "       'titulaire_siren', 'objet', 'codeCPV', 'procedure', 'dureeMois',\n",
       "       'dateNotification', 'datePublicationDonnees', 'formePrix',\n",
       "       'attributionAvance', 'offresRecues', 'marcheInnovant', 'ccag',\n",
       "       'sousTraitanceDeclaree', 'typeGroupementOperateurs', 'tauxAvance',\n",
       "       'origineUE', 'origineFrance', 'lieuExecution_code',\n",
       "       'lieuExecution_typeCode', 'idAccordCadre', 'source_open_data',\n",
       "       'codeCPV_FR', 'codeCPV_2', 'codeCPV_3', 'codeCPV_4', 'codeCPV_5',\n",
       "       'codeCPV_2_3', 'annee', 'bins'],\n",
       "      dtype='object')"
      ]
     },
     "execution_count": 10,
     "metadata": {},
     "output_type": "execute_result"
    }
   ],
   "source": [
    "df = df.drop(columns='montant')\n",
    "df.columns"
   ]
  },
  {
   "cell_type": "code",
   "execution_count": 11,
   "id": "c762c3e6",
   "metadata": {},
   "outputs": [],
   "source": [
    "X = df.drop(columns='bins')\n",
    "y = df['bins']"
   ]
  },
  {
   "cell_type": "code",
   "execution_count": 12,
   "id": "733b7e80",
   "metadata": {},
   "outputs": [],
   "source": [
    "X_train, X_test, y_train, y_test = train_test_split(\n",
    "    X, y, test_size=0.2, random_state=0, stratify=X['codeCPV_3'])"
   ]
  },
  {
   "cell_type": "code",
   "execution_count": 13,
   "id": "ddbbb84f",
   "metadata": {},
   "outputs": [],
   "source": [
    "from scripts.preprocess_pipeline import create_pipeline_cat\n",
    "\n",
    "cat_list = ['marche_sim', 'pred_montant', 'anomalie']\n",
    "cat = cat_list[1]\n",
    "pipeline = create_pipeline_cat(cat)"
   ]
  },
  {
   "cell_type": "code",
   "execution_count": 14,
   "id": "7f8b646d",
   "metadata": {},
   "outputs": [],
   "source": [
    "X_train_preproc = pipeline.fit_transform(X_train)"
   ]
  },
  {
   "cell_type": "code",
   "execution_count": 34,
   "id": "3d30bb43",
   "metadata": {},
   "outputs": [
    {
     "data": {
      "text/plain": [
       "(190530, 184)"
      ]
     },
     "execution_count": 34,
     "metadata": {},
     "output_type": "execute_result"
    }
   ],
   "source": [
    "X_train_preproc.shape"
   ]
  },
  {
   "cell_type": "code",
   "execution_count": 37,
   "id": "da18ce74",
   "metadata": {},
   "outputs": [],
   "source": [
    "from keras.utils import to_categorical\n",
    "y_train_cat = to_categorical(y_train)"
   ]
  },
  {
   "cell_type": "code",
   "execution_count": 54,
   "id": "4e7f7919",
   "metadata": {},
   "outputs": [
    {
     "data": {
      "text/plain": [
       "(array([[190530.,      0.,      0.,      0.,      0.,      0.,      0.,\n",
       "              0.,      0.,      0.],\n",
       "        [185472.,      0.,      0.,      0.,      0.,      0.,      0.,\n",
       "              0.,      0.,   5058.],\n",
       "        [173323.,      0.,      0.,      0.,      0.,      0.,      0.,\n",
       "              0.,      0.,  17207.],\n",
       "        [159638.,      0.,      0.,      0.,      0.,      0.,      0.,\n",
       "              0.,      0.,  30892.],\n",
       "        [157710.,      0.,      0.,      0.,      0.,      0.,      0.,\n",
       "              0.,      0.,  32820.],\n",
       "        [161973.,      0.,      0.,      0.,      0.,      0.,      0.,\n",
       "              0.,      0.,  28557.],\n",
       "        [163929.,      0.,      0.,      0.,      0.,      0.,      0.,\n",
       "              0.,      0.,  26601.],\n",
       "        [169780.,      0.,      0.,      0.,      0.,      0.,      0.,\n",
       "              0.,      0.,  20750.],\n",
       "        [173854.,      0.,      0.,      0.,      0.,      0.,      0.,\n",
       "              0.,      0.,  16676.],\n",
       "        [178561.,      0.,      0.,      0.,      0.,      0.,      0.,\n",
       "              0.,      0.,  11969.]]),\n",
       " array([0. , 0.1, 0.2, 0.3, 0.4, 0.5, 0.6, 0.7, 0.8, 0.9, 1. ]),\n",
       " <a list of 10 BarContainer objects>)"
      ]
     },
     "execution_count": 54,
     "metadata": {},
     "output_type": "execute_result"
    },
    {
     "data": {
      "image/png": "[encoded data removed]",
      "text/plain": [
       "<Figure size 640x480 with 1 Axes>"
      ]
     },
     "metadata": {},
     "output_type": "display_data"
    }
   ],
   "source": [
    "plt.hist(y_train_cat)"
   ]
  },
  {
   "cell_type": "code",
   "execution_count": 17,
   "id": "6188121c",
   "metadata": {},
   "outputs": [],
   "source": [
    "#Création du model --> couches Dense"
   ]
  },
  {
   "cell_type": "code",
   "execution_count": 50,
   "id": "df9f221a",
   "metadata": {},
   "outputs": [
    {
     "data": {
      "text/html": [
       "<pre style=\"white-space:pre;overflow-x:auto;line-height:normal;font-family:Menlo,'DejaVu Sans Mono',consolas,'Courier New',monospace\"><span style=\"font-weight: bold\">Model: \"sequential_9\"</span>\n",
       "</pre>\n"
      ],
      "text/plain": [
       "\u001b[1mModel: \"sequential_9\"\u001b[0m\n"
      ]
     },
     "metadata": {},
     "output_type": "display_data"
    },
    {
     "data": {
      "text/html": [
       "<pre style=\"white-space:pre;overflow-x:auto;line-height:normal;font-family:Menlo,'DejaVu Sans Mono',consolas,'Courier New',monospace\">┏━━━━━━━━━━━━━━━━━━━━━━━━━━━━━━━━━┳━━━━━━━━━━━━━━━━━━━━━━━━┳━━━━━━━━━━━━━━━┓\n",
       "┃<span style=\"font-weight: bold\"> Layer (type)                    </span>┃<span style=\"font-weight: bold\"> Output Shape           </span>┃<span style=\"font-weight: bold\">       Param # </span>┃\n",
       "┡━━━━━━━━━━━━━━━━━━━━━━━━━━━━━━━━━╇━━━━━━━━━━━━━━━━━━━━━━━━╇━━━━━━━━━━━━━━━┩\n",
       "│ dense_38 (<span style=\"color: #0087ff; text-decoration-color: #0087ff\">Dense</span>)                │ (<span style=\"color: #00d7ff; text-decoration-color: #00d7ff\">None</span>, <span style=\"color: #00af00; text-decoration-color: #00af00\">512</span>)            │        <span style=\"color: #00af00; text-decoration-color: #00af00\">94,720</span> │\n",
       "├─────────────────────────────────┼────────────────────────┼───────────────┤\n",
       "│ batch_normalization_12          │ (<span style=\"color: #00d7ff; text-decoration-color: #00d7ff\">None</span>, <span style=\"color: #00af00; text-decoration-color: #00af00\">512</span>)            │         <span style=\"color: #00af00; text-decoration-color: #00af00\">2,048</span> │\n",
       "│ (<span style=\"color: #0087ff; text-decoration-color: #0087ff\">BatchNormalization</span>)            │                        │               │\n",
       "├─────────────────────────────────┼────────────────────────┼───────────────┤\n",
       "│ dropout_15 (<span style=\"color: #0087ff; text-decoration-color: #0087ff\">Dropout</span>)            │ (<span style=\"color: #00d7ff; text-decoration-color: #00d7ff\">None</span>, <span style=\"color: #00af00; text-decoration-color: #00af00\">512</span>)            │             <span style=\"color: #00af00; text-decoration-color: #00af00\">0</span> │\n",
       "├─────────────────────────────────┼────────────────────────┼───────────────┤\n",
       "│ dense_39 (<span style=\"color: #0087ff; text-decoration-color: #0087ff\">Dense</span>)                │ (<span style=\"color: #00d7ff; text-decoration-color: #00d7ff\">None</span>, <span style=\"color: #00af00; text-decoration-color: #00af00\">256</span>)            │       <span style=\"color: #00af00; text-decoration-color: #00af00\">131,328</span> │\n",
       "├─────────────────────────────────┼────────────────────────┼───────────────┤\n",
       "│ batch_normalization_13          │ (<span style=\"color: #00d7ff; text-decoration-color: #00d7ff\">None</span>, <span style=\"color: #00af00; text-decoration-color: #00af00\">256</span>)            │         <span style=\"color: #00af00; text-decoration-color: #00af00\">1,024</span> │\n",
       "│ (<span style=\"color: #0087ff; text-decoration-color: #0087ff\">BatchNormalization</span>)            │                        │               │\n",
       "├─────────────────────────────────┼────────────────────────┼───────────────┤\n",
       "│ dropout_16 (<span style=\"color: #0087ff; text-decoration-color: #0087ff\">Dropout</span>)            │ (<span style=\"color: #00d7ff; text-decoration-color: #00d7ff\">None</span>, <span style=\"color: #00af00; text-decoration-color: #00af00\">256</span>)            │             <span style=\"color: #00af00; text-decoration-color: #00af00\">0</span> │\n",
       "├─────────────────────────────────┼────────────────────────┼───────────────┤\n",
       "│ dense_40 (<span style=\"color: #0087ff; text-decoration-color: #0087ff\">Dense</span>)                │ (<span style=\"color: #00d7ff; text-decoration-color: #00d7ff\">None</span>, <span style=\"color: #00af00; text-decoration-color: #00af00\">128</span>)            │        <span style=\"color: #00af00; text-decoration-color: #00af00\">32,896</span> │\n",
       "├─────────────────────────────────┼────────────────────────┼───────────────┤\n",
       "│ batch_normalization_14          │ (<span style=\"color: #00d7ff; text-decoration-color: #00d7ff\">None</span>, <span style=\"color: #00af00; text-decoration-color: #00af00\">128</span>)            │           <span style=\"color: #00af00; text-decoration-color: #00af00\">512</span> │\n",
       "│ (<span style=\"color: #0087ff; text-decoration-color: #0087ff\">BatchNormalization</span>)            │                        │               │\n",
       "├─────────────────────────────────┼────────────────────────┼───────────────┤\n",
       "│ dropout_17 (<span style=\"color: #0087ff; text-decoration-color: #0087ff\">Dropout</span>)            │ (<span style=\"color: #00d7ff; text-decoration-color: #00d7ff\">None</span>, <span style=\"color: #00af00; text-decoration-color: #00af00\">128</span>)            │             <span style=\"color: #00af00; text-decoration-color: #00af00\">0</span> │\n",
       "├─────────────────────────────────┼────────────────────────┼───────────────┤\n",
       "│ dense_41 (<span style=\"color: #0087ff; text-decoration-color: #0087ff\">Dense</span>)                │ (<span style=\"color: #00d7ff; text-decoration-color: #00d7ff\">None</span>, <span style=\"color: #00af00; text-decoration-color: #00af00\">10</span>)             │         <span style=\"color: #00af00; text-decoration-color: #00af00\">1,290</span> │\n",
       "└─────────────────────────────────┴────────────────────────┴───────────────┘\n",
       "</pre>\n"
      ],
      "text/plain": [
       "┏━━━━━━━━━━━━━━━━━━━━━━━━━━━━━━━━━┳━━━━━━━━━━━━━━━━━━━━━━━━┳━━━━━━━━━━━━━━━┓\n",
       "┃\u001b[1m \u001b[0m\u001b[1mLayer (type)                   \u001b[0m\u001b[1m \u001b[0m┃\u001b[1m \u001b[0m\u001b[1mOutput Shape          \u001b[0m\u001b[1m \u001b[0m┃\u001b[1m \u001b[0m\u001b[1m      Param #\u001b[0m\u001b[1m \u001b[0m┃\n",
       "┡━━━━━━━━━━━━━━━━━━━━━━━━━━━━━━━━━╇━━━━━━━━━━━━━━━━━━━━━━━━╇━━━━━━━━━━━━━━━┩\n",
       "│ dense_38 (\u001b[38;5;33mDense\u001b[0m)                │ (\u001b[38;5;45mNone\u001b[0m, \u001b[38;5;34m512\u001b[0m)            │        \u001b[38;5;34m94,720\u001b[0m │\n",
       "├─────────────────────────────────┼────────────────────────┼───────────────┤\n",
       "│ batch_normalization_12          │ (\u001b[38;5;45mNone\u001b[0m, \u001b[38;5;34m512\u001b[0m)            │         \u001b[38;5;34m2,048\u001b[0m │\n",
       "│ (\u001b[38;5;33mBatchNormalization\u001b[0m)            │                        │               │\n",
       "├─────────────────────────────────┼────────────────────────┼───────────────┤\n",
       "│ dropout_15 (\u001b[38;5;33mDropout\u001b[0m)            │ (\u001b[38;5;45mNone\u001b[0m, \u001b[38;5;34m512\u001b[0m)            │             \u001b[38;5;34m0\u001b[0m │\n",
       "├─────────────────────────────────┼────────────────────────┼───────────────┤\n",
       "│ dense_39 (\u001b[38;5;33mDense\u001b[0m)                │ (\u001b[38;5;45mNone\u001b[0m, \u001b[38;5;34m256\u001b[0m)            │       \u001b[38;5;34m131,328\u001b[0m │\n",
       "├─────────────────────────────────┼────────────────────────┼───────────────┤\n",
       "│ batch_normalization_13          │ (\u001b[38;5;45mNone\u001b[0m, \u001b[38;5;34m256\u001b[0m)            │         \u001b[38;5;34m1,024\u001b[0m │\n",
       "│ (\u001b[38;5;33mBatchNormalization\u001b[0m)            │                        │               │\n",
       "├─────────────────────────────────┼────────────────────────┼───────────────┤\n",
       "│ dropout_16 (\u001b[38;5;33mDropout\u001b[0m)            │ (\u001b[38;5;45mNone\u001b[0m, \u001b[38;5;34m256\u001b[0m)            │             \u001b[38;5;34m0\u001b[0m │\n",
       "├─────────────────────────────────┼────────────────────────┼───────────────┤\n",
       "│ dense_40 (\u001b[38;5;33mDense\u001b[0m)                │ (\u001b[38;5;45mNone\u001b[0m, \u001b[38;5;34m128\u001b[0m)            │        \u001b[38;5;34m32,896\u001b[0m │\n",
       "├─────────────────────────────────┼────────────────────────┼───────────────┤\n",
       "│ batch_normalization_14          │ (\u001b[38;5;45mNone\u001b[0m, \u001b[38;5;34m128\u001b[0m)            │           \u001b[38;5;34m512\u001b[0m │\n",
       "│ (\u001b[38;5;33mBatchNormalization\u001b[0m)            │                        │               │\n",
       "├─────────────────────────────────┼────────────────────────┼───────────────┤\n",
       "│ dropout_17 (\u001b[38;5;33mDropout\u001b[0m)            │ (\u001b[38;5;45mNone\u001b[0m, \u001b[38;5;34m128\u001b[0m)            │             \u001b[38;5;34m0\u001b[0m │\n",
       "├─────────────────────────────────┼────────────────────────┼───────────────┤\n",
       "│ dense_41 (\u001b[38;5;33mDense\u001b[0m)                │ (\u001b[38;5;45mNone\u001b[0m, \u001b[38;5;34m10\u001b[0m)             │         \u001b[38;5;34m1,290\u001b[0m │\n",
       "└─────────────────────────────────┴────────────────────────┴───────────────┘\n"
      ]
     },
     "metadata": {},
     "output_type": "display_data"
    },
    {
     "data": {
      "text/html": [
       "<pre style=\"white-space:pre;overflow-x:auto;line-height:normal;font-family:Menlo,'DejaVu Sans Mono',consolas,'Courier New',monospace\"><span style=\"font-weight: bold\"> Total params: </span><span style=\"color: #00af00; text-decoration-color: #00af00\">263,818</span> (1.01 MB)\n",
       "</pre>\n"
      ],
      "text/plain": [
       "\u001b[1m Total params: \u001b[0m\u001b[38;5;34m263,818\u001b[0m (1.01 MB)\n"
      ]
     },
     "metadata": {},
     "output_type": "display_data"
    },
    {
     "data": {
      "text/html": [
       "<pre style=\"white-space:pre;overflow-x:auto;line-height:normal;font-family:Menlo,'DejaVu Sans Mono',consolas,'Courier New',monospace\"><span style=\"font-weight: bold\"> Trainable params: </span><span style=\"color: #00af00; text-decoration-color: #00af00\">262,026</span> (1023.54 KB)\n",
       "</pre>\n"
      ],
      "text/plain": [
       "\u001b[1m Trainable params: \u001b[0m\u001b[38;5;34m262,026\u001b[0m (1023.54 KB)\n"
      ]
     },
     "metadata": {},
     "output_type": "display_data"
    },
    {
     "data": {
      "text/html": [
       "<pre style=\"white-space:pre;overflow-x:auto;line-height:normal;font-family:Menlo,'DejaVu Sans Mono',consolas,'Courier New',monospace\"><span style=\"font-weight: bold\"> Non-trainable params: </span><span style=\"color: #00af00; text-decoration-color: #00af00\">1,792</span> (7.00 KB)\n",
       "</pre>\n"
      ],
      "text/plain": [
       "\u001b[1m Non-trainable params: \u001b[0m\u001b[38;5;34m1,792\u001b[0m (7.00 KB)\n"
      ]
     },
     "metadata": {},
     "output_type": "display_data"
    }
   ],
   "source": [
    "# Modèle\n",
    "model = Sequential()\n",
    "\n",
    "# Entrée\n",
    "model.add(layers.Input(shape=(184,)))\n",
    "\n",
    "# Couches cachées\n",
    "model.add(layers.Dense(512, activation='relu'))\n",
    "model.add(layers.BatchNormalization())\n",
    "model.add(layers.Dropout(0.3))\n",
    "\n",
    "model.add(layers.Dense(256, activation='relu'))\n",
    "model.add(layers.BatchNormalization())\n",
    "model.add(layers.Dropout(0.3))\n",
    "\n",
    "model.add(layers.Dense(128, activation='relu'))\n",
    "model.add(layers.BatchNormalization())\n",
    "model.add(layers.Dropout(0.3))\n",
    "\n",
    "# Couche de sortie : 10 classes\n",
    "model.add(layers.Dense(10, activation='softmax'))\n",
    "\n",
    "# Compilation du modèle\n",
    "model.compile(\n",
    "    optimizer='adam',\n",
    "    loss='categorical_crossentropy',  # ou 'sparse_categorical_crossentropy' si tes labels sont des entiers\n",
    "    metrics=['accuracy',]\n",
    ")\n",
    "\n",
    "# Affichage du résumé\n",
    "model.summary()"
   ]
  },
  {
   "cell_type": "code",
   "execution_count": 31,
   "id": "5ba2e0a8",
   "metadata": {},
   "outputs": [],
   "source": [
    "# model.compile(\n",
    "#     optimizer='adam',\n",
    "#     loss='categorical_crossentropy',\n",
    "#     metrics=['accuracy', 'precision', 'recall'])"
   ]
  },
  {
   "cell_type": "code",
   "execution_count": 51,
   "id": "3ad64e3b",
   "metadata": {},
   "outputs": [
    {
     "name": "stdout",
     "output_type": "stream",
     "text": [
      "Epoch 1/100\n",
      "\u001b[1m4764/4764\u001b[0m \u001b[32m━━━━━━━━━━━━━━━━━━━━\u001b[0m\u001b[37m\u001b[0m \u001b[1m11s\u001b[0m 2ms/step - accuracy: 0.1801 - loss: 2.2038 - val_accuracy: 0.2090 - val_loss: 1.9679\n",
      "Epoch 2/100\n",
      "\u001b[1m4764/4764\u001b[0m \u001b[32m━━━━━━━━━━━━━━━━━━━━\u001b[0m\u001b[37m\u001b[0m \u001b[1m9s\u001b[0m 2ms/step - accuracy: 0.2061 - loss: 1.9778 - val_accuracy: 0.2172 - val_loss: 1.9568\n",
      "Epoch 3/100\n",
      "\u001b[1m4764/4764\u001b[0m \u001b[32m━━━━━━━━━━━━━━━━━━━━\u001b[0m\u001b[37m\u001b[0m \u001b[1m9s\u001b[0m 2ms/step - accuracy: 0.2117 - loss: 1.9656 - val_accuracy: 0.2231 - val_loss: 1.9489\n",
      "Epoch 4/100\n",
      "\u001b[1m4764/4764\u001b[0m \u001b[32m━━━━━━━━━━━━━━━━━━━━\u001b[0m\u001b[37m\u001b[0m \u001b[1m9s\u001b[0m 2ms/step - accuracy: 0.2169 - loss: 1.9549 - val_accuracy: 0.2243 - val_loss: 1.9429\n",
      "Epoch 5/100\n",
      "\u001b[1m4764/4764\u001b[0m \u001b[32m━━━━━━━━━━━━━━━━━━━━\u001b[0m\u001b[37m\u001b[0m \u001b[1m10s\u001b[0m 2ms/step - accuracy: 0.2238 - loss: 1.9443 - val_accuracy: 0.2215 - val_loss: 1.9355\n",
      "Epoch 6/100\n",
      "\u001b[1m4764/4764\u001b[0m \u001b[32m━━━━━━━━━━━━━━━━━━━━\u001b[0m\u001b[37m\u001b[0m \u001b[1m10s\u001b[0m 2ms/step - accuracy: 0.2245 - loss: 1.9371 - val_accuracy: 0.2303 - val_loss: 1.9305\n",
      "Epoch 7/100\n",
      "\u001b[1m4764/4764\u001b[0m \u001b[32m━━━━━━━━━━━━━━━━━━━━\u001b[0m\u001b[37m\u001b[0m \u001b[1m9s\u001b[0m 2ms/step - accuracy: 0.2277 - loss: 1.9293 - val_accuracy: 0.2294 - val_loss: 1.9282\n",
      "Epoch 8/100\n",
      "\u001b[1m4764/4764\u001b[0m \u001b[32m━━━━━━━━━━━━━━━━━━━━\u001b[0m\u001b[37m\u001b[0m \u001b[1m10s\u001b[0m 2ms/step - accuracy: 0.2328 - loss: 1.9241 - val_accuracy: 0.2327 - val_loss: 1.9257\n",
      "Epoch 9/100\n",
      "\u001b[1m4764/4764\u001b[0m \u001b[32m━━━━━━━━━━━━━━━━━━━━\u001b[0m\u001b[37m\u001b[0m \u001b[1m10s\u001b[0m 2ms/step - accuracy: 0.2352 - loss: 1.9178 - val_accuracy: 0.2319 - val_loss: 1.9219\n",
      "Epoch 10/100\n",
      "\u001b[1m4764/4764\u001b[0m \u001b[32m━━━━━━━━━━━━━━━━━━━━\u001b[0m\u001b[37m\u001b[0m \u001b[1m9s\u001b[0m 2ms/step - accuracy: 0.2371 - loss: 1.9102 - val_accuracy: 0.2348 - val_loss: 1.9178\n",
      "Epoch 11/100\n",
      "\u001b[1m4764/4764\u001b[0m \u001b[32m━━━━━━━━━━━━━━━━━━━━\u001b[0m\u001b[37m\u001b[0m \u001b[1m9s\u001b[0m 2ms/step - accuracy: 0.2421 - loss: 1.9063 - val_accuracy: 0.2360 - val_loss: 1.9193\n",
      "Epoch 12/100\n",
      "\u001b[1m4764/4764\u001b[0m \u001b[32m━━━━━━━━━━━━━━━━━━━━\u001b[0m\u001b[37m\u001b[0m \u001b[1m9s\u001b[0m 2ms/step - accuracy: 0.2439 - loss: 1.9010 - val_accuracy: 0.2357 - val_loss: 1.9193\n",
      "Epoch 13/100\n",
      "\u001b[1m4764/4764\u001b[0m \u001b[32m━━━━━━━━━━━━━━━━━━━━\u001b[0m\u001b[37m\u001b[0m \u001b[1m9s\u001b[0m 2ms/step - accuracy: 0.2476 - loss: 1.8966 - val_accuracy: 0.2401 - val_loss: 1.9167\n",
      "Epoch 14/100\n",
      "\u001b[1m4764/4764\u001b[0m \u001b[32m━━━━━━━━━━━━━━━━━━━━\u001b[0m\u001b[37m\u001b[0m \u001b[1m10s\u001b[0m 2ms/step - accuracy: 0.2509 - loss: 1.8944 - val_accuracy: 0.2440 - val_loss: 1.9146\n",
      "Epoch 15/100\n",
      "\u001b[1m4764/4764\u001b[0m \u001b[32m━━━━━━━━━━━━━━━━━━━━\u001b[0m\u001b[37m\u001b[0m \u001b[1m9s\u001b[0m 2ms/step - accuracy: 0.2561 - loss: 1.8868 - val_accuracy: 0.2448 - val_loss: 1.9094\n",
      "Epoch 16/100\n",
      "\u001b[1m4764/4764\u001b[0m \u001b[32m━━━━━━━━━━━━━━━━━━━━\u001b[0m\u001b[37m\u001b[0m \u001b[1m10s\u001b[0m 2ms/step - accuracy: 0.2556 - loss: 1.8833 - val_accuracy: 0.2444 - val_loss: 1.9136\n",
      "Epoch 17/100\n",
      "\u001b[1m4764/4764\u001b[0m \u001b[32m━━━━━━━━━━━━━━━━━━━━\u001b[0m\u001b[37m\u001b[0m \u001b[1m9s\u001b[0m 2ms/step - accuracy: 0.2560 - loss: 1.8778 - val_accuracy: 0.2433 - val_loss: 1.9120\n",
      "Epoch 18/100\n",
      "\u001b[1m4764/4764\u001b[0m \u001b[32m━━━━━━━━━━━━━━━━━━━━\u001b[0m\u001b[37m\u001b[0m \u001b[1m9s\u001b[0m 2ms/step - accuracy: 0.2608 - loss: 1.8782 - val_accuracy: 0.2454 - val_loss: 1.9113\n",
      "Epoch 19/100\n",
      "\u001b[1m4764/4764\u001b[0m \u001b[32m━━━━━━━━━━━━━━━━━━━━\u001b[0m\u001b[37m\u001b[0m \u001b[1m9s\u001b[0m 2ms/step - accuracy: 0.2609 - loss: 1.8707 - val_accuracy: 0.2456 - val_loss: 1.9100\n",
      "Epoch 20/100\n",
      "\u001b[1m4764/4764\u001b[0m \u001b[32m━━━━━━━━━━━━━━━━━━━━\u001b[0m\u001b[37m\u001b[0m \u001b[1m9s\u001b[0m 2ms/step - accuracy: 0.2609 - loss: 1.8663 - val_accuracy: 0.2464 - val_loss: 1.9136\n"
     ]
    }
   ],
   "source": [
    "es = EarlyStopping(patience=5, restore_best_weights=True)\n",
    "\n",
    "history = model.fit(\n",
    "        X_train_preproc, y_train_cat,\n",
    "        validation_split=0.2,\n",
    "        batch_size=32,\n",
    "        epochs=100,\n",
    "        callbacks=[es],\n",
    "        verbose=1)"
   ]
  },
  {
   "cell_type": "code",
   "execution_count": 53,
   "id": "94db701a",
   "metadata": {},
   "outputs": [
    {
     "data": {
      "image/png": "[encoded data removed]",
      "text/plain": [
       "<Figure size 1200x500 with 2 Axes>"
      ]
     },
     "metadata": {},
     "output_type": "display_data"
    }
   ],
   "source": [
    "# Récupération des données d'entraînement et validation\n",
    "acc = history.history['accuracy']\n",
    "val_acc = history.history['val_accuracy']\n",
    "loss = history.history['loss']\n",
    "val_loss = history.history['val_loss']\n",
    "\n",
    "# Création de la figure\n",
    "plt.figure(figsize=(12, 5))\n",
    "\n",
    "# Plot de l'accuracy\n",
    "plt.subplot(1, 2, 1)\n",
    "plt.plot(acc, label='Accuracy')\n",
    "plt.plot(val_acc, label='Val Accuracy')\n",
    "plt.xlabel('Epochs')\n",
    "plt.ylabel('Accuracy')\n",
    "plt.title('Training and Validation Accuracy')\n",
    "plt.legend()\n",
    "\n",
    "# Plot de la loss\n",
    "plt.subplot(1, 2, 2)\n",
    "plt.plot(loss, label='Loss')\n",
    "plt.plot(val_loss, label='Val Loss')\n",
    "plt.xlabel('Epochs')\n",
    "plt.ylabel('Loss')\n",
    "plt.title('Training and Validation Loss')\n",
    "plt.legend()\n",
    "\n",
    "# Affichage\n",
    "plt.tight_layout()\n",
    "plt.show()"
   ]
  },
  {
   "cell_type": "code",
   "execution_count": null,
   "id": "3362d008",
   "metadata": {},
   "outputs": [],
   "source": []
  }
 ],
 "metadata": {
  "kernelspec": {
   "display_name": "decp_ml_env",
   "language": "python",
   "name": "python3"
  },
  "language_info": {
   "codemirror_mode": {
    "name": "ipython",
    "version": 3
   },
   "file_extension": ".py",
   "mimetype": "text/x-python",
   "name": "python",
   "nbconvert_exporter": "python",
   "pygments_lexer": "ipython3",
   "version": "3.10.6"
  }
 },
 "nbformat": 4,
 "nbformat_minor": 5
}
