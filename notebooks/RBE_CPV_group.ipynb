{
 "cells": [
  {
   "cell_type": "code",
   "execution_count": 1,
   "metadata": {},
   "outputs": [],
   "source": [
    "import pandas as pd\n",
    "import numpy as np\n",
    "import matplotlib.pyplot as plt\n",
    "import seaborn as sns\n",
    "import os\n",
    "import sqlite3\n",
    "import sys"
   ]
  },
  {
   "cell_type": "code",
   "execution_count": 2,
   "metadata": {},
   "outputs": [],
   "source": [
    "data_path = os.path.join(os.path.dirname(os.getcwd()), 'data')\n",
    "db_path = os.path.join(data_path, 'datalab.sqlite')\n"
   ]
  },
  {
   "cell_type": "code",
   "execution_count": 25,
   "metadata": {},
   "outputs": [
    {
     "name": "stdout",
     "output_type": "stream",
     "text": [
      "<class 'pandas.core.frame.DataFrame'>\n",
      "RangeIndex: 299670 entries, 0 to 299669\n",
      "Data columns (total 36 columns):\n",
      " #   Column                     Non-Null Count   Dtype  \n",
      "---  ------                     --------------   -----  \n",
      " 0   uid                        299670 non-null  object \n",
      " 1   id                         299670 non-null  object \n",
      " 2   nature                     299670 non-null  object \n",
      " 3   acheteur_id                299670 non-null  int64  \n",
      " 4   acheteur_nom               299477 non-null  object \n",
      " 5   acheteur_siren             299500 non-null  float64\n",
      " 6   titulaire_id               299670 non-null  object \n",
      " 7   titulaire_typeIdentifiant  299670 non-null  object \n",
      " 8   titulaire_nom              292097 non-null  object \n",
      " 9   titulaire_siren            298537 non-null  float64\n",
      " 10  objet                      299670 non-null  object \n",
      " 11  montant                    299670 non-null  float64\n",
      " 12  codeCPV                    299670 non-null  object \n",
      " 13  procedure                  299670 non-null  object \n",
      " 14  dureeMois                  299663 non-null  float64\n",
      " 15  dateNotification           299670 non-null  object \n",
      " 16  datePublicationDonnees     299668 non-null  object \n",
      " 17  formePrix                  299670 non-null  object \n",
      " 18  attributionAvance          125791 non-null  float64\n",
      " 19  offresRecues               198227 non-null  float64\n",
      " 20  marcheInnovant             123320 non-null  float64\n",
      " 21  ccag                       299670 non-null  object \n",
      " 22  sousTraitanceDeclaree      155111 non-null  float64\n",
      " 23  typeGroupementOperateurs   299670 non-null  object \n",
      " 24  tauxAvance                 170113 non-null  float64\n",
      " 25  origineUE                  169189 non-null  float64\n",
      " 26  origineFrance              169190 non-null  float64\n",
      " 27  lieuExecution_code         299629 non-null  object \n",
      " 28  lieuExecution_typeCode     299670 non-null  object \n",
      " 29  idAccordCadre              65564 non-null   object \n",
      " 30  source_open_data           299670 non-null  object \n",
      " 31  codeCPV_FR                 296025 non-null  object \n",
      " 32  codeCPV_2                  299670 non-null  int64  \n",
      " 33  codeCPV_3                  299670 non-null  int64  \n",
      " 34  codeCPV_4                  299670 non-null  int64  \n",
      " 35  codeCPV_5                  299670 non-null  int64  \n",
      "dtypes: float64(11), int64(5), object(20)\n",
      "memory usage: 82.3+ MB\n"
     ]
    }
   ],
   "source": [
    "data_cpv = pd.read_csv(os.path.join(data_path, 'data_cpv.csv'))\n",
    "data_cpv.info()"
   ]
  },
  {
   "cell_type": "code",
   "execution_count": 5,
   "metadata": {},
   "outputs": [
    {
     "data": {
      "text/html": [
       "<div>\n",
       "<style scoped>\n",
       "    .dataframe tbody tr th:only-of-type {\n",
       "        vertical-align: middle;\n",
       "    }\n",
       "\n",
       "    .dataframe tbody tr th {\n",
       "        vertical-align: top;\n",
       "    }\n",
       "\n",
       "    .dataframe thead th {\n",
       "        text-align: right;\n",
       "    }\n",
       "</style>\n",
       "<table border=\"1\" class=\"dataframe\">\n",
       "  <thead>\n",
       "    <tr style=\"text-align: right;\">\n",
       "      <th></th>\n",
       "      <th>codeCPV</th>\n",
       "      <th>codeCPV_FR</th>\n",
       "    </tr>\n",
       "  </thead>\n",
       "  <tbody>\n",
       "    <tr>\n",
       "      <th>0</th>\n",
       "      <td>45210000-2</td>\n",
       "      <td>Travaux de construction de bâtiments</td>\n",
       "    </tr>\n",
       "    <tr>\n",
       "      <th>1</th>\n",
       "      <td>45261000-4</td>\n",
       "      <td>Travaux de charpente et de couverture et trava...</td>\n",
       "    </tr>\n",
       "    <tr>\n",
       "      <th>2</th>\n",
       "      <td>72514200-3</td>\n",
       "      <td>Services de gestion d'installations pour le dé...</td>\n",
       "    </tr>\n",
       "    <tr>\n",
       "      <th>3</th>\n",
       "      <td>71300000</td>\n",
       "      <td>Services d'ingénierie</td>\n",
       "    </tr>\n",
       "    <tr>\n",
       "      <th>4</th>\n",
       "      <td>44316500-3</td>\n",
       "      <td>Serrurerie</td>\n",
       "    </tr>\n",
       "  </tbody>\n",
       "</table>\n",
       "</div>"
      ],
      "text/plain": [
       "      codeCPV                                         codeCPV_FR\n",
       "0  45210000-2               Travaux de construction de bâtiments\n",
       "1  45261000-4  Travaux de charpente et de couverture et trava...\n",
       "2  72514200-3  Services de gestion d'installations pour le dé...\n",
       "3    71300000                              Services d'ingénierie\n",
       "4  44316500-3                                         Serrurerie"
      ]
     },
     "execution_count": 5,
     "metadata": {},
     "output_type": "execute_result"
    }
   ],
   "source": [
    "data_cpv[['codeCPV', 'codeCPV_FR']].head()"
   ]
  },
  {
   "cell_type": "code",
   "execution_count": 24,
   "metadata": {},
   "outputs": [
    {
     "data": {
      "text/html": [
       "<div>\n",
       "<style scoped>\n",
       "    .dataframe tbody tr th:only-of-type {\n",
       "        vertical-align: middle;\n",
       "    }\n",
       "\n",
       "    .dataframe tbody tr th {\n",
       "        vertical-align: top;\n",
       "    }\n",
       "\n",
       "    .dataframe thead th {\n",
       "        text-align: right;\n",
       "    }\n",
       "</style>\n",
       "<table border=\"1\" class=\"dataframe\">\n",
       "  <thead>\n",
       "    <tr style=\"text-align: right;\">\n",
       "      <th></th>\n",
       "      <th>CODE</th>\n",
       "      <th>FR</th>\n",
       "    </tr>\n",
       "  </thead>\n",
       "  <tbody>\n",
       "    <tr>\n",
       "      <th>0</th>\n",
       "      <td>03000000-1</td>\n",
       "      <td>Produits agricoles, de l'élevage, de la pêche,...</td>\n",
       "    </tr>\n",
       "    <tr>\n",
       "      <th>1</th>\n",
       "      <td>03100000-2</td>\n",
       "      <td>Produits agricoles et produits de l'horticulture</td>\n",
       "    </tr>\n",
       "    <tr>\n",
       "      <th>2</th>\n",
       "      <td>03110000-5</td>\n",
       "      <td>Produits agricoles, produits de la culture mar...</td>\n",
       "    </tr>\n",
       "    <tr>\n",
       "      <th>3</th>\n",
       "      <td>03111000-2</td>\n",
       "      <td>Graines</td>\n",
       "    </tr>\n",
       "    <tr>\n",
       "      <th>4</th>\n",
       "      <td>03111100-3</td>\n",
       "      <td>Graines de soja</td>\n",
       "    </tr>\n",
       "  </tbody>\n",
       "</table>\n",
       "</div>"
      ],
      "text/plain": [
       "         CODE                                                 FR\n",
       "0  03000000-1  Produits agricoles, de l'élevage, de la pêche,...\n",
       "1  03100000-2   Produits agricoles et produits de l'horticulture\n",
       "2  03110000-5  Produits agricoles, produits de la culture mar...\n",
       "3  03111000-2                                            Graines\n",
       "4  03111100-3                                    Graines de soja"
      ]
     },
     "execution_count": 24,
     "metadata": {},
     "output_type": "execute_result"
    }
   ],
   "source": [
    "# Load CPV reference data\n",
    "cpv_path = os.path.join(os.path.dirname(os.getcwd()), \n",
    "                        'docs', 'cpv_2008_ver_2013_FR.csv')\n",
    "df_cpv = pd.read_csv(cpv_path)\n",
    "df_cpv.head()"
   ]
  },
  {
   "cell_type": "code",
   "execution_count": 7,
   "metadata": {},
   "outputs": [],
   "source": [
    "def extract_cpv_hierarchy_level(cpv_code, level=2):\n",
    "    \"\"\"\n",
    "    Extract higher-level hierarchy code from a CPV code.\n",
    "    \n",
    "    Args:\n",
    "        cpv_code (str): Original CPV code (e.g., '03111900-1')\n",
    "        level (str): Hierarchy level to extract. Options:\n",
    "                    - 'division' (XX000000): First 2 digits + 6 zeros (default)\n",
    "                    - 'group' (XXXX0000): First 4 digits + 4 zeros  \n",
    "                    - 'class' (XXXXXX00): First 6 digits + 2 zeros\n",
    "    \n",
    "    Returns:\n",
    "        str: Higher-level CPV code (e.g., '03000000')\n",
    "    \"\"\"\n",
    "    # Remove any whitespace and convert to string\n",
    "    cpv_str = str(cpv_code).strip()\n",
    "    \n",
    "    # Extract the numeric part before the dash\n",
    "    if '-' in cpv_str:\n",
    "        numeric_part = cpv_str.split('-')[0]\n",
    "    else:\n",
    "        numeric_part = cpv_str\n",
    "    \n",
    "    # Ensure we have at least 8 digits, pad with zeros if needed\n",
    "    numeric_part = numeric_part.ljust(8, '0')\n",
    "    \n",
    "    # Extract based on hierarchy level\n",
    "    if level == 2:\n",
    "        # First 2 digits + 6 zeros (e.g., 03111900 -> 03000000)\n",
    "        return numeric_part[:2] + '000000'\n",
    "    elif level == 3:\n",
    "        # First 3 digits + 5 zeros (e.g., 03111900 -> 03111000)\n",
    "        return numeric_part[:3] + '00000'\n",
    "    elif level == 4:\n",
    "        # First 4 digits + 4 zeros (e.g., 03111900 -> 03110000)\n",
    "        return numeric_part[:4] + '0000'\n",
    "    elif level == 5:\n",
    "        # First 5 digits + 3 zeros (e.g., 03111900 -> 03111000)\n",
    "        return numeric_part[:5] + '000'\n",
    "    else:\n",
    "        raise ValueError(\"Level must be between 2 and 5\")\n",
    "\n",
    "\n",
    "def add_cpv_hierarchy_column(df, cpv_column='codeCPV', level=2, \n",
    "                             new_column_name=None):\n",
    "    \"\"\"\n",
    "    Add a new column with higher-level CPV hierarchy codes to a DataFrame.\n",
    "    \n",
    "    Args:\n",
    "        df (pd.DataFrame): DataFrame containing CPV codes\n",
    "        cpv_column (str): Name of the column containing CPV codes \n",
    "                         (default: 'codeCPV')\n",
    "        level (str): Hierarchy level to extract (default: 'division')\n",
    "        new_column_name (str): Name for the new column. If None, \n",
    "                              will be auto-generated.\n",
    "    \n",
    "    Returns:\n",
    "        pd.DataFrame: DataFrame with added hierarchy column\n",
    "    \"\"\"\n",
    "    # Create a copy to avoid modifying the original DataFrame\n",
    "    df_copy = df.copy()\n",
    "    \n",
    "    # Auto-generate column name if not provided\n",
    "    if new_column_name is None:\n",
    "        new_column_name = f'codeCPV_{level}'\n",
    "    \n",
    "    # Apply the hierarchy extraction function\n",
    "    df_copy[new_column_name] = df_copy[cpv_column].apply(\n",
    "        lambda x: extract_cpv_hierarchy_level(x, level=level)\n",
    "    )\n",
    "    \n",
    "    return df_copy"
   ]
  },
  {
   "cell_type": "code",
   "execution_count": 8,
   "metadata": {},
   "outputs": [
    {
     "data": {
      "text/plain": [
       "'03000000'"
      ]
     },
     "execution_count": 8,
     "metadata": {},
     "output_type": "execute_result"
    }
   ],
   "source": [
    "test_code = \"03111900-1\"\n",
    "result = extract_cpv_hierarchy_level(test_code, level=2)\n",
    "result"
   ]
  },
  {
   "cell_type": "code",
   "execution_count": 9,
   "metadata": {},
   "outputs": [
    {
     "name": "stdout",
     "output_type": "stream",
     "text": [
      "<class 'pandas.core.frame.DataFrame'>\n",
      "RangeIndex: 299670 entries, 0 to 299669\n",
      "Data columns (total 33 columns):\n",
      " #   Column                     Non-Null Count   Dtype  \n",
      "---  ------                     --------------   -----  \n",
      " 0   Unnamed: 0                 299670 non-null  int64  \n",
      " 1   uid                        299670 non-null  object \n",
      " 2   id                         299670 non-null  object \n",
      " 3   nature                     299670 non-null  object \n",
      " 4   acheteur_id                299670 non-null  int64  \n",
      " 5   acheteur_nom               299477 non-null  object \n",
      " 6   acheteur_siren             299500 non-null  float64\n",
      " 7   titulaire_id               299670 non-null  object \n",
      " 8   titulaire_typeIdentifiant  299670 non-null  object \n",
      " 9   titulaire_nom              292097 non-null  object \n",
      " 10  titulaire_siren            298537 non-null  float64\n",
      " 11  objet                      299670 non-null  object \n",
      " 12  montant                    299670 non-null  float64\n",
      " 13  codeCPV                    299670 non-null  object \n",
      " 14  procedure                  299670 non-null  object \n",
      " 15  dureeMois                  299663 non-null  float64\n",
      " 16  dateNotification           299670 non-null  object \n",
      " 17  datePublicationDonnees     299668 non-null  object \n",
      " 18  formePrix                  299670 non-null  object \n",
      " 19  attributionAvance          125791 non-null  float64\n",
      " 20  offresRecues               198227 non-null  float64\n",
      " 21  marcheInnovant             123320 non-null  float64\n",
      " 22  ccag                       299670 non-null  object \n",
      " 23  sousTraitanceDeclaree      155111 non-null  float64\n",
      " 24  typeGroupementOperateurs   299670 non-null  object \n",
      " 25  tauxAvance                 170113 non-null  float64\n",
      " 26  origineUE                  169189 non-null  float64\n",
      " 27  origineFrance              169190 non-null  float64\n",
      " 28  lieuExecution_code         299629 non-null  object \n",
      " 29  lieuExecution_typeCode     299670 non-null  object \n",
      " 30  idAccordCadre              65564 non-null   object \n",
      " 31  source_open_data           299670 non-null  object \n",
      " 32  codeCPV_FR                 296025 non-null  object \n",
      "dtypes: float64(11), int64(2), object(20)\n",
      "memory usage: 75.4+ MB\n"
     ]
    }
   ],
   "source": [
    "data_cpv.info()"
   ]
  },
  {
   "cell_type": "code",
   "execution_count": 10,
   "metadata": {},
   "outputs": [
    {
     "name": "stdout",
     "output_type": "stream",
     "text": [
      "<class 'pandas.core.frame.DataFrame'>\n",
      "RangeIndex: 299670 entries, 0 to 299669\n",
      "Data columns (total 37 columns):\n",
      " #   Column                     Non-Null Count   Dtype  \n",
      "---  ------                     --------------   -----  \n",
      " 0   Unnamed: 0                 299670 non-null  int64  \n",
      " 1   uid                        299670 non-null  object \n",
      " 2   id                         299670 non-null  object \n",
      " 3   nature                     299670 non-null  object \n",
      " 4   acheteur_id                299670 non-null  int64  \n",
      " 5   acheteur_nom               299477 non-null  object \n",
      " 6   acheteur_siren             299500 non-null  float64\n",
      " 7   titulaire_id               299670 non-null  object \n",
      " 8   titulaire_typeIdentifiant  299670 non-null  object \n",
      " 9   titulaire_nom              292097 non-null  object \n",
      " 10  titulaire_siren            298537 non-null  float64\n",
      " 11  objet                      299670 non-null  object \n",
      " 12  montant                    299670 non-null  float64\n",
      " 13  codeCPV                    299670 non-null  object \n",
      " 14  procedure                  299670 non-null  object \n",
      " 15  dureeMois                  299663 non-null  float64\n",
      " 16  dateNotification           299670 non-null  object \n",
      " 17  datePublicationDonnees     299668 non-null  object \n",
      " 18  formePrix                  299670 non-null  object \n",
      " 19  attributionAvance          125791 non-null  float64\n",
      " 20  offresRecues               198227 non-null  float64\n",
      " 21  marcheInnovant             123320 non-null  float64\n",
      " 22  ccag                       299670 non-null  object \n",
      " 23  sousTraitanceDeclaree      155111 non-null  float64\n",
      " 24  typeGroupementOperateurs   299670 non-null  object \n",
      " 25  tauxAvance                 170113 non-null  float64\n",
      " 26  origineUE                  169189 non-null  float64\n",
      " 27  origineFrance              169190 non-null  float64\n",
      " 28  lieuExecution_code         299629 non-null  object \n",
      " 29  lieuExecution_typeCode     299670 non-null  object \n",
      " 30  idAccordCadre              65564 non-null   object \n",
      " 31  source_open_data           299670 non-null  object \n",
      " 32  codeCPV_FR                 296025 non-null  object \n",
      " 33  codeCPV_2                  299670 non-null  object \n",
      " 34  codeCPV_3                  299670 non-null  object \n",
      " 35  codeCPV_4                  299670 non-null  object \n",
      " 36  codeCPV_5                  299670 non-null  object \n",
      "dtypes: float64(11), int64(2), object(24)\n",
      "memory usage: 84.6+ MB\n"
     ]
    }
   ],
   "source": [
    "data_cpv_new = data_cpv.copy()\n",
    "for i in range(2, 6):\n",
    "    data_cpv_new = add_cpv_hierarchy_column(data_cpv_new, level=i)\n",
    "    \n",
    "data_cpv_new.info()"
   ]
  },
  {
   "cell_type": "code",
   "execution_count": null,
   "metadata": {},
   "outputs": [
    {
     "data": {
      "text/plain": [
       "(73,)"
      ]
     },
     "execution_count": 12,
     "metadata": {},
     "output_type": "execute_result"
    }
   ],
   "source": [
    "data_cpv_new['codeCPV_2'].unique().shape"
   ]
  },
  {
   "cell_type": "code",
   "execution_count": 19,
   "metadata": {},
   "outputs": [
    {
     "data": {
      "text/plain": [
       "(58, 1)"
      ]
     },
     "execution_count": 19,
     "metadata": {},
     "output_type": "execute_result"
    }
   ],
   "source": [
    "cpv_2 = pd.DataFrame(data_cpv_new['codeCPV_2'].value_counts())\n",
    "cpv_2[cpv_2['count'] > 10].shape"
   ]
  },
  {
   "cell_type": "code",
   "execution_count": 26,
   "metadata": {},
   "outputs": [
    {
     "data": {
      "text/html": [
       "<div>\n",
       "<style scoped>\n",
       "    .dataframe tbody tr th:only-of-type {\n",
       "        vertical-align: middle;\n",
       "    }\n",
       "\n",
       "    .dataframe tbody tr th {\n",
       "        vertical-align: top;\n",
       "    }\n",
       "\n",
       "    .dataframe thead th {\n",
       "        text-align: right;\n",
       "    }\n",
       "</style>\n",
       "<table border=\"1\" class=\"dataframe\">\n",
       "  <thead>\n",
       "    <tr style=\"text-align: right;\">\n",
       "      <th></th>\n",
       "      <th>count</th>\n",
       "    </tr>\n",
       "    <tr>\n",
       "      <th>codeCPV_2</th>\n",
       "      <th></th>\n",
       "    </tr>\n",
       "  </thead>\n",
       "  <tbody>\n",
       "    <tr>\n",
       "      <th>45000000</th>\n",
       "      <td>122409</td>\n",
       "    </tr>\n",
       "    <tr>\n",
       "      <th>71000000</th>\n",
       "      <td>42597</td>\n",
       "    </tr>\n",
       "    <tr>\n",
       "      <th>79000000</th>\n",
       "      <td>12606</td>\n",
       "    </tr>\n",
       "    <tr>\n",
       "      <th>90000000</th>\n",
       "      <td>10593</td>\n",
       "    </tr>\n",
       "    <tr>\n",
       "      <th>33000000</th>\n",
       "      <td>8304</td>\n",
       "    </tr>\n",
       "    <tr>\n",
       "      <th>...</th>\n",
       "      <td>...</td>\n",
       "    </tr>\n",
       "    <tr>\n",
       "      <th>13000000</th>\n",
       "      <td>1</td>\n",
       "    </tr>\n",
       "    <tr>\n",
       "      <th>04000000</th>\n",
       "      <td>1</td>\n",
       "    </tr>\n",
       "    <tr>\n",
       "      <th>54000000</th>\n",
       "      <td>1</td>\n",
       "    </tr>\n",
       "    <tr>\n",
       "      <th>46000000</th>\n",
       "      <td>1</td>\n",
       "    </tr>\n",
       "    <tr>\n",
       "      <th>91000000</th>\n",
       "      <td>1</td>\n",
       "    </tr>\n",
       "  </tbody>\n",
       "</table>\n",
       "<p>73 rows × 1 columns</p>\n",
       "</div>"
      ],
      "text/plain": [
       "            count\n",
       "codeCPV_2        \n",
       "45000000   122409\n",
       "71000000    42597\n",
       "79000000    12606\n",
       "90000000    10593\n",
       "33000000     8304\n",
       "...           ...\n",
       "13000000        1\n",
       "04000000        1\n",
       "54000000        1\n",
       "46000000        1\n",
       "91000000        1\n",
       "\n",
       "[73 rows x 1 columns]"
      ]
     },
     "execution_count": 26,
     "metadata": {},
     "output_type": "execute_result"
    }
   ],
   "source": [
    "cpv_2"
   ]
  },
  {
   "cell_type": "code",
   "execution_count": 14,
   "metadata": {},
   "outputs": [
    {
     "name": "stdout",
     "output_type": "stream",
     "text": [
      "(393,)\n",
      "(1226,)\n",
      "(2611,)\n"
     ]
    }
   ],
   "source": [
    "print(data_cpv_new['codeCPV_3'].unique().shape)\n",
    "print(data_cpv_new['codeCPV_4'].unique().shape)\n",
    "print(data_cpv_new['codeCPV_5'].unique().shape)\n"
   ]
  },
  {
   "cell_type": "code",
   "execution_count": 20,
   "metadata": {},
   "outputs": [],
   "source": [
    "# Ajoute le dossier parent du notebook au path\n",
    "sys.path.append(os.path.abspath(os.path.join(os.getcwd(), '..')))\n",
    "from scripts.preprocess import extract_cpv_hierarchy_level, codeCPV_group\n"
   ]
  },
  {
   "cell_type": "code",
   "execution_count": 21,
   "metadata": {},
   "outputs": [
    {
     "data": {
      "text/plain": [
       "'03000000'"
      ]
     },
     "execution_count": 21,
     "metadata": {},
     "output_type": "execute_result"
    }
   ],
   "source": [
    "test_code = \"03111900-1\"\n",
    "result = extract_cpv_hierarchy_level(test_code, level=2)\n",
    "result"
   ]
  },
  {
   "cell_type": "code",
   "execution_count": 22,
   "metadata": {},
   "outputs": [
    {
     "name": "stdout",
     "output_type": "stream",
     "text": [
      "<class 'pandas.core.frame.DataFrame'>\n",
      "RangeIndex: 299670 entries, 0 to 299669\n",
      "Data columns (total 33 columns):\n",
      " #   Column                     Non-Null Count   Dtype  \n",
      "---  ------                     --------------   -----  \n",
      " 0   Unnamed: 0                 299670 non-null  int64  \n",
      " 1   uid                        299670 non-null  object \n",
      " 2   id                         299670 non-null  object \n",
      " 3   nature                     299670 non-null  object \n",
      " 4   acheteur_id                299670 non-null  int64  \n",
      " 5   acheteur_nom               299477 non-null  object \n",
      " 6   acheteur_siren             299500 non-null  float64\n",
      " 7   titulaire_id               299670 non-null  object \n",
      " 8   titulaire_typeIdentifiant  299670 non-null  object \n",
      " 9   titulaire_nom              292097 non-null  object \n",
      " 10  titulaire_siren            298537 non-null  float64\n",
      " 11  objet                      299670 non-null  object \n",
      " 12  montant                    299670 non-null  float64\n",
      " 13  codeCPV                    299670 non-null  object \n",
      " 14  procedure                  299670 non-null  object \n",
      " 15  dureeMois                  299663 non-null  float64\n",
      " 16  dateNotification           299670 non-null  object \n",
      " 17  datePublicationDonnees     299668 non-null  object \n",
      " 18  formePrix                  299670 non-null  object \n",
      " 19  attributionAvance          125791 non-null  float64\n",
      " 20  offresRecues               198227 non-null  float64\n",
      " 21  marcheInnovant             123320 non-null  float64\n",
      " 22  ccag                       299670 non-null  object \n",
      " 23  sousTraitanceDeclaree      155111 non-null  float64\n",
      " 24  typeGroupementOperateurs   299670 non-null  object \n",
      " 25  tauxAvance                 170113 non-null  float64\n",
      " 26  origineUE                  169189 non-null  float64\n",
      " 27  origineFrance              169190 non-null  float64\n",
      " 28  lieuExecution_code         299629 non-null  object \n",
      " 29  lieuExecution_typeCode     299670 non-null  object \n",
      " 30  idAccordCadre              65564 non-null   object \n",
      " 31  source_open_data           299670 non-null  object \n",
      " 32  codeCPV_FR                 296025 non-null  object \n",
      "dtypes: float64(11), int64(2), object(20)\n",
      "memory usage: 75.4+ MB\n"
     ]
    }
   ],
   "source": [
    "data_cpv.info()"
   ]
  },
  {
   "cell_type": "code",
   "execution_count": 23,
   "metadata": {},
   "outputs": [
    {
     "name": "stdout",
     "output_type": "stream",
     "text": [
      "Data saved successfully to: /home/ronan/code/RonanB400/Project/decp_ml/data/data_cpv.csv\n",
      "<class 'pandas.core.frame.DataFrame'>\n",
      "RangeIndex: 299670 entries, 0 to 299669\n",
      "Data columns (total 37 columns):\n",
      " #   Column                     Non-Null Count   Dtype  \n",
      "---  ------                     --------------   -----  \n",
      " 0   Unnamed: 0                 299670 non-null  int64  \n",
      " 1   uid                        299670 non-null  object \n",
      " 2   id                         299670 non-null  object \n",
      " 3   nature                     299670 non-null  object \n",
      " 4   acheteur_id                299670 non-null  int64  \n",
      " 5   acheteur_nom               299477 non-null  object \n",
      " 6   acheteur_siren             299500 non-null  float64\n",
      " 7   titulaire_id               299670 non-null  object \n",
      " 8   titulaire_typeIdentifiant  299670 non-null  object \n",
      " 9   titulaire_nom              292097 non-null  object \n",
      " 10  titulaire_siren            298537 non-null  float64\n",
      " 11  objet                      299670 non-null  object \n",
      " 12  montant                    299670 non-null  float64\n",
      " 13  codeCPV                    299670 non-null  object \n",
      " 14  procedure                  299670 non-null  object \n",
      " 15  dureeMois                  299663 non-null  float64\n",
      " 16  dateNotification           299670 non-null  object \n",
      " 17  datePublicationDonnees     299668 non-null  object \n",
      " 18  formePrix                  299670 non-null  object \n",
      " 19  attributionAvance          125791 non-null  float64\n",
      " 20  offresRecues               198227 non-null  float64\n",
      " 21  marcheInnovant             123320 non-null  float64\n",
      " 22  ccag                       299670 non-null  object \n",
      " 23  sousTraitanceDeclaree      155111 non-null  float64\n",
      " 24  typeGroupementOperateurs   299670 non-null  object \n",
      " 25  tauxAvance                 170113 non-null  float64\n",
      " 26  origineUE                  169189 non-null  float64\n",
      " 27  origineFrance              169190 non-null  float64\n",
      " 28  lieuExecution_code         299629 non-null  object \n",
      " 29  lieuExecution_typeCode     299670 non-null  object \n",
      " 30  idAccordCadre              65564 non-null   object \n",
      " 31  source_open_data           299670 non-null  object \n",
      " 32  codeCPV_FR                 296025 non-null  object \n",
      " 33  codeCPV_2                  299670 non-null  object \n",
      " 34  codeCPV_3                  299670 non-null  object \n",
      " 35  codeCPV_4                  299670 non-null  object \n",
      " 36  codeCPV_5                  299670 non-null  object \n",
      "dtypes: float64(11), int64(2), object(24)\n",
      "memory usage: 84.6+ MB\n"
     ]
    }
   ],
   "source": [
    "data_cpv_new = codeCPV_group(data_cpv, levels=[2, 3, 4, 5])\n",
    "data_cpv_new.info()"
   ]
  },
  {
   "cell_type": "code",
   "execution_count": null,
   "metadata": {},
   "outputs": [],
   "source": []
  }
 ],
 "metadata": {
  "kernelspec": {
   "display_name": "decp_ml_env",
   "language": "python",
   "name": "python3"
  },
  "language_info": {
   "codemirror_mode": {
    "name": "ipython",
    "version": 3
   },
   "file_extension": ".py",
   "mimetype": "text/x-python",
   "name": "python",
   "nbconvert_exporter": "python",
   "pygments_lexer": "ipython3",
   "version": "3.10.6"
  }
 },
 "nbformat": 4,
 "nbformat_minor": 2
}
