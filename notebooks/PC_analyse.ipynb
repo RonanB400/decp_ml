{
 "cells": [
  {
   "cell_type": "code",
   "execution_count": 1,
   "id": "0f0c0052",
   "metadata": {},
   "outputs": [],
   "source": [
    "import pandas as pd\n",
    "import numpy as np\n",
    "import os\n",
    "import sys\n",
    "import matplotlib.pyplot as plt\n",
    "import seaborn as sns\n",
    "\n",
    "from sklearn.model_selection import train_test_split\n",
    "\n",
    "from scripts.data_cleaner import filter_top_cpv_categories"
   ]
  },
  {
   "cell_type": "code",
   "execution_count": 2,
   "id": "030ce466",
   "metadata": {},
   "outputs": [
    {
     "name": "stderr",
     "output_type": "stream",
     "text": [
      "/var/folders/nj/s1c8f0tj3ksfjdg8xyxr6rdc0000gn/T/ipykernel_80807/546279234.py:1: DtypeWarning: Columns (38) have mixed types. Specify dtype option on import or set low_memory=False.\n",
      "  df = pd.read_csv('../data/data_clean.csv')\n"
     ]
    }
   ],
   "source": [
    "df = pd.read_csv('../data/data_clean.csv')"
   ]
  },
  {
   "cell_type": "code",
   "execution_count": 4,
   "id": "0f9436cb",
   "metadata": {},
   "outputs": [
    {
     "name": "stdout",
     "output_type": "stream",
     "text": [
      "Filtered from 392 to 150 CPV categories, keeping 279174 rows out of 286850\n"
     ]
    }
   ],
   "source": [
    "df = filter_top_cpv_categories(df, top_n=150, cpv_column='codeCPV_3')"
   ]
  },
  {
   "cell_type": "code",
   "execution_count": 5,
   "id": "ff5353aa",
   "metadata": {},
   "outputs": [
    {
     "data": {
      "text/plain": [
       "(238163, 38)"
      ]
     },
     "execution_count": 5,
     "metadata": {},
     "output_type": "execute_result"
    }
   ],
   "source": [
    "df.drop(df[df['montant'] > 999999].index, inplace=True)\n",
    "df.shape"
   ]
  },
  {
   "cell_type": "code",
   "execution_count": 6,
   "id": "ac520458",
   "metadata": {},
   "outputs": [
    {
     "data": {
      "text/plain": [
       "0    11.292279\n",
       "1    10.882925\n",
       "4    13.235694\n",
       "5    11.350889\n",
       "6    12.044412\n",
       "Name: montant, dtype: float64"
      ]
     },
     "execution_count": 6,
     "metadata": {},
     "output_type": "execute_result"
    }
   ],
   "source": [
    "y = np.log1p(df['montant'])\n",
    "y.head()"
   ]
  },
  {
   "cell_type": "code",
   "execution_count": 7,
   "id": "a4fb28ac",
   "metadata": {},
   "outputs": [
    {
     "data": {
      "text/plain": [
       "(238163, 39)"
      ]
     },
     "execution_count": 7,
     "metadata": {},
     "output_type": "execute_result"
    }
   ],
   "source": [
    "bins = np.linspace(y.min(), y.max(), 10)\n",
    "\n",
    "# Créer les étiquettes correspondantes\n",
    "labels = list(range(1, len(bins)))\n",
    "\n",
    "# Ajouter la colonne fourchette_de_prix\n",
    "df['bins'] = pd.cut(y, bins=bins, labels=labels, include_lowest=True, right=True)\n",
    "\n",
    "df.shape"
   ]
  },
  {
   "cell_type": "code",
   "execution_count": 9,
   "id": "33f4c661",
   "metadata": {},
   "outputs": [],
   "source": [
    "df['bins'] = df['bins'].astype('int')"
   ]
  },
  {
   "cell_type": "code",
   "execution_count": 26,
   "id": "1237acb7",
   "metadata": {},
   "outputs": [
    {
     "data": {
      "text/plain": [
       "bins\n",
       "4    0.171731\n",
       "3    0.162523\n",
       "5    0.149511\n",
       "6    0.140286\n",
       "7    0.108610\n",
       "2    0.090451\n",
       "8    0.087537\n",
       "9    0.062995\n",
       "1    0.026356\n",
       "Name: proportion, dtype: float64"
      ]
     },
     "execution_count": 26,
     "metadata": {},
     "output_type": "execute_result"
    }
   ],
   "source": [
    "df['bins'].value_counts(normalize=True)"
   ]
  },
  {
   "cell_type": "code",
   "execution_count": 25,
   "id": "6ac3d664",
   "metadata": {},
   "outputs": [
    {
     "data": {
      "text/plain": [
       "<Axes: xlabel='bins', ylabel='Count'>"
      ]
     },
     "execution_count": 25,
     "metadata": {},
     "output_type": "execute_result"
    },
    {
     "data": {
      "image/png": "[encoded data removed]",
      "text/plain": [
       "<Figure size 640x480 with 1 Axes>"
      ]
     },
     "metadata": {},
     "output_type": "display_data"
    }
   ],
   "source": [
    "sns.histplot(df['bins'])"
   ]
  },
  {
   "cell_type": "code",
   "execution_count": 17,
   "id": "111d6c8a",
   "metadata": {},
   "outputs": [
    {
     "data": {
      "text/plain": [
       "647491.7"
      ]
     },
     "execution_count": 17,
     "metadata": {},
     "output_type": "execute_result"
    }
   ],
   "source": [
    "min(df['montant'][df['bins']>=9])"
   ]
  },
  {
   "cell_type": "code",
   "execution_count": 18,
   "id": "3ef86dc0",
   "metadata": {},
   "outputs": [
    {
     "data": {
      "text/plain": [
       "30883.66"
      ]
     },
     "execution_count": 18,
     "metadata": {},
     "output_type": "execute_result"
    }
   ],
   "source": [
    "max(df['montant'][df['bins']==1])"
   ]
  },
  {
   "cell_type": "code",
   "execution_count": null,
   "id": "67da1853",
   "metadata": {},
   "outputs": [],
   "source": []
  }
 ],
 "metadata": {
  "kernelspec": {
   "display_name": "decp_ml_env",
   "language": "python",
   "name": "python3"
  },
  "language_info": {
   "codemirror_mode": {
    "name": "ipython",
    "version": 3
   },
   "file_extension": ".py",
   "mimetype": "text/x-python",
   "name": "python",
   "nbconvert_exporter": "python",
   "pygments_lexer": "ipython3",
   "version": "3.10.6"
  }
 },
 "nbformat": 4,
 "nbformat_minor": 5
}
