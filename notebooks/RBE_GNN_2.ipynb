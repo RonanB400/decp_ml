{
 "cells": [
  {
   "cell_type": "code",
   "execution_count": 32,
   "metadata": {},
   "outputs": [
    {
     "name": "stdout",
     "output_type": "stream",
     "text": [
      "The autoreload extension is already loaded. To reload it, use:\n",
      "  %reload_ext autoreload\n"
     ]
    }
   ],
   "source": [
    "import pandas as pd\n",
    "import numpy as np\n",
    "import matplotlib.pyplot as plt\n",
    "import seaborn as sns\n",
    "import os\n",
    "import sqlite3\n",
    "import sys\n",
    "import logging\n",
    "import json\n",
    "\n",
    "# Data\n",
    "from sklearn.model_selection import train_test_split\n",
    "\n",
    "# Tensorflow\n",
    "import tensorflow as tf\n",
    "\n",
    "# Graph\n",
    "import tensorflow_gnn as tfgnn\n",
    "\n",
    "# Add the project root to the Python path\n",
    "#sys.path.append(os.path.abspath(os.path.join(os.getcwd(), '..')))\n",
    "from scripts.data_cleaner import filter_top_cpv_categories\n",
    "from scripts.gnn_anomaly_detection import ProcurementGraphBuilder, GNNAnomalyDetector, AnomalyAnalyzer\n",
    "\n",
    "from scripts.preprocess_pipeline import create_pipeline_cat\n",
    "\n",
    "\n",
    "%load_ext autoreload\n",
    "%autoreload 2\n"
   ]
  },
  {
   "cell_type": "code",
   "execution_count": 33,
   "metadata": {},
   "outputs": [
    {
     "name": "stderr",
     "output_type": "stream",
     "text": [
      "INFO:scripts.gnn_anomaly_detection:Loading data from /home/ronan/code/RonanB400/Project/decp_ml/data\n",
      "INFO:scripts.gnn_anomaly_detection:Preprocessing data...\n"
     ]
    },
    {
     "name": "stdout",
     "output_type": "stream",
     "text": [
      "Filtered from 392 to 60 CPV categories, keeping 250895 rows out of 286850\n"
     ]
    },
    {
     "name": "stderr",
     "output_type": "stream",
     "text": [
      "/home/ronan/.pyenv/versions/3.10.6/envs/decp_ml_env/lib/python3.10/site-packages/sklearn/pipeline.py:62: FutureWarning: This Pipeline instance is not fitted yet. Call 'fit' with appropriate arguments before using other methods such as transform, predict, etc. This will raise an error in 1.8 instead of the current warning.\n",
      "  warnings.warn(\n"
     ]
    }
   ],
   "source": [
    "graph_builder = ProcurementGraphBuilder()\n",
    "\n",
    "data_path = os.path.join(os.path.dirname(os.getcwd()), 'data')\n",
    "\n",
    "df = graph_builder.load_data(data_path)\n",
    "\n",
    "X_train_preproc, X_test_preproc, X_train, X_test = graph_builder.preprocess_data(df)\n",
    "\n"
   ]
  },
  {
   "cell_type": "code",
   "execution_count": 34,
   "metadata": {},
   "outputs": [
    {
     "name": "stderr",
     "output_type": "stream",
     "text": [
      "INFO:scripts.gnn_anomaly_detection:Creating graph structure from preprocessed data...\n",
      "INFO:scripts.gnn_anomaly_detection:Filtered to 200716 valid contracts (removed 0 contracts with missing names)\n",
      "INFO:scripts.gnn_anomaly_detection:Creating edges and edge features from preprocessed data...\n",
      "INFO:scripts.gnn_anomaly_detection:Computing acheteur features from preprocessed data...\n",
      "INFO:scripts.gnn_anomaly_detection:Computing titulaire features from preprocessed data...\n",
      "INFO:scripts.gnn_anomaly_detection:Creating graph structure from preprocessed data...\n",
      "INFO:scripts.gnn_anomaly_detection:Filtered to 50179 valid contracts (removed 0 contracts with missing names)\n",
      "INFO:scripts.gnn_anomaly_detection:Creating edges and edge features from preprocessed data...\n",
      "INFO:scripts.gnn_anomaly_detection:Computing acheteur features from preprocessed data...\n",
      "INFO:scripts.gnn_anomaly_detection:Computing titulaire features from preprocessed data...\n"
     ]
    }
   ],
   "source": [
    "X_train_graph = graph_builder.create_graph(X_train_preproc, X_train, type='train')\n",
    "X_test_graph = graph_builder.create_graph(X_test_preproc, X_test, type='test')"
   ]
  },
  {
   "cell_type": "code",
   "execution_count": 35,
   "metadata": {},
   "outputs": [
    {
     "name": "stderr",
     "output_type": "stream",
     "text": [
      "INFO:scripts.gnn_anomaly_detection:Creating TensorFlow GNN graph...\n",
      "INFO:scripts.gnn_anomaly_detection:Creating TensorFlow GNN graph...\n"
     ]
    }
   ],
   "source": [
    "gnn_detector = GNNAnomalyDetector(hidden_dim=64, output_dim=32, num_layers=3)\n",
    "\n",
    "# Scale features before creating TensorFlow graph\n",
    "node_features_train = X_train_graph['node_features']\n",
    "edge_features_train = X_train_graph['edge_features']\n",
    "\n",
    "X_train_tf_graph = gnn_detector.create_tensorflow_graph(X_train_graph, node_features_train, edge_features_train)\n",
    "gnn_detector.graph_tensor_train = X_train_tf_graph\n",
    "\n",
    "# Scale features before creating TensorFlow graph\n",
    "node_features_test = X_test_graph['node_features']\n",
    "edge_features_test = X_test_graph['edge_features']\n",
    "\n",
    "X_test_tf_graph = gnn_detector.create_tensorflow_graph(X_test_graph, node_features_test, edge_features_test)\n",
    "gnn_detector.graph_tensor_test = X_test_tf_graph\n"
   ]
  },
  {
   "cell_type": "code",
   "execution_count": 36,
   "metadata": {},
   "outputs": [
    {
     "name": "stderr",
     "output_type": "stream",
     "text": [
      "INFO:scripts.gnn_anomaly_detection:Building GNN model with node and edge anomaly detection...\n"
     ]
    },
    {
     "name": "stdout",
     "output_type": "stream",
     "text": [
      "Model: \"model_2\"\n",
      "__________________________________________________________________________________________________\n",
      " Layer (type)                Output Shape                 Param #   Connected to                  \n",
      "==================================================================================================\n",
      " input_7 (InputLayer)        [()]                         0         []                            \n",
      "                                                                                                  \n",
      " map_features_2 (MapFeature  ()                           12544     ['input_7[0][0]']             \n",
      " s)                                                                                               \n",
      "                                                                                                  \n",
      " graph_update_6 (GraphUpdat  ()                           20608     ['map_features_2[0][0]']      \n",
      " e)                                                                                               \n",
      "                                                                                                  \n",
      " graph_update_7 (GraphUpdat  ()                           20608     ['graph_update_6[0][0]']      \n",
      " e)                                                                                               \n",
      "                                                                                                  \n",
      " graph_update_8 (GraphUpdat  ()                           20608     ['graph_update_7[0][0]']      \n",
      " e)                                                                                               \n",
      "                                                                                                  \n",
      " input.edge_sets_2 (Instanc  {'contracts': ()}            0         ['graph_update_8[0][0]']      \n",
      " eProperty)                                                                                       \n",
      "                                                                                                  \n",
      " input.node_sets_2 (Instanc  {'entities': ()}             0         ['graph_update_8[0][0]']      \n",
      " eProperty)                                                                                       \n",
      "                                                                                                  \n",
      " input._get_features_ref_11  {'hidden_state': (None, 64   0         ['input.edge_sets_2[0][0]']   \n",
      "  (InstanceProperty)         )}                                                                   \n",
      "                                                                                                  \n",
      " input._get_features_ref_10  {'hidden_state': (None, 64   0         ['input.node_sets_2[0][0]']   \n",
      "  (InstanceProperty)         )}                                                                   \n",
      "                                                                                                  \n",
      " sequential_27 (Sequential)  (None, 32)                   2080      ['input._get_features_ref_11[0\n",
      "                                                                    ][0]']                        \n",
      "                                                                                                  \n",
      " sequential_26 (Sequential)  (None, 32)                   2080      ['input._get_features_ref_10[0\n",
      "                                                                    ][0]']                        \n",
      "                                                                                                  \n",
      " edge_embeddings (Lambda)    (None, 32)                   0         ['sequential_27[0][0]']       \n",
      "                                                                                                  \n",
      " node_embeddings (Lambda)    (None, 32)                   0         ['sequential_26[0][0]']       \n",
      "                                                                                                  \n",
      " sequential_29 (Sequential)  (None, 64)                   2112      ['edge_embeddings[0][0]']     \n",
      "                                                                                                  \n",
      " sequential_28 (Sequential)  (None, 64)                   2112      ['node_embeddings[0][0]']     \n",
      "                                                                                                  \n",
      " edge_reconstructed (Dense)  (None, 94)                   6110      ['sequential_29[0][0]']       \n",
      "                                                                                                  \n",
      " node_reconstructed (Dense)  (None, 100)                  6500      ['sequential_28[0][0]']       \n",
      "                                                                                                  \n",
      "==================================================================================================\n",
      "Total params: 95362 (372.51 KB)\n",
      "Trainable params: 95362 (372.51 KB)\n",
      "Non-trainable params: 0 (0.00 Byte)\n",
      "__________________________________________________________________________________________________\n"
     ]
    }
   ],
   "source": [
    "gnn_detector.model = gnn_detector.build_model(X_train_graph['node_features'].shape[1], X_train_graph['edge_features'].shape[1])\n",
    "gnn_detector.model.summary()"
   ]
  },
  {
   "cell_type": "code",
   "execution_count": 37,
   "metadata": {},
   "outputs": [
    {
     "name": "stderr",
     "output_type": "stream",
     "text": [
      "INFO:scripts.gnn_anomaly_detection:Training GNN model for 10 epochs...\n"
     ]
    },
    {
     "name": "stdout",
     "output_type": "stream",
     "text": [
      "Epoch 1/10\n",
      "1/1 [==============================] - 3s 3s/step - loss: 4.7524 - edge_embeddings_loss: 0.1825 - edge_reconstructed_loss: 0.1844 - node_embeddings_loss: 1.0386 - node_reconstructed_loss: 9.2787\n",
      "Epoch 2/10\n",
      "1/1 [==============================] - 1s 622ms/step - loss: 4.7082 - edge_embeddings_loss: 0.1733 - edge_reconstructed_loss: 0.1724 - node_embeddings_loss: 1.0282 - node_reconstructed_loss: 9.2027\n",
      "Epoch 3/10\n",
      "1/1 [==============================] - 1s 603ms/step - loss: 4.6731 - edge_embeddings_loss: 0.1647 - edge_reconstructed_loss: 0.1623 - node_embeddings_loss: 1.0226 - node_reconstructed_loss: 9.1443\n",
      "Epoch 4/10\n",
      "1/1 [==============================] - 1s 929ms/step - loss: 4.6445 - edge_embeddings_loss: 0.1567 - edge_reconstructed_loss: 0.1539 - node_embeddings_loss: 1.0203 - node_reconstructed_loss: 9.0985\n",
      "Epoch 5/10\n",
      "1/1 [==============================] - 1s 581ms/step - loss: 4.6218 - edge_embeddings_loss: 0.1494 - edge_reconstructed_loss: 0.1468 - node_embeddings_loss: 1.0160 - node_reconstructed_loss: 9.0645\n",
      "Epoch 6/10\n",
      "1/1 [==============================] - 1s 568ms/step - loss: 4.6015 - edge_embeddings_loss: 0.1428 - edge_reconstructed_loss: 0.1408 - node_embeddings_loss: 1.0146 - node_reconstructed_loss: 9.0343\n",
      "Epoch 7/10\n",
      "1/1 [==============================] - 1s 682ms/step - loss: 4.5835 - edge_embeddings_loss: 0.1367 - edge_reconstructed_loss: 0.1357 - node_embeddings_loss: 1.0145 - node_reconstructed_loss: 9.0083\n",
      "Epoch 8/10\n",
      "1/1 [==============================] - 1s 585ms/step - loss: 4.5681 - edge_embeddings_loss: 0.1314 - edge_reconstructed_loss: 0.1313 - node_embeddings_loss: 1.0111 - node_reconstructed_loss: 8.9877\n",
      "Epoch 9/10\n",
      "1/1 [==============================] - 1s 912ms/step - loss: 4.5521 - edge_embeddings_loss: 0.1263 - edge_reconstructed_loss: 0.1276 - node_embeddings_loss: 1.0101 - node_reconstructed_loss: 8.9647\n",
      "Epoch 10/10\n",
      "1/1 [==============================] - 1s 600ms/step - loss: 4.5387 - edge_embeddings_loss: 0.1216 - edge_reconstructed_loss: 0.1243 - node_embeddings_loss: 1.0080 - node_reconstructed_loss: 8.9471\n"
     ]
    }
   ],
   "source": [
    "history = gnn_detector.train(X_train_tf_graph, epochs=10)"
   ]
  },
  {
   "cell_type": "code",
   "execution_count": 40,
   "metadata": {},
   "outputs": [
    {
     "name": "stderr",
     "output_type": "stream",
     "text": [
      "INFO:scripts.gnn_anomaly_detection:Detecting node and edge anomalies...\n"
     ]
    },
    {
     "name": "stdout",
     "output_type": "stream",
     "text": [
      "graph_tensor is self.graph_tensor_test\n"
     ]
    },
    {
     "ename": "ValueError",
     "evalue": "in user code:\n\n    File \"/home/ronan/.pyenv/versions/3.10.6/envs/decp_ml_env/lib/python3.10/site-packages/keras/src/engine/training.py\", line 2416, in predict_function  *\n        return step_function(self, iterator)\n    File \"/home/ronan/.pyenv/versions/3.10.6/envs/decp_ml_env/lib/python3.10/site-packages/keras/src/engine/training.py\", line 2401, in step_function  **\n        outputs = model.distribute_strategy.run(run_step, args=(data,))\n    File \"/home/ronan/.pyenv/versions/3.10.6/envs/decp_ml_env/lib/python3.10/site-packages/keras/src/engine/training.py\", line 2389, in run_step  **\n        outputs = model.predict_step(data)\n    File \"/home/ronan/.pyenv/versions/3.10.6/envs/decp_ml_env/lib/python3.10/site-packages/keras/src/engine/training.py\", line 2357, in predict_step\n        return self(x, training=False)\n    File \"/home/ronan/.pyenv/versions/3.10.6/envs/decp_ml_env/lib/python3.10/site-packages/keras/src/utils/traceback_utils.py\", line 70, in error_handler\n        raise e.with_traceback(filtered_tb) from None\n    File \"/home/ronan/.pyenv/versions/3.10.6/envs/decp_ml_env/lib/python3.10/site-packages/tensorflow_gnn/keras/layers/graph_update.py\", line 236, in call\n        gt.check_scalar_graph_tensor(graph, \"GraphUpdate\")\n    File \"/home/ronan/.pyenv/versions/3.10.6/envs/decp_ml_env/lib/python3.10/site-packages/tensorflow_gnn/graph/graph_tensor.py\", line 1747, in check_scalar_graph_tensor\n        gp.check_scalar_graph_piece(graph, name=name)\n    File \"/home/ronan/.pyenv/versions/3.10.6/envs/decp_ml_env/lib/python3.10/site-packages/tensorflow_gnn/graph/graph_piece.py\", line 1300, in check_scalar_graph_piece\n        raise ValueError(\n\n    ValueError: Exception encountered when calling layer 'graph_update_6' (type GraphUpdate).\n    \n    GraphUpdate requires a scalar GraphTensor, that is, with `GraphTensor.rank=0`, but got `rank=1`. Use GraphTensor.merge_batch_to_components() to merge all contained graphs into one contiguously indexed graph of the scalar GraphTensor.\n    \n    Call arguments received by layer 'graph_update_6' (type GraphUpdate):\n      • graph=GraphTensor(\n      context=Context(features={}, sizes=Tensor(\"model_2/map_features_2/ones_like:0\", shape=(None, 1), dtype=int32), shape=(None,), indices_dtype=tf.int32),\n      node_set_names=['entities'],\n      edge_set_names=['contracts'])\n",
     "output_type": "error",
     "traceback": [
      "\u001b[0;31m---------------------------------------------------------------------------\u001b[0m",
      "\u001b[0;31mValueError\u001b[0m                                Traceback (most recent call last)",
      "Cell \u001b[0;32mIn[40], line 2\u001b[0m\n\u001b[1;32m      1\u001b[0m (node_reconstruction_error, edge_reconstruction_error, \n\u001b[0;32m----> 2\u001b[0m      node_threshold, edge_threshold) \u001b[38;5;241m=\u001b[39m \u001b[43mgnn_detector\u001b[49m\u001b[38;5;241;43m.\u001b[39;49m\u001b[43mdetect_anomalies\u001b[49m\u001b[43m(\u001b[49m\u001b[43m)\u001b[49m\n\u001b[1;32m      4\u001b[0m \u001b[38;5;66;03m# Calculate anomaly masks\u001b[39;00m\n\u001b[1;32m      5\u001b[0m node_anomalies \u001b[38;5;241m=\u001b[39m node_reconstruction_error \u001b[38;5;241m>\u001b[39m node_threshold\n",
      "File \u001b[0;32m~/code/RonanB400/Project/decp_ml/scripts/gnn_anomaly_detection.py:704\u001b[0m, in \u001b[0;36mGNNAnomalyDetector.detect_anomalies\u001b[0;34m(self, graph_tensor, threshold_percentile)\u001b[0m\n\u001b[1;32m    698\u001b[0m dataset \u001b[38;5;241m=\u001b[39m tf\u001b[38;5;241m.\u001b[39mdata\u001b[38;5;241m.\u001b[39mDataset\u001b[38;5;241m.\u001b[39mfrom_generator(\n\u001b[1;32m    699\u001b[0m     data_generator,\n\u001b[1;32m    700\u001b[0m     output_signature\u001b[38;5;241m=\u001b[39mgraph_tensor\u001b[38;5;241m.\u001b[39mspec\n\u001b[1;32m    701\u001b[0m )\n\u001b[1;32m    702\u001b[0m dataset \u001b[38;5;241m=\u001b[39m dataset\u001b[38;5;241m.\u001b[39mbatch(\u001b[38;5;241m1\u001b[39m)\n\u001b[0;32m--> 704\u001b[0m predictions \u001b[38;5;241m=\u001b[39m \u001b[38;5;28;43mself\u001b[39;49m\u001b[38;5;241;43m.\u001b[39;49m\u001b[43mmodel\u001b[49m\u001b[38;5;241;43m.\u001b[39;49m\u001b[43mpredict\u001b[49m\u001b[43m(\u001b[49m\u001b[43mdataset\u001b[49m\u001b[43m)\u001b[49m\n\u001b[1;32m    705\u001b[0m node_reconstructed \u001b[38;5;241m=\u001b[39m predictions[\u001b[38;5;124m'\u001b[39m\u001b[38;5;124mnode_reconstructed\u001b[39m\u001b[38;5;124m'\u001b[39m]\n\u001b[1;32m    706\u001b[0m edge_reconstructed \u001b[38;5;241m=\u001b[39m predictions[\u001b[38;5;124m'\u001b[39m\u001b[38;5;124medge_reconstructed\u001b[39m\u001b[38;5;124m'\u001b[39m]\n",
      "File \u001b[0;32m~/.pyenv/versions/3.10.6/envs/decp_ml_env/lib/python3.10/site-packages/keras/src/utils/traceback_utils.py:70\u001b[0m, in \u001b[0;36mfilter_traceback.<locals>.error_handler\u001b[0;34m(*args, **kwargs)\u001b[0m\n\u001b[1;32m     67\u001b[0m     filtered_tb \u001b[38;5;241m=\u001b[39m _process_traceback_frames(e\u001b[38;5;241m.\u001b[39m__traceback__)\n\u001b[1;32m     68\u001b[0m     \u001b[38;5;66;03m# To get the full stack trace, call:\u001b[39;00m\n\u001b[1;32m     69\u001b[0m     \u001b[38;5;66;03m# `tf.debugging.disable_traceback_filtering()`\u001b[39;00m\n\u001b[0;32m---> 70\u001b[0m     \u001b[38;5;28;01mraise\u001b[39;00m e\u001b[38;5;241m.\u001b[39mwith_traceback(filtered_tb) \u001b[38;5;28;01mfrom\u001b[39;00m\u001b[38;5;250m \u001b[39m\u001b[38;5;28;01mNone\u001b[39;00m\n\u001b[1;32m     71\u001b[0m \u001b[38;5;28;01mfinally\u001b[39;00m:\n\u001b[1;32m     72\u001b[0m     \u001b[38;5;28;01mdel\u001b[39;00m filtered_tb\n",
      "File \u001b[0;32m/tmp/__autograph_generated_filet9vz1e0h.py:15\u001b[0m, in \u001b[0;36mouter_factory.<locals>.inner_factory.<locals>.tf__predict_function\u001b[0;34m(iterator)\u001b[0m\n\u001b[1;32m     13\u001b[0m \u001b[38;5;28;01mtry\u001b[39;00m:\n\u001b[1;32m     14\u001b[0m     do_return \u001b[38;5;241m=\u001b[39m \u001b[38;5;28;01mTrue\u001b[39;00m\n\u001b[0;32m---> 15\u001b[0m     retval_ \u001b[38;5;241m=\u001b[39m ag__\u001b[38;5;241m.\u001b[39mconverted_call(ag__\u001b[38;5;241m.\u001b[39mld(step_function), (ag__\u001b[38;5;241m.\u001b[39mld(\u001b[38;5;28mself\u001b[39m), ag__\u001b[38;5;241m.\u001b[39mld(iterator)), \u001b[38;5;28;01mNone\u001b[39;00m, fscope)\n\u001b[1;32m     16\u001b[0m \u001b[38;5;28;01mexcept\u001b[39;00m:\n\u001b[1;32m     17\u001b[0m     do_return \u001b[38;5;241m=\u001b[39m \u001b[38;5;28;01mFalse\u001b[39;00m\n",
      "File \u001b[0;32m~/.pyenv/versions/3.10.6/envs/decp_ml_env/lib/python3.10/site-packages/tensorflow_gnn/keras/layers/graph_update.py:236\u001b[0m, in \u001b[0;36mGraphUpdate.call\u001b[0;34m(self, graph)\u001b[0m\n\u001b[1;32m    233\u001b[0m     \u001b[38;5;28mself\u001b[39m\u001b[38;5;241m.\u001b[39m_deferred_init_callback \u001b[38;5;241m=\u001b[39m \u001b[38;5;28;01mNone\u001b[39;00m  \u001b[38;5;66;03m# Enable garbage collection.\u001b[39;00m\n\u001b[1;32m    234\u001b[0m \u001b[38;5;28;01massert\u001b[39;00m \u001b[38;5;28mself\u001b[39m\u001b[38;5;241m.\u001b[39m_is_initialized\n\u001b[0;32m--> 236\u001b[0m \u001b[43mgt\u001b[49m\u001b[38;5;241;43m.\u001b[39;49m\u001b[43mcheck_scalar_graph_tensor\u001b[49m\u001b[43m(\u001b[49m\u001b[43mgraph\u001b[49m\u001b[43m,\u001b[49m\u001b[43m \u001b[49m\u001b[38;5;124;43m\"\u001b[39;49m\u001b[38;5;124;43mGraphUpdate\u001b[39;49m\u001b[38;5;124;43m\"\u001b[39;49m\u001b[43m)\u001b[49m\n\u001b[1;32m    238\u001b[0m \u001b[38;5;28;01mif\u001b[39;00m \u001b[38;5;28mself\u001b[39m\u001b[38;5;241m.\u001b[39m_edge_set_updates:\n\u001b[1;32m    239\u001b[0m   edge_set_features \u001b[38;5;241m=\u001b[39m {}\n",
      "File \u001b[0;32m~/.pyenv/versions/3.10.6/envs/decp_ml_env/lib/python3.10/site-packages/tensorflow_gnn/graph/graph_tensor.py:1747\u001b[0m, in \u001b[0;36mcheck_scalar_graph_tensor\u001b[0;34m(graph, name)\u001b[0m\n\u001b[1;32m   1744\u001b[0m \u001b[38;5;28;01mdef\u001b[39;00m\u001b[38;5;250m \u001b[39m\u001b[38;5;21mcheck_scalar_graph_tensor\u001b[39m(graph: Union[GraphTensor, GraphTensorSpec],\n\u001b[1;32m   1745\u001b[0m                               name\u001b[38;5;241m=\u001b[39m\u001b[38;5;124m'\u001b[39m\u001b[38;5;124mThis operation\u001b[39m\u001b[38;5;124m'\u001b[39m) \u001b[38;5;241m-\u001b[39m\u001b[38;5;241m>\u001b[39m \u001b[38;5;28;01mNone\u001b[39;00m:\n\u001b[1;32m   1746\u001b[0m \u001b[38;5;250m  \u001b[39m\u001b[38;5;124;03m\"\"\"Checks that graph tensor is scalar (has rank 0).\"\"\"\u001b[39;00m\n\u001b[0;32m-> 1747\u001b[0m   \u001b[43mgp\u001b[49m\u001b[38;5;241;43m.\u001b[39;49m\u001b[43mcheck_scalar_graph_piece\u001b[49m\u001b[43m(\u001b[49m\u001b[43mgraph\u001b[49m\u001b[43m,\u001b[49m\u001b[43m \u001b[49m\u001b[43mname\u001b[49m\u001b[38;5;241;43m=\u001b[39;49m\u001b[43mname\u001b[49m\u001b[43m)\u001b[49m\n",
      "File \u001b[0;32m~/.pyenv/versions/3.10.6/envs/decp_ml_env/lib/python3.10/site-packages/tensorflow_gnn/graph/graph_piece.py:1300\u001b[0m, in \u001b[0;36mcheck_scalar_graph_piece\u001b[0;34m(piece, name)\u001b[0m\n\u001b[1;32m   1298\u001b[0m   piece_name: \u001b[38;5;28mstr\u001b[39m \u001b[38;5;241m=\u001b[39m \u001b[38;5;28mtype\u001b[39m(piece)\u001b[38;5;241m.\u001b[39m\u001b[38;5;18m__name__\u001b[39m\n\u001b[1;32m   1299\u001b[0m \u001b[38;5;28;01mif\u001b[39;00m piece\u001b[38;5;241m.\u001b[39mrank \u001b[38;5;241m!=\u001b[39m \u001b[38;5;241m0\u001b[39m:\n\u001b[0;32m-> 1300\u001b[0m   \u001b[38;5;28;01mraise\u001b[39;00m \u001b[38;5;167;01mValueError\u001b[39;00m(\n\u001b[1;32m   1301\u001b[0m       (\u001b[38;5;124mf\u001b[39m\u001b[38;5;124m'\u001b[39m\u001b[38;5;132;01m{\u001b[39;00mname\u001b[38;5;132;01m}\u001b[39;00m\u001b[38;5;124m requires a scalar \u001b[39m\u001b[38;5;132;01m{\u001b[39;00mpiece_name\u001b[38;5;132;01m}\u001b[39;00m\u001b[38;5;124m, that is,\u001b[39m\u001b[38;5;124m'\u001b[39m\n\u001b[1;32m   1302\u001b[0m        \u001b[38;5;124mf\u001b[39m\u001b[38;5;124m'\u001b[39m\u001b[38;5;124m with `\u001b[39m\u001b[38;5;132;01m{\u001b[39;00mpiece_name\u001b[38;5;132;01m}\u001b[39;00m\u001b[38;5;124m.rank=0`, but got `rank=\u001b[39m\u001b[38;5;132;01m{\u001b[39;00mpiece\u001b[38;5;241m.\u001b[39mrank\u001b[38;5;132;01m}\u001b[39;00m\u001b[38;5;124m`.\u001b[39m\u001b[38;5;124m'\u001b[39m\n\u001b[1;32m   1303\u001b[0m        \u001b[38;5;124mf\u001b[39m\u001b[38;5;124m'\u001b[39m\u001b[38;5;124m Use GraphTensor.merge_batch_to_components() to merge all contained\u001b[39m\u001b[38;5;124m'\u001b[39m\n\u001b[1;32m   1304\u001b[0m        \u001b[38;5;124m'\u001b[39m\u001b[38;5;124m graphs into one contiguously indexed graph of the scalar\u001b[39m\u001b[38;5;124m'\u001b[39m\n\u001b[1;32m   1305\u001b[0m        \u001b[38;5;124m'\u001b[39m\u001b[38;5;124m GraphTensor.\u001b[39m\u001b[38;5;124m'\u001b[39m))\n",
      "\u001b[0;31mValueError\u001b[0m: in user code:\n\n    File \"/home/ronan/.pyenv/versions/3.10.6/envs/decp_ml_env/lib/python3.10/site-packages/keras/src/engine/training.py\", line 2416, in predict_function  *\n        return step_function(self, iterator)\n    File \"/home/ronan/.pyenv/versions/3.10.6/envs/decp_ml_env/lib/python3.10/site-packages/keras/src/engine/training.py\", line 2401, in step_function  **\n        outputs = model.distribute_strategy.run(run_step, args=(data,))\n    File \"/home/ronan/.pyenv/versions/3.10.6/envs/decp_ml_env/lib/python3.10/site-packages/keras/src/engine/training.py\", line 2389, in run_step  **\n        outputs = model.predict_step(data)\n    File \"/home/ronan/.pyenv/versions/3.10.6/envs/decp_ml_env/lib/python3.10/site-packages/keras/src/engine/training.py\", line 2357, in predict_step\n        return self(x, training=False)\n    File \"/home/ronan/.pyenv/versions/3.10.6/envs/decp_ml_env/lib/python3.10/site-packages/keras/src/utils/traceback_utils.py\", line 70, in error_handler\n        raise e.with_traceback(filtered_tb) from None\n    File \"/home/ronan/.pyenv/versions/3.10.6/envs/decp_ml_env/lib/python3.10/site-packages/tensorflow_gnn/keras/layers/graph_update.py\", line 236, in call\n        gt.check_scalar_graph_tensor(graph, \"GraphUpdate\")\n    File \"/home/ronan/.pyenv/versions/3.10.6/envs/decp_ml_env/lib/python3.10/site-packages/tensorflow_gnn/graph/graph_tensor.py\", line 1747, in check_scalar_graph_tensor\n        gp.check_scalar_graph_piece(graph, name=name)\n    File \"/home/ronan/.pyenv/versions/3.10.6/envs/decp_ml_env/lib/python3.10/site-packages/tensorflow_gnn/graph/graph_piece.py\", line 1300, in check_scalar_graph_piece\n        raise ValueError(\n\n    ValueError: Exception encountered when calling layer 'graph_update_6' (type GraphUpdate).\n    \n    GraphUpdate requires a scalar GraphTensor, that is, with `GraphTensor.rank=0`, but got `rank=1`. Use GraphTensor.merge_batch_to_components() to merge all contained graphs into one contiguously indexed graph of the scalar GraphTensor.\n    \n    Call arguments received by layer 'graph_update_6' (type GraphUpdate):\n      • graph=GraphTensor(\n      context=Context(features={}, sizes=Tensor(\"model_2/map_features_2/ones_like:0\", shape=(None, 1), dtype=int32), shape=(None,), indices_dtype=tf.int32),\n      node_set_names=['entities'],\n      edge_set_names=['contracts'])\n"
     ]
    }
   ],
   "source": [
    "\n",
    "(node_reconstruction_error, edge_reconstruction_error, \n",
    "     node_threshold, edge_threshold) = gnn_detector.detect_anomalies()\n",
    "    \n",
    "# Calculate anomaly masks\n",
    "node_anomalies = node_reconstruction_error > node_threshold\n",
    "edge_anomalies = edge_reconstruction_error > edge_threshold"
   ]
  },
  {
   "cell_type": "code",
   "execution_count": null,
   "metadata": {},
   "outputs": [],
   "source": []
  }
 ],
 "metadata": {
  "kernelspec": {
   "display_name": "decp_ml_env",
   "language": "python",
   "name": "python3"
  },
  "language_info": {
   "codemirror_mode": {
    "name": "ipython",
    "version": 3
   },
   "file_extension": ".py",
   "mimetype": "text/x-python",
   "name": "python",
   "nbconvert_exporter": "python",
   "pygments_lexer": "ipython3",
   "version": "3.10.6"
  }
 },
 "nbformat": 4,
 "nbformat_minor": 2
}
