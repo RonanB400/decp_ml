{
 "cells": [
  {
   "cell_type": "code",
   "execution_count": 2,
   "metadata": {},
   "outputs": [
    {
     "name": "stdout",
     "output_type": "stream",
     "text": [
      "The autoreload extension is already loaded. To reload it, use:\n",
      "  %reload_ext autoreload\n"
     ]
    }
   ],
   "source": [
    "import pandas as pd\n",
    "import numpy as np\n",
    "import matplotlib.pyplot as plt\n",
    "import seaborn as sns\n",
    "import os\n",
    "import sqlite3\n",
    "import sys\n",
    "import logging\n",
    "import pickle\n",
    "\n",
    "# Data\n",
    "from sklearn.model_selection import train_test_split\n",
    "\n",
    "# Tensorflow\n",
    "import tensorflow as tf\n",
    "\n",
    "# Graph\n",
    "import tensorflow_gnn as tfgnn\n",
    "\n",
    "# Add the project root to the Python path\n",
    "#sys.path.append(os.path.abspath(os.path.join(os.getcwd(), '..')))\n",
    "from scripts.data_cleaner import filter_top_cpv_categories\n",
    "from scripts.gnn_anomaly_detection import ProcurementGraphBuilder, GNNAnomalyDetector, AnomalyAnalyzer\n",
    "\n",
    "from scripts.preprocess_pipeline import create_pipeline_cat\n",
    "\n",
    "\n",
    "%load_ext autoreload\n",
    "%autoreload 2\n"
   ]
  },
  {
   "cell_type": "code",
   "execution_count": 33,
   "metadata": {},
   "outputs": [
    {
     "name": "stderr",
     "output_type": "stream",
     "text": [
      "INFO:scripts.gnn_anomaly_detection:Loading data from /home/ronan/code/RonanB400/Project/decp_ml/data\n",
      "INFO:scripts.gnn_anomaly_detection:Preprocessing data...\n"
     ]
    },
    {
     "name": "stdout",
     "output_type": "stream",
     "text": [
      "Filtered from 392 to 60 CPV categories, keeping 250895 rows out of 286850\n"
     ]
    },
    {
     "name": "stderr",
     "output_type": "stream",
     "text": [
      "/home/ronan/.pyenv/versions/3.10.6/envs/decp_ml_env/lib/python3.10/site-packages/sklearn/pipeline.py:62: FutureWarning: This Pipeline instance is not fitted yet. Call 'fit' with appropriate arguments before using other methods such as transform, predict, etc. This will raise an error in 1.8 instead of the current warning.\n",
      "  warnings.warn(\n"
     ]
    }
   ],
   "source": [
    "graph_builder = ProcurementGraphBuilder()\n",
    "\n",
    "data_path = os.path.join(os.path.dirname(os.getcwd()), 'data')\n",
    "\n",
    "df = graph_builder.load_data(data_path)\n",
    "\n",
    "X_train_preproc, X_test_preproc, X_train, X_test = graph_builder.preprocess_data(df)\n",
    "\n",
    "X_train_graph = graph_builder.create_graph(X_train_preproc, X_train, type='train')\n",
    "X_test_graph = graph_builder.create_graph(X_test_preproc, X_test, type='test')"
   ]
  },
  {
   "cell_type": "code",
   "execution_count": 3,
   "metadata": {},
   "outputs": [
    {
     "name": "stderr",
     "output_type": "stream",
     "text": [
      "INFO:scripts.gnn_anomaly_detection:Creating TensorFlow GNN graph...\n",
      "INFO:scripts.gnn_anomaly_detection:Creating TensorFlow GNN graph...\n"
     ]
    }
   ],
   "source": [
    "data_path = os.path.join(os.path.dirname(os.getcwd()), 'data')\n",
    "\n",
    "\n",
    "# Load a pickle file\n",
    "with open(os.path.join(data_path, 'graph_data_train.pkl'), 'rb') as f:\n",
    "    X_train_graph = pickle.load(f)\n",
    "\n",
    "with open(os.path.join(data_path, 'graph_data_test.pkl'), 'rb') as f:\n",
    "    X_test_graph = pickle.load(f)\n",
    "    \n",
    "gnn_detector = GNNAnomalyDetector(hidden_dim=64, output_dim=32, num_layers=3)\n",
    "\n",
    "# Scale features before creating TensorFlow graph\n",
    "node_features_train = X_train_graph['node_features']\n",
    "edge_features_train = X_train_graph['edge_features']\n",
    "\n",
    "X_train_tf_graph = gnn_detector.create_tensorflow_graph(X_train_graph, node_features_train, edge_features_train)\n",
    "gnn_detector.graph_tensor_train = X_train_tf_graph\n",
    "\n",
    "# Scale features before creating TensorFlow graph\n",
    "node_features_test = X_test_graph['node_features']\n",
    "edge_features_test = X_test_graph['edge_features']\n",
    "\n",
    "X_test_tf_graph = gnn_detector.create_tensorflow_graph(X_test_graph, node_features_test, edge_features_test)\n",
    "gnn_detector.graph_tensor_test = X_test_tf_graph\n"
   ]
  },
  {
   "cell_type": "code",
   "execution_count": 4,
   "metadata": {},
   "outputs": [
    {
     "name": "stderr",
     "output_type": "stream",
     "text": [
      "INFO:scripts.gnn_anomaly_detection:Building GNN model with node and edge anomaly detection...\n"
     ]
    },
    {
     "name": "stdout",
     "output_type": "stream",
     "text": [
      "WARNING:tensorflow:Mapping types may not work well with tf.nest. Prefer using MutableMapping for <class 'tensorflow_gnn.graph.graph_tensor._ImmutableMapping'>\n"
     ]
    },
    {
     "name": "stderr",
     "output_type": "stream",
     "text": [
      "WARNING:tensorflow:Mapping types may not work well with tf.nest. Prefer using MutableMapping for <class 'tensorflow_gnn.graph.graph_tensor._ImmutableMapping'>\n"
     ]
    },
    {
     "name": "stdout",
     "output_type": "stream",
     "text": [
      "WARNING:tensorflow:Mapping types may not work well with tf.nest. Prefer using MutableMapping for <class 'tensorflow_gnn.graph.graph_tensor._ImmutableMapping'>\n"
     ]
    },
    {
     "name": "stderr",
     "output_type": "stream",
     "text": [
      "WARNING:tensorflow:Mapping types may not work well with tf.nest. Prefer using MutableMapping for <class 'tensorflow_gnn.graph.graph_tensor._ImmutableMapping'>\n"
     ]
    },
    {
     "name": "stdout",
     "output_type": "stream",
     "text": [
      "Model: \"model\"\n",
      "__________________________________________________________________________________________________\n",
      " Layer (type)                Output Shape                 Param #   Connected to                  \n",
      "==================================================================================================\n",
      " input_1 (InputLayer)        [()]                         0         []                            \n",
      "                                                                                                  \n",
      " input.merge_batch_to_compo  ()                           0         ['input_1[0][0]']             \n",
      " nents (InstanceMethod)                                                                           \n",
      "                                                                                                  \n",
      " map_features (MapFeatures)  ()                           12544     ['input.merge_batch_to_compone\n",
      "                                                                    nts[0][0]']                   \n",
      "                                                                                                  \n",
      " graph_update (GraphUpdate)  ()                           20608     ['map_features[0][0]']        \n",
      "                                                                                                  \n",
      " graph_update_1 (GraphUpdat  ()                           20608     ['graph_update[0][0]']        \n",
      " e)                                                                                               \n",
      "                                                                                                  \n",
      " graph_update_2 (GraphUpdat  ()                           20608     ['graph_update_1[0][0]']      \n",
      " e)                                                                                               \n",
      "                                                                                                  \n",
      " input.edge_sets (InstanceP  {'contracts': ()}            0         ['graph_update_2[0][0]']      \n",
      " roperty)                                                                                         \n",
      "                                                                                                  \n",
      " input.node_sets (InstanceP  {'entities': ()}             0         ['graph_update_2[0][0]']      \n",
      " roperty)                                                                                         \n",
      "                                                                                                  \n",
      " input._get_features_ref_3   {'hidden_state': (None, 64   0         ['input.edge_sets[0][0]']     \n",
      " (InstanceProperty)          )}                                                                   \n",
      "                                                                                                  \n",
      " input._get_features_ref_2   {'hidden_state': (None, 64   0         ['input.node_sets[0][0]']     \n",
      " (InstanceProperty)          )}                                                                   \n",
      "                                                                                                  \n",
      " sequential_7 (Sequential)   (None, 32)                   2080      ['input._get_features_ref_3[0]\n",
      "                                                                    [0]']                         \n",
      "                                                                                                  \n",
      " sequential_6 (Sequential)   (None, 32)                   2080      ['input._get_features_ref_2[0]\n",
      "                                                                    [0]']                         \n",
      "                                                                                                  \n",
      " edge_embeddings (Lambda)    (None, 32)                   0         ['sequential_7[0][0]']        \n",
      "                                                                                                  \n",
      " node_embeddings (Lambda)    (None, 32)                   0         ['sequential_6[0][0]']        \n",
      "                                                                                                  \n",
      " sequential_9 (Sequential)   (None, 64)                   2112      ['edge_embeddings[0][0]']     \n",
      "                                                                                                  \n",
      " sequential_8 (Sequential)   (None, 64)                   2112      ['node_embeddings[0][0]']     \n",
      "                                                                                                  \n",
      " edge_reconstructed (Dense)  (None, 94)                   6110      ['sequential_9[0][0]']        \n",
      "                                                                                                  \n",
      " node_reconstructed (Dense)  (None, 100)                  6500      ['sequential_8[0][0]']        \n",
      "                                                                                                  \n",
      "==================================================================================================\n",
      "Total params: 95362 (372.51 KB)\n",
      "Trainable params: 95362 (372.51 KB)\n",
      "Non-trainable params: 0 (0.00 Byte)\n",
      "__________________________________________________________________________________________________\n"
     ]
    }
   ],
   "source": [
    "gnn_detector.model = gnn_detector.build_model(X_train_graph['node_features'].shape[1], X_train_graph['edge_features'].shape[1])\n",
    "gnn_detector.model.summary()"
   ]
  },
  {
   "cell_type": "code",
   "execution_count": 27,
   "metadata": {},
   "outputs": [
    {
     "name": "stderr",
     "output_type": "stream",
     "text": [
      "INFO:scripts.gnn_anomaly_detection:Building GNN model with node and edge anomaly detection...\n",
      "INFO:scripts.gnn_anomaly_detection:Training GNN model for 100 epochs with 30.0% validation split...\n"
     ]
    },
    {
     "ename": "ValueError",
     "evalue": "`validation_split` is only supported for Tensors or NumPy arrays, found following types in the input: [<class 'tensorflow.python.data.ops.repeat_op._RepeatDataset'>]",
     "output_type": "error",
     "traceback": [
      "\u001b[0;31m---------------------------------------------------------------------------\u001b[0m",
      "\u001b[0;31mValueError\u001b[0m                                Traceback (most recent call last)",
      "Cell \u001b[0;32mIn[27], line 3\u001b[0m\n\u001b[1;32m      1\u001b[0m gnn_detector\u001b[38;5;241m.\u001b[39mmodel \u001b[38;5;241m=\u001b[39m gnn_detector\u001b[38;5;241m.\u001b[39mbuild_model(X_train_graph[\u001b[38;5;124m'\u001b[39m\u001b[38;5;124mnode_features\u001b[39m\u001b[38;5;124m'\u001b[39m]\u001b[38;5;241m.\u001b[39mshape[\u001b[38;5;241m1\u001b[39m], X_train_graph[\u001b[38;5;124m'\u001b[39m\u001b[38;5;124medge_features\u001b[39m\u001b[38;5;124m'\u001b[39m]\u001b[38;5;241m.\u001b[39mshape[\u001b[38;5;241m1\u001b[39m],\n\u001b[1;32m      2\u001b[0m                                               l2_regularization\u001b[38;5;241m=\u001b[39m\u001b[38;5;241m0\u001b[39m, dropout_rate\u001b[38;5;241m=\u001b[39m\u001b[38;5;241m0\u001b[39m)\n\u001b[0;32m----> 3\u001b[0m history \u001b[38;5;241m=\u001b[39m \u001b[43mgnn_detector\u001b[49m\u001b[38;5;241;43m.\u001b[39;49m\u001b[43mtrain\u001b[49m\u001b[43m(\u001b[49m\u001b[43mX_train_tf_graph\u001b[49m\u001b[43m,\u001b[49m\u001b[43m \u001b[49m\u001b[43mepochs\u001b[49m\u001b[38;5;241;43m=\u001b[39;49m\u001b[38;5;241;43m100\u001b[39;49m\u001b[43m)\u001b[49m\n\u001b[1;32m      4\u001b[0m gnn_detector\u001b[38;5;241m.\u001b[39mplot_training_history(history)\n",
      "File \u001b[0;32m~/code/RonanB400/Project/decp_ml/scripts/gnn_anomaly_detection.py:705\u001b[0m, in \u001b[0;36mGNNAnomalyDetector.train\u001b[0;34m(self, graph_tensor, epochs, use_huber_loss, validation_split)\u001b[0m\n\u001b[1;32m    692\u001b[0m \u001b[38;5;28mself\u001b[39m\u001b[38;5;241m.\u001b[39mmodel\u001b[38;5;241m.\u001b[39mcompile(\n\u001b[1;32m    693\u001b[0m     optimizer\u001b[38;5;241m=\u001b[39mtf\u001b[38;5;241m.\u001b[39mkeras\u001b[38;5;241m.\u001b[39moptimizers\u001b[38;5;241m.\u001b[39mAdam(learning_rate\u001b[38;5;241m=\u001b[39mlr_schedule),\n\u001b[1;32m    694\u001b[0m     loss\u001b[38;5;241m=\u001b[39m{\n\u001b[0;32m   (...)\u001b[0m\n\u001b[1;32m    701\u001b[0m                  \u001b[38;5;124m'\u001b[39m\u001b[38;5;124mnode_reconstructed\u001b[39m\u001b[38;5;124m'\u001b[39m: \u001b[38;5;241m0.65\u001b[39m, \u001b[38;5;124m'\u001b[39m\u001b[38;5;124medge_reconstructed\u001b[39m\u001b[38;5;124m'\u001b[39m: \u001b[38;5;241m0.25\u001b[39m}\n\u001b[1;32m    702\u001b[0m )\n\u001b[1;32m    704\u001b[0m \u001b[38;5;66;03m# Train using model.fit with validation split\u001b[39;00m\n\u001b[0;32m--> 705\u001b[0m history \u001b[38;5;241m=\u001b[39m \u001b[38;5;28;43mself\u001b[39;49m\u001b[38;5;241;43m.\u001b[39;49m\u001b[43mmodel\u001b[49m\u001b[38;5;241;43m.\u001b[39;49m\u001b[43mfit\u001b[49m\u001b[43m(\u001b[49m\n\u001b[1;32m    706\u001b[0m \u001b[43m    \u001b[49m\u001b[43mdataset\u001b[49m\u001b[43m,\u001b[49m\n\u001b[1;32m    707\u001b[0m \u001b[43m    \u001b[49m\u001b[43msteps_per_epoch\u001b[49m\u001b[38;5;241;43m=\u001b[39;49m\u001b[38;5;241;43m1\u001b[39;49m\u001b[43m,\u001b[49m\u001b[43m  \u001b[49m\u001b[38;5;66;43;03m# One step per epoch since we have one graph\u001b[39;49;00m\n\u001b[1;32m    708\u001b[0m \u001b[43m    \u001b[49m\u001b[43mepochs\u001b[49m\u001b[38;5;241;43m=\u001b[39;49m\u001b[43mepochs\u001b[49m\u001b[43m,\u001b[49m\n\u001b[1;32m    709\u001b[0m \u001b[43m    \u001b[49m\u001b[43mvalidation_split\u001b[49m\u001b[38;5;241;43m=\u001b[39;49m\u001b[43mvalidation_split\u001b[49m\u001b[43m,\u001b[49m\n\u001b[1;32m    710\u001b[0m \u001b[43m    \u001b[49m\u001b[43mverbose\u001b[49m\u001b[38;5;241;43m=\u001b[39;49m\u001b[38;5;241;43m1\u001b[39;49m\n\u001b[1;32m    711\u001b[0m \u001b[43m\u001b[49m\u001b[43m)\u001b[49m\n\u001b[1;32m    713\u001b[0m \u001b[38;5;66;03m# Save the trained model to the data folder using SavedModel format\u001b[39;00m\n\u001b[1;32m    714\u001b[0m data_dir \u001b[38;5;241m=\u001b[39m os\u001b[38;5;241m.\u001b[39mpath\u001b[38;5;241m.\u001b[39mjoin(\n\u001b[1;32m    715\u001b[0m     os\u001b[38;5;241m.\u001b[39mpath\u001b[38;5;241m.\u001b[39mdirname(os\u001b[38;5;241m.\u001b[39mpath\u001b[38;5;241m.\u001b[39mdirname(os\u001b[38;5;241m.\u001b[39mpath\u001b[38;5;241m.\u001b[39mabspath(\u001b[38;5;18m__file__\u001b[39m))),\n\u001b[1;32m    716\u001b[0m     \u001b[38;5;124m'\u001b[39m\u001b[38;5;124mdata\u001b[39m\u001b[38;5;124m'\u001b[39m)\n",
      "File \u001b[0;32m~/.pyenv/versions/3.10.6/envs/decp_ml_env/lib/python3.10/site-packages/keras/src/utils/traceback_utils.py:70\u001b[0m, in \u001b[0;36mfilter_traceback.<locals>.error_handler\u001b[0;34m(*args, **kwargs)\u001b[0m\n\u001b[1;32m     67\u001b[0m     filtered_tb \u001b[38;5;241m=\u001b[39m _process_traceback_frames(e\u001b[38;5;241m.\u001b[39m__traceback__)\n\u001b[1;32m     68\u001b[0m     \u001b[38;5;66;03m# To get the full stack trace, call:\u001b[39;00m\n\u001b[1;32m     69\u001b[0m     \u001b[38;5;66;03m# `tf.debugging.disable_traceback_filtering()`\u001b[39;00m\n\u001b[0;32m---> 70\u001b[0m     \u001b[38;5;28;01mraise\u001b[39;00m e\u001b[38;5;241m.\u001b[39mwith_traceback(filtered_tb) \u001b[38;5;28;01mfrom\u001b[39;00m\u001b[38;5;250m \u001b[39m\u001b[38;5;28;01mNone\u001b[39;00m\n\u001b[1;32m     71\u001b[0m \u001b[38;5;28;01mfinally\u001b[39;00m:\n\u001b[1;32m     72\u001b[0m     \u001b[38;5;28;01mdel\u001b[39;00m filtered_tb\n",
      "File \u001b[0;32m~/.pyenv/versions/3.10.6/envs/decp_ml_env/lib/python3.10/site-packages/keras/src/engine/data_adapter.py:1776\u001b[0m, in \u001b[0;36mtrain_validation_split\u001b[0;34m(arrays, validation_split)\u001b[0m\n\u001b[1;32m   1774\u001b[0m unsplitable \u001b[38;5;241m=\u001b[39m [\u001b[38;5;28mtype\u001b[39m(t) \u001b[38;5;28;01mfor\u001b[39;00m t \u001b[38;5;129;01min\u001b[39;00m flat_arrays \u001b[38;5;28;01mif\u001b[39;00m \u001b[38;5;129;01mnot\u001b[39;00m _can_split(t)]\n\u001b[1;32m   1775\u001b[0m \u001b[38;5;28;01mif\u001b[39;00m unsplitable:\n\u001b[0;32m-> 1776\u001b[0m     \u001b[38;5;28;01mraise\u001b[39;00m \u001b[38;5;167;01mValueError\u001b[39;00m(\n\u001b[1;32m   1777\u001b[0m         \u001b[38;5;124m\"\u001b[39m\u001b[38;5;124m`validation_split` is only supported for Tensors or NumPy \u001b[39m\u001b[38;5;124m\"\u001b[39m\n\u001b[1;32m   1778\u001b[0m         \u001b[38;5;124m\"\u001b[39m\u001b[38;5;124marrays, found following types in the input: \u001b[39m\u001b[38;5;132;01m{}\u001b[39;00m\u001b[38;5;124m\"\u001b[39m\u001b[38;5;241m.\u001b[39mformat(unsplitable)\n\u001b[1;32m   1779\u001b[0m     )\n\u001b[1;32m   1781\u001b[0m \u001b[38;5;28;01mif\u001b[39;00m \u001b[38;5;28mall\u001b[39m(t \u001b[38;5;129;01mis\u001b[39;00m \u001b[38;5;28;01mNone\u001b[39;00m \u001b[38;5;28;01mfor\u001b[39;00m t \u001b[38;5;129;01min\u001b[39;00m flat_arrays):\n\u001b[1;32m   1782\u001b[0m     \u001b[38;5;28;01mreturn\u001b[39;00m arrays, arrays\n",
      "\u001b[0;31mValueError\u001b[0m: `validation_split` is only supported for Tensors or NumPy arrays, found following types in the input: [<class 'tensorflow.python.data.ops.repeat_op._RepeatDataset'>]"
     ]
    }
   ],
   "source": [
    "gnn_detector.model = gnn_detector.build_model(X_train_graph['node_features'].shape[1], X_train_graph['edge_features'].shape[1],\n",
    "                                              l2_regularization=0, dropout_rate=0)\n",
    "history = gnn_detector.train(X_train_tf_graph, epochs=100)\n",
    "gnn_detector.plot_training_history(history)"
   ]
  },
  {
   "cell_type": "code",
   "execution_count": 9,
   "metadata": {},
   "outputs": [
    {
     "name": "stderr",
     "output_type": "stream",
     "text": [
      "INFO:scripts.gnn_anomaly_detection:Detecting node and edge anomalies...\n"
     ]
    },
    {
     "name": "stdout",
     "output_type": "stream",
     "text": [
      "graph_tensor is self.graph_tensor_test\n",
      "1/1 [==============================] - 0s 92ms/step\n"
     ]
    },
    {
     "name": "stderr",
     "output_type": "stream",
     "text": [
      "INFO:scripts.gnn_anomaly_detection:Detected 352 node anomalies (1.0%)\n",
      "INFO:scripts.gnn_anomaly_detection:Detected 502 edge anomalies (1.0%)\n"
     ]
    }
   ],
   "source": [
    "\n",
    "(node_reconstruction_error, edge_reconstruction_error, \n",
    "     node_threshold, edge_threshold) = gnn_detector.detect_anomalies()\n",
    "    \n",
    "# Calculate anomaly masks\n",
    "node_anomalies = node_reconstruction_error > node_threshold\n",
    "edge_anomalies = edge_reconstruction_error > edge_threshold"
   ]
  },
  {
   "cell_type": "code",
   "execution_count": 12,
   "metadata": {},
   "outputs": [
    {
     "data": {
      "text/html": [
       "<div>\n",
       "<style scoped>\n",
       "    .dataframe tbody tr th:only-of-type {\n",
       "        vertical-align: middle;\n",
       "    }\n",
       "\n",
       "    .dataframe tbody tr th {\n",
       "        vertical-align: top;\n",
       "    }\n",
       "\n",
       "    .dataframe thead th {\n",
       "        text-align: right;\n",
       "    }\n",
       "</style>\n",
       "<table border=\"1\" class=\"dataframe\">\n",
       "  <thead>\n",
       "    <tr style=\"text-align: right;\">\n",
       "      <th></th>\n",
       "      <th>entity_name</th>\n",
       "      <th>entity_type</th>\n",
       "      <th>node_reconstruction_error</th>\n",
       "      <th>is_node_anomaly</th>\n",
       "      <th>num_contracts</th>\n",
       "      <th>num_partners</th>\n",
       "      <th>contracts_per_partner</th>\n",
       "      <th>mean_feature_value</th>\n",
       "      <th>std_feature_value</th>\n",
       "    </tr>\n",
       "  </thead>\n",
       "  <tbody>\n",
       "    <tr>\n",
       "      <th>128</th>\n",
       "      <td>26310012500016</td>\n",
       "      <td>Buyer</td>\n",
       "      <td>3672.006836</td>\n",
       "      <td>True</td>\n",
       "      <td>612.0</td>\n",
       "      <td>363.0</td>\n",
       "      <td>1.685950</td>\n",
       "      <td>0.096900</td>\n",
       "      <td>0.233282</td>\n",
       "    </tr>\n",
       "    <tr>\n",
       "      <th>86</th>\n",
       "      <td>22590001801244</td>\n",
       "      <td>Buyer</td>\n",
       "      <td>1161.103149</td>\n",
       "      <td>True</td>\n",
       "      <td>362.0</td>\n",
       "      <td>263.0</td>\n",
       "      <td>1.376426</td>\n",
       "      <td>0.119255</td>\n",
       "      <td>0.237588</td>\n",
       "    </tr>\n",
       "    <tr>\n",
       "      <th>74</th>\n",
       "      <td>21690123100011</td>\n",
       "      <td>Buyer</td>\n",
       "      <td>1157.516602</td>\n",
       "      <td>True</td>\n",
       "      <td>334.0</td>\n",
       "      <td>297.0</td>\n",
       "      <td>1.124579</td>\n",
       "      <td>0.100884</td>\n",
       "      <td>0.223250</td>\n",
       "    </tr>\n",
       "    <tr>\n",
       "      <th>159</th>\n",
       "      <td>20005480700017</td>\n",
       "      <td>Buyer</td>\n",
       "      <td>768.138611</td>\n",
       "      <td>True</td>\n",
       "      <td>299.0</td>\n",
       "      <td>241.0</td>\n",
       "      <td>1.240664</td>\n",
       "      <td>0.119134</td>\n",
       "      <td>0.239127</td>\n",
       "    </tr>\n",
       "    <tr>\n",
       "      <th>429</th>\n",
       "      <td>20005226400013</td>\n",
       "      <td>Buyer</td>\n",
       "      <td>484.078827</td>\n",
       "      <td>True</td>\n",
       "      <td>265.0</td>\n",
       "      <td>191.0</td>\n",
       "      <td>1.387435</td>\n",
       "      <td>0.115066</td>\n",
       "      <td>0.264518</td>\n",
       "    </tr>\n",
       "  </tbody>\n",
       "</table>\n",
       "</div>"
      ],
      "text/plain": [
       "        entity_name entity_type  node_reconstruction_error  is_node_anomaly  \\\n",
       "128  26310012500016       Buyer                3672.006836             True   \n",
       "86   22590001801244       Buyer                1161.103149             True   \n",
       "74   21690123100011       Buyer                1157.516602             True   \n",
       "159  20005480700017       Buyer                 768.138611             True   \n",
       "429  20005226400013       Buyer                 484.078827             True   \n",
       "\n",
       "     num_contracts  num_partners  contracts_per_partner  mean_feature_value  \\\n",
       "128          612.0         363.0               1.685950            0.096900   \n",
       "86           362.0         263.0               1.376426            0.119255   \n",
       "74           334.0         297.0               1.124579            0.100884   \n",
       "159          299.0         241.0               1.240664            0.119134   \n",
       "429          265.0         191.0               1.387435            0.115066   \n",
       "\n",
       "     std_feature_value  \n",
       "128           0.233282  \n",
       "86            0.237588  \n",
       "74            0.223250  \n",
       "159           0.239127  \n",
       "429           0.264518  "
      ]
     },
     "execution_count": 12,
     "metadata": {},
     "output_type": "execute_result"
    }
   ],
   "source": [
    " #Create results analysis\n",
    "graph_data = X_test_graph\n",
    "\n",
    "analyzer = AnomalyAnalyzer()\n",
    "\n",
    "node_results_df = analyzer.create_node_results_dataframe(\n",
    "    graph_data, node_reconstruction_error, node_anomalies)\n",
    "\n",
    "node_results_df.head()"
   ]
  },
  {
   "cell_type": "code",
   "execution_count": 14,
   "metadata": {},
   "outputs": [
    {
     "name": "stderr",
     "output_type": "stream",
     "text": [
      "INFO:scripts.gnn_anomaly_detection:Optional column 'dateNotification' not found in contract_data, using None\n"
     ]
    },
    {
     "data": {
      "text/html": [
       "<div>\n",
       "<style scoped>\n",
       "    .dataframe tbody tr th:only-of-type {\n",
       "        vertical-align: middle;\n",
       "    }\n",
       "\n",
       "    .dataframe tbody tr th {\n",
       "        vertical-align: top;\n",
       "    }\n",
       "\n",
       "    .dataframe thead th {\n",
       "        text-align: right;\n",
       "    }\n",
       "</style>\n",
       "<table border=\"1\" class=\"dataframe\">\n",
       "  <thead>\n",
       "    <tr style=\"text-align: right;\">\n",
       "      <th></th>\n",
       "      <th>contract_id</th>\n",
       "      <th>edge_reconstruction_error</th>\n",
       "      <th>is_edge_anomaly</th>\n",
       "      <th>acheteur_id</th>\n",
       "      <th>titulaire_id</th>\n",
       "      <th>montant</th>\n",
       "      <th>codeCPV_3</th>\n",
       "      <th>procedure</th>\n",
       "      <th>dateNotification</th>\n",
       "      <th>log_amount</th>\n",
       "      <th>cpv_hash</th>\n",
       "      <th>procedure_hash</th>\n",
       "      <th>duration_months</th>\n",
       "    </tr>\n",
       "  </thead>\n",
       "  <tbody>\n",
       "    <tr>\n",
       "      <th>47252</th>\n",
       "      <td>138157</td>\n",
       "      <td>0.207620</td>\n",
       "      <td>True</td>\n",
       "      <td>21950306700015</td>\n",
       "      <td>78924532100029</td>\n",
       "      <td>1070350.0</td>\n",
       "      <td>71300000</td>\n",
       "      <td>Procédure adaptée</td>\n",
       "      <td>None</td>\n",
       "      <td>6.697244</td>\n",
       "      <td>1.122369</td>\n",
       "      <td>-2.466460</td>\n",
       "      <td>0.0</td>\n",
       "    </tr>\n",
       "    <tr>\n",
       "      <th>45932</th>\n",
       "      <td>68595</td>\n",
       "      <td>0.207620</td>\n",
       "      <td>True</td>\n",
       "      <td>21950306700015</td>\n",
       "      <td>31290872600093</td>\n",
       "      <td>1070350.0</td>\n",
       "      <td>71300000</td>\n",
       "      <td>Procédure adaptée</td>\n",
       "      <td>None</td>\n",
       "      <td>6.697244</td>\n",
       "      <td>1.122369</td>\n",
       "      <td>-2.466460</td>\n",
       "      <td>0.0</td>\n",
       "    </tr>\n",
       "    <tr>\n",
       "      <th>45687</th>\n",
       "      <td>96609</td>\n",
       "      <td>0.207620</td>\n",
       "      <td>True</td>\n",
       "      <td>21950306700015</td>\n",
       "      <td>43906618400037</td>\n",
       "      <td>1070350.0</td>\n",
       "      <td>71300000</td>\n",
       "      <td>Procédure adaptée</td>\n",
       "      <td>None</td>\n",
       "      <td>6.697244</td>\n",
       "      <td>1.122369</td>\n",
       "      <td>-2.466460</td>\n",
       "      <td>0.0</td>\n",
       "    </tr>\n",
       "    <tr>\n",
       "      <th>5677</th>\n",
       "      <td>262210</td>\n",
       "      <td>0.197431</td>\n",
       "      <td>True</td>\n",
       "      <td>13002682600011</td>\n",
       "      <td>39841012600039</td>\n",
       "      <td>12490225.0</td>\n",
       "      <td>33600000</td>\n",
       "      <td>Appel d'offres ouvert</td>\n",
       "      <td>None</td>\n",
       "      <td>6.807647</td>\n",
       "      <td>2.871962</td>\n",
       "      <td>0.239156</td>\n",
       "      <td>0.0</td>\n",
       "    </tr>\n",
       "    <tr>\n",
       "      <th>49361</th>\n",
       "      <td>181225</td>\n",
       "      <td>0.170901</td>\n",
       "      <td>True</td>\n",
       "      <td>20006340200016</td>\n",
       "      <td>48336329700027</td>\n",
       "      <td>3425157.0</td>\n",
       "      <td>71200000</td>\n",
       "      <td>Procédure adaptée</td>\n",
       "      <td>None</td>\n",
       "      <td>6.209105</td>\n",
       "      <td>1.950652</td>\n",
       "      <td>0.960029</td>\n",
       "      <td>1.0</td>\n",
       "    </tr>\n",
       "  </tbody>\n",
       "</table>\n",
       "</div>"
      ],
      "text/plain": [
       "       contract_id  edge_reconstruction_error  is_edge_anomaly  \\\n",
       "47252       138157                   0.207620             True   \n",
       "45932        68595                   0.207620             True   \n",
       "45687        96609                   0.207620             True   \n",
       "5677        262210                   0.197431             True   \n",
       "49361       181225                   0.170901             True   \n",
       "\n",
       "          acheteur_id    titulaire_id     montant  codeCPV_3  \\\n",
       "47252  21950306700015  78924532100029   1070350.0   71300000   \n",
       "45932  21950306700015  31290872600093   1070350.0   71300000   \n",
       "45687  21950306700015  43906618400037   1070350.0   71300000   \n",
       "5677   13002682600011  39841012600039  12490225.0   33600000   \n",
       "49361  20006340200016  48336329700027   3425157.0   71200000   \n",
       "\n",
       "                   procedure dateNotification  log_amount  cpv_hash  \\\n",
       "47252      Procédure adaptée             None    6.697244  1.122369   \n",
       "45932      Procédure adaptée             None    6.697244  1.122369   \n",
       "45687      Procédure adaptée             None    6.697244  1.122369   \n",
       "5677   Appel d'offres ouvert             None    6.807647  2.871962   \n",
       "49361      Procédure adaptée             None    6.209105  1.950652   \n",
       "\n",
       "       procedure_hash  duration_months  \n",
       "47252       -2.466460              0.0  \n",
       "45932       -2.466460              0.0  \n",
       "45687       -2.466460              0.0  \n",
       "5677         0.239156              0.0  \n",
       "49361        0.960029              1.0  "
      ]
     },
     "execution_count": 14,
     "metadata": {},
     "output_type": "execute_result"
    }
   ],
   "source": [
    "edge_results_df = analyzer.create_edge_results_dataframe(\n",
    "    graph_data, edge_reconstruction_error, edge_anomalies)\n",
    "\n",
    "edge_results_df.head()"
   ]
  },
  {
   "cell_type": "code",
   "execution_count": 16,
   "metadata": {},
   "outputs": [
    {
     "data": {
      "text/plain": [
       "'/home/ronan/code/RonanB400/Project/decp_ml/data'"
      ]
     },
     "execution_count": 16,
     "metadata": {},
     "output_type": "execute_result"
    }
   ],
   "source": [
    "data_path"
   ]
  },
  {
   "cell_type": "code",
   "execution_count": 20,
   "metadata": {},
   "outputs": [
    {
     "name": "stderr",
     "output_type": "stream",
     "text": [
      "/home/ronan/.pyenv/versions/3.10.6/envs/decp_ml_env/lib/python3.10/site-packages/tensorflow/python/saved_model/nested_structure_coder.py:458: UserWarning: Encoding a StructuredValue with type tensorflow_gnn.GraphTensorSpec; loading this StructuredValue will require that this type be imported and registered.\n",
      "  warnings.warn(\"Encoding a StructuredValue with type %s; loading this \"\n",
      "/home/ronan/.pyenv/versions/3.10.6/envs/decp_ml_env/lib/python3.10/site-packages/tensorflow/python/saved_model/nested_structure_coder.py:458: UserWarning: Encoding a StructuredValue with type tensorflow_gnn.ContextSpec.v2; loading this StructuredValue will require that this type be imported and registered.\n",
      "  warnings.warn(\"Encoding a StructuredValue with type %s; loading this \"\n",
      "/home/ronan/.pyenv/versions/3.10.6/envs/decp_ml_env/lib/python3.10/site-packages/tensorflow/python/saved_model/nested_structure_coder.py:458: UserWarning: Encoding a StructuredValue with type tensorflow_gnn.NodeSetSpec; loading this StructuredValue will require that this type be imported and registered.\n",
      "  warnings.warn(\"Encoding a StructuredValue with type %s; loading this \"\n",
      "/home/ronan/.pyenv/versions/3.10.6/envs/decp_ml_env/lib/python3.10/site-packages/tensorflow/python/saved_model/nested_structure_coder.py:458: UserWarning: Encoding a StructuredValue with type tensorflow_gnn.EdgeSetSpec; loading this StructuredValue will require that this type be imported and registered.\n",
      "  warnings.warn(\"Encoding a StructuredValue with type %s; loading this \"\n",
      "/home/ronan/.pyenv/versions/3.10.6/envs/decp_ml_env/lib/python3.10/site-packages/tensorflow/python/saved_model/nested_structure_coder.py:458: UserWarning: Encoding a StructuredValue with type tensorflow_gnn.AdjacencySpec; loading this StructuredValue will require that this type be imported and registered.\n",
      "  warnings.warn(\"Encoding a StructuredValue with type %s; loading this \"\n"
     ]
    },
    {
     "name": "stdout",
     "output_type": "stream",
     "text": [
      "INFO:tensorflow:Assets written to: /home/ronan/code/RonanB400/Project/decp_ml/data/gnn_anomaly_model.keras/assets\n"
     ]
    },
    {
     "name": "stderr",
     "output_type": "stream",
     "text": [
      "INFO:tensorflow:Assets written to: /home/ronan/code/RonanB400/Project/decp_ml/data/gnn_anomaly_model.keras/assets\n"
     ]
    }
   ],
   "source": [
    "model_path = os.path.join(data_path, 'gnn_anomaly_model.keras')\n",
    "\n",
    "tf.saved_model.save(gnn_detector.model, model_path)"
   ]
  },
  {
   "cell_type": "code",
   "execution_count": 22,
   "metadata": {},
   "outputs": [
    {
     "ename": "KeyboardInterrupt",
     "evalue": "",
     "output_type": "error",
     "traceback": [
      "\u001b[0;31m---------------------------------------------------------------------------\u001b[0m",
      "\u001b[0;31mKeyboardInterrupt\u001b[0m                         Traceback (most recent call last)",
      "Cell \u001b[0;32mIn[22], line 2\u001b[0m\n\u001b[1;32m      1\u001b[0m graph_builder \u001b[38;5;241m=\u001b[39m ProcurementGraphBuilder()\n\u001b[0;32m----> 2\u001b[0m \u001b[43mgraph_builder\u001b[49m\u001b[38;5;241;43m.\u001b[39;49m\u001b[43mvisualize_procurement_graph\u001b[49m\u001b[43m(\u001b[49m\u001b[43mX_train_graph\u001b[49m\u001b[43m)\u001b[49m\n",
      "File \u001b[0;32m~/code/RonanB400/Project/decp_ml/scripts/gnn_anomaly_detection.py:304\u001b[0m, in \u001b[0;36mProcurementGraphBuilder.visualize_procurement_graph\u001b[0;34m(self, graph_data, title)\u001b[0m\n\u001b[1;32m    302\u001b[0m valid_features \u001b[38;5;241m=\u001b[39m valid_features[\u001b[38;5;241m~\u001b[39mnp\u001b[38;5;241m.\u001b[39misnan(valid_features)]\n\u001b[1;32m    303\u001b[0m \u001b[38;5;28;01mif\u001b[39;00m \u001b[38;5;28mlen\u001b[39m(valid_features) \u001b[38;5;241m>\u001b[39m \u001b[38;5;241m0\u001b[39m:\n\u001b[0;32m--> 304\u001b[0m     all_feature_values\u001b[38;5;241m.\u001b[39mappend(\u001b[38;5;28mfloat\u001b[39m(\u001b[43mnp\u001b[49m\u001b[38;5;241;43m.\u001b[39;49m\u001b[43mmean\u001b[49m\u001b[43m(\u001b[49m\u001b[43mvalid_features\u001b[49m\u001b[43m)\u001b[49m))\n\u001b[1;32m    305\u001b[0m \u001b[38;5;28;01melse\u001b[39;00m:\n\u001b[1;32m    306\u001b[0m     all_feature_values\u001b[38;5;241m.\u001b[39mappend(\u001b[38;5;241m0.0\u001b[39m)\n",
      "File \u001b[0;32m~/.pyenv/versions/3.10.6/envs/decp_ml_env/lib/python3.10/site-packages/numpy/core/fromnumeric.py:3504\u001b[0m, in \u001b[0;36mmean\u001b[0;34m(a, axis, dtype, out, keepdims, where)\u001b[0m\n\u001b[1;32m   3501\u001b[0m     \u001b[38;5;28;01melse\u001b[39;00m:\n\u001b[1;32m   3502\u001b[0m         \u001b[38;5;28;01mreturn\u001b[39;00m mean(axis\u001b[38;5;241m=\u001b[39maxis, dtype\u001b[38;5;241m=\u001b[39mdtype, out\u001b[38;5;241m=\u001b[39mout, \u001b[38;5;241m*\u001b[39m\u001b[38;5;241m*\u001b[39mkwargs)\n\u001b[0;32m-> 3504\u001b[0m \u001b[38;5;28;01mreturn\u001b[39;00m \u001b[43m_methods\u001b[49m\u001b[38;5;241;43m.\u001b[39;49m\u001b[43m_mean\u001b[49m\u001b[43m(\u001b[49m\u001b[43ma\u001b[49m\u001b[43m,\u001b[49m\u001b[43m \u001b[49m\u001b[43maxis\u001b[49m\u001b[38;5;241;43m=\u001b[39;49m\u001b[43maxis\u001b[49m\u001b[43m,\u001b[49m\u001b[43m \u001b[49m\u001b[43mdtype\u001b[49m\u001b[38;5;241;43m=\u001b[39;49m\u001b[43mdtype\u001b[49m\u001b[43m,\u001b[49m\n\u001b[1;32m   3505\u001b[0m \u001b[43m                      \u001b[49m\u001b[43mout\u001b[49m\u001b[38;5;241;43m=\u001b[39;49m\u001b[43mout\u001b[49m\u001b[43m,\u001b[49m\u001b[43m \u001b[49m\u001b[38;5;241;43m*\u001b[39;49m\u001b[38;5;241;43m*\u001b[39;49m\u001b[43mkwargs\u001b[49m\u001b[43m)\u001b[49m\n",
      "File \u001b[0;32m~/.pyenv/versions/3.10.6/envs/decp_ml_env/lib/python3.10/site-packages/numpy/core/_methods.py:106\u001b[0m, in \u001b[0;36m_mean\u001b[0;34m(a, axis, dtype, out, keepdims, where)\u001b[0m\n\u001b[1;32m    102\u001b[0m arr \u001b[38;5;241m=\u001b[39m asanyarray(a)\n\u001b[1;32m    104\u001b[0m is_float16_result \u001b[38;5;241m=\u001b[39m \u001b[38;5;28;01mFalse\u001b[39;00m\n\u001b[0;32m--> 106\u001b[0m rcount \u001b[38;5;241m=\u001b[39m \u001b[43m_count_reduce_items\u001b[49m\u001b[43m(\u001b[49m\u001b[43marr\u001b[49m\u001b[43m,\u001b[49m\u001b[43m \u001b[49m\u001b[43maxis\u001b[49m\u001b[43m,\u001b[49m\u001b[43m \u001b[49m\u001b[43mkeepdims\u001b[49m\u001b[38;5;241;43m=\u001b[39;49m\u001b[43mkeepdims\u001b[49m\u001b[43m,\u001b[49m\u001b[43m \u001b[49m\u001b[43mwhere\u001b[49m\u001b[38;5;241;43m=\u001b[39;49m\u001b[43mwhere\u001b[49m\u001b[43m)\u001b[49m\n\u001b[1;32m    107\u001b[0m \u001b[38;5;28;01mif\u001b[39;00m rcount \u001b[38;5;241m==\u001b[39m \u001b[38;5;241m0\u001b[39m \u001b[38;5;28;01mif\u001b[39;00m where \u001b[38;5;129;01mis\u001b[39;00m \u001b[38;5;28;01mTrue\u001b[39;00m \u001b[38;5;28;01melse\u001b[39;00m umr_any(rcount \u001b[38;5;241m==\u001b[39m \u001b[38;5;241m0\u001b[39m, axis\u001b[38;5;241m=\u001b[39m\u001b[38;5;28;01mNone\u001b[39;00m):\n\u001b[1;32m    108\u001b[0m     warnings\u001b[38;5;241m.\u001b[39mwarn(\u001b[38;5;124m\"\u001b[39m\u001b[38;5;124mMean of empty slice.\u001b[39m\u001b[38;5;124m\"\u001b[39m, \u001b[38;5;167;01mRuntimeWarning\u001b[39;00m, stacklevel\u001b[38;5;241m=\u001b[39m\u001b[38;5;241m2\u001b[39m)\n",
      "File \u001b[0;32m~/.pyenv/versions/3.10.6/envs/decp_ml_env/lib/python3.10/site-packages/numpy/core/_methods.py:72\u001b[0m, in \u001b[0;36m_count_reduce_items\u001b[0;34m(arr, axis, keepdims, where)\u001b[0m\n\u001b[1;32m     69\u001b[0m \u001b[38;5;28;01mif\u001b[39;00m where \u001b[38;5;129;01mis\u001b[39;00m \u001b[38;5;28;01mTrue\u001b[39;00m:\n\u001b[1;32m     70\u001b[0m     \u001b[38;5;66;03m# no boolean mask given, calculate items according to axis\u001b[39;00m\n\u001b[1;32m     71\u001b[0m     \u001b[38;5;28;01mif\u001b[39;00m axis \u001b[38;5;129;01mis\u001b[39;00m \u001b[38;5;28;01mNone\u001b[39;00m:\n\u001b[0;32m---> 72\u001b[0m         axis \u001b[38;5;241m=\u001b[39m \u001b[38;5;28mtuple\u001b[39m(\u001b[38;5;28;43mrange\u001b[39;49m\u001b[43m(\u001b[49m\u001b[43marr\u001b[49m\u001b[38;5;241;43m.\u001b[39;49m\u001b[43mndim\u001b[49m\u001b[43m)\u001b[49m)\n\u001b[1;32m     73\u001b[0m     \u001b[38;5;28;01melif\u001b[39;00m \u001b[38;5;129;01mnot\u001b[39;00m \u001b[38;5;28misinstance\u001b[39m(axis, \u001b[38;5;28mtuple\u001b[39m):\n\u001b[1;32m     74\u001b[0m         axis \u001b[38;5;241m=\u001b[39m (axis,)\n",
      "\u001b[0;31mKeyboardInterrupt\u001b[0m: "
     ]
    }
   ],
   "source": [
    "graph_builder = ProcurementGraphBuilder()\n",
    "graph_builder.visualize_procurement_graph(X_train_graph)"
   ]
  },
  {
   "cell_type": "code",
   "execution_count": null,
   "metadata": {},
   "outputs": [],
   "source": []
  }
 ],
 "metadata": {
  "kernelspec": {
   "display_name": "decp_ml_env",
   "language": "python",
   "name": "python3"
  },
  "language_info": {
   "codemirror_mode": {
    "name": "ipython",
    "version": 3
   },
   "file_extension": ".py",
   "mimetype": "text/x-python",
   "name": "python",
   "nbconvert_exporter": "python",
   "pygments_lexer": "ipython3",
   "version": "3.10.6"
  }
 },
 "nbformat": 4,
 "nbformat_minor": 2
}
