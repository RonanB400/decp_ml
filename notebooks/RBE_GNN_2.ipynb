{
 "cells": [
  {
   "cell_type": "code",
   "execution_count": 2,
   "metadata": {},
   "outputs": [
    {
     "name": "stdout",
     "output_type": "stream",
     "text": [
      "The autoreload extension is already loaded. To reload it, use:\n",
      "  %reload_ext autoreload\n"
     ]
    }
   ],
   "source": [
    "import pandas as pd\n",
    "import numpy as np\n",
    "import matplotlib.pyplot as plt\n",
    "import seaborn as sns\n",
    "import os\n",
    "import sqlite3\n",
    "import sys\n",
    "import logging\n",
    "import pickle\n",
    "\n",
    "# Data\n",
    "from sklearn.model_selection import train_test_split\n",
    "\n",
    "# Tensorflow\n",
    "import tensorflow as tf\n",
    "\n",
    "# Graph\n",
    "import tensorflow_gnn as tfgnn\n",
    "\n",
    "# Add the project root to the Python path\n",
    "#sys.path.append(os.path.abspath(os.path.join(os.getcwd(), '..')))\n",
    "from scripts.data_cleaner import filter_top_cpv_categories\n",
    "from scripts.gnn_anomaly_detection import ProcurementGraphBuilder, GNNAnomalyDetector, AnomalyAnalyzer\n",
    "\n",
    "from scripts.preprocess_pipeline import create_pipeline_cat\n",
    "\n",
    "\n",
    "%load_ext autoreload\n",
    "%autoreload 2\n"
   ]
  },
  {
   "cell_type": "code",
   "execution_count": 33,
   "metadata": {},
   "outputs": [
    {
     "name": "stderr",
     "output_type": "stream",
     "text": [
      "INFO:scripts.gnn_anomaly_detection:Loading data from /home/ronan/code/RonanB400/Project/decp_ml/data\n",
      "INFO:scripts.gnn_anomaly_detection:Preprocessing data...\n"
     ]
    },
    {
     "name": "stdout",
     "output_type": "stream",
     "text": [
      "Filtered from 392 to 60 CPV categories, keeping 250895 rows out of 286850\n"
     ]
    },
    {
     "name": "stderr",
     "output_type": "stream",
     "text": [
      "/home/ronan/.pyenv/versions/3.10.6/envs/decp_ml_env/lib/python3.10/site-packages/sklearn/pipeline.py:62: FutureWarning: This Pipeline instance is not fitted yet. Call 'fit' with appropriate arguments before using other methods such as transform, predict, etc. This will raise an error in 1.8 instead of the current warning.\n",
      "  warnings.warn(\n"
     ]
    }
   ],
   "source": [
    "graph_builder = ProcurementGraphBuilder()\n",
    "\n",
    "data_path = os.path.join(os.path.dirname(os.getcwd()), 'data')\n",
    "\n",
    "df = graph_builder.load_data(data_path)\n",
    "\n",
    "X_train_preproc, X_test_preproc, X_train, X_test = graph_builder.preprocess_data(df)\n",
    "\n",
    "X_train_graph = graph_builder.create_graph(X_train_preproc, X_train, type='train')\n",
    "X_test_graph = graph_builder.create_graph(X_test_preproc, X_test, type='test')"
   ]
  },
  {
   "cell_type": "code",
   "execution_count": 3,
   "metadata": {},
   "outputs": [
    {
     "name": "stderr",
     "output_type": "stream",
     "text": [
      "INFO:scripts.gnn_anomaly_detection:Creating TensorFlow GNN graph...\n",
      "INFO:scripts.gnn_anomaly_detection:Creating TensorFlow GNN graph...\n"
     ]
    }
   ],
   "source": [
    "data_path = os.path.join(os.path.dirname(os.getcwd()), 'data')\n",
    "\n",
    "\n",
    "# Load a pickle file\n",
    "with open(os.path.join(data_path, 'graph_data_train.pkl'), 'rb') as f:\n",
    "    X_train_graph = pickle.load(f)\n",
    "\n",
    "with open(os.path.join(data_path, 'graph_data_test.pkl'), 'rb') as f:\n",
    "    X_test_graph = pickle.load(f)\n",
    "    \n",
    "gnn_detector = GNNAnomalyDetector(hidden_dim=64, output_dim=32, num_layers=3)\n",
    "\n",
    "# Scale features before creating TensorFlow graph\n",
    "node_features_train = X_train_graph['node_features']\n",
    "edge_features_train = X_train_graph['edge_features']\n",
    "\n",
    "X_train_tf_graph = gnn_detector.create_tensorflow_graph(X_train_graph, node_features_train, edge_features_train)\n",
    "gnn_detector.graph_tensor_train = X_train_tf_graph\n",
    "\n",
    "# Scale features before creating TensorFlow graph\n",
    "node_features_test = X_test_graph['node_features']\n",
    "edge_features_test = X_test_graph['edge_features']\n",
    "\n",
    "X_test_tf_graph = gnn_detector.create_tensorflow_graph(X_test_graph, node_features_test, edge_features_test)\n",
    "gnn_detector.graph_tensor_test = X_test_tf_graph\n"
   ]
  },
  {
   "cell_type": "code",
   "execution_count": 4,
   "metadata": {},
   "outputs": [
    {
     "name": "stderr",
     "output_type": "stream",
     "text": [
      "INFO:scripts.gnn_anomaly_detection:Building GNN model with node and edge anomaly detection...\n"
     ]
    },
    {
     "name": "stdout",
     "output_type": "stream",
     "text": [
      "WARNING:tensorflow:Mapping types may not work well with tf.nest. Prefer using MutableMapping for <class 'tensorflow_gnn.graph.graph_tensor._ImmutableMapping'>\n"
     ]
    },
    {
     "name": "stderr",
     "output_type": "stream",
     "text": [
      "WARNING:tensorflow:Mapping types may not work well with tf.nest. Prefer using MutableMapping for <class 'tensorflow_gnn.graph.graph_tensor._ImmutableMapping'>\n"
     ]
    },
    {
     "name": "stdout",
     "output_type": "stream",
     "text": [
      "WARNING:tensorflow:Mapping types may not work well with tf.nest. Prefer using MutableMapping for <class 'tensorflow_gnn.graph.graph_tensor._ImmutableMapping'>\n"
     ]
    },
    {
     "name": "stderr",
     "output_type": "stream",
     "text": [
      "WARNING:tensorflow:Mapping types may not work well with tf.nest. Prefer using MutableMapping for <class 'tensorflow_gnn.graph.graph_tensor._ImmutableMapping'>\n"
     ]
    },
    {
     "name": "stdout",
     "output_type": "stream",
     "text": [
      "Model: \"model\"\n",
      "__________________________________________________________________________________________________\n",
      " Layer (type)                Output Shape                 Param #   Connected to                  \n",
      "==================================================================================================\n",
      " input_1 (InputLayer)        [()]                         0         []                            \n",
      "                                                                                                  \n",
      " input.merge_batch_to_compo  ()                           0         ['input_1[0][0]']             \n",
      " nents (InstanceMethod)                                                                           \n",
      "                                                                                                  \n",
      " map_features (MapFeatures)  ()                           12544     ['input.merge_batch_to_compone\n",
      "                                                                    nts[0][0]']                   \n",
      "                                                                                                  \n",
      " graph_update (GraphUpdate)  ()                           20608     ['map_features[0][0]']        \n",
      "                                                                                                  \n",
      " graph_update_1 (GraphUpdat  ()                           20608     ['graph_update[0][0]']        \n",
      " e)                                                                                               \n",
      "                                                                                                  \n",
      " graph_update_2 (GraphUpdat  ()                           20608     ['graph_update_1[0][0]']      \n",
      " e)                                                                                               \n",
      "                                                                                                  \n",
      " input.edge_sets (InstanceP  {'contracts': ()}            0         ['graph_update_2[0][0]']      \n",
      " roperty)                                                                                         \n",
      "                                                                                                  \n",
      " input.node_sets (InstanceP  {'entities': ()}             0         ['graph_update_2[0][0]']      \n",
      " roperty)                                                                                         \n",
      "                                                                                                  \n",
      " input._get_features_ref_3   {'hidden_state': (None, 64   0         ['input.edge_sets[0][0]']     \n",
      " (InstanceProperty)          )}                                                                   \n",
      "                                                                                                  \n",
      " input._get_features_ref_2   {'hidden_state': (None, 64   0         ['input.node_sets[0][0]']     \n",
      " (InstanceProperty)          )}                                                                   \n",
      "                                                                                                  \n",
      " sequential_7 (Sequential)   (None, 32)                   2080      ['input._get_features_ref_3[0]\n",
      "                                                                    [0]']                         \n",
      "                                                                                                  \n",
      " sequential_6 (Sequential)   (None, 32)                   2080      ['input._get_features_ref_2[0]\n",
      "                                                                    [0]']                         \n",
      "                                                                                                  \n",
      " edge_embeddings (Lambda)    (None, 32)                   0         ['sequential_7[0][0]']        \n",
      "                                                                                                  \n",
      " node_embeddings (Lambda)    (None, 32)                   0         ['sequential_6[0][0]']        \n",
      "                                                                                                  \n",
      " sequential_9 (Sequential)   (None, 64)                   2112      ['edge_embeddings[0][0]']     \n",
      "                                                                                                  \n",
      " sequential_8 (Sequential)   (None, 64)                   2112      ['node_embeddings[0][0]']     \n",
      "                                                                                                  \n",
      " edge_reconstructed (Dense)  (None, 94)                   6110      ['sequential_9[0][0]']        \n",
      "                                                                                                  \n",
      " node_reconstructed (Dense)  (None, 100)                  6500      ['sequential_8[0][0]']        \n",
      "                                                                                                  \n",
      "==================================================================================================\n",
      "Total params: 95362 (372.51 KB)\n",
      "Trainable params: 95362 (372.51 KB)\n",
      "Non-trainable params: 0 (0.00 Byte)\n",
      "__________________________________________________________________________________________________\n"
     ]
    }
   ],
   "source": [
    "gnn_detector.model = gnn_detector.build_model(X_train_graph['node_features'].shape[1], X_train_graph['edge_features'].shape[1])\n",
    "gnn_detector.model.summary()"
   ]
  },
  {
   "cell_type": "code",
   "execution_count": 7,
   "metadata": {},
   "outputs": [
    {
     "name": "stderr",
     "output_type": "stream",
     "text": [
      "INFO:scripts.gnn_anomaly_detection:Training GNN model for 100 epochs...\n"
     ]
    },
    {
     "name": "stdout",
     "output_type": "stream",
     "text": [
      "Epoch 1/100\n",
      "1/1 [==============================] - 3s 3s/step - loss: 3.4117 - edge_embeddings_loss: 0.0511 - edge_reconstructed_loss: 0.0579 - node_embeddings_loss: 0.1158 - node_reconstructed_loss: 7.0877\n",
      "Epoch 2/100\n",
      "1/1 [==============================] - 1s 592ms/step - loss: 3.4101 - edge_embeddings_loss: 0.0510 - edge_reconstructed_loss: 0.0575 - node_embeddings_loss: 0.1274 - node_reconstructed_loss: 7.0890\n",
      "Epoch 3/100\n",
      "1/1 [==============================] - 1s 1s/step - loss: 3.3908 - edge_embeddings_loss: 0.0507 - edge_reconstructed_loss: 0.0572 - node_embeddings_loss: 0.1265 - node_reconstructed_loss: 7.0523\n",
      "Epoch 4/100\n",
      "1/1 [==============================] - 1s 625ms/step - loss: 3.3886 - edge_embeddings_loss: 0.0507 - edge_reconstructed_loss: 0.0569 - node_embeddings_loss: 0.1122 - node_reconstructed_loss: 7.0547\n",
      "Epoch 5/100\n",
      "1/1 [==============================] - 1s 606ms/step - loss: 3.3674 - edge_embeddings_loss: 0.0508 - edge_reconstructed_loss: 0.0566 - node_embeddings_loss: 0.1035 - node_reconstructed_loss: 7.0145\n",
      "Epoch 6/100\n",
      "1/1 [==============================] - 1s 699ms/step - loss: 3.3628 - edge_embeddings_loss: 0.0510 - edge_reconstructed_loss: 0.0562 - node_embeddings_loss: 0.1019 - node_reconstructed_loss: 7.0100\n",
      "Epoch 7/100\n",
      "1/1 [==============================] - 1s 599ms/step - loss: 3.3442 - edge_embeddings_loss: 0.0510 - edge_reconstructed_loss: 0.0559 - node_embeddings_loss: 0.1080 - node_reconstructed_loss: 6.9734\n",
      "Epoch 8/100\n",
      "1/1 [==============================] - 1s 705ms/step - loss: 3.3418 - edge_embeddings_loss: 0.0509 - edge_reconstructed_loss: 0.0556 - node_embeddings_loss: 0.1107 - node_reconstructed_loss: 6.9731\n",
      "Epoch 9/100\n",
      "1/1 [==============================] - 1s 585ms/step - loss: 3.3307 - edge_embeddings_loss: 0.0508 - edge_reconstructed_loss: 0.0554 - node_embeddings_loss: 0.1155 - node_reconstructed_loss: 6.9530\n",
      "Epoch 10/100\n",
      "1/1 [==============================] - 1s 759ms/step - loss: 3.3174 - edge_embeddings_loss: 0.0507 - edge_reconstructed_loss: 0.0551 - node_embeddings_loss: 0.1147 - node_reconstructed_loss: 6.9286\n",
      "Epoch 11/100\n",
      "1/1 [==============================] - 1s 737ms/step - loss: 3.3048 - edge_embeddings_loss: 0.0507 - edge_reconstructed_loss: 0.0548 - node_embeddings_loss: 0.1085 - node_reconstructed_loss: 6.9062\n",
      "Epoch 12/100\n",
      "1/1 [==============================] - 1s 801ms/step - loss: 3.2883 - edge_embeddings_loss: 0.0507 - edge_reconstructed_loss: 0.0545 - node_embeddings_loss: 0.1025 - node_reconstructed_loss: 6.8751\n",
      "Epoch 13/100\n",
      "1/1 [==============================] - 1s 1s/step - loss: 3.2964 - edge_embeddings_loss: 0.0507 - edge_reconstructed_loss: 0.0543 - node_embeddings_loss: 0.0952 - node_reconstructed_loss: 6.8988\n",
      "Epoch 14/100\n",
      "1/1 [==============================] - 1s 623ms/step - loss: 3.2674 - edge_embeddings_loss: 0.0508 - edge_reconstructed_loss: 0.0540 - node_embeddings_loss: 0.0933 - node_reconstructed_loss: 6.8392\n",
      "Epoch 15/100\n",
      "1/1 [==============================] - 1s 774ms/step - loss: 3.2662 - edge_embeddings_loss: 0.0509 - edge_reconstructed_loss: 0.0537 - node_embeddings_loss: 0.0933 - node_reconstructed_loss: 6.8411\n",
      "Epoch 16/100\n",
      "1/1 [==============================] - 1s 646ms/step - loss: 3.2360 - edge_embeddings_loss: 0.0510 - edge_reconstructed_loss: 0.0535 - node_embeddings_loss: 0.0952 - node_reconstructed_loss: 6.7782\n",
      "Epoch 17/100\n",
      "1/1 [==============================] - 1s 709ms/step - loss: 3.2383 - edge_embeddings_loss: 0.0508 - edge_reconstructed_loss: 0.0533 - node_embeddings_loss: 0.0962 - node_reconstructed_loss: 6.7876\n",
      "Epoch 18/100\n",
      "1/1 [==============================] - 1s 1s/step - loss: 3.2328 - edge_embeddings_loss: 0.0507 - edge_reconstructed_loss: 0.0531 - node_embeddings_loss: 0.0959 - node_reconstructed_loss: 6.7799\n",
      "Epoch 19/100\n",
      "1/1 [==============================] - 1s 633ms/step - loss: 3.2194 - edge_embeddings_loss: 0.0506 - edge_reconstructed_loss: 0.0528 - node_embeddings_loss: 0.0925 - node_reconstructed_loss: 6.7547\n",
      "Epoch 20/100\n",
      "1/1 [==============================] - 1s 825ms/step - loss: 3.2038 - edge_embeddings_loss: 0.0505 - edge_reconstructed_loss: 0.0526 - node_embeddings_loss: 0.0883 - node_reconstructed_loss: 6.7245\n",
      "Epoch 21/100\n",
      "1/1 [==============================] - 1s 1s/step - loss: 3.1931 - edge_embeddings_loss: 0.0505 - edge_reconstructed_loss: 0.0524 - node_embeddings_loss: 0.0854 - node_reconstructed_loss: 6.7052\n",
      "Epoch 22/100\n",
      "1/1 [==============================] - 0s 193ms/step - loss: 3.1936 - edge_embeddings_loss: 0.0507 - edge_reconstructed_loss: 0.0521 - node_embeddings_loss: 0.0835 - node_reconstructed_loss: 6.7103\n",
      "Epoch 23/100\n",
      "1/1 [==============================] - 1s 1s/step - loss: 3.1699 - edge_embeddings_loss: 0.0507 - edge_reconstructed_loss: 0.0519 - node_embeddings_loss: 0.0831 - node_reconstructed_loss: 6.6616\n",
      "Epoch 24/100\n",
      "1/1 [==============================] - 1s 700ms/step - loss: 3.1663 - edge_embeddings_loss: 0.0509 - edge_reconstructed_loss: 0.0517 - node_embeddings_loss: 0.0837 - node_reconstructed_loss: 6.6571\n",
      "Epoch 25/100\n",
      "1/1 [==============================] - 1s 915ms/step - loss: 3.1503 - edge_embeddings_loss: 0.0509 - edge_reconstructed_loss: 0.0515 - node_embeddings_loss: 0.0823 - node_reconstructed_loss: 6.6254\n",
      "Epoch 26/100\n",
      "1/1 [==============================] - 1s 1s/step - loss: 3.1500 - edge_embeddings_loss: 0.0508 - edge_reconstructed_loss: 0.0513 - node_embeddings_loss: 0.0815 - node_reconstructed_loss: 6.6283\n",
      "Epoch 27/100\n",
      "1/1 [==============================] - 1s 790ms/step - loss: 3.1291 - edge_embeddings_loss: 0.0507 - edge_reconstructed_loss: 0.0511 - node_embeddings_loss: 0.0802 - node_reconstructed_loss: 6.5854\n",
      "Epoch 28/100\n",
      "1/1 [==============================] - 1s 1s/step - loss: 3.1292 - edge_embeddings_loss: 0.0506 - edge_reconstructed_loss: 0.0509 - node_embeddings_loss: 0.0773 - node_reconstructed_loss: 6.5893\n",
      "Epoch 29/100\n",
      "1/1 [==============================] - 1s 943ms/step - loss: 3.1125 - edge_embeddings_loss: 0.0505 - edge_reconstructed_loss: 0.0508 - node_embeddings_loss: 0.0764 - node_reconstructed_loss: 6.5554\n",
      "Epoch 30/100\n",
      "1/1 [==============================] - 1s 1s/step - loss: 3.1063 - edge_embeddings_loss: 0.0505 - edge_reconstructed_loss: 0.0506 - node_embeddings_loss: 0.0727 - node_reconstructed_loss: 6.5452\n",
      "Epoch 31/100\n",
      "1/1 [==============================] - 1s 1s/step - loss: 3.0796 - edge_embeddings_loss: 0.0505 - edge_reconstructed_loss: 0.0504 - node_embeddings_loss: 0.0716 - node_reconstructed_loss: 6.4891\n",
      "Epoch 32/100\n",
      "1/1 [==============================] - 1s 1s/step - loss: 3.0765 - edge_embeddings_loss: 0.0506 - edge_reconstructed_loss: 0.0502 - node_embeddings_loss: 0.0704 - node_reconstructed_loss: 6.4853\n",
      "Epoch 33/100\n",
      "1/1 [==============================] - 1s 1s/step - loss: 3.0732 - edge_embeddings_loss: 0.0507 - edge_reconstructed_loss: 0.0500 - node_embeddings_loss: 0.0705 - node_reconstructed_loss: 6.4808\n",
      "Epoch 34/100\n",
      "1/1 [==============================] - 1s 876ms/step - loss: 3.0618 - edge_embeddings_loss: 0.0506 - edge_reconstructed_loss: 0.0498 - node_embeddings_loss: 0.0698 - node_reconstructed_loss: 6.4584\n",
      "Epoch 35/100\n",
      "1/1 [==============================] - 1s 975ms/step - loss: 3.0466 - edge_embeddings_loss: 0.0505 - edge_reconstructed_loss: 0.0497 - node_embeddings_loss: 0.0688 - node_reconstructed_loss: 6.4274\n",
      "Epoch 36/100\n",
      "1/1 [==============================] - 1s 1s/step - loss: 3.0600 - edge_embeddings_loss: 0.0503 - edge_reconstructed_loss: 0.0496 - node_embeddings_loss: 0.0657 - node_reconstructed_loss: 6.4602\n",
      "Epoch 37/100\n",
      "1/1 [==============================] - 1s 1s/step - loss: 3.0261 - edge_embeddings_loss: 0.0502 - edge_reconstructed_loss: 0.0494 - node_embeddings_loss: 0.0636 - node_reconstructed_loss: 6.3877\n",
      "Epoch 38/100\n",
      "1/1 [==============================] - 1s 1s/step - loss: 3.0342 - edge_embeddings_loss: 0.0502 - edge_reconstructed_loss: 0.0492 - node_embeddings_loss: 0.0644 - node_reconstructed_loss: 6.4080\n",
      "Epoch 39/100\n",
      "1/1 [==============================] - 1s 1s/step - loss: 3.0238 - edge_embeddings_loss: 0.0503 - edge_reconstructed_loss: 0.0491 - node_embeddings_loss: 0.0638 - node_reconstructed_loss: 6.3876\n",
      "Epoch 40/100\n",
      "1/1 [==============================] - 1s 569ms/step - loss: 3.0002 - edge_embeddings_loss: 0.0504 - edge_reconstructed_loss: 0.0489 - node_embeddings_loss: 0.0634 - node_reconstructed_loss: 6.3376\n",
      "Epoch 41/100\n",
      "1/1 [==============================] - 1s 1s/step - loss: 2.9969 - edge_embeddings_loss: 0.0504 - edge_reconstructed_loss: 0.0488 - node_embeddings_loss: 0.0619 - node_reconstructed_loss: 6.3327\n",
      "Epoch 42/100\n",
      "1/1 [==============================] - 2s 2s/step - loss: 2.9820 - edge_embeddings_loss: 0.0503 - edge_reconstructed_loss: 0.0487 - node_embeddings_loss: 0.0605 - node_reconstructed_loss: 6.3019\n",
      "Epoch 43/100\n",
      "1/1 [==============================] - 1s 976ms/step - loss: 2.9746 - edge_embeddings_loss: 0.0501 - edge_reconstructed_loss: 0.0485 - node_embeddings_loss: 0.0588 - node_reconstructed_loss: 6.2880\n",
      "Epoch 44/100\n",
      "1/1 [==============================] - 1s 1s/step - loss: 2.9598 - edge_embeddings_loss: 0.0500 - edge_reconstructed_loss: 0.0484 - node_embeddings_loss: 0.0586 - node_reconstructed_loss: 6.2573\n",
      "Epoch 45/100\n",
      "1/1 [==============================] - 1s 827ms/step - loss: 2.9647 - edge_embeddings_loss: 0.0498 - edge_reconstructed_loss: 0.0483 - node_embeddings_loss: 0.0566 - node_reconstructed_loss: 6.2704\n",
      "Epoch 46/100\n",
      "1/1 [==============================] - 1s 686ms/step - loss: 2.9545 - edge_embeddings_loss: 0.0497 - edge_reconstructed_loss: 0.0482 - node_embeddings_loss: 0.0561 - node_reconstructed_loss: 6.2500\n",
      "Epoch 47/100\n",
      "1/1 [==============================] - 1s 679ms/step - loss: 2.9211 - edge_embeddings_loss: 0.0497 - edge_reconstructed_loss: 0.0480 - node_embeddings_loss: 0.0565 - node_reconstructed_loss: 6.1776\n",
      "Epoch 48/100\n",
      "1/1 [==============================] - 1s 699ms/step - loss: 2.9196 - edge_embeddings_loss: 0.0497 - edge_reconstructed_loss: 0.0479 - node_embeddings_loss: 0.0558 - node_reconstructed_loss: 6.1762\n",
      "Epoch 49/100\n",
      "1/1 [==============================] - 1s 1s/step - loss: 2.9263 - edge_embeddings_loss: 0.0497 - edge_reconstructed_loss: 0.0478 - node_embeddings_loss: 0.0559 - node_reconstructed_loss: 6.1930\n",
      "Epoch 50/100\n",
      "1/1 [==============================] - 1s 1s/step - loss: 2.9153 - edge_embeddings_loss: 0.0497 - edge_reconstructed_loss: 0.0477 - node_embeddings_loss: 0.0539 - node_reconstructed_loss: 6.1706\n",
      "Epoch 51/100\n",
      "1/1 [==============================] - 1s 659ms/step - loss: 2.9071 - edge_embeddings_loss: 0.0495 - edge_reconstructed_loss: 0.0476 - node_embeddings_loss: 0.0536 - node_reconstructed_loss: 6.1541\n",
      "Epoch 52/100\n",
      "1/1 [==============================] - 1s 823ms/step - loss: 2.8984 - edge_embeddings_loss: 0.0494 - edge_reconstructed_loss: 0.0475 - node_embeddings_loss: 0.0516 - node_reconstructed_loss: 6.1367\n",
      "Epoch 53/100\n",
      "1/1 [==============================] - 1s 772ms/step - loss: 2.8850 - edge_embeddings_loss: 0.0492 - edge_reconstructed_loss: 0.0474 - node_embeddings_loss: 0.0493 - node_reconstructed_loss: 6.1088\n",
      "Epoch 54/100\n",
      "1/1 [==============================] - 0s 134ms/step - loss: 2.8767 - edge_embeddings_loss: 0.0491 - edge_reconstructed_loss: 0.0473 - node_embeddings_loss: 0.0523 - node_reconstructed_loss: 6.0915\n",
      "Epoch 55/100\n",
      "1/1 [==============================] - 1s 1s/step - loss: 2.8598 - edge_embeddings_loss: 0.0490 - edge_reconstructed_loss: 0.0472 - node_embeddings_loss: 0.0503 - node_reconstructed_loss: 6.0557\n",
      "Epoch 56/100\n",
      "1/1 [==============================] - 1s 1s/step - loss: 2.8439 - edge_embeddings_loss: 0.0489 - edge_reconstructed_loss: 0.0471 - node_embeddings_loss: 0.0497 - node_reconstructed_loss: 6.0220\n",
      "Epoch 57/100\n",
      "1/1 [==============================] - 1s 639ms/step - loss: 2.8431 - edge_embeddings_loss: 0.0489 - edge_reconstructed_loss: 0.0470 - node_embeddings_loss: 0.0469 - node_reconstructed_loss: 6.0219\n",
      "Epoch 58/100\n",
      "1/1 [==============================] - 1s 1s/step - loss: 2.8334 - edge_embeddings_loss: 0.0489 - edge_reconstructed_loss: 0.0469 - node_embeddings_loss: 0.0477 - node_reconstructed_loss: 6.0018\n",
      "Epoch 59/100\n",
      "1/1 [==============================] - 1s 1s/step - loss: 2.8301 - edge_embeddings_loss: 0.0488 - edge_reconstructed_loss: 0.0468 - node_embeddings_loss: 0.0475 - node_reconstructed_loss: 5.9959\n",
      "Epoch 60/100\n",
      "1/1 [==============================] - 1s 859ms/step - loss: 2.7990 - edge_embeddings_loss: 0.0486 - edge_reconstructed_loss: 0.0467 - node_embeddings_loss: 0.0472 - node_reconstructed_loss: 5.9282\n",
      "Epoch 61/100\n",
      "1/1 [==============================] - 1s 831ms/step - loss: 2.8034 - edge_embeddings_loss: 0.0484 - edge_reconstructed_loss: 0.0466 - node_embeddings_loss: 0.0446 - node_reconstructed_loss: 5.9395\n",
      "Epoch 62/100\n",
      "1/1 [==============================] - 1s 701ms/step - loss: 2.7919 - edge_embeddings_loss: 0.0482 - edge_reconstructed_loss: 0.0466 - node_embeddings_loss: 0.0439 - node_reconstructed_loss: 5.9151\n",
      "Epoch 63/100\n",
      "1/1 [==============================] - 1s 720ms/step - loss: 2.7855 - edge_embeddings_loss: 0.0481 - edge_reconstructed_loss: 0.0465 - node_embeddings_loss: 0.0459 - node_reconstructed_loss: 5.9018\n",
      "Epoch 64/100\n",
      "1/1 [==============================] - 1s 667ms/step - loss: 2.7887 - edge_embeddings_loss: 0.0480 - edge_reconstructed_loss: 0.0464 - node_embeddings_loss: 0.0438 - node_reconstructed_loss: 5.9104\n",
      "Epoch 65/100\n",
      "1/1 [==============================] - 1s 780ms/step - loss: 2.7673 - edge_embeddings_loss: 0.0479 - edge_reconstructed_loss: 0.0463 - node_embeddings_loss: 0.0436 - node_reconstructed_loss: 5.8638\n",
      "Epoch 66/100\n",
      "1/1 [==============================] - 1s 878ms/step - loss: 2.7596 - edge_embeddings_loss: 0.0479 - edge_reconstructed_loss: 0.0462 - node_embeddings_loss: 0.0450 - node_reconstructed_loss: 5.8477\n",
      "Epoch 67/100\n",
      "1/1 [==============================] - 1s 771ms/step - loss: 2.7588 - edge_embeddings_loss: 0.0477 - edge_reconstructed_loss: 0.0462 - node_embeddings_loss: 0.0443 - node_reconstructed_loss: 5.8471\n",
      "Epoch 68/100\n",
      "1/1 [==============================] - 1s 1s/step - loss: 2.7582 - edge_embeddings_loss: 0.0476 - edge_reconstructed_loss: 0.0461 - node_embeddings_loss: 0.0432 - node_reconstructed_loss: 5.8468\n",
      "Epoch 69/100\n",
      "1/1 [==============================] - 1s 962ms/step - loss: 2.7391 - edge_embeddings_loss: 0.0475 - edge_reconstructed_loss: 0.0461 - node_embeddings_loss: 0.0408 - node_reconstructed_loss: 5.8055\n",
      "Epoch 70/100\n",
      "1/1 [==============================] - 1s 1s/step - loss: 2.7141 - edge_embeddings_loss: 0.0474 - edge_reconstructed_loss: 0.0460 - node_embeddings_loss: 0.0418 - node_reconstructed_loss: 5.7509\n",
      "Epoch 71/100\n",
      "1/1 [==============================] - 1s 665ms/step - loss: 2.7086 - edge_embeddings_loss: 0.0472 - edge_reconstructed_loss: 0.0459 - node_embeddings_loss: 0.0423 - node_reconstructed_loss: 5.7393\n",
      "Epoch 72/100\n",
      "1/1 [==============================] - 1s 922ms/step - loss: 2.6965 - edge_embeddings_loss: 0.0472 - edge_reconstructed_loss: 0.0458 - node_embeddings_loss: 0.0411 - node_reconstructed_loss: 5.7135\n",
      "Epoch 73/100\n",
      "1/1 [==============================] - 1s 1s/step - loss: 2.6852 - edge_embeddings_loss: 0.0471 - edge_reconstructed_loss: 0.0458 - node_embeddings_loss: 0.0400 - node_reconstructed_loss: 5.6892\n",
      "Epoch 74/100\n",
      "1/1 [==============================] - 1s 732ms/step - loss: 2.6839 - edge_embeddings_loss: 0.0471 - edge_reconstructed_loss: 0.0457 - node_embeddings_loss: 0.0390 - node_reconstructed_loss: 5.6873\n",
      "Epoch 75/100\n",
      "1/1 [==============================] - 2s 2s/step - loss: 2.6677 - edge_embeddings_loss: 0.0470 - edge_reconstructed_loss: 0.0456 - node_embeddings_loss: 0.0402 - node_reconstructed_loss: 5.6517\n",
      "Epoch 76/100\n",
      "1/1 [==============================] - 1s 748ms/step - loss: 2.6815 - edge_embeddings_loss: 0.0468 - edge_reconstructed_loss: 0.0456 - node_embeddings_loss: 0.0396 - node_reconstructed_loss: 5.6832\n",
      "Epoch 77/100\n",
      "1/1 [==============================] - 1s 950ms/step - loss: 2.6654 - edge_embeddings_loss: 0.0466 - edge_reconstructed_loss: 0.0455 - node_embeddings_loss: 0.0379 - node_reconstructed_loss: 5.6482\n",
      "Epoch 78/100\n",
      "1/1 [==============================] - 1s 1s/step - loss: 2.6491 - edge_embeddings_loss: 0.0464 - edge_reconstructed_loss: 0.0455 - node_embeddings_loss: 0.0383 - node_reconstructed_loss: 5.6127\n",
      "Epoch 79/100\n",
      "1/1 [==============================] - 1s 638ms/step - loss: 2.6386 - edge_embeddings_loss: 0.0463 - edge_reconstructed_loss: 0.0455 - node_embeddings_loss: 0.0383 - node_reconstructed_loss: 5.5900\n",
      "Epoch 80/100\n",
      "1/1 [==============================] - 1s 1s/step - loss: 2.6118 - edge_embeddings_loss: 0.0462 - edge_reconstructed_loss: 0.0454 - node_embeddings_loss: 0.0368 - node_reconstructed_loss: 5.5312\n",
      "Epoch 81/100\n",
      "1/1 [==============================] - 1s 963ms/step - loss: 2.6328 - edge_embeddings_loss: 0.0462 - edge_reconstructed_loss: 0.0453 - node_embeddings_loss: 0.0370 - node_reconstructed_loss: 5.5784\n",
      "Epoch 82/100\n",
      "1/1 [==============================] - 1s 584ms/step - loss: 2.6030 - edge_embeddings_loss: 0.0461 - edge_reconstructed_loss: 0.0453 - node_embeddings_loss: 0.0373 - node_reconstructed_loss: 5.5126\n",
      "Epoch 83/100\n",
      "1/1 [==============================] - 1s 895ms/step - loss: 2.6067 - edge_embeddings_loss: 0.0461 - edge_reconstructed_loss: 0.0452 - node_embeddings_loss: 0.0367 - node_reconstructed_loss: 5.5214\n",
      "Epoch 84/100\n",
      "1/1 [==============================] - 1s 670ms/step - loss: 2.5846 - edge_embeddings_loss: 0.0460 - edge_reconstructed_loss: 0.0451 - node_embeddings_loss: 0.0361 - node_reconstructed_loss: 5.4729\n",
      "Epoch 85/100\n",
      "1/1 [==============================] - 1s 1s/step - loss: 2.5803 - edge_embeddings_loss: 0.0459 - edge_reconstructed_loss: 0.0451 - node_embeddings_loss: 0.0360 - node_reconstructed_loss: 5.4637\n",
      "Epoch 86/100\n",
      "1/1 [==============================] - 1s 956ms/step - loss: 2.5780 - edge_embeddings_loss: 0.0458 - edge_reconstructed_loss: 0.0450 - node_embeddings_loss: 0.0358 - node_reconstructed_loss: 5.4589\n",
      "Epoch 87/100\n",
      "1/1 [==============================] - 1s 816ms/step - loss: 2.5736 - edge_embeddings_loss: 0.0457 - edge_reconstructed_loss: 0.0450 - node_embeddings_loss: 0.0345 - node_reconstructed_loss: 5.4498\n",
      "Epoch 88/100\n",
      "1/1 [==============================] - 1s 869ms/step - loss: 2.5553 - edge_embeddings_loss: 0.0456 - edge_reconstructed_loss: 0.0449 - node_embeddings_loss: 0.0354 - node_reconstructed_loss: 5.4093\n",
      "Epoch 89/100\n",
      "1/1 [==============================] - 1s 513ms/step - loss: 2.5659 - edge_embeddings_loss: 0.0455 - edge_reconstructed_loss: 0.0449 - node_embeddings_loss: 0.0346 - node_reconstructed_loss: 5.4333\n",
      "Epoch 90/100\n",
      "1/1 [==============================] - 1s 883ms/step - loss: 2.5579 - edge_embeddings_loss: 0.0454 - edge_reconstructed_loss: 0.0448 - node_embeddings_loss: 0.0350 - node_reconstructed_loss: 5.4158\n",
      "Epoch 91/100\n",
      "1/1 [==============================] - 1s 1s/step - loss: 2.5364 - edge_embeddings_loss: 0.0453 - edge_reconstructed_loss: 0.0448 - node_embeddings_loss: 0.0351 - node_reconstructed_loss: 5.3683\n",
      "Epoch 92/100\n",
      "1/1 [==============================] - 1s 709ms/step - loss: 2.5391 - edge_embeddings_loss: 0.0453 - edge_reconstructed_loss: 0.0447 - node_embeddings_loss: 0.0336 - node_reconstructed_loss: 5.3748\n",
      "Epoch 93/100\n",
      "1/1 [==============================] - 1s 885ms/step - loss: 2.5057 - edge_embeddings_loss: 0.0453 - edge_reconstructed_loss: 0.0447 - node_embeddings_loss: 0.0320 - node_reconstructed_loss: 5.3009\n",
      "Epoch 94/100\n",
      "1/1 [==============================] - 1s 731ms/step - loss: 2.5202 - edge_embeddings_loss: 0.0452 - edge_reconstructed_loss: 0.0446 - node_embeddings_loss: 0.0331 - node_reconstructed_loss: 5.3331\n",
      "Epoch 95/100\n",
      "1/1 [==============================] - 1s 737ms/step - loss: 2.5044 - edge_embeddings_loss: 0.0450 - edge_reconstructed_loss: 0.0446 - node_embeddings_loss: 0.0332 - node_reconstructed_loss: 5.2982\n",
      "Epoch 96/100\n",
      "1/1 [==============================] - 1s 887ms/step - loss: 2.5085 - edge_embeddings_loss: 0.0449 - edge_reconstructed_loss: 0.0446 - node_embeddings_loss: 0.0321 - node_reconstructed_loss: 5.3076\n",
      "Epoch 97/100\n",
      "1/1 [==============================] - 2s 2s/step - loss: 2.4713 - edge_embeddings_loss: 0.0449 - edge_reconstructed_loss: 0.0445 - node_embeddings_loss: 0.0310 - node_reconstructed_loss: 5.2252\n",
      "Epoch 98/100\n",
      "1/1 [==============================] - 1s 795ms/step - loss: 2.4609 - edge_embeddings_loss: 0.0448 - edge_reconstructed_loss: 0.0445 - node_embeddings_loss: 0.0318 - node_reconstructed_loss: 5.2020\n",
      "Epoch 99/100\n",
      "1/1 [==============================] - 1s 1s/step - loss: 2.4672 - edge_embeddings_loss: 0.0448 - edge_reconstructed_loss: 0.0444 - node_embeddings_loss: 0.0310 - node_reconstructed_loss: 5.2163\n",
      "Epoch 100/100\n",
      "1/1 [==============================] - 1s 692ms/step - loss: 2.4511 - edge_embeddings_loss: 0.0447 - edge_reconstructed_loss: 0.0444 - node_embeddings_loss: 0.0306 - node_reconstructed_loss: 5.1807\n"
     ]
    }
   ],
   "source": [
    "history = gnn_detector.train(X_train_tf_graph, epochs=100)"
   ]
  },
  {
   "cell_type": "code",
   "execution_count": 9,
   "metadata": {},
   "outputs": [
    {
     "name": "stderr",
     "output_type": "stream",
     "text": [
      "INFO:scripts.gnn_anomaly_detection:Detecting node and edge anomalies...\n"
     ]
    },
    {
     "name": "stdout",
     "output_type": "stream",
     "text": [
      "graph_tensor is self.graph_tensor_test\n",
      "1/1 [==============================] - 0s 92ms/step\n"
     ]
    },
    {
     "name": "stderr",
     "output_type": "stream",
     "text": [
      "INFO:scripts.gnn_anomaly_detection:Detected 352 node anomalies (1.0%)\n",
      "INFO:scripts.gnn_anomaly_detection:Detected 502 edge anomalies (1.0%)\n"
     ]
    }
   ],
   "source": [
    "\n",
    "(node_reconstruction_error, edge_reconstruction_error, \n",
    "     node_threshold, edge_threshold) = gnn_detector.detect_anomalies()\n",
    "    \n",
    "# Calculate anomaly masks\n",
    "node_anomalies = node_reconstruction_error > node_threshold\n",
    "edge_anomalies = edge_reconstruction_error > edge_threshold"
   ]
  },
  {
   "cell_type": "code",
   "execution_count": null,
   "metadata": {},
   "outputs": [],
   "source": [
    " #Create results analysis\n",
    "graph_data = X_test_graph\n",
    "\n",
    "analyzer = AnomalyAnalyzer()\n",
    "\n",
    "node_results_df = analyzer.create_node_results_dataframe(\n",
    "    graph_data, node_reconstruction_error, node_anomalies)\n",
    "\n",
    "edge_results_df = analyzer.create_edge_results_dataframe(\n",
    "    graph_data, edge_reconstruction_error, edge_anomalies)"
   ]
  }
 ],
 "metadata": {
  "kernelspec": {
   "display_name": "decp_ml_env",
   "language": "python",
   "name": "python3"
  },
  "language_info": {
   "codemirror_mode": {
    "name": "ipython",
    "version": 3
   },
   "file_extension": ".py",
   "mimetype": "text/x-python",
   "name": "python",
   "nbconvert_exporter": "python",
   "pygments_lexer": "ipython3",
   "version": "3.10.6"
  }
 },
 "nbformat": 4,
 "nbformat_minor": 2
}
