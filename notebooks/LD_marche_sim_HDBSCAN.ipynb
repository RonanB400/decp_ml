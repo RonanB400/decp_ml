{
 "cells": [
  {
   "cell_type": "code",
   "execution_count": 10,
   "id": "0fb355d0",
   "metadata": {},
   "outputs": [],
   "source": [
    "import pandas as pd\n",
    "import numpy as np\n",
    "import matplotlib.pyplot as plt\n",
    "import seaborn as sns\n",
    "from sklearn.decomposition import PCA\n",
    "from sklearn.metrics import silhouette_score\n",
    "import hdbscan        #install hdbscan\n",
    "from sklearn.model_selection import train_test_split"
   ]
  },
  {
   "cell_type": "code",
   "execution_count": 6,
   "id": "4a9e27e4",
   "metadata": {},
   "outputs": [],
   "source": [
    "from scripts.data_cleaner import filter_top_cpv_categories\n",
    "from scripts.preprocess_pipeline import create_pipeline_cat"
   ]
  },
  {
   "cell_type": "code",
   "execution_count": 3,
   "id": "11843fdb",
   "metadata": {},
   "outputs": [],
   "source": [
    "data_path='../data/data_clean.csv'\n",
    "model_save_path='../data'\n",
    "top_n = 40\n",
    "cpv_column = 'codeCPV_2'"
   ]
  },
  {
   "cell_type": "code",
   "execution_count": 4,
   "id": "e5ec07bd",
   "metadata": {},
   "outputs": [
    {
     "data": {
      "text/html": [
       "<div>\n",
       "<style scoped>\n",
       "    .dataframe tbody tr th:only-of-type {\n",
       "        vertical-align: middle;\n",
       "    }\n",
       "\n",
       "    .dataframe tbody tr th {\n",
       "        vertical-align: top;\n",
       "    }\n",
       "\n",
       "    .dataframe thead th {\n",
       "        text-align: right;\n",
       "    }\n",
       "</style>\n",
       "<table border=\"1\" class=\"dataframe\">\n",
       "  <thead>\n",
       "    <tr style=\"text-align: right;\">\n",
       "      <th></th>\n",
       "      <th>uid</th>\n",
       "      <th>id</th>\n",
       "      <th>nature</th>\n",
       "      <th>acheteur_id</th>\n",
       "      <th>acheteur_nom</th>\n",
       "      <th>acheteur_siren</th>\n",
       "      <th>titulaire_id</th>\n",
       "      <th>titulaire_typeIdentifiant</th>\n",
       "      <th>titulaire_nom</th>\n",
       "      <th>titulaire_siren</th>\n",
       "      <th>...</th>\n",
       "      <th>lieuExecution_typeCode</th>\n",
       "      <th>idAccordCadre</th>\n",
       "      <th>source_open_data</th>\n",
       "      <th>codeCPV_FR</th>\n",
       "      <th>codeCPV_2</th>\n",
       "      <th>codeCPV_3</th>\n",
       "      <th>codeCPV_4</th>\n",
       "      <th>codeCPV_5</th>\n",
       "      <th>codeCPV_2_3</th>\n",
       "      <th>annee</th>\n",
       "    </tr>\n",
       "  </thead>\n",
       "  <tbody>\n",
       "    <tr>\n",
       "      <th>0</th>\n",
       "      <td>2154005160001320242024-LOT04</td>\n",
       "      <td>20242024-LOT04</td>\n",
       "      <td>Marché</td>\n",
       "      <td>21540051600013</td>\n",
       "      <td>COMMUNE DE BATILLY</td>\n",
       "      <td>215400516.0</td>\n",
       "      <td>78885470100018</td>\n",
       "      <td>SIRET</td>\n",
       "      <td>ACOMETAL</td>\n",
       "      <td>788854701.0</td>\n",
       "      <td>...</td>\n",
       "      <td>Code postal</td>\n",
       "      <td>NaN</td>\n",
       "      <td>data.gouv.fr decp-2024.json</td>\n",
       "      <td>Travaux de charpente</td>\n",
       "      <td>45000000</td>\n",
       "      <td>45200000</td>\n",
       "      <td>45260000</td>\n",
       "      <td>45261000</td>\n",
       "      <td>45200000</td>\n",
       "      <td>2024</td>\n",
       "    </tr>\n",
       "    <tr>\n",
       "      <th>1</th>\n",
       "      <td>243500667002882021M226MO</td>\n",
       "      <td>2021M226MO</td>\n",
       "      <td>Marché</td>\n",
       "      <td>24350066700288</td>\n",
       "      <td>CC VAL D'ILLE-AUBIGNE</td>\n",
       "      <td>243500667.0</td>\n",
       "      <td>38373211200032</td>\n",
       "      <td>SIRET</td>\n",
       "      <td>UNIVERS</td>\n",
       "      <td>383732112.0</td>\n",
       "      <td>...</td>\n",
       "      <td>Code postal</td>\n",
       "      <td>NaN</td>\n",
       "      <td>data.gouv.fr decp-2024.json</td>\n",
       "      <td>Services d'architecture</td>\n",
       "      <td>71000000</td>\n",
       "      <td>71200000</td>\n",
       "      <td>71200000</td>\n",
       "      <td>71200000</td>\n",
       "      <td>71200000</td>\n",
       "      <td>2021</td>\n",
       "    </tr>\n",
       "    <tr>\n",
       "      <th>2</th>\n",
       "      <td>249710047000472024SS_PRD_TRV</td>\n",
       "      <td>2024SS_PRD_TRV</td>\n",
       "      <td>Marché</td>\n",
       "      <td>24971004700047</td>\n",
       "      <td>COMMUNAUTE DE COMMUNES DE MARIE GALANTE</td>\n",
       "      <td>249710047.0</td>\n",
       "      <td>43387249600016</td>\n",
       "      <td>SIRET</td>\n",
       "      <td>COTRAM B.T.P.</td>\n",
       "      <td>433872496.0</td>\n",
       "      <td>...</td>\n",
       "      <td>Code postal</td>\n",
       "      <td>NaN</td>\n",
       "      <td>data.gouv.fr decp-2024.json</td>\n",
       "      <td>Travaux de construction de stations d'épuratio...</td>\n",
       "      <td>45000000</td>\n",
       "      <td>45200000</td>\n",
       "      <td>45230000</td>\n",
       "      <td>45232000</td>\n",
       "      <td>45200000</td>\n",
       "      <td>2024</td>\n",
       "    </tr>\n",
       "    <tr>\n",
       "      <th>3</th>\n",
       "      <td>6254801990001124-0806-L2</td>\n",
       "      <td>24-0806-L2</td>\n",
       "      <td>Marché</td>\n",
       "      <td>62548019900011</td>\n",
       "      <td>LA MAISON POUR TOUS, SOCIETE ANONYME COOPERATI...</td>\n",
       "      <td>625480199.0</td>\n",
       "      <td>55204695502544</td>\n",
       "      <td>SIRET</td>\n",
       "      <td>ENGIE ENERGIE SERVICES</td>\n",
       "      <td>552046955.0</td>\n",
       "      <td>...</td>\n",
       "      <td>Code département</td>\n",
       "      <td>NaN</td>\n",
       "      <td>data.gouv.fr decp-2024.json</td>\n",
       "      <td>Services de réparation et d'entretien de chauf...</td>\n",
       "      <td>50000000</td>\n",
       "      <td>50700000</td>\n",
       "      <td>50720000</td>\n",
       "      <td>50720000</td>\n",
       "      <td>50000000</td>\n",
       "      <td>2024</td>\n",
       "    </tr>\n",
       "    <tr>\n",
       "      <th>4</th>\n",
       "      <td>20002563300013202424011BCR</td>\n",
       "      <td>202424011BCR</td>\n",
       "      <td>Marché</td>\n",
       "      <td>20002563300013</td>\n",
       "      <td>SI DE RESTAURATION COLLECTIVE</td>\n",
       "      <td>200025633.0</td>\n",
       "      <td>47698032100238</td>\n",
       "      <td>SIRET</td>\n",
       "      <td>POMONA EPISAVEURS</td>\n",
       "      <td>476980321.0</td>\n",
       "      <td>...</td>\n",
       "      <td>Code postal</td>\n",
       "      <td>NaN</td>\n",
       "      <td>data.gouv.fr decp-2025-04.json</td>\n",
       "      <td>Produits alimentaires divers</td>\n",
       "      <td>15000000</td>\n",
       "      <td>15800000</td>\n",
       "      <td>15800000</td>\n",
       "      <td>15800000</td>\n",
       "      <td>15000000</td>\n",
       "      <td>2024</td>\n",
       "    </tr>\n",
       "  </tbody>\n",
       "</table>\n",
       "<p>5 rows × 38 columns</p>\n",
       "</div>"
      ],
      "text/plain": [
       "                            uid              id  nature     acheteur_id  \\\n",
       "0  2154005160001320242024-LOT04  20242024-LOT04  Marché  21540051600013   \n",
       "1      243500667002882021M226MO      2021M226MO  Marché  24350066700288   \n",
       "2  249710047000472024SS_PRD_TRV  2024SS_PRD_TRV  Marché  24971004700047   \n",
       "3      6254801990001124-0806-L2      24-0806-L2  Marché  62548019900011   \n",
       "4    20002563300013202424011BCR    202424011BCR  Marché  20002563300013   \n",
       "\n",
       "                                        acheteur_nom  acheteur_siren  \\\n",
       "0                                 COMMUNE DE BATILLY     215400516.0   \n",
       "1                              CC VAL D'ILLE-AUBIGNE     243500667.0   \n",
       "2            COMMUNAUTE DE COMMUNES DE MARIE GALANTE     249710047.0   \n",
       "3  LA MAISON POUR TOUS, SOCIETE ANONYME COOPERATI...     625480199.0   \n",
       "4                      SI DE RESTAURATION COLLECTIVE     200025633.0   \n",
       "\n",
       "     titulaire_id titulaire_typeIdentifiant           titulaire_nom  \\\n",
       "0  78885470100018                     SIRET                ACOMETAL   \n",
       "1  38373211200032                     SIRET                 UNIVERS   \n",
       "2  43387249600016                     SIRET           COTRAM B.T.P.   \n",
       "3  55204695502544                     SIRET  ENGIE ENERGIE SERVICES   \n",
       "4  47698032100238                     SIRET       POMONA EPISAVEURS   \n",
       "\n",
       "   titulaire_siren  ... lieuExecution_typeCode  idAccordCadre  \\\n",
       "0      788854701.0  ...            Code postal            NaN   \n",
       "1      383732112.0  ...            Code postal            NaN   \n",
       "2      433872496.0  ...            Code postal            NaN   \n",
       "3      552046955.0  ...       Code département            NaN   \n",
       "4      476980321.0  ...            Code postal            NaN   \n",
       "\n",
       "                 source_open_data  \\\n",
       "0     data.gouv.fr decp-2024.json   \n",
       "1     data.gouv.fr decp-2024.json   \n",
       "2     data.gouv.fr decp-2024.json   \n",
       "3     data.gouv.fr decp-2024.json   \n",
       "4  data.gouv.fr decp-2025-04.json   \n",
       "\n",
       "                                          codeCPV_FR  codeCPV_2 codeCPV_3  \\\n",
       "0                               Travaux de charpente   45000000  45200000   \n",
       "1                            Services d'architecture   71000000  71200000   \n",
       "2  Travaux de construction de stations d'épuratio...   45000000  45200000   \n",
       "3  Services de réparation et d'entretien de chauf...   50000000  50700000   \n",
       "4                       Produits alimentaires divers   15000000  15800000   \n",
       "\n",
       "  codeCPV_4 codeCPV_5  codeCPV_2_3  annee  \n",
       "0  45260000  45261000     45200000   2024  \n",
       "1  71200000  71200000     71200000   2021  \n",
       "2  45230000  45232000     45200000   2024  \n",
       "3  50720000  50720000     50000000   2024  \n",
       "4  15800000  15800000     15000000   2024  \n",
       "\n",
       "[5 rows x 38 columns]"
      ]
     },
     "execution_count": 4,
     "metadata": {},
     "output_type": "execute_result"
    }
   ],
   "source": [
    "df = pd.read_csv(data_path, encoding='utf-8')\n",
    "# Examine the data\n",
    "df.head()"
   ]
  },
  {
   "cell_type": "code",
   "execution_count": 7,
   "id": "4eeaac2a",
   "metadata": {},
   "outputs": [
    {
     "name": "stdout",
     "output_type": "stream",
     "text": [
      "Filtered from 73 to 40 CPV categories, keeping 283975 rows out of 286850\n"
     ]
    }
   ],
   "source": [
    "df_cpv = filter_top_cpv_categories(df, top_n=40, cpv_column=cpv_column)"
   ]
  },
  {
   "cell_type": "code",
   "execution_count": 8,
   "id": "9f28d2e8",
   "metadata": {},
   "outputs": [
    {
     "name": "stdout",
     "output_type": "stream",
     "text": [
      "<class 'pandas.core.frame.DataFrame'>\n",
      "Index: 283975 entries, 0 to 286849\n",
      "Data columns (total 38 columns):\n",
      " #   Column                     Non-Null Count   Dtype  \n",
      "---  ------                     --------------   -----  \n",
      " 0   uid                        283975 non-null  object \n",
      " 1   id                         283975 non-null  object \n",
      " 2   nature                     283975 non-null  object \n",
      " 3   acheteur_id                283975 non-null  int64  \n",
      " 4   acheteur_nom               283788 non-null  object \n",
      " 5   acheteur_siren             283810 non-null  float64\n",
      " 6   titulaire_id               283975 non-null  object \n",
      " 7   titulaire_typeIdentifiant  283975 non-null  object \n",
      " 8   titulaire_nom              276865 non-null  object \n",
      " 9   titulaire_siren            282918 non-null  float64\n",
      " 10  objet                      283975 non-null  object \n",
      " 11  montant                    283975 non-null  float64\n",
      " 12  codeCPV                    283975 non-null  object \n",
      " 13  procedure                  283975 non-null  object \n",
      " 14  dureeMois                  283975 non-null  float64\n",
      " 15  dateNotification           283975 non-null  object \n",
      " 16  datePublicationDonnees     283973 non-null  object \n",
      " 17  formePrix                  283975 non-null  object \n",
      " 18  attributionAvance          114238 non-null  float64\n",
      " 19  offresRecues               185681 non-null  float64\n",
      " 20  marcheInnovant             111794 non-null  float64\n",
      " 21  ccag                       283975 non-null  object \n",
      " 22  sousTraitanceDeclaree      143043 non-null  float64\n",
      " 23  typeGroupementOperateurs   283975 non-null  object \n",
      " 24  tauxAvance                 158536 non-null  float64\n",
      " 25  origineUE                  157606 non-null  float64\n",
      " 26  origineFrance              157607 non-null  float64\n",
      " 27  lieuExecution_code         283936 non-null  object \n",
      " 28  lieuExecution_typeCode     283975 non-null  object \n",
      " 29  idAccordCadre              61606 non-null   object \n",
      " 30  source_open_data           283975 non-null  object \n",
      " 31  codeCPV_FR                 281684 non-null  object \n",
      " 32  codeCPV_2                  283975 non-null  int64  \n",
      " 33  codeCPV_3                  283975 non-null  int64  \n",
      " 34  codeCPV_4                  283975 non-null  int64  \n",
      " 35  codeCPV_5                  283975 non-null  int64  \n",
      " 36  codeCPV_2_3                283975 non-null  int64  \n",
      " 37  annee                      283975 non-null  int64  \n",
      "dtypes: float64(11), int64(7), object(20)\n",
      "memory usage: 84.5+ MB\n"
     ]
    }
   ],
   "source": [
    "df_cpv.info()"
   ]
  },
  {
   "cell_type": "code",
   "execution_count": 11,
   "id": "7e0821c5",
   "metadata": {},
   "outputs": [],
   "source": [
    "X_train, X_test = train_test_split(df_cpv, test_size=0.2, random_state=0, stratify=df_cpv[cpv_column])"
   ]
  },
  {
   "cell_type": "code",
   "execution_count": 12,
   "id": "66910205",
   "metadata": {},
   "outputs": [
    {
     "name": "stderr",
     "output_type": "stream",
     "text": [
      "/Users/loicdogon/.pyenv/versions/3.10.6/envs/decp_ml_env/lib/python3.10/site-packages/sklearn/pipeline.py:62: FutureWarning: This Pipeline instance is not fitted yet. Call 'fit' with appropriate arguments before using other methods such as transform, predict, etc. This will raise an error in 1.8 instead of the current warning.\n",
      "  warnings.warn(\n"
     ]
    }
   ],
   "source": [
    "pipeline = create_pipeline_cat('marche_sim')\n",
    "X_train_preproc = pipeline.fit_transform(X_train)\n",
    "X_test_preproc = pipeline.transform(X_test)"
   ]
  },
  {
   "cell_type": "code",
   "execution_count": 14,
   "id": "232ddf8e",
   "metadata": {},
   "outputs": [
    {
     "data": {
      "text/plain": [
       "((227180, 74), (56795, 74))"
      ]
     },
     "execution_count": 14,
     "metadata": {},
     "output_type": "execute_result"
    }
   ],
   "source": [
    "X_train_preproc.shape, X_test_preproc.shape"
   ]
  },
  {
   "cell_type": "markdown",
   "id": "a6dfbf05",
   "metadata": {},
   "source": [
    "# PCA reduction"
   ]
  },
  {
   "cell_type": "code",
   "execution_count": 15,
   "id": "71ed92be",
   "metadata": {},
   "outputs": [
    {
     "name": "stdout",
     "output_type": "stream",
     "text": [
      "Original dimensions: 74\n",
      "Reduced dimensions: 16\n",
      "Explained variance: 0.91\n"
     ]
    }
   ],
   "source": [
    "# Apply PCA for dimensionality reduction\n",
    "pca = PCA(n_components=0.9)  # Keep enough components to explain 90% of variance\n",
    "X_train_pca = pca.fit_transform(X_train_preproc)\n",
    "\n",
    "print(f\"Original dimensions: {X_train_preproc.shape[1]}\")\n",
    "print(f\"Reduced dimensions: {X_train_pca.shape[1]}\")\n",
    "print(f\"Explained variance: {sum(pca.explained_variance_ratio_):.2f}\")"
   ]
  },
  {
   "cell_type": "markdown",
   "id": "e607a567",
   "metadata": {},
   "source": [
    "# HDBSCAN clustering 1st"
   ]
  },
  {
   "cell_type": "code",
   "execution_count": 16,
   "id": "6874f9e7",
   "metadata": {},
   "outputs": [
    {
     "name": "stderr",
     "output_type": "stream",
     "text": [
      "/Users/loicdogon/.pyenv/versions/3.10.6/envs/decp_ml_env/lib/python3.10/site-packages/sklearn/utils/deprecation.py:151: FutureWarning: 'force_all_finite' was renamed to 'ensure_all_finite' in 1.6 and will be removed in 1.8.\n",
      "  warnings.warn(\n",
      "/Users/loicdogon/.pyenv/versions/3.10.6/envs/decp_ml_env/lib/python3.10/site-packages/sklearn/utils/deprecation.py:151: FutureWarning: 'force_all_finite' was renamed to 'ensure_all_finite' in 1.6 and will be removed in 1.8.\n",
      "  warnings.warn(\n"
     ]
    },
    {
     "name": "stdout",
     "output_type": "stream",
     "text": [
      "min_cluster_size = 20\n",
      "  Number of clusters: 2140\n",
      "  Number of noise points: 70640\n",
      "  Percentage of noise: 31.09%\n",
      "  Silhouette Score: 0.084\n",
      "\n"
     ]
    },
    {
     "data": {
      "text/html": [
       "<div>\n",
       "<style scoped>\n",
       "    .dataframe tbody tr th:only-of-type {\n",
       "        vertical-align: middle;\n",
       "    }\n",
       "\n",
       "    .dataframe tbody tr th {\n",
       "        vertical-align: top;\n",
       "    }\n",
       "\n",
       "    .dataframe thead th {\n",
       "        text-align: right;\n",
       "    }\n",
       "</style>\n",
       "<table border=\"1\" class=\"dataframe\">\n",
       "  <thead>\n",
       "    <tr style=\"text-align: right;\">\n",
       "      <th></th>\n",
       "      <th>min_cluster_size</th>\n",
       "      <th>num_clusters</th>\n",
       "      <th>noise_points</th>\n",
       "      <th>noise_percentage</th>\n",
       "    </tr>\n",
       "  </thead>\n",
       "  <tbody>\n",
       "    <tr>\n",
       "      <th>0</th>\n",
       "      <td>20</td>\n",
       "      <td>2140</td>\n",
       "      <td>70640</td>\n",
       "      <td>31.094286</td>\n",
       "    </tr>\n",
       "  </tbody>\n",
       "</table>\n",
       "</div>"
      ],
      "text/plain": [
       "   min_cluster_size  num_clusters  noise_points  noise_percentage\n",
       "0                20          2140         70640         31.094286"
      ]
     },
     "execution_count": 16,
     "metadata": {},
     "output_type": "execute_result"
    }
   ],
   "source": [
    "# HDBSCAN hyperparameter exploration\n",
    "min_samples = 5  # Similar to DBSCAN's min_samples\n",
    "\n",
    "results = []\n",
    "\n",
    "\n",
    "# Apply HDBSCAN\n",
    "clusterer = hdbscan.HDBSCAN(\n",
    "    min_cluster_size=20,\n",
    "    min_samples=min_samples,\n",
    "    metric='euclidean',\n",
    "    gen_min_span_tree=True,\n",
    "    cluster_selection_method='eom'  # 'eom' is usually better for variable density\n",
    ")\n",
    "clusterer.fit(X_train_pca)\n",
    "labels = clusterer.labels_\n",
    "# Calculate metrics\n",
    "n_clusters = len(set(labels)) - (1 if -1 in labels else 0)\n",
    "n_noise = list(labels).count(-1)\n",
    "noise_ratio = 100 * n_noise / len(X_train_pca)\n",
    "results.append({\n",
    "    'min_cluster_size': 20,\n",
    "    'num_clusters': n_clusters,\n",
    "    'noise_points': n_noise,\n",
    "    'noise_percentage': noise_ratio\n",
    "})\n",
    "print(\"min_cluster_size = 20\")\n",
    "print(f\"  Number of clusters: {n_clusters}\")\n",
    "print(f\"  Number of noise points: {n_noise}\")\n",
    "print(f\"  Percentage of noise: {noise_ratio:.2f}%\")\n",
    "# Calculate silhouette score if more than one cluster and not all noise\n",
    "if n_clusters > 1 and n_noise < len(X_train_pca):\n",
    "    # Filter out noise points\n",
    "    mask = labels != -1\n",
    "    silhouette_avg = silhouette_score(X_train_pca[mask], labels[mask])\n",
    "    print(f\"  Silhouette Score: {silhouette_avg:.3f}\")\n",
    "print()\n",
    "\n",
    "# Display results table\n",
    "results_df = pd.DataFrame(results)\n",
    "results_df"
   ]
  },
  {
   "cell_type": "code",
   "execution_count": 11,
   "id": "507e231e",
   "metadata": {},
   "outputs": [
    {
     "ename": "KeyError",
     "evalue": "\"['cluster'] not found in axis\"",
     "output_type": "error",
     "traceback": [
      "\u001b[0;31m---------------------------------------------------------------------------\u001b[0m",
      "\u001b[0;31mKeyError\u001b[0m                                  Traceback (most recent call last)",
      "Cell \u001b[0;32mIn[11], line 3\u001b[0m\n\u001b[1;32m      1\u001b[0m \u001b[38;5;66;03m# 2D visualization using PCA\u001b[39;00m\n\u001b[1;32m      2\u001b[0m \u001b[38;5;66;03m# For visualization, use the first 2 PCA components\u001b[39;00m\n\u001b[0;32m----> 3\u001b[0m vis_pca \u001b[38;5;241m=\u001b[39m PCA(n_components\u001b[38;5;241m=\u001b[39m\u001b[38;5;241m2\u001b[39m)\u001b[38;5;241m.\u001b[39mfit_transform(\u001b[43mdf\u001b[49m\u001b[38;5;241;43m.\u001b[39;49m\u001b[43mdrop\u001b[49m\u001b[43m(\u001b[49m\u001b[38;5;124;43m'\u001b[39;49m\u001b[38;5;124;43mcluster\u001b[39;49m\u001b[38;5;124;43m'\u001b[39;49m\u001b[43m,\u001b[49m\u001b[43m \u001b[49m\u001b[43maxis\u001b[49m\u001b[38;5;241;43m=\u001b[39;49m\u001b[38;5;241;43m1\u001b[39;49m\u001b[43m)\u001b[49m)\n\u001b[1;32m      5\u001b[0m plt\u001b[38;5;241m.\u001b[39mfigure(figsize\u001b[38;5;241m=\u001b[39m(\u001b[38;5;241m12\u001b[39m, \u001b[38;5;241m8\u001b[39m))\n\u001b[1;32m      6\u001b[0m scatter \u001b[38;5;241m=\u001b[39m plt\u001b[38;5;241m.\u001b[39mscatter(vis_pca[:, \u001b[38;5;241m0\u001b[39m], vis_pca[:, \u001b[38;5;241m1\u001b[39m], c\u001b[38;5;241m=\u001b[39mdf[\u001b[38;5;124m'\u001b[39m\u001b[38;5;124mcluster\u001b[39m\u001b[38;5;124m'\u001b[39m], cmap\u001b[38;5;241m=\u001b[39m\u001b[38;5;124m'\u001b[39m\u001b[38;5;124mviridis\u001b[39m\u001b[38;5;124m'\u001b[39m, alpha\u001b[38;5;241m=\u001b[39m\u001b[38;5;241m0.5\u001b[39m, s\u001b[38;5;241m=\u001b[39m\u001b[38;5;241m5\u001b[39m)\n",
      "File \u001b[0;32m~/.pyenv/versions/3.10.6/envs/decp_ml_env/lib/python3.10/site-packages/pandas/core/frame.py:5581\u001b[0m, in \u001b[0;36mDataFrame.drop\u001b[0;34m(self, labels, axis, index, columns, level, inplace, errors)\u001b[0m\n\u001b[1;32m   5433\u001b[0m \u001b[38;5;28;01mdef\u001b[39;00m\u001b[38;5;250m \u001b[39m\u001b[38;5;21mdrop\u001b[39m(\n\u001b[1;32m   5434\u001b[0m     \u001b[38;5;28mself\u001b[39m,\n\u001b[1;32m   5435\u001b[0m     labels: IndexLabel \u001b[38;5;241m|\u001b[39m \u001b[38;5;28;01mNone\u001b[39;00m \u001b[38;5;241m=\u001b[39m \u001b[38;5;28;01mNone\u001b[39;00m,\n\u001b[0;32m   (...)\u001b[0m\n\u001b[1;32m   5442\u001b[0m     errors: IgnoreRaise \u001b[38;5;241m=\u001b[39m \u001b[38;5;124m\"\u001b[39m\u001b[38;5;124mraise\u001b[39m\u001b[38;5;124m\"\u001b[39m,\n\u001b[1;32m   5443\u001b[0m ) \u001b[38;5;241m-\u001b[39m\u001b[38;5;241m>\u001b[39m DataFrame \u001b[38;5;241m|\u001b[39m \u001b[38;5;28;01mNone\u001b[39;00m:\n\u001b[1;32m   5444\u001b[0m \u001b[38;5;250m    \u001b[39m\u001b[38;5;124;03m\"\"\"\u001b[39;00m\n\u001b[1;32m   5445\u001b[0m \u001b[38;5;124;03m    Drop specified labels from rows or columns.\u001b[39;00m\n\u001b[1;32m   5446\u001b[0m \n\u001b[0;32m   (...)\u001b[0m\n\u001b[1;32m   5579\u001b[0m \u001b[38;5;124;03m            weight  1.0     0.8\u001b[39;00m\n\u001b[1;32m   5580\u001b[0m \u001b[38;5;124;03m    \"\"\"\u001b[39;00m\n\u001b[0;32m-> 5581\u001b[0m     \u001b[38;5;28;01mreturn\u001b[39;00m \u001b[38;5;28;43msuper\u001b[39;49m\u001b[43m(\u001b[49m\u001b[43m)\u001b[49m\u001b[38;5;241;43m.\u001b[39;49m\u001b[43mdrop\u001b[49m\u001b[43m(\u001b[49m\n\u001b[1;32m   5582\u001b[0m \u001b[43m        \u001b[49m\u001b[43mlabels\u001b[49m\u001b[38;5;241;43m=\u001b[39;49m\u001b[43mlabels\u001b[49m\u001b[43m,\u001b[49m\n\u001b[1;32m   5583\u001b[0m \u001b[43m        \u001b[49m\u001b[43maxis\u001b[49m\u001b[38;5;241;43m=\u001b[39;49m\u001b[43maxis\u001b[49m\u001b[43m,\u001b[49m\n\u001b[1;32m   5584\u001b[0m \u001b[43m        \u001b[49m\u001b[43mindex\u001b[49m\u001b[38;5;241;43m=\u001b[39;49m\u001b[43mindex\u001b[49m\u001b[43m,\u001b[49m\n\u001b[1;32m   5585\u001b[0m \u001b[43m        \u001b[49m\u001b[43mcolumns\u001b[49m\u001b[38;5;241;43m=\u001b[39;49m\u001b[43mcolumns\u001b[49m\u001b[43m,\u001b[49m\n\u001b[1;32m   5586\u001b[0m \u001b[43m        \u001b[49m\u001b[43mlevel\u001b[49m\u001b[38;5;241;43m=\u001b[39;49m\u001b[43mlevel\u001b[49m\u001b[43m,\u001b[49m\n\u001b[1;32m   5587\u001b[0m \u001b[43m        \u001b[49m\u001b[43minplace\u001b[49m\u001b[38;5;241;43m=\u001b[39;49m\u001b[43minplace\u001b[49m\u001b[43m,\u001b[49m\n\u001b[1;32m   5588\u001b[0m \u001b[43m        \u001b[49m\u001b[43merrors\u001b[49m\u001b[38;5;241;43m=\u001b[39;49m\u001b[43merrors\u001b[49m\u001b[43m,\u001b[49m\n\u001b[1;32m   5589\u001b[0m \u001b[43m    \u001b[49m\u001b[43m)\u001b[49m\n",
      "File \u001b[0;32m~/.pyenv/versions/3.10.6/envs/decp_ml_env/lib/python3.10/site-packages/pandas/core/generic.py:4788\u001b[0m, in \u001b[0;36mNDFrame.drop\u001b[0;34m(self, labels, axis, index, columns, level, inplace, errors)\u001b[0m\n\u001b[1;32m   4786\u001b[0m \u001b[38;5;28;01mfor\u001b[39;00m axis, labels \u001b[38;5;129;01min\u001b[39;00m axes\u001b[38;5;241m.\u001b[39mitems():\n\u001b[1;32m   4787\u001b[0m     \u001b[38;5;28;01mif\u001b[39;00m labels \u001b[38;5;129;01mis\u001b[39;00m \u001b[38;5;129;01mnot\u001b[39;00m \u001b[38;5;28;01mNone\u001b[39;00m:\n\u001b[0;32m-> 4788\u001b[0m         obj \u001b[38;5;241m=\u001b[39m \u001b[43mobj\u001b[49m\u001b[38;5;241;43m.\u001b[39;49m\u001b[43m_drop_axis\u001b[49m\u001b[43m(\u001b[49m\u001b[43mlabels\u001b[49m\u001b[43m,\u001b[49m\u001b[43m \u001b[49m\u001b[43maxis\u001b[49m\u001b[43m,\u001b[49m\u001b[43m \u001b[49m\u001b[43mlevel\u001b[49m\u001b[38;5;241;43m=\u001b[39;49m\u001b[43mlevel\u001b[49m\u001b[43m,\u001b[49m\u001b[43m \u001b[49m\u001b[43merrors\u001b[49m\u001b[38;5;241;43m=\u001b[39;49m\u001b[43merrors\u001b[49m\u001b[43m)\u001b[49m\n\u001b[1;32m   4790\u001b[0m \u001b[38;5;28;01mif\u001b[39;00m inplace:\n\u001b[1;32m   4791\u001b[0m     \u001b[38;5;28mself\u001b[39m\u001b[38;5;241m.\u001b[39m_update_inplace(obj)\n",
      "File \u001b[0;32m~/.pyenv/versions/3.10.6/envs/decp_ml_env/lib/python3.10/site-packages/pandas/core/generic.py:4830\u001b[0m, in \u001b[0;36mNDFrame._drop_axis\u001b[0;34m(self, labels, axis, level, errors, only_slice)\u001b[0m\n\u001b[1;32m   4828\u001b[0m         new_axis \u001b[38;5;241m=\u001b[39m axis\u001b[38;5;241m.\u001b[39mdrop(labels, level\u001b[38;5;241m=\u001b[39mlevel, errors\u001b[38;5;241m=\u001b[39merrors)\n\u001b[1;32m   4829\u001b[0m     \u001b[38;5;28;01melse\u001b[39;00m:\n\u001b[0;32m-> 4830\u001b[0m         new_axis \u001b[38;5;241m=\u001b[39m \u001b[43maxis\u001b[49m\u001b[38;5;241;43m.\u001b[39;49m\u001b[43mdrop\u001b[49m\u001b[43m(\u001b[49m\u001b[43mlabels\u001b[49m\u001b[43m,\u001b[49m\u001b[43m \u001b[49m\u001b[43merrors\u001b[49m\u001b[38;5;241;43m=\u001b[39;49m\u001b[43merrors\u001b[49m\u001b[43m)\u001b[49m\n\u001b[1;32m   4831\u001b[0m     indexer \u001b[38;5;241m=\u001b[39m axis\u001b[38;5;241m.\u001b[39mget_indexer(new_axis)\n\u001b[1;32m   4833\u001b[0m \u001b[38;5;66;03m# Case for non-unique axis\u001b[39;00m\n\u001b[1;32m   4834\u001b[0m \u001b[38;5;28;01melse\u001b[39;00m:\n",
      "File \u001b[0;32m~/.pyenv/versions/3.10.6/envs/decp_ml_env/lib/python3.10/site-packages/pandas/core/indexes/base.py:7070\u001b[0m, in \u001b[0;36mIndex.drop\u001b[0;34m(self, labels, errors)\u001b[0m\n\u001b[1;32m   7068\u001b[0m \u001b[38;5;28;01mif\u001b[39;00m mask\u001b[38;5;241m.\u001b[39many():\n\u001b[1;32m   7069\u001b[0m     \u001b[38;5;28;01mif\u001b[39;00m errors \u001b[38;5;241m!=\u001b[39m \u001b[38;5;124m\"\u001b[39m\u001b[38;5;124mignore\u001b[39m\u001b[38;5;124m\"\u001b[39m:\n\u001b[0;32m-> 7070\u001b[0m         \u001b[38;5;28;01mraise\u001b[39;00m \u001b[38;5;167;01mKeyError\u001b[39;00m(\u001b[38;5;124mf\u001b[39m\u001b[38;5;124m\"\u001b[39m\u001b[38;5;132;01m{\u001b[39;00mlabels[mask]\u001b[38;5;241m.\u001b[39mtolist()\u001b[38;5;132;01m}\u001b[39;00m\u001b[38;5;124m not found in axis\u001b[39m\u001b[38;5;124m\"\u001b[39m)\n\u001b[1;32m   7071\u001b[0m     indexer \u001b[38;5;241m=\u001b[39m indexer[\u001b[38;5;241m~\u001b[39mmask]\n\u001b[1;32m   7072\u001b[0m \u001b[38;5;28;01mreturn\u001b[39;00m \u001b[38;5;28mself\u001b[39m\u001b[38;5;241m.\u001b[39mdelete(indexer)\n",
      "\u001b[0;31mKeyError\u001b[0m: \"['cluster'] not found in axis\""
     ]
    }
   ],
   "source": [
    "# 2D visualization using PCA\n",
    "# For visualization, use the first 2 PCA components\n",
    "vis_pca = PCA(n_components=2).fit_transform(df.drop('cluster', axis=1))\n",
    "\n",
    "plt.figure(figsize=(12, 8))\n",
    "scatter = plt.scatter(vis_pca[:, 0], vis_pca[:, 1], c=df['cluster'], cmap='viridis', alpha=0.5, s=5)\n",
    "plt.colorbar(scatter, label='Cluster')\n",
    "plt.title(f'HDBSCAN Clustering (min_cluster_size={best_min_cluster_size}, min_samples={min_samples})')\n",
    "plt.xlabel('PCA Component 1')\n",
    "plt.ylabel('PCA Component 2')\n",
    "plt.grid(True, alpha=0.3)\n",
    "plt.show()"
   ]
  },
  {
   "cell_type": "code",
   "execution_count": 12,
   "id": "411e6cee",
   "metadata": {},
   "outputs": [
    {
     "ename": "KeyError",
     "evalue": "\"['cluster'] not found in axis\"",
     "output_type": "error",
     "traceback": [
      "\u001b[0;31m---------------------------------------------------------------------------\u001b[0m",
      "\u001b[0;31mKeyError\u001b[0m                                  Traceback (most recent call last)",
      "Cell \u001b[0;32mIn[12], line 6\u001b[0m\n\u001b[1;32m      3\u001b[0m pio\u001b[38;5;241m.\u001b[39mrenderers\u001b[38;5;241m.\u001b[39mdefault \u001b[38;5;241m=\u001b[39m \u001b[38;5;124m\"\u001b[39m\u001b[38;5;124mnotebook\u001b[39m\u001b[38;5;124m\"\u001b[39m\n\u001b[1;32m      5\u001b[0m \u001b[38;5;66;03m# Create 3D PCA components\u001b[39;00m\n\u001b[0;32m----> 6\u001b[0m vis_pca_3d \u001b[38;5;241m=\u001b[39m PCA(n_components\u001b[38;5;241m=\u001b[39m\u001b[38;5;241m3\u001b[39m)\u001b[38;5;241m.\u001b[39mfit_transform(\u001b[43mdf\u001b[49m\u001b[38;5;241;43m.\u001b[39;49m\u001b[43mdrop\u001b[49m\u001b[43m(\u001b[49m\u001b[38;5;124;43m'\u001b[39;49m\u001b[38;5;124;43mcluster\u001b[39;49m\u001b[38;5;124;43m'\u001b[39;49m\u001b[43m,\u001b[49m\u001b[43m \u001b[49m\u001b[43maxis\u001b[49m\u001b[38;5;241;43m=\u001b[39;49m\u001b[38;5;241;43m1\u001b[39;49m\u001b[43m)\u001b[49m)\n\u001b[1;32m      8\u001b[0m \u001b[38;5;66;03m# Create DataFrame for plotly\u001b[39;00m\n\u001b[1;32m      9\u001b[0m pca_df \u001b[38;5;241m=\u001b[39m pd\u001b[38;5;241m.\u001b[39mDataFrame(vis_pca_3d, columns\u001b[38;5;241m=\u001b[39m[\u001b[38;5;124m'\u001b[39m\u001b[38;5;124mPCA1\u001b[39m\u001b[38;5;124m'\u001b[39m, \u001b[38;5;124m'\u001b[39m\u001b[38;5;124mPCA2\u001b[39m\u001b[38;5;124m'\u001b[39m, \u001b[38;5;124m'\u001b[39m\u001b[38;5;124mPCA3\u001b[39m\u001b[38;5;124m'\u001b[39m])\n",
      "File \u001b[0;32m~/.pyenv/versions/3.10.6/envs/decp_ml_env/lib/python3.10/site-packages/pandas/core/frame.py:5581\u001b[0m, in \u001b[0;36mDataFrame.drop\u001b[0;34m(self, labels, axis, index, columns, level, inplace, errors)\u001b[0m\n\u001b[1;32m   5433\u001b[0m \u001b[38;5;28;01mdef\u001b[39;00m\u001b[38;5;250m \u001b[39m\u001b[38;5;21mdrop\u001b[39m(\n\u001b[1;32m   5434\u001b[0m     \u001b[38;5;28mself\u001b[39m,\n\u001b[1;32m   5435\u001b[0m     labels: IndexLabel \u001b[38;5;241m|\u001b[39m \u001b[38;5;28;01mNone\u001b[39;00m \u001b[38;5;241m=\u001b[39m \u001b[38;5;28;01mNone\u001b[39;00m,\n\u001b[0;32m   (...)\u001b[0m\n\u001b[1;32m   5442\u001b[0m     errors: IgnoreRaise \u001b[38;5;241m=\u001b[39m \u001b[38;5;124m\"\u001b[39m\u001b[38;5;124mraise\u001b[39m\u001b[38;5;124m\"\u001b[39m,\n\u001b[1;32m   5443\u001b[0m ) \u001b[38;5;241m-\u001b[39m\u001b[38;5;241m>\u001b[39m DataFrame \u001b[38;5;241m|\u001b[39m \u001b[38;5;28;01mNone\u001b[39;00m:\n\u001b[1;32m   5444\u001b[0m \u001b[38;5;250m    \u001b[39m\u001b[38;5;124;03m\"\"\"\u001b[39;00m\n\u001b[1;32m   5445\u001b[0m \u001b[38;5;124;03m    Drop specified labels from rows or columns.\u001b[39;00m\n\u001b[1;32m   5446\u001b[0m \n\u001b[0;32m   (...)\u001b[0m\n\u001b[1;32m   5579\u001b[0m \u001b[38;5;124;03m            weight  1.0     0.8\u001b[39;00m\n\u001b[1;32m   5580\u001b[0m \u001b[38;5;124;03m    \"\"\"\u001b[39;00m\n\u001b[0;32m-> 5581\u001b[0m     \u001b[38;5;28;01mreturn\u001b[39;00m \u001b[38;5;28;43msuper\u001b[39;49m\u001b[43m(\u001b[49m\u001b[43m)\u001b[49m\u001b[38;5;241;43m.\u001b[39;49m\u001b[43mdrop\u001b[49m\u001b[43m(\u001b[49m\n\u001b[1;32m   5582\u001b[0m \u001b[43m        \u001b[49m\u001b[43mlabels\u001b[49m\u001b[38;5;241;43m=\u001b[39;49m\u001b[43mlabels\u001b[49m\u001b[43m,\u001b[49m\n\u001b[1;32m   5583\u001b[0m \u001b[43m        \u001b[49m\u001b[43maxis\u001b[49m\u001b[38;5;241;43m=\u001b[39;49m\u001b[43maxis\u001b[49m\u001b[43m,\u001b[49m\n\u001b[1;32m   5584\u001b[0m \u001b[43m        \u001b[49m\u001b[43mindex\u001b[49m\u001b[38;5;241;43m=\u001b[39;49m\u001b[43mindex\u001b[49m\u001b[43m,\u001b[49m\n\u001b[1;32m   5585\u001b[0m \u001b[43m        \u001b[49m\u001b[43mcolumns\u001b[49m\u001b[38;5;241;43m=\u001b[39;49m\u001b[43mcolumns\u001b[49m\u001b[43m,\u001b[49m\n\u001b[1;32m   5586\u001b[0m \u001b[43m        \u001b[49m\u001b[43mlevel\u001b[49m\u001b[38;5;241;43m=\u001b[39;49m\u001b[43mlevel\u001b[49m\u001b[43m,\u001b[49m\n\u001b[1;32m   5587\u001b[0m \u001b[43m        \u001b[49m\u001b[43minplace\u001b[49m\u001b[38;5;241;43m=\u001b[39;49m\u001b[43minplace\u001b[49m\u001b[43m,\u001b[49m\n\u001b[1;32m   5588\u001b[0m \u001b[43m        \u001b[49m\u001b[43merrors\u001b[49m\u001b[38;5;241;43m=\u001b[39;49m\u001b[43merrors\u001b[49m\u001b[43m,\u001b[49m\n\u001b[1;32m   5589\u001b[0m \u001b[43m    \u001b[49m\u001b[43m)\u001b[49m\n",
      "File \u001b[0;32m~/.pyenv/versions/3.10.6/envs/decp_ml_env/lib/python3.10/site-packages/pandas/core/generic.py:4788\u001b[0m, in \u001b[0;36mNDFrame.drop\u001b[0;34m(self, labels, axis, index, columns, level, inplace, errors)\u001b[0m\n\u001b[1;32m   4786\u001b[0m \u001b[38;5;28;01mfor\u001b[39;00m axis, labels \u001b[38;5;129;01min\u001b[39;00m axes\u001b[38;5;241m.\u001b[39mitems():\n\u001b[1;32m   4787\u001b[0m     \u001b[38;5;28;01mif\u001b[39;00m labels \u001b[38;5;129;01mis\u001b[39;00m \u001b[38;5;129;01mnot\u001b[39;00m \u001b[38;5;28;01mNone\u001b[39;00m:\n\u001b[0;32m-> 4788\u001b[0m         obj \u001b[38;5;241m=\u001b[39m \u001b[43mobj\u001b[49m\u001b[38;5;241;43m.\u001b[39;49m\u001b[43m_drop_axis\u001b[49m\u001b[43m(\u001b[49m\u001b[43mlabels\u001b[49m\u001b[43m,\u001b[49m\u001b[43m \u001b[49m\u001b[43maxis\u001b[49m\u001b[43m,\u001b[49m\u001b[43m \u001b[49m\u001b[43mlevel\u001b[49m\u001b[38;5;241;43m=\u001b[39;49m\u001b[43mlevel\u001b[49m\u001b[43m,\u001b[49m\u001b[43m \u001b[49m\u001b[43merrors\u001b[49m\u001b[38;5;241;43m=\u001b[39;49m\u001b[43merrors\u001b[49m\u001b[43m)\u001b[49m\n\u001b[1;32m   4790\u001b[0m \u001b[38;5;28;01mif\u001b[39;00m inplace:\n\u001b[1;32m   4791\u001b[0m     \u001b[38;5;28mself\u001b[39m\u001b[38;5;241m.\u001b[39m_update_inplace(obj)\n",
      "File \u001b[0;32m~/.pyenv/versions/3.10.6/envs/decp_ml_env/lib/python3.10/site-packages/pandas/core/generic.py:4830\u001b[0m, in \u001b[0;36mNDFrame._drop_axis\u001b[0;34m(self, labels, axis, level, errors, only_slice)\u001b[0m\n\u001b[1;32m   4828\u001b[0m         new_axis \u001b[38;5;241m=\u001b[39m axis\u001b[38;5;241m.\u001b[39mdrop(labels, level\u001b[38;5;241m=\u001b[39mlevel, errors\u001b[38;5;241m=\u001b[39merrors)\n\u001b[1;32m   4829\u001b[0m     \u001b[38;5;28;01melse\u001b[39;00m:\n\u001b[0;32m-> 4830\u001b[0m         new_axis \u001b[38;5;241m=\u001b[39m \u001b[43maxis\u001b[49m\u001b[38;5;241;43m.\u001b[39;49m\u001b[43mdrop\u001b[49m\u001b[43m(\u001b[49m\u001b[43mlabels\u001b[49m\u001b[43m,\u001b[49m\u001b[43m \u001b[49m\u001b[43merrors\u001b[49m\u001b[38;5;241;43m=\u001b[39;49m\u001b[43merrors\u001b[49m\u001b[43m)\u001b[49m\n\u001b[1;32m   4831\u001b[0m     indexer \u001b[38;5;241m=\u001b[39m axis\u001b[38;5;241m.\u001b[39mget_indexer(new_axis)\n\u001b[1;32m   4833\u001b[0m \u001b[38;5;66;03m# Case for non-unique axis\u001b[39;00m\n\u001b[1;32m   4834\u001b[0m \u001b[38;5;28;01melse\u001b[39;00m:\n",
      "File \u001b[0;32m~/.pyenv/versions/3.10.6/envs/decp_ml_env/lib/python3.10/site-packages/pandas/core/indexes/base.py:7070\u001b[0m, in \u001b[0;36mIndex.drop\u001b[0;34m(self, labels, errors)\u001b[0m\n\u001b[1;32m   7068\u001b[0m \u001b[38;5;28;01mif\u001b[39;00m mask\u001b[38;5;241m.\u001b[39many():\n\u001b[1;32m   7069\u001b[0m     \u001b[38;5;28;01mif\u001b[39;00m errors \u001b[38;5;241m!=\u001b[39m \u001b[38;5;124m\"\u001b[39m\u001b[38;5;124mignore\u001b[39m\u001b[38;5;124m\"\u001b[39m:\n\u001b[0;32m-> 7070\u001b[0m         \u001b[38;5;28;01mraise\u001b[39;00m \u001b[38;5;167;01mKeyError\u001b[39;00m(\u001b[38;5;124mf\u001b[39m\u001b[38;5;124m\"\u001b[39m\u001b[38;5;132;01m{\u001b[39;00mlabels[mask]\u001b[38;5;241m.\u001b[39mtolist()\u001b[38;5;132;01m}\u001b[39;00m\u001b[38;5;124m not found in axis\u001b[39m\u001b[38;5;124m\"\u001b[39m)\n\u001b[1;32m   7071\u001b[0m     indexer \u001b[38;5;241m=\u001b[39m indexer[\u001b[38;5;241m~\u001b[39mmask]\n\u001b[1;32m   7072\u001b[0m \u001b[38;5;28;01mreturn\u001b[39;00m \u001b[38;5;28mself\u001b[39m\u001b[38;5;241m.\u001b[39mdelete(indexer)\n",
      "\u001b[0;31mKeyError\u001b[0m: \"['cluster'] not found in axis\""
     ]
    }
   ],
   "source": [
    "import plotly.express as px\n",
    "import plotly.io as pio\n",
    "pio.renderers.default = \"notebook\"\n",
    "\n",
    "# Create 3D PCA components\n",
    "vis_pca_3d = PCA(n_components=3).fit_transform(df.drop('cluster', axis=1))\n",
    "\n",
    "# Create DataFrame for plotly\n",
    "pca_df = pd.DataFrame(vis_pca_3d, columns=['PCA1', 'PCA2', 'PCA3'])\n",
    "pca_df['cluster'] = df['cluster'].astype(str)\n",
    "\n",
    "# Create interactive 3D scatter plot\n",
    "fig = px.scatter_3d(\n",
    "    pca_df,\n",
    "    x='PCA1',\n",
    "    y='PCA2',\n",
    "    z='PCA3',\n",
    "    color='cluster',\n",
    "    opacity=0.7\n",
    ")\n",
    "\n",
    "fig.show()"
   ]
  },
  {
   "cell_type": "markdown",
   "id": "aa58883f",
   "metadata": {},
   "source": [
    "# Adjust Clustering Parameters\n"
   ]
  },
  {
   "cell_type": "code",
   "execution_count": 13,
   "id": "b2103e96",
   "metadata": {},
   "outputs": [],
   "source": [
    "clusterer = hdbscan.HDBSCAN(\n",
    "    min_cluster_size=20,\n",
    "    min_samples=5,\n",
    "    cluster_selection_epsilon=0.2,  # Try values between 0.1-0.5\n",
    "    cluster_selection_method='eom'\n",
    ")"
   ]
  },
  {
   "cell_type": "code",
   "execution_count": 15,
   "id": "6f3fe4b0",
   "metadata": {},
   "outputs": [
    {
     "name": "stdout",
     "output_type": "stream",
     "text": [
      "\n",
      "Testing with euclidean distance:\n"
     ]
    },
    {
     "name": "stderr",
     "output_type": "stream",
     "text": [
      "/Users/loicdogon/.pyenv/versions/3.10.6/envs/decp_ml_env/lib/python3.10/site-packages/sklearn/utils/deprecation.py:151: FutureWarning:\n",
      "\n",
      "'force_all_finite' was renamed to 'ensure_all_finite' in 1.6 and will be removed in 1.8.\n",
      "\n",
      "/Users/loicdogon/.pyenv/versions/3.10.6/envs/decp_ml_env/lib/python3.10/site-packages/sklearn/utils/deprecation.py:151: FutureWarning:\n",
      "\n",
      "'force_all_finite' was renamed to 'ensure_all_finite' in 1.6 and will be removed in 1.8.\n",
      "\n"
     ]
    },
    {
     "name": "stdout",
     "output_type": "stream",
     "text": [
      "HDBSCAN Results with min_cluster_size=20, min_samples=5:\n",
      "Number of clusters: 968\n",
      "Noise points: 101209 (44.46%)\n",
      "\n",
      "Testing with manhattan distance:\n"
     ]
    },
    {
     "name": "stderr",
     "output_type": "stream",
     "text": [
      "/Users/loicdogon/.pyenv/versions/3.10.6/envs/decp_ml_env/lib/python3.10/site-packages/sklearn/utils/deprecation.py:151: FutureWarning:\n",
      "\n",
      "'force_all_finite' was renamed to 'ensure_all_finite' in 1.6 and will be removed in 1.8.\n",
      "\n",
      "/Users/loicdogon/.pyenv/versions/3.10.6/envs/decp_ml_env/lib/python3.10/site-packages/sklearn/utils/deprecation.py:151: FutureWarning:\n",
      "\n",
      "'force_all_finite' was renamed to 'ensure_all_finite' in 1.6 and will be removed in 1.8.\n",
      "\n"
     ]
    },
    {
     "name": "stdout",
     "output_type": "stream",
     "text": [
      "HDBSCAN Results with min_cluster_size=20, min_samples=5:\n",
      "Number of clusters: 914\n",
      "Noise points: 112690 (49.50%)\n",
      "\n",
      "Testing with cosine distance:\n"
     ]
    },
    {
     "name": "stderr",
     "output_type": "stream",
     "text": [
      "/Users/loicdogon/.pyenv/versions/3.10.6/envs/decp_ml_env/lib/python3.10/site-packages/sklearn/utils/deprecation.py:151: FutureWarning:\n",
      "\n",
      "'force_all_finite' was renamed to 'ensure_all_finite' in 1.6 and will be removed in 1.8.\n",
      "\n",
      "/Users/loicdogon/.pyenv/versions/3.10.6/envs/decp_ml_env/lib/python3.10/site-packages/sklearn/utils/deprecation.py:151: FutureWarning:\n",
      "\n",
      "'force_all_finite' was renamed to 'ensure_all_finite' in 1.6 and will be removed in 1.8.\n",
      "\n"
     ]
    },
    {
     "ename": "ValueError",
     "evalue": "Unrecognized metric 'cosine'",
     "output_type": "error",
     "traceback": [
      "\u001b[0;31m---------------------------------------------------------------------------\u001b[0m",
      "\u001b[0;31mKeyError\u001b[0m                                  Traceback (most recent call last)",
      "File \u001b[0;32msklearn/metrics/_dist_metrics.pyx:425\u001b[0m, in \u001b[0;36msklearn.metrics._dist_metrics.DistanceMetric64.get_metric\u001b[0;34m()\u001b[0m\n",
      "\u001b[0;31mKeyError\u001b[0m: 'cosine'",
      "\nDuring handling of the above exception, another exception occurred:\n",
      "\u001b[0;31mValueError\u001b[0m                                Traceback (most recent call last)",
      "Cell \u001b[0;32mIn[15], line 8\u001b[0m\n\u001b[1;32m      5\u001b[0m clusterer \u001b[38;5;241m=\u001b[39m hdbscan\u001b[38;5;241m.\u001b[39mHDBSCAN(min_cluster_size\u001b[38;5;241m=\u001b[39m\u001b[38;5;241m20\u001b[39m, metric\u001b[38;5;241m=\u001b[39mmetric)\n\u001b[1;32m      7\u001b[0m \u001b[38;5;66;03m# Fit and add labels to dataframe\u001b[39;00m\n\u001b[0;32m----> 8\u001b[0m \u001b[43mclusterer\u001b[49m\u001b[38;5;241;43m.\u001b[39;49m\u001b[43mfit\u001b[49m\u001b[43m(\u001b[49m\u001b[43mdf_pca\u001b[49m\u001b[43m)\u001b[49m\n\u001b[1;32m      9\u001b[0m df[\u001b[38;5;124m'\u001b[39m\u001b[38;5;124mcluster\u001b[39m\u001b[38;5;124m'\u001b[39m] \u001b[38;5;241m=\u001b[39m clusterer\u001b[38;5;241m.\u001b[39mlabels_\n\u001b[1;32m     11\u001b[0m \u001b[38;5;66;03m# Analyze clusters\u001b[39;00m\n",
      "File \u001b[0;32m~/.pyenv/versions/3.10.6/envs/decp_ml_env/lib/python3.10/site-packages/hdbscan/hdbscan_.py:1251\u001b[0m, in \u001b[0;36mHDBSCAN.fit\u001b[0;34m(self, X, y)\u001b[0m\n\u001b[1;32m   1241\u001b[0m kwargs\u001b[38;5;241m.\u001b[39mupdate(\u001b[38;5;28mself\u001b[39m\u001b[38;5;241m.\u001b[39m_metric_kwargs)\n\u001b[1;32m   1242\u001b[0m kwargs[\u001b[38;5;124m'\u001b[39m\u001b[38;5;124mgen_min_span_tree\u001b[39m\u001b[38;5;124m'\u001b[39m] \u001b[38;5;241m|\u001b[39m\u001b[38;5;241m=\u001b[39m \u001b[38;5;28mself\u001b[39m\u001b[38;5;241m.\u001b[39mbranch_detection_data\n\u001b[1;32m   1244\u001b[0m (\n\u001b[1;32m   1245\u001b[0m     \u001b[38;5;28mself\u001b[39m\u001b[38;5;241m.\u001b[39mlabels_,\n\u001b[1;32m   1246\u001b[0m     \u001b[38;5;28mself\u001b[39m\u001b[38;5;241m.\u001b[39mprobabilities_,\n\u001b[1;32m   1247\u001b[0m     \u001b[38;5;28mself\u001b[39m\u001b[38;5;241m.\u001b[39mcluster_persistence_,\n\u001b[1;32m   1248\u001b[0m     \u001b[38;5;28mself\u001b[39m\u001b[38;5;241m.\u001b[39m_condensed_tree,\n\u001b[1;32m   1249\u001b[0m     \u001b[38;5;28mself\u001b[39m\u001b[38;5;241m.\u001b[39m_single_linkage_tree,\n\u001b[1;32m   1250\u001b[0m     \u001b[38;5;28mself\u001b[39m\u001b[38;5;241m.\u001b[39m_min_spanning_tree,\n\u001b[0;32m-> 1251\u001b[0m ) \u001b[38;5;241m=\u001b[39m \u001b[43mhdbscan\u001b[49m\u001b[43m(\u001b[49m\u001b[43mclean_data\u001b[49m\u001b[43m,\u001b[49m\u001b[43m \u001b[49m\u001b[38;5;241;43m*\u001b[39;49m\u001b[38;5;241;43m*\u001b[39;49m\u001b[43mkwargs\u001b[49m\u001b[43m)\u001b[49m\n\u001b[1;32m   1253\u001b[0m \u001b[38;5;28;01mif\u001b[39;00m \u001b[38;5;28mself\u001b[39m\u001b[38;5;241m.\u001b[39mmetric \u001b[38;5;241m!=\u001b[39m \u001b[38;5;124m\"\u001b[39m\u001b[38;5;124mprecomputed\u001b[39m\u001b[38;5;124m\"\u001b[39m \u001b[38;5;129;01mand\u001b[39;00m \u001b[38;5;129;01mnot\u001b[39;00m \u001b[38;5;28mself\u001b[39m\u001b[38;5;241m.\u001b[39m_all_finite:\n\u001b[1;32m   1254\u001b[0m     \u001b[38;5;66;03m# remap indices to align with original data in the case of non-finite entries.\u001b[39;00m\n\u001b[1;32m   1255\u001b[0m     \u001b[38;5;28mself\u001b[39m\u001b[38;5;241m.\u001b[39m_condensed_tree \u001b[38;5;241m=\u001b[39m remap_condensed_tree(\n\u001b[1;32m   1256\u001b[0m         \u001b[38;5;28mself\u001b[39m\u001b[38;5;241m.\u001b[39m_condensed_tree, internal_to_raw, outliers\n\u001b[1;32m   1257\u001b[0m     )\n",
      "File \u001b[0;32m~/.pyenv/versions/3.10.6/envs/decp_ml_env/lib/python3.10/site-packages/hdbscan/hdbscan_.py:885\u001b[0m, in \u001b[0;36mhdbscan\u001b[0;34m(X, min_cluster_size, min_samples, alpha, cluster_selection_epsilon, max_cluster_size, metric, p, leaf_size, algorithm, memory, approx_min_span_tree, gen_min_span_tree, core_dist_n_jobs, cluster_selection_method, allow_single_cluster, match_reference_implementation, cluster_selection_epsilon_max, **kwargs)\u001b[0m\n\u001b[1;32m    872\u001b[0m             (single_linkage_tree, result_min_span_tree) \u001b[38;5;241m=\u001b[39m memory\u001b[38;5;241m.\u001b[39mcache(\n\u001b[1;32m    873\u001b[0m                 _hdbscan_prims_balltree\n\u001b[1;32m    874\u001b[0m             )(\n\u001b[0;32m   (...)\u001b[0m\n\u001b[1;32m    882\u001b[0m                 \u001b[38;5;241m*\u001b[39m\u001b[38;5;241m*\u001b[39mkwargs\n\u001b[1;32m    883\u001b[0m             )\n\u001b[1;32m    884\u001b[0m         \u001b[38;5;28;01melse\u001b[39;00m:\n\u001b[0;32m--> 885\u001b[0m             (single_linkage_tree, result_min_span_tree) \u001b[38;5;241m=\u001b[39m \u001b[43mmemory\u001b[49m\u001b[38;5;241;43m.\u001b[39;49m\u001b[43mcache\u001b[49m\u001b[43m(\u001b[49m\n\u001b[1;32m    886\u001b[0m \u001b[43m                \u001b[49m\u001b[43m_hdbscan_boruvka_balltree\u001b[49m\n\u001b[1;32m    887\u001b[0m \u001b[43m            \u001b[49m\u001b[43m)\u001b[49m\u001b[43m(\u001b[49m\n\u001b[1;32m    888\u001b[0m \u001b[43m                \u001b[49m\u001b[43mX\u001b[49m\u001b[43m,\u001b[49m\n\u001b[1;32m    889\u001b[0m \u001b[43m                \u001b[49m\u001b[43mmin_samples\u001b[49m\u001b[43m,\u001b[49m\n\u001b[1;32m    890\u001b[0m \u001b[43m                \u001b[49m\u001b[43malpha\u001b[49m\u001b[43m,\u001b[49m\n\u001b[1;32m    891\u001b[0m \u001b[43m                \u001b[49m\u001b[43mmetric\u001b[49m\u001b[43m,\u001b[49m\n\u001b[1;32m    892\u001b[0m \u001b[43m                \u001b[49m\u001b[43mp\u001b[49m\u001b[43m,\u001b[49m\n\u001b[1;32m    893\u001b[0m \u001b[43m                \u001b[49m\u001b[43mleaf_size\u001b[49m\u001b[43m,\u001b[49m\n\u001b[1;32m    894\u001b[0m \u001b[43m                \u001b[49m\u001b[43mapprox_min_span_tree\u001b[49m\u001b[43m,\u001b[49m\n\u001b[1;32m    895\u001b[0m \u001b[43m                \u001b[49m\u001b[43mgen_min_span_tree\u001b[49m\u001b[43m,\u001b[49m\n\u001b[1;32m    896\u001b[0m \u001b[43m                \u001b[49m\u001b[43mcore_dist_n_jobs\u001b[49m\u001b[43m,\u001b[49m\n\u001b[1;32m    897\u001b[0m \u001b[43m                \u001b[49m\u001b[38;5;241;43m*\u001b[39;49m\u001b[38;5;241;43m*\u001b[39;49m\u001b[43mkwargs\u001b[49m\n\u001b[1;32m    898\u001b[0m \u001b[43m            \u001b[49m\u001b[43m)\u001b[49m\n\u001b[1;32m    900\u001b[0m \u001b[38;5;28;01mreturn\u001b[39;00m (\n\u001b[1;32m    901\u001b[0m     _tree_to_labels(\n\u001b[1;32m    902\u001b[0m         X,\n\u001b[0;32m   (...)\u001b[0m\n\u001b[1;32m    912\u001b[0m     \u001b[38;5;241m+\u001b[39m (result_min_span_tree,)\n\u001b[1;32m    913\u001b[0m )\n",
      "File \u001b[0;32m~/.pyenv/versions/3.10.6/envs/decp_ml_env/lib/python3.10/site-packages/joblib/memory.py:326\u001b[0m, in \u001b[0;36mNotMemorizedFunc.__call__\u001b[0;34m(self, *args, **kwargs)\u001b[0m\n\u001b[1;32m    325\u001b[0m \u001b[38;5;28;01mdef\u001b[39;00m\u001b[38;5;250m \u001b[39m\u001b[38;5;21m__call__\u001b[39m(\u001b[38;5;28mself\u001b[39m, \u001b[38;5;241m*\u001b[39margs, \u001b[38;5;241m*\u001b[39m\u001b[38;5;241m*\u001b[39mkwargs):\n\u001b[0;32m--> 326\u001b[0m     \u001b[38;5;28;01mreturn\u001b[39;00m \u001b[38;5;28;43mself\u001b[39;49m\u001b[38;5;241;43m.\u001b[39;49m\u001b[43mfunc\u001b[49m\u001b[43m(\u001b[49m\u001b[38;5;241;43m*\u001b[39;49m\u001b[43margs\u001b[49m\u001b[43m,\u001b[49m\u001b[43m \u001b[49m\u001b[38;5;241;43m*\u001b[39;49m\u001b[38;5;241;43m*\u001b[39;49m\u001b[43mkwargs\u001b[49m\u001b[43m)\u001b[49m\n",
      "File \u001b[0;32m~/.pyenv/versions/3.10.6/envs/decp_ml_env/lib/python3.10/site-packages/hdbscan/hdbscan_.py:386\u001b[0m, in \u001b[0;36m_hdbscan_boruvka_balltree\u001b[0;34m(X, min_samples, alpha, metric, p, leaf_size, approx_min_span_tree, gen_min_span_tree, core_dist_n_jobs, **kwargs)\u001b[0m\n\u001b[1;32m    383\u001b[0m \u001b[38;5;28;01mif\u001b[39;00m X\u001b[38;5;241m.\u001b[39mdtype \u001b[38;5;241m!=\u001b[39m np\u001b[38;5;241m.\u001b[39mfloat64:\n\u001b[1;32m    384\u001b[0m     X \u001b[38;5;241m=\u001b[39m X\u001b[38;5;241m.\u001b[39mastype(np\u001b[38;5;241m.\u001b[39mfloat64)\n\u001b[0;32m--> 386\u001b[0m tree \u001b[38;5;241m=\u001b[39m \u001b[43mBallTree\u001b[49m\u001b[43m(\u001b[49m\u001b[43mX\u001b[49m\u001b[43m,\u001b[49m\u001b[43m \u001b[49m\u001b[43mmetric\u001b[49m\u001b[38;5;241;43m=\u001b[39;49m\u001b[43mmetric\u001b[49m\u001b[43m,\u001b[49m\u001b[43m \u001b[49m\u001b[43mleaf_size\u001b[49m\u001b[38;5;241;43m=\u001b[39;49m\u001b[43mleaf_size\u001b[49m\u001b[43m,\u001b[49m\u001b[43m \u001b[49m\u001b[38;5;241;43m*\u001b[39;49m\u001b[38;5;241;43m*\u001b[39;49m\u001b[43mkwargs\u001b[49m\u001b[43m)\u001b[49m\n\u001b[1;32m    387\u001b[0m alg \u001b[38;5;241m=\u001b[39m BallTreeBoruvkaAlgorithm(\n\u001b[1;32m    388\u001b[0m     tree,\n\u001b[1;32m    389\u001b[0m     min_samples,\n\u001b[0;32m   (...)\u001b[0m\n\u001b[1;32m    394\u001b[0m     \u001b[38;5;241m*\u001b[39m\u001b[38;5;241m*\u001b[39mkwargs\n\u001b[1;32m    395\u001b[0m )\n\u001b[1;32m    396\u001b[0m min_spanning_tree \u001b[38;5;241m=\u001b[39m alg\u001b[38;5;241m.\u001b[39mspanning_tree()\n",
      "File \u001b[0;32msklearn/neighbors/_binary_tree.pxi:904\u001b[0m, in \u001b[0;36msklearn.neighbors._ball_tree.BinaryTree64.__init__\u001b[0;34m()\u001b[0m\n",
      "File \u001b[0;32msklearn/metrics/_dist_metrics.pyx:216\u001b[0m, in \u001b[0;36msklearn.metrics._dist_metrics.DistanceMetric.get_metric\u001b[0;34m()\u001b[0m\n",
      "File \u001b[0;32msklearn/metrics/_dist_metrics.pyx:427\u001b[0m, in \u001b[0;36msklearn.metrics._dist_metrics.DistanceMetric64.get_metric\u001b[0;34m()\u001b[0m\n",
      "\u001b[0;31mValueError\u001b[0m: Unrecognized metric 'cosine'"
     ]
    }
   ],
   "source": [
    "# Test with different metrics\n",
    "metrics = ['euclidean', 'manhattan', 'cosine']\n",
    "for metric in metrics:\n",
    "    print(f\"\\nTesting with {metric} distance:\")\n",
    "    clusterer = hdbscan.HDBSCAN(min_cluster_size=20, metric=metric)\n",
    "\n",
    "    # Fit and add labels to dataframe\n",
    "    clusterer.fit(df_pca)\n",
    "    df['cluster'] = clusterer.labels_\n",
    "\n",
    "    # Analyze clusters\n",
    "    n_clusters = len(set(df['cluster'])) - (1 if -1 in df['cluster'] else 0)\n",
    "    n_noise = list(df['cluster']).count(-1)\n",
    "\n",
    "    print(\"HDBSCAN Results with min_cluster_size=20, min_samples=5:\")\n",
    "    print(f\"Number of clusters: {n_clusters}\")\n",
    "    print(f\"Noise points: {n_noise} ({100 * n_noise / len(df):.2f}%)\")\n"
   ]
  },
  {
   "cell_type": "code",
   "execution_count": null,
   "id": "7353dfb5",
   "metadata": {},
   "outputs": [],
   "source": []
  }
 ],
 "metadata": {
  "kernelspec": {
   "display_name": "decp_ml_env",
   "language": "python",
   "name": "python3"
  },
  "language_info": {
   "codemirror_mode": {
    "name": "ipython",
    "version": 3
   },
   "file_extension": ".py",
   "mimetype": "text/x-python",
   "name": "python",
   "nbconvert_exporter": "python",
   "pygments_lexer": "ipython3",
   "version": "3.10.6"
  }
 },
 "nbformat": 4,
 "nbformat_minor": 5
}
