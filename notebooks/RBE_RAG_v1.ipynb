{
 "cells": [
  {
   "cell_type": "code",
   "execution_count": 1,
   "metadata": {},
   "outputs": [],
   "source": [
    "from scripts.rag_query import RAGQuerySystem\n"
   ]
  },
  {
   "cell_type": "code",
   "execution_count": 4,
   "metadata": {},
   "outputs": [
    {
     "name": "stderr",
     "output_type": "stream",
     "text": [
      "INFO:scripts.rag_query:Connected to database: sqlite\n",
      "INFO:scripts.rag_query:Available tables: ['acheteurs', 'data.gouv.fr.2022.clean', 'entreprises', 'marches', 'marches_titulaires']\n",
      "INFO:scripts.rag_query:Initialized LLM: ministral-8b-latest\n",
      "INFO:httpx:HTTP Request: POST https://api.mistral.ai/v1/chat/completions \"HTTP/1.1 200 OK\"\n",
      "INFO:scripts.rag_query:Generated query: SELECT COUNT(*) FROM 'data.gouv.fr.2022.clean'\n",
      "INFO:scripts.rag_query:Query executed successfully\n",
      "INFO:httpx:HTTP Request: POST https://api.mistral.ai/v1/chat/completions \"HTTP/1.1 200 OK\"\n",
      "INFO:scripts.rag_query:Generated answer successfully\n"
     ]
    },
    {
     "ename": "KeyError",
     "evalue": "'answer'",
     "output_type": "error",
     "traceback": [
      "\u001b[0;31m---------------------------------------------------------------------------\u001b[0m",
      "\u001b[0;31mKeyError\u001b[0m                                  Traceback (most recent call last)",
      "Cell \u001b[0;32mIn[4], line 3\u001b[0m\n\u001b[1;32m      1\u001b[0m rag_system \u001b[38;5;241m=\u001b[39m RAGQuerySystem()\n\u001b[1;32m      2\u001b[0m result \u001b[38;5;241m=\u001b[39m rag_system\u001b[38;5;241m.\u001b[39mquery(\u001b[38;5;124m\"\u001b[39m\u001b[38;5;124mHow many rows are in the table?\u001b[39m\u001b[38;5;124m\"\u001b[39m)\n\u001b[0;32m----> 3\u001b[0m \u001b[38;5;28mprint\u001b[39m(\u001b[43mresult\u001b[49m\u001b[43m[\u001b[49m\u001b[38;5;124;43m'\u001b[39;49m\u001b[38;5;124;43manswer\u001b[39;49m\u001b[38;5;124;43m'\u001b[39;49m\u001b[43m]\u001b[49m)\n",
      "\u001b[0;31mKeyError\u001b[0m: 'answer'"
     ]
    }
   ],
   "source": [
    "rag_system = RAGQuerySystem()\n",
    "result = rag_system.query(\"How many rows are in the table?\")\n",
    "print(result['answer'])"
   ]
  },
  {
   "cell_type": "code",
   "execution_count": 20,
   "metadata": {},
   "outputs": [
    {
     "name": "stderr",
     "output_type": "stream",
     "text": [
      "INFO:scripts.rag_query:Connected to database: sqlite\n",
      "INFO:scripts.rag_query:Available tables: ['acheteurs', 'data.gouv.fr.2022.clean', 'entreprises', 'marches', 'marches_titulaires']\n",
      "INFO:scripts.rag_query:Initialized LLM: ministral-8b-latest\n",
      "INFO:httpx:HTTP Request: POST https://api.mistral.ai/v1/chat/completions \"HTTP/1.1 200 OK\"\n",
      "INFO:scripts.rag_query:Generated query: SELECT COUNT(*) FROM 'data.gouv.fr.2022.clean';\n",
      "INFO:scripts.rag_query:Query executed successfully\n"
     ]
    },
    {
     "name": "stdout",
     "output_type": "stream",
     "text": [
      "_execute_query result: [(299670,)]\n",
      "{'result': '[(299670,)]'}\n"
     ]
    },
    {
     "name": "stderr",
     "output_type": "stream",
     "text": [
      "INFO:httpx:HTTP Request: POST https://api.mistral.ai/v1/chat/completions \"HTTP/1.1 200 OK\"\n",
      "INFO:scripts.rag_query:Generated answer successfully\n"
     ]
    },
    {
     "name": "stdout",
     "output_type": "stream",
     "text": [
      "The SQL query `SELECT COUNT(*) FROM 'data.gouv.fr.2022.clean';` returns the result `[(299670,)]`, which indicates that there are 299,670 rows in the table `data.gouv.fr.2022.clean`.\n"
     ]
    }
   ],
   "source": [
    "rag_system = RAGQuerySystem()\n",
    "result = rag_system.query(\"How many rows are in the table?\")\n",
    "print(result['answer'])"
   ]
  },
  {
   "cell_type": "code",
   "execution_count": 21,
   "metadata": {},
   "outputs": [
    {
     "name": "stderr",
     "output_type": "stream",
     "text": [
      "INFO:scripts.rag_query:Connected to database: sqlite\n",
      "INFO:scripts.rag_query:Available tables: ['acheteurs', 'data.gouv.fr.2022.clean', 'entreprises', 'marches', 'marches_titulaires']\n"
     ]
    },
    {
     "name": "stderr",
     "output_type": "stream",
     "text": [
      "INFO:scripts.rag_query:Initialized LLM: ministral-8b-latest\n",
      "INFO:httpx:HTTP Request: POST https://api.mistral.ai/v1/chat/completions \"HTTP/1.1 200 OK\"\n",
      "INFO:scripts.rag_query:Generated query: SELECT COUNT(*) FROM 'data.gouv.fr.2022.clean';\n",
      "INFO:scripts.rag_query:Query executed successfully\n"
     ]
    },
    {
     "name": "stdout",
     "output_type": "stream",
     "text": [
      "_execute_query result: [(299670,)]\n",
      "{'result': '[(299670,)]'}\n"
     ]
    },
    {
     "name": "stderr",
     "output_type": "stream",
     "text": [
      "INFO:httpx:HTTP Request: POST https://api.mistral.ai/v1/chat/completions \"HTTP/1.1 200 OK\"\n",
      "INFO:scripts.rag_query:Generated answer successfully\n"
     ]
    },
    {
     "data": {
      "text/plain": [
       "{'question': 'How many rows are in the table?',\n",
       " 'query': \"SELECT COUNT(*) FROM 'data.gouv.fr.2022.clean';\",\n",
       " 'result': '[(299670,)]',\n",
       " 'answer': \"The SQL query `SELECT COUNT(*) FROM 'data.gouv.fr.2022.clean';` returns a result of `[(299670,)]`, which indicates that there are 299,670 rows in the table `data.gouv.fr.2022.clean`.\"}"
      ]
     },
     "execution_count": 21,
     "metadata": {},
     "output_type": "execute_result"
    }
   ],
   "source": [
    "rag_system = RAGQuerySystem()\n",
    "result = rag_system.query(\"How many rows are in the table?\")\n",
    "result\n"
   ]
  },
  {
   "cell_type": "code",
   "execution_count": null,
   "metadata": {},
   "outputs": [],
   "source": []
  }
 ],
 "metadata": {
  "kernelspec": {
   "display_name": "decp_ml_env",
   "language": "python",
   "name": "python3"
  },
  "language_info": {
   "codemirror_mode": {
    "name": "ipython",
    "version": 3
   },
   "file_extension": ".py",
   "mimetype": "text/x-python",
   "name": "python",
   "nbconvert_exporter": "python",
   "pygments_lexer": "ipython3",
   "version": "3.10.6"
  }
 },
 "nbformat": 4,
 "nbformat_minor": 2
}
