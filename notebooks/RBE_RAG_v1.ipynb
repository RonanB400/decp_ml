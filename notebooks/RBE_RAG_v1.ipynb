{
 "cells": [
  {
   "cell_type": "code",
   "execution_count": 30,
   "metadata": {},
   "outputs": [],
   "source": [
    "from scripts.rag_query import RAGQuerySystem\n"
   ]
  },
  {
   "cell_type": "code",
   "execution_count": 33,
   "metadata": {},
   "outputs": [
    {
     "name": "stderr",
     "output_type": "stream",
     "text": [
      "INFO:scripts.rag_query:Connected to database: sqlite\n",
      "INFO:scripts.rag_query:Available tables: ['acheteurs', 'data.gouv.fr.2022.clean', 'entreprises', 'marches', 'marches_titulaires']\n",
      "INFO:scripts.rag_query:Initialized LLM: ministral-8b-latest with temperature: 0.0\n"
     ]
    },
    {
     "name": "stderr",
     "output_type": "stream",
     "text": [
      "INFO:httpx:HTTP Request: POST https://api.mistral.ai/v1/chat/completions \"HTTP/1.1 200 OK\"\n",
      "INFO:scripts.rag_query:Generated query: SELECT codeCPV, COUNT(*) as count FROM 'data.gouv.fr.2022.clean' GROUP BY codeCPV ORDER BY count DESC LIMIT 1;\n",
      "INFO:scripts.rag_query:Query executed successfully\n",
      "INFO:httpx:HTTP Request: POST https://api.mistral.ai/v1/chat/completions \"HTTP/1.1 200 OK\"\n",
      "INFO:scripts.rag_query:Generated answer successfully\n"
     ]
    },
    {
     "name": "stdout",
     "output_type": "stream",
     "text": [
      "The CPV code that is most used in the database is '45000000-7'.\n"
     ]
    }
   ],
   "source": [
    "rag_system = RAGQuerySystem()\n",
    "result = rag_system.query(\"What is the CPV code the most used in the database?\")\n",
    "print(result['answer'])"
   ]
  },
  {
   "cell_type": "code",
   "execution_count": null,
   "metadata": {},
   "outputs": [],
   "source": []
  }
 ],
 "metadata": {
  "kernelspec": {
   "display_name": "decp_ml_env",
   "language": "python",
   "name": "python3"
  },
  "language_info": {
   "codemirror_mode": {
    "name": "ipython",
    "version": 3
   },
   "file_extension": ".py",
   "mimetype": "text/x-python",
   "name": "python",
   "nbconvert_exporter": "python",
   "pygments_lexer": "ipython3",
   "version": "3.10.6"
  }
 },
 "nbformat": 4,
 "nbformat_minor": 2
}
