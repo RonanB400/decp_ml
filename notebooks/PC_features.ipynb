{
 "cells": [
  {
   "cell_type": "code",
   "execution_count": 1,
   "id": "e380b193",
   "metadata": {},
   "outputs": [],
   "source": [
    "import pandas as pd\n",
    "import requests\n",
    "import os\n",
    "import sqlite3\n",
    "import sys\n",
    "\n",
    "sys.path.append(os.path.abspath(os.path.join(os.getcwd(), '..')))"
   ]
  },
  {
   "cell_type": "code",
   "execution_count": 2,
   "id": "5d16f970",
   "metadata": {},
   "outputs": [
    {
     "data": {
      "text/plain": [
       "'/Users/paulcolas/code/RonanB400/decp_ml/data/datalab.sqlite'"
      ]
     },
     "execution_count": 2,
     "metadata": {},
     "output_type": "execute_result"
    }
   ],
   "source": [
    "db_path = os.path.join(os.path.dirname(os.getcwd()), 'data', 'datalab.sqlite')\n",
    "db_path"
   ]
  },
  {
   "cell_type": "code",
   "execution_count": 3,
   "id": "b2f9e980",
   "metadata": {},
   "outputs": [
    {
     "data": {
      "text/plain": [
       "Index(['uid', 'id', 'nature', 'acheteur_id', 'acheteur_nom', 'acheteur_siren',\n",
       "       'titulaire_id', 'titulaire_typeIdentifiant', 'titulaire_nom',\n",
       "       'titulaire_siren', 'objet', 'montant', 'codeCPV', 'procedure',\n",
       "       'dureeMois', 'dateNotification', 'datePublicationDonnees', 'formePrix',\n",
       "       'attributionAvance', 'offresRecues', 'marcheInnovant', 'ccag',\n",
       "       'sousTraitanceDeclaree', 'typeGroupementOperateurs', 'tauxAvance',\n",
       "       'origineUE', 'origineFrance', 'lieuExecution_code',\n",
       "       'lieuExecution_typeCode', 'idAccordCadre', 'source_open_data'],\n",
       "      dtype='object')"
      ]
     },
     "execution_count": 3,
     "metadata": {},
     "output_type": "execute_result"
    }
   ],
   "source": [
    "conn = sqlite3.connect(db_path)\n",
    "db = conn.cursor()\n",
    "query = f\"\"\"\n",
    "SELECT *\n",
    "FROM \"data.gouv.fr.2022.clean\"\n",
    "\"\"\"\n",
    "\n",
    "data = pd.read_sql_query(query, conn)\n",
    "data.columns"
   ]
  },
  {
   "cell_type": "code",
   "execution_count": 4,
   "id": "dcfc72de",
   "metadata": {},
   "outputs": [
    {
     "name": "stdout",
     "output_type": "stream",
     "text": [
      "10991\n",
      "62841\n"
     ]
    }
   ],
   "source": [
    "acheteur_siren_df = data['acheteur_siren'].unique()\n",
    "titulaire_siren_df = data['titulaire_siren'].unique()\n",
    "print(len(acheteur_siren_df))\n",
    "print(len(titulaire_siren_df))"
   ]
  },
  {
   "cell_type": "code",
   "execution_count": 5,
   "id": "6b7250bc",
   "metadata": {},
   "outputs": [
    {
     "data": {
      "text/html": [
       "<div>\n",
       "<style scoped>\n",
       "    .dataframe tbody tr th:only-of-type {\n",
       "        vertical-align: middle;\n",
       "    }\n",
       "\n",
       "    .dataframe tbody tr th {\n",
       "        vertical-align: top;\n",
       "    }\n",
       "\n",
       "    .dataframe thead th {\n",
       "        text-align: right;\n",
       "    }\n",
       "</style>\n",
       "<table border=\"1\" class=\"dataframe\">\n",
       "  <thead>\n",
       "    <tr style=\"text-align: right;\">\n",
       "      <th></th>\n",
       "      <th>uid</th>\n",
       "      <th>id</th>\n",
       "      <th>nature</th>\n",
       "      <th>acheteur_id</th>\n",
       "      <th>acheteur_nom</th>\n",
       "      <th>acheteur_siren</th>\n",
       "      <th>titulaire_id</th>\n",
       "      <th>titulaire_typeIdentifiant</th>\n",
       "      <th>titulaire_nom</th>\n",
       "      <th>titulaire_siren</th>\n",
       "      <th>...</th>\n",
       "      <th>ccag</th>\n",
       "      <th>sousTraitanceDeclaree</th>\n",
       "      <th>typeGroupementOperateurs</th>\n",
       "      <th>tauxAvance</th>\n",
       "      <th>origineUE</th>\n",
       "      <th>origineFrance</th>\n",
       "      <th>lieuExecution_code</th>\n",
       "      <th>lieuExecution_typeCode</th>\n",
       "      <th>idAccordCadre</th>\n",
       "      <th>source_open_data</th>\n",
       "    </tr>\n",
       "  </thead>\n",
       "  <tbody>\n",
       "    <tr>\n",
       "      <th>0</th>\n",
       "      <td>2154005160001320242024-LOT04</td>\n",
       "      <td>20242024-LOT04</td>\n",
       "      <td>Marché</td>\n",
       "      <td>21540051600013</td>\n",
       "      <td>COMMUNE DE BATILLY</td>\n",
       "      <td>215400516</td>\n",
       "      <td>78885470100018</td>\n",
       "      <td>SIRET</td>\n",
       "      <td>ACOMETAL</td>\n",
       "      <td>788854701</td>\n",
       "      <td>...</td>\n",
       "      <td>Pas de CCAG</td>\n",
       "      <td>NaN</td>\n",
       "      <td>Pas de groupement</td>\n",
       "      <td>NaN</td>\n",
       "      <td>NaN</td>\n",
       "      <td>NaN</td>\n",
       "      <td>54980</td>\n",
       "      <td>Code postal</td>\n",
       "      <td>None</td>\n",
       "      <td>data.gouv.fr decp-2024.json</td>\n",
       "    </tr>\n",
       "    <tr>\n",
       "      <th>1</th>\n",
       "      <td>243500667002882021M226MO</td>\n",
       "      <td>2021M226MO</td>\n",
       "      <td>Marché</td>\n",
       "      <td>24350066700288</td>\n",
       "      <td>CC VAL D'ILLE-AUBIGNE</td>\n",
       "      <td>243500667</td>\n",
       "      <td>38373211200032</td>\n",
       "      <td>SIRET</td>\n",
       "      <td>UNIVERS</td>\n",
       "      <td>383732112</td>\n",
       "      <td>...</td>\n",
       "      <td>Prestations intellectuelles</td>\n",
       "      <td>1.0</td>\n",
       "      <td>Solidaire</td>\n",
       "      <td>NaN</td>\n",
       "      <td>NaN</td>\n",
       "      <td>NaN</td>\n",
       "      <td>35520</td>\n",
       "      <td>Code postal</td>\n",
       "      <td>None</td>\n",
       "      <td>data.gouv.fr decp-2024.json</td>\n",
       "    </tr>\n",
       "  </tbody>\n",
       "</table>\n",
       "<p>2 rows × 31 columns</p>\n",
       "</div>"
      ],
      "text/plain": [
       "                            uid              id  nature     acheteur_id  \\\n",
       "0  2154005160001320242024-LOT04  20242024-LOT04  Marché  21540051600013   \n",
       "1      243500667002882021M226MO      2021M226MO  Marché  24350066700288   \n",
       "\n",
       "            acheteur_nom acheteur_siren    titulaire_id  \\\n",
       "0     COMMUNE DE BATILLY      215400516  78885470100018   \n",
       "1  CC VAL D'ILLE-AUBIGNE      243500667  38373211200032   \n",
       "\n",
       "  titulaire_typeIdentifiant titulaire_nom titulaire_siren  ...  \\\n",
       "0                     SIRET      ACOMETAL       788854701  ...   \n",
       "1                     SIRET       UNIVERS       383732112  ...   \n",
       "\n",
       "                          ccag  sousTraitanceDeclaree  \\\n",
       "0                  Pas de CCAG                    NaN   \n",
       "1  Prestations intellectuelles                    1.0   \n",
       "\n",
       "  typeGroupementOperateurs tauxAvance  origineUE origineFrance  \\\n",
       "0        Pas de groupement        NaN        NaN           NaN   \n",
       "1                Solidaire        NaN        NaN           NaN   \n",
       "\n",
       "  lieuExecution_code lieuExecution_typeCode  idAccordCadre  \\\n",
       "0              54980            Code postal           None   \n",
       "1              35520            Code postal           None   \n",
       "\n",
       "              source_open_data  \n",
       "0  data.gouv.fr decp-2024.json  \n",
       "1  data.gouv.fr decp-2024.json  \n",
       "\n",
       "[2 rows x 31 columns]"
      ]
     },
     "execution_count": 5,
     "metadata": {},
     "output_type": "execute_result"
    }
   ],
   "source": [
    "data.head(2)"
   ]
  },
  {
   "cell_type": "code",
   "execution_count": 6,
   "id": "f0f56846",
   "metadata": {},
   "outputs": [],
   "source": [
    "# siren = '215400516'\n",
    "\n",
    "# # Clé API fournie par INSEE\n",
    "# api_key = \"928d65d1-d6e4-49e1-8d65-d1d6e479e178\"\n",
    "\n",
    "# # URL de l'API Sirene\n",
    "# url = f\"https://api.insee.fr/api-sirene/3.11/siren/{siren}\"\n",
    "\n",
    "# # Headers avec la clé d'API\n",
    "# headers = {\n",
    "#     \"X-INSEE-Api-Key-Integration\": api_key\n",
    "# }\n",
    "\n",
    "# # Requête GET\n",
    "# response = requests.get(url, headers=headers).json()"
   ]
  },
  {
   "cell_type": "code",
   "execution_count": 7,
   "id": "729f0ab3",
   "metadata": {},
   "outputs": [],
   "source": [
    "# effectif = response['uniteLegale']['trancheEffectifsUniteLegale']\n",
    "# cat_entreprise = response['uniteLegale']['categorieEntreprise']\n",
    "# response['header']['statut']"
   ]
  },
  {
   "cell_type": "code",
   "execution_count": 8,
   "id": "36faa4b9",
   "metadata": {},
   "outputs": [],
   "source": [
    "# api_key = \"928d65d1-d6e4-49e1-8d65-d1d6e479e178\"\n",
    "# headers = {\"X-INSEE-Api-Key-Integration\": api_key}\n",
    "# dico_acheteur_1 = {}\n",
    "\n",
    "# for sir in acheteur_siren_df[:500]:\n",
    "#     url = f\"https://api.insee.fr/api-sirene/3.11/siren/{sir}\"\n",
    "#     try:\n",
    "#         response = requests.get(url, headers=headers)\n",
    "#         if response.status_code != 200:\n",
    "#             continue\n",
    "\n",
    "#         data = response.json()\n",
    "\n",
    "#         unite_legale = data.get(\"uniteLegale\")\n",
    "#         if not unite_legale:\n",
    "#             continue\n",
    "\n",
    "#         tranche = unite_legale.get(\"trancheEffectifsUniteLegale\")\n",
    "#         if not tranche:\n",
    "#                 continue\n",
    "#         categorie = unite_legale.get(\"categorieEntreprise\")\n",
    "#         if not categorie:\n",
    "#             continue\n",
    "\n",
    "#         dico_acheteur_1[sir] = [tranche, categorie]\n",
    "\n",
    "#     except Exception as e:\n",
    "#         continue"
   ]
  },
  {
   "cell_type": "code",
   "execution_count": 9,
   "id": "30b16c41",
   "metadata": {},
   "outputs": [],
   "source": [
    "# dico_acheteur_1"
   ]
  },
  {
   "cell_type": "code",
   "execution_count": 10,
   "id": "3a8140a6",
   "metadata": {},
   "outputs": [
    {
     "data": {
      "text/plain": [
       "'860200310'"
      ]
     },
     "execution_count": 10,
     "metadata": {},
     "output_type": "execute_result"
    }
   ],
   "source": [
    "acheteur_siren_df[29]"
   ]
  },
  {
   "cell_type": "code",
   "execution_count": 11,
   "id": "102333a3",
   "metadata": {},
   "outputs": [],
   "source": [
    "# api_key = \"928d65d1-d6e4-49e1-8d65-d1d6e479e178\"\n",
    "# headers = {\"X-INSEE-Api-Key-Integration\": api_key}\n",
    "# dico_dico = {}\n",
    "\n",
    "# for sir in acheteur_siren_df:\n",
    "#     url = f\"https://api.insee.fr/api-sirene/3.11/siren/{sir}\"\n",
    "#     response = requests.get(url, headers=headers).json()\n",
    "#     effectif_categorie = [response['uniteLegale']['trancheEffectifsUniteLegale'], response['uniteLegale']['categorieEntreprise']]\n",
    "#     dico_dico[sir] = effectif_categorie"
   ]
  },
  {
   "cell_type": "code",
   "execution_count": 12,
   "id": "de28786a",
   "metadata": {},
   "outputs": [],
   "source": [
    "dico_dico = {}"
   ]
  },
  {
   "cell_type": "code",
   "execution_count": 13,
   "id": "80ac476f",
   "metadata": {},
   "outputs": [],
   "source": [
    "dict_effectif = {\n",
    "    'NN' : \"Unité non-employeuse ou présumée non-employeuse (faute de déclaration reçue)\",\n",
    "    '00' : \"0 salarié (n'ayant pas d'effectif au 31/12 mais ayant employé des salariés au cours de l'année de référence)\",\n",
    "    '01' : \"1 ou 2 salariés\",\n",
    "    '02' : \"3 à 5 salariés\",\n",
    "    '03' : \"6 à 9 salariés\",\n",
    "    '11' : \"10 à 19 salariés\",\n",
    "    '12' : \"20 à 49 salariés\",\n",
    "    '21' : \"50 à 99 salariés\",\n",
    "    '22' : \"100 à 199 salariés\",\n",
    "    '31' : \"200 à 249 salariés\",\n",
    "    '32' : \"250 à 499 salariés\",\n",
    "    '41' : \"500 à 999 salariés\",\n",
    "    '42' : \"1 000 à 1 999 salariés\",\n",
    "    '51' : \"2 000 à 4 999 salariés\",\n",
    "    '52' : \"5 000 à 9 999 salariés\",\n",
    "    '53' : \"10 000 salariés et plus\",\n",
    "    'null' : 'donnée manquante ou \"sans objet\"'\n",
    "}"
   ]
  },
  {
   "cell_type": "code",
   "execution_count": null,
   "id": "b260c956",
   "metadata": {},
   "outputs": [],
   "source": []
  },
  {
   "cell_type": "code",
   "execution_count": 14,
   "id": "1930697d",
   "metadata": {},
   "outputs": [],
   "source": [
    "# effectif = response['uniteLegale']['trancheEffectifsUniteLegale']\n",
    "# cat_entreprise = response['uniteLegale']['categorieEntreprise']"
   ]
  },
  {
   "cell_type": "code",
   "execution_count": 15,
   "id": "3b343f40",
   "metadata": {},
   "outputs": [],
   "source": [
    "# siren = '215400516'\n",
    "\n",
    "# # Clé API fournie par INSEE\n",
    "# api_key = \"928d65d1-d6e4-49e1-8d65-d1d6e479e178\"\n",
    "\n",
    "# # URL de l'API Sirene\n",
    "# url = 'https://api.insee.fr/api-sirene/3.11/siren/249710047'\n",
    "\n",
    "# # Headers avec la clé d'API\n",
    "# headers = {\n",
    "#     \"X-INSEE-Api-Key-Integration\": api_key\n",
    "# }\n",
    "\n",
    "# # Requête GET\n",
    "# response = requests.get(url, headers=headers).json()"
   ]
  },
  {
   "cell_type": "code",
   "execution_count": 16,
   "id": "97d2d2db",
   "metadata": {},
   "outputs": [],
   "source": [
    "# response"
   ]
  },
  {
   "cell_type": "code",
   "execution_count": 17,
   "id": "2f273516",
   "metadata": {},
   "outputs": [],
   "source": [
    "# 'https://api.insee.fr/api-sirene/3.11/siren?q={249710047,215400516}'"
   ]
  },
  {
   "cell_type": "code",
   "execution_count": 18,
   "id": "6cbcce27",
   "metadata": {},
   "outputs": [],
   "source": [
    "sirene_path = \"/Users/paulcolas/code/sirene.csv\""
   ]
  },
  {
   "cell_type": "code",
   "execution_count": 19,
   "id": "8f977f7d",
   "metadata": {},
   "outputs": [
    {
     "data": {
      "text/plain": [
       "'\\nactivitePrincipaleUniteLegale\\nanneeCategorieEntreprise\\nanneeEffectifsUniteLegale\\ncaractereEmployeurUniteLegale\\ncategorieEntreprise\\ncategorieJuridiqueUniteLegale\\ndateCreationUniteLegale\\ndateDebut\\ndateDernierTraitementUniteLegale\\ndenominationUniteLegale\\ndenominationUsuelle1UniteLegale\\ndenominationUsuelle2UniteLegale\\ndenominationUsuelle3UniteLegale\\neconomieSocialeSolidaireUniteLegale\\netatAdministratifUniteLegale\\nidentifiantAssociationUniteLegale\\nnicSiegeUniteLegale\\nnombrePeriodesUniteLegale\\nnomenclatureActivitePrincipaleUniteLegale\\nnomUniteLegale\\nnomUsageUniteLegale\\nprenom1UniteLegale\\nprenom2UniteLegale\\nprenom3UniteLegale\\nprenom4UniteLegale\\nprenomUsuelUniteLegale\\npseudonymeUniteLegale\\nsexeUniteLegale\\nsigleUniteLegale\\nsiren\\nsocieteMissionUniteLegale\\nstatutDiffusionUniteLegale\\ntrancheEffectifsUniteLegale\\nunitePurgeeUniteLegale\\n'"
      ]
     },
     "execution_count": 19,
     "metadata": {},
     "output_type": "execute_result"
    }
   ],
   "source": [
    "'''\n",
    "activitePrincipaleUniteLegale\n",
    "anneeCategorieEntreprise\n",
    "anneeEffectifsUniteLegale\n",
    "caractereEmployeurUniteLegale\n",
    "categorieEntreprise\n",
    "categorieJuridiqueUniteLegale\n",
    "dateCreationUniteLegale\n",
    "dateDebut\n",
    "dateDernierTraitementUniteLegale\n",
    "denominationUniteLegale\n",
    "denominationUsuelle1UniteLegale\n",
    "denominationUsuelle2UniteLegale\n",
    "denominationUsuelle3UniteLegale\n",
    "economieSocialeSolidaireUniteLegale\n",
    "etatAdministratifUniteLegale\n",
    "identifiantAssociationUniteLegale\n",
    "nicSiegeUniteLegale\n",
    "nombrePeriodesUniteLegale\n",
    "nomenclatureActivitePrincipaleUniteLegale\n",
    "nomUniteLegale\n",
    "nomUsageUniteLegale\n",
    "prenom1UniteLegale\n",
    "prenom2UniteLegale\n",
    "prenom3UniteLegale\n",
    "prenom4UniteLegale\n",
    "prenomUsuelUniteLegale\n",
    "pseudonymeUniteLegale\n",
    "sexeUniteLegale\n",
    "sigleUniteLegale\n",
    "siren\n",
    "societeMissionUniteLegale\n",
    "statutDiffusionUniteLegale\n",
    "trancheEffectifsUniteLegale\n",
    "unitePurgeeUniteLegale\n",
    "'''"
   ]
  },
  {
   "cell_type": "code",
   "execution_count": 20,
   "id": "0570b4ff",
   "metadata": {},
   "outputs": [],
   "source": [
    "colonnes_a_charger = ['categorieEntreprise', 'economieSocialeSolidaireUniteLegale', 'siren', 'trancheEffectifsUniteLegale']"
   ]
  },
  {
   "cell_type": "code",
   "execution_count": 21,
   "id": "886e19dd",
   "metadata": {},
   "outputs": [
    {
     "name": "stderr",
     "output_type": "stream",
     "text": [
      "/var/folders/nj/s1c8f0tj3ksfjdg8xyxr6rdc0000gn/T/ipykernel_48447/1599831756.py:1: DtypeWarning: Columns (13,17) have mixed types. Specify dtype option on import or set low_memory=False.\n",
      "  sirene_df = pd.read_csv(sirene_path, usecols=colonnes_a_charger)\n"
     ]
    }
   ],
   "source": [
    "sirene_df = pd.read_csv(sirene_path, usecols=colonnes_a_charger)"
   ]
  },
  {
   "cell_type": "code",
   "execution_count": 22,
   "id": "cf7006d2",
   "metadata": {},
   "outputs": [
    {
     "data": {
      "text/plain": [
       "(28340800, 4)"
      ]
     },
     "execution_count": 22,
     "metadata": {},
     "output_type": "execute_result"
    }
   ],
   "source": [
    "sirene_df.shape"
   ]
  },
  {
   "cell_type": "code",
   "execution_count": 23,
   "id": "744543d9",
   "metadata": {},
   "outputs": [
    {
     "data": {
      "text/plain": [
       "siren                                         0\n",
       "trancheEffectifsUniteLegale            26345830\n",
       "categorieEntreprise                    18421557\n",
       "economieSocialeSolidaireUniteLegale    22390803\n",
       "dtype: int64"
      ]
     },
     "execution_count": 23,
     "metadata": {},
     "output_type": "execute_result"
    }
   ],
   "source": [
    "sirene_df.isna().sum()"
   ]
  },
  {
   "cell_type": "code",
   "execution_count": 25,
   "id": "74b72b45",
   "metadata": {},
   "outputs": [],
   "source": [
    "# sirene_df['check']\n",
    "# sirene_df.head()"
   ]
  },
  {
   "cell_type": "code",
   "execution_count": 26,
   "id": "b699350c",
   "metadata": {},
   "outputs": [
    {
     "data": {
      "text/html": [
       "<div>\n",
       "<style scoped>\n",
       "    .dataframe tbody tr th:only-of-type {\n",
       "        vertical-align: middle;\n",
       "    }\n",
       "\n",
       "    .dataframe tbody tr th {\n",
       "        vertical-align: top;\n",
       "    }\n",
       "\n",
       "    .dataframe thead th {\n",
       "        text-align: right;\n",
       "    }\n",
       "</style>\n",
       "<table border=\"1\" class=\"dataframe\">\n",
       "  <thead>\n",
       "    <tr style=\"text-align: right;\">\n",
       "      <th></th>\n",
       "      <th>siren</th>\n",
       "    </tr>\n",
       "  </thead>\n",
       "  <tbody>\n",
       "    <tr>\n",
       "      <th>0</th>\n",
       "      <td>215400516</td>\n",
       "    </tr>\n",
       "    <tr>\n",
       "      <th>1</th>\n",
       "      <td>243500667</td>\n",
       "    </tr>\n",
       "    <tr>\n",
       "      <th>2</th>\n",
       "      <td>249710047</td>\n",
       "    </tr>\n",
       "    <tr>\n",
       "      <th>3</th>\n",
       "      <td>625480199</td>\n",
       "    </tr>\n",
       "    <tr>\n",
       "      <th>4</th>\n",
       "      <td>200025633</td>\n",
       "    </tr>\n",
       "  </tbody>\n",
       "</table>\n",
       "</div>"
      ],
      "text/plain": [
       "       siren\n",
       "0  215400516\n",
       "1  243500667\n",
       "2  249710047\n",
       "3  625480199\n",
       "4  200025633"
      ]
     },
     "execution_count": 26,
     "metadata": {},
     "output_type": "execute_result"
    }
   ],
   "source": [
    "acheteur_siren_df = pd.DataFrame(acheteur_siren_df, columns=['siren'])\n",
    "acheteur_siren_df.head()"
   ]
  },
  {
   "cell_type": "code",
   "execution_count": 28,
   "id": "3e9b47d6",
   "metadata": {},
   "outputs": [],
   "source": [
    "acheteur_siren_df['siren'] = acheteur_siren_df['siren'].astype(str)\n",
    "sirene_df['siren'] = sirene_df['siren'].astype(str)\n",
    "\n",
    "# Refaire le merge\n",
    "df_merge = acheteur_siren_df.merge(sirene_df, on='siren', how='left')"
   ]
  },
  {
   "cell_type": "code",
   "execution_count": 29,
   "id": "7e72fa16",
   "metadata": {},
   "outputs": [
    {
     "data": {
      "text/plain": [
       "(10991, 4)"
      ]
     },
     "execution_count": 29,
     "metadata": {},
     "output_type": "execute_result"
    }
   ],
   "source": [
    "df_merge.shape"
   ]
  },
  {
   "cell_type": "code",
   "execution_count": 30,
   "id": "1947f1d0",
   "metadata": {},
   "outputs": [
    {
     "data": {
      "text/html": [
       "<div>\n",
       "<style scoped>\n",
       "    .dataframe tbody tr th:only-of-type {\n",
       "        vertical-align: middle;\n",
       "    }\n",
       "\n",
       "    .dataframe tbody tr th {\n",
       "        vertical-align: top;\n",
       "    }\n",
       "\n",
       "    .dataframe thead th {\n",
       "        text-align: right;\n",
       "    }\n",
       "</style>\n",
       "<table border=\"1\" class=\"dataframe\">\n",
       "  <thead>\n",
       "    <tr style=\"text-align: right;\">\n",
       "      <th></th>\n",
       "      <th>siren</th>\n",
       "      <th>trancheEffectifsUniteLegale</th>\n",
       "      <th>categorieEntreprise</th>\n",
       "      <th>economieSocialeSolidaireUniteLegale</th>\n",
       "    </tr>\n",
       "  </thead>\n",
       "  <tbody>\n",
       "    <tr>\n",
       "      <th>0</th>\n",
       "      <td>215400516</td>\n",
       "      <td>12</td>\n",
       "      <td>PME</td>\n",
       "      <td>NaN</td>\n",
       "    </tr>\n",
       "    <tr>\n",
       "      <th>1</th>\n",
       "      <td>243500667</td>\n",
       "      <td>22</td>\n",
       "      <td>PME</td>\n",
       "      <td>N</td>\n",
       "    </tr>\n",
       "    <tr>\n",
       "      <th>2</th>\n",
       "      <td>249710047</td>\n",
       "      <td>12</td>\n",
       "      <td>PME</td>\n",
       "      <td>N</td>\n",
       "    </tr>\n",
       "    <tr>\n",
       "      <th>3</th>\n",
       "      <td>625480199</td>\n",
       "      <td>22</td>\n",
       "      <td>ETI</td>\n",
       "      <td>N</td>\n",
       "    </tr>\n",
       "    <tr>\n",
       "      <th>4</th>\n",
       "      <td>200025633</td>\n",
       "      <td>12</td>\n",
       "      <td>PME</td>\n",
       "      <td>N</td>\n",
       "    </tr>\n",
       "  </tbody>\n",
       "</table>\n",
       "</div>"
      ],
      "text/plain": [
       "       siren trancheEffectifsUniteLegale categorieEntreprise  \\\n",
       "0  215400516                          12                 PME   \n",
       "1  243500667                          22                 PME   \n",
       "2  249710047                          12                 PME   \n",
       "3  625480199                          22                 ETI   \n",
       "4  200025633                          12                 PME   \n",
       "\n",
       "  economieSocialeSolidaireUniteLegale  \n",
       "0                                 NaN  \n",
       "1                                   N  \n",
       "2                                   N  \n",
       "3                                   N  \n",
       "4                                   N  "
      ]
     },
     "execution_count": 30,
     "metadata": {},
     "output_type": "execute_result"
    }
   ],
   "source": [
    "df_merge.head()"
   ]
  },
  {
   "cell_type": "code",
   "execution_count": 33,
   "id": "b6d51829",
   "metadata": {},
   "outputs": [],
   "source": [
    "df_merge_acheteur = df_merge"
   ]
  },
  {
   "cell_type": "code",
   "execution_count": 32,
   "id": "860edb8d",
   "metadata": {},
   "outputs": [],
   "source": [
    "titulaire_siren_df = pd.DataFrame(titulaire_siren_df, columns=['siren']).astype(str)"
   ]
  },
  {
   "cell_type": "code",
   "execution_count": 34,
   "id": "c77c5212",
   "metadata": {},
   "outputs": [],
   "source": [
    "df_merge_titulaire = titulaire_siren_df.merge(sirene_df, on='siren', how='left')"
   ]
  },
  {
   "cell_type": "code",
   "execution_count": 35,
   "id": "080d87f7",
   "metadata": {},
   "outputs": [
    {
     "data": {
      "text/html": [
       "<div>\n",
       "<style scoped>\n",
       "    .dataframe tbody tr th:only-of-type {\n",
       "        vertical-align: middle;\n",
       "    }\n",
       "\n",
       "    .dataframe tbody tr th {\n",
       "        vertical-align: top;\n",
       "    }\n",
       "\n",
       "    .dataframe thead th {\n",
       "        text-align: right;\n",
       "    }\n",
       "</style>\n",
       "<table border=\"1\" class=\"dataframe\">\n",
       "  <thead>\n",
       "    <tr style=\"text-align: right;\">\n",
       "      <th></th>\n",
       "      <th>siren</th>\n",
       "      <th>trancheEffectifsUniteLegale</th>\n",
       "      <th>categorieEntreprise</th>\n",
       "      <th>economieSocialeSolidaireUniteLegale</th>\n",
       "    </tr>\n",
       "  </thead>\n",
       "  <tbody>\n",
       "    <tr>\n",
       "      <th>0</th>\n",
       "      <td>788854701</td>\n",
       "      <td>03</td>\n",
       "      <td>PME</td>\n",
       "      <td>NaN</td>\n",
       "    </tr>\n",
       "    <tr>\n",
       "      <th>1</th>\n",
       "      <td>383732112</td>\n",
       "      <td>03</td>\n",
       "      <td>PME</td>\n",
       "      <td>NaN</td>\n",
       "    </tr>\n",
       "    <tr>\n",
       "      <th>2</th>\n",
       "      <td>433872496</td>\n",
       "      <td>12</td>\n",
       "      <td>PME</td>\n",
       "      <td>N</td>\n",
       "    </tr>\n",
       "    <tr>\n",
       "      <th>3</th>\n",
       "      <td>552046955</td>\n",
       "      <td>53</td>\n",
       "      <td>GE</td>\n",
       "      <td>N</td>\n",
       "    </tr>\n",
       "    <tr>\n",
       "      <th>4</th>\n",
       "      <td>476980321</td>\n",
       "      <td>42</td>\n",
       "      <td>GE</td>\n",
       "      <td>N</td>\n",
       "    </tr>\n",
       "  </tbody>\n",
       "</table>\n",
       "</div>"
      ],
      "text/plain": [
       "       siren trancheEffectifsUniteLegale categorieEntreprise  \\\n",
       "0  788854701                          03                 PME   \n",
       "1  383732112                          03                 PME   \n",
       "2  433872496                          12                 PME   \n",
       "3  552046955                          53                  GE   \n",
       "4  476980321                          42                  GE   \n",
       "\n",
       "  economieSocialeSolidaireUniteLegale  \n",
       "0                                 NaN  \n",
       "1                                 NaN  \n",
       "2                                   N  \n",
       "3                                   N  \n",
       "4                                   N  "
      ]
     },
     "execution_count": 35,
     "metadata": {},
     "output_type": "execute_result"
    }
   ],
   "source": [
    "df_merge_titulaire.head()"
   ]
  },
  {
   "cell_type": "code",
   "execution_count": 36,
   "id": "98e23df2",
   "metadata": {},
   "outputs": [
    {
     "data": {
      "text/plain": [
       "siren                                      0\n",
       "trancheEffectifsUniteLegale             9142\n",
       "categorieEntreprise                     3033\n",
       "economieSocialeSolidaireUniteLegale    14852\n",
       "dtype: int64"
      ]
     },
     "execution_count": 36,
     "metadata": {},
     "output_type": "execute_result"
    }
   ],
   "source": [
    "df_merge_titulaire.isna().sum()"
   ]
  },
  {
   "cell_type": "code",
   "execution_count": 37,
   "id": "b129239f",
   "metadata": {},
   "outputs": [
    {
     "data": {
      "text/plain": [
       "\"\\namelioration : ajout d'une colonne check pour savoir si le merge a trouver ou non le numero de siren dans le big df.\\npermet de comprendre un NaN\\n\""
      ]
     },
     "execution_count": 37,
     "metadata": {},
     "output_type": "execute_result"
    }
   ],
   "source": [
    "\"\"\"\n",
    "amelioration : ajout d'une colonne check pour savoir si le merge a trouver ou non le numero de siren dans le big df.\n",
    "permet de comprendre un NaN\n",
    "\"\"\""
   ]
  },
  {
   "cell_type": "code",
   "execution_count": null,
   "id": "724e6011",
   "metadata": {},
   "outputs": [],
   "source": []
  }
 ],
 "metadata": {
  "kernelspec": {
   "display_name": "decp_ml_env",
   "language": "python",
   "name": "python3"
  },
  "language_info": {
   "codemirror_mode": {
    "name": "ipython",
    "version": 3
   },
   "file_extension": ".py",
   "mimetype": "text/x-python",
   "name": "python",
   "nbconvert_exporter": "python",
   "pygments_lexer": "ipython3",
   "version": "3.10.6"
  }
 },
 "nbformat": 4,
 "nbformat_minor": 5
}
