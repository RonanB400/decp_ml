{
 "cells": [
  {
   "cell_type": "code",
   "execution_count": 2,
   "id": "e380b193",
   "metadata": {},
   "outputs": [],
   "source": [
    "import pandas as pd\n",
    "import requests"
   ]
  },
  {
   "cell_type": "code",
   "execution_count": 1,
   "id": "80ac476f",
   "metadata": {},
   "outputs": [],
   "source": [
    "dict_effectif = {\n",
    "    'NN' : \"Unité non-employeuse ou présumée non-employeuse (faute de déclaration reçue)\",\n",
    "    '00' : \"0 salarié (n'ayant pas d'effectif au 31/12 mais ayant employé des salariés au cours de l'année de référence)\",\n",
    "    '01' : \"1 ou 2 salariés\",\n",
    "    '02' : \"3 à 5 salariés\",\n",
    "    '03' : \"6 à 9 salariés\",\n",
    "    '11' : \"10 à 19 salariés\",\n",
    "    '12' : \"20 à 49 salariés\",\n",
    "    '21' : \"50 à 99 salariés\",\n",
    "    '22' : \"100 à 199 salariés\",\n",
    "    '31' : \"200 à 249 salariés\",\n",
    "    '32' : \"250 à 499 salariés\",\n",
    "    '41' : \"500 à 999 salariés\",\n",
    "    '42' : \"1 000 à 1 999 salariés\",\n",
    "    '51' : \"2 000 à 4 999 salariés\",\n",
    "    '52' : \"5 000 à 9 999 salariés\",\n",
    "    '53' : \"10 000 salariés et plus\",\n",
    "    'null' : 'donnée manquante ou \"sans objet\"'\n",
    "}"
   ]
  },
  {
   "cell_type": "code",
   "execution_count": 3,
   "id": "b260c956",
   "metadata": {},
   "outputs": [],
   "source": [
    "siren = \"215400516\"\n",
    "\n",
    "# Clé API fournie par INSEE (remplacez 'votre_cle_api' par la vraie)\n",
    "api_key = \"928d65d1-d6e4-49e1-8d65-d1d6e479e178\"\n",
    "\n",
    "# URL de l'API Sirene\n",
    "url = f\"https://api.insee.fr/api-sirene/3.11/siren/{siren}\"\n",
    "\n",
    "# Headers avec la clé d'API\n",
    "headers = {\n",
    "    \"X-INSEE-Api-Key-Integration\": api_key\n",
    "}\n",
    "\n",
    "# Requête GET\n",
    "response = requests.get(url, headers=headers).json()"
   ]
  },
  {
   "cell_type": "code",
   "execution_count": 4,
   "id": "1930697d",
   "metadata": {},
   "outputs": [],
   "source": [
    "effectif = response['uniteLegale']['trancheEffectifsUniteLegale']\n",
    "cat_entreprise = response['uniteLegale']['categorieEntreprise']"
   ]
  },
  {
   "cell_type": "code",
   "execution_count": null,
   "id": "3b343f40",
   "metadata": {},
   "outputs": [],
   "source": []
  }
 ],
 "metadata": {
  "kernelspec": {
   "display_name": "decp_ml_env",
   "language": "python",
   "name": "python3"
  },
  "language_info": {
   "codemirror_mode": {
    "name": "ipython",
    "version": 3
   },
   "file_extension": ".py",
   "mimetype": "text/x-python",
   "name": "python",
   "nbconvert_exporter": "python",
   "pygments_lexer": "ipython3",
   "version": "3.10.6"
  }
 },
 "nbformat": 4,
 "nbformat_minor": 5
}
