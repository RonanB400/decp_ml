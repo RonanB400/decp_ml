{
 "cells": [
  {
   "cell_type": "code",
   "execution_count": 1,
   "id": "cc5601fe",
   "metadata": {},
   "outputs": [
    {
     "name": "stderr",
     "output_type": "stream",
     "text": [
      "2025-06-11 11:27:28.676005: I tensorflow/core/util/port.cc:153] oneDNN custom operations are on. You may see slightly different numerical results due to floating-point round-off errors from different computation orders. To turn them off, set the environment variable `TF_ENABLE_ONEDNN_OPTS=0`.\n",
      "2025-06-11 11:27:28.676697: I external/local_xla/xla/tsl/cuda/cudart_stub.cc:32] Could not find cuda drivers on your machine, GPU will not be used.\n",
      "2025-06-11 11:27:28.680250: I external/local_xla/xla/tsl/cuda/cudart_stub.cc:32] Could not find cuda drivers on your machine, GPU will not be used.\n",
      "2025-06-11 11:27:28.688572: E external/local_xla/xla/stream_executor/cuda/cuda_fft.cc:477] Unable to register cuFFT factory: Attempting to register factory for plugin cuFFT when one has already been registered\n",
      "WARNING: All log messages before absl::InitializeLog() is called are written to STDERR\n",
      "E0000 00:00:1749634048.703378   36713 cuda_dnn.cc:8310] Unable to register cuDNN factory: Attempting to register factory for plugin cuDNN when one has already been registered\n",
      "E0000 00:00:1749634048.707574   36713 cuda_blas.cc:1418] Unable to register cuBLAS factory: Attempting to register factory for plugin cuBLAS when one has already been registered\n",
      "2025-06-11 11:27:28.723410: I tensorflow/core/platform/cpu_feature_guard.cc:210] This TensorFlow binary is optimized to use available CPU instructions in performance-critical operations.\n",
      "To enable the following instructions: AVX2 AVX_VNNI FMA, in other operations, rebuild TensorFlow with the appropriate compiler flags.\n"
     ]
    }
   ],
   "source": [
    "import pandas as pd\n",
    "import numpy as np\n",
    "import matplotlib.pyplot as plt\n",
    "\n",
    "from sklearn.model_selection import train_test_split\n",
    "\n",
    "from keras import Sequential, layers, Input, regularizers\n",
    "from keras.callbacks import EarlyStopping, ReduceLROnPlateau\n",
    "from keras.optimizers import Adam"
   ]
  },
  {
   "cell_type": "code",
   "execution_count": 2,
   "id": "f3f68ebd",
   "metadata": {},
   "outputs": [
    {
     "name": "stderr",
     "output_type": "stream",
     "text": [
      "/tmp/ipykernel_36713/2597316256.py:1: DtypeWarning: Columns (38) have mixed types. Specify dtype option on import or set low_memory=False.\n",
      "  df = pd.read_csv('../data/data_clean.csv')\n"
     ]
    },
    {
     "data": {
      "text/html": [
       "<div>\n",
       "<style scoped>\n",
       "    .dataframe tbody tr th:only-of-type {\n",
       "        vertical-align: middle;\n",
       "    }\n",
       "\n",
       "    .dataframe tbody tr th {\n",
       "        vertical-align: top;\n",
       "    }\n",
       "\n",
       "    .dataframe thead th {\n",
       "        text-align: right;\n",
       "    }\n",
       "</style>\n",
       "<table border=\"1\" class=\"dataframe\">\n",
       "  <thead>\n",
       "    <tr style=\"text-align: right;\">\n",
       "      <th></th>\n",
       "      <th>uid</th>\n",
       "      <th>id</th>\n",
       "      <th>nature</th>\n",
       "      <th>acheteur_id</th>\n",
       "      <th>acheteur_nom</th>\n",
       "      <th>acheteur_siren</th>\n",
       "      <th>titulaire_id</th>\n",
       "      <th>titulaire_typeIdentifiant</th>\n",
       "      <th>titulaire_nom</th>\n",
       "      <th>titulaire_siren</th>\n",
       "      <th>...</th>\n",
       "      <th>codeCPV_2</th>\n",
       "      <th>codeCPV_3</th>\n",
       "      <th>codeCPV_4</th>\n",
       "      <th>codeCPV_5</th>\n",
       "      <th>codeCPV_2_3</th>\n",
       "      <th>annee</th>\n",
       "      <th>acheteur_tranche_effectif</th>\n",
       "      <th>acheteur_categorie</th>\n",
       "      <th>titulaire_tranche_effectif</th>\n",
       "      <th>titulaire_categorie</th>\n",
       "    </tr>\n",
       "  </thead>\n",
       "  <tbody>\n",
       "    <tr>\n",
       "      <th>0</th>\n",
       "      <td>210601209000132022_M013</td>\n",
       "      <td>2022_M013</td>\n",
       "      <td>Marché</td>\n",
       "      <td>21060120900013</td>\n",
       "      <td>COMMUNE DE SAINT ETIENNE DE TINEE</td>\n",
       "      <td>210601209.0</td>\n",
       "      <td>38177692100029</td>\n",
       "      <td>SIRET</td>\n",
       "      <td>SERMATECH</td>\n",
       "      <td>381776921.0</td>\n",
       "      <td>...</td>\n",
       "      <td>45000000</td>\n",
       "      <td>45200000</td>\n",
       "      <td>45210000</td>\n",
       "      <td>45210000</td>\n",
       "      <td>45200000</td>\n",
       "      <td>2021</td>\n",
       "      <td>21</td>\n",
       "      <td>PME</td>\n",
       "      <td>12</td>\n",
       "      <td>PME</td>\n",
       "    </tr>\n",
       "    <tr>\n",
       "      <th>1</th>\n",
       "      <td>217100759000182024RENOCHARP</td>\n",
       "      <td>2024RENOCHARP</td>\n",
       "      <td>Marché</td>\n",
       "      <td>21710075900018</td>\n",
       "      <td>COMMUNE DE CHALMOUX</td>\n",
       "      <td>217100759.0</td>\n",
       "      <td>75203574100038</td>\n",
       "      <td>SIRET</td>\n",
       "      <td>MACON ETANCHEITE</td>\n",
       "      <td>752035741.0</td>\n",
       "      <td>...</td>\n",
       "      <td>45000000</td>\n",
       "      <td>45200000</td>\n",
       "      <td>45260000</td>\n",
       "      <td>45261000</td>\n",
       "      <td>45200000</td>\n",
       "      <td>2023</td>\n",
       "      <td>11</td>\n",
       "      <td>PME</td>\n",
       "      <td>12</td>\n",
       "      <td>PME</td>\n",
       "    </tr>\n",
       "    <tr>\n",
       "      <th>2</th>\n",
       "      <td>200066231000162022033INFOL00</td>\n",
       "      <td>2022033INFOL00</td>\n",
       "      <td>Marché</td>\n",
       "      <td>20006623100016</td>\n",
       "      <td>CC DES PORTES D'ARIEGE PYRENEES</td>\n",
       "      <td>200066231.0</td>\n",
       "      <td>49459697600014</td>\n",
       "      <td>SIRET</td>\n",
       "      <td>EQUADEX</td>\n",
       "      <td>494596976.0</td>\n",
       "      <td>...</td>\n",
       "      <td>72000000</td>\n",
       "      <td>72500000</td>\n",
       "      <td>72510000</td>\n",
       "      <td>72514000</td>\n",
       "      <td>72000000</td>\n",
       "      <td>2023</td>\n",
       "      <td>31</td>\n",
       "      <td>PME</td>\n",
       "      <td>21</td>\n",
       "      <td>PME</td>\n",
       "    </tr>\n",
       "    <tr>\n",
       "      <th>3</th>\n",
       "      <td>243100518001702024M05</td>\n",
       "      <td>2024M05</td>\n",
       "      <td>Marché</td>\n",
       "      <td>24310051800170</td>\n",
       "      <td>TOULOUSE METROPOLE</td>\n",
       "      <td>243100518.0</td>\n",
       "      <td>59278023300017</td>\n",
       "      <td>SIRET</td>\n",
       "      <td>RIVES &amp; EAUX DU SUD-OUEST</td>\n",
       "      <td>592780233.0</td>\n",
       "      <td>...</td>\n",
       "      <td>71000000</td>\n",
       "      <td>71300000</td>\n",
       "      <td>71300000</td>\n",
       "      <td>71300000</td>\n",
       "      <td>71300000</td>\n",
       "      <td>2024</td>\n",
       "      <td>52</td>\n",
       "      <td>GE</td>\n",
       "      <td>31</td>\n",
       "      <td>PME</td>\n",
       "    </tr>\n",
       "    <tr>\n",
       "      <th>4</th>\n",
       "      <td>21590544900017202402401</td>\n",
       "      <td>202402401</td>\n",
       "      <td>Marché</td>\n",
       "      <td>21590544900017</td>\n",
       "      <td>COMMUNE DE SAINT SAULVE</td>\n",
       "      <td>215905449.0</td>\n",
       "      <td>32683156700010</td>\n",
       "      <td>SIRET</td>\n",
       "      <td>ALTOMARE ALTALU</td>\n",
       "      <td>326831567.0</td>\n",
       "      <td>...</td>\n",
       "      <td>44000000</td>\n",
       "      <td>44300000</td>\n",
       "      <td>44310000</td>\n",
       "      <td>44316000</td>\n",
       "      <td>44000000</td>\n",
       "      <td>2024</td>\n",
       "      <td>32</td>\n",
       "      <td>ETI</td>\n",
       "      <td>12</td>\n",
       "      <td>PME</td>\n",
       "    </tr>\n",
       "  </tbody>\n",
       "</table>\n",
       "<p>5 rows × 42 columns</p>\n",
       "</div>"
      ],
      "text/plain": [
       "                            uid              id  nature     acheteur_id  \\\n",
       "0       210601209000132022_M013       2022_M013  Marché  21060120900013   \n",
       "1   217100759000182024RENOCHARP   2024RENOCHARP  Marché  21710075900018   \n",
       "2  200066231000162022033INFOL00  2022033INFOL00  Marché  20006623100016   \n",
       "3         243100518001702024M05         2024M05  Marché  24310051800170   \n",
       "4       21590544900017202402401       202402401  Marché  21590544900017   \n",
       "\n",
       "                        acheteur_nom  acheteur_siren    titulaire_id  \\\n",
       "0  COMMUNE DE SAINT ETIENNE DE TINEE     210601209.0  38177692100029   \n",
       "1                COMMUNE DE CHALMOUX     217100759.0  75203574100038   \n",
       "2    CC DES PORTES D'ARIEGE PYRENEES     200066231.0  49459697600014   \n",
       "3                 TOULOUSE METROPOLE     243100518.0  59278023300017   \n",
       "4            COMMUNE DE SAINT SAULVE     215905449.0  32683156700010   \n",
       "\n",
       "  titulaire_typeIdentifiant              titulaire_nom  titulaire_siren  ...  \\\n",
       "0                     SIRET                  SERMATECH      381776921.0  ...   \n",
       "1                     SIRET           MACON ETANCHEITE      752035741.0  ...   \n",
       "2                     SIRET                    EQUADEX      494596976.0  ...   \n",
       "3                     SIRET  RIVES & EAUX DU SUD-OUEST      592780233.0  ...   \n",
       "4                     SIRET            ALTOMARE ALTALU      326831567.0  ...   \n",
       "\n",
       "  codeCPV_2  codeCPV_3 codeCPV_4 codeCPV_5  codeCPV_2_3 annee  \\\n",
       "0  45000000   45200000  45210000  45210000     45200000  2021   \n",
       "1  45000000   45200000  45260000  45261000     45200000  2023   \n",
       "2  72000000   72500000  72510000  72514000     72000000  2023   \n",
       "3  71000000   71300000  71300000  71300000     71300000  2024   \n",
       "4  44000000   44300000  44310000  44316000     44000000  2024   \n",
       "\n",
       "  acheteur_tranche_effectif acheteur_categorie  titulaire_tranche_effectif  \\\n",
       "0                        21                PME                          12   \n",
       "1                        11                PME                          12   \n",
       "2                        31                PME                          21   \n",
       "3                        52                 GE                          31   \n",
       "4                        32                ETI                          12   \n",
       "\n",
       "   titulaire_categorie  \n",
       "0                  PME  \n",
       "1                  PME  \n",
       "2                  PME  \n",
       "3                  PME  \n",
       "4                  PME  \n",
       "\n",
       "[5 rows x 42 columns]"
      ]
     },
     "execution_count": 2,
     "metadata": {},
     "output_type": "execute_result"
    }
   ],
   "source": [
    "df = pd.read_csv('../data/data_clean.csv')\n",
    "df.head(5)"
   ]
  },
  {
   "cell_type": "code",
   "execution_count": 3,
   "id": "e17049f1",
   "metadata": {},
   "outputs": [
    {
     "name": "stdout",
     "output_type": "stream",
     "text": [
      "Filtered from 392 to 150 CPV categories, keeping 279174 rows out of 286850\n"
     ]
    }
   ],
   "source": [
    "from scripts.data_cleaner import filter_top_cpv_categories\n",
    "\n",
    "df = filter_top_cpv_categories(df, top_n=150, cpv_column='codeCPV_3')"
   ]
  },
  {
   "cell_type": "code",
   "execution_count": 4,
   "id": "99970bd2",
   "metadata": {},
   "outputs": [
    {
     "data": {
      "text/plain": [
       "codeCPV_3\n",
       "45200000    62229\n",
       "45400000    19048\n",
       "71200000    17621\n",
       "45100000    13647\n",
       "71300000    13462\n",
       "            ...  \n",
       "31300000      139\n",
       "55100000      132\n",
       "31100000      130\n",
       "18800000      130\n",
       "16100000      128\n",
       "Name: count, Length: 150, dtype: int64"
      ]
     },
     "execution_count": 4,
     "metadata": {},
     "output_type": "execute_result"
    }
   ],
   "source": [
    "df['codeCPV_3'].value_counts()"
   ]
  },
  {
   "cell_type": "code",
   "execution_count": 5,
   "id": "b87cc8b0",
   "metadata": {},
   "outputs": [
    {
     "data": {
      "text/plain": [
       "(238163, 42)"
      ]
     },
     "execution_count": 5,
     "metadata": {},
     "output_type": "execute_result"
    }
   ],
   "source": [
    "df.drop(df[df['montant'] > 999999].index, inplace=True)\n",
    "df.shape"
   ]
  },
  {
   "cell_type": "code",
   "execution_count": 6,
   "id": "e48e4ded",
   "metadata": {},
   "outputs": [
    {
     "data": {
      "text/plain": [
       "0    11.950698\n",
       "1    11.460800\n",
       "2    12.765691\n",
       "4    10.615726\n",
       "5    12.065219\n",
       "Name: montant, dtype: float64"
      ]
     },
     "execution_count": 6,
     "metadata": {},
     "output_type": "execute_result"
    }
   ],
   "source": [
    "y = np.log1p(df['montant'])\n",
    "y.head()"
   ]
  },
  {
   "cell_type": "code",
   "execution_count": 7,
   "id": "fe95605f",
   "metadata": {},
   "outputs": [
    {
     "data": {
      "text/plain": [
       "(238163, 43)"
      ]
     },
     "execution_count": 7,
     "metadata": {},
     "output_type": "execute_result"
    }
   ],
   "source": [
    "bins = np.linspace(y.min(), y.max(), 10)\n",
    "bins = np.delete(bins, 1)\n",
    "\n",
    "#bins = bins[2:]\n",
    "\n",
    "# Créer les étiquettes correspondantes\n",
    "labels = list(range(0, len(bins)-1))\n",
    "\n",
    "# Ajouter la colonne fourchette_de_prix\n",
    "df['bins'] = pd.cut(y, bins=bins, labels=labels, include_lowest=True, right=True)\n",
    "\n",
    "df.shape"
   ]
  },
  {
   "cell_type": "code",
   "execution_count": 8,
   "id": "05193634",
   "metadata": {},
   "outputs": [
    {
     "data": {
      "text/plain": [
       "array([  20001.        ,   47708.50133762,   73683.08597334,\n",
       "        113799.36502582,  175756.69245133,  271446.28561345,\n",
       "        419233.45817256,  647482.39989405, 1000000.        ])"
      ]
     },
     "execution_count": 8,
     "metadata": {},
     "output_type": "execute_result"
    }
   ],
   "source": [
    "np.exp(bins)"
   ]
  },
  {
   "cell_type": "code",
   "execution_count": 9,
   "id": "c896d8b7",
   "metadata": {},
   "outputs": [
    {
     "data": {
      "text/plain": [
       "8"
      ]
     },
     "execution_count": 9,
     "metadata": {},
     "output_type": "execute_result"
    }
   ],
   "source": [
    "len(labels)"
   ]
  },
  {
   "cell_type": "code",
   "execution_count": 10,
   "id": "4f77926e",
   "metadata": {},
   "outputs": [
    {
     "data": {
      "text/plain": [
       "Index(['uid', 'id', 'nature', 'acheteur_id', 'acheteur_nom', 'acheteur_siren',\n",
       "       'titulaire_id', 'titulaire_typeIdentifiant', 'titulaire_nom',\n",
       "       'titulaire_siren', 'objet', 'codeCPV', 'procedure', 'dureeMois',\n",
       "       'dateNotification', 'datePublicationDonnees', 'formePrix',\n",
       "       'attributionAvance', 'offresRecues', 'marcheInnovant', 'ccag',\n",
       "       'sousTraitanceDeclaree', 'typeGroupementOperateurs', 'tauxAvance',\n",
       "       'origineUE', 'origineFrance', 'lieuExecution_code',\n",
       "       'lieuExecution_typeCode', 'idAccordCadre', 'source_open_data',\n",
       "       'codeCPV_FR', 'codeCPV_2', 'codeCPV_3', 'codeCPV_4', 'codeCPV_5',\n",
       "       'codeCPV_2_3', 'annee', 'acheteur_tranche_effectif',\n",
       "       'acheteur_categorie', 'titulaire_tranche_effectif',\n",
       "       'titulaire_categorie', 'bins'],\n",
       "      dtype='object')"
      ]
     },
     "execution_count": 10,
     "metadata": {},
     "output_type": "execute_result"
    }
   ],
   "source": [
    "df['bins'] = df['bins'].astype('int')\n",
    "df = df.drop(columns='montant')\n",
    "df.columns"
   ]
  },
  {
   "cell_type": "code",
   "execution_count": 11,
   "id": "fecaaae8",
   "metadata": {},
   "outputs": [],
   "source": [
    "X = df.drop(columns=['bins', 'titulaire_tranche_effectif', 'titulaire_categorie'])\n",
    "y = df['bins']"
   ]
  },
  {
   "cell_type": "code",
   "execution_count": 12,
   "id": "42475c87",
   "metadata": {},
   "outputs": [
    {
     "data": {
      "text/plain": [
       "acheteur_tranche_effectif    0\n",
       "acheteur_categorie           0\n",
       "dtype: int64"
      ]
     },
     "execution_count": 12,
     "metadata": {},
     "output_type": "execute_result"
    }
   ],
   "source": [
    "X[['acheteur_tranche_effectif', 'acheteur_categorie']] = X[['acheteur_tranche_effectif', 'acheteur_categorie']].fillna('null')\n",
    "X[['acheteur_tranche_effectif', 'acheteur_categorie']].isna().sum()"
   ]
  },
  {
   "cell_type": "code",
   "execution_count": 13,
   "id": "fa7b392d",
   "metadata": {},
   "outputs": [],
   "source": [
    "X_train, X_test, y_train, y_test = train_test_split(\n",
    "    X, y, test_size=0.2, random_state=0, stratify=X['codeCPV_3'])"
   ]
  },
  {
   "cell_type": "code",
   "execution_count": 14,
   "id": "a3eff487",
   "metadata": {},
   "outputs": [],
   "source": [
    "from scripts.preprocess_pipeline import create_pipeline\n",
    "\n",
    "numerical_columns = ['dureeMois', 'offresRecues', 'annee']\n",
    "\n",
    "binary_columns = ['sousTraitanceDeclaree', 'origineFrance',\n",
    "                          'marcheInnovant', 'idAccordCadre']\n",
    "\n",
    "categorical_columns = ['procedure', 'nature', 'formePrix', 'ccag',\n",
    "                               'typeGroupementOperateurs', 'tauxAvance_cat',\n",
    "                               'codeCPV_3', 'acheteur_tranche_effectif', 'acheteur_categorie']\n",
    "\n",
    "pipeline = create_pipeline(numerical_columns, binary_columns, categorical_columns)"
   ]
  },
  {
   "cell_type": "code",
   "execution_count": 15,
   "id": "594ea23c",
   "metadata": {},
   "outputs": [
    {
     "data": {
      "text/plain": [
       "(190530, 220)"
      ]
     },
     "execution_count": 15,
     "metadata": {},
     "output_type": "execute_result"
    }
   ],
   "source": [
    "X_train_preproc = pipeline.fit_transform(X_train)\n",
    "X_train_preproc.shape"
   ]
  },
  {
   "cell_type": "code",
   "execution_count": 16,
   "id": "36a4251c",
   "metadata": {},
   "outputs": [
    {
     "data": {
      "text/plain": [
       "(190530, 8)"
      ]
     },
     "execution_count": 16,
     "metadata": {},
     "output_type": "execute_result"
    }
   ],
   "source": [
    "from keras.utils import to_categorical\n",
    "y_train_cat = to_categorical(y_train)\n",
    "y_train_cat.shape"
   ]
  },
  {
   "cell_type": "code",
   "execution_count": 17,
   "id": "6324f026",
   "metadata": {},
   "outputs": [
    {
     "data": {
      "text/plain": [
       "(190530, 8)"
      ]
     },
     "execution_count": 17,
     "metadata": {},
     "output_type": "execute_result"
    }
   ],
   "source": [
    "y_train_cat.shape"
   ]
  },
  {
   "cell_type": "code",
   "execution_count": 18,
   "id": "6a71d592",
   "metadata": {},
   "outputs": [],
   "source": [
    "def build_mlp_model(input_dim=220, num_classes=8, use_dropout=True, l2_factor=1e-4):\n",
    "    model = Sequential()\n",
    "    model.add(Input(shape=(input_dim,)))\n",
    "\n",
    "    # Couche 1\n",
    "    model.add(layers.Dense(\n",
    "        1028, activation='relu',\n",
    "        kernel_regularizer=regularizers.l2(l2_factor)\n",
    "    ))\n",
    "    model.add(layers.BatchNormalization())\n",
    "    if use_dropout:\n",
    "        model.add(layers.Dropout(0.4))\n",
    "\n",
    "    # Couche 2\n",
    "    model.add(layers.Dense(\n",
    "        512, activation='relu',\n",
    "        kernel_regularizer=regularizers.l2(l2_factor)\n",
    "    ))\n",
    "    model.add(layers.BatchNormalization())\n",
    "    if use_dropout:\n",
    "        model.add(layers.Dropout(0.3))\n",
    "\n",
    "    # Couche 3\n",
    "    model.add(layers.Dense(\n",
    "        256, activation='relu',\n",
    "        kernel_regularizer=regularizers.l2(l2_factor)\n",
    "    ))\n",
    "    model.add(layers.BatchNormalization())\n",
    "    if use_dropout:\n",
    "        model.add(layers.Dropout(0.2))\n",
    "\n",
    "    # Sortie\n",
    "    model.add(layers.Dense(\n",
    "        num_classes, activation='softmax',\n",
    "        kernel_regularizer=regularizers.l2(l2_factor)\n",
    "    ))\n",
    "\n",
    "    # Compilation\n",
    "    model.compile(\n",
    "        optimizer='adam',\n",
    "        loss='categorical_crossentropy',\n",
    "        metrics=['accuracy']\n",
    "    )\n",
    "\n",
    "    return model\n"
   ]
  },
  {
   "cell_type": "code",
   "execution_count": 19,
   "id": "5121e71e",
   "metadata": {},
   "outputs": [
    {
     "name": "stderr",
     "output_type": "stream",
     "text": [
      "2025-06-11 11:27:36.441898: E external/local_xla/xla/stream_executor/cuda/cuda_driver.cc:152] failed call to cuInit: INTERNAL: CUDA error: Failed call to cuInit: UNKNOWN ERROR (303)\n"
     ]
    },
    {
     "data": {
      "text/html": [
       "<pre style=\"white-space:pre;overflow-x:auto;line-height:normal;font-family:Menlo,'DejaVu Sans Mono',consolas,'Courier New',monospace\"><span style=\"font-weight: bold\">Model: \"sequential\"</span>\n",
       "</pre>\n"
      ],
      "text/plain": [
       "\u001b[1mModel: \"sequential\"\u001b[0m\n"
      ]
     },
     "metadata": {},
     "output_type": "display_data"
    },
    {
     "data": {
      "text/html": [
       "<pre style=\"white-space:pre;overflow-x:auto;line-height:normal;font-family:Menlo,'DejaVu Sans Mono',consolas,'Courier New',monospace\">┏━━━━━━━━━━━━━━━━━━━━━━━━━━━━━━━━━┳━━━━━━━━━━━━━━━━━━━━━━━━┳━━━━━━━━━━━━━━━┓\n",
       "┃<span style=\"font-weight: bold\"> Layer (type)                    </span>┃<span style=\"font-weight: bold\"> Output Shape           </span>┃<span style=\"font-weight: bold\">       Param # </span>┃\n",
       "┡━━━━━━━━━━━━━━━━━━━━━━━━━━━━━━━━━╇━━━━━━━━━━━━━━━━━━━━━━━━╇━━━━━━━━━━━━━━━┩\n",
       "│ dense (<span style=\"color: #0087ff; text-decoration-color: #0087ff\">Dense</span>)                   │ (<span style=\"color: #00d7ff; text-decoration-color: #00d7ff\">None</span>, <span style=\"color: #00af00; text-decoration-color: #00af00\">1028</span>)           │       <span style=\"color: #00af00; text-decoration-color: #00af00\">227,188</span> │\n",
       "├─────────────────────────────────┼────────────────────────┼───────────────┤\n",
       "│ batch_normalization             │ (<span style=\"color: #00d7ff; text-decoration-color: #00d7ff\">None</span>, <span style=\"color: #00af00; text-decoration-color: #00af00\">1028</span>)           │         <span style=\"color: #00af00; text-decoration-color: #00af00\">4,112</span> │\n",
       "│ (<span style=\"color: #0087ff; text-decoration-color: #0087ff\">BatchNormalization</span>)            │                        │               │\n",
       "├─────────────────────────────────┼────────────────────────┼───────────────┤\n",
       "│ dropout (<span style=\"color: #0087ff; text-decoration-color: #0087ff\">Dropout</span>)               │ (<span style=\"color: #00d7ff; text-decoration-color: #00d7ff\">None</span>, <span style=\"color: #00af00; text-decoration-color: #00af00\">1028</span>)           │             <span style=\"color: #00af00; text-decoration-color: #00af00\">0</span> │\n",
       "├─────────────────────────────────┼────────────────────────┼───────────────┤\n",
       "│ dense_1 (<span style=\"color: #0087ff; text-decoration-color: #0087ff\">Dense</span>)                 │ (<span style=\"color: #00d7ff; text-decoration-color: #00d7ff\">None</span>, <span style=\"color: #00af00; text-decoration-color: #00af00\">512</span>)            │       <span style=\"color: #00af00; text-decoration-color: #00af00\">526,848</span> │\n",
       "├─────────────────────────────────┼────────────────────────┼───────────────┤\n",
       "│ batch_normalization_1           │ (<span style=\"color: #00d7ff; text-decoration-color: #00d7ff\">None</span>, <span style=\"color: #00af00; text-decoration-color: #00af00\">512</span>)            │         <span style=\"color: #00af00; text-decoration-color: #00af00\">2,048</span> │\n",
       "│ (<span style=\"color: #0087ff; text-decoration-color: #0087ff\">BatchNormalization</span>)            │                        │               │\n",
       "├─────────────────────────────────┼────────────────────────┼───────────────┤\n",
       "│ dropout_1 (<span style=\"color: #0087ff; text-decoration-color: #0087ff\">Dropout</span>)             │ (<span style=\"color: #00d7ff; text-decoration-color: #00d7ff\">None</span>, <span style=\"color: #00af00; text-decoration-color: #00af00\">512</span>)            │             <span style=\"color: #00af00; text-decoration-color: #00af00\">0</span> │\n",
       "├─────────────────────────────────┼────────────────────────┼───────────────┤\n",
       "│ dense_2 (<span style=\"color: #0087ff; text-decoration-color: #0087ff\">Dense</span>)                 │ (<span style=\"color: #00d7ff; text-decoration-color: #00d7ff\">None</span>, <span style=\"color: #00af00; text-decoration-color: #00af00\">256</span>)            │       <span style=\"color: #00af00; text-decoration-color: #00af00\">131,328</span> │\n",
       "├─────────────────────────────────┼────────────────────────┼───────────────┤\n",
       "│ batch_normalization_2           │ (<span style=\"color: #00d7ff; text-decoration-color: #00d7ff\">None</span>, <span style=\"color: #00af00; text-decoration-color: #00af00\">256</span>)            │         <span style=\"color: #00af00; text-decoration-color: #00af00\">1,024</span> │\n",
       "│ (<span style=\"color: #0087ff; text-decoration-color: #0087ff\">BatchNormalization</span>)            │                        │               │\n",
       "├─────────────────────────────────┼────────────────────────┼───────────────┤\n",
       "│ dropout_2 (<span style=\"color: #0087ff; text-decoration-color: #0087ff\">Dropout</span>)             │ (<span style=\"color: #00d7ff; text-decoration-color: #00d7ff\">None</span>, <span style=\"color: #00af00; text-decoration-color: #00af00\">256</span>)            │             <span style=\"color: #00af00; text-decoration-color: #00af00\">0</span> │\n",
       "├─────────────────────────────────┼────────────────────────┼───────────────┤\n",
       "│ dense_3 (<span style=\"color: #0087ff; text-decoration-color: #0087ff\">Dense</span>)                 │ (<span style=\"color: #00d7ff; text-decoration-color: #00d7ff\">None</span>, <span style=\"color: #00af00; text-decoration-color: #00af00\">8</span>)              │         <span style=\"color: #00af00; text-decoration-color: #00af00\">2,056</span> │\n",
       "└─────────────────────────────────┴────────────────────────┴───────────────┘\n",
       "</pre>\n"
      ],
      "text/plain": [
       "┏━━━━━━━━━━━━━━━━━━━━━━━━━━━━━━━━━┳━━━━━━━━━━━━━━━━━━━━━━━━┳━━━━━━━━━━━━━━━┓\n",
       "┃\u001b[1m \u001b[0m\u001b[1mLayer (type)                   \u001b[0m\u001b[1m \u001b[0m┃\u001b[1m \u001b[0m\u001b[1mOutput Shape          \u001b[0m\u001b[1m \u001b[0m┃\u001b[1m \u001b[0m\u001b[1m      Param #\u001b[0m\u001b[1m \u001b[0m┃\n",
       "┡━━━━━━━━━━━━━━━━━━━━━━━━━━━━━━━━━╇━━━━━━━━━━━━━━━━━━━━━━━━╇━━━━━━━━━━━━━━━┩\n",
       "│ dense (\u001b[38;5;33mDense\u001b[0m)                   │ (\u001b[38;5;45mNone\u001b[0m, \u001b[38;5;34m1028\u001b[0m)           │       \u001b[38;5;34m227,188\u001b[0m │\n",
       "├─────────────────────────────────┼────────────────────────┼───────────────┤\n",
       "│ batch_normalization             │ (\u001b[38;5;45mNone\u001b[0m, \u001b[38;5;34m1028\u001b[0m)           │         \u001b[38;5;34m4,112\u001b[0m │\n",
       "│ (\u001b[38;5;33mBatchNormalization\u001b[0m)            │                        │               │\n",
       "├─────────────────────────────────┼────────────────────────┼───────────────┤\n",
       "│ dropout (\u001b[38;5;33mDropout\u001b[0m)               │ (\u001b[38;5;45mNone\u001b[0m, \u001b[38;5;34m1028\u001b[0m)           │             \u001b[38;5;34m0\u001b[0m │\n",
       "├─────────────────────────────────┼────────────────────────┼───────────────┤\n",
       "│ dense_1 (\u001b[38;5;33mDense\u001b[0m)                 │ (\u001b[38;5;45mNone\u001b[0m, \u001b[38;5;34m512\u001b[0m)            │       \u001b[38;5;34m526,848\u001b[0m │\n",
       "├─────────────────────────────────┼────────────────────────┼───────────────┤\n",
       "│ batch_normalization_1           │ (\u001b[38;5;45mNone\u001b[0m, \u001b[38;5;34m512\u001b[0m)            │         \u001b[38;5;34m2,048\u001b[0m │\n",
       "│ (\u001b[38;5;33mBatchNormalization\u001b[0m)            │                        │               │\n",
       "├─────────────────────────────────┼────────────────────────┼───────────────┤\n",
       "│ dropout_1 (\u001b[38;5;33mDropout\u001b[0m)             │ (\u001b[38;5;45mNone\u001b[0m, \u001b[38;5;34m512\u001b[0m)            │             \u001b[38;5;34m0\u001b[0m │\n",
       "├─────────────────────────────────┼────────────────────────┼───────────────┤\n",
       "│ dense_2 (\u001b[38;5;33mDense\u001b[0m)                 │ (\u001b[38;5;45mNone\u001b[0m, \u001b[38;5;34m256\u001b[0m)            │       \u001b[38;5;34m131,328\u001b[0m │\n",
       "├─────────────────────────────────┼────────────────────────┼───────────────┤\n",
       "│ batch_normalization_2           │ (\u001b[38;5;45mNone\u001b[0m, \u001b[38;5;34m256\u001b[0m)            │         \u001b[38;5;34m1,024\u001b[0m │\n",
       "│ (\u001b[38;5;33mBatchNormalization\u001b[0m)            │                        │               │\n",
       "├─────────────────────────────────┼────────────────────────┼───────────────┤\n",
       "│ dropout_2 (\u001b[38;5;33mDropout\u001b[0m)             │ (\u001b[38;5;45mNone\u001b[0m, \u001b[38;5;34m256\u001b[0m)            │             \u001b[38;5;34m0\u001b[0m │\n",
       "├─────────────────────────────────┼────────────────────────┼───────────────┤\n",
       "│ dense_3 (\u001b[38;5;33mDense\u001b[0m)                 │ (\u001b[38;5;45mNone\u001b[0m, \u001b[38;5;34m8\u001b[0m)              │         \u001b[38;5;34m2,056\u001b[0m │\n",
       "└─────────────────────────────────┴────────────────────────┴───────────────┘\n"
      ]
     },
     "metadata": {},
     "output_type": "display_data"
    },
    {
     "data": {
      "text/html": [
       "<pre style=\"white-space:pre;overflow-x:auto;line-height:normal;font-family:Menlo,'DejaVu Sans Mono',consolas,'Courier New',monospace\"><span style=\"font-weight: bold\"> Total params: </span><span style=\"color: #00af00; text-decoration-color: #00af00\">894,604</span> (3.41 MB)\n",
       "</pre>\n"
      ],
      "text/plain": [
       "\u001b[1m Total params: \u001b[0m\u001b[38;5;34m894,604\u001b[0m (3.41 MB)\n"
      ]
     },
     "metadata": {},
     "output_type": "display_data"
    },
    {
     "data": {
      "text/html": [
       "<pre style=\"white-space:pre;overflow-x:auto;line-height:normal;font-family:Menlo,'DejaVu Sans Mono',consolas,'Courier New',monospace\"><span style=\"font-weight: bold\"> Trainable params: </span><span style=\"color: #00af00; text-decoration-color: #00af00\">891,012</span> (3.40 MB)\n",
       "</pre>\n"
      ],
      "text/plain": [
       "\u001b[1m Trainable params: \u001b[0m\u001b[38;5;34m891,012\u001b[0m (3.40 MB)\n"
      ]
     },
     "metadata": {},
     "output_type": "display_data"
    },
    {
     "data": {
      "text/html": [
       "<pre style=\"white-space:pre;overflow-x:auto;line-height:normal;font-family:Menlo,'DejaVu Sans Mono',consolas,'Courier New',monospace\"><span style=\"font-weight: bold\"> Non-trainable params: </span><span style=\"color: #00af00; text-decoration-color: #00af00\">3,592</span> (14.03 KB)\n",
       "</pre>\n"
      ],
      "text/plain": [
       "\u001b[1m Non-trainable params: \u001b[0m\u001b[38;5;34m3,592\u001b[0m (14.03 KB)\n"
      ]
     },
     "metadata": {},
     "output_type": "display_data"
    }
   ],
   "source": [
    "model = build_mlp_model()\n",
    "model.summary()"
   ]
  },
  {
   "cell_type": "code",
   "execution_count": null,
   "id": "833c0250",
   "metadata": {},
   "outputs": [
    {
     "name": "stdout",
     "output_type": "stream",
     "text": [
      "Epoch 1/150\n",
      "\u001b[1m1191/1191\u001b[0m \u001b[32m━━━━━━━━━━━━━━━━━━━━\u001b[0m\u001b[37m\u001b[0m \u001b[1m19s\u001b[0m 14ms/step - accuracy: 0.1857 - loss: 2.3028 - val_accuracy: 0.2160 - val_loss: 2.0248 - learning_rate: 0.0010\n",
      "Epoch 2/150\n",
      "\u001b[1m   6/1191\u001b[0m \u001b[37m━━━━━━━━━━━━━━━━━━━━\u001b[0m \u001b[1m14s\u001b[0m 12ms/step - accuracy: 0.2122 - loss: 2.0123"
     ]
    }
   ],
   "source": [
    "es = EarlyStopping(patience=8, restore_best_weights=True)\n",
    "lr_scheduler = ReduceLROnPlateau(factor=0.5, patience=5, verbose=1, min_lr=1e-6)\n",
    "\n",
    "\n",
    "history = model.fit(\n",
    "        X_train_preproc, y_train_cat,\n",
    "        validation_split=0.2,\n",
    "        batch_size=128,\n",
    "        epochs=150,\n",
    "        callbacks=[es, lr_scheduler],\n",
    "        verbose=1)"
   ]
  },
  {
   "cell_type": "code",
   "execution_count": null,
   "id": "19946a56",
   "metadata": {},
   "outputs": [],
   "source": [
    "# Récupération des données d'entraînement et validation\n",
    "acc = history.history['accuracy']\n",
    "val_acc = history.history['val_accuracy']\n",
    "loss = history.history['loss']\n",
    "val_loss = history.history['val_loss']\n",
    "\n",
    "# Création de la figure\n",
    "plt.figure(figsize=(12, 5))\n",
    "\n",
    "# Plot de l'accuracy\n",
    "plt.subplot(1, 2, 1)\n",
    "plt.plot(acc, label='Accuracy')\n",
    "plt.plot(val_acc, label='Val Accuracy')\n",
    "plt.xlabel('Epochs')\n",
    "plt.ylabel('Accuracy')\n",
    "plt.title('Training and Validation Accuracy')\n",
    "plt.legend()\n",
    "\n",
    "# Plot de la loss\n",
    "plt.subplot(1, 2, 2)\n",
    "plt.plot(loss, label='Loss')\n",
    "plt.plot(val_loss, label='Val Loss')\n",
    "plt.xlabel('Epochs')\n",
    "plt.ylabel('Loss')\n",
    "plt.title('Training and Validation Loss')\n",
    "plt.legend()\n",
    "\n",
    "# Affichage\n",
    "plt.tight_layout()\n",
    "plt.show()"
   ]
  },
  {
   "cell_type": "code",
   "execution_count": 243,
   "id": "c0886821",
   "metadata": {},
   "outputs": [],
   "source": [
    "model.save(\"modele_montant_8.keras\")"
   ]
  },
  {
   "cell_type": "code",
   "execution_count": null,
   "id": "447ca256",
   "metadata": {},
   "outputs": [],
   "source": [
    "X_test_preproc = pipeline.transform(X_test)"
   ]
  },
  {
   "cell_type": "code",
   "execution_count": 245,
   "id": "ff1c4612",
   "metadata": {},
   "outputs": [],
   "source": [
    "y_test_cat = to_categorical(y_test)"
   ]
  },
  {
   "cell_type": "code",
   "execution_count": null,
   "id": "a3c32d53",
   "metadata": {},
   "outputs": [],
   "source": [
    "print(X_test_preproc.shape)\n",
    "print(y_test_cat.shape)"
   ]
  },
  {
   "cell_type": "code",
   "execution_count": 247,
   "id": "dbf3a7da",
   "metadata": {},
   "outputs": [],
   "source": [
    "# from keras.models import load_model\n",
    "\n",
    "# modelf = load_model(\"model_montant.keras\")"
   ]
  },
  {
   "cell_type": "code",
   "execution_count": null,
   "id": "de3b2735",
   "metadata": {},
   "outputs": [],
   "source": [
    "y_new = model.predict(X_test_preproc)"
   ]
  },
  {
   "cell_type": "code",
   "execution_count": null,
   "id": "c7810a00",
   "metadata": {},
   "outputs": [],
   "source": [
    "y_new.shape"
   ]
  },
  {
   "cell_type": "code",
   "execution_count": null,
   "id": "4419a70b",
   "metadata": {},
   "outputs": [],
   "source": [
    "y_new"
   ]
  },
  {
   "cell_type": "code",
   "execution_count": null,
   "id": "fb16bad7",
   "metadata": {},
   "outputs": [],
   "source": [
    "# y_new : array de shape (n_samples, n_classes)\n",
    "one_hot = np.zeros_like(y_new)\n",
    "one_hot\n",
    "one_hot[np.arange(len(y_new)), y_new.argmax(axis=1)] = 1\n",
    "one_hot"
   ]
  },
  {
   "cell_type": "code",
   "execution_count": null,
   "id": "bed5b59d",
   "metadata": {},
   "outputs": [],
   "source": []
  },
  {
   "cell_type": "code",
   "execution_count": null,
   "id": "d0e02559",
   "metadata": {},
   "outputs": [],
   "source": [
    "y_test_cat.shape"
   ]
  },
  {
   "cell_type": "code",
   "execution_count": null,
   "id": "45836aa1",
   "metadata": {},
   "outputs": [],
   "source": [
    "model.evaluate(X_test_preproc, y_test_cat)"
   ]
  },
  {
   "cell_type": "code",
   "execution_count": null,
   "id": "087e84ee",
   "metadata": {},
   "outputs": [],
   "source": [
    "from sklearn.metrics import classification_report\n",
    "\n",
    "print(classification_report(y_test_cat, one_hot))"
   ]
  },
  {
   "cell_type": "code",
   "execution_count": null,
   "id": "f0681d01",
   "metadata": {},
   "outputs": [],
   "source": [
    "from sklearn.metrics import confusion_matrix\n",
    "\n",
    "# Convertir one-hot en labels\n",
    "y_test_labels = y_test_cat.argmax(axis=1)\n",
    "y_pred_labels = one_hot.argmax(axis=1)\n",
    "\n",
    "confusion_matrix(y_test_labels, y_pred_labels)"
   ]
  },
  {
   "cell_type": "code",
   "execution_count": null,
   "id": "aa2f3a52",
   "metadata": {},
   "outputs": [],
   "source": [
    "from sklearn.metrics import ConfusionMatrixDisplay\n",
    "\n",
    "disp = ConfusionMatrixDisplay(confusion_matrix(y_test_labels, y_pred_labels))\n",
    "disp.plot()\n",
    "plt.show()"
   ]
  },
  {
   "cell_type": "code",
   "execution_count": null,
   "id": "55d0eda3",
   "metadata": {},
   "outputs": [],
   "source": [
    "# # I would like to evaluate the model on each codeCPV_3 category\n",
    "# dict_cpv_accuracy = {}\n",
    "\n",
    "# for code in df['codeCPV_3'].unique():\n",
    "#     print(f\"Evaluating for codeCPV_3: {code}\")\n",
    "#     X_code = X_test[X_test['codeCPV_3'] == code]\n",
    "#     y_code = y_test[y_test.index.isin(X_code.index)]\n",
    "\n",
    "#     if not X_code.empty:\n",
    "#         X_code_preproc = pipeline.transform(X_code)\n",
    "#         y_code_cat = to_categorical(y_code, num_classes=8)\n",
    "\n",
    "#         dict_cpv_accuracy['codeCPV_3'] = code\n",
    "#         dict_cpv_accuracy['accuracy'] = model.evaluate(X_code_preproc, y_code_cat)[1]\n",
    "\n",
    "#         # I would like to save the model.evaluate results for each codeCPV_3\n",
    "#     else:\n",
    "#         print(f\"No samples found for codeCPV_3: {code}\")\n",
    "\n",
    "# cpv_accuracy_df = pd.DataFrame.from_dict(dict_cpv_accuracy, orient='index', columns=['accuracy'])\n",
    "# cpv_accuracy_df.head()\n",
    "from keras.utils import to_categorical\n",
    "\n",
    "# Évaluation par codeCPV_3\n",
    "results = []\n",
    "\n",
    "for code in df['codeCPV_3'].unique():\n",
    "    print(f\"Evaluating for codeCPV_3: {code}\")\n",
    "    X_code = X_test[X_test['codeCPV_3'] == code]\n",
    "    y_code = y_test[y_test.index.isin(X_code.index)]\n",
    "\n",
    "    if not X_code.empty:\n",
    "        X_code_preproc = pipeline.transform(X_code)\n",
    "        y_code_cat = to_categorical(y_code, num_classes=8)\n",
    "        acc = model.evaluate(X_code_preproc, y_code_cat, verbose=0)[1]\n",
    "        results.append({'codeCPV_3': code, 'accuracy': acc})\n",
    "    else:\n",
    "        print(f\"No samples found for codeCPV_3: {code}\")\n",
    "\n",
    "cpv_accuracy_df = pd.DataFrame(results)\n",
    "cpv_accuracy_df.head()"
   ]
  },
  {
   "cell_type": "code",
   "execution_count": 274,
   "id": "7ffbf9aa",
   "metadata": {},
   "outputs": [],
   "source": [
    "# trie par accuracy\n",
    "cpv_accuracy_df.sort_values(by='accuracy', ascending=False, inplace=True)\n",
    "test = cpv_accuracy_df[cpv_accuracy_df['accuracy']>0.5]"
   ]
  },
  {
   "cell_type": "code",
   "execution_count": null,
   "id": "cf8dba51",
   "metadata": {},
   "outputs": [],
   "source": [
    "cpv_accuracy_df.head()"
   ]
  },
  {
   "cell_type": "code",
   "execution_count": null,
   "id": "06414c38",
   "metadata": {},
   "outputs": [],
   "source": [
    "df[df['codeCPV_3'].isin(test['codeCPV_3'])]"
   ]
  },
  {
   "cell_type": "code",
   "execution_count": 175,
   "id": "a793e905",
   "metadata": {},
   "outputs": [],
   "source": [
    "# # Dimensions\n",
    "# input_dim = 220\n",
    "# num_classes = 10\n",
    "\n",
    "# # Modèle MLP\n",
    "# model = Sequential()\n",
    "\n",
    "# model.add(Input(shape=(input_dim,)))\n",
    "\n",
    "# model.add(layers.Dense(1028, activation='relu',))\n",
    "# model.add(layers.BatchNormalization())\n",
    "# model.add(layers.Dropout(0.4))\n",
    "\n",
    "# model.add(layers.Dense(512, activation='relu'))\n",
    "# model.add(layers.BatchNormalization())\n",
    "# model.add(layers.Dropout(0.3))\n",
    "\n",
    "# model.add(layers.Dense(256, activation='relu'))\n",
    "# model.add(layers.BatchNormalization())\n",
    "# model.add(layers.Dropout(0.3))\n",
    "\n",
    "# model.add(layers.Dense(num_classes, activation='softmax'))  # Sortie pour classification\n",
    "\n",
    "# # Compilation\n",
    "# model.compile(\n",
    "#     optimizer='adam',\n",
    "#     loss='categorical_crossentropy',  # ou 'categorical_crossentropy' si y est one-hot\n",
    "#     metrics=['accuracy']\n",
    "# )\n",
    "\n",
    "# # Affichage du résumé du modèle\n",
    "# model.summary()"
   ]
  },
  {
   "cell_type": "code",
   "execution_count": 172,
   "id": "445a8aa0",
   "metadata": {},
   "outputs": [],
   "source": [
    "# es = EarlyStopping(patience=5, restore_best_weights=True, min_delta=1e-3)\n",
    "\n",
    "# history2 = model.fit(\n",
    "#         X_train_preproc, y_train_cat,\n",
    "#         validation_split=0.2,\n",
    "#         batch_size=32,\n",
    "#         epochs=100,\n",
    "#         callbacks=[es],\n",
    "#         verbose=1)"
   ]
  },
  {
   "cell_type": "code",
   "execution_count": null,
   "id": "8285e509",
   "metadata": {},
   "outputs": [],
   "source": [
    "# Récupération des données d'entraînement et validation\n",
    "acc = history.history['accuracy']\n",
    "val_acc = history.history['val_accuracy']\n",
    "loss = history.history['loss']\n",
    "val_loss = history.history['val_loss']\n",
    "\n",
    "# Création de la figure\n",
    "plt.figure(figsize=(12, 5))\n",
    "\n",
    "# Plot de l'accuracy\n",
    "plt.subplot(1, 2, 1)\n",
    "plt.plot(acc, label='Accuracy')\n",
    "plt.plot(val_acc, label='Val Accuracy')\n",
    "plt.xlabel('Epochs')\n",
    "plt.ylabel('Accuracy')\n",
    "plt.title('Training and Validation Accuracy')\n",
    "plt.legend()\n",
    "\n",
    "# Plot de la loss\n",
    "plt.subplot(1, 2, 2)\n",
    "plt.plot(loss, label='Loss')\n",
    "plt.plot(val_loss, label='Val Loss')\n",
    "plt.xlabel('Epochs')\n",
    "plt.ylabel('Loss')\n",
    "plt.title('Training and Validation Loss')\n",
    "plt.legend()\n",
    "\n",
    "# Affichage\n",
    "plt.tight_layout()\n",
    "plt.show()"
   ]
  },
  {
   "cell_type": "code",
   "execution_count": 173,
   "id": "743d328b",
   "metadata": {},
   "outputs": [],
   "source": [
    "# # Dimensions\n",
    "# input_dim = 220\n",
    "# num_classes = 10\n",
    "\n",
    "# # Modèle MLP\n",
    "# model = Sequential()\n",
    "\n",
    "# model.add(Input(shape=(input_dim,)))\n",
    "\n",
    "# model.add(layers.Dense(1028, activation='relu',))\n",
    "# model.add(layers.BatchNormalization())\n",
    "# model.add(layers.Dropout(0.5))\n",
    "\n",
    "# model.add(layers.Dense(512, activation='relu'))\n",
    "# model.add(layers.BatchNormalization())\n",
    "# model.add(layers.Dropout(0.4))\n",
    "\n",
    "# model.add(layers.Dense(256, activation='relu'))\n",
    "# model.add(layers.BatchNormalization())\n",
    "# model.add(layers.Dropout(0.3))\n",
    "\n",
    "# model.add(layers.Dense(num_classes, activation='softmax'))  # Sortie pour classification\n",
    "\n",
    "# # Compilation\n",
    "# model.compile(\n",
    "#     optimizer='adam',\n",
    "#     loss='categorical_crossentropy',  # ou 'categorical_crossentropy' si y est one-hot\n",
    "#     metrics=['accuracy']\n",
    "# )\n",
    "\n",
    "# # Affichage du résumé du modèle\n",
    "# model.summary()"
   ]
  },
  {
   "cell_type": "code",
   "execution_count": null,
   "id": "1f8d548e",
   "metadata": {},
   "outputs": [],
   "source": [
    "lr_scheduler = ReduceLROnPlateau(factor=0.5, patience=5, verbose=1, min_lr=1e-6)\n",
    "early_stop = EarlyStopping(patience=10, restore_best_weights=True)"
   ]
  },
  {
   "cell_type": "code",
   "execution_count": null,
   "id": "97113319",
   "metadata": {},
   "outputs": [],
   "source": [
    "history3 = model.fit(\n",
    "    X_train_preproc, y_train_cat,\n",
    "    validation_split=0.2,\n",
    "    batch_size=128,\n",
    "    epochs=100,\n",
    "    callbacks=[early_stop, lr_scheduler],\n",
    ")"
   ]
  },
  {
   "cell_type": "code",
   "execution_count": null,
   "id": "d363a91e",
   "metadata": {},
   "outputs": [],
   "source": []
  },
  {
   "cell_type": "code",
   "execution_count": null,
   "id": "45df06d2",
   "metadata": {},
   "outputs": [],
   "source": [
    "def build_mlp_model(input_dim=220, num_classes=10, use_dropout=True):\n",
    "    model = Sequential()\n",
    "    model.add(Input(shape=(input_dim,)))\n",
    "\n",
    "    model.add(layers.Dense(1028, activation='relu'))\n",
    "    model.add(layers.BatchNormalization())\n",
    "    if use_dropout:\n",
    "        model.add(layers.Dropout(0.5))\n",
    "\n",
    "    model.add(layers.Dense(512, activation='relu'))\n",
    "    model.add(layers.BatchNormalization())\n",
    "    if use_dropout:\n",
    "        model.add(layers.Dropout(0.4))\n",
    "\n",
    "    model.add(layers.Dense(256, activation='relu'))\n",
    "    model.add(layers.BatchNormalization())\n",
    "    if use_dropout:\n",
    "        model.add(layers.Dropout(0.3))\n",
    "\n",
    "    model.add(layers.Dense(num_classes, activation='softmax'))\n",
    "\n",
    "    model.compile(\n",
    "        optimizer='adam',\n",
    "        loss='categorical_crossentropy',  # or 'sparse_categorical_crossentropy'\n",
    "        metrics=['accuracy']\n",
    "    )\n",
    "\n",
    "    return model"
   ]
  },
  {
   "cell_type": "code",
   "execution_count": null,
   "id": "ee00fbe4",
   "metadata": {},
   "outputs": [],
   "source": [
    "model = build_mlp_model(use_dropout=False)\n",
    "\n",
    "history4 = model.fit(\n",
    "    X_train_preproc, y_train_cat,\n",
    "    validation_split=0.2,\n",
    "    batch_size=128,\n",
    "    epochs=100,\n",
    "    callbacks=[early_stop, lr_scheduler],\n",
    ")"
   ]
  },
  {
   "cell_type": "code",
   "execution_count": null,
   "id": "04be236b",
   "metadata": {},
   "outputs": [],
   "source": [
    "# # Récupération des données d'entraînement et validation\n",
    "# acc = history4.history['accuracy']\n",
    "# val_acc = history4.history['val_accuracy']\n",
    "# loss = history4.history['loss']\n",
    "# val_loss = history4.history['val_loss']\n",
    "\n",
    "# # Création de la figure\n",
    "# plt.figure(figsize=(12, 5))\n",
    "\n",
    "# # Plot de l'accuracy\n",
    "# plt.subplot(1, 2, 1)\n",
    "# plt.plot(acc, label='Accuracy')\n",
    "# plt.plot(val_acc, label='Val Accuracy')\n",
    "# plt.xlabel('Epochs')\n",
    "# plt.ylabel('Accuracy')\n",
    "# plt.title('Training and Validation Accuracy')\n",
    "# plt.legend()\n",
    "\n",
    "# # Plot de la loss\n",
    "# plt.subplot(1, 2, 2)\n",
    "# plt.plot(loss, label='Loss')\n",
    "# plt.plot(val_loss, label='Val Loss')\n",
    "# plt.xlabel('Epochs')\n",
    "# plt.ylabel('Loss')\n",
    "# plt.title('Training and Validation Loss')\n",
    "# plt.legend()\n",
    "\n",
    "# # Affichage\n",
    "# plt.tight_layout()\n",
    "# plt.show()"
   ]
  },
  {
   "cell_type": "code",
   "execution_count": 171,
   "id": "e2e7180b",
   "metadata": {},
   "outputs": [],
   "source": [
    "# def build_mlp_model(input_dim=220, num_classes=10, use_dropout=True, l2_factor=1e-4):\n",
    "#     model = Sequential()\n",
    "#     model.add(Input(shape=(input_dim,)))\n",
    "\n",
    "#     # Couche 1\n",
    "#     model.add(layers.Dense(\n",
    "#         1028, activation='relu',\n",
    "#         kernel_regularizer=regularizers.l2(l2_factor)\n",
    "#     ))\n",
    "#     model.add(layers.BatchNormalization())\n",
    "#     if use_dropout:\n",
    "#         model.add(layers.Dropout(0.5))\n",
    "\n",
    "#     # Couche 2\n",
    "#     model.add(layers.Dense(\n",
    "#         512, activation='relu',\n",
    "#         kernel_regularizer=regularizers.l2(l2_factor)\n",
    "#     ))\n",
    "#     model.add(layers.BatchNormalization())\n",
    "#     if use_dropout:\n",
    "#         model.add(layers.Dropout(0.4))\n",
    "\n",
    "#     # Couche 3\n",
    "#     model.add(layers.Dense(\n",
    "#         256, activation='relu',\n",
    "#         kernel_regularizer=regularizers.l2(l2_factor)\n",
    "#     ))\n",
    "#     model.add(layers.BatchNormalization())\n",
    "#     if use_dropout:\n",
    "#         model.add(layers.Dropout(0.3))\n",
    "\n",
    "#     # Sortie\n",
    "#     model.add(layers.Dense(\n",
    "#         num_classes, activation='softmax',\n",
    "#         kernel_regularizer=regularizers.l2(l2_factor)\n",
    "#     ))\n",
    "\n",
    "#     # Compilation\n",
    "#     model.compile(\n",
    "#         optimizer='adam',\n",
    "#         loss='categorical_crossentropy',\n",
    "#         metrics=['accuracy']\n",
    "#     )\n",
    "\n",
    "#     return model"
   ]
  },
  {
   "cell_type": "code",
   "execution_count": 169,
   "id": "f532b803",
   "metadata": {},
   "outputs": [],
   "source": [
    "# model = build_mlp_model(use_dropout=False)\n",
    "# history5 = model.fit(\n",
    "#     X_train_preproc, y_train_cat,\n",
    "#     validation_split=0.2,\n",
    "#     batch_size=128,\n",
    "#     epochs=100,\n",
    "#     callbacks=[early_stop, lr_scheduler],\n",
    "# )"
   ]
  },
  {
   "cell_type": "code",
   "execution_count": 170,
   "id": "fecc904e",
   "metadata": {},
   "outputs": [],
   "source": [
    "# model = build_mlp_model(use_dropout=True)\n",
    "# history5 = model.fit(\n",
    "#     X_train_preproc, y_train_cat,\n",
    "#     validation_split=0.2,\n",
    "#     batch_size=128,\n",
    "#     epochs=100,\n",
    "#     callbacks=[early_stop, lr_scheduler],\n",
    "# )"
   ]
  },
  {
   "cell_type": "code",
   "execution_count": 168,
   "id": "9c752f9d",
   "metadata": {},
   "outputs": [],
   "source": [
    "# # Récupération des données d'entraînement et validation\n",
    "# acc = history5.history['accuracy']\n",
    "# val_acc = history5.history['val_accuracy']\n",
    "# loss = history5.history['loss']\n",
    "# val_loss = history5.history['val_loss']\n",
    "\n",
    "# # Création de la figure\n",
    "# plt.figure(figsize=(12, 5))\n",
    "\n",
    "# # Plot de l'accuracy\n",
    "# plt.subplot(1, 2, 1)\n",
    "# plt.plot(acc, label='Accuracy')\n",
    "# plt.plot(val_acc, label='Val Accuracy')\n",
    "# plt.xlabel('Epochs')\n",
    "# plt.ylabel('Accuracy')\n",
    "# plt.title('Training and Validation Accuracy')\n",
    "# plt.legend()\n",
    "\n",
    "# # Plot de la loss\n",
    "# plt.subplot(1, 2, 2)\n",
    "# plt.plot(loss, label='Loss')\n",
    "# plt.plot(val_loss, label='Val Loss')\n",
    "# plt.xlabel('Epochs')\n",
    "# plt.ylabel('Loss')\n",
    "# plt.title('Training and Validation Loss')\n",
    "# plt.legend()\n",
    "\n",
    "# # Affichage\n",
    "# plt.tight_layout()\n",
    "# plt.show()"
   ]
  },
  {
   "cell_type": "code",
   "execution_count": 167,
   "id": "4e5393da",
   "metadata": {},
   "outputs": [],
   "source": [
    "# model = build_mlp_model(use_dropout=False)\n",
    "# history6 = model.fit(\n",
    "#     X_train_preproc, y_train_cat,\n",
    "#     validation_split=0.2,\n",
    "#     batch_size=128,\n",
    "#     epochs=100,\n",
    "#     callbacks=[early_stop, lr_scheduler],\n",
    "# )"
   ]
  },
  {
   "cell_type": "code",
   "execution_count": 166,
   "id": "1730ac55",
   "metadata": {},
   "outputs": [],
   "source": [
    "# # Récupération des données d'entraînement et validation\n",
    "# acc = history6.history['accuracy']\n",
    "# val_acc = history6.history['val_accuracy']\n",
    "# loss = history6.history['loss']\n",
    "# val_loss = history6.history['val_loss']\n",
    "\n",
    "# # Création de la figure\n",
    "# plt.figure(figsize=(12, 5))\n",
    "\n",
    "# # Plot de l'accuracy\n",
    "# plt.subplot(1, 2, 1)\n",
    "# plt.plot(acc, label='Accuracy')\n",
    "# plt.plot(val_acc, label='Val Accuracy')\n",
    "# plt.xlabel('Epochs')\n",
    "# plt.ylabel('Accuracy')\n",
    "# plt.title('Training and Validation Accuracy')\n",
    "# plt.legend()\n",
    "\n",
    "# # Plot de la loss\n",
    "# plt.subplot(1, 2, 2)\n",
    "# plt.plot(loss, label='Loss')\n",
    "# plt.plot(val_loss, label='Val Loss')\n",
    "# plt.xlabel('Epochs')\n",
    "# plt.ylabel('Loss')\n",
    "# plt.title('Training and Validation Loss')\n",
    "# plt.legend()\n",
    "\n",
    "# # Affichage\n",
    "# plt.tight_layout()\n",
    "\n",
    "# plt.show()"
   ]
  },
  {
   "cell_type": "code",
   "execution_count": 165,
   "id": "db6d3a97",
   "metadata": {},
   "outputs": [],
   "source": [
    "# def build_mlp_model(input_dim=220, num_classes=9, use_dropout=True, l2_factor=1e-4):\n",
    "#     model = Sequential()\n",
    "#     model.add(Input(shape=(input_dim,)))\n",
    "\n",
    "#     # Couche 1\n",
    "#     model.add(layers.Dense(\n",
    "#         1024, activation='relu',\n",
    "#         kernel_regularizer=regularizers.l2(l2_factor)\n",
    "#     ))\n",
    "#     model.add(layers.BatchNormalization())\n",
    "#     if use_dropout:\n",
    "#         model.add(layers.Dropout(0.4))\n",
    "\n",
    "#     # Couche 2\n",
    "#     model.add(layers.Dense(\n",
    "#         512, activation='relu',\n",
    "#         kernel_regularizer=regularizers.l2(l2_factor)\n",
    "#     ))\n",
    "#     model.add(layers.BatchNormalization())\n",
    "#     if use_dropout:\n",
    "#         model.add(layers.Dropout(0.3))\n",
    "\n",
    "#     # Couche 3\n",
    "#     model.add(layers.Dense(\n",
    "#         256, activation='relu',\n",
    "#         kernel_regularizer=regularizers.l2(l2_factor)\n",
    "#     ))\n",
    "#     model.add(layers.BatchNormalization())\n",
    "#     if use_dropout:\n",
    "#         model.add(layers.Dropout(0.2))\n",
    "#     #couche 4\n",
    "#     model.add(layers.Dense(\n",
    "#         128, activation='relu',\n",
    "#         kernel_regularizer=regularizers.l2(l2_factor)\n",
    "#     ))\n",
    "#     model.add(layers.BatchNormalization())\n",
    "#     if use_dropout:\n",
    "#         model.add(layers.Dropout(0.1))\n",
    "\n",
    "#     # Sortie\n",
    "#     model.add(layers.Dense(\n",
    "#         num_classes, activation='softmax',\n",
    "#         kernel_regularizer=regularizers.l2(l2_factor)\n",
    "#     ))\n",
    "\n",
    "#     # Compilation\n",
    "#     model.compile(\n",
    "#         optimizer='adam',\n",
    "#         loss='categorical_crossentropy',\n",
    "#         metrics=['accuracy']\n",
    "#     )\n",
    "\n",
    "#     return model"
   ]
  },
  {
   "cell_type": "code",
   "execution_count": 164,
   "id": "c42b7482",
   "metadata": {},
   "outputs": [],
   "source": [
    "# model = build_mlp_model(use_dropout=False)\n",
    "# history7 = model.fit(\n",
    "#     X_train_preproc, y_train_cat,\n",
    "#     validation_split=0.2,\n",
    "#     batch_size=128,\n",
    "#     epochs=100,\n",
    "#     callbacks=[early_stop, lr_scheduler],\n",
    "# )"
   ]
  },
  {
   "cell_type": "code",
   "execution_count": 163,
   "id": "89be7073",
   "metadata": {},
   "outputs": [],
   "source": [
    "# # Récupération des données d'entraînement et validation\n",
    "# acc = history7.history['accuracy']\n",
    "# val_acc = history7.history['val_accuracy']\n",
    "# loss = history7.history['loss']\n",
    "# val_loss = history7.history['val_loss']\n",
    "\n",
    "# # Création de la figure\n",
    "# plt.figure(figsize=(12, 5))\n",
    "\n",
    "# # Plot de l'accuracy\n",
    "# plt.subplot(1, 2, 1)\n",
    "# plt.plot(acc, label='Accuracy')\n",
    "# plt.plot(val_acc, label='Val Accuracy')\n",
    "# plt.xlabel('Epochs')\n",
    "# plt.ylabel('Accuracy')\n",
    "# plt.title('Training and Validation Accuracy')\n",
    "# plt.legend()\n",
    "\n",
    "# # Plot de la loss\n",
    "# plt.subplot(1, 2, 2)\n",
    "# plt.plot(loss, label='Loss')\n",
    "# plt.plot(val_loss, label='Val Loss')\n",
    "# plt.xlabel('Epochs')\n",
    "# plt.ylabel('Loss')\n",
    "# plt.title('Training and Validation Loss')\n",
    "# plt.legend()\n",
    "\n",
    "# # Affichage\n",
    "# plt.tight_layout()\n",
    "# plt.show()"
   ]
  },
  {
   "cell_type": "code",
   "execution_count": null,
   "id": "88430391",
   "metadata": {},
   "outputs": [],
   "source": []
  }
 ],
 "metadata": {
  "kernelspec": {
   "display_name": "decp_ml_env",
   "language": "python",
   "name": "python3"
  },
  "language_info": {
   "codemirror_mode": {
    "name": "ipython",
    "version": 3
   },
   "file_extension": ".py",
   "mimetype": "text/x-python",
   "name": "python",
   "nbconvert_exporter": "python",
   "pygments_lexer": "ipython3",
   "version": "3.10.6"
  }
 },
 "nbformat": 4,
 "nbformat_minor": 5
}
