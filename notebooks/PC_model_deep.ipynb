{
 "cells": [
  {
   "cell_type": "code",
   "execution_count": null,
   "id": "cc5601fe",
   "metadata": {},
   "outputs": [],
   "source": [
    "import pandas as pd\n",
    "import numpy as np\n",
    "import matplotlib.pyplot as plt\n",
    "\n",
    "from sklearn.model_selection import train_test_split\n",
    "\n",
    "from keras import Sequential, layers, Input, regularizers\n",
    "from keras.callbacks import EarlyStopping, ReduceLROnPlateau\n",
    "from keras.optimizers import Adam"
   ]
  },
  {
   "cell_type": "code",
   "execution_count": 222,
   "id": "f3f68ebd",
   "metadata": {},
   "outputs": [
    {
     "name": "stderr",
     "output_type": "stream",
     "text": [
      "/var/folders/nj/s1c8f0tj3ksfjdg8xyxr6rdc0000gn/T/ipykernel_73420/2597316256.py:1: DtypeWarning: Columns (38) have mixed types. Specify dtype option on import or set low_memory=False.\n",
      "  df = pd.read_csv('../data/data_clean.csv')\n"
     ]
    },
    {
     "data": {
      "text/html": [
       "<div>\n",
       "<style scoped>\n",
       "    .dataframe tbody tr th:only-of-type {\n",
       "        vertical-align: middle;\n",
       "    }\n",
       "\n",
       "    .dataframe tbody tr th {\n",
       "        vertical-align: top;\n",
       "    }\n",
       "\n",
       "    .dataframe thead th {\n",
       "        text-align: right;\n",
       "    }\n",
       "</style>\n",
       "<table border=\"1\" class=\"dataframe\">\n",
       "  <thead>\n",
       "    <tr style=\"text-align: right;\">\n",
       "      <th></th>\n",
       "      <th>uid</th>\n",
       "      <th>id</th>\n",
       "      <th>nature</th>\n",
       "      <th>acheteur_id</th>\n",
       "      <th>acheteur_nom</th>\n",
       "      <th>acheteur_siren</th>\n",
       "      <th>titulaire_id</th>\n",
       "      <th>titulaire_typeIdentifiant</th>\n",
       "      <th>titulaire_nom</th>\n",
       "      <th>titulaire_siren</th>\n",
       "      <th>...</th>\n",
       "      <th>codeCPV_2</th>\n",
       "      <th>codeCPV_3</th>\n",
       "      <th>codeCPV_4</th>\n",
       "      <th>codeCPV_5</th>\n",
       "      <th>codeCPV_2_3</th>\n",
       "      <th>annee</th>\n",
       "      <th>acheteur_tranche_effectif</th>\n",
       "      <th>acheteur_categorie</th>\n",
       "      <th>titulaire_tranche_effectif</th>\n",
       "      <th>titulaire_categorie</th>\n",
       "    </tr>\n",
       "  </thead>\n",
       "  <tbody>\n",
       "    <tr>\n",
       "      <th>0</th>\n",
       "      <td>2154005160001320242024-LOT04</td>\n",
       "      <td>20242024-LOT04</td>\n",
       "      <td>Marché</td>\n",
       "      <td>21540051600013</td>\n",
       "      <td>COMMUNE DE BATILLY</td>\n",
       "      <td>215400516.0</td>\n",
       "      <td>78885470100018</td>\n",
       "      <td>SIRET</td>\n",
       "      <td>ACOMETAL</td>\n",
       "      <td>788854701.0</td>\n",
       "      <td>...</td>\n",
       "      <td>45000000</td>\n",
       "      <td>45200000</td>\n",
       "      <td>45260000</td>\n",
       "      <td>45261000</td>\n",
       "      <td>45200000</td>\n",
       "      <td>2024</td>\n",
       "      <td>12</td>\n",
       "      <td>PME</td>\n",
       "      <td>03</td>\n",
       "      <td>PME</td>\n",
       "    </tr>\n",
       "    <tr>\n",
       "      <th>1</th>\n",
       "      <td>243500667002882021M226MO</td>\n",
       "      <td>2021M226MO</td>\n",
       "      <td>Marché</td>\n",
       "      <td>24350066700288</td>\n",
       "      <td>CC VAL D'ILLE-AUBIGNE</td>\n",
       "      <td>243500667.0</td>\n",
       "      <td>38373211200032</td>\n",
       "      <td>SIRET</td>\n",
       "      <td>UNIVERS</td>\n",
       "      <td>383732112.0</td>\n",
       "      <td>...</td>\n",
       "      <td>71000000</td>\n",
       "      <td>71200000</td>\n",
       "      <td>71200000</td>\n",
       "      <td>71200000</td>\n",
       "      <td>71200000</td>\n",
       "      <td>2021</td>\n",
       "      <td>22</td>\n",
       "      <td>PME</td>\n",
       "      <td>03</td>\n",
       "      <td>PME</td>\n",
       "    </tr>\n",
       "    <tr>\n",
       "      <th>2</th>\n",
       "      <td>249710047000472024SS_PRD_TRV</td>\n",
       "      <td>2024SS_PRD_TRV</td>\n",
       "      <td>Marché</td>\n",
       "      <td>24971004700047</td>\n",
       "      <td>COMMUNAUTE DE COMMUNES DE MARIE GALANTE</td>\n",
       "      <td>249710047.0</td>\n",
       "      <td>43387249600016</td>\n",
       "      <td>SIRET</td>\n",
       "      <td>COTRAM B.T.P.</td>\n",
       "      <td>433872496.0</td>\n",
       "      <td>...</td>\n",
       "      <td>45000000</td>\n",
       "      <td>45200000</td>\n",
       "      <td>45230000</td>\n",
       "      <td>45232000</td>\n",
       "      <td>45200000</td>\n",
       "      <td>2024</td>\n",
       "      <td>12</td>\n",
       "      <td>PME</td>\n",
       "      <td>12</td>\n",
       "      <td>PME</td>\n",
       "    </tr>\n",
       "    <tr>\n",
       "      <th>3</th>\n",
       "      <td>6254801990001124-0806-L2</td>\n",
       "      <td>24-0806-L2</td>\n",
       "      <td>Marché</td>\n",
       "      <td>62548019900011</td>\n",
       "      <td>LA MAISON POUR TOUS, SOCIETE ANONYME COOPERATI...</td>\n",
       "      <td>625480199.0</td>\n",
       "      <td>55204695502544</td>\n",
       "      <td>SIRET</td>\n",
       "      <td>ENGIE ENERGIE SERVICES</td>\n",
       "      <td>552046955.0</td>\n",
       "      <td>...</td>\n",
       "      <td>50000000</td>\n",
       "      <td>50700000</td>\n",
       "      <td>50720000</td>\n",
       "      <td>50720000</td>\n",
       "      <td>50000000</td>\n",
       "      <td>2024</td>\n",
       "      <td>22</td>\n",
       "      <td>ETI</td>\n",
       "      <td>53</td>\n",
       "      <td>GE</td>\n",
       "    </tr>\n",
       "    <tr>\n",
       "      <th>4</th>\n",
       "      <td>20002563300013202424011BCR</td>\n",
       "      <td>202424011BCR</td>\n",
       "      <td>Marché</td>\n",
       "      <td>20002563300013</td>\n",
       "      <td>SI DE RESTAURATION COLLECTIVE</td>\n",
       "      <td>200025633.0</td>\n",
       "      <td>47698032100238</td>\n",
       "      <td>SIRET</td>\n",
       "      <td>POMONA EPISAVEURS</td>\n",
       "      <td>476980321.0</td>\n",
       "      <td>...</td>\n",
       "      <td>15000000</td>\n",
       "      <td>15800000</td>\n",
       "      <td>15800000</td>\n",
       "      <td>15800000</td>\n",
       "      <td>15000000</td>\n",
       "      <td>2024</td>\n",
       "      <td>12</td>\n",
       "      <td>PME</td>\n",
       "      <td>42</td>\n",
       "      <td>GE</td>\n",
       "    </tr>\n",
       "  </tbody>\n",
       "</table>\n",
       "<p>5 rows × 42 columns</p>\n",
       "</div>"
      ],
      "text/plain": [
       "                            uid              id  nature     acheteur_id  \\\n",
       "0  2154005160001320242024-LOT04  20242024-LOT04  Marché  21540051600013   \n",
       "1      243500667002882021M226MO      2021M226MO  Marché  24350066700288   \n",
       "2  249710047000472024SS_PRD_TRV  2024SS_PRD_TRV  Marché  24971004700047   \n",
       "3      6254801990001124-0806-L2      24-0806-L2  Marché  62548019900011   \n",
       "4    20002563300013202424011BCR    202424011BCR  Marché  20002563300013   \n",
       "\n",
       "                                        acheteur_nom  acheteur_siren  \\\n",
       "0                                 COMMUNE DE BATILLY     215400516.0   \n",
       "1                              CC VAL D'ILLE-AUBIGNE     243500667.0   \n",
       "2            COMMUNAUTE DE COMMUNES DE MARIE GALANTE     249710047.0   \n",
       "3  LA MAISON POUR TOUS, SOCIETE ANONYME COOPERATI...     625480199.0   \n",
       "4                      SI DE RESTAURATION COLLECTIVE     200025633.0   \n",
       "\n",
       "     titulaire_id titulaire_typeIdentifiant           titulaire_nom  \\\n",
       "0  78885470100018                     SIRET                ACOMETAL   \n",
       "1  38373211200032                     SIRET                 UNIVERS   \n",
       "2  43387249600016                     SIRET           COTRAM B.T.P.   \n",
       "3  55204695502544                     SIRET  ENGIE ENERGIE SERVICES   \n",
       "4  47698032100238                     SIRET       POMONA EPISAVEURS   \n",
       "\n",
       "   titulaire_siren  ... codeCPV_2  codeCPV_3 codeCPV_4 codeCPV_5  codeCPV_2_3  \\\n",
       "0      788854701.0  ...  45000000   45200000  45260000  45261000     45200000   \n",
       "1      383732112.0  ...  71000000   71200000  71200000  71200000     71200000   \n",
       "2      433872496.0  ...  45000000   45200000  45230000  45232000     45200000   \n",
       "3      552046955.0  ...  50000000   50700000  50720000  50720000     50000000   \n",
       "4      476980321.0  ...  15000000   15800000  15800000  15800000     15000000   \n",
       "\n",
       "  annee acheteur_tranche_effectif acheteur_categorie  \\\n",
       "0  2024                        12                PME   \n",
       "1  2021                        22                PME   \n",
       "2  2024                        12                PME   \n",
       "3  2024                        22                ETI   \n",
       "4  2024                        12                PME   \n",
       "\n",
       "   titulaire_tranche_effectif  titulaire_categorie  \n",
       "0                          03                  PME  \n",
       "1                          03                  PME  \n",
       "2                          12                  PME  \n",
       "3                          53                   GE  \n",
       "4                          42                   GE  \n",
       "\n",
       "[5 rows x 42 columns]"
      ]
     },
     "execution_count": 222,
     "metadata": {},
     "output_type": "execute_result"
    }
   ],
   "source": [
    "df = pd.read_csv('../data/data_clean.csv')\n",
    "df.head(5)"
   ]
  },
  {
   "cell_type": "code",
   "execution_count": 223,
   "id": "e17049f1",
   "metadata": {},
   "outputs": [
    {
     "name": "stdout",
     "output_type": "stream",
     "text": [
      "Filtered from 392 to 150 CPV categories, keeping 279174 rows out of 286850\n"
     ]
    }
   ],
   "source": [
    "from scripts.data_cleaner import filter_top_cpv_categories\n",
    "\n",
    "df = filter_top_cpv_categories(df, top_n=150, cpv_column='codeCPV_3')"
   ]
  },
  {
   "cell_type": "code",
   "execution_count": 224,
   "id": "99970bd2",
   "metadata": {},
   "outputs": [
    {
     "data": {
      "text/plain": [
       "codeCPV_3\n",
       "45200000    62229\n",
       "45400000    19048\n",
       "71200000    17621\n",
       "45100000    13647\n",
       "71300000    13462\n",
       "            ...  \n",
       "31300000      139\n",
       "55100000      132\n",
       "31100000      130\n",
       "18800000      130\n",
       "16100000      128\n",
       "Name: count, Length: 150, dtype: int64"
      ]
     },
     "execution_count": 224,
     "metadata": {},
     "output_type": "execute_result"
    }
   ],
   "source": [
    "df['codeCPV_3'].value_counts()"
   ]
  },
  {
   "cell_type": "code",
   "execution_count": 225,
   "id": "b87cc8b0",
   "metadata": {},
   "outputs": [
    {
     "data": {
      "text/plain": [
       "(238163, 42)"
      ]
     },
     "execution_count": 225,
     "metadata": {},
     "output_type": "execute_result"
    }
   ],
   "source": [
    "df.drop(df[df['montant'] > 999999].index, inplace=True)\n",
    "df.shape"
   ]
  },
  {
   "cell_type": "code",
   "execution_count": 226,
   "id": "e48e4ded",
   "metadata": {},
   "outputs": [
    {
     "data": {
      "text/plain": [
       "0    11.292279\n",
       "1    10.882925\n",
       "4    13.235694\n",
       "5    11.350889\n",
       "6    12.044412\n",
       "Name: montant, dtype: float64"
      ]
     },
     "execution_count": 226,
     "metadata": {},
     "output_type": "execute_result"
    }
   ],
   "source": [
    "y = np.log1p(df['montant'])\n",
    "y.head()"
   ]
  },
  {
   "cell_type": "code",
   "execution_count": 227,
   "id": "fe95605f",
   "metadata": {},
   "outputs": [
    {
     "data": {
      "text/plain": [
       "(238163, 43)"
      ]
     },
     "execution_count": 227,
     "metadata": {},
     "output_type": "execute_result"
    }
   ],
   "source": [
    "bins = np.linspace(y.min(), y.max(), 10)\n",
    "bins = np.delete(bins, 1)\n",
    "\n",
    "#bins = bins[2:]\n",
    "\n",
    "# Créer les étiquettes correspondantes\n",
    "labels = list(range(0, len(bins)-1))\n",
    "\n",
    "# Ajouter la colonne fourchette_de_prix\n",
    "df['bins'] = pd.cut(y, bins=bins, labels=labels, include_lowest=True, right=True)\n",
    "\n",
    "df.shape"
   ]
  },
  {
   "cell_type": "code",
   "execution_count": 228,
   "id": "05193634",
   "metadata": {},
   "outputs": [
    {
     "data": {
      "text/plain": [
       "array([  20001.        ,   47708.50133762,   73683.08597334,\n",
       "        113799.36502582,  175756.69245133,  271446.28561345,\n",
       "        419233.45817256,  647482.39989405, 1000000.        ])"
      ]
     },
     "execution_count": 228,
     "metadata": {},
     "output_type": "execute_result"
    }
   ],
   "source": [
    "np.exp(bins)"
   ]
  },
  {
   "cell_type": "code",
   "execution_count": 229,
   "id": "c896d8b7",
   "metadata": {},
   "outputs": [
    {
     "data": {
      "text/plain": [
       "8"
      ]
     },
     "execution_count": 229,
     "metadata": {},
     "output_type": "execute_result"
    }
   ],
   "source": [
    "len(labels)"
   ]
  },
  {
   "cell_type": "code",
   "execution_count": 230,
   "id": "4f77926e",
   "metadata": {},
   "outputs": [
    {
     "data": {
      "text/plain": [
       "Index(['uid', 'id', 'nature', 'acheteur_id', 'acheteur_nom', 'acheteur_siren',\n",
       "       'titulaire_id', 'titulaire_typeIdentifiant', 'titulaire_nom',\n",
       "       'titulaire_siren', 'objet', 'codeCPV', 'procedure', 'dureeMois',\n",
       "       'dateNotification', 'datePublicationDonnees', 'formePrix',\n",
       "       'attributionAvance', 'offresRecues', 'marcheInnovant', 'ccag',\n",
       "       'sousTraitanceDeclaree', 'typeGroupementOperateurs', 'tauxAvance',\n",
       "       'origineUE', 'origineFrance', 'lieuExecution_code',\n",
       "       'lieuExecution_typeCode', 'idAccordCadre', 'source_open_data',\n",
       "       'codeCPV_FR', 'codeCPV_2', 'codeCPV_3', 'codeCPV_4', 'codeCPV_5',\n",
       "       'codeCPV_2_3', 'annee', 'acheteur_tranche_effectif',\n",
       "       'acheteur_categorie', 'titulaire_tranche_effectif',\n",
       "       'titulaire_categorie', 'bins'],\n",
       "      dtype='object')"
      ]
     },
     "execution_count": 230,
     "metadata": {},
     "output_type": "execute_result"
    }
   ],
   "source": [
    "df['bins'] = df['bins'].astype('int')\n",
    "df = df.drop(columns='montant')\n",
    "df.columns"
   ]
  },
  {
   "cell_type": "code",
   "execution_count": 231,
   "id": "fecaaae8",
   "metadata": {},
   "outputs": [],
   "source": [
    "X = df.drop(columns=['bins', 'titulaire_tranche_effectif', 'titulaire_categorie'])\n",
    "y = df['bins']"
   ]
  },
  {
   "cell_type": "code",
   "execution_count": 232,
   "id": "42475c87",
   "metadata": {},
   "outputs": [
    {
     "data": {
      "text/plain": [
       "acheteur_tranche_effectif    0\n",
       "acheteur_categorie           0\n",
       "dtype: int64"
      ]
     },
     "execution_count": 232,
     "metadata": {},
     "output_type": "execute_result"
    }
   ],
   "source": [
    "X[['acheteur_tranche_effectif', 'acheteur_categorie']] = X[['acheteur_tranche_effectif', 'acheteur_categorie']].fillna('null')\n",
    "X[['acheteur_tranche_effectif', 'acheteur_categorie']].isna().sum()"
   ]
  },
  {
   "cell_type": "code",
   "execution_count": 233,
   "id": "fa7b392d",
   "metadata": {},
   "outputs": [],
   "source": [
    "X_train, X_test, y_train, y_test = train_test_split(\n",
    "    X, y, test_size=0.2, random_state=0, stratify=X['codeCPV_3'])"
   ]
  },
  {
   "cell_type": "code",
   "execution_count": 236,
   "id": "a3eff487",
   "metadata": {},
   "outputs": [],
   "source": [
    "from scripts.preprocess_pipeline import create_pipeline\n",
    "\n",
    "numerical_columns = ['dureeMois', 'offresRecues', 'annee']\n",
    "\n",
    "binary_columns = ['sousTraitanceDeclaree', 'origineFrance',\n",
    "                          'marcheInnovant', 'idAccordCadre']\n",
    "\n",
    "categorical_columns = ['procedure', 'nature', 'formePrix', 'ccag',\n",
    "                               'typeGroupementOperateurs', 'tauxAvance_cat',\n",
    "                               'codeCPV_3', 'acheteur_tranche_effectif', 'acheteur_categorie']\n",
    "\n",
    "pipeline = create_pipeline(numerical_columns, binary_columns, categorical_columns)"
   ]
  },
  {
   "cell_type": "code",
   "execution_count": 238,
   "id": "594ea23c",
   "metadata": {},
   "outputs": [
    {
     "data": {
      "text/plain": [
       "(190530, 220)"
      ]
     },
     "execution_count": 238,
     "metadata": {},
     "output_type": "execute_result"
    }
   ],
   "source": [
    "X_train_preproc = pipeline.fit_transform(X_train)\n",
    "X_train_preproc.shape"
   ]
  },
  {
   "cell_type": "code",
   "execution_count": 234,
   "id": "36a4251c",
   "metadata": {},
   "outputs": [
    {
     "data": {
      "text/plain": [
       "(190530, 8)"
      ]
     },
     "execution_count": 234,
     "metadata": {},
     "output_type": "execute_result"
    }
   ],
   "source": [
    "from keras.utils import to_categorical\n",
    "y_train_cat = to_categorical(y_train)\n",
    "y_train_cat.shape"
   ]
  },
  {
   "cell_type": "code",
   "execution_count": 235,
   "id": "6324f026",
   "metadata": {},
   "outputs": [
    {
     "data": {
      "text/plain": [
       "(190530, 8)"
      ]
     },
     "execution_count": 235,
     "metadata": {},
     "output_type": "execute_result"
    }
   ],
   "source": [
    "y_train_cat.shape"
   ]
  },
  {
   "cell_type": "code",
   "execution_count": 239,
   "id": "6a71d592",
   "metadata": {},
   "outputs": [],
   "source": [
    "def build_mlp_model(input_dim=220, num_classes=8, use_dropout=True, l2_factor=1e-4):\n",
    "    model = Sequential()\n",
    "    model.add(Input(shape=(input_dim,)))\n",
    "\n",
    "    # Couche 1\n",
    "    model.add(layers.Dense(\n",
    "        1028, activation='relu',\n",
    "        kernel_regularizer=regularizers.l2(l2_factor)\n",
    "    ))\n",
    "    model.add(layers.BatchNormalization())\n",
    "    if use_dropout:\n",
    "        model.add(layers.Dropout(0.4))\n",
    "\n",
    "    # Couche 2\n",
    "    model.add(layers.Dense(\n",
    "        512, activation='relu',\n",
    "        kernel_regularizer=regularizers.l2(l2_factor)\n",
    "    ))\n",
    "    model.add(layers.BatchNormalization())\n",
    "    if use_dropout:\n",
    "        model.add(layers.Dropout(0.3))\n",
    "\n",
    "    # Couche 3\n",
    "    model.add(layers.Dense(\n",
    "        256, activation='relu',\n",
    "        kernel_regularizer=regularizers.l2(l2_factor)\n",
    "    ))\n",
    "    model.add(layers.BatchNormalization())\n",
    "    if use_dropout:\n",
    "        model.add(layers.Dropout(0.2))\n",
    "\n",
    "    # Sortie\n",
    "    model.add(layers.Dense(\n",
    "        num_classes, activation='softmax',\n",
    "        kernel_regularizer=regularizers.l2(l2_factor)\n",
    "    ))\n",
    "\n",
    "    # Compilation\n",
    "    model.compile(\n",
    "        optimizer='adam',\n",
    "        loss='categorical_crossentropy',\n",
    "        metrics=['accuracy']\n",
    "    )\n",
    "\n",
    "    return model\n"
   ]
  },
  {
   "cell_type": "code",
   "execution_count": 240,
   "id": "5121e71e",
   "metadata": {},
   "outputs": [
    {
     "data": {
      "text/html": [
       "<pre style=\"white-space:pre;overflow-x:auto;line-height:normal;font-family:Menlo,'DejaVu Sans Mono',consolas,'Courier New',monospace\"><span style=\"font-weight: bold\">Model: \"sequential_11\"</span>\n",
       "</pre>\n"
      ],
      "text/plain": [
       "\u001b[1mModel: \"sequential_11\"\u001b[0m\n"
      ]
     },
     "metadata": {},
     "output_type": "display_data"
    },
    {
     "data": {
      "text/html": [
       "<pre style=\"white-space:pre;overflow-x:auto;line-height:normal;font-family:Menlo,'DejaVu Sans Mono',consolas,'Courier New',monospace\">┏━━━━━━━━━━━━━━━━━━━━━━━━━━━━━━━━━┳━━━━━━━━━━━━━━━━━━━━━━━━┳━━━━━━━━━━━━━━━┓\n",
       "┃<span style=\"font-weight: bold\"> Layer (type)                    </span>┃<span style=\"font-weight: bold\"> Output Shape           </span>┃<span style=\"font-weight: bold\">       Param # </span>┃\n",
       "┡━━━━━━━━━━━━━━━━━━━━━━━━━━━━━━━━━╇━━━━━━━━━━━━━━━━━━━━━━━━╇━━━━━━━━━━━━━━━┩\n",
       "│ dense_44 (<span style=\"color: #0087ff; text-decoration-color: #0087ff\">Dense</span>)                │ (<span style=\"color: #00d7ff; text-decoration-color: #00d7ff\">None</span>, <span style=\"color: #00af00; text-decoration-color: #00af00\">1028</span>)           │       <span style=\"color: #00af00; text-decoration-color: #00af00\">227,188</span> │\n",
       "├─────────────────────────────────┼────────────────────────┼───────────────┤\n",
       "│ batch_normalization_33          │ (<span style=\"color: #00d7ff; text-decoration-color: #00d7ff\">None</span>, <span style=\"color: #00af00; text-decoration-color: #00af00\">1028</span>)           │         <span style=\"color: #00af00; text-decoration-color: #00af00\">4,112</span> │\n",
       "│ (<span style=\"color: #0087ff; text-decoration-color: #0087ff\">BatchNormalization</span>)            │                        │               │\n",
       "├─────────────────────────────────┼────────────────────────┼───────────────┤\n",
       "│ dropout_33 (<span style=\"color: #0087ff; text-decoration-color: #0087ff\">Dropout</span>)            │ (<span style=\"color: #00d7ff; text-decoration-color: #00d7ff\">None</span>, <span style=\"color: #00af00; text-decoration-color: #00af00\">1028</span>)           │             <span style=\"color: #00af00; text-decoration-color: #00af00\">0</span> │\n",
       "├─────────────────────────────────┼────────────────────────┼───────────────┤\n",
       "│ dense_45 (<span style=\"color: #0087ff; text-decoration-color: #0087ff\">Dense</span>)                │ (<span style=\"color: #00d7ff; text-decoration-color: #00d7ff\">None</span>, <span style=\"color: #00af00; text-decoration-color: #00af00\">512</span>)            │       <span style=\"color: #00af00; text-decoration-color: #00af00\">526,848</span> │\n",
       "├─────────────────────────────────┼────────────────────────┼───────────────┤\n",
       "│ batch_normalization_34          │ (<span style=\"color: #00d7ff; text-decoration-color: #00d7ff\">None</span>, <span style=\"color: #00af00; text-decoration-color: #00af00\">512</span>)            │         <span style=\"color: #00af00; text-decoration-color: #00af00\">2,048</span> │\n",
       "│ (<span style=\"color: #0087ff; text-decoration-color: #0087ff\">BatchNormalization</span>)            │                        │               │\n",
       "├─────────────────────────────────┼────────────────────────┼───────────────┤\n",
       "│ dropout_34 (<span style=\"color: #0087ff; text-decoration-color: #0087ff\">Dropout</span>)            │ (<span style=\"color: #00d7ff; text-decoration-color: #00d7ff\">None</span>, <span style=\"color: #00af00; text-decoration-color: #00af00\">512</span>)            │             <span style=\"color: #00af00; text-decoration-color: #00af00\">0</span> │\n",
       "├─────────────────────────────────┼────────────────────────┼───────────────┤\n",
       "│ dense_46 (<span style=\"color: #0087ff; text-decoration-color: #0087ff\">Dense</span>)                │ (<span style=\"color: #00d7ff; text-decoration-color: #00d7ff\">None</span>, <span style=\"color: #00af00; text-decoration-color: #00af00\">256</span>)            │       <span style=\"color: #00af00; text-decoration-color: #00af00\">131,328</span> │\n",
       "├─────────────────────────────────┼────────────────────────┼───────────────┤\n",
       "│ batch_normalization_35          │ (<span style=\"color: #00d7ff; text-decoration-color: #00d7ff\">None</span>, <span style=\"color: #00af00; text-decoration-color: #00af00\">256</span>)            │         <span style=\"color: #00af00; text-decoration-color: #00af00\">1,024</span> │\n",
       "│ (<span style=\"color: #0087ff; text-decoration-color: #0087ff\">BatchNormalization</span>)            │                        │               │\n",
       "├─────────────────────────────────┼────────────────────────┼───────────────┤\n",
       "│ dropout_35 (<span style=\"color: #0087ff; text-decoration-color: #0087ff\">Dropout</span>)            │ (<span style=\"color: #00d7ff; text-decoration-color: #00d7ff\">None</span>, <span style=\"color: #00af00; text-decoration-color: #00af00\">256</span>)            │             <span style=\"color: #00af00; text-decoration-color: #00af00\">0</span> │\n",
       "├─────────────────────────────────┼────────────────────────┼───────────────┤\n",
       "│ dense_47 (<span style=\"color: #0087ff; text-decoration-color: #0087ff\">Dense</span>)                │ (<span style=\"color: #00d7ff; text-decoration-color: #00d7ff\">None</span>, <span style=\"color: #00af00; text-decoration-color: #00af00\">8</span>)              │         <span style=\"color: #00af00; text-decoration-color: #00af00\">2,056</span> │\n",
       "└─────────────────────────────────┴────────────────────────┴───────────────┘\n",
       "</pre>\n"
      ],
      "text/plain": [
       "┏━━━━━━━━━━━━━━━━━━━━━━━━━━━━━━━━━┳━━━━━━━━━━━━━━━━━━━━━━━━┳━━━━━━━━━━━━━━━┓\n",
       "┃\u001b[1m \u001b[0m\u001b[1mLayer (type)                   \u001b[0m\u001b[1m \u001b[0m┃\u001b[1m \u001b[0m\u001b[1mOutput Shape          \u001b[0m\u001b[1m \u001b[0m┃\u001b[1m \u001b[0m\u001b[1m      Param #\u001b[0m\u001b[1m \u001b[0m┃\n",
       "┡━━━━━━━━━━━━━━━━━━━━━━━━━━━━━━━━━╇━━━━━━━━━━━━━━━━━━━━━━━━╇━━━━━━━━━━━━━━━┩\n",
       "│ dense_44 (\u001b[38;5;33mDense\u001b[0m)                │ (\u001b[38;5;45mNone\u001b[0m, \u001b[38;5;34m1028\u001b[0m)           │       \u001b[38;5;34m227,188\u001b[0m │\n",
       "├─────────────────────────────────┼────────────────────────┼───────────────┤\n",
       "│ batch_normalization_33          │ (\u001b[38;5;45mNone\u001b[0m, \u001b[38;5;34m1028\u001b[0m)           │         \u001b[38;5;34m4,112\u001b[0m │\n",
       "│ (\u001b[38;5;33mBatchNormalization\u001b[0m)            │                        │               │\n",
       "├─────────────────────────────────┼────────────────────────┼───────────────┤\n",
       "│ dropout_33 (\u001b[38;5;33mDropout\u001b[0m)            │ (\u001b[38;5;45mNone\u001b[0m, \u001b[38;5;34m1028\u001b[0m)           │             \u001b[38;5;34m0\u001b[0m │\n",
       "├─────────────────────────────────┼────────────────────────┼───────────────┤\n",
       "│ dense_45 (\u001b[38;5;33mDense\u001b[0m)                │ (\u001b[38;5;45mNone\u001b[0m, \u001b[38;5;34m512\u001b[0m)            │       \u001b[38;5;34m526,848\u001b[0m │\n",
       "├─────────────────────────────────┼────────────────────────┼───────────────┤\n",
       "│ batch_normalization_34          │ (\u001b[38;5;45mNone\u001b[0m, \u001b[38;5;34m512\u001b[0m)            │         \u001b[38;5;34m2,048\u001b[0m │\n",
       "│ (\u001b[38;5;33mBatchNormalization\u001b[0m)            │                        │               │\n",
       "├─────────────────────────────────┼────────────────────────┼───────────────┤\n",
       "│ dropout_34 (\u001b[38;5;33mDropout\u001b[0m)            │ (\u001b[38;5;45mNone\u001b[0m, \u001b[38;5;34m512\u001b[0m)            │             \u001b[38;5;34m0\u001b[0m │\n",
       "├─────────────────────────────────┼────────────────────────┼───────────────┤\n",
       "│ dense_46 (\u001b[38;5;33mDense\u001b[0m)                │ (\u001b[38;5;45mNone\u001b[0m, \u001b[38;5;34m256\u001b[0m)            │       \u001b[38;5;34m131,328\u001b[0m │\n",
       "├─────────────────────────────────┼────────────────────────┼───────────────┤\n",
       "│ batch_normalization_35          │ (\u001b[38;5;45mNone\u001b[0m, \u001b[38;5;34m256\u001b[0m)            │         \u001b[38;5;34m1,024\u001b[0m │\n",
       "│ (\u001b[38;5;33mBatchNormalization\u001b[0m)            │                        │               │\n",
       "├─────────────────────────────────┼────────────────────────┼───────────────┤\n",
       "│ dropout_35 (\u001b[38;5;33mDropout\u001b[0m)            │ (\u001b[38;5;45mNone\u001b[0m, \u001b[38;5;34m256\u001b[0m)            │             \u001b[38;5;34m0\u001b[0m │\n",
       "├─────────────────────────────────┼────────────────────────┼───────────────┤\n",
       "│ dense_47 (\u001b[38;5;33mDense\u001b[0m)                │ (\u001b[38;5;45mNone\u001b[0m, \u001b[38;5;34m8\u001b[0m)              │         \u001b[38;5;34m2,056\u001b[0m │\n",
       "└─────────────────────────────────┴────────────────────────┴───────────────┘\n"
      ]
     },
     "metadata": {},
     "output_type": "display_data"
    },
    {
     "data": {
      "text/html": [
       "<pre style=\"white-space:pre;overflow-x:auto;line-height:normal;font-family:Menlo,'DejaVu Sans Mono',consolas,'Courier New',monospace\"><span style=\"font-weight: bold\"> Total params: </span><span style=\"color: #00af00; text-decoration-color: #00af00\">894,604</span> (3.41 MB)\n",
       "</pre>\n"
      ],
      "text/plain": [
       "\u001b[1m Total params: \u001b[0m\u001b[38;5;34m894,604\u001b[0m (3.41 MB)\n"
      ]
     },
     "metadata": {},
     "output_type": "display_data"
    },
    {
     "data": {
      "text/html": [
       "<pre style=\"white-space:pre;overflow-x:auto;line-height:normal;font-family:Menlo,'DejaVu Sans Mono',consolas,'Courier New',monospace\"><span style=\"font-weight: bold\"> Trainable params: </span><span style=\"color: #00af00; text-decoration-color: #00af00\">891,012</span> (3.40 MB)\n",
       "</pre>\n"
      ],
      "text/plain": [
       "\u001b[1m Trainable params: \u001b[0m\u001b[38;5;34m891,012\u001b[0m (3.40 MB)\n"
      ]
     },
     "metadata": {},
     "output_type": "display_data"
    },
    {
     "data": {
      "text/html": [
       "<pre style=\"white-space:pre;overflow-x:auto;line-height:normal;font-family:Menlo,'DejaVu Sans Mono',consolas,'Courier New',monospace\"><span style=\"font-weight: bold\"> Non-trainable params: </span><span style=\"color: #00af00; text-decoration-color: #00af00\">3,592</span> (14.03 KB)\n",
       "</pre>\n"
      ],
      "text/plain": [
       "\u001b[1m Non-trainable params: \u001b[0m\u001b[38;5;34m3,592\u001b[0m (14.03 KB)\n"
      ]
     },
     "metadata": {},
     "output_type": "display_data"
    }
   ],
   "source": [
    "model = build_mlp_model()\n",
    "model.summary()"
   ]
  },
  {
   "cell_type": "code",
   "execution_count": 241,
   "id": "833c0250",
   "metadata": {},
   "outputs": [
    {
     "name": "stdout",
     "output_type": "stream",
     "text": [
      "Epoch 1/150\n",
      "\u001b[1m1191/1191\u001b[0m \u001b[32m━━━━━━━━━━━━━━━━━━━━\u001b[0m\u001b[37m\u001b[0m \u001b[1m11s\u001b[0m 8ms/step - accuracy: 0.1852 - loss: 2.3052 - val_accuracy: 0.2187 - val_loss: 2.0228 - learning_rate: 0.0010\n",
      "Epoch 2/150\n",
      "\u001b[1m1191/1191\u001b[0m \u001b[32m━━━━━━━━━━━━━━━━━━━━\u001b[0m\u001b[37m\u001b[0m \u001b[1m9s\u001b[0m 7ms/step - accuracy: 0.2156 - loss: 2.0280 - val_accuracy: 0.2234 - val_loss: 1.9871 - learning_rate: 0.0010\n",
      "Epoch 3/150\n",
      "\u001b[1m1191/1191\u001b[0m \u001b[32m━━━━━━━━━━━━━━━━━━━━\u001b[0m\u001b[37m\u001b[0m \u001b[1m9s\u001b[0m 7ms/step - accuracy: 0.2228 - loss: 1.9842 - val_accuracy: 0.2247 - val_loss: 1.9642 - learning_rate: 0.0010\n",
      "Epoch 4/150\n",
      "\u001b[1m1191/1191\u001b[0m \u001b[32m━━━━━━━━━━━━━━━━━━━━\u001b[0m\u001b[37m\u001b[0m \u001b[1m9s\u001b[0m 7ms/step - accuracy: 0.2253 - loss: 1.9624 - val_accuracy: 0.2269 - val_loss: 1.9495 - learning_rate: 0.0010\n",
      "Epoch 5/150\n",
      "\u001b[1m1191/1191\u001b[0m \u001b[32m━━━━━━━━━━━━━━━━━━━━\u001b[0m\u001b[37m\u001b[0m \u001b[1m9s\u001b[0m 7ms/step - accuracy: 0.2289 - loss: 1.9477 - val_accuracy: 0.2260 - val_loss: 1.9436 - learning_rate: 0.0010\n",
      "Epoch 6/150\n",
      "\u001b[1m1191/1191\u001b[0m \u001b[32m━━━━━━━━━━━━━━━━━━━━\u001b[0m\u001b[37m\u001b[0m \u001b[1m8s\u001b[0m 7ms/step - accuracy: 0.2260 - loss: 1.9437 - val_accuracy: 0.2318 - val_loss: 1.9420 - learning_rate: 0.0010\n",
      "Epoch 7/150\n",
      "\u001b[1m1191/1191\u001b[0m \u001b[32m━━━━━━━━━━━━━━━━━━━━\u001b[0m\u001b[37m\u001b[0m \u001b[1m9s\u001b[0m 7ms/step - accuracy: 0.2301 - loss: 1.9385 - val_accuracy: 0.2261 - val_loss: 1.9387 - learning_rate: 0.0010\n",
      "Epoch 8/150\n",
      "\u001b[1m1191/1191\u001b[0m \u001b[32m━━━━━━━━━━━━━━━━━━━━\u001b[0m\u001b[37m\u001b[0m \u001b[1m9s\u001b[0m 8ms/step - accuracy: 0.2310 - loss: 1.9379 - val_accuracy: 0.2332 - val_loss: 1.9350 - learning_rate: 0.0010\n",
      "Epoch 9/150\n",
      "\u001b[1m1191/1191\u001b[0m \u001b[32m━━━━━━━━━━━━━━━━━━━━\u001b[0m\u001b[37m\u001b[0m \u001b[1m9s\u001b[0m 8ms/step - accuracy: 0.2352 - loss: 1.9335 - val_accuracy: 0.2385 - val_loss: 1.9287 - learning_rate: 0.0010\n",
      "Epoch 10/150\n",
      "\u001b[1m1191/1191\u001b[0m \u001b[32m━━━━━━━━━━━━━━━━━━━━\u001b[0m\u001b[37m\u001b[0m \u001b[1m9s\u001b[0m 8ms/step - accuracy: 0.2396 - loss: 1.9291 - val_accuracy: 0.2385 - val_loss: 1.9274 - learning_rate: 0.0010\n",
      "Epoch 11/150\n",
      "\u001b[1m1191/1191\u001b[0m \u001b[32m━━━━━━━━━━━━━━━━━━━━\u001b[0m\u001b[37m\u001b[0m \u001b[1m9s\u001b[0m 8ms/step - accuracy: 0.2412 - loss: 1.9237 - val_accuracy: 0.2403 - val_loss: 1.9319 - learning_rate: 0.0010\n",
      "Epoch 12/150\n",
      "\u001b[1m1191/1191\u001b[0m \u001b[32m━━━━━━━━━━━━━━━━━━━━\u001b[0m\u001b[37m\u001b[0m \u001b[1m9s\u001b[0m 7ms/step - accuracy: 0.2417 - loss: 1.9249 - val_accuracy: 0.2419 - val_loss: 1.9282 - learning_rate: 0.0010\n",
      "Epoch 13/150\n",
      "\u001b[1m1191/1191\u001b[0m \u001b[32m━━━━━━━━━━━━━━━━━━━━\u001b[0m\u001b[37m\u001b[0m \u001b[1m9s\u001b[0m 7ms/step - accuracy: 0.2453 - loss: 1.9195 - val_accuracy: 0.2447 - val_loss: 1.9255 - learning_rate: 0.0010\n",
      "Epoch 14/150\n",
      "\u001b[1m1191/1191\u001b[0m \u001b[32m━━━━━━━━━━━━━━━━━━━━\u001b[0m\u001b[37m\u001b[0m \u001b[1m9s\u001b[0m 8ms/step - accuracy: 0.2492 - loss: 1.9161 - val_accuracy: 0.2405 - val_loss: 1.9279 - learning_rate: 0.0010\n",
      "Epoch 15/150\n",
      "\u001b[1m1191/1191\u001b[0m \u001b[32m━━━━━━━━━━━━━━━━━━━━\u001b[0m\u001b[37m\u001b[0m \u001b[1m10s\u001b[0m 8ms/step - accuracy: 0.2504 - loss: 1.9123 - val_accuracy: 0.2472 - val_loss: 1.9188 - learning_rate: 0.0010\n",
      "Epoch 16/150\n",
      "\u001b[1m1191/1191\u001b[0m \u001b[32m━━━━━━━━━━━━━━━━━━━━\u001b[0m\u001b[37m\u001b[0m \u001b[1m9s\u001b[0m 7ms/step - accuracy: 0.2511 - loss: 1.9084 - val_accuracy: 0.2494 - val_loss: 1.9204 - learning_rate: 0.0010\n",
      "Epoch 17/150\n",
      "\u001b[1m1191/1191\u001b[0m \u001b[32m━━━━━━━━━━━━━━━━━━━━\u001b[0m\u001b[37m\u001b[0m \u001b[1m8s\u001b[0m 7ms/step - accuracy: 0.2539 - loss: 1.9077 - val_accuracy: 0.2454 - val_loss: 1.9213 - learning_rate: 0.0010\n",
      "Epoch 18/150\n",
      "\u001b[1m1191/1191\u001b[0m \u001b[32m━━━━━━━━━━━━━━━━━━━━\u001b[0m\u001b[37m\u001b[0m \u001b[1m9s\u001b[0m 8ms/step - accuracy: 0.2588 - loss: 1.9042 - val_accuracy: 0.2507 - val_loss: 1.9133 - learning_rate: 0.0010\n",
      "Epoch 19/150\n",
      "\u001b[1m1191/1191\u001b[0m \u001b[32m━━━━━━━━━━━━━━━━━━━━\u001b[0m\u001b[37m\u001b[0m \u001b[1m347s\u001b[0m 292ms/step - accuracy: 0.2566 - loss: 1.9044 - val_accuracy: 0.2508 - val_loss: 1.9160 - learning_rate: 0.0010\n",
      "Epoch 20/150\n",
      "\u001b[1m1191/1191\u001b[0m \u001b[32m━━━━━━━━━━━━━━━━━━━━\u001b[0m\u001b[37m\u001b[0m \u001b[1m9s\u001b[0m 8ms/step - accuracy: 0.2591 - loss: 1.9010 - val_accuracy: 0.2527 - val_loss: 1.9141 - learning_rate: 0.0010\n",
      "Epoch 21/150\n",
      "\u001b[1m1191/1191\u001b[0m \u001b[32m━━━━━━━━━━━━━━━━━━━━\u001b[0m\u001b[37m\u001b[0m \u001b[1m9s\u001b[0m 7ms/step - accuracy: 0.2601 - loss: 1.8994 - val_accuracy: 0.2526 - val_loss: 1.9114 - learning_rate: 0.0010\n",
      "Epoch 22/150\n",
      "\u001b[1m1191/1191\u001b[0m \u001b[32m━━━━━━━━━━━━━━━━━━━━\u001b[0m\u001b[37m\u001b[0m \u001b[1m9s\u001b[0m 7ms/step - accuracy: 0.2590 - loss: 1.8982 - val_accuracy: 0.2578 - val_loss: 1.9090 - learning_rate: 0.0010\n",
      "Epoch 23/150\n",
      "\u001b[1m1191/1191\u001b[0m \u001b[32m━━━━━━━━━━━━━━━━━━━━\u001b[0m\u001b[37m\u001b[0m \u001b[1m9s\u001b[0m 7ms/step - accuracy: 0.2625 - loss: 1.8944 - val_accuracy: 0.2531 - val_loss: 1.9086 - learning_rate: 0.0010\n",
      "Epoch 24/150\n",
      "\u001b[1m1191/1191\u001b[0m \u001b[32m━━━━━━━━━━━━━━━━━━━━\u001b[0m\u001b[37m\u001b[0m \u001b[1m10s\u001b[0m 8ms/step - accuracy: 0.2609 - loss: 1.8974 - val_accuracy: 0.2550 - val_loss: 1.9067 - learning_rate: 0.0010\n",
      "Epoch 25/150\n",
      "\u001b[1m1191/1191\u001b[0m \u001b[32m━━━━━━━━━━━━━━━━━━━━\u001b[0m\u001b[37m\u001b[0m \u001b[1m9s\u001b[0m 7ms/step - accuracy: 0.2642 - loss: 1.8918 - val_accuracy: 0.2544 - val_loss: 1.9115 - learning_rate: 0.0010\n",
      "Epoch 26/150\n",
      "\u001b[1m1191/1191\u001b[0m \u001b[32m━━━━━━━━━━━━━━━━━━━━\u001b[0m\u001b[37m\u001b[0m \u001b[1m8s\u001b[0m 7ms/step - accuracy: 0.2632 - loss: 1.8950 - val_accuracy: 0.2566 - val_loss: 1.9067 - learning_rate: 0.0010\n",
      "Epoch 27/150\n",
      "\u001b[1m1191/1191\u001b[0m \u001b[32m━━━━━━━━━━━━━━━━━━━━\u001b[0m\u001b[37m\u001b[0m \u001b[1m8s\u001b[0m 7ms/step - accuracy: 0.2658 - loss: 1.8914 - val_accuracy: 0.2541 - val_loss: 1.9063 - learning_rate: 0.0010\n",
      "Epoch 28/150\n",
      "\u001b[1m1191/1191\u001b[0m \u001b[32m━━━━━━━━━━━━━━━━━━━━\u001b[0m\u001b[37m\u001b[0m \u001b[1m8s\u001b[0m 7ms/step - accuracy: 0.2697 - loss: 1.8853 - val_accuracy: 0.2565 - val_loss: 1.9023 - learning_rate: 0.0010\n",
      "Epoch 29/150\n",
      "\u001b[1m1191/1191\u001b[0m \u001b[32m━━━━━━━━━━━━━━━━━━━━\u001b[0m\u001b[37m\u001b[0m \u001b[1m9s\u001b[0m 8ms/step - accuracy: 0.2680 - loss: 1.8859 - val_accuracy: 0.2570 - val_loss: 1.9058 - learning_rate: 0.0010\n",
      "Epoch 30/150\n",
      "\u001b[1m1191/1191\u001b[0m \u001b[32m━━━━━━━━━━━━━━━━━━━━\u001b[0m\u001b[37m\u001b[0m \u001b[1m9s\u001b[0m 7ms/step - accuracy: 0.2668 - loss: 1.8866 - val_accuracy: 0.2594 - val_loss: 1.9050 - learning_rate: 0.0010\n",
      "Epoch 31/150\n",
      "\u001b[1m1191/1191\u001b[0m \u001b[32m━━━━━━━━━━━━━━━━━━━━\u001b[0m\u001b[37m\u001b[0m \u001b[1m9s\u001b[0m 7ms/step - accuracy: 0.2675 - loss: 1.8849 - val_accuracy: 0.2559 - val_loss: 1.9040 - learning_rate: 0.0010\n",
      "Epoch 32/150\n",
      "\u001b[1m1191/1191\u001b[0m \u001b[32m━━━━━━━━━━━━━━━━━━━━\u001b[0m\u001b[37m\u001b[0m \u001b[1m9s\u001b[0m 7ms/step - accuracy: 0.2690 - loss: 1.8838 - val_accuracy: 0.2614 - val_loss: 1.9014 - learning_rate: 0.0010\n",
      "Epoch 33/150\n",
      "\u001b[1m1191/1191\u001b[0m \u001b[32m━━━━━━━━━━━━━━━━━━━━\u001b[0m\u001b[37m\u001b[0m \u001b[1m9s\u001b[0m 7ms/step - accuracy: 0.2692 - loss: 1.8819 - val_accuracy: 0.2597 - val_loss: 1.9030 - learning_rate: 0.0010\n",
      "Epoch 34/150\n",
      "\u001b[1m1191/1191\u001b[0m \u001b[32m━━━━━━━━━━━━━━━━━━━━\u001b[0m\u001b[37m\u001b[0m \u001b[1m9s\u001b[0m 8ms/step - accuracy: 0.2706 - loss: 1.8842 - val_accuracy: 0.2592 - val_loss: 1.9014 - learning_rate: 0.0010\n",
      "Epoch 35/150\n",
      "\u001b[1m1191/1191\u001b[0m \u001b[32m━━━━━━━━━━━━━━━━━━━━\u001b[0m\u001b[37m\u001b[0m \u001b[1m9s\u001b[0m 7ms/step - accuracy: 0.2681 - loss: 1.8830 - val_accuracy: 0.2572 - val_loss: 1.9048 - learning_rate: 0.0010\n",
      "Epoch 36/150\n",
      "\u001b[1m1191/1191\u001b[0m \u001b[32m━━━━━━━━━━━━━━━━━━━━\u001b[0m\u001b[37m\u001b[0m \u001b[1m9s\u001b[0m 7ms/step - accuracy: 0.2708 - loss: 1.8836 - val_accuracy: 0.2635 - val_loss: 1.9010 - learning_rate: 0.0010\n",
      "Epoch 37/150\n",
      "\u001b[1m1191/1191\u001b[0m \u001b[32m━━━━━━━━━━━━━━━━━━━━\u001b[0m\u001b[37m\u001b[0m \u001b[1m9s\u001b[0m 7ms/step - accuracy: 0.2719 - loss: 1.8816 - val_accuracy: 0.2622 - val_loss: 1.9029 - learning_rate: 0.0010\n",
      "Epoch 38/150\n",
      "\u001b[1m1191/1191\u001b[0m \u001b[32m━━━━━━━━━━━━━━━━━━━━\u001b[0m\u001b[37m\u001b[0m \u001b[1m9s\u001b[0m 7ms/step - accuracy: 0.2720 - loss: 1.8809 - val_accuracy: 0.2613 - val_loss: 1.9022 - learning_rate: 0.0010\n",
      "Epoch 39/150\n",
      "\u001b[1m1191/1191\u001b[0m \u001b[32m━━━━━━━━━━━━━━━━━━━━\u001b[0m\u001b[37m\u001b[0m \u001b[1m9s\u001b[0m 7ms/step - accuracy: 0.2739 - loss: 1.8782 - val_accuracy: 0.2627 - val_loss: 1.8981 - learning_rate: 0.0010\n",
      "Epoch 40/150\n",
      "\u001b[1m1191/1191\u001b[0m \u001b[32m━━━━━━━━━━━━━━━━━━━━\u001b[0m\u001b[37m\u001b[0m \u001b[1m9s\u001b[0m 7ms/step - accuracy: 0.2757 - loss: 1.8777 - val_accuracy: 0.2634 - val_loss: 1.9010 - learning_rate: 0.0010\n",
      "Epoch 41/150\n",
      "\u001b[1m1191/1191\u001b[0m \u001b[32m━━━━━━━━━━━━━━━━━━━━\u001b[0m\u001b[37m\u001b[0m \u001b[1m9s\u001b[0m 8ms/step - accuracy: 0.2744 - loss: 1.8787 - val_accuracy: 0.2623 - val_loss: 1.8971 - learning_rate: 0.0010\n",
      "Epoch 42/150\n",
      "\u001b[1m1191/1191\u001b[0m \u001b[32m━━━━━━━━━━━━━━━━━━━━\u001b[0m\u001b[37m\u001b[0m \u001b[1m9s\u001b[0m 7ms/step - accuracy: 0.2755 - loss: 1.8765 - val_accuracy: 0.2612 - val_loss: 1.8987 - learning_rate: 0.0010\n",
      "Epoch 43/150\n",
      "\u001b[1m1191/1191\u001b[0m \u001b[32m━━━━━━━━━━━━━━━━━━━━\u001b[0m\u001b[37m\u001b[0m \u001b[1m9s\u001b[0m 7ms/step - accuracy: 0.2761 - loss: 1.8768 - val_accuracy: 0.2645 - val_loss: 1.8987 - learning_rate: 0.0010\n",
      "Epoch 44/150\n",
      "\u001b[1m1191/1191\u001b[0m \u001b[32m━━━━━━━━━━━━━━━━━━━━\u001b[0m\u001b[37m\u001b[0m \u001b[1m9s\u001b[0m 7ms/step - accuracy: 0.2752 - loss: 1.8758 - val_accuracy: 0.2604 - val_loss: 1.8988 - learning_rate: 0.0010\n",
      "Epoch 45/150\n",
      "\u001b[1m1191/1191\u001b[0m \u001b[32m━━━━━━━━━━━━━━━━━━━━\u001b[0m\u001b[37m\u001b[0m \u001b[1m9s\u001b[0m 7ms/step - accuracy: 0.2733 - loss: 1.8762 - val_accuracy: 0.2661 - val_loss: 1.8956 - learning_rate: 0.0010\n",
      "Epoch 46/150\n",
      "\u001b[1m1191/1191\u001b[0m \u001b[32m━━━━━━━━━━━━━━━━━━━━\u001b[0m\u001b[37m\u001b[0m \u001b[1m9s\u001b[0m 7ms/step - accuracy: 0.2763 - loss: 1.8736 - val_accuracy: 0.2660 - val_loss: 1.8956 - learning_rate: 0.0010\n",
      "Epoch 47/150\n",
      "\u001b[1m1191/1191\u001b[0m \u001b[32m━━━━━━━━━━━━━━━━━━━━\u001b[0m\u001b[37m\u001b[0m \u001b[1m9s\u001b[0m 7ms/step - accuracy: 0.2750 - loss: 1.8752 - val_accuracy: 0.2648 - val_loss: 1.8999 - learning_rate: 0.0010\n",
      "Epoch 48/150\n",
      "\u001b[1m1191/1191\u001b[0m \u001b[32m━━━━━━━━━━━━━━━━━━━━\u001b[0m\u001b[37m\u001b[0m \u001b[1m9s\u001b[0m 7ms/step - accuracy: 0.2759 - loss: 1.8736 - val_accuracy: 0.2686 - val_loss: 1.8983 - learning_rate: 0.0010\n",
      "Epoch 49/150\n",
      "\u001b[1m1191/1191\u001b[0m \u001b[32m━━━━━━━━━━━━━━━━━━━━\u001b[0m\u001b[37m\u001b[0m \u001b[1m8s\u001b[0m 7ms/step - accuracy: 0.2772 - loss: 1.8730 - val_accuracy: 0.2672 - val_loss: 1.8961 - learning_rate: 0.0010\n",
      "Epoch 50/150\n",
      "\u001b[1m1190/1191\u001b[0m \u001b[32m━━━━━━━━━━━━━━━━━━━\u001b[0m\u001b[37m━\u001b[0m \u001b[1m0s\u001b[0m 7ms/step - accuracy: 0.2759 - loss: 1.8716\n",
      "Epoch 50: ReduceLROnPlateau reducing learning rate to 0.0005000000237487257.\n",
      "\u001b[1m1191/1191\u001b[0m \u001b[32m━━━━━━━━━━━━━━━━━━━━\u001b[0m\u001b[37m\u001b[0m \u001b[1m9s\u001b[0m 7ms/step - accuracy: 0.2759 - loss: 1.8716 - val_accuracy: 0.2665 - val_loss: 1.8963 - learning_rate: 0.0010\n",
      "Epoch 51/150\n",
      "\u001b[1m1191/1191\u001b[0m \u001b[32m━━━━━━━━━━━━━━━━━━━━\u001b[0m\u001b[37m\u001b[0m \u001b[1m8s\u001b[0m 7ms/step - accuracy: 0.2871 - loss: 1.8492 - val_accuracy: 0.2768 - val_loss: 1.8736 - learning_rate: 5.0000e-04\n",
      "Epoch 52/150\n",
      "\u001b[1m1191/1191\u001b[0m \u001b[32m━━━━━━━━━━━━━━━━━━━━\u001b[0m\u001b[37m\u001b[0m \u001b[1m9s\u001b[0m 7ms/step - accuracy: 0.2939 - loss: 1.8346 - val_accuracy: 0.2786 - val_loss: 1.8680 - learning_rate: 5.0000e-04\n",
      "Epoch 53/150\n",
      "\u001b[1m1191/1191\u001b[0m \u001b[32m━━━━━━━━━━━━━━━━━━━━\u001b[0m\u001b[37m\u001b[0m \u001b[1m9s\u001b[0m 8ms/step - accuracy: 0.2952 - loss: 1.8209 - val_accuracy: 0.2801 - val_loss: 1.8640 - learning_rate: 5.0000e-04\n",
      "Epoch 54/150\n",
      "\u001b[1m1191/1191\u001b[0m \u001b[32m━━━━━━━━━━━━━━━━━━━━\u001b[0m\u001b[37m\u001b[0m \u001b[1m9s\u001b[0m 8ms/step - accuracy: 0.2982 - loss: 1.8153 - val_accuracy: 0.2809 - val_loss: 1.8613 - learning_rate: 5.0000e-04\n",
      "Epoch 55/150\n",
      "\u001b[1m1191/1191\u001b[0m \u001b[32m━━━━━━━━━━━━━━━━━━━━\u001b[0m\u001b[37m\u001b[0m \u001b[1m9s\u001b[0m 8ms/step - accuracy: 0.3017 - loss: 1.8136 - val_accuracy: 0.2854 - val_loss: 1.8587 - learning_rate: 5.0000e-04\n",
      "Epoch 56/150\n",
      "\u001b[1m1191/1191\u001b[0m \u001b[32m━━━━━━━━━━━━━━━━━━━━\u001b[0m\u001b[37m\u001b[0m \u001b[1m9s\u001b[0m 7ms/step - accuracy: 0.3079 - loss: 1.8052 - val_accuracy: 0.2839 - val_loss: 1.8577 - learning_rate: 5.0000e-04\n",
      "Epoch 57/150\n",
      "\u001b[1m1191/1191\u001b[0m \u001b[32m━━━━━━━━━━━━━━━━━━━━\u001b[0m\u001b[37m\u001b[0m \u001b[1m9s\u001b[0m 7ms/step - accuracy: 0.3045 - loss: 1.8028 - val_accuracy: 0.2844 - val_loss: 1.8575 - learning_rate: 5.0000e-04\n",
      "Epoch 58/150\n",
      "\u001b[1m1191/1191\u001b[0m \u001b[32m━━━━━━━━━━━━━━━━━━━━\u001b[0m\u001b[37m\u001b[0m \u001b[1m9s\u001b[0m 7ms/step - accuracy: 0.3055 - loss: 1.8029 - val_accuracy: 0.2835 - val_loss: 1.8560 - learning_rate: 5.0000e-04\n",
      "Epoch 59/150\n",
      "\u001b[1m1191/1191\u001b[0m \u001b[32m━━━━━━━━━━━━━━━━━━━━\u001b[0m\u001b[37m\u001b[0m \u001b[1m9s\u001b[0m 7ms/step - accuracy: 0.3086 - loss: 1.8001 - val_accuracy: 0.2823 - val_loss: 1.8572 - learning_rate: 5.0000e-04\n",
      "Epoch 60/150\n",
      "\u001b[1m1191/1191\u001b[0m \u001b[32m━━━━━━━━━━━━━━━━━━━━\u001b[0m\u001b[37m\u001b[0m \u001b[1m9s\u001b[0m 7ms/step - accuracy: 0.3082 - loss: 1.7977 - val_accuracy: 0.2853 - val_loss: 1.8559 - learning_rate: 5.0000e-04\n",
      "Epoch 61/150\n",
      "\u001b[1m1191/1191\u001b[0m \u001b[32m━━━━━━━━━━━━━━━━━━━━\u001b[0m\u001b[37m\u001b[0m \u001b[1m9s\u001b[0m 7ms/step - accuracy: 0.3099 - loss: 1.7966 - val_accuracy: 0.2848 - val_loss: 1.8560 - learning_rate: 5.0000e-04\n",
      "Epoch 62/150\n",
      "\u001b[1m1191/1191\u001b[0m \u001b[32m━━━━━━━━━━━━━━━━━━━━\u001b[0m\u001b[37m\u001b[0m \u001b[1m9s\u001b[0m 8ms/step - accuracy: 0.3099 - loss: 1.7918 - val_accuracy: 0.2853 - val_loss: 1.8563 - learning_rate: 5.0000e-04\n",
      "Epoch 63/150\n",
      "\u001b[1m1189/1191\u001b[0m \u001b[32m━━━━━━━━━━━━━━━━━━━\u001b[0m\u001b[37m━\u001b[0m \u001b[1m0s\u001b[0m 7ms/step - accuracy: 0.3100 - loss: 1.7923\n",
      "Epoch 63: ReduceLROnPlateau reducing learning rate to 0.0002500000118743628.\n",
      "\u001b[1m1191/1191\u001b[0m \u001b[32m━━━━━━━━━━━━━━━━━━━━\u001b[0m\u001b[37m\u001b[0m \u001b[1m9s\u001b[0m 7ms/step - accuracy: 0.3100 - loss: 1.7923 - val_accuracy: 0.2827 - val_loss: 1.8572 - learning_rate: 5.0000e-04\n",
      "Epoch 64/150\n",
      "\u001b[1m1191/1191\u001b[0m \u001b[32m━━━━━━━━━━━━━━━━━━━━\u001b[0m\u001b[37m\u001b[0m \u001b[1m9s\u001b[0m 7ms/step - accuracy: 0.3149 - loss: 1.7769 - val_accuracy: 0.2917 - val_loss: 1.8443 - learning_rate: 2.5000e-04\n",
      "Epoch 65/150\n",
      "\u001b[1m1191/1191\u001b[0m \u001b[32m━━━━━━━━━━━━━━━━━━━━\u001b[0m\u001b[37m\u001b[0m \u001b[1m9s\u001b[0m 7ms/step - accuracy: 0.3241 - loss: 1.7607 - val_accuracy: 0.2926 - val_loss: 1.8429 - learning_rate: 2.5000e-04\n",
      "Epoch 66/150\n",
      "\u001b[1m1191/1191\u001b[0m \u001b[32m━━━━━━━━━━━━━━━━━━━━\u001b[0m\u001b[37m\u001b[0m \u001b[1m9s\u001b[0m 7ms/step - accuracy: 0.3266 - loss: 1.7563 - val_accuracy: 0.2942 - val_loss: 1.8404 - learning_rate: 2.5000e-04\n",
      "Epoch 67/150\n",
      "\u001b[1m1191/1191\u001b[0m \u001b[32m━━━━━━━━━━━━━━━━━━━━\u001b[0m\u001b[37m\u001b[0m \u001b[1m9s\u001b[0m 7ms/step - accuracy: 0.3314 - loss: 1.7497 - val_accuracy: 0.2946 - val_loss: 1.8359 - learning_rate: 2.5000e-04\n",
      "Epoch 68/150\n",
      "\u001b[1m1191/1191\u001b[0m \u001b[32m━━━━━━━━━━━━━━━━━━━━\u001b[0m\u001b[37m\u001b[0m \u001b[1m9s\u001b[0m 7ms/step - accuracy: 0.3301 - loss: 1.7429 - val_accuracy: 0.2958 - val_loss: 1.8376 - learning_rate: 2.5000e-04\n",
      "Epoch 69/150\n",
      "\u001b[1m1191/1191\u001b[0m \u001b[32m━━━━━━━━━━━━━━━━━━━━\u001b[0m\u001b[37m\u001b[0m \u001b[1m9s\u001b[0m 8ms/step - accuracy: 0.3299 - loss: 1.7489 - val_accuracy: 0.2968 - val_loss: 1.8358 - learning_rate: 2.5000e-04\n",
      "Epoch 70/150\n",
      "\u001b[1m1191/1191\u001b[0m \u001b[32m━━━━━━━━━━━━━━━━━━━━\u001b[0m\u001b[37m\u001b[0m \u001b[1m9s\u001b[0m 8ms/step - accuracy: 0.3306 - loss: 1.7376 - val_accuracy: 0.2992 - val_loss: 1.8354 - learning_rate: 2.5000e-04\n",
      "Epoch 71/150\n",
      "\u001b[1m1191/1191\u001b[0m \u001b[32m━━━━━━━━━━━━━━━━━━━━\u001b[0m\u001b[37m\u001b[0m \u001b[1m9s\u001b[0m 8ms/step - accuracy: 0.3381 - loss: 1.7327 - val_accuracy: 0.2986 - val_loss: 1.8352 - learning_rate: 2.5000e-04\n",
      "Epoch 72/150\n",
      "\u001b[1m1191/1191\u001b[0m \u001b[32m━━━━━━━━━━━━━━━━━━━━\u001b[0m\u001b[37m\u001b[0m \u001b[1m9s\u001b[0m 8ms/step - accuracy: 0.3336 - loss: 1.7378 - val_accuracy: 0.2983 - val_loss: 1.8361 - learning_rate: 2.5000e-04\n",
      "Epoch 73/150\n",
      "\u001b[1m1191/1191\u001b[0m \u001b[32m━━━━━━━━━━━━━━━━━━━━\u001b[0m\u001b[37m\u001b[0m \u001b[1m9s\u001b[0m 8ms/step - accuracy: 0.3339 - loss: 1.7348 - val_accuracy: 0.3004 - val_loss: 1.8334 - learning_rate: 2.5000e-04\n",
      "Epoch 74/150\n",
      "\u001b[1m1191/1191\u001b[0m \u001b[32m━━━━━━━━━━━━━━━━━━━━\u001b[0m\u001b[37m\u001b[0m \u001b[1m9s\u001b[0m 8ms/step - accuracy: 0.3385 - loss: 1.7299 - val_accuracy: 0.3023 - val_loss: 1.8324 - learning_rate: 2.5000e-04\n",
      "Epoch 75/150\n",
      "\u001b[1m1191/1191\u001b[0m \u001b[32m━━━━━━━━━━━━━━━━━━━━\u001b[0m\u001b[37m\u001b[0m \u001b[1m9s\u001b[0m 8ms/step - accuracy: 0.3371 - loss: 1.7262 - val_accuracy: 0.3001 - val_loss: 1.8317 - learning_rate: 2.5000e-04\n",
      "Epoch 76/150\n",
      "\u001b[1m1191/1191\u001b[0m \u001b[32m━━━━━━━━━━━━━━━━━━━━\u001b[0m\u001b[37m\u001b[0m \u001b[1m9s\u001b[0m 8ms/step - accuracy: 0.3379 - loss: 1.7299 - val_accuracy: 0.3001 - val_loss: 1.8318 - learning_rate: 2.5000e-04\n",
      "Epoch 77/150\n",
      "\u001b[1m1191/1191\u001b[0m \u001b[32m━━━━━━━━━━━━━━━━━━━━\u001b[0m\u001b[37m\u001b[0m \u001b[1m10s\u001b[0m 8ms/step - accuracy: 0.3401 - loss: 1.7248 - val_accuracy: 0.3018 - val_loss: 1.8327 - learning_rate: 2.5000e-04\n",
      "Epoch 78/150\n",
      "\u001b[1m1191/1191\u001b[0m \u001b[32m━━━━━━━━━━━━━━━━━━━━\u001b[0m\u001b[37m\u001b[0m \u001b[1m10s\u001b[0m 8ms/step - accuracy: 0.3391 - loss: 1.7252 - val_accuracy: 0.3013 - val_loss: 1.8331 - learning_rate: 2.5000e-04\n",
      "Epoch 79/150\n",
      "\u001b[1m1191/1191\u001b[0m \u001b[32m━━━━━━━━━━━━━━━━━━━━\u001b[0m\u001b[37m\u001b[0m \u001b[1m9s\u001b[0m 8ms/step - accuracy: 0.3394 - loss: 1.7228 - val_accuracy: 0.3001 - val_loss: 1.8308 - learning_rate: 2.5000e-04\n",
      "Epoch 80/150\n",
      "\u001b[1m1191/1191\u001b[0m \u001b[32m━━━━━━━━━━━━━━━━━━━━\u001b[0m\u001b[37m\u001b[0m \u001b[1m9s\u001b[0m 8ms/step - accuracy: 0.3402 - loss: 1.7213 - val_accuracy: 0.3017 - val_loss: 1.8332 - learning_rate: 2.5000e-04\n",
      "Epoch 81/150\n",
      "\u001b[1m1191/1191\u001b[0m \u001b[32m━━━━━━━━━━━━━━━━━━━━\u001b[0m\u001b[37m\u001b[0m \u001b[1m9s\u001b[0m 8ms/step - accuracy: 0.3422 - loss: 1.7176 - val_accuracy: 0.3037 - val_loss: 1.8333 - learning_rate: 2.5000e-04\n",
      "Epoch 82/150\n",
      "\u001b[1m1191/1191\u001b[0m \u001b[32m━━━━━━━━━━━━━━━━━━━━\u001b[0m\u001b[37m\u001b[0m \u001b[1m9s\u001b[0m 8ms/step - accuracy: 0.3418 - loss: 1.7183 - val_accuracy: 0.3010 - val_loss: 1.8302 - learning_rate: 2.5000e-04\n",
      "Epoch 83/150\n",
      "\u001b[1m1191/1191\u001b[0m \u001b[32m━━━━━━━━━━━━━━━━━━━━\u001b[0m\u001b[37m\u001b[0m \u001b[1m9s\u001b[0m 8ms/step - accuracy: 0.3425 - loss: 1.7160 - val_accuracy: 0.3037 - val_loss: 1.8290 - learning_rate: 2.5000e-04\n",
      "Epoch 84/150\n",
      "\u001b[1m1191/1191\u001b[0m \u001b[32m━━━━━━━━━━━━━━━━━━━━\u001b[0m\u001b[37m\u001b[0m \u001b[1m9s\u001b[0m 8ms/step - accuracy: 0.3466 - loss: 1.7148 - val_accuracy: 0.3005 - val_loss: 1.8328 - learning_rate: 2.5000e-04\n",
      "Epoch 85/150\n",
      "\u001b[1m1191/1191\u001b[0m \u001b[32m━━━━━━━━━━━━━━━━━━━━\u001b[0m\u001b[37m\u001b[0m \u001b[1m9s\u001b[0m 8ms/step - accuracy: 0.3442 - loss: 1.7152 - val_accuracy: 0.3024 - val_loss: 1.8294 - learning_rate: 2.5000e-04\n",
      "Epoch 86/150\n",
      "\u001b[1m1191/1191\u001b[0m \u001b[32m━━━━━━━━━━━━━━━━━━━━\u001b[0m\u001b[37m\u001b[0m \u001b[1m9s\u001b[0m 8ms/step - accuracy: 0.3430 - loss: 1.7181 - val_accuracy: 0.3032 - val_loss: 1.8295 - learning_rate: 2.5000e-04\n",
      "Epoch 87/150\n",
      "\u001b[1m1191/1191\u001b[0m \u001b[32m━━━━━━━━━━━━━━━━━━━━\u001b[0m\u001b[37m\u001b[0m \u001b[1m9s\u001b[0m 8ms/step - accuracy: 0.3439 - loss: 1.7181 - val_accuracy: 0.3028 - val_loss: 1.8282 - learning_rate: 2.5000e-04\n",
      "Epoch 88/150\n",
      "\u001b[1m1191/1191\u001b[0m \u001b[32m━━━━━━━━━━━━━━━━━━━━\u001b[0m\u001b[37m\u001b[0m \u001b[1m9s\u001b[0m 8ms/step - accuracy: 0.3440 - loss: 1.7173 - val_accuracy: 0.3018 - val_loss: 1.8276 - learning_rate: 2.5000e-04\n",
      "Epoch 89/150\n",
      "\u001b[1m1191/1191\u001b[0m \u001b[32m━━━━━━━━━━━━━━━━━━━━\u001b[0m\u001b[37m\u001b[0m \u001b[1m10s\u001b[0m 8ms/step - accuracy: 0.3423 - loss: 1.7140 - val_accuracy: 0.3025 - val_loss: 1.8304 - learning_rate: 2.5000e-04\n",
      "Epoch 90/150\n",
      "\u001b[1m1191/1191\u001b[0m \u001b[32m━━━━━━━━━━━━━━━━━━━━\u001b[0m\u001b[37m\u001b[0m \u001b[1m9s\u001b[0m 8ms/step - accuracy: 0.3472 - loss: 1.7080 - val_accuracy: 0.3034 - val_loss: 1.8289 - learning_rate: 2.5000e-04\n",
      "Epoch 91/150\n",
      "\u001b[1m1191/1191\u001b[0m \u001b[32m━━━━━━━━━━━━━━━━━━━━\u001b[0m\u001b[37m\u001b[0m \u001b[1m9s\u001b[0m 8ms/step - accuracy: 0.3498 - loss: 1.7119 - val_accuracy: 0.3030 - val_loss: 1.8291 - learning_rate: 2.5000e-04\n",
      "Epoch 92/150\n",
      "\u001b[1m1191/1191\u001b[0m \u001b[32m━━━━━━━━━━━━━━━━━━━━\u001b[0m\u001b[37m\u001b[0m \u001b[1m10s\u001b[0m 8ms/step - accuracy: 0.3460 - loss: 1.7125 - val_accuracy: 0.3038 - val_loss: 1.8297 - learning_rate: 2.5000e-04\n",
      "Epoch 93/150\n",
      "\u001b[1m1186/1191\u001b[0m \u001b[32m━━━━━━━━━━━━━━━━━━━\u001b[0m\u001b[37m━\u001b[0m \u001b[1m0s\u001b[0m 8ms/step - accuracy: 0.3478 - loss: 1.7077\n",
      "Epoch 93: ReduceLROnPlateau reducing learning rate to 0.0001250000059371814.\n",
      "\u001b[1m1191/1191\u001b[0m \u001b[32m━━━━━━━━━━━━━━━━━━━━\u001b[0m\u001b[37m\u001b[0m \u001b[1m10s\u001b[0m 8ms/step - accuracy: 0.3478 - loss: 1.7077 - val_accuracy: 0.3057 - val_loss: 1.8289 - learning_rate: 2.5000e-04\n",
      "Epoch 94/150\n",
      "\u001b[1m1191/1191\u001b[0m \u001b[32m━━━━━━━━━━━━━━━━━━━━\u001b[0m\u001b[37m\u001b[0m \u001b[1m9s\u001b[0m 8ms/step - accuracy: 0.3518 - loss: 1.6975 - val_accuracy: 0.3080 - val_loss: 1.8274 - learning_rate: 1.2500e-04\n",
      "Epoch 95/150\n",
      "\u001b[1m1191/1191\u001b[0m \u001b[32m━━━━━━━━━━━━━━━━━━━━\u001b[0m\u001b[37m\u001b[0m \u001b[1m10s\u001b[0m 8ms/step - accuracy: 0.3580 - loss: 1.6891 - val_accuracy: 0.3086 - val_loss: 1.8288 - learning_rate: 1.2500e-04\n",
      "Epoch 96/150\n",
      "\u001b[1m1191/1191\u001b[0m \u001b[32m━━━━━━━━━━━━━━━━━━━━\u001b[0m\u001b[37m\u001b[0m \u001b[1m9s\u001b[0m 8ms/step - accuracy: 0.3579 - loss: 1.6832 - val_accuracy: 0.3095 - val_loss: 1.8266 - learning_rate: 1.2500e-04\n",
      "Epoch 97/150\n",
      "\u001b[1m1191/1191\u001b[0m \u001b[32m━━━━━━━━━━━━━━━━━━━━\u001b[0m\u001b[37m\u001b[0m \u001b[1m9s\u001b[0m 8ms/step - accuracy: 0.3626 - loss: 1.6778 - val_accuracy: 0.3097 - val_loss: 1.8260 - learning_rate: 1.2500e-04\n",
      "Epoch 98/150\n",
      "\u001b[1m1191/1191\u001b[0m \u001b[32m━━━━━━━━━━━━━━━━━━━━\u001b[0m\u001b[37m\u001b[0m \u001b[1m10s\u001b[0m 8ms/step - accuracy: 0.3588 - loss: 1.6774 - val_accuracy: 0.3076 - val_loss: 1.8253 - learning_rate: 1.2500e-04\n",
      "Epoch 99/150\n",
      "\u001b[1m1191/1191\u001b[0m \u001b[32m━━━━━━━━━━━━━━━━━━━━\u001b[0m\u001b[37m\u001b[0m \u001b[1m9s\u001b[0m 8ms/step - accuracy: 0.3609 - loss: 1.6751 - val_accuracy: 0.3070 - val_loss: 1.8231 - learning_rate: 1.2500e-04\n",
      "Epoch 100/150\n",
      "\u001b[1m1191/1191\u001b[0m \u001b[32m━━━━━━━━━━━━━━━━━━━━\u001b[0m\u001b[37m\u001b[0m \u001b[1m9s\u001b[0m 8ms/step - accuracy: 0.3644 - loss: 1.6732 - val_accuracy: 0.3080 - val_loss: 1.8234 - learning_rate: 1.2500e-04\n",
      "Epoch 101/150\n",
      "\u001b[1m1191/1191\u001b[0m \u001b[32m━━━━━━━━━━━━━━━━━━━━\u001b[0m\u001b[37m\u001b[0m \u001b[1m9s\u001b[0m 8ms/step - accuracy: 0.3644 - loss: 1.6708 - val_accuracy: 0.3083 - val_loss: 1.8226 - learning_rate: 1.2500e-04\n",
      "Epoch 102/150\n",
      "\u001b[1m1191/1191\u001b[0m \u001b[32m━━━━━━━━━━━━━━━━━━━━\u001b[0m\u001b[37m\u001b[0m \u001b[1m9s\u001b[0m 8ms/step - accuracy: 0.3626 - loss: 1.6744 - val_accuracy: 0.3074 - val_loss: 1.8237 - learning_rate: 1.2500e-04\n",
      "Epoch 103/150\n",
      "\u001b[1m1191/1191\u001b[0m \u001b[32m━━━━━━━━━━━━━━━━━━━━\u001b[0m\u001b[37m\u001b[0m \u001b[1m9s\u001b[0m 8ms/step - accuracy: 0.3624 - loss: 1.6711 - val_accuracy: 0.3074 - val_loss: 1.8228 - learning_rate: 1.2500e-04\n",
      "Epoch 104/150\n",
      "\u001b[1m1191/1191\u001b[0m \u001b[32m━━━━━━━━━━━━━━━━━━━━\u001b[0m\u001b[37m\u001b[0m \u001b[1m9s\u001b[0m 8ms/step - accuracy: 0.3640 - loss: 1.6701 - val_accuracy: 0.3095 - val_loss: 1.8218 - learning_rate: 1.2500e-04\n",
      "Epoch 105/150\n",
      "\u001b[1m1191/1191\u001b[0m \u001b[32m━━━━━━━━━━━━━━━━━━━━\u001b[0m\u001b[37m\u001b[0m \u001b[1m9s\u001b[0m 8ms/step - accuracy: 0.3643 - loss: 1.6696 - val_accuracy: 0.3076 - val_loss: 1.8208 - learning_rate: 1.2500e-04\n",
      "Epoch 106/150\n",
      "\u001b[1m1191/1191\u001b[0m \u001b[32m━━━━━━━━━━━━━━━━━━━━\u001b[0m\u001b[37m\u001b[0m \u001b[1m9s\u001b[0m 8ms/step - accuracy: 0.3600 - loss: 1.6702 - val_accuracy: 0.3071 - val_loss: 1.8222 - learning_rate: 1.2500e-04\n",
      "Epoch 107/150\n",
      "\u001b[1m1191/1191\u001b[0m \u001b[32m━━━━━━━━━━━━━━━━━━━━\u001b[0m\u001b[37m\u001b[0m \u001b[1m9s\u001b[0m 8ms/step - accuracy: 0.3634 - loss: 1.6640 - val_accuracy: 0.3072 - val_loss: 1.8214 - learning_rate: 1.2500e-04\n",
      "Epoch 108/150\n",
      "\u001b[1m1191/1191\u001b[0m \u001b[32m━━━━━━━━━━━━━━━━━━━━\u001b[0m\u001b[37m\u001b[0m \u001b[1m9s\u001b[0m 8ms/step - accuracy: 0.3658 - loss: 1.6648 - val_accuracy: 0.3067 - val_loss: 1.8237 - learning_rate: 1.2500e-04\n",
      "Epoch 109/150\n",
      "\u001b[1m1191/1191\u001b[0m \u001b[32m━━━━━━━━━━━━━━━━━━━━\u001b[0m\u001b[37m\u001b[0m \u001b[1m9s\u001b[0m 8ms/step - accuracy: 0.3652 - loss: 1.6641 - val_accuracy: 0.3091 - val_loss: 1.8193 - learning_rate: 1.2500e-04\n",
      "Epoch 110/150\n",
      "\u001b[1m1191/1191\u001b[0m \u001b[32m━━━━━━━━━━━━━━━━━━━━\u001b[0m\u001b[37m\u001b[0m \u001b[1m10s\u001b[0m 8ms/step - accuracy: 0.3680 - loss: 1.6625 - val_accuracy: 0.3075 - val_loss: 1.8222 - learning_rate: 1.2500e-04\n",
      "Epoch 111/150\n",
      "\u001b[1m1191/1191\u001b[0m \u001b[32m━━━━━━━━━━━━━━━━━━━━\u001b[0m\u001b[37m\u001b[0m \u001b[1m10s\u001b[0m 8ms/step - accuracy: 0.3666 - loss: 1.6622 - val_accuracy: 0.3086 - val_loss: 1.8214 - learning_rate: 1.2500e-04\n",
      "Epoch 112/150\n",
      "\u001b[1m1191/1191\u001b[0m \u001b[32m━━━━━━━━━━━━━━━━━━━━\u001b[0m\u001b[37m\u001b[0m \u001b[1m10s\u001b[0m 8ms/step - accuracy: 0.3667 - loss: 1.6626 - val_accuracy: 0.3090 - val_loss: 1.8214 - learning_rate: 1.2500e-04\n",
      "Epoch 113/150\n",
      "\u001b[1m1191/1191\u001b[0m \u001b[32m━━━━━━━━━━━━━━━━━━━━\u001b[0m\u001b[37m\u001b[0m \u001b[1m10s\u001b[0m 8ms/step - accuracy: 0.3668 - loss: 1.6633 - val_accuracy: 0.3080 - val_loss: 1.8194 - learning_rate: 1.2500e-04\n",
      "Epoch 114/150\n",
      "\u001b[1m1191/1191\u001b[0m \u001b[32m━━━━━━━━━━━━━━━━━━━━\u001b[0m\u001b[37m\u001b[0m \u001b[1m0s\u001b[0m 8ms/step - accuracy: 0.3668 - loss: 1.6611\n",
      "Epoch 114: ReduceLROnPlateau reducing learning rate to 6.25000029685907e-05.\n",
      "\u001b[1m1191/1191\u001b[0m \u001b[32m━━━━━━━━━━━━━━━━━━━━\u001b[0m\u001b[37m\u001b[0m \u001b[1m10s\u001b[0m 8ms/step - accuracy: 0.3668 - loss: 1.6611 - val_accuracy: 0.3112 - val_loss: 1.8197 - learning_rate: 1.2500e-04\n",
      "Epoch 115/150\n",
      "\u001b[1m1191/1191\u001b[0m \u001b[32m━━━━━━━━━━━━━━━━━━━━\u001b[0m\u001b[37m\u001b[0m \u001b[1m10s\u001b[0m 8ms/step - accuracy: 0.3709 - loss: 1.6551 - val_accuracy: 0.3116 - val_loss: 1.8211 - learning_rate: 6.2500e-05\n",
      "Epoch 116/150\n",
      "\u001b[1m1191/1191\u001b[0m \u001b[32m━━━━━━━━━━━━━━━━━━━━\u001b[0m\u001b[37m\u001b[0m \u001b[1m10s\u001b[0m 8ms/step - accuracy: 0.3726 - loss: 1.6474 - val_accuracy: 0.3116 - val_loss: 1.8201 - learning_rate: 6.2500e-05\n",
      "Epoch 117/150\n",
      "\u001b[1m1191/1191\u001b[0m \u001b[32m━━━━━━━━━━━━━━━━━━━━\u001b[0m\u001b[37m\u001b[0m \u001b[1m10s\u001b[0m 8ms/step - accuracy: 0.3722 - loss: 1.6454 - val_accuracy: 0.3125 - val_loss: 1.8198 - learning_rate: 6.2500e-05\n"
     ]
    }
   ],
   "source": [
    "es = EarlyStopping(patience=8, restore_best_weights=True)\n",
    "lr_scheduler = ReduceLROnPlateau(factor=0.5, patience=5, verbose=1, min_lr=1e-6)\n",
    "\n",
    "\n",
    "history = model.fit(\n",
    "        X_train_preproc, y_train_cat,\n",
    "        validation_split=0.2,\n",
    "        batch_size=128,\n",
    "        epochs=150,\n",
    "        callbacks=[es, lr_scheduler],\n",
    "        verbose=1)"
   ]
  },
  {
   "cell_type": "code",
   "execution_count": 242,
   "id": "19946a56",
   "metadata": {},
   "outputs": [
    {
     "data": {
      "image/png": "[encoded data removed]",
      "text/plain": [
       "<Figure size 1200x500 with 2 Axes>"
      ]
     },
     "metadata": {},
     "output_type": "display_data"
    }
   ],
   "source": [
    "# Récupération des données d'entraînement et validation\n",
    "acc = history.history['accuracy']\n",
    "val_acc = history.history['val_accuracy']\n",
    "loss = history.history['loss']\n",
    "val_loss = history.history['val_loss']\n",
    "\n",
    "# Création de la figure\n",
    "plt.figure(figsize=(12, 5))\n",
    "\n",
    "# Plot de l'accuracy\n",
    "plt.subplot(1, 2, 1)\n",
    "plt.plot(acc, label='Accuracy')\n",
    "plt.plot(val_acc, label='Val Accuracy')\n",
    "plt.xlabel('Epochs')\n",
    "plt.ylabel('Accuracy')\n",
    "plt.title('Training and Validation Accuracy')\n",
    "plt.legend()\n",
    "\n",
    "# Plot de la loss\n",
    "plt.subplot(1, 2, 2)\n",
    "plt.plot(loss, label='Loss')\n",
    "plt.plot(val_loss, label='Val Loss')\n",
    "plt.xlabel('Epochs')\n",
    "plt.ylabel('Loss')\n",
    "plt.title('Training and Validation Loss')\n",
    "plt.legend()\n",
    "\n",
    "# Affichage\n",
    "plt.tight_layout()\n",
    "plt.show()"
   ]
  },
  {
   "cell_type": "code",
   "execution_count": 243,
   "id": "c0886821",
   "metadata": {},
   "outputs": [],
   "source": [
    "model.save(\"modele_montant_8.keras\")"
   ]
  },
  {
   "cell_type": "code",
   "execution_count": 244,
   "id": "447ca256",
   "metadata": {},
   "outputs": [
    {
     "name": "stderr",
     "output_type": "stream",
     "text": [
      "/Users/paulcolas/.pyenv/versions/3.10.6/envs/decp_ml_env/lib/python3.10/site-packages/sklearn/pipeline.py:62: FutureWarning: This Pipeline instance is not fitted yet. Call 'fit' with appropriate arguments before using other methods such as transform, predict, etc. This will raise an error in 1.8 instead of the current warning.\n",
      "  warnings.warn(\n"
     ]
    }
   ],
   "source": [
    "X_test_preproc = pipeline.transform(X_test)"
   ]
  },
  {
   "cell_type": "code",
   "execution_count": 245,
   "id": "ff1c4612",
   "metadata": {},
   "outputs": [],
   "source": [
    "y_test_cat = to_categorical(y_test)"
   ]
  },
  {
   "cell_type": "code",
   "execution_count": 246,
   "id": "a3c32d53",
   "metadata": {},
   "outputs": [
    {
     "name": "stdout",
     "output_type": "stream",
     "text": [
      "(47633, 220)\n",
      "(47633, 8)\n"
     ]
    }
   ],
   "source": [
    "print(X_test_preproc.shape)\n",
    "print(y_test_cat.shape)"
   ]
  },
  {
   "cell_type": "code",
   "execution_count": 247,
   "id": "dbf3a7da",
   "metadata": {},
   "outputs": [],
   "source": [
    "# from keras.models import load_model\n",
    "\n",
    "# modelf = load_model(\"model_montant.keras\")"
   ]
  },
  {
   "cell_type": "code",
   "execution_count": 248,
   "id": "de3b2735",
   "metadata": {},
   "outputs": [
    {
     "name": "stdout",
     "output_type": "stream",
     "text": [
      "\u001b[1m1489/1489\u001b[0m \u001b[32m━━━━━━━━━━━━━━━━━━━━\u001b[0m\u001b[37m\u001b[0m \u001b[1m3s\u001b[0m 717us/step\n"
     ]
    }
   ],
   "source": [
    "y_new = model.predict(X_test_preproc)"
   ]
  },
  {
   "cell_type": "code",
   "execution_count": 249,
   "id": "c7810a00",
   "metadata": {},
   "outputs": [
    {
     "data": {
      "text/plain": [
       "(47633, 8)"
      ]
     },
     "execution_count": 249,
     "metadata": {},
     "output_type": "execute_result"
    }
   ],
   "source": [
    "y_new.shape"
   ]
  },
  {
   "cell_type": "code",
   "execution_count": 201,
   "id": "4419a70b",
   "metadata": {},
   "outputs": [
    {
     "data": {
      "text/plain": [
       "array([[3.3052803e-09, 6.9938704e-02, 1.2791319e-01, ..., 1.2102299e-01,\n",
       "        8.9703359e-02, 5.0089445e-02],\n",
       "       [2.9201761e-09, 1.1350881e-01, 1.9125593e-01, ..., 1.0362364e-01,\n",
       "        4.1198920e-02, 1.8769527e-02],\n",
       "       [2.3049219e-10, 6.4743626e-01, 2.8950447e-01, ..., 6.5106491e-04,\n",
       "        1.9347685e-04, 6.3748863e-05],\n",
       "       ...,\n",
       "       [2.5112814e-09, 5.3283103e-02, 2.2706912e-01, ..., 6.7977317e-02,\n",
       "        3.5313621e-02, 9.8188315e-03],\n",
       "       [3.0052985e-09, 2.5188228e-02, 5.0490413e-02, ..., 2.2962272e-01,\n",
       "        1.9361427e-01, 1.1644605e-01],\n",
       "       [2.9832277e-09, 2.0712699e-01, 3.7025921e-02, ..., 8.9398943e-02,\n",
       "        5.8743078e-02, 4.0994335e-02]], dtype=float32)"
      ]
     },
     "execution_count": 201,
     "metadata": {},
     "output_type": "execute_result"
    }
   ],
   "source": [
    "y_new"
   ]
  },
  {
   "cell_type": "code",
   "execution_count": 250,
   "id": "fb16bad7",
   "metadata": {},
   "outputs": [
    {
     "data": {
      "text/plain": [
       "array([[0., 0., 0., ..., 0., 0., 0.],\n",
       "       [0., 0., 1., ..., 0., 0., 0.],\n",
       "       [1., 0., 0., ..., 0., 0., 0.],\n",
       "       ...,\n",
       "       [0., 0., 1., ..., 0., 0., 0.],\n",
       "       [0., 0., 0., ..., 1., 0., 0.],\n",
       "       [0., 0., 0., ..., 0., 0., 0.]], dtype=float32)"
      ]
     },
     "execution_count": 250,
     "metadata": {},
     "output_type": "execute_result"
    }
   ],
   "source": [
    "# y_new : array de shape (n_samples, n_classes)\n",
    "one_hot = np.zeros_like(y_new)\n",
    "one_hot\n",
    "one_hot[np.arange(len(y_new)), y_new.argmax(axis=1)] = 1\n",
    "one_hot"
   ]
  },
  {
   "cell_type": "code",
   "execution_count": null,
   "id": "bed5b59d",
   "metadata": {},
   "outputs": [],
   "source": []
  },
  {
   "cell_type": "code",
   "execution_count": 251,
   "id": "d0e02559",
   "metadata": {},
   "outputs": [
    {
     "data": {
      "text/plain": [
       "(47633, 8)"
      ]
     },
     "execution_count": 251,
     "metadata": {},
     "output_type": "execute_result"
    }
   ],
   "source": [
    "y_test_cat.shape"
   ]
  },
  {
   "cell_type": "code",
   "execution_count": 252,
   "id": "45836aa1",
   "metadata": {},
   "outputs": [
    {
     "name": "stdout",
     "output_type": "stream",
     "text": [
      "\u001b[1m1489/1489\u001b[0m \u001b[32m━━━━━━━━━━━━━━━━━━━━\u001b[0m\u001b[37m\u001b[0m \u001b[1m2s\u001b[0m 1ms/step - accuracy: 0.3074 - loss: 1.8139\n"
     ]
    },
    {
     "data": {
      "text/plain": [
       "[1.8111323118209839, 0.3100161552429199]"
      ]
     },
     "execution_count": 252,
     "metadata": {},
     "output_type": "execute_result"
    }
   ],
   "source": [
    "model.evaluate(X_test_preproc, y_test_cat)"
   ]
  },
  {
   "cell_type": "code",
   "execution_count": 253,
   "id": "087e84ee",
   "metadata": {},
   "outputs": [
    {
     "name": "stdout",
     "output_type": "stream",
     "text": [
      "              precision    recall  f1-score   support\n",
      "\n",
      "           0       0.32      0.30      0.31      5554\n",
      "           1       0.30      0.41      0.35      7815\n",
      "           2       0.28      0.30      0.29      8080\n",
      "           3       0.27      0.26      0.27      7051\n",
      "           4       0.29      0.28      0.29      6810\n",
      "           5       0.32      0.28      0.30      5117\n",
      "           6       0.39      0.33      0.36      4172\n",
      "           7       0.52      0.28      0.36      3034\n",
      "\n",
      "   micro avg       0.31      0.31      0.31     47633\n",
      "   macro avg       0.34      0.31      0.32     47633\n",
      "weighted avg       0.32      0.31      0.31     47633\n",
      " samples avg       0.31      0.31      0.31     47633\n",
      "\n"
     ]
    }
   ],
   "source": [
    "from sklearn.metrics import classification_report\n",
    "\n",
    "print(classification_report(y_test_cat, one_hot))"
   ]
  },
  {
   "cell_type": "code",
   "execution_count": 211,
   "id": "f0681d01",
   "metadata": {},
   "outputs": [
    {
     "data": {
      "text/plain": [
       "bins\n",
       "3       8080\n",
       "2       7815\n",
       "4       7051\n",
       "5       6810\n",
       "1       5554\n",
       "6       5117\n",
       "7       4172\n",
       "8       3034\n",
       "Name: count, dtype: int64"
      ]
     },
     "execution_count": 211,
     "metadata": {},
     "output_type": "execute_result"
    }
   ],
   "source": [
    "pd.DataFrame(y_test).value_counts()"
   ]
  },
  {
   "cell_type": "code",
   "execution_count": 175,
   "id": "a793e905",
   "metadata": {},
   "outputs": [],
   "source": [
    "# # Dimensions\n",
    "# input_dim = 220\n",
    "# num_classes = 10\n",
    "\n",
    "# # Modèle MLP\n",
    "# model = Sequential()\n",
    "\n",
    "# model.add(Input(shape=(input_dim,)))\n",
    "\n",
    "# model.add(layers.Dense(1028, activation='relu',))\n",
    "# model.add(layers.BatchNormalization())\n",
    "# model.add(layers.Dropout(0.4))\n",
    "\n",
    "# model.add(layers.Dense(512, activation='relu'))\n",
    "# model.add(layers.BatchNormalization())\n",
    "# model.add(layers.Dropout(0.3))\n",
    "\n",
    "# model.add(layers.Dense(256, activation='relu'))\n",
    "# model.add(layers.BatchNormalization())\n",
    "# model.add(layers.Dropout(0.3))\n",
    "\n",
    "# model.add(layers.Dense(num_classes, activation='softmax'))  # Sortie pour classification\n",
    "\n",
    "# # Compilation\n",
    "# model.compile(\n",
    "#     optimizer='adam',\n",
    "#     loss='categorical_crossentropy',  # ou 'categorical_crossentropy' si y est one-hot\n",
    "#     metrics=['accuracy']\n",
    "# )\n",
    "\n",
    "# # Affichage du résumé du modèle\n",
    "# model.summary()"
   ]
  },
  {
   "cell_type": "code",
   "execution_count": 172,
   "id": "445a8aa0",
   "metadata": {},
   "outputs": [],
   "source": [
    "# es = EarlyStopping(patience=5, restore_best_weights=True, min_delta=1e-3)\n",
    "\n",
    "# history2 = model.fit(\n",
    "#         X_train_preproc, y_train_cat,\n",
    "#         validation_split=0.2,\n",
    "#         batch_size=32,\n",
    "#         epochs=100,\n",
    "#         callbacks=[es],\n",
    "#         verbose=1)"
   ]
  },
  {
   "cell_type": "code",
   "execution_count": null,
   "id": "8285e509",
   "metadata": {},
   "outputs": [],
   "source": [
    "# Récupération des données d'entraînement et validation\n",
    "acc = history.history['accuracy']\n",
    "val_acc = history.history['val_accuracy']\n",
    "loss = history.history['loss']\n",
    "val_loss = history.history['val_loss']\n",
    "\n",
    "# Création de la figure\n",
    "plt.figure(figsize=(12, 5))\n",
    "\n",
    "# Plot de l'accuracy\n",
    "plt.subplot(1, 2, 1)\n",
    "plt.plot(acc, label='Accuracy')\n",
    "plt.plot(val_acc, label='Val Accuracy')\n",
    "plt.xlabel('Epochs')\n",
    "plt.ylabel('Accuracy')\n",
    "plt.title('Training and Validation Accuracy')\n",
    "plt.legend()\n",
    "\n",
    "# Plot de la loss\n",
    "plt.subplot(1, 2, 2)\n",
    "plt.plot(loss, label='Loss')\n",
    "plt.plot(val_loss, label='Val Loss')\n",
    "plt.xlabel('Epochs')\n",
    "plt.ylabel('Loss')\n",
    "plt.title('Training and Validation Loss')\n",
    "plt.legend()\n",
    "\n",
    "# Affichage\n",
    "plt.tight_layout()\n",
    "plt.show()"
   ]
  },
  {
   "cell_type": "code",
   "execution_count": 173,
   "id": "743d328b",
   "metadata": {},
   "outputs": [],
   "source": [
    "# # Dimensions\n",
    "# input_dim = 220\n",
    "# num_classes = 10\n",
    "\n",
    "# # Modèle MLP\n",
    "# model = Sequential()\n",
    "\n",
    "# model.add(Input(shape=(input_dim,)))\n",
    "\n",
    "# model.add(layers.Dense(1028, activation='relu',))\n",
    "# model.add(layers.BatchNormalization())\n",
    "# model.add(layers.Dropout(0.5))\n",
    "\n",
    "# model.add(layers.Dense(512, activation='relu'))\n",
    "# model.add(layers.BatchNormalization())\n",
    "# model.add(layers.Dropout(0.4))\n",
    "\n",
    "# model.add(layers.Dense(256, activation='relu'))\n",
    "# model.add(layers.BatchNormalization())\n",
    "# model.add(layers.Dropout(0.3))\n",
    "\n",
    "# model.add(layers.Dense(num_classes, activation='softmax'))  # Sortie pour classification\n",
    "\n",
    "# # Compilation\n",
    "# model.compile(\n",
    "#     optimizer='adam',\n",
    "#     loss='categorical_crossentropy',  # ou 'categorical_crossentropy' si y est one-hot\n",
    "#     metrics=['accuracy']\n",
    "# )\n",
    "\n",
    "# # Affichage du résumé du modèle\n",
    "# model.summary()"
   ]
  },
  {
   "cell_type": "code",
   "execution_count": null,
   "id": "1f8d548e",
   "metadata": {},
   "outputs": [],
   "source": [
    "lr_scheduler = ReduceLROnPlateau(factor=0.5, patience=5, verbose=1, min_lr=1e-6)\n",
    "early_stop = EarlyStopping(patience=10, restore_best_weights=True)"
   ]
  },
  {
   "cell_type": "code",
   "execution_count": null,
   "id": "97113319",
   "metadata": {},
   "outputs": [],
   "source": [
    "history3 = model.fit(\n",
    "    X_train_preproc, y_train_cat,\n",
    "    validation_split=0.2,\n",
    "    batch_size=128,\n",
    "    epochs=100,\n",
    "    callbacks=[early_stop, lr_scheduler],\n",
    ")"
   ]
  },
  {
   "cell_type": "code",
   "execution_count": null,
   "id": "d363a91e",
   "metadata": {},
   "outputs": [],
   "source": []
  },
  {
   "cell_type": "code",
   "execution_count": null,
   "id": "45df06d2",
   "metadata": {},
   "outputs": [],
   "source": [
    "def build_mlp_model(input_dim=220, num_classes=10, use_dropout=True):\n",
    "    model = Sequential()\n",
    "    model.add(Input(shape=(input_dim,)))\n",
    "\n",
    "    model.add(layers.Dense(1028, activation='relu'))\n",
    "    model.add(layers.BatchNormalization())\n",
    "    if use_dropout:\n",
    "        model.add(layers.Dropout(0.5))\n",
    "\n",
    "    model.add(layers.Dense(512, activation='relu'))\n",
    "    model.add(layers.BatchNormalization())\n",
    "    if use_dropout:\n",
    "        model.add(layers.Dropout(0.4))\n",
    "\n",
    "    model.add(layers.Dense(256, activation='relu'))\n",
    "    model.add(layers.BatchNormalization())\n",
    "    if use_dropout:\n",
    "        model.add(layers.Dropout(0.3))\n",
    "\n",
    "    model.add(layers.Dense(num_classes, activation='softmax'))\n",
    "\n",
    "    model.compile(\n",
    "        optimizer='adam',\n",
    "        loss='categorical_crossentropy',  # or 'sparse_categorical_crossentropy'\n",
    "        metrics=['accuracy']\n",
    "    )\n",
    "\n",
    "    return model"
   ]
  },
  {
   "cell_type": "code",
   "execution_count": null,
   "id": "ee00fbe4",
   "metadata": {},
   "outputs": [],
   "source": [
    "model = build_mlp_model(use_dropout=False)\n",
    "\n",
    "history4 = model.fit(\n",
    "    X_train_preproc, y_train_cat,\n",
    "    validation_split=0.2,\n",
    "    batch_size=128,\n",
    "    epochs=100,\n",
    "    callbacks=[early_stop, lr_scheduler],\n",
    ")"
   ]
  },
  {
   "cell_type": "code",
   "execution_count": null,
   "id": "04be236b",
   "metadata": {},
   "outputs": [],
   "source": [
    "# # Récupération des données d'entraînement et validation\n",
    "# acc = history4.history['accuracy']\n",
    "# val_acc = history4.history['val_accuracy']\n",
    "# loss = history4.history['loss']\n",
    "# val_loss = history4.history['val_loss']\n",
    "\n",
    "# # Création de la figure\n",
    "# plt.figure(figsize=(12, 5))\n",
    "\n",
    "# # Plot de l'accuracy\n",
    "# plt.subplot(1, 2, 1)\n",
    "# plt.plot(acc, label='Accuracy')\n",
    "# plt.plot(val_acc, label='Val Accuracy')\n",
    "# plt.xlabel('Epochs')\n",
    "# plt.ylabel('Accuracy')\n",
    "# plt.title('Training and Validation Accuracy')\n",
    "# plt.legend()\n",
    "\n",
    "# # Plot de la loss\n",
    "# plt.subplot(1, 2, 2)\n",
    "# plt.plot(loss, label='Loss')\n",
    "# plt.plot(val_loss, label='Val Loss')\n",
    "# plt.xlabel('Epochs')\n",
    "# plt.ylabel('Loss')\n",
    "# plt.title('Training and Validation Loss')\n",
    "# plt.legend()\n",
    "\n",
    "# # Affichage\n",
    "# plt.tight_layout()\n",
    "# plt.show()"
   ]
  },
  {
   "cell_type": "code",
   "execution_count": 171,
   "id": "e2e7180b",
   "metadata": {},
   "outputs": [],
   "source": [
    "# def build_mlp_model(input_dim=220, num_classes=10, use_dropout=True, l2_factor=1e-4):\n",
    "#     model = Sequential()\n",
    "#     model.add(Input(shape=(input_dim,)))\n",
    "\n",
    "#     # Couche 1\n",
    "#     model.add(layers.Dense(\n",
    "#         1028, activation='relu',\n",
    "#         kernel_regularizer=regularizers.l2(l2_factor)\n",
    "#     ))\n",
    "#     model.add(layers.BatchNormalization())\n",
    "#     if use_dropout:\n",
    "#         model.add(layers.Dropout(0.5))\n",
    "\n",
    "#     # Couche 2\n",
    "#     model.add(layers.Dense(\n",
    "#         512, activation='relu',\n",
    "#         kernel_regularizer=regularizers.l2(l2_factor)\n",
    "#     ))\n",
    "#     model.add(layers.BatchNormalization())\n",
    "#     if use_dropout:\n",
    "#         model.add(layers.Dropout(0.4))\n",
    "\n",
    "#     # Couche 3\n",
    "#     model.add(layers.Dense(\n",
    "#         256, activation='relu',\n",
    "#         kernel_regularizer=regularizers.l2(l2_factor)\n",
    "#     ))\n",
    "#     model.add(layers.BatchNormalization())\n",
    "#     if use_dropout:\n",
    "#         model.add(layers.Dropout(0.3))\n",
    "\n",
    "#     # Sortie\n",
    "#     model.add(layers.Dense(\n",
    "#         num_classes, activation='softmax',\n",
    "#         kernel_regularizer=regularizers.l2(l2_factor)\n",
    "#     ))\n",
    "\n",
    "#     # Compilation\n",
    "#     model.compile(\n",
    "#         optimizer='adam',\n",
    "#         loss='categorical_crossentropy',\n",
    "#         metrics=['accuracy']\n",
    "#     )\n",
    "\n",
    "#     return model"
   ]
  },
  {
   "cell_type": "code",
   "execution_count": 169,
   "id": "f532b803",
   "metadata": {},
   "outputs": [],
   "source": [
    "# model = build_mlp_model(use_dropout=False)\n",
    "# history5 = model.fit(\n",
    "#     X_train_preproc, y_train_cat,\n",
    "#     validation_split=0.2,\n",
    "#     batch_size=128,\n",
    "#     epochs=100,\n",
    "#     callbacks=[early_stop, lr_scheduler],\n",
    "# )"
   ]
  },
  {
   "cell_type": "code",
   "execution_count": 170,
   "id": "fecc904e",
   "metadata": {},
   "outputs": [],
   "source": [
    "# model = build_mlp_model(use_dropout=True)\n",
    "# history5 = model.fit(\n",
    "#     X_train_preproc, y_train_cat,\n",
    "#     validation_split=0.2,\n",
    "#     batch_size=128,\n",
    "#     epochs=100,\n",
    "#     callbacks=[early_stop, lr_scheduler],\n",
    "# )"
   ]
  },
  {
   "cell_type": "code",
   "execution_count": 168,
   "id": "9c752f9d",
   "metadata": {},
   "outputs": [],
   "source": [
    "# # Récupération des données d'entraînement et validation\n",
    "# acc = history5.history['accuracy']\n",
    "# val_acc = history5.history['val_accuracy']\n",
    "# loss = history5.history['loss']\n",
    "# val_loss = history5.history['val_loss']\n",
    "\n",
    "# # Création de la figure\n",
    "# plt.figure(figsize=(12, 5))\n",
    "\n",
    "# # Plot de l'accuracy\n",
    "# plt.subplot(1, 2, 1)\n",
    "# plt.plot(acc, label='Accuracy')\n",
    "# plt.plot(val_acc, label='Val Accuracy')\n",
    "# plt.xlabel('Epochs')\n",
    "# plt.ylabel('Accuracy')\n",
    "# plt.title('Training and Validation Accuracy')\n",
    "# plt.legend()\n",
    "\n",
    "# # Plot de la loss\n",
    "# plt.subplot(1, 2, 2)\n",
    "# plt.plot(loss, label='Loss')\n",
    "# plt.plot(val_loss, label='Val Loss')\n",
    "# plt.xlabel('Epochs')\n",
    "# plt.ylabel('Loss')\n",
    "# plt.title('Training and Validation Loss')\n",
    "# plt.legend()\n",
    "\n",
    "# # Affichage\n",
    "# plt.tight_layout()\n",
    "# plt.show()"
   ]
  },
  {
   "cell_type": "code",
   "execution_count": 167,
   "id": "4e5393da",
   "metadata": {},
   "outputs": [],
   "source": [
    "# model = build_mlp_model(use_dropout=False)\n",
    "# history6 = model.fit(\n",
    "#     X_train_preproc, y_train_cat,\n",
    "#     validation_split=0.2,\n",
    "#     batch_size=128,\n",
    "#     epochs=100,\n",
    "#     callbacks=[early_stop, lr_scheduler],\n",
    "# )"
   ]
  },
  {
   "cell_type": "code",
   "execution_count": 166,
   "id": "1730ac55",
   "metadata": {},
   "outputs": [],
   "source": [
    "# # Récupération des données d'entraînement et validation\n",
    "# acc = history6.history['accuracy']\n",
    "# val_acc = history6.history['val_accuracy']\n",
    "# loss = history6.history['loss']\n",
    "# val_loss = history6.history['val_loss']\n",
    "\n",
    "# # Création de la figure\n",
    "# plt.figure(figsize=(12, 5))\n",
    "\n",
    "# # Plot de l'accuracy\n",
    "# plt.subplot(1, 2, 1)\n",
    "# plt.plot(acc, label='Accuracy')\n",
    "# plt.plot(val_acc, label='Val Accuracy')\n",
    "# plt.xlabel('Epochs')\n",
    "# plt.ylabel('Accuracy')\n",
    "# plt.title('Training and Validation Accuracy')\n",
    "# plt.legend()\n",
    "\n",
    "# # Plot de la loss\n",
    "# plt.subplot(1, 2, 2)\n",
    "# plt.plot(loss, label='Loss')\n",
    "# plt.plot(val_loss, label='Val Loss')\n",
    "# plt.xlabel('Epochs')\n",
    "# plt.ylabel('Loss')\n",
    "# plt.title('Training and Validation Loss')\n",
    "# plt.legend()\n",
    "\n",
    "# # Affichage\n",
    "# plt.tight_layout()\n",
    "\n",
    "# plt.show()"
   ]
  },
  {
   "cell_type": "code",
   "execution_count": 165,
   "id": "db6d3a97",
   "metadata": {},
   "outputs": [],
   "source": [
    "# def build_mlp_model(input_dim=220, num_classes=9, use_dropout=True, l2_factor=1e-4):\n",
    "#     model = Sequential()\n",
    "#     model.add(Input(shape=(input_dim,)))\n",
    "\n",
    "#     # Couche 1\n",
    "#     model.add(layers.Dense(\n",
    "#         1024, activation='relu',\n",
    "#         kernel_regularizer=regularizers.l2(l2_factor)\n",
    "#     ))\n",
    "#     model.add(layers.BatchNormalization())\n",
    "#     if use_dropout:\n",
    "#         model.add(layers.Dropout(0.4))\n",
    "\n",
    "#     # Couche 2\n",
    "#     model.add(layers.Dense(\n",
    "#         512, activation='relu',\n",
    "#         kernel_regularizer=regularizers.l2(l2_factor)\n",
    "#     ))\n",
    "#     model.add(layers.BatchNormalization())\n",
    "#     if use_dropout:\n",
    "#         model.add(layers.Dropout(0.3))\n",
    "\n",
    "#     # Couche 3\n",
    "#     model.add(layers.Dense(\n",
    "#         256, activation='relu',\n",
    "#         kernel_regularizer=regularizers.l2(l2_factor)\n",
    "#     ))\n",
    "#     model.add(layers.BatchNormalization())\n",
    "#     if use_dropout:\n",
    "#         model.add(layers.Dropout(0.2))\n",
    "#     #couche 4\n",
    "#     model.add(layers.Dense(\n",
    "#         128, activation='relu',\n",
    "#         kernel_regularizer=regularizers.l2(l2_factor)\n",
    "#     ))\n",
    "#     model.add(layers.BatchNormalization())\n",
    "#     if use_dropout:\n",
    "#         model.add(layers.Dropout(0.1))\n",
    "\n",
    "#     # Sortie\n",
    "#     model.add(layers.Dense(\n",
    "#         num_classes, activation='softmax',\n",
    "#         kernel_regularizer=regularizers.l2(l2_factor)\n",
    "#     ))\n",
    "\n",
    "#     # Compilation\n",
    "#     model.compile(\n",
    "#         optimizer='adam',\n",
    "#         loss='categorical_crossentropy',\n",
    "#         metrics=['accuracy']\n",
    "#     )\n",
    "\n",
    "#     return model"
   ]
  },
  {
   "cell_type": "code",
   "execution_count": 164,
   "id": "c42b7482",
   "metadata": {},
   "outputs": [],
   "source": [
    "# model = build_mlp_model(use_dropout=False)\n",
    "# history7 = model.fit(\n",
    "#     X_train_preproc, y_train_cat,\n",
    "#     validation_split=0.2,\n",
    "#     batch_size=128,\n",
    "#     epochs=100,\n",
    "#     callbacks=[early_stop, lr_scheduler],\n",
    "# )"
   ]
  },
  {
   "cell_type": "code",
   "execution_count": 163,
   "id": "89be7073",
   "metadata": {},
   "outputs": [],
   "source": [
    "# # Récupération des données d'entraînement et validation\n",
    "# acc = history7.history['accuracy']\n",
    "# val_acc = history7.history['val_accuracy']\n",
    "# loss = history7.history['loss']\n",
    "# val_loss = history7.history['val_loss']\n",
    "\n",
    "# # Création de la figure\n",
    "# plt.figure(figsize=(12, 5))\n",
    "\n",
    "# # Plot de l'accuracy\n",
    "# plt.subplot(1, 2, 1)\n",
    "# plt.plot(acc, label='Accuracy')\n",
    "# plt.plot(val_acc, label='Val Accuracy')\n",
    "# plt.xlabel('Epochs')\n",
    "# plt.ylabel('Accuracy')\n",
    "# plt.title('Training and Validation Accuracy')\n",
    "# plt.legend()\n",
    "\n",
    "# # Plot de la loss\n",
    "# plt.subplot(1, 2, 2)\n",
    "# plt.plot(loss, label='Loss')\n",
    "# plt.plot(val_loss, label='Val Loss')\n",
    "# plt.xlabel('Epochs')\n",
    "# plt.ylabel('Loss')\n",
    "# plt.title('Training and Validation Loss')\n",
    "# plt.legend()\n",
    "\n",
    "# # Affichage\n",
    "# plt.tight_layout()\n",
    "# plt.show()"
   ]
  },
  {
   "cell_type": "code",
   "execution_count": null,
   "id": "88430391",
   "metadata": {},
   "outputs": [],
   "source": []
  }
 ],
 "metadata": {
  "kernelspec": {
   "display_name": "decp_ml_env",
   "language": "python",
   "name": "python3"
  },
  "language_info": {
   "codemirror_mode": {
    "name": "ipython",
    "version": 3
   },
   "file_extension": ".py",
   "mimetype": "text/x-python",
   "name": "python",
   "nbconvert_exporter": "python",
   "pygments_lexer": "ipython3",
   "version": "3.10.6"
  }
 },
 "nbformat": 4,
 "nbformat_minor": 5
}
