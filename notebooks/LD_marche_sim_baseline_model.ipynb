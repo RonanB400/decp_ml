{
 "cells": [
  {
   "cell_type": "code",
   "execution_count": 8,
   "id": "75f6edba",
   "metadata": {},
   "outputs": [],
   "source": [
    "import pandas as pd\n",
    "import os\n",
    "import sys\n",
    "sys.path.append(os.path.abspath(os.path.join(os.getcwd(), '..')))\n",
    "from scripts.preprocess_cpv import process_cpv_data"
   ]
  },
  {
   "cell_type": "code",
   "execution_count": 11,
   "id": "131f0c79",
   "metadata": {},
   "outputs": [],
   "source": [
    "df = pd.read_csv('../data/train.csv', encoding='utf-8')"
   ]
  },
  {
   "cell_type": "code",
   "execution_count": null,
   "id": "5134b368",
   "metadata": {},
   "outputs": [
    {
     "name": "stdout",
     "output_type": "stream",
     "text": [
      "Step 1: Adding CPV descriptions...\n",
      "Step 2: Adding CPV hierarchy columns...\n",
      "Data saved successfully to: /Users/loicdogon/code/RonanB400/decp_ml/scripts/../data/data_cpv.csv\n",
      "CPV processing completed successfully!\n"
     ]
    }
   ],
   "source": [
    "df_cpv = process_cpv_data(df, levels=None, save_csv=True, output_path=None)\n"
   ]
  },
  {
   "cell_type": "code",
   "execution_count": 16,
   "id": "df6d03f9",
   "metadata": {},
   "outputs": [
    {
     "data": {
      "text/html": [
       "<div>\n",
       "<style scoped>\n",
       "    .dataframe tbody tr th:only-of-type {\n",
       "        vertical-align: middle;\n",
       "    }\n",
       "\n",
       "    .dataframe tbody tr th {\n",
       "        vertical-align: top;\n",
       "    }\n",
       "\n",
       "    .dataframe thead th {\n",
       "        text-align: right;\n",
       "    }\n",
       "</style>\n",
       "<table border=\"1\" class=\"dataframe\">\n",
       "  <thead>\n",
       "    <tr style=\"text-align: right;\">\n",
       "      <th></th>\n",
       "      <th>uid</th>\n",
       "      <th>id</th>\n",
       "      <th>nature</th>\n",
       "      <th>acheteur_id</th>\n",
       "      <th>titulaire_id</th>\n",
       "      <th>montant</th>\n",
       "      <th>codeCPV</th>\n",
       "      <th>procedure</th>\n",
       "      <th>dureeMois</th>\n",
       "      <th>dateNotification</th>\n",
       "      <th>...</th>\n",
       "      <th>origineUE</th>\n",
       "      <th>origineFrance</th>\n",
       "      <th>lieuExecution_code</th>\n",
       "      <th>lieuExecution_typeCode</th>\n",
       "      <th>idAccordCadre</th>\n",
       "      <th>codeCPV_FR</th>\n",
       "      <th>codeCPV_2</th>\n",
       "      <th>codeCPV_3</th>\n",
       "      <th>codeCPV_4</th>\n",
       "      <th>codeCPV_5</th>\n",
       "    </tr>\n",
       "  </thead>\n",
       "  <tbody>\n",
       "    <tr>\n",
       "      <th>0</th>\n",
       "      <td>215706722000182024TH240</td>\n",
       "      <td>2024TH240</td>\n",
       "      <td>Marché</td>\n",
       "      <td>21570672200018</td>\n",
       "      <td>42153568300013</td>\n",
       "      <td>106866.59</td>\n",
       "      <td>45111291</td>\n",
       "      <td>Appel d'offres ouvert</td>\n",
       "      <td>23.0</td>\n",
       "      <td>2024-07-19</td>\n",
       "      <td>...</td>\n",
       "      <td>0.0</td>\n",
       "      <td>0.0</td>\n",
       "      <td>57100</td>\n",
       "      <td>Code postal</td>\n",
       "      <td>NaN</td>\n",
       "      <td>Travaux d'aménagement du terrain</td>\n",
       "      <td>45000000</td>\n",
       "      <td>45100000</td>\n",
       "      <td>45110000</td>\n",
       "      <td>45111000</td>\n",
       "    </tr>\n",
       "    <tr>\n",
       "      <th>1</th>\n",
       "      <td>200052090000122023ELECF8</td>\n",
       "      <td>2023ELECF8</td>\n",
       "      <td>Marché</td>\n",
       "      <td>20005209000012</td>\n",
       "      <td>53791596900134</td>\n",
       "      <td>6000000.00</td>\n",
       "      <td>45231400-9</td>\n",
       "      <td>Appel d'offres ouvert</td>\n",
       "      <td>36.0</td>\n",
       "      <td>2022-11-07</td>\n",
       "      <td>...</td>\n",
       "      <td>0.0</td>\n",
       "      <td>0.0</td>\n",
       "      <td>12032</td>\n",
       "      <td>Code postal</td>\n",
       "      <td>NaN</td>\n",
       "      <td>Travaux de construction de lignes électriques</td>\n",
       "      <td>45000000</td>\n",
       "      <td>45200000</td>\n",
       "      <td>45230000</td>\n",
       "      <td>45231000</td>\n",
       "    </tr>\n",
       "    <tr>\n",
       "      <th>2</th>\n",
       "      <td>200058519001132023-0202</td>\n",
       "      <td>2023-0202</td>\n",
       "      <td>Marché</td>\n",
       "      <td>20005851900113</td>\n",
       "      <td>42094822600048</td>\n",
       "      <td>2200000.00</td>\n",
       "      <td>45232410-9</td>\n",
       "      <td>Appel d'offres ouvert</td>\n",
       "      <td>12.0</td>\n",
       "      <td>2023-01-01</td>\n",
       "      <td>...</td>\n",
       "      <td>NaN</td>\n",
       "      <td>NaN</td>\n",
       "      <td>78230</td>\n",
       "      <td>Code postal</td>\n",
       "      <td>2023-0202</td>\n",
       "      <td>Travaux d'assainissement</td>\n",
       "      <td>45000000</td>\n",
       "      <td>45200000</td>\n",
       "      <td>45230000</td>\n",
       "      <td>45232000</td>\n",
       "    </tr>\n",
       "    <tr>\n",
       "      <th>3</th>\n",
       "      <td>239740012000122023602099</td>\n",
       "      <td>2023602099</td>\n",
       "      <td>Marché</td>\n",
       "      <td>23974001200012</td>\n",
       "      <td>50067844600047</td>\n",
       "      <td>2400000.00</td>\n",
       "      <td>71351810-4</td>\n",
       "      <td>Appel d'offres ouvert</td>\n",
       "      <td>48.0</td>\n",
       "      <td>2023-02-01</td>\n",
       "      <td>...</td>\n",
       "      <td>NaN</td>\n",
       "      <td>NaN</td>\n",
       "      <td>04</td>\n",
       "      <td>Code région</td>\n",
       "      <td>2023602099</td>\n",
       "      <td>Services topographiques</td>\n",
       "      <td>71000000</td>\n",
       "      <td>71300000</td>\n",
       "      <td>71350000</td>\n",
       "      <td>71351000</td>\n",
       "    </tr>\n",
       "    <tr>\n",
       "      <th>4</th>\n",
       "      <td>2631001250001620241941</td>\n",
       "      <td>20241941</td>\n",
       "      <td>Marché</td>\n",
       "      <td>26310012500016</td>\n",
       "      <td>77566225700150</td>\n",
       "      <td>2268857.60</td>\n",
       "      <td>33000000-0</td>\n",
       "      <td>Procédure adaptée</td>\n",
       "      <td>36.0</td>\n",
       "      <td>2024-05-29</td>\n",
       "      <td>...</td>\n",
       "      <td>0.0</td>\n",
       "      <td>0.0</td>\n",
       "      <td>76</td>\n",
       "      <td>Code région</td>\n",
       "      <td>NaN</td>\n",
       "      <td>Matériels médicaux, pharmaceutiques et produit...</td>\n",
       "      <td>33000000</td>\n",
       "      <td>33000000</td>\n",
       "      <td>33000000</td>\n",
       "      <td>33000000</td>\n",
       "    </tr>\n",
       "  </tbody>\n",
       "</table>\n",
       "<p>5 rows × 29 columns</p>\n",
       "</div>"
      ],
      "text/plain": [
       "                        uid          id  nature     acheteur_id  \\\n",
       "0   215706722000182024TH240   2024TH240  Marché  21570672200018   \n",
       "1  200052090000122023ELECF8  2023ELECF8  Marché  20005209000012   \n",
       "2   200058519001132023-0202   2023-0202  Marché  20005851900113   \n",
       "3  239740012000122023602099  2023602099  Marché  23974001200012   \n",
       "4    2631001250001620241941    20241941  Marché  26310012500016   \n",
       "\n",
       "     titulaire_id     montant     codeCPV              procedure  dureeMois  \\\n",
       "0  42153568300013   106866.59    45111291  Appel d'offres ouvert       23.0   \n",
       "1  53791596900134  6000000.00  45231400-9  Appel d'offres ouvert       36.0   \n",
       "2  42094822600048  2200000.00  45232410-9  Appel d'offres ouvert       12.0   \n",
       "3  50067844600047  2400000.00  71351810-4  Appel d'offres ouvert       48.0   \n",
       "4  77566225700150  2268857.60  33000000-0      Procédure adaptée       36.0   \n",
       "\n",
       "  dateNotification  ... origineUE origineFrance  lieuExecution_code  \\\n",
       "0       2024-07-19  ...       0.0           0.0               57100   \n",
       "1       2022-11-07  ...       0.0           0.0               12032   \n",
       "2       2023-01-01  ...       NaN           NaN               78230   \n",
       "3       2023-02-01  ...       NaN           NaN                  04   \n",
       "4       2024-05-29  ...       0.0           0.0                  76   \n",
       "\n",
       "   lieuExecution_typeCode  idAccordCadre  \\\n",
       "0             Code postal            NaN   \n",
       "1             Code postal            NaN   \n",
       "2             Code postal      2023-0202   \n",
       "3             Code région     2023602099   \n",
       "4             Code région            NaN   \n",
       "\n",
       "                                          codeCPV_FR  codeCPV_2 codeCPV_3  \\\n",
       "0                   Travaux d'aménagement du terrain   45000000  45100000   \n",
       "1      Travaux de construction de lignes électriques   45000000  45200000   \n",
       "2                           Travaux d'assainissement   45000000  45200000   \n",
       "3                            Services topographiques   71000000  71300000   \n",
       "4  Matériels médicaux, pharmaceutiques et produit...   33000000  33000000   \n",
       "\n",
       "   codeCPV_4  codeCPV_5  \n",
       "0   45110000   45111000  \n",
       "1   45230000   45231000  \n",
       "2   45230000   45232000  \n",
       "3   71350000   71351000  \n",
       "4   33000000   33000000  \n",
       "\n",
       "[5 rows x 29 columns]"
      ]
     },
     "execution_count": 16,
     "metadata": {},
     "output_type": "execute_result"
    }
   ],
   "source": [
    "df_cpv.head()"
   ]
  },
  {
   "cell_type": "code",
   "execution_count": 28,
   "id": "5ad5eb1c",
   "metadata": {},
   "outputs": [
    {
     "data": {
      "text/plain": [
       "69"
      ]
     },
     "execution_count": 28,
     "metadata": {},
     "output_type": "execute_result"
    }
   ],
   "source": [
    "df_cpv['codeCPV_2'].nunique()"
   ]
  },
  {
   "cell_type": "code",
   "execution_count": 29,
   "id": "0b9efd44",
   "metadata": {},
   "outputs": [
    {
     "data": {
      "text/plain": [
       "codeCPV_2\n",
       "45000000    97973\n",
       "71000000    34079\n",
       "79000000    10067\n",
       "90000000     8470\n",
       "33000000     6564\n",
       "            ...  \n",
       "99000000        2\n",
       "05000000        2\n",
       "21000000        2\n",
       "54000000        1\n",
       "13000000        1\n",
       "Name: count, Length: 69, dtype: int64"
      ]
     },
     "execution_count": 29,
     "metadata": {},
     "output_type": "execute_result"
    }
   ],
   "source": [
    "df_cpv['codeCPV_2'].value_counts()"
   ]
  },
  {
   "cell_type": "code",
   "execution_count": 33,
   "id": "8432644d",
   "metadata": {},
   "outputs": [
    {
     "data": {
      "image/png": "[encoded data removed]",
      "text/plain": [
       "<Figure size 1400x800 with 1 Axes>"
      ]
     },
     "metadata": {},
     "output_type": "display_data"
    }
   ],
   "source": [
    "import matplotlib.pyplot as plt\n",
    "import seaborn as sns\n",
    "\n",
    "cpv_group_counts = df_cpv['codeCPV_2'].value_counts()\n",
    "\n",
    "plt.figure(figsize=(14, 8))\n",
    "sns.barplot(x=cpv_group_counts.index, y=cpv_group_counts.values, order=cpv_group_counts.sort_values(ascending=False).index)\n",
    "plt.xticks(rotation=90)\n",
    "plt.show()"
   ]
  },
  {
   "cell_type": "code",
   "execution_count": 61,
   "id": "e7edf5ee",
   "metadata": {},
   "outputs": [
    {
     "data": {
      "text/plain": [
       "<Axes: xlabel='codeCPV_2'>"
      ]
     },
     "execution_count": 61,
     "metadata": {},
     "output_type": "execute_result"
    },
    {
     "data": {
      "image/png": "[encoded data removed]",
      "text/plain": [
       "<Figure size 1400x800 with 1 Axes>"
      ]
     },
     "metadata": {},
     "output_type": "display_data"
    }
   ],
   "source": [
    "top_n = 30\n",
    "top_groups = cpv_group_counts.nlargest(top_n)\n",
    "top_groups.plot(kind='bar', figsize=(14, 8))"
   ]
  },
  {
   "cell_type": "code",
   "execution_count": null,
   "id": "5169a953",
   "metadata": {},
   "outputs": [
    {
     "data": {
      "text/plain": [
       "1033"
      ]
     },
     "execution_count": 60,
     "metadata": {},
     "output_type": "execute_result"
    }
   ],
   "source": [
    "#On considère que 1000 par catégorie\n",
    "top_groups.iloc[-1]"
   ]
  },
  {
   "cell_type": "code",
   "execution_count": 56,
   "id": "a1b25421",
   "metadata": {},
   "outputs": [
    {
     "data": {
      "text/plain": [
       "8470"
      ]
     },
     "execution_count": 56,
     "metadata": {},
     "output_type": "execute_result"
    }
   ],
   "source": [
    "top_groups.iloc[3]"
   ]
  },
  {
   "cell_type": "code",
   "execution_count": null,
   "id": "c8584323",
   "metadata": {},
   "outputs": [],
   "source": []
  }
 ],
 "metadata": {
  "kernelspec": {
   "display_name": "decp_ml_env",
   "language": "python",
   "name": "python3"
  },
  "language_info": {
   "codemirror_mode": {
    "name": "ipython",
    "version": 3
   },
   "file_extension": ".py",
   "mimetype": "text/x-python",
   "name": "python",
   "nbconvert_exporter": "python",
   "pygments_lexer": "ipython3",
   "version": "3.10.6"
  }
 },
 "nbformat": 4,
 "nbformat_minor": 5
}
