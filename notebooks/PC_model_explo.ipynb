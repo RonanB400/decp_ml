{
 "cells": [
  {
   "cell_type": "code",
   "execution_count": 1,
   "id": "e909ac07",
   "metadata": {},
   "outputs": [],
   "source": [
    "import pandas as pd\n",
    "import numpy as np\n",
    "import os\n",
    "import sqlite3\n",
    "import matplotlib.pyplot as plt\n",
    "import seaborn as sns\n",
    "import sys\n",
    "\n",
    "from sklearn.model_selection import train_test_split\n",
    "\n",
    "sys.path.append(os.path.abspath(os.path.join(os.getcwd(), '..')))\n"
   ]
  },
  {
   "cell_type": "code",
   "execution_count": 2,
   "id": "2d1a0887",
   "metadata": {},
   "outputs": [
    {
     "data": {
      "text/plain": [
       "'/Users/paulcolas/code/RonanB400/decp_ml/data/datalab.sqlite'"
      ]
     },
     "execution_count": 2,
     "metadata": {},
     "output_type": "execute_result"
    }
   ],
   "source": [
    "db_path = os.path.join(os.path.dirname(os.getcwd()), 'data', 'datalab.sqlite')\n",
    "db_path"
   ]
  },
  {
   "cell_type": "code",
   "execution_count": 3,
   "id": "84b50a39",
   "metadata": {},
   "outputs": [
    {
     "data": {
      "text/plain": [
       "Index(['uid', 'id', 'nature', 'acheteur_id', 'acheteur_nom', 'acheteur_siren',\n",
       "       'titulaire_id', 'titulaire_typeIdentifiant', 'titulaire_nom',\n",
       "       'titulaire_siren', 'objet', 'montant', 'codeCPV', 'procedure',\n",
       "       'dureeMois', 'dateNotification', 'datePublicationDonnees', 'formePrix',\n",
       "       'attributionAvance', 'offresRecues', 'marcheInnovant', 'ccag',\n",
       "       'sousTraitanceDeclaree', 'typeGroupementOperateurs', 'tauxAvance',\n",
       "       'origineUE', 'origineFrance', 'lieuExecution_code',\n",
       "       'lieuExecution_typeCode', 'idAccordCadre', 'source_open_data'],\n",
       "      dtype='object')"
      ]
     },
     "execution_count": 3,
     "metadata": {},
     "output_type": "execute_result"
    }
   ],
   "source": [
    "conn = sqlite3.connect(db_path)\n",
    "db = conn.cursor()\n",
    "query = f\"\"\"\n",
    "SELECT *\n",
    "FROM \"data.gouv.fr.2022.clean\"\n",
    "\"\"\"\n",
    "\n",
    "data = pd.read_sql_query(query, conn)\n",
    "data.columns"
   ]
  },
  {
   "cell_type": "code",
   "execution_count": 4,
   "id": "f9d92b3d",
   "metadata": {},
   "outputs": [],
   "source": [
    "from scripts.preprocess_init import drop_outliers\n",
    "df = drop_outliers(data)"
   ]
  },
  {
   "cell_type": "code",
   "execution_count": 5,
   "id": "4a1710f5",
   "metadata": {},
   "outputs": [],
   "source": [
    "X = df.drop(columns='montant')\n",
    "y = df['montant']\n",
    "X_train, X_test, y_train, y_test = train_test_split(X, y, test_size=0.2)"
   ]
  },
  {
   "cell_type": "code",
   "execution_count": 6,
   "id": "5e101f4f",
   "metadata": {},
   "outputs": [
    {
     "data": {
      "text/plain": [
       "Index(['uid', 'id', 'nature', 'acheteur_id', 'acheteur_nom', 'acheteur_siren',\n",
       "       'titulaire_id', 'titulaire_typeIdentifiant', 'titulaire_nom',\n",
       "       'titulaire_siren', 'objet', 'codeCPV', 'procedure', 'dureeMois',\n",
       "       'dateNotification', 'datePublicationDonnees', 'formePrix',\n",
       "       'attributionAvance', 'offresRecues', 'marcheInnovant', 'ccag',\n",
       "       'sousTraitanceDeclaree', 'typeGroupementOperateurs', 'tauxAvance',\n",
       "       'origineUE', 'origineFrance', 'lieuExecution_code',\n",
       "       'lieuExecution_typeCode', 'idAccordCadre', 'source_open_data'],\n",
       "      dtype='object')"
      ]
     },
     "execution_count": 6,
     "metadata": {},
     "output_type": "execute_result"
    }
   ],
   "source": [
    "X_train.columns"
   ]
  },
  {
   "cell_type": "code",
   "execution_count": 7,
   "id": "721f633b",
   "metadata": {},
   "outputs": [],
   "source": [
    "from scripts.preprocess_final_copy import create_complete_pipeline, create_preprocessing_pipeline_init, create_preprocessing_pipeline_follow"
   ]
  },
  {
   "cell_type": "code",
   "execution_count": 8,
   "id": "7d53d118",
   "metadata": {},
   "outputs": [
    {
     "name": "stderr",
     "output_type": "stream",
     "text": [
      "/Users/paulcolas/code/RonanB400/decp_ml/scripts/preprocess_init.py:26: FutureWarning: errors='ignore' is deprecated and will raise in a future version. Use to_datetime without passing `errors` and catch exceptions explicitly instead\n",
      "  df['annee'] = pd.to_datetime(df['annee'], errors='ignore')\n"
     ]
    }
   ],
   "source": [
    "pipeline = create_complete_pipeline(\n",
    "    cat='pred_montant',\n",
    "    min=20000,\n",
    "    max=1000000,\n",
    "    top_n=40,\n",
    "    level=3\n",
    ")\n",
    "X_processed = pipeline.fit_transform(X_train)"
   ]
  },
  {
   "cell_type": "code",
   "execution_count": 9,
   "id": "78f34d71",
   "metadata": {},
   "outputs": [
    {
     "data": {
      "text/html": [
       "<div>\n",
       "<style scoped>\n",
       "    .dataframe tbody tr th:only-of-type {\n",
       "        vertical-align: middle;\n",
       "    }\n",
       "\n",
       "    .dataframe tbody tr th {\n",
       "        vertical-align: top;\n",
       "    }\n",
       "\n",
       "    .dataframe thead th {\n",
       "        text-align: right;\n",
       "    }\n",
       "</style>\n",
       "<table border=\"1\" class=\"dataframe\">\n",
       "  <thead>\n",
       "    <tr style=\"text-align: right;\">\n",
       "      <th></th>\n",
       "      <th>offres_recues_pipeline__offresRecues</th>\n",
       "      <th>other_num_pipeline__dureeMois</th>\n",
       "      <th>other_num_pipeline__origineFrance</th>\n",
       "      <th>binary_pipeline__marcheInnovant</th>\n",
       "      <th>binary_pipeline__sousTraitanceDeclaree</th>\n",
       "      <th>binary_pipeline__idAccordCadre</th>\n",
       "      <th>cat_pipeline__nature_Marché</th>\n",
       "      <th>cat_pipeline__nature_Marché de défense ou de sécurité</th>\n",
       "      <th>cat_pipeline__nature_Marché de partenariat</th>\n",
       "      <th>cat_pipeline__procedure_Appel d'offres ouvert</th>\n",
       "      <th>...</th>\n",
       "      <th>cat_pipeline__annee_2028</th>\n",
       "      <th>cat_pipeline__annee_2029</th>\n",
       "      <th>cat_pipeline__annee_2032</th>\n",
       "      <th>cat_pipeline__annee_2033</th>\n",
       "      <th>cat_pipeline__annee_2038</th>\n",
       "      <th>cat_pipeline__annee_2054</th>\n",
       "      <th>cat_pipeline__annee_2089</th>\n",
       "      <th>cat_pipeline__annee_2121</th>\n",
       "      <th>cat_pipeline__annee_2300</th>\n",
       "      <th>cat_pipeline__annee_2500</th>\n",
       "    </tr>\n",
       "  </thead>\n",
       "  <tbody>\n",
       "    <tr>\n",
       "      <th>0</th>\n",
       "      <td>-0.037985</td>\n",
       "      <td>-1.763025</td>\n",
       "      <td>-0.089509</td>\n",
       "      <td>0.0</td>\n",
       "      <td>0.0</td>\n",
       "      <td>0.0</td>\n",
       "      <td>1.0</td>\n",
       "      <td>0.0</td>\n",
       "      <td>0.0</td>\n",
       "      <td>0.0</td>\n",
       "      <td>...</td>\n",
       "      <td>0.0</td>\n",
       "      <td>0.0</td>\n",
       "      <td>0.0</td>\n",
       "      <td>0.0</td>\n",
       "      <td>0.0</td>\n",
       "      <td>0.0</td>\n",
       "      <td>0.0</td>\n",
       "      <td>0.0</td>\n",
       "      <td>0.0</td>\n",
       "      <td>0.0</td>\n",
       "    </tr>\n",
       "    <tr>\n",
       "      <th>1</th>\n",
       "      <td>-0.037985</td>\n",
       "      <td>0.921607</td>\n",
       "      <td>-0.089509</td>\n",
       "      <td>0.0</td>\n",
       "      <td>0.0</td>\n",
       "      <td>1.0</td>\n",
       "      <td>1.0</td>\n",
       "      <td>0.0</td>\n",
       "      <td>0.0</td>\n",
       "      <td>0.0</td>\n",
       "      <td>...</td>\n",
       "      <td>0.0</td>\n",
       "      <td>0.0</td>\n",
       "      <td>0.0</td>\n",
       "      <td>0.0</td>\n",
       "      <td>0.0</td>\n",
       "      <td>0.0</td>\n",
       "      <td>0.0</td>\n",
       "      <td>0.0</td>\n",
       "      <td>0.0</td>\n",
       "      <td>0.0</td>\n",
       "    </tr>\n",
       "    <tr>\n",
       "      <th>2</th>\n",
       "      <td>-0.037985</td>\n",
       "      <td>0.921607</td>\n",
       "      <td>-0.089509</td>\n",
       "      <td>0.0</td>\n",
       "      <td>0.0</td>\n",
       "      <td>0.0</td>\n",
       "      <td>1.0</td>\n",
       "      <td>0.0</td>\n",
       "      <td>0.0</td>\n",
       "      <td>0.0</td>\n",
       "      <td>...</td>\n",
       "      <td>0.0</td>\n",
       "      <td>0.0</td>\n",
       "      <td>0.0</td>\n",
       "      <td>0.0</td>\n",
       "      <td>0.0</td>\n",
       "      <td>0.0</td>\n",
       "      <td>0.0</td>\n",
       "      <td>0.0</td>\n",
       "      <td>0.0</td>\n",
       "      <td>0.0</td>\n",
       "    </tr>\n",
       "    <tr>\n",
       "      <th>3</th>\n",
       "      <td>-0.581613</td>\n",
       "      <td>0.921607</td>\n",
       "      <td>-0.089509</td>\n",
       "      <td>0.0</td>\n",
       "      <td>0.0</td>\n",
       "      <td>0.0</td>\n",
       "      <td>1.0</td>\n",
       "      <td>0.0</td>\n",
       "      <td>0.0</td>\n",
       "      <td>1.0</td>\n",
       "      <td>...</td>\n",
       "      <td>0.0</td>\n",
       "      <td>0.0</td>\n",
       "      <td>0.0</td>\n",
       "      <td>0.0</td>\n",
       "      <td>0.0</td>\n",
       "      <td>0.0</td>\n",
       "      <td>0.0</td>\n",
       "      <td>0.0</td>\n",
       "      <td>0.0</td>\n",
       "      <td>0.0</td>\n",
       "    </tr>\n",
       "    <tr>\n",
       "      <th>4</th>\n",
       "      <td>4.696661</td>\n",
       "      <td>-0.277632</td>\n",
       "      <td>-0.089509</td>\n",
       "      <td>0.0</td>\n",
       "      <td>0.0</td>\n",
       "      <td>0.0</td>\n",
       "      <td>1.0</td>\n",
       "      <td>0.0</td>\n",
       "      <td>0.0</td>\n",
       "      <td>0.0</td>\n",
       "      <td>...</td>\n",
       "      <td>0.0</td>\n",
       "      <td>0.0</td>\n",
       "      <td>0.0</td>\n",
       "      <td>0.0</td>\n",
       "      <td>0.0</td>\n",
       "      <td>0.0</td>\n",
       "      <td>0.0</td>\n",
       "      <td>0.0</td>\n",
       "      <td>0.0</td>\n",
       "      <td>0.0</td>\n",
       "    </tr>\n",
       "  </tbody>\n",
       "</table>\n",
       "<p>5 rows × 92 columns</p>\n",
       "</div>"
      ],
      "text/plain": [
       "   offres_recues_pipeline__offresRecues  other_num_pipeline__dureeMois  \\\n",
       "0                             -0.037985                      -1.763025   \n",
       "1                             -0.037985                       0.921607   \n",
       "2                             -0.037985                       0.921607   \n",
       "3                             -0.581613                       0.921607   \n",
       "4                              4.696661                      -0.277632   \n",
       "\n",
       "   other_num_pipeline__origineFrance  binary_pipeline__marcheInnovant  \\\n",
       "0                          -0.089509                              0.0   \n",
       "1                          -0.089509                              0.0   \n",
       "2                          -0.089509                              0.0   \n",
       "3                          -0.089509                              0.0   \n",
       "4                          -0.089509                              0.0   \n",
       "\n",
       "   binary_pipeline__sousTraitanceDeclaree  binary_pipeline__idAccordCadre  \\\n",
       "0                                     0.0                             0.0   \n",
       "1                                     0.0                             1.0   \n",
       "2                                     0.0                             0.0   \n",
       "3                                     0.0                             0.0   \n",
       "4                                     0.0                             0.0   \n",
       "\n",
       "   cat_pipeline__nature_Marché  \\\n",
       "0                          1.0   \n",
       "1                          1.0   \n",
       "2                          1.0   \n",
       "3                          1.0   \n",
       "4                          1.0   \n",
       "\n",
       "   cat_pipeline__nature_Marché de défense ou de sécurité  \\\n",
       "0                                                0.0       \n",
       "1                                                0.0       \n",
       "2                                                0.0       \n",
       "3                                                0.0       \n",
       "4                                                0.0       \n",
       "\n",
       "   cat_pipeline__nature_Marché de partenariat  \\\n",
       "0                                         0.0   \n",
       "1                                         0.0   \n",
       "2                                         0.0   \n",
       "3                                         0.0   \n",
       "4                                         0.0   \n",
       "\n",
       "   cat_pipeline__procedure_Appel d'offres ouvert  ...  \\\n",
       "0                                            0.0  ...   \n",
       "1                                            0.0  ...   \n",
       "2                                            0.0  ...   \n",
       "3                                            1.0  ...   \n",
       "4                                            0.0  ...   \n",
       "\n",
       "   cat_pipeline__annee_2028  cat_pipeline__annee_2029  \\\n",
       "0                       0.0                       0.0   \n",
       "1                       0.0                       0.0   \n",
       "2                       0.0                       0.0   \n",
       "3                       0.0                       0.0   \n",
       "4                       0.0                       0.0   \n",
       "\n",
       "   cat_pipeline__annee_2032  cat_pipeline__annee_2033  \\\n",
       "0                       0.0                       0.0   \n",
       "1                       0.0                       0.0   \n",
       "2                       0.0                       0.0   \n",
       "3                       0.0                       0.0   \n",
       "4                       0.0                       0.0   \n",
       "\n",
       "   cat_pipeline__annee_2038  cat_pipeline__annee_2054  \\\n",
       "0                       0.0                       0.0   \n",
       "1                       0.0                       0.0   \n",
       "2                       0.0                       0.0   \n",
       "3                       0.0                       0.0   \n",
       "4                       0.0                       0.0   \n",
       "\n",
       "   cat_pipeline__annee_2089  cat_pipeline__annee_2121  \\\n",
       "0                       0.0                       0.0   \n",
       "1                       0.0                       0.0   \n",
       "2                       0.0                       0.0   \n",
       "3                       0.0                       0.0   \n",
       "4                       0.0                       0.0   \n",
       "\n",
       "   cat_pipeline__annee_2300  cat_pipeline__annee_2500  \n",
       "0                       0.0                       0.0  \n",
       "1                       0.0                       0.0  \n",
       "2                       0.0                       0.0  \n",
       "3                       0.0                       0.0  \n",
       "4                       0.0                       0.0  \n",
       "\n",
       "[5 rows x 92 columns]"
      ]
     },
     "execution_count": 9,
     "metadata": {},
     "output_type": "execute_result"
    }
   ],
   "source": [
    "X_processed.head()"
   ]
  },
  {
   "cell_type": "code",
   "execution_count": 10,
   "id": "31d8a930",
   "metadata": {},
   "outputs": [
    {
     "data": {
      "text/plain": [
       "(222136, 92)"
      ]
     },
     "execution_count": 10,
     "metadata": {},
     "output_type": "execute_result"
    }
   ],
   "source": [
    "X_processed.shape"
   ]
  },
  {
   "cell_type": "code",
   "execution_count": null,
   "id": "06e16b22",
   "metadata": {},
   "outputs": [],
   "source": []
  }
 ],
 "metadata": {
  "kernelspec": {
   "display_name": "decp_ml_env",
   "language": "python",
   "name": "python3"
  },
  "language_info": {
   "codemirror_mode": {
    "name": "ipython",
    "version": 3
   },
   "file_extension": ".py",
   "mimetype": "text/x-python",
   "name": "python",
   "nbconvert_exporter": "python",
   "pygments_lexer": "ipython3",
   "version": "3.10.6"
  }
 },
 "nbformat": 4,
 "nbformat_minor": 5
}
