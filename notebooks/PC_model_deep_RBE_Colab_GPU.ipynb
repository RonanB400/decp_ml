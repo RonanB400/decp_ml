{
 "cells": [
  {
   "cell_type": "code",
   "execution_count": 1,
   "id": "cc5601fe",
   "metadata": {
    "executionInfo": {
     "elapsed": 15,
     "status": "ok",
     "timestamp": 1749628974039,
     "user": {
      "displayName": "Ronan Bernard",
      "userId": "06444945164246045363"
     },
     "user_tz": -120
    },
    "id": "cc5601fe"
   },
   "outputs": [
    {
     "name": "stderr",
     "output_type": "stream",
     "text": [
      "2025-06-11 11:00:50.625587: I tensorflow/core/util/port.cc:111] oneDNN custom operations are on. You may see slightly different numerical results due to floating-point round-off errors from different computation orders. To turn them off, set the environment variable `TF_ENABLE_ONEDNN_OPTS=0`.\n",
      "2025-06-11 11:00:50.684007: I tensorflow/tsl/cuda/cudart_stub.cc:28] Could not find cuda drivers on your machine, GPU will not be used.\n",
      "2025-06-11 11:00:50.943891: E tensorflow/compiler/xla/stream_executor/cuda/cuda_dnn.cc:9342] Unable to register cuDNN factory: Attempting to register factory for plugin cuDNN when one has already been registered\n",
      "2025-06-11 11:00:50.943986: E tensorflow/compiler/xla/stream_executor/cuda/cuda_fft.cc:609] Unable to register cuFFT factory: Attempting to register factory for plugin cuFFT when one has already been registered\n",
      "2025-06-11 11:00:50.945791: E tensorflow/compiler/xla/stream_executor/cuda/cuda_blas.cc:1518] Unable to register cuBLAS factory: Attempting to register factory for plugin cuBLAS when one has already been registered\n",
      "2025-06-11 11:00:51.095933: I tensorflow/tsl/cuda/cudart_stub.cc:28] Could not find cuda drivers on your machine, GPU will not be used.\n",
      "2025-06-11 11:00:51.098035: I tensorflow/core/platform/cpu_feature_guard.cc:182] This TensorFlow binary is optimized to use available CPU instructions in performance-critical operations.\n",
      "To enable the following instructions: AVX2 AVX_VNNI FMA, in other operations, rebuild TensorFlow with the appropriate compiler flags.\n",
      "2025-06-11 11:00:52.445346: W tensorflow/compiler/tf2tensorrt/utils/py_utils.cc:38] TF-TRT Warning: Could not find TensorRT\n"
     ]
    }
   ],
   "source": [
    "import os\n",
    "import sys\n",
    "import pandas as pd\n",
    "import numpy as np\n",
    "import matplotlib.pyplot as plt\n",
    "\n",
    "from sklearn.model_selection import train_test_split\n",
    "\n",
    "from keras import Sequential, layers, Input, regularizers\n",
    "from keras.callbacks import EarlyStopping, ReduceLROnPlateau\n",
    "from keras.utils import to_categorical\n",
    "\n",
    "from scripts.data_cleaner import filter_top_cpv_categories\n",
    "from scripts.preprocess_pipeline import create_pipeline\n",
    "\n"
   ]
  },
  {
   "cell_type": "code",
   "execution_count": 23,
   "id": "V8odnI-hh8ru",
   "metadata": {
    "colab": {
     "base_uri": "https://localhost:8080/"
    },
    "executionInfo": {
     "elapsed": 3258,
     "status": "ok",
     "timestamp": 1749628977446,
     "user": {
      "displayName": "Ronan Bernard",
      "userId": "06444945164246045363"
     },
     "user_tz": -120
    },
    "id": "V8odnI-hh8ru",
    "outputId": "559b7300-a614-4d5f-e14b-61189cf75f87"
   },
   "outputs": [
    {
     "name": "stderr",
     "output_type": "stream",
     "text": [
      "<ipython-input-23-3011816324>:2: DtypeWarning: Columns (38) have mixed types. Specify dtype option on import or set low_memory=False.\n",
      "  df = pd.read_csv(os.path.join(data_path,'data_clean.csv'))\n"
     ]
    }
   ],
   "source": [
    "DATA_PATH = os.path.join(os.path.dirname(os.getcwd()),\n",
    "                        'data')\n",
    "MODEL_PATH = os.path.join(os.path.dirname(os.getcwd()),\n",
    "                            'models', 'anomalies')\n",
    "os.makedirs(MODEL_PATH, exist_ok=True)\n",
    "\n",
    "\n",
    "df = pd.read_csv(os.path.join(data_path,'data_clean.csv'))"
   ]
  },
  {
   "cell_type": "code",
   "execution_count": 24,
   "id": "f3f68ebd",
   "metadata": {
    "colab": {
     "base_uri": "https://localhost:8080/"
    },
    "executionInfo": {
     "elapsed": 422,
     "status": "ok",
     "timestamp": 1749628977869,
     "user": {
      "displayName": "Ronan Bernard",
      "userId": "06444945164246045363"
     },
     "user_tz": -120
    },
    "id": "f3f68ebd",
    "outputId": "eb9af530-3828-4d0f-b059-e9f79cf9073c"
   },
   "outputs": [
    {
     "name": "stdout",
     "output_type": "stream",
     "text": [
      "Filtered from 392 to 150 CPV categories, keeping 279174 rows out of 286850\n"
     ]
    }
   ],
   "source": [
    "df = filter_top_cpv_categories(df, top_n=150, cpv_column='codeCPV_3')\n",
    "df.drop(df[df['montant'] > 999_999].index, inplace=True)\n",
    "\n",
    "y = np.log1p(df['montant'])\n",
    "\n",
    "\n",
    "bins = np.linspace(y.min(), y.max(), 101)\n",
    "#bins = np.delete(bins, 1)\n",
    "\n",
    "#bins = bins[2:]\n",
    "\n",
    "# Créer les étiquettes correspondantes\n",
    "labels = list(range(0, len(bins)-1))\n",
    "\n",
    "# Ajouter la colonne fourchette_de_prix\n",
    "df['bins'] = pd.cut(y, bins=bins, labels=labels, include_lowest=True, right=True)\n",
    "\n",
    "df['bins'] = df['bins'].astype('int')\n",
    "df = df.drop(columns='montant')\n",
    "\n",
    "X = df.drop(columns=['bins', 'titulaire_tranche_effectif', 'titulaire_categorie'])\n",
    "y = df['bins']\n",
    "\n",
    "df[['acheteur_tranche_effectif', 'acheteur_categorie']] = df[['acheteur_tranche_effectif', 'acheteur_categorie']].fillna('null')\n"
   ]
  },
  {
   "cell_type": "code",
   "execution_count": 25,
   "id": "fa7b392d",
   "metadata": {
    "executionInfo": {
     "elapsed": 7177,
     "status": "ok",
     "timestamp": 1749628985049,
     "user": {
      "displayName": "Ronan Bernard",
      "userId": "06444945164246045363"
     },
     "user_tz": -120
    },
    "id": "fa7b392d"
   },
   "outputs": [],
   "source": [
    "X_train, X_test, y_train, y_test = train_test_split(\n",
    "    X, y, test_size=0.2, random_state=0, stratify=X['codeCPV_3'])\n",
    "\n",
    "numerical_columns = ['dureeMois', 'offresRecues', 'annee']\n",
    "\n",
    "binary_columns = ['sousTraitanceDeclaree', 'origineFrance',\n",
    "                          'marcheInnovant', 'idAccordCadre']\n",
    "\n",
    "categorical_columns = ['procedure', 'nature', 'formePrix', 'ccag',\n",
    "                               'typeGroupementOperateurs', 'tauxAvance_cat',\n",
    "                               'codeCPV_3', 'acheteur_tranche_effectif', 'acheteur_categorie']\n",
    "\n",
    "pipeline = create_pipeline(numerical_columns, binary_columns, categorical_columns)\n",
    "\n",
    "X_train_preproc = pipeline.fit_transform(X_train)\n",
    "\n",
    "y_train_cat = to_categorical(y_train)"
   ]
  },
  {
   "cell_type": "code",
   "execution_count": 26,
   "id": "IJO7fIpxATXn",
   "metadata": {
    "colab": {
     "base_uri": "https://localhost:8080/"
    },
    "executionInfo": {
     "elapsed": 26,
     "status": "ok",
     "timestamp": 1749628985077,
     "user": {
      "displayName": "Ronan Bernard",
      "userId": "06444945164246045363"
     },
     "user_tz": -120
    },
    "id": "IJO7fIpxATXn",
    "outputId": "45ab646c-18d8-4077-e6bf-dcd0b34a3852"
   },
   "outputs": [
    {
     "data": {
      "text/plain": [
       "(190530, 100)"
      ]
     },
     "execution_count": 26,
     "metadata": {},
     "output_type": "execute_result"
    }
   ],
   "source": [
    "y_train_cat.shape"
   ]
  },
  {
   "cell_type": "code",
   "execution_count": 37,
   "id": "19f0481c",
   "metadata": {
    "executionInfo": {
     "elapsed": 23,
     "status": "ok",
     "timestamp": 1749630391817,
     "user": {
      "displayName": "Ronan Bernard",
      "userId": "06444945164246045363"
     },
     "user_tz": -120
    },
    "id": "19f0481c"
   },
   "outputs": [],
   "source": [
    "def build_mlp_model(input_dim=220, num_classes=100, use_dropout=True, l2_factor=1e-4):\n",
    "    model = Sequential()\n",
    "    model.add(Input(shape=(input_dim,)))\n",
    "\n",
    "    # Couche 1\n",
    "    model.add(layers.Dense(\n",
    "        1028, activation='relu',\n",
    "        kernel_regularizer=regularizers.l2(l2_factor)\n",
    "    ))\n",
    "    model.add(layers.BatchNormalization())\n",
    "    if use_dropout:\n",
    "        model.add(layers.Dropout(0.4))\n",
    "\n",
    "    # Couche 2\n",
    "    model.add(layers.Dense(\n",
    "        512, activation='relu',\n",
    "        kernel_regularizer=regularizers.l2(l2_factor)\n",
    "    ))\n",
    "    model.add(layers.BatchNormalization())\n",
    "    if use_dropout:\n",
    "        model.add(layers.Dropout(0.3))\n",
    "\n",
    "    # Couche 3\n",
    "    model.add(layers.Dense(\n",
    "        256, activation='relu',\n",
    "        kernel_regularizer=regularizers.l2(l2_factor)\n",
    "    ))\n",
    "    model.add(layers.BatchNormalization())\n",
    "    if use_dropout:\n",
    "        model.add(layers.Dropout(0.2))\n",
    "\n",
    "    # Sortie\n",
    "    model.add(layers.Dense(\n",
    "        num_classes, activation='softmax',\n",
    "        kernel_regularizer=regularizers.l2(l2_factor)\n",
    "    ))\n",
    "\n",
    "    # Compilation\n",
    "    model.compile(\n",
    "        optimizer='adam',\n",
    "        loss='categorical_crossentropy',\n",
    "        metrics=['accuracy']\n",
    "    )\n",
    "\n",
    "    return model\n"
   ]
  },
  {
   "cell_type": "code",
   "execution_count": 38,
   "id": "45e077b1",
   "metadata": {
    "colab": {
     "base_uri": "https://localhost:8080/"
    },
    "executionInfo": {
     "elapsed": 5,
     "status": "ok",
     "timestamp": 1749630391912,
     "user": {
      "displayName": "Ronan Bernard",
      "userId": "06444945164246045363"
     },
     "user_tz": -120
    },
    "id": "45e077b1",
    "outputId": "a190e78e-de44-4351-d225-9cc49bd7d1cb"
   },
   "outputs": [
    {
     "data": {
      "text/plain": [
       "(190530, 100)"
      ]
     },
     "execution_count": 38,
     "metadata": {},
     "output_type": "execute_result"
    }
   ],
   "source": [
    "y_train_cat.shape"
   ]
  },
  {
   "cell_type": "code",
   "execution_count": 39,
   "id": "527447ff",
   "metadata": {
    "colab": {
     "base_uri": "https://localhost:8080/",
     "height": 1000
    },
    "executionInfo": {
     "elapsed": 1458297,
     "status": "error",
     "timestamp": 1749631850365,
     "user": {
      "displayName": "Ronan Bernard",
      "userId": "06444945164246045363"
     },
     "user_tz": -120
    },
    "id": "527447ff",
    "outputId": "0997102d-d07a-4263-c413-ff482096666d"
   },
   "outputs": [
    {
     "name": "stdout",
     "output_type": "stream",
     "text": [
      "Epoch 1/500\n",
      "\u001b[1m978/978\u001b[0m \u001b[32m━━━━━━━━━━━━━━━━━━━━\u001b[0m\u001b[37m\u001b[0m \u001b[1m15s\u001b[0m 9ms/step - accuracy: 0.0279 - loss: 5.8040 - val_accuracy: 0.0375 - val_loss: 4.6348 - learning_rate: 0.0010\n",
      "Epoch 2/500\n",
      "\u001b[1m978/978\u001b[0m \u001b[32m━━━━━━━━━━━━━━━━━━━━\u001b[0m\u001b[37m\u001b[0m \u001b[1m4s\u001b[0m 4ms/step - accuracy: 0.0379 - loss: 4.5851 - val_accuracy: 0.0423 - val_loss: 4.3955 - learning_rate: 0.0010\n",
      "Epoch 3/500\n",
      "\u001b[1m978/978\u001b[0m \u001b[32m━━━━━━━━━━━━━━━━━━━━\u001b[0m\u001b[37m\u001b[0m \u001b[1m4s\u001b[0m 4ms/step - accuracy: 0.0388 - loss: 4.4015 - val_accuracy: 0.0398 - val_loss: 4.3594 - learning_rate: 0.0010\n",
      "Epoch 4/500\n",
      "\u001b[1m978/978\u001b[0m \u001b[32m━━━━━━━━━━━━━━━━━━━━\u001b[0m\u001b[37m\u001b[0m \u001b[1m6s\u001b[0m 5ms/step - accuracy: 0.0377 - loss: 4.3708 - val_accuracy: 0.0407 - val_loss: 4.3440 - learning_rate: 0.0010\n",
      "Epoch 5/500\n",
      "\u001b[1m978/978\u001b[0m \u001b[32m━━━━━━━━━━━━━━━━━━━━\u001b[0m\u001b[37m\u001b[0m \u001b[1m4s\u001b[0m 4ms/step - accuracy: 0.0377 - loss: 4.3533 - val_accuracy: 0.0399 - val_loss: 4.3432 - learning_rate: 0.0010\n",
      "Epoch 6/500\n",
      "\u001b[1m978/978\u001b[0m \u001b[32m━━━━━━━━━━━━━━━━━━━━\u001b[0m\u001b[37m\u001b[0m \u001b[1m4s\u001b[0m 4ms/step - accuracy: 0.0382 - loss: 4.3468 - val_accuracy: 0.0391 - val_loss: 4.3329 - learning_rate: 0.0010\n",
      "Epoch 7/500\n",
      "\u001b[1m978/978\u001b[0m \u001b[32m━━━━━━━━━━━━━━━━━━━━\u001b[0m\u001b[37m\u001b[0m \u001b[1m5s\u001b[0m 5ms/step - accuracy: 0.0398 - loss: 4.3404 - val_accuracy: 0.0409 - val_loss: 4.3328 - learning_rate: 0.0010\n",
      "Epoch 8/500\n",
      "\u001b[1m978/978\u001b[0m \u001b[32m━━━━━━━━━━━━━━━━━━━━\u001b[0m\u001b[37m\u001b[0m \u001b[1m4s\u001b[0m 4ms/step - accuracy: 0.0382 - loss: 4.3386 - val_accuracy: 0.0400 - val_loss: 4.3168 - learning_rate: 0.0010\n",
      "Epoch 9/500\n",
      "\u001b[1m978/978\u001b[0m \u001b[32m━━━━━━━━━━━━━━━━━━━━\u001b[0m\u001b[37m\u001b[0m \u001b[1m5s\u001b[0m 4ms/step - accuracy: 0.0381 - loss: 4.3284 - val_accuracy: 0.0397 - val_loss: 4.3207 - learning_rate: 0.0010\n",
      "Epoch 10/500\n",
      "\u001b[1m978/978\u001b[0m \u001b[32m━━━━━━━━━━━━━━━━━━━━\u001b[0m\u001b[37m\u001b[0m \u001b[1m6s\u001b[0m 5ms/step - accuracy: 0.0390 - loss: 4.3251 - val_accuracy: 0.0411 - val_loss: 4.3127 - learning_rate: 0.0010\n",
      "Epoch 11/500\n",
      "\u001b[1m978/978\u001b[0m \u001b[32m━━━━━━━━━━━━━━━━━━━━\u001b[0m\u001b[37m\u001b[0m \u001b[1m4s\u001b[0m 4ms/step - accuracy: 0.0394 - loss: 4.3264 - val_accuracy: 0.0406 - val_loss: 4.3171 - learning_rate: 0.0010\n",
      "Epoch 12/500\n",
      "\u001b[1m978/978\u001b[0m \u001b[32m━━━━━━━━━━━━━━━━━━━━\u001b[0m\u001b[37m\u001b[0m \u001b[1m4s\u001b[0m 4ms/step - accuracy: 0.0396 - loss: 4.3200 - val_accuracy: 0.0416 - val_loss: 4.2964 - learning_rate: 0.0010\n",
      "Epoch 13/500\n",
      "\u001b[1m978/978\u001b[0m \u001b[32m━━━━━━━━━━━━━━━━━━━━\u001b[0m\u001b[37m\u001b[0m \u001b[1m5s\u001b[0m 5ms/step - accuracy: 0.0398 - loss: 4.3144 - val_accuracy: 0.0412 - val_loss: 4.2949 - learning_rate: 0.0010\n",
      "Epoch 14/500\n",
      "\u001b[1m978/978\u001b[0m \u001b[32m━━━━━━━━━━━━━━━━━━━━\u001b[0m\u001b[37m\u001b[0m \u001b[1m4s\u001b[0m 4ms/step - accuracy: 0.0384 - loss: 4.3121 - val_accuracy: 0.0414 - val_loss: 4.2977 - learning_rate: 0.0010\n",
      "Epoch 15/500\n",
      "\u001b[1m978/978\u001b[0m \u001b[32m━━━━━━━━━━━━━━━━━━━━\u001b[0m\u001b[37m\u001b[0m \u001b[1m5s\u001b[0m 4ms/step - accuracy: 0.0394 - loss: 4.3078 - val_accuracy: 0.0393 - val_loss: 4.2980 - learning_rate: 0.0010\n",
      "Epoch 16/500\n",
      "\u001b[1m978/978\u001b[0m \u001b[32m━━━━━━━━━━━━━━━━━━━━\u001b[0m\u001b[37m\u001b[0m \u001b[1m5s\u001b[0m 4ms/step - accuracy: 0.0396 - loss: 4.3093 - val_accuracy: 0.0406 - val_loss: 4.2910 - learning_rate: 0.0010\n",
      "Epoch 17/500\n",
      "\u001b[1m978/978\u001b[0m \u001b[32m━━━━━━━━━━━━━━━━━━━━\u001b[0m\u001b[37m\u001b[0m \u001b[1m4s\u001b[0m 4ms/step - accuracy: 0.0396 - loss: 4.3066 - val_accuracy: 0.0411 - val_loss: 4.2857 - learning_rate: 0.0010\n",
      "Epoch 18/500\n",
      "\u001b[1m978/978\u001b[0m \u001b[32m━━━━━━━━━━━━━━━━━━━━\u001b[0m\u001b[37m\u001b[0m \u001b[1m5s\u001b[0m 5ms/step - accuracy: 0.0393 - loss: 4.3035 - val_accuracy: 0.0406 - val_loss: 4.2872 - learning_rate: 0.0010\n",
      "Epoch 19/500\n",
      "\u001b[1m978/978\u001b[0m \u001b[32m━━━━━━━━━━━━━━━━━━━━\u001b[0m\u001b[37m\u001b[0m \u001b[1m4s\u001b[0m 4ms/step - accuracy: 0.0387 - loss: 4.2995 - val_accuracy: 0.0404 - val_loss: 4.2876 - learning_rate: 0.0010\n",
      "Epoch 20/500\n",
      "\u001b[1m978/978\u001b[0m \u001b[32m━━━━━━━━━━━━━━━━━━━━\u001b[0m\u001b[37m\u001b[0m \u001b[1m4s\u001b[0m 4ms/step - accuracy: 0.0395 - loss: 4.2981 - val_accuracy: 0.0393 - val_loss: 4.2827 - learning_rate: 0.0010\n",
      "Epoch 21/500\n",
      "\u001b[1m978/978\u001b[0m \u001b[32m━━━━━━━━━━━━━━━━━━━━\u001b[0m\u001b[37m\u001b[0m \u001b[1m6s\u001b[0m 5ms/step - accuracy: 0.0389 - loss: 4.2965 - val_accuracy: 0.0420 - val_loss: 4.2772 - learning_rate: 0.0010\n",
      "Epoch 22/500\n",
      "\u001b[1m978/978\u001b[0m \u001b[32m━━━━━━━━━━━━━━━━━━━━\u001b[0m\u001b[37m\u001b[0m \u001b[1m4s\u001b[0m 4ms/step - accuracy: 0.0400 - loss: 4.2967 - val_accuracy: 0.0417 - val_loss: 4.2877 - learning_rate: 0.0010\n",
      "Epoch 23/500\n",
      "\u001b[1m978/978\u001b[0m \u001b[32m━━━━━━━━━━━━━━━━━━━━\u001b[0m\u001b[37m\u001b[0m \u001b[1m4s\u001b[0m 4ms/step - accuracy: 0.0396 - loss: 4.2950 - val_accuracy: 0.0416 - val_loss: 4.2756 - learning_rate: 0.0010\n",
      "Epoch 24/500\n",
      "\u001b[1m978/978\u001b[0m \u001b[32m━━━━━━━━━━━━━━━━━━━━\u001b[0m\u001b[37m\u001b[0m \u001b[1m5s\u001b[0m 5ms/step - accuracy: 0.0395 - loss: 4.2910 - val_accuracy: 0.0409 - val_loss: 4.2761 - learning_rate: 0.0010\n",
      "Epoch 25/500\n",
      "\u001b[1m978/978\u001b[0m \u001b[32m━━━━━━━━━━━━━━━━━━━━\u001b[0m\u001b[37m\u001b[0m \u001b[1m4s\u001b[0m 4ms/step - accuracy: 0.0401 - loss: 4.2896 - val_accuracy: 0.0424 - val_loss: 4.2754 - learning_rate: 0.0010\n",
      "Epoch 26/500\n",
      "\u001b[1m978/978\u001b[0m \u001b[32m━━━━━━━━━━━━━━━━━━━━\u001b[0m\u001b[37m\u001b[0m \u001b[1m4s\u001b[0m 4ms/step - accuracy: 0.0390 - loss: 4.2898 - val_accuracy: 0.0409 - val_loss: 4.2686 - learning_rate: 0.0010\n",
      "Epoch 27/500\n",
      "\u001b[1m978/978\u001b[0m \u001b[32m━━━━━━━━━━━━━━━━━━━━\u001b[0m\u001b[37m\u001b[0m \u001b[1m5s\u001b[0m 5ms/step - accuracy: 0.0385 - loss: 4.2909 - val_accuracy: 0.0431 - val_loss: 4.2683 - learning_rate: 0.0010\n",
      "Epoch 28/500\n",
      "\u001b[1m978/978\u001b[0m \u001b[32m━━━━━━━━━━━━━━━━━━━━\u001b[0m\u001b[37m\u001b[0m \u001b[1m4s\u001b[0m 4ms/step - accuracy: 0.0408 - loss: 4.2852 - val_accuracy: 0.0422 - val_loss: 4.2627 - learning_rate: 0.0010\n",
      "Epoch 29/500\n",
      "\u001b[1m978/978\u001b[0m \u001b[32m━━━━━━━━━━━━━━━━━━━━\u001b[0m\u001b[37m\u001b[0m \u001b[1m4s\u001b[0m 4ms/step - accuracy: 0.0402 - loss: 4.2860 - val_accuracy: 0.0419 - val_loss: 4.2658 - learning_rate: 0.0010\n",
      "Epoch 30/500\n",
      "\u001b[1m978/978\u001b[0m \u001b[32m━━━━━━━━━━━━━━━━━━━━\u001b[0m\u001b[37m\u001b[0m \u001b[1m6s\u001b[0m 5ms/step - accuracy: 0.0403 - loss: 4.2882 - val_accuracy: 0.0417 - val_loss: 4.2643 - learning_rate: 0.0010\n",
      "Epoch 31/500\n",
      "\u001b[1m978/978\u001b[0m \u001b[32m━━━━━━━━━━━━━━━━━━━━\u001b[0m\u001b[37m\u001b[0m \u001b[1m4s\u001b[0m 4ms/step - accuracy: 0.0398 - loss: 4.2842 - val_accuracy: 0.0416 - val_loss: 4.2627 - learning_rate: 0.0010\n",
      "Epoch 32/500\n",
      "\u001b[1m978/978\u001b[0m \u001b[32m━━━━━━━━━━━━━━━━━━━━\u001b[0m\u001b[37m\u001b[0m \u001b[1m4s\u001b[0m 4ms/step - accuracy: 0.0398 - loss: 4.2809 - val_accuracy: 0.0421 - val_loss: 4.2676 - learning_rate: 0.0010\n",
      "Epoch 33/500\n",
      "\u001b[1m978/978\u001b[0m \u001b[32m━━━━━━━━━━━━━━━━━━━━\u001b[0m\u001b[37m\u001b[0m \u001b[1m6s\u001b[0m 4ms/step - accuracy: 0.0409 - loss: 4.2833 - val_accuracy: 0.0416 - val_loss: 4.2613 - learning_rate: 0.0010\n",
      "Epoch 34/500\n",
      "\u001b[1m978/978\u001b[0m \u001b[32m━━━━━━━━━━━━━━━━━━━━\u001b[0m\u001b[37m\u001b[0m \u001b[1m5s\u001b[0m 4ms/step - accuracy: 0.0405 - loss: 4.2821 - val_accuracy: 0.0450 - val_loss: 4.2584 - learning_rate: 0.0010\n",
      "Epoch 35/500\n",
      "\u001b[1m978/978\u001b[0m \u001b[32m━━━━━━━━━━━━━━━━━━━━\u001b[0m\u001b[37m\u001b[0m \u001b[1m5s\u001b[0m 5ms/step - accuracy: 0.0412 - loss: 4.2811 - val_accuracy: 0.0424 - val_loss: 4.2642 - learning_rate: 0.0010\n",
      "Epoch 36/500\n",
      "\u001b[1m978/978\u001b[0m \u001b[32m━━━━━━━━━━━━━━━━━━━━\u001b[0m\u001b[37m\u001b[0m \u001b[1m5s\u001b[0m 4ms/step - accuracy: 0.0403 - loss: 4.2797 - val_accuracy: 0.0424 - val_loss: 4.2604 - learning_rate: 0.0010\n",
      "Epoch 37/500\n",
      "\u001b[1m978/978\u001b[0m \u001b[32m━━━━━━━━━━━━━━━━━━━━\u001b[0m\u001b[37m\u001b[0m \u001b[1m5s\u001b[0m 4ms/step - accuracy: 0.0402 - loss: 4.2796 - val_accuracy: 0.0439 - val_loss: 4.2620 - learning_rate: 0.0010\n",
      "Epoch 38/500\n",
      "\u001b[1m978/978\u001b[0m \u001b[32m━━━━━━━━━━━━━━━━━━━━\u001b[0m\u001b[37m\u001b[0m \u001b[1m5s\u001b[0m 5ms/step - accuracy: 0.0408 - loss: 4.2784 - val_accuracy: 0.0435 - val_loss: 4.2590 - learning_rate: 0.0010\n",
      "Epoch 39/500\n",
      "\u001b[1m978/978\u001b[0m \u001b[32m━━━━━━━━━━━━━━━━━━━━\u001b[0m\u001b[37m\u001b[0m \u001b[1m4s\u001b[0m 4ms/step - accuracy: 0.0404 - loss: 4.2776 - val_accuracy: 0.0427 - val_loss: 4.2546 - learning_rate: 0.0010\n",
      "Epoch 40/500\n",
      "\u001b[1m978/978\u001b[0m \u001b[32m━━━━━━━━━━━━━━━━━━━━\u001b[0m\u001b[37m\u001b[0m \u001b[1m5s\u001b[0m 4ms/step - accuracy: 0.0394 - loss: 4.2809 - val_accuracy: 0.0412 - val_loss: 4.2615 - learning_rate: 0.0010\n",
      "Epoch 41/500\n",
      "\u001b[1m978/978\u001b[0m \u001b[32m━━━━━━━━━━━━━━━━━━━━\u001b[0m\u001b[37m\u001b[0m \u001b[1m6s\u001b[0m 5ms/step - accuracy: 0.0402 - loss: 4.2763 - val_accuracy: 0.0416 - val_loss: 4.2589 - learning_rate: 0.0010\n",
      "Epoch 42/500\n",
      "\u001b[1m978/978\u001b[0m \u001b[32m━━━━━━━━━━━━━━━━━━━━\u001b[0m\u001b[37m\u001b[0m \u001b[1m5s\u001b[0m 4ms/step - accuracy: 0.0398 - loss: 4.2770 - val_accuracy: 0.0427 - val_loss: 4.2572 - learning_rate: 0.0010\n",
      "Epoch 43/500\n",
      "\u001b[1m978/978\u001b[0m \u001b[32m━━━━━━━━━━━━━━━━━━━━\u001b[0m\u001b[37m\u001b[0m \u001b[1m6s\u001b[0m 5ms/step - accuracy: 0.0410 - loss: 4.2764 - val_accuracy: 0.0417 - val_loss: 4.2582 - learning_rate: 0.0010\n",
      "Epoch 44/500\n",
      "\u001b[1m978/978\u001b[0m \u001b[32m━━━━━━━━━━━━━━━━━━━━\u001b[0m\u001b[37m\u001b[0m \u001b[1m0s\u001b[0m 3ms/step - accuracy: 0.0401 - loss: 4.2772\n",
      "Epoch 44: ReduceLROnPlateau reducing learning rate to 0.0005000000237487257.\n",
      "\u001b[1m978/978\u001b[0m \u001b[32m━━━━━━━━━━━━━━━━━━━━\u001b[0m\u001b[37m\u001b[0m \u001b[1m4s\u001b[0m 4ms/step - accuracy: 0.0401 - loss: 4.2772 - val_accuracy: 0.0421 - val_loss: 4.2553 - learning_rate: 0.0010\n",
      "Epoch 45/500\n",
      "\u001b[1m978/978\u001b[0m \u001b[32m━━━━━━━━━━━━━━━━━━━━\u001b[0m\u001b[37m\u001b[0m \u001b[1m5s\u001b[0m 4ms/step - accuracy: 0.0405 - loss: 4.2621 - val_accuracy: 0.0450 - val_loss: 4.2298 - learning_rate: 5.0000e-04\n",
      "Epoch 46/500\n",
      "\u001b[1m978/978\u001b[0m \u001b[32m━━━━━━━━━━━━━━━━━━━━\u001b[0m\u001b[37m\u001b[0m \u001b[1m5s\u001b[0m 5ms/step - accuracy: 0.0429 - loss: 4.2458 - val_accuracy: 0.0454 - val_loss: 4.2252 - learning_rate: 5.0000e-04\n",
      "Epoch 47/500\n",
      "\u001b[1m978/978\u001b[0m \u001b[32m━━━━━━━━━━━━━━━━━━━━\u001b[0m\u001b[37m\u001b[0m \u001b[1m4s\u001b[0m 4ms/step - accuracy: 0.0412 - loss: 4.2450 - val_accuracy: 0.0455 - val_loss: 4.2239 - learning_rate: 5.0000e-04\n",
      "Epoch 48/500\n",
      "\u001b[1m978/978\u001b[0m \u001b[32m━━━━━━━━━━━━━━━━━━━━\u001b[0m\u001b[37m\u001b[0m \u001b[1m4s\u001b[0m 4ms/step - accuracy: 0.0431 - loss: 4.2414 - val_accuracy: 0.0445 - val_loss: 4.2208 - learning_rate: 5.0000e-04\n",
      "Epoch 49/500\n",
      "\u001b[1m978/978\u001b[0m \u001b[32m━━━━━━━━━━━━━━━━━━━━\u001b[0m\u001b[37m\u001b[0m \u001b[1m6s\u001b[0m 5ms/step - accuracy: 0.0423 - loss: 4.2390 - val_accuracy: 0.0473 - val_loss: 4.2195 - learning_rate: 5.0000e-04\n",
      "Epoch 50/500\n",
      "\u001b[1m978/978\u001b[0m \u001b[32m━━━━━━━━━━━━━━━━━━━━\u001b[0m\u001b[37m\u001b[0m \u001b[1m4s\u001b[0m 4ms/step - accuracy: 0.0449 - loss: 4.2381 - val_accuracy: 0.0451 - val_loss: 4.2221 - learning_rate: 5.0000e-04\n",
      "Epoch 51/500\n",
      "\u001b[1m978/978\u001b[0m \u001b[32m━━━━━━━━━━━━━━━━━━━━\u001b[0m\u001b[37m\u001b[0m \u001b[1m6s\u001b[0m 5ms/step - accuracy: 0.0426 - loss: 4.2333 - val_accuracy: 0.0444 - val_loss: 4.2172 - learning_rate: 5.0000e-04\n",
      "Epoch 52/500\n",
      "\u001b[1m978/978\u001b[0m \u001b[32m━━━━━━━━━━━━━━━━━━━━\u001b[0m\u001b[37m\u001b[0m \u001b[1m4s\u001b[0m 4ms/step - accuracy: 0.0430 - loss: 4.2346 - val_accuracy: 0.0456 - val_loss: 4.2168 - learning_rate: 5.0000e-04\n",
      "Epoch 53/500\n",
      "\u001b[1m978/978\u001b[0m \u001b[32m━━━━━━━━━━━━━━━━━━━━\u001b[0m\u001b[37m\u001b[0m \u001b[1m4s\u001b[0m 4ms/step - accuracy: 0.0430 - loss: 4.2369 - val_accuracy: 0.0444 - val_loss: 4.2179 - learning_rate: 5.0000e-04\n",
      "Epoch 54/500\n",
      "\u001b[1m978/978\u001b[0m \u001b[32m━━━━━━━━━━━━━━━━━━━━\u001b[0m\u001b[37m\u001b[0m \u001b[1m6s\u001b[0m 5ms/step - accuracy: 0.0433 - loss: 4.2319 - val_accuracy: 0.0453 - val_loss: 4.2161 - learning_rate: 5.0000e-04\n",
      "Epoch 55/500\n",
      "\u001b[1m978/978\u001b[0m \u001b[32m━━━━━━━━━━━━━━━━━━━━\u001b[0m\u001b[37m\u001b[0m \u001b[1m4s\u001b[0m 4ms/step - accuracy: 0.0419 - loss: 4.2336 - val_accuracy: 0.0457 - val_loss: 4.2151 - learning_rate: 5.0000e-04\n",
      "Epoch 56/500\n",
      "\u001b[1m978/978\u001b[0m \u001b[32m━━━━━━━━━━━━━━━━━━━━\u001b[0m\u001b[37m\u001b[0m \u001b[1m5s\u001b[0m 4ms/step - accuracy: 0.0430 - loss: 4.2381 - val_accuracy: 0.0455 - val_loss: 4.2145 - learning_rate: 5.0000e-04\n",
      "Epoch 57/500\n",
      "\u001b[1m978/978\u001b[0m \u001b[32m━━━━━━━━━━━━━━━━━━━━\u001b[0m\u001b[37m\u001b[0m \u001b[1m5s\u001b[0m 5ms/step - accuracy: 0.0442 - loss: 4.2335 - val_accuracy: 0.0472 - val_loss: 4.2130 - learning_rate: 5.0000e-04\n",
      "Epoch 58/500\n",
      "\u001b[1m978/978\u001b[0m \u001b[32m━━━━━━━━━━━━━━━━━━━━\u001b[0m\u001b[37m\u001b[0m \u001b[1m4s\u001b[0m 4ms/step - accuracy: 0.0453 - loss: 4.2285 - val_accuracy: 0.0468 - val_loss: 4.2160 - learning_rate: 5.0000e-04\n",
      "Epoch 59/500\n",
      "\u001b[1m978/978\u001b[0m \u001b[32m━━━━━━━━━━━━━━━━━━━━\u001b[0m\u001b[37m\u001b[0m \u001b[1m6s\u001b[0m 5ms/step - accuracy: 0.0448 - loss: 4.2344 - val_accuracy: 0.0463 - val_loss: 4.2146 - learning_rate: 5.0000e-04\n",
      "Epoch 60/500\n",
      "\u001b[1m978/978\u001b[0m \u001b[32m━━━━━━━━━━━━━━━━━━━━\u001b[0m\u001b[37m\u001b[0m \u001b[1m4s\u001b[0m 4ms/step - accuracy: 0.0443 - loss: 4.2280 - val_accuracy: 0.0461 - val_loss: 4.2151 - learning_rate: 5.0000e-04\n",
      "Epoch 61/500\n",
      "\u001b[1m978/978\u001b[0m \u001b[32m━━━━━━━━━━━━━━━━━━━━\u001b[0m\u001b[37m\u001b[0m \u001b[1m4s\u001b[0m 4ms/step - accuracy: 0.0441 - loss: 4.2303 - val_accuracy: 0.0468 - val_loss: 4.2142 - learning_rate: 5.0000e-04\n",
      "Epoch 62/500\n",
      "\u001b[1m978/978\u001b[0m \u001b[32m━━━━━━━━━━━━━━━━━━━━\u001b[0m\u001b[37m\u001b[0m \u001b[1m6s\u001b[0m 5ms/step - accuracy: 0.0436 - loss: 4.2294 - val_accuracy: 0.0467 - val_loss: 4.2124 - learning_rate: 5.0000e-04\n",
      "Epoch 63/500\n",
      "\u001b[1m978/978\u001b[0m \u001b[32m━━━━━━━━━━━━━━━━━━━━\u001b[0m\u001b[37m\u001b[0m \u001b[1m4s\u001b[0m 4ms/step - accuracy: 0.0448 - loss: 4.2259 - val_accuracy: 0.0454 - val_loss: 4.2153 - learning_rate: 5.0000e-04\n",
      "Epoch 64/500\n",
      "\u001b[1m978/978\u001b[0m \u001b[32m━━━━━━━━━━━━━━━━━━━━\u001b[0m\u001b[37m\u001b[0m \u001b[1m5s\u001b[0m 4ms/step - accuracy: 0.0433 - loss: 4.2310 - val_accuracy: 0.0467 - val_loss: 4.2130 - learning_rate: 5.0000e-04\n",
      "Epoch 65/500\n",
      "\u001b[1m978/978\u001b[0m \u001b[32m━━━━━━━━━━━━━━━━━━━━\u001b[0m\u001b[37m\u001b[0m \u001b[1m5s\u001b[0m 4ms/step - accuracy: 0.0451 - loss: 4.2298 - val_accuracy: 0.0459 - val_loss: 4.2132 - learning_rate: 5.0000e-04\n",
      "Epoch 66/500\n",
      "\u001b[1m978/978\u001b[0m \u001b[32m━━━━━━━━━━━━━━━━━━━━\u001b[0m\u001b[37m\u001b[0m \u001b[1m4s\u001b[0m 4ms/step - accuracy: 0.0454 - loss: 4.2286 - val_accuracy: 0.0461 - val_loss: 4.2119 - learning_rate: 5.0000e-04\n",
      "Epoch 67/500\n",
      "\u001b[1m978/978\u001b[0m \u001b[32m━━━━━━━━━━━━━━━━━━━━\u001b[0m\u001b[37m\u001b[0m \u001b[1m4s\u001b[0m 4ms/step - accuracy: 0.0446 - loss: 4.2289 - val_accuracy: 0.0471 - val_loss: 4.2145 - learning_rate: 5.0000e-04\n",
      "Epoch 68/500\n",
      "\u001b[1m978/978\u001b[0m \u001b[32m━━━━━━━━━━━━━━━━━━━━\u001b[0m\u001b[37m\u001b[0m \u001b[1m4s\u001b[0m 5ms/step - accuracy: 0.0456 - loss: 4.2306 - val_accuracy: 0.0472 - val_loss: 4.2100 - learning_rate: 5.0000e-04\n",
      "Epoch 69/500\n",
      "\u001b[1m978/978\u001b[0m \u001b[32m━━━━━━━━━━━━━━━━━━━━\u001b[0m\u001b[37m\u001b[0m \u001b[1m4s\u001b[0m 4ms/step - accuracy: 0.0450 - loss: 4.2277 - val_accuracy: 0.0466 - val_loss: 4.2166 - learning_rate: 5.0000e-04\n",
      "Epoch 70/500\n",
      "\u001b[1m978/978\u001b[0m \u001b[32m━━━━━━━━━━━━━━━━━━━━\u001b[0m\u001b[37m\u001b[0m \u001b[1m6s\u001b[0m 5ms/step - accuracy: 0.0450 - loss: 4.2279 - val_accuracy: 0.0466 - val_loss: 4.2132 - learning_rate: 5.0000e-04\n",
      "Epoch 71/500\n",
      "\u001b[1m978/978\u001b[0m \u001b[32m━━━━━━━━━━━━━━━━━━━━\u001b[0m\u001b[37m\u001b[0m \u001b[1m4s\u001b[0m 4ms/step - accuracy: 0.0442 - loss: 4.2293 - val_accuracy: 0.0480 - val_loss: 4.2148 - learning_rate: 5.0000e-04\n",
      "Epoch 72/500\n",
      "\u001b[1m978/978\u001b[0m \u001b[32m━━━━━━━━━━━━━━━━━━━━\u001b[0m\u001b[37m\u001b[0m \u001b[1m5s\u001b[0m 4ms/step - accuracy: 0.0454 - loss: 4.2262 - val_accuracy: 0.0490 - val_loss: 4.2156 - learning_rate: 5.0000e-04\n",
      "Epoch 73/500\n",
      "\u001b[1m966/978\u001b[0m \u001b[32m━━━━━━━━━━━━━━━━━━━\u001b[0m\u001b[37m━\u001b[0m \u001b[1m0s\u001b[0m 4ms/step - accuracy: 0.0462 - loss: 4.2283\n",
      "Epoch 73: ReduceLROnPlateau reducing learning rate to 0.0002500000118743628.\n",
      "\u001b[1m978/978\u001b[0m \u001b[32m━━━━━━━━━━━━━━━━━━━━\u001b[0m\u001b[37m\u001b[0m \u001b[1m6s\u001b[0m 5ms/step - accuracy: 0.0462 - loss: 4.2283 - val_accuracy: 0.0476 - val_loss: 4.2115 - learning_rate: 5.0000e-04\n",
      "Epoch 74/500\n",
      "\u001b[1m978/978\u001b[0m \u001b[32m━━━━━━━━━━━━━━━━━━━━\u001b[0m\u001b[37m\u001b[0m \u001b[1m4s\u001b[0m 4ms/step - accuracy: 0.0469 - loss: 4.2148 - val_accuracy: 0.0502 - val_loss: 4.1957 - learning_rate: 2.5000e-04\n",
      "Epoch 75/500\n",
      "\u001b[1m978/978\u001b[0m \u001b[32m━━━━━━━━━━━━━━━━━━━━\u001b[0m\u001b[37m\u001b[0m \u001b[1m4s\u001b[0m 4ms/step - accuracy: 0.0469 - loss: 4.2060 - val_accuracy: 0.0495 - val_loss: 4.1914 - learning_rate: 2.5000e-04\n",
      "Epoch 76/500\n",
      "\u001b[1m978/978\u001b[0m \u001b[32m━━━━━━━━━━━━━━━━━━━━\u001b[0m\u001b[37m\u001b[0m \u001b[1m5s\u001b[0m 5ms/step - accuracy: 0.0487 - loss: 4.1976 - val_accuracy: 0.0512 - val_loss: 4.1884 - learning_rate: 2.5000e-04\n",
      "Epoch 77/500\n",
      "\u001b[1m978/978\u001b[0m \u001b[32m━━━━━━━━━━━━━━━━━━━━\u001b[0m\u001b[37m\u001b[0m \u001b[1m4s\u001b[0m 4ms/step - accuracy: 0.0483 - loss: 4.1993 - val_accuracy: 0.0492 - val_loss: 4.1863 - learning_rate: 2.5000e-04\n",
      "Epoch 78/500\n",
      "\u001b[1m978/978\u001b[0m \u001b[32m━━━━━━━━━━━━━━━━━━━━\u001b[0m\u001b[37m\u001b[0m \u001b[1m6s\u001b[0m 5ms/step - accuracy: 0.0478 - loss: 4.1952 - val_accuracy: 0.0515 - val_loss: 4.1850 - learning_rate: 2.5000e-04\n",
      "Epoch 79/500\n",
      "\u001b[1m978/978\u001b[0m \u001b[32m━━━━━━━━━━━━━━━━━━━━\u001b[0m\u001b[37m\u001b[0m \u001b[1m5s\u001b[0m 4ms/step - accuracy: 0.0475 - loss: 4.1965 - val_accuracy: 0.0526 - val_loss: 4.1832 - learning_rate: 2.5000e-04\n",
      "Epoch 80/500\n",
      "\u001b[1m978/978\u001b[0m \u001b[32m━━━━━━━━━━━━━━━━━━━━\u001b[0m\u001b[37m\u001b[0m \u001b[1m4s\u001b[0m 4ms/step - accuracy: 0.0483 - loss: 4.1951 - val_accuracy: 0.0519 - val_loss: 4.1815 - learning_rate: 2.5000e-04\n",
      "Epoch 81/500\n",
      "\u001b[1m978/978\u001b[0m \u001b[32m━━━━━━━━━━━━━━━━━━━━\u001b[0m\u001b[37m\u001b[0m \u001b[1m4s\u001b[0m 4ms/step - accuracy: 0.0495 - loss: 4.1888 - val_accuracy: 0.0508 - val_loss: 4.1796 - learning_rate: 2.5000e-04\n",
      "Epoch 82/500\n",
      "\u001b[1m978/978\u001b[0m \u001b[32m━━━━━━━━━━━━━━━━━━━━\u001b[0m\u001b[37m\u001b[0m \u001b[1m5s\u001b[0m 4ms/step - accuracy: 0.0497 - loss: 4.1880 - val_accuracy: 0.0526 - val_loss: 4.1819 - learning_rate: 2.5000e-04\n",
      "Epoch 83/500\n",
      "\u001b[1m978/978\u001b[0m \u001b[32m━━━━━━━━━━━━━━━━━━━━\u001b[0m\u001b[37m\u001b[0m \u001b[1m5s\u001b[0m 4ms/step - accuracy: 0.0491 - loss: 4.1885 - val_accuracy: 0.0524 - val_loss: 4.1808 - learning_rate: 2.5000e-04\n",
      "Epoch 84/500\n",
      "\u001b[1m978/978\u001b[0m \u001b[32m━━━━━━━━━━━━━━━━━━━━\u001b[0m\u001b[37m\u001b[0m \u001b[1m5s\u001b[0m 5ms/step - accuracy: 0.0491 - loss: 4.1871 - val_accuracy: 0.0523 - val_loss: 4.1801 - learning_rate: 2.5000e-04\n",
      "Epoch 85/500\n",
      "\u001b[1m978/978\u001b[0m \u001b[32m━━━━━━━━━━━━━━━━━━━━\u001b[0m\u001b[37m\u001b[0m \u001b[1m4s\u001b[0m 4ms/step - accuracy: 0.0501 - loss: 4.1857 - val_accuracy: 0.0526 - val_loss: 4.1790 - learning_rate: 2.5000e-04\n",
      "Epoch 86/500\n",
      "\u001b[1m978/978\u001b[0m \u001b[32m━━━━━━━━━━━━━━━━━━━━\u001b[0m\u001b[37m\u001b[0m \u001b[1m4s\u001b[0m 4ms/step - accuracy: 0.0497 - loss: 4.1904 - val_accuracy: 0.0519 - val_loss: 4.1801 - learning_rate: 2.5000e-04\n",
      "Epoch 87/500\n",
      "\u001b[1m978/978\u001b[0m \u001b[32m━━━━━━━━━━━━━━━━━━━━\u001b[0m\u001b[37m\u001b[0m \u001b[1m6s\u001b[0m 5ms/step - accuracy: 0.0494 - loss: 4.1874 - val_accuracy: 0.0520 - val_loss: 4.1784 - learning_rate: 2.5000e-04\n",
      "Epoch 88/500\n",
      "\u001b[1m978/978\u001b[0m \u001b[32m━━━━━━━━━━━━━━━━━━━━\u001b[0m\u001b[37m\u001b[0m \u001b[1m4s\u001b[0m 4ms/step - accuracy: 0.0509 - loss: 4.1852 - val_accuracy: 0.0503 - val_loss: 4.1769 - learning_rate: 2.5000e-04\n",
      "Epoch 89/500\n",
      "\u001b[1m978/978\u001b[0m \u001b[32m━━━━━━━━━━━━━━━━━━━━\u001b[0m\u001b[37m\u001b[0m \u001b[1m4s\u001b[0m 4ms/step - accuracy: 0.0507 - loss: 4.1865 - val_accuracy: 0.0518 - val_loss: 4.1782 - learning_rate: 2.5000e-04\n",
      "Epoch 90/500\n",
      "\u001b[1m978/978\u001b[0m \u001b[32m━━━━━━━━━━━━━━━━━━━━\u001b[0m\u001b[37m\u001b[0m \u001b[1m6s\u001b[0m 5ms/step - accuracy: 0.0494 - loss: 4.1825 - val_accuracy: 0.0515 - val_loss: 4.1772 - learning_rate: 2.5000e-04\n",
      "Epoch 91/500\n",
      "\u001b[1m978/978\u001b[0m \u001b[32m━━━━━━━━━━━━━━━━━━━━\u001b[0m\u001b[37m\u001b[0m \u001b[1m5s\u001b[0m 4ms/step - accuracy: 0.0496 - loss: 4.1852 - val_accuracy: 0.0516 - val_loss: 4.1783 - learning_rate: 2.5000e-04\n",
      "Epoch 92/500\n",
      "\u001b[1m978/978\u001b[0m \u001b[32m━━━━━━━━━━━━━━━━━━━━\u001b[0m\u001b[37m\u001b[0m \u001b[1m6s\u001b[0m 5ms/step - accuracy: 0.0502 - loss: 4.1839 - val_accuracy: 0.0530 - val_loss: 4.1766 - learning_rate: 2.5000e-04\n",
      "Epoch 93/500\n",
      "\u001b[1m978/978\u001b[0m \u001b[32m━━━━━━━━━━━━━━━━━━━━\u001b[0m\u001b[37m\u001b[0m \u001b[1m5s\u001b[0m 4ms/step - accuracy: 0.0503 - loss: 4.1871 - val_accuracy: 0.0523 - val_loss: 4.1763 - learning_rate: 2.5000e-04\n",
      "Epoch 94/500\n",
      "\u001b[1m978/978\u001b[0m \u001b[32m━━━━━━━━━━━━━━━━━━━━\u001b[0m\u001b[37m\u001b[0m \u001b[1m4s\u001b[0m 4ms/step - accuracy: 0.0504 - loss: 4.1824 - val_accuracy: 0.0526 - val_loss: 4.1732 - learning_rate: 2.5000e-04\n",
      "Epoch 95/500\n",
      "\u001b[1m978/978\u001b[0m \u001b[32m━━━━━━━━━━━━━━━━━━━━\u001b[0m\u001b[37m\u001b[0m \u001b[1m5s\u001b[0m 5ms/step - accuracy: 0.0513 - loss: 4.1821 - val_accuracy: 0.0506 - val_loss: 4.1775 - learning_rate: 2.5000e-04\n",
      "Epoch 96/500\n",
      "\u001b[1m978/978\u001b[0m \u001b[32m━━━━━━━━━━━━━━━━━━━━\u001b[0m\u001b[37m\u001b[0m \u001b[1m4s\u001b[0m 4ms/step - accuracy: 0.0513 - loss: 4.1817 - val_accuracy: 0.0517 - val_loss: 4.1758 - learning_rate: 2.5000e-04\n",
      "Epoch 97/500\n",
      "\u001b[1m978/978\u001b[0m \u001b[32m━━━━━━━━━━━━━━━━━━━━\u001b[0m\u001b[37m\u001b[0m \u001b[1m4s\u001b[0m 4ms/step - accuracy: 0.0497 - loss: 4.1873 - val_accuracy: 0.0536 - val_loss: 4.1740 - learning_rate: 2.5000e-04\n",
      "Epoch 98/500\n",
      "\u001b[1m978/978\u001b[0m \u001b[32m━━━━━━━━━━━━━━━━━━━━\u001b[0m\u001b[37m\u001b[0m \u001b[1m5s\u001b[0m 5ms/step - accuracy: 0.0513 - loss: 4.1826 - val_accuracy: 0.0524 - val_loss: 4.1761 - learning_rate: 2.5000e-04\n",
      "Epoch 99/500\n",
      "\u001b[1m975/978\u001b[0m \u001b[32m━━━━━━━━━━━━━━━━━━━\u001b[0m\u001b[37m━\u001b[0m \u001b[1m0s\u001b[0m 3ms/step - accuracy: 0.0504 - loss: 4.1821\n",
      "Epoch 99: ReduceLROnPlateau reducing learning rate to 0.0001250000059371814.\n",
      "\u001b[1m978/978\u001b[0m \u001b[32m━━━━━━━━━━━━━━━━━━━━\u001b[0m\u001b[37m\u001b[0m \u001b[1m4s\u001b[0m 4ms/step - accuracy: 0.0504 - loss: 4.1821 - val_accuracy: 0.0524 - val_loss: 4.1752 - learning_rate: 2.5000e-04\n",
      "Epoch 100/500\n",
      "\u001b[1m978/978\u001b[0m \u001b[32m━━━━━━━━━━━━━━━━━━━━\u001b[0m\u001b[37m\u001b[0m \u001b[1m5s\u001b[0m 4ms/step - accuracy: 0.0519 - loss: 4.1706 - val_accuracy: 0.0551 - val_loss: 4.1621 - learning_rate: 1.2500e-04\n",
      "Epoch 101/500\n",
      "\u001b[1m978/978\u001b[0m \u001b[32m━━━━━━━━━━━━━━━━━━━━\u001b[0m\u001b[37m\u001b[0m \u001b[1m5s\u001b[0m 5ms/step - accuracy: 0.0522 - loss: 4.1642 - val_accuracy: 0.0557 - val_loss: 4.1601 - learning_rate: 1.2500e-04\n",
      "Epoch 102/500\n",
      "\u001b[1m978/978\u001b[0m \u001b[32m━━━━━━━━━━━━━━━━━━━━\u001b[0m\u001b[37m\u001b[0m \u001b[1m4s\u001b[0m 4ms/step - accuracy: 0.0545 - loss: 4.1614 - val_accuracy: 0.0555 - val_loss: 4.1591 - learning_rate: 1.2500e-04\n",
      "Epoch 103/500\n",
      "\u001b[1m978/978\u001b[0m \u001b[32m━━━━━━━━━━━━━━━━━━━━\u001b[0m\u001b[37m\u001b[0m \u001b[1m5s\u001b[0m 4ms/step - accuracy: 0.0530 - loss: 4.1635 - val_accuracy: 0.0544 - val_loss: 4.1578 - learning_rate: 1.2500e-04\n",
      "Epoch 104/500\n",
      "\u001b[1m978/978\u001b[0m \u001b[32m━━━━━━━━━━━━━━━━━━━━\u001b[0m\u001b[37m\u001b[0m \u001b[1m5s\u001b[0m 4ms/step - accuracy: 0.0544 - loss: 4.1561 - val_accuracy: 0.0554 - val_loss: 4.1566 - learning_rate: 1.2500e-04\n",
      "Epoch 105/500\n",
      "\u001b[1m978/978\u001b[0m \u001b[32m━━━━━━━━━━━━━━━━━━━━\u001b[0m\u001b[37m\u001b[0m \u001b[1m5s\u001b[0m 4ms/step - accuracy: 0.0537 - loss: 4.1572 - val_accuracy: 0.0542 - val_loss: 4.1568 - learning_rate: 1.2500e-04\n",
      "Epoch 106/500\n",
      "\u001b[1m978/978\u001b[0m \u001b[32m━━━━━━━━━━━━━━━━━━━━\u001b[0m\u001b[37m\u001b[0m \u001b[1m6s\u001b[0m 5ms/step - accuracy: 0.0552 - loss: 4.1532 - val_accuracy: 0.0548 - val_loss: 4.1546 - learning_rate: 1.2500e-04\n",
      "Epoch 107/500\n",
      "\u001b[1m978/978\u001b[0m \u001b[32m━━━━━━━━━━━━━━━━━━━━\u001b[0m\u001b[37m\u001b[0m \u001b[1m4s\u001b[0m 4ms/step - accuracy: 0.0550 - loss: 4.1523 - val_accuracy: 0.0563 - val_loss: 4.1539 - learning_rate: 1.2500e-04\n",
      "Epoch 108/500\n",
      "\u001b[1m978/978\u001b[0m \u001b[32m━━━━━━━━━━━━━━━━━━━━\u001b[0m\u001b[37m\u001b[0m \u001b[1m5s\u001b[0m 4ms/step - accuracy: 0.0553 - loss: 4.1525 - val_accuracy: 0.0565 - val_loss: 4.1516 - learning_rate: 1.2500e-04\n",
      "Epoch 109/500\n",
      "\u001b[1m978/978\u001b[0m \u001b[32m━━━━━━━━━━━━━━━━━━━━\u001b[0m\u001b[37m\u001b[0m \u001b[1m5s\u001b[0m 4ms/step - accuracy: 0.0543 - loss: 4.1503 - val_accuracy: 0.0571 - val_loss: 4.1531 - learning_rate: 1.2500e-04\n",
      "Epoch 110/500\n",
      "\u001b[1m978/978\u001b[0m \u001b[32m━━━━━━━━━━━━━━━━━━━━\u001b[0m\u001b[37m\u001b[0m \u001b[1m4s\u001b[0m 4ms/step - accuracy: 0.0554 - loss: 4.1502 - val_accuracy: 0.0566 - val_loss: 4.1499 - learning_rate: 1.2500e-04\n",
      "Epoch 111/500\n",
      "\u001b[1m978/978\u001b[0m \u001b[32m━━━━━━━━━━━━━━━━━━━━\u001b[0m\u001b[37m\u001b[0m \u001b[1m6s\u001b[0m 5ms/step - accuracy: 0.0553 - loss: 4.1472 - val_accuracy: 0.0563 - val_loss: 4.1522 - learning_rate: 1.2500e-04\n",
      "Epoch 112/500\n",
      "\u001b[1m978/978\u001b[0m \u001b[32m━━━━━━━━━━━━━━━━━━━━\u001b[0m\u001b[37m\u001b[0m \u001b[1m4s\u001b[0m 4ms/step - accuracy: 0.0550 - loss: 4.1450 - val_accuracy: 0.0553 - val_loss: 4.1517 - learning_rate: 1.2500e-04\n",
      "Epoch 113/500\n",
      "\u001b[1m978/978\u001b[0m \u001b[32m━━━━━━━━━━━━━━━━━━━━\u001b[0m\u001b[37m\u001b[0m \u001b[1m5s\u001b[0m 4ms/step - accuracy: 0.0536 - loss: 4.1492 - val_accuracy: 0.0555 - val_loss: 4.1505 - learning_rate: 1.2500e-04\n",
      "Epoch 114/500\n",
      "\u001b[1m978/978\u001b[0m \u001b[32m━━━━━━━━━━━━━━━━━━━━\u001b[0m\u001b[37m\u001b[0m \u001b[1m5s\u001b[0m 5ms/step - accuracy: 0.0561 - loss: 4.1463 - val_accuracy: 0.0562 - val_loss: 4.1503 - learning_rate: 1.2500e-04\n",
      "Epoch 115/500\n",
      "\u001b[1m978/978\u001b[0m \u001b[32m━━━━━━━━━━━━━━━━━━━━\u001b[0m\u001b[37m\u001b[0m \u001b[1m4s\u001b[0m 4ms/step - accuracy: 0.0549 - loss: 4.1484 - val_accuracy: 0.0572 - val_loss: 4.1481 - learning_rate: 1.2500e-04\n",
      "Epoch 116/500\n",
      "\u001b[1m978/978\u001b[0m \u001b[32m━━━━━━━━━━━━━━━━━━━━\u001b[0m\u001b[37m\u001b[0m \u001b[1m5s\u001b[0m 4ms/step - accuracy: 0.0561 - loss: 4.1469 - val_accuracy: 0.0589 - val_loss: 4.1485 - learning_rate: 1.2500e-04\n",
      "Epoch 117/500\n",
      "\u001b[1m978/978\u001b[0m \u001b[32m━━━━━━━━━━━━━━━━━━━━\u001b[0m\u001b[37m\u001b[0m \u001b[1m5s\u001b[0m 5ms/step - accuracy: 0.0551 - loss: 4.1446 - val_accuracy: 0.0575 - val_loss: 4.1461 - learning_rate: 1.2500e-04\n",
      "Epoch 118/500\n",
      "\u001b[1m978/978\u001b[0m \u001b[32m━━━━━━━━━━━━━━━━━━━━\u001b[0m\u001b[37m\u001b[0m \u001b[1m4s\u001b[0m 4ms/step - accuracy: 0.0569 - loss: 4.1402 - val_accuracy: 0.0572 - val_loss: 4.1477 - learning_rate: 1.2500e-04\n",
      "Epoch 119/500\n",
      "\u001b[1m978/978\u001b[0m \u001b[32m━━━━━━━━━━━━━━━━━━━━\u001b[0m\u001b[37m\u001b[0m \u001b[1m5s\u001b[0m 4ms/step - accuracy: 0.0556 - loss: 4.1417 - val_accuracy: 0.0575 - val_loss: 4.1476 - learning_rate: 1.2500e-04\n",
      "Epoch 120/500\n",
      "\u001b[1m978/978\u001b[0m \u001b[32m━━━━━━━━━━━━━━━━━━━━\u001b[0m\u001b[37m\u001b[0m \u001b[1m5s\u001b[0m 4ms/step - accuracy: 0.0565 - loss: 4.1448 - val_accuracy: 0.0581 - val_loss: 4.1470 - learning_rate: 1.2500e-04\n",
      "Epoch 121/500\n",
      "\u001b[1m978/978\u001b[0m \u001b[32m━━━━━━━━━━━━━━━━━━━━\u001b[0m\u001b[37m\u001b[0m \u001b[1m4s\u001b[0m 4ms/step - accuracy: 0.0554 - loss: 4.1462 - val_accuracy: 0.0584 - val_loss: 4.1454 - learning_rate: 1.2500e-04\n",
      "Epoch 122/500\n",
      "\u001b[1m978/978\u001b[0m \u001b[32m━━━━━━━━━━━━━━━━━━━━\u001b[0m\u001b[37m\u001b[0m \u001b[1m6s\u001b[0m 5ms/step - accuracy: 0.0563 - loss: 4.1454 - val_accuracy: 0.0589 - val_loss: 4.1468 - learning_rate: 1.2500e-04\n",
      "Epoch 123/500\n",
      "\u001b[1m978/978\u001b[0m \u001b[32m━━━━━━━━━━━━━━━━━━━━\u001b[0m\u001b[37m\u001b[0m \u001b[1m4s\u001b[0m 4ms/step - accuracy: 0.0560 - loss: 4.1438 - val_accuracy: 0.0587 - val_loss: 4.1448 - learning_rate: 1.2500e-04\n",
      "Epoch 124/500\n",
      "\u001b[1m978/978\u001b[0m \u001b[32m━━━━━━━━━━━━━━━━━━━━\u001b[0m\u001b[37m\u001b[0m \u001b[1m5s\u001b[0m 4ms/step - accuracy: 0.0561 - loss: 4.1451 - val_accuracy: 0.0578 - val_loss: 4.1448 - learning_rate: 1.2500e-04\n",
      "Epoch 125/500\n",
      "\u001b[1m978/978\u001b[0m \u001b[32m━━━━━━━━━━━━━━━━━━━━\u001b[0m\u001b[37m\u001b[0m \u001b[1m5s\u001b[0m 4ms/step - accuracy: 0.0576 - loss: 4.1391 - val_accuracy: 0.0601 - val_loss: 4.1441 - learning_rate: 1.2500e-04\n",
      "Epoch 126/500\n",
      "\u001b[1m978/978\u001b[0m \u001b[32m━━━━━━━━━━━━━━━━━━━━\u001b[0m\u001b[37m\u001b[0m \u001b[1m5s\u001b[0m 4ms/step - accuracy: 0.0572 - loss: 4.1401 - val_accuracy: 0.0586 - val_loss: 4.1437 - learning_rate: 1.2500e-04\n",
      "Epoch 127/500\n",
      "\u001b[1m978/978\u001b[0m \u001b[32m━━━━━━━━━━━━━━━━━━━━\u001b[0m\u001b[37m\u001b[0m \u001b[1m4s\u001b[0m 4ms/step - accuracy: 0.0577 - loss: 4.1428 - val_accuracy: 0.0600 - val_loss: 4.1436 - learning_rate: 1.2500e-04\n",
      "Epoch 128/500\n",
      "\u001b[1m978/978\u001b[0m \u001b[32m━━━━━━━━━━━━━━━━━━━━\u001b[0m\u001b[37m\u001b[0m \u001b[1m4s\u001b[0m 4ms/step - accuracy: 0.0561 - loss: 4.1398 - val_accuracy: 0.0587 - val_loss: 4.1445 - learning_rate: 1.2500e-04\n",
      "Epoch 129/500\n",
      "\u001b[1m978/978\u001b[0m \u001b[32m━━━━━━━━━━━━━━━━━━━━\u001b[0m\u001b[37m\u001b[0m \u001b[1m4s\u001b[0m 4ms/step - accuracy: 0.0562 - loss: 4.1397 - val_accuracy: 0.0593 - val_loss: 4.1428 - learning_rate: 1.2500e-04\n",
      "Epoch 130/500\n",
      "\u001b[1m978/978\u001b[0m \u001b[32m━━━━━━━━━━━━━━━━━━━━\u001b[0m\u001b[37m\u001b[0m \u001b[1m6s\u001b[0m 5ms/step - accuracy: 0.0568 - loss: 4.1459 - val_accuracy: 0.0590 - val_loss: 4.1400 - learning_rate: 1.2500e-04\n",
      "Epoch 131/500\n",
      "\u001b[1m978/978\u001b[0m \u001b[32m━━━━━━━━━━━━━━━━━━━━\u001b[0m\u001b[37m\u001b[0m \u001b[1m9s\u001b[0m 4ms/step - accuracy: 0.0569 - loss: 4.1405 - val_accuracy: 0.0603 - val_loss: 4.1425 - learning_rate: 1.2500e-04\n",
      "Epoch 132/500\n",
      "\u001b[1m978/978\u001b[0m \u001b[32m━━━━━━━━━━━━━━━━━━━━\u001b[0m\u001b[37m\u001b[0m \u001b[1m5s\u001b[0m 5ms/step - accuracy: 0.0569 - loss: 4.1397 - val_accuracy: 0.0580 - val_loss: 4.1407 - learning_rate: 1.2500e-04\n",
      "Epoch 133/500\n",
      "\u001b[1m978/978\u001b[0m \u001b[32m━━━━━━━━━━━━━━━━━━━━\u001b[0m\u001b[37m\u001b[0m \u001b[1m4s\u001b[0m 4ms/step - accuracy: 0.0568 - loss: 4.1376 - val_accuracy: 0.0570 - val_loss: 4.1412 - learning_rate: 1.2500e-04\n",
      "Epoch 134/500\n",
      "\u001b[1m978/978\u001b[0m \u001b[32m━━━━━━━━━━━━━━━━━━━━\u001b[0m\u001b[37m\u001b[0m \u001b[1m5s\u001b[0m 4ms/step - accuracy: 0.0562 - loss: 4.1394 - val_accuracy: 0.0596 - val_loss: 4.1420 - learning_rate: 1.2500e-04\n",
      "Epoch 135/500\n",
      "\u001b[1m966/978\u001b[0m \u001b[32m━━━━━━━━━━━━━━━━━━━\u001b[0m\u001b[37m━\u001b[0m \u001b[1m0s\u001b[0m 4ms/step - accuracy: 0.0563 - loss: 4.1432\n",
      "Epoch 135: ReduceLROnPlateau reducing learning rate to 6.25000029685907e-05.\n",
      "\u001b[1m978/978\u001b[0m \u001b[32m━━━━━━━━━━━━━━━━━━━━\u001b[0m\u001b[37m\u001b[0m \u001b[1m5s\u001b[0m 5ms/step - accuracy: 0.0563 - loss: 4.1432 - val_accuracy: 0.0595 - val_loss: 4.1409 - learning_rate: 1.2500e-04\n",
      "Epoch 136/500\n",
      "\u001b[1m978/978\u001b[0m \u001b[32m━━━━━━━━━━━━━━━━━━━━\u001b[0m\u001b[37m\u001b[0m \u001b[1m5s\u001b[0m 4ms/step - accuracy: 0.0575 - loss: 4.1267 - val_accuracy: 0.0590 - val_loss: 4.1353 - learning_rate: 6.2500e-05\n",
      "Epoch 137/500\n",
      "\u001b[1m978/978\u001b[0m \u001b[32m━━━━━━━━━━━━━━━━━━━━\u001b[0m\u001b[37m\u001b[0m \u001b[1m6s\u001b[0m 5ms/step - accuracy: 0.0597 - loss: 4.1257 - val_accuracy: 0.0597 - val_loss: 4.1349 - learning_rate: 6.2500e-05\n",
      "Epoch 138/500\n",
      "\u001b[1m978/978\u001b[0m \u001b[32m━━━━━━━━━━━━━━━━━━━━\u001b[0m\u001b[37m\u001b[0m \u001b[1m4s\u001b[0m 4ms/step - accuracy: 0.0593 - loss: 4.1244 - val_accuracy: 0.0603 - val_loss: 4.1331 - learning_rate: 6.2500e-05\n",
      "Epoch 139/500\n",
      "\u001b[1m978/978\u001b[0m \u001b[32m━━━━━━━━━━━━━━━━━━━━\u001b[0m\u001b[37m\u001b[0m \u001b[1m5s\u001b[0m 4ms/step - accuracy: 0.0593 - loss: 4.1279 - val_accuracy: 0.0617 - val_loss: 4.1328 - learning_rate: 6.2500e-05\n",
      "Epoch 140/500\n",
      "\u001b[1m978/978\u001b[0m \u001b[32m━━━━━━━━━━━━━━━━━━━━\u001b[0m\u001b[37m\u001b[0m \u001b[1m5s\u001b[0m 5ms/step - accuracy: 0.0603 - loss: 4.1216 - val_accuracy: 0.0619 - val_loss: 4.1308 - learning_rate: 6.2500e-05\n",
      "Epoch 141/500\n",
      "\u001b[1m978/978\u001b[0m \u001b[32m━━━━━━━━━━━━━━━━━━━━\u001b[0m\u001b[37m\u001b[0m \u001b[1m4s\u001b[0m 4ms/step - accuracy: 0.0605 - loss: 4.1166 - val_accuracy: 0.0621 - val_loss: 4.1305 - learning_rate: 6.2500e-05\n",
      "Epoch 142/500\n",
      "\u001b[1m978/978\u001b[0m \u001b[32m━━━━━━━━━━━━━━━━━━━━\u001b[0m\u001b[37m\u001b[0m \u001b[1m4s\u001b[0m 4ms/step - accuracy: 0.0598 - loss: 4.1244 - val_accuracy: 0.0630 - val_loss: 4.1299 - learning_rate: 6.2500e-05\n",
      "Epoch 143/500\n",
      "\u001b[1m978/978\u001b[0m \u001b[32m━━━━━━━━━━━━━━━━━━━━\u001b[0m\u001b[37m\u001b[0m \u001b[1m5s\u001b[0m 5ms/step - accuracy: 0.0611 - loss: 4.1166 - val_accuracy: 0.0631 - val_loss: 4.1292 - learning_rate: 6.2500e-05\n",
      "Epoch 144/500\n",
      "\u001b[1m978/978\u001b[0m \u001b[32m━━━━━━━━━━━━━━━━━━━━\u001b[0m\u001b[37m\u001b[0m \u001b[1m4s\u001b[0m 4ms/step - accuracy: 0.0603 - loss: 4.1207 - val_accuracy: 0.0626 - val_loss: 4.1293 - learning_rate: 6.2500e-05\n",
      "Epoch 145/500\n",
      "\u001b[1m978/978\u001b[0m \u001b[32m━━━━━━━━━━━━━━━━━━━━\u001b[0m\u001b[37m\u001b[0m \u001b[1m4s\u001b[0m 4ms/step - accuracy: 0.0601 - loss: 4.1219 - val_accuracy: 0.0627 - val_loss: 4.1280 - learning_rate: 6.2500e-05\n",
      "Epoch 146/500\n",
      "\u001b[1m978/978\u001b[0m \u001b[32m━━━━━━━━━━━━━━━━━━━━\u001b[0m\u001b[37m\u001b[0m \u001b[1m5s\u001b[0m 5ms/step - accuracy: 0.0600 - loss: 4.1221 - val_accuracy: 0.0631 - val_loss: 4.1280 - learning_rate: 6.2500e-05\n",
      "Epoch 147/500\n",
      "\u001b[1m978/978\u001b[0m \u001b[32m━━━━━━━━━━━━━━━━━━━━\u001b[0m\u001b[37m\u001b[0m \u001b[1m4s\u001b[0m 4ms/step - accuracy: 0.0608 - loss: 4.1179 - val_accuracy: 0.0631 - val_loss: 4.1271 - learning_rate: 6.2500e-05\n",
      "Epoch 148/500\n",
      "\u001b[1m978/978\u001b[0m \u001b[32m━━━━━━━━━━━━━━━━━━━━\u001b[0m\u001b[37m\u001b[0m \u001b[1m6s\u001b[0m 5ms/step - accuracy: 0.0605 - loss: 4.1135 - val_accuracy: 0.0629 - val_loss: 4.1277 - learning_rate: 6.2500e-05\n",
      "Epoch 149/500\n",
      "\u001b[1m978/978\u001b[0m \u001b[32m━━━━━━━━━━━━━━━━━━━━\u001b[0m\u001b[37m\u001b[0m \u001b[1m5s\u001b[0m 5ms/step - accuracy: 0.0599 - loss: 4.1186 - val_accuracy: 0.0641 - val_loss: 4.1264 - learning_rate: 6.2500e-05\n",
      "Epoch 150/500\n",
      "\u001b[1m978/978\u001b[0m \u001b[32m━━━━━━━━━━━━━━━━━━━━\u001b[0m\u001b[37m\u001b[0m \u001b[1m4s\u001b[0m 4ms/step - accuracy: 0.0595 - loss: 4.1171 - val_accuracy: 0.0640 - val_loss: 4.1258 - learning_rate: 6.2500e-05\n",
      "Epoch 151/500\n",
      "\u001b[1m978/978\u001b[0m \u001b[32m━━━━━━━━━━━━━━━━━━━━\u001b[0m\u001b[37m\u001b[0m \u001b[1m5s\u001b[0m 5ms/step - accuracy: 0.0608 - loss: 4.1163 - val_accuracy: 0.0632 - val_loss: 4.1257 - learning_rate: 6.2500e-05\n",
      "Epoch 152/500\n",
      "\u001b[1m978/978\u001b[0m \u001b[32m━━━━━━━━━━━━━━━━━━━━\u001b[0m\u001b[37m\u001b[0m \u001b[1m4s\u001b[0m 4ms/step - accuracy: 0.0606 - loss: 4.1151 - val_accuracy: 0.0638 - val_loss: 4.1243 - learning_rate: 6.2500e-05\n",
      "Epoch 153/500\n",
      "\u001b[1m978/978\u001b[0m \u001b[32m━━━━━━━━━━━━━━━━━━━━\u001b[0m\u001b[37m\u001b[0m \u001b[1m4s\u001b[0m 4ms/step - accuracy: 0.0606 - loss: 4.1162 - val_accuracy: 0.0631 - val_loss: 4.1251 - learning_rate: 6.2500e-05\n",
      "Epoch 154/500\n",
      "\u001b[1m978/978\u001b[0m \u001b[32m━━━━━━━━━━━━━━━━━━━━\u001b[0m\u001b[37m\u001b[0m \u001b[1m4s\u001b[0m 5ms/step - accuracy: 0.0606 - loss: 4.1164 - val_accuracy: 0.0636 - val_loss: 4.1250 - learning_rate: 6.2500e-05\n",
      "Epoch 155/500\n",
      "\u001b[1m978/978\u001b[0m \u001b[32m━━━━━━━━━━━━━━━━━━━━\u001b[0m\u001b[37m\u001b[0m \u001b[1m4s\u001b[0m 5ms/step - accuracy: 0.0611 - loss: 4.1137 - val_accuracy: 0.0632 - val_loss: 4.1240 - learning_rate: 6.2500e-05\n",
      "Epoch 156/500\n",
      "\u001b[1m978/978\u001b[0m \u001b[32m━━━━━━━━━━━━━━━━━━━━\u001b[0m\u001b[37m\u001b[0m \u001b[1m4s\u001b[0m 4ms/step - accuracy: 0.0606 - loss: 4.1104 - val_accuracy: 0.0635 - val_loss: 4.1231 - learning_rate: 6.2500e-05\n",
      "Epoch 157/500\n",
      "\u001b[1m978/978\u001b[0m \u001b[32m━━━━━━━━━━━━━━━━━━━━\u001b[0m\u001b[37m\u001b[0m \u001b[1m5s\u001b[0m 5ms/step - accuracy: 0.0616 - loss: 4.1102 - val_accuracy: 0.0646 - val_loss: 4.1227 - learning_rate: 6.2500e-05\n",
      "Epoch 158/500\n",
      "\u001b[1m978/978\u001b[0m \u001b[32m━━━━━━━━━━━━━━━━━━━━\u001b[0m\u001b[37m\u001b[0m \u001b[1m5s\u001b[0m 4ms/step - accuracy: 0.0608 - loss: 4.1144 - val_accuracy: 0.0640 - val_loss: 4.1231 - learning_rate: 6.2500e-05\n",
      "Epoch 159/500\n",
      "\u001b[1m978/978\u001b[0m \u001b[32m━━━━━━━━━━━━━━━━━━━━\u001b[0m\u001b[37m\u001b[0m \u001b[1m5s\u001b[0m 4ms/step - accuracy: 0.0603 - loss: 4.1179 - val_accuracy: 0.0643 - val_loss: 4.1222 - learning_rate: 6.2500e-05\n",
      "Epoch 160/500\n",
      "\u001b[1m978/978\u001b[0m \u001b[32m━━━━━━━━━━━━━━━━━━━━\u001b[0m\u001b[37m\u001b[0m \u001b[1m5s\u001b[0m 5ms/step - accuracy: 0.0603 - loss: 4.1139 - val_accuracy: 0.0632 - val_loss: 4.1224 - learning_rate: 6.2500e-05\n",
      "Epoch 161/500\n",
      "\u001b[1m978/978\u001b[0m \u001b[32m━━━━━━━━━━━━━━━━━━━━\u001b[0m\u001b[37m\u001b[0m \u001b[1m4s\u001b[0m 4ms/step - accuracy: 0.0616 - loss: 4.1109 - val_accuracy: 0.0635 - val_loss: 4.1219 - learning_rate: 6.2500e-05\n",
      "Epoch 162/500\n",
      "\u001b[1m978/978\u001b[0m \u001b[32m━━━━━━━━━━━━━━━━━━━━\u001b[0m\u001b[37m\u001b[0m \u001b[1m4s\u001b[0m 4ms/step - accuracy: 0.0611 - loss: 4.1098 - val_accuracy: 0.0639 - val_loss: 4.1218 - learning_rate: 6.2500e-05\n",
      "Epoch 163/500\n",
      "\u001b[1m978/978\u001b[0m \u001b[32m━━━━━━━━━━━━━━━━━━━━\u001b[0m\u001b[37m\u001b[0m \u001b[1m6s\u001b[0m 5ms/step - accuracy: 0.0627 - loss: 4.1078 - val_accuracy: 0.0648 - val_loss: 4.1218 - learning_rate: 6.2500e-05\n",
      "Epoch 164/500\n",
      "\u001b[1m978/978\u001b[0m \u001b[32m━━━━━━━━━━━━━━━━━━━━\u001b[0m\u001b[37m\u001b[0m \u001b[1m4s\u001b[0m 4ms/step - accuracy: 0.0607 - loss: 4.1114 - val_accuracy: 0.0636 - val_loss: 4.1200 - learning_rate: 6.2500e-05\n",
      "Epoch 165/500\n",
      "\u001b[1m978/978\u001b[0m \u001b[32m━━━━━━━━━━━━━━━━━━━━\u001b[0m\u001b[37m\u001b[0m \u001b[1m4s\u001b[0m 4ms/step - accuracy: 0.0611 - loss: 4.1129 - val_accuracy: 0.0646 - val_loss: 4.1219 - learning_rate: 6.2500e-05\n",
      "Epoch 166/500\n",
      "\u001b[1m978/978\u001b[0m \u001b[32m━━━━━━━━━━━━━━━━━━━━\u001b[0m\u001b[37m\u001b[0m \u001b[1m6s\u001b[0m 5ms/step - accuracy: 0.0612 - loss: 4.1089 - val_accuracy: 0.0637 - val_loss: 4.1193 - learning_rate: 6.2500e-05\n",
      "Epoch 167/500\n",
      "\u001b[1m978/978\u001b[0m \u001b[32m━━━━━━━━━━━━━━━━━━━━\u001b[0m\u001b[37m\u001b[0m \u001b[1m4s\u001b[0m 4ms/step - accuracy: 0.0602 - loss: 4.1147 - val_accuracy: 0.0648 - val_loss: 4.1190 - learning_rate: 6.2500e-05\n",
      "Epoch 168/500\n",
      "\u001b[1m978/978\u001b[0m \u001b[32m━━━━━━━━━━━━━━━━━━━━\u001b[0m\u001b[37m\u001b[0m \u001b[1m4s\u001b[0m 4ms/step - accuracy: 0.0610 - loss: 4.1152 - val_accuracy: 0.0646 - val_loss: 4.1193 - learning_rate: 6.2500e-05\n",
      "Epoch 169/500\n",
      "\u001b[1m978/978\u001b[0m \u001b[32m━━━━━━━━━━━━━━━━━━━━\u001b[0m\u001b[37m\u001b[0m \u001b[1m5s\u001b[0m 5ms/step - accuracy: 0.0624 - loss: 4.1095 - val_accuracy: 0.0643 - val_loss: 4.1203 - learning_rate: 6.2500e-05\n",
      "Epoch 170/500\n",
      "\u001b[1m978/978\u001b[0m \u001b[32m━━━━━━━━━━━━━━━━━━━━\u001b[0m\u001b[37m\u001b[0m \u001b[1m5s\u001b[0m 4ms/step - accuracy: 0.0623 - loss: 4.1090 - val_accuracy: 0.0647 - val_loss: 4.1187 - learning_rate: 6.2500e-05\n",
      "Epoch 171/500\n",
      "\u001b[1m978/978\u001b[0m \u001b[32m━━━━━━━━━━━━━━━━━━━━\u001b[0m\u001b[37m\u001b[0m \u001b[1m5s\u001b[0m 5ms/step - accuracy: 0.0618 - loss: 4.1069 - val_accuracy: 0.0637 - val_loss: 4.1194 - learning_rate: 6.2500e-05\n",
      "Epoch 172/500\n",
      "\u001b[1m978/978\u001b[0m \u001b[32m━━━━━━━━━━━━━━━━━━━━\u001b[0m\u001b[37m\u001b[0m \u001b[1m5s\u001b[0m 4ms/step - accuracy: 0.0634 - loss: 4.1039 - val_accuracy: 0.0644 - val_loss: 4.1173 - learning_rate: 6.2500e-05\n",
      "Epoch 173/500\n",
      "\u001b[1m978/978\u001b[0m \u001b[32m━━━━━━━━━━━━━━━━━━━━\u001b[0m\u001b[37m\u001b[0m \u001b[1m5s\u001b[0m 4ms/step - accuracy: 0.0623 - loss: 4.1088 - val_accuracy: 0.0633 - val_loss: 4.1183 - learning_rate: 6.2500e-05\n",
      "Epoch 174/500\n",
      "\u001b[1m978/978\u001b[0m \u001b[32m━━━━━━━━━━━━━━━━━━━━\u001b[0m\u001b[37m\u001b[0m \u001b[1m6s\u001b[0m 5ms/step - accuracy: 0.0626 - loss: 4.1101 - val_accuracy: 0.0645 - val_loss: 4.1180 - learning_rate: 6.2500e-05\n",
      "Epoch 175/500\n",
      "\u001b[1m978/978\u001b[0m \u001b[32m━━━━━━━━━━━━━━━━━━━━\u001b[0m\u001b[37m\u001b[0m \u001b[1m4s\u001b[0m 4ms/step - accuracy: 0.0632 - loss: 4.1077 - val_accuracy: 0.0642 - val_loss: 4.1174 - learning_rate: 6.2500e-05\n",
      "Epoch 176/500\n",
      "\u001b[1m978/978\u001b[0m \u001b[32m━━━━━━━━━━━━━━━━━━━━\u001b[0m\u001b[37m\u001b[0m \u001b[1m5s\u001b[0m 4ms/step - accuracy: 0.0609 - loss: 4.1107 - val_accuracy: 0.0645 - val_loss: 4.1196 - learning_rate: 6.2500e-05\n",
      "Epoch 177/500\n",
      "\u001b[1m966/978\u001b[0m \u001b[32m━━━━━━━━━━━━━━━━━━━\u001b[0m\u001b[37m━\u001b[0m \u001b[1m0s\u001b[0m 4ms/step - accuracy: 0.0602 - loss: 4.1063\n",
      "Epoch 177: ReduceLROnPlateau reducing learning rate to 3.125000148429535e-05.\n",
      "\u001b[1m978/978\u001b[0m \u001b[32m━━━━━━━━━━━━━━━━━━━━\u001b[0m\u001b[37m\u001b[0m \u001b[1m5s\u001b[0m 5ms/step - accuracy: 0.0602 - loss: 4.1063 - val_accuracy: 0.0641 - val_loss: 4.1187 - learning_rate: 6.2500e-05\n",
      "Epoch 178/500\n",
      "\u001b[1m978/978\u001b[0m \u001b[32m━━━━━━━━━━━━━━━━━━━━\u001b[0m\u001b[37m\u001b[0m \u001b[1m4s\u001b[0m 4ms/step - accuracy: 0.0620 - loss: 4.1037 - val_accuracy: 0.0645 - val_loss: 4.1155 - learning_rate: 3.1250e-05\n",
      "Epoch 179/500\n",
      "\u001b[1m978/978\u001b[0m \u001b[32m━━━━━━━━━━━━━━━━━━━━\u001b[0m\u001b[37m\u001b[0m \u001b[1m4s\u001b[0m 4ms/step - accuracy: 0.0635 - loss: 4.0993 - val_accuracy: 0.0647 - val_loss: 4.1143 - learning_rate: 3.1250e-05\n",
      "Epoch 180/500\n",
      "\u001b[1m978/978\u001b[0m \u001b[32m━━━━━━━━━━━━━━━━━━━━\u001b[0m\u001b[37m\u001b[0m \u001b[1m5s\u001b[0m 5ms/step - accuracy: 0.0650 - loss: 4.0978 - val_accuracy: 0.0653 - val_loss: 4.1144 - learning_rate: 3.1250e-05\n",
      "Epoch 181/500\n",
      "\u001b[1m978/978\u001b[0m \u001b[32m━━━━━━━━━━━━━━━━━━━━\u001b[0m\u001b[37m\u001b[0m \u001b[1m4s\u001b[0m 4ms/step - accuracy: 0.0642 - loss: 4.0979 - val_accuracy: 0.0652 - val_loss: 4.1128 - learning_rate: 3.1250e-05\n",
      "Epoch 182/500\n",
      "\u001b[1m978/978\u001b[0m \u001b[32m━━━━━━━━━━━━━━━━━━━━\u001b[0m\u001b[37m\u001b[0m \u001b[1m4s\u001b[0m 4ms/step - accuracy: 0.0626 - loss: 4.0962 - val_accuracy: 0.0655 - val_loss: 4.1130 - learning_rate: 3.1250e-05\n",
      "Epoch 183/500\n",
      "\u001b[1m978/978\u001b[0m \u001b[32m━━━━━━━━━━━━━━━━━━━━\u001b[0m\u001b[37m\u001b[0m \u001b[1m5s\u001b[0m 5ms/step - accuracy: 0.0640 - loss: 4.0994 - val_accuracy: 0.0653 - val_loss: 4.1132 - learning_rate: 3.1250e-05\n",
      "Epoch 184/500\n",
      "\u001b[1m978/978\u001b[0m \u001b[32m━━━━━━━━━━━━━━━━━━━━\u001b[0m\u001b[37m\u001b[0m \u001b[1m4s\u001b[0m 4ms/step - accuracy: 0.0641 - loss: 4.0969 - val_accuracy: 0.0652 - val_loss: 4.1128 - learning_rate: 3.1250e-05\n",
      "Epoch 185/500\n",
      "\u001b[1m978/978\u001b[0m \u001b[32m━━━━━━━━━━━━━━━━━━━━\u001b[0m\u001b[37m\u001b[0m \u001b[1m4s\u001b[0m 4ms/step - accuracy: 0.0631 - loss: 4.0979 - val_accuracy: 0.0654 - val_loss: 4.1127 - learning_rate: 3.1250e-05\n",
      "Epoch 186/500\n",
      "\u001b[1m978/978\u001b[0m \u001b[32m━━━━━━━━━━━━━━━━━━━━\u001b[0m\u001b[37m\u001b[0m \u001b[1m5s\u001b[0m 5ms/step - accuracy: 0.0630 - loss: 4.1006 - val_accuracy: 0.0658 - val_loss: 4.1125 - learning_rate: 3.1250e-05\n",
      "Epoch 187/500\n",
      "\u001b[1m978/978\u001b[0m \u001b[32m━━━━━━━━━━━━━━━━━━━━\u001b[0m\u001b[37m\u001b[0m \u001b[1m4s\u001b[0m 4ms/step - accuracy: 0.0633 - loss: 4.0991 - val_accuracy: 0.0657 - val_loss: 4.1116 - learning_rate: 3.1250e-05\n",
      "Epoch 188/500\n",
      "\u001b[1m978/978\u001b[0m \u001b[32m━━━━━━━━━━━━━━━━━━━━\u001b[0m\u001b[37m\u001b[0m \u001b[1m4s\u001b[0m 4ms/step - accuracy: 0.0620 - loss: 4.1020 - val_accuracy: 0.0656 - val_loss: 4.1121 - learning_rate: 3.1250e-05\n",
      "Epoch 189/500\n",
      "\u001b[1m978/978\u001b[0m \u001b[32m━━━━━━━━━━━━━━━━━━━━\u001b[0m\u001b[37m\u001b[0m \u001b[1m5s\u001b[0m 5ms/step - accuracy: 0.0644 - loss: 4.0912 - val_accuracy: 0.0654 - val_loss: 4.1110 - learning_rate: 3.1250e-05\n",
      "Epoch 190/500\n",
      "\u001b[1m978/978\u001b[0m \u001b[32m━━━━━━━━━━━━━━━━━━━━\u001b[0m\u001b[37m\u001b[0m \u001b[1m4s\u001b[0m 4ms/step - accuracy: 0.0643 - loss: 4.0927 - val_accuracy: 0.0660 - val_loss: 4.1102 - learning_rate: 3.1250e-05\n",
      "Epoch 191/500\n",
      "\u001b[1m978/978\u001b[0m \u001b[32m━━━━━━━━━━━━━━━━━━━━\u001b[0m\u001b[37m\u001b[0m \u001b[1m4s\u001b[0m 4ms/step - accuracy: 0.0630 - loss: 4.0973 - val_accuracy: 0.0657 - val_loss: 4.1105 - learning_rate: 3.1250e-05\n",
      "Epoch 192/500\n",
      "\u001b[1m978/978\u001b[0m \u001b[32m━━━━━━━━━━━━━━━━━━━━\u001b[0m\u001b[37m\u001b[0m \u001b[1m5s\u001b[0m 5ms/step - accuracy: 0.0637 - loss: 4.0930 - val_accuracy: 0.0670 - val_loss: 4.1109 - learning_rate: 3.1250e-05\n",
      "Epoch 193/500\n",
      "\u001b[1m978/978\u001b[0m \u001b[32m━━━━━━━━━━━━━━━━━━━━\u001b[0m\u001b[37m\u001b[0m \u001b[1m4s\u001b[0m 4ms/step - accuracy: 0.0649 - loss: 4.0875 - val_accuracy: 0.0674 - val_loss: 4.1105 - learning_rate: 3.1250e-05\n",
      "Epoch 194/500\n",
      "\u001b[1m978/978\u001b[0m \u001b[32m━━━━━━━━━━━━━━━━━━━━\u001b[0m\u001b[37m\u001b[0m \u001b[1m5s\u001b[0m 4ms/step - accuracy: 0.0640 - loss: 4.0942 - val_accuracy: 0.0665 - val_loss: 4.1097 - learning_rate: 3.1250e-05\n",
      "Epoch 195/500\n",
      "\u001b[1m978/978\u001b[0m \u001b[32m━━━━━━━━━━━━━━━━━━━━\u001b[0m\u001b[37m\u001b[0m \u001b[1m6s\u001b[0m 5ms/step - accuracy: 0.0653 - loss: 4.0911 - val_accuracy: 0.0662 - val_loss: 4.1092 - learning_rate: 3.1250e-05\n",
      "Epoch 196/500\n",
      "\u001b[1m978/978\u001b[0m \u001b[32m━━━━━━━━━━━━━━━━━━━━\u001b[0m\u001b[37m\u001b[0m \u001b[1m4s\u001b[0m 4ms/step - accuracy: 0.0649 - loss: 4.0954 - val_accuracy: 0.0672 - val_loss: 4.1092 - learning_rate: 3.1250e-05\n",
      "Epoch 197/500\n",
      "\u001b[1m978/978\u001b[0m \u001b[32m━━━━━━━━━━━━━━━━━━━━\u001b[0m\u001b[37m\u001b[0m \u001b[1m6s\u001b[0m 5ms/step - accuracy: 0.0650 - loss: 4.0935 - val_accuracy: 0.0670 - val_loss: 4.1090 - learning_rate: 3.1250e-05\n",
      "Epoch 198/500\n",
      "\u001b[1m978/978\u001b[0m \u001b[32m━━━━━━━━━━━━━━━━━━━━\u001b[0m\u001b[37m\u001b[0m \u001b[1m4s\u001b[0m 4ms/step - accuracy: 0.0648 - loss: 4.0923 - val_accuracy: 0.0664 - val_loss: 4.1097 - learning_rate: 3.1250e-05\n",
      "Epoch 199/500\n",
      "\u001b[1m978/978\u001b[0m \u001b[32m━━━━━━━━━━━━━━━━━━━━\u001b[0m\u001b[37m\u001b[0m \u001b[1m5s\u001b[0m 4ms/step - accuracy: 0.0658 - loss: 4.0930 - val_accuracy: 0.0667 - val_loss: 4.1085 - learning_rate: 3.1250e-05\n",
      "Epoch 200/500\n",
      "\u001b[1m978/978\u001b[0m \u001b[32m━━━━━━━━━━━━━━━━━━━━\u001b[0m\u001b[37m\u001b[0m \u001b[1m5s\u001b[0m 5ms/step - accuracy: 0.0666 - loss: 4.0876 - val_accuracy: 0.0666 - val_loss: 4.1079 - learning_rate: 3.1250e-05\n",
      "Epoch 201/500\n",
      "\u001b[1m978/978\u001b[0m \u001b[32m━━━━━━━━━━━━━━━━━━━━\u001b[0m\u001b[37m\u001b[0m \u001b[1m4s\u001b[0m 4ms/step - accuracy: 0.0663 - loss: 4.0925 - val_accuracy: 0.0670 - val_loss: 4.1076 - learning_rate: 3.1250e-05\n",
      "Epoch 202/500\n",
      "\u001b[1m978/978\u001b[0m \u001b[32m━━━━━━━━━━━━━━━━━━━━\u001b[0m\u001b[37m\u001b[0m \u001b[1m5s\u001b[0m 4ms/step - accuracy: 0.0667 - loss: 4.0876 - val_accuracy: 0.0672 - val_loss: 4.1076 - learning_rate: 3.1250e-05\n",
      "Epoch 203/500\n",
      "\u001b[1m978/978\u001b[0m \u001b[32m━━━━━━━━━━━━━━━━━━━━\u001b[0m\u001b[37m\u001b[0m \u001b[1m5s\u001b[0m 5ms/step - accuracy: 0.0648 - loss: 4.0904 - val_accuracy: 0.0668 - val_loss: 4.1070 - learning_rate: 3.1250e-05\n",
      "Epoch 204/500\n",
      "\u001b[1m978/978\u001b[0m \u001b[32m━━━━━━━━━━━━━━━━━━━━\u001b[0m\u001b[37m\u001b[0m \u001b[1m4s\u001b[0m 4ms/step - accuracy: 0.0661 - loss: 4.0887 - val_accuracy: 0.0677 - val_loss: 4.1069 - learning_rate: 3.1250e-05\n",
      "Epoch 205/500\n",
      "\u001b[1m978/978\u001b[0m \u001b[32m━━━━━━━━━━━━━━━━━━━━\u001b[0m\u001b[37m\u001b[0m \u001b[1m6s\u001b[0m 5ms/step - accuracy: 0.0644 - loss: 4.0938 - val_accuracy: 0.0670 - val_loss: 4.1073 - learning_rate: 3.1250e-05\n",
      "Epoch 206/500\n",
      "\u001b[1m978/978\u001b[0m \u001b[32m━━━━━━━━━━━━━━━━━━━━\u001b[0m\u001b[37m\u001b[0m \u001b[1m4s\u001b[0m 4ms/step - accuracy: 0.0636 - loss: 4.0913 - val_accuracy: 0.0669 - val_loss: 4.1078 - learning_rate: 3.1250e-05\n",
      "Epoch 207/500\n",
      "\u001b[1m978/978\u001b[0m \u001b[32m━━━━━━━━━━━━━━━━━━━━\u001b[0m\u001b[37m\u001b[0m \u001b[1m4s\u001b[0m 4ms/step - accuracy: 0.0633 - loss: 4.0967 - val_accuracy: 0.0655 - val_loss: 4.1076 - learning_rate: 3.1250e-05\n",
      "Epoch 208/500\n",
      "\u001b[1m978/978\u001b[0m \u001b[32m━━━━━━━━━━━━━━━━━━━━\u001b[0m\u001b[37m\u001b[0m \u001b[1m5s\u001b[0m 5ms/step - accuracy: 0.0639 - loss: 4.0961 - val_accuracy: 0.0670 - val_loss: 4.1062 - learning_rate: 3.1250e-05\n",
      "Epoch 209/500\n",
      "\u001b[1m978/978\u001b[0m \u001b[32m━━━━━━━━━━━━━━━━━━━━\u001b[0m\u001b[37m\u001b[0m \u001b[1m5s\u001b[0m 4ms/step - accuracy: 0.0645 - loss: 4.0944 - val_accuracy: 0.0669 - val_loss: 4.1069 - learning_rate: 3.1250e-05\n",
      "Epoch 210/500\n",
      "\u001b[1m978/978\u001b[0m \u001b[32m━━━━━━━━━━━━━━━━━━━━\u001b[0m\u001b[37m\u001b[0m \u001b[1m4s\u001b[0m 4ms/step - accuracy: 0.0647 - loss: 4.0920 - val_accuracy: 0.0668 - val_loss: 4.1069 - learning_rate: 3.1250e-05\n",
      "Epoch 211/500\n",
      "\u001b[1m978/978\u001b[0m \u001b[32m━━━━━━━━━━━━━━━━━━━━\u001b[0m\u001b[37m\u001b[0m \u001b[1m5s\u001b[0m 5ms/step - accuracy: 0.0654 - loss: 4.0935 - val_accuracy: 0.0677 - val_loss: 4.1056 - learning_rate: 3.1250e-05\n",
      "Epoch 212/500\n",
      "\u001b[1m978/978\u001b[0m \u001b[32m━━━━━━━━━━━━━━━━━━━━\u001b[0m\u001b[37m\u001b[0m \u001b[1m4s\u001b[0m 4ms/step - accuracy: 0.0647 - loss: 4.0892 - val_accuracy: 0.0674 - val_loss: 4.1061 - learning_rate: 3.1250e-05\n",
      "Epoch 213/500\n",
      "\u001b[1m978/978\u001b[0m \u001b[32m━━━━━━━━━━━━━━━━━━━━\u001b[0m\u001b[37m\u001b[0m \u001b[1m5s\u001b[0m 4ms/step - accuracy: 0.0638 - loss: 4.0894 - val_accuracy: 0.0674 - val_loss: 4.1061 - learning_rate: 3.1250e-05\n",
      "Epoch 214/500\n",
      "\u001b[1m978/978\u001b[0m \u001b[32m━━━━━━━━━━━━━━━━━━━━\u001b[0m\u001b[37m\u001b[0m \u001b[1m5s\u001b[0m 5ms/step - accuracy: 0.0651 - loss: 4.0909 - val_accuracy: 0.0677 - val_loss: 4.1052 - learning_rate: 3.1250e-05\n",
      "Epoch 215/500\n",
      "\u001b[1m978/978\u001b[0m \u001b[32m━━━━━━━━━━━━━━━━━━━━\u001b[0m\u001b[37m\u001b[0m \u001b[1m4s\u001b[0m 4ms/step - accuracy: 0.0638 - loss: 4.0892 - val_accuracy: 0.0673 - val_loss: 4.1063 - learning_rate: 3.1250e-05\n",
      "Epoch 216/500\n",
      "\u001b[1m978/978\u001b[0m \u001b[32m━━━━━━━━━━━━━━━━━━━━\u001b[0m\u001b[37m\u001b[0m \u001b[1m5s\u001b[0m 4ms/step - accuracy: 0.0658 - loss: 4.0841 - val_accuracy: 0.0672 - val_loss: 4.1067 - learning_rate: 3.1250e-05\n",
      "Epoch 217/500\n",
      "\u001b[1m978/978\u001b[0m \u001b[32m━━━━━━━━━━━━━━━━━━━━\u001b[0m\u001b[37m\u001b[0m \u001b[1m5s\u001b[0m 5ms/step - accuracy: 0.0650 - loss: 4.0893 - val_accuracy: 0.0675 - val_loss: 4.1059 - learning_rate: 3.1250e-05\n",
      "Epoch 218/500\n",
      "\u001b[1m978/978\u001b[0m \u001b[32m━━━━━━━━━━━━━━━━━━━━\u001b[0m\u001b[37m\u001b[0m \u001b[1m5s\u001b[0m 4ms/step - accuracy: 0.0652 - loss: 4.0891 - val_accuracy: 0.0674 - val_loss: 4.1059 - learning_rate: 3.1250e-05\n",
      "Epoch 219/500\n",
      "\u001b[1m978/978\u001b[0m \u001b[32m━━━━━━━━━━━━━━━━━━━━\u001b[0m\u001b[37m\u001b[0m \u001b[1m5s\u001b[0m 5ms/step - accuracy: 0.0645 - loss: 4.0898 - val_accuracy: 0.0682 - val_loss: 4.1048 - learning_rate: 3.1250e-05\n",
      "Epoch 220/500\n",
      "\u001b[1m978/978\u001b[0m \u001b[32m━━━━━━━━━━━━━━━━━━━━\u001b[0m\u001b[37m\u001b[0m \u001b[1m5s\u001b[0m 4ms/step - accuracy: 0.0652 - loss: 4.0856 - val_accuracy: 0.0677 - val_loss: 4.1044 - learning_rate: 3.1250e-05\n",
      "Epoch 221/500\n",
      "\u001b[1m978/978\u001b[0m \u001b[32m━━━━━━━━━━━━━━━━━━━━\u001b[0m\u001b[37m\u001b[0m \u001b[1m4s\u001b[0m 4ms/step - accuracy: 0.0649 - loss: 4.0909 - val_accuracy: 0.0674 - val_loss: 4.1047 - learning_rate: 3.1250e-05\n",
      "Epoch 222/500\n",
      "\u001b[1m978/978\u001b[0m \u001b[32m━━━━━━━━━━━━━━━━━━━━\u001b[0m\u001b[37m\u001b[0m \u001b[1m6s\u001b[0m 5ms/step - accuracy: 0.0650 - loss: 4.0887 - val_accuracy: 0.0667 - val_loss: 4.1050 - learning_rate: 3.1250e-05\n",
      "Epoch 223/500\n",
      "\u001b[1m978/978\u001b[0m \u001b[32m━━━━━━━━━━━━━━━━━━━━\u001b[0m\u001b[37m\u001b[0m \u001b[1m4s\u001b[0m 4ms/step - accuracy: 0.0653 - loss: 4.0863 - val_accuracy: 0.0667 - val_loss: 4.1054 - learning_rate: 3.1250e-05\n",
      "Epoch 224/500\n",
      "\u001b[1m978/978\u001b[0m \u001b[32m━━━━━━━━━━━━━━━━━━━━\u001b[0m\u001b[37m\u001b[0m \u001b[1m5s\u001b[0m 4ms/step - accuracy: 0.0650 - loss: 4.0910 - val_accuracy: 0.0679 - val_loss: 4.1046 - learning_rate: 3.1250e-05\n",
      "Epoch 225/500\n",
      "\u001b[1m967/978\u001b[0m \u001b[32m━━━━━━━━━━━━━━━━━━━\u001b[0m\u001b[37m━\u001b[0m \u001b[1m0s\u001b[0m 4ms/step - accuracy: 0.0641 - loss: 4.0896\n",
      "Epoch 225: ReduceLROnPlateau reducing learning rate to 1.5625000742147677e-05.\n",
      "\u001b[1m978/978\u001b[0m \u001b[32m━━━━━━━━━━━━━━━━━━━━\u001b[0m\u001b[37m\u001b[0m \u001b[1m5s\u001b[0m 5ms/step - accuracy: 0.0641 - loss: 4.0896 - val_accuracy: 0.0685 - val_loss: 4.1048 - learning_rate: 3.1250e-05\n",
      "Epoch 226/500\n",
      "\u001b[1m978/978\u001b[0m \u001b[32m━━━━━━━━━━━━━━━━━━━━\u001b[0m\u001b[37m\u001b[0m \u001b[1m4s\u001b[0m 4ms/step - accuracy: 0.0658 - loss: 4.0850 - val_accuracy: 0.0678 - val_loss: 4.1038 - learning_rate: 1.5625e-05\n",
      "Epoch 227/500\n",
      "\u001b[1m978/978\u001b[0m \u001b[32m━━━━━━━━━━━━━━━━━━━━\u001b[0m\u001b[37m\u001b[0m \u001b[1m6s\u001b[0m 5ms/step - accuracy: 0.0664 - loss: 4.0849 - val_accuracy: 0.0678 - val_loss: 4.1037 - learning_rate: 1.5625e-05\n",
      "Epoch 228/500\n",
      "\u001b[1m978/978\u001b[0m \u001b[32m━━━━━━━━━━━━━━━━━━━━\u001b[0m\u001b[37m\u001b[0m \u001b[1m5s\u001b[0m 4ms/step - accuracy: 0.0654 - loss: 4.0859 - val_accuracy: 0.0680 - val_loss: 4.1032 - learning_rate: 1.5625e-05\n",
      "Epoch 229/500\n",
      "\u001b[1m978/978\u001b[0m \u001b[32m━━━━━━━━━━━━━━━━━━━━\u001b[0m\u001b[37m\u001b[0m \u001b[1m5s\u001b[0m 4ms/step - accuracy: 0.0641 - loss: 4.0840 - val_accuracy: 0.0687 - val_loss: 4.1030 - learning_rate: 1.5625e-05\n",
      "Epoch 230/500\n",
      "\u001b[1m978/978\u001b[0m \u001b[32m━━━━━━━━━━━━━━━━━━━━\u001b[0m\u001b[37m\u001b[0m \u001b[1m5s\u001b[0m 5ms/step - accuracy: 0.0652 - loss: 4.0804 - val_accuracy: 0.0677 - val_loss: 4.1029 - learning_rate: 1.5625e-05\n",
      "Epoch 231/500\n",
      "\u001b[1m978/978\u001b[0m \u001b[32m━━━━━━━━━━━━━━━━━━━━\u001b[0m\u001b[37m\u001b[0m \u001b[1m4s\u001b[0m 4ms/step - accuracy: 0.0659 - loss: 4.0791 - val_accuracy: 0.0685 - val_loss: 4.1022 - learning_rate: 1.5625e-05\n",
      "Epoch 232/500\n",
      "\u001b[1m978/978\u001b[0m \u001b[32m━━━━━━━━━━━━━━━━━━━━\u001b[0m\u001b[37m\u001b[0m \u001b[1m4s\u001b[0m 4ms/step - accuracy: 0.0663 - loss: 4.0818 - val_accuracy: 0.0685 - val_loss: 4.1016 - learning_rate: 1.5625e-05\n",
      "Epoch 233/500\n",
      "\u001b[1m978/978\u001b[0m \u001b[32m━━━━━━━━━━━━━━━━━━━━\u001b[0m\u001b[37m\u001b[0m \u001b[1m5s\u001b[0m 5ms/step - accuracy: 0.0666 - loss: 4.0816 - val_accuracy: 0.0680 - val_loss: 4.1023 - learning_rate: 1.5625e-05\n",
      "Epoch 234/500\n",
      "\u001b[1m978/978\u001b[0m \u001b[32m━━━━━━━━━━━━━━━━━━━━\u001b[0m\u001b[37m\u001b[0m \u001b[1m4s\u001b[0m 4ms/step - accuracy: 0.0662 - loss: 4.0815 - val_accuracy: 0.0685 - val_loss: 4.1021 - learning_rate: 1.5625e-05\n",
      "Epoch 235/500\n",
      "\u001b[1m978/978\u001b[0m \u001b[32m━━━━━━━━━━━━━━━━━━━━\u001b[0m\u001b[37m\u001b[0m \u001b[1m4s\u001b[0m 4ms/step - accuracy: 0.0662 - loss: 4.0788 - val_accuracy: 0.0686 - val_loss: 4.1016 - learning_rate: 1.5625e-05\n",
      "Epoch 236/500\n",
      "\u001b[1m978/978\u001b[0m \u001b[32m━━━━━━━━━━━━━━━━━━━━\u001b[0m\u001b[37m\u001b[0m \u001b[1m6s\u001b[0m 5ms/step - accuracy: 0.0665 - loss: 4.0809 - val_accuracy: 0.0679 - val_loss: 4.1027 - learning_rate: 1.5625e-05\n",
      "Epoch 237/500\n",
      "\u001b[1m978/978\u001b[0m \u001b[32m━━━━━━━━━━━━━━━━━━━━\u001b[0m\u001b[37m\u001b[0m \u001b[1m4s\u001b[0m 4ms/step - accuracy: 0.0659 - loss: 4.0818 - val_accuracy: 0.0687 - val_loss: 4.1013 - learning_rate: 1.5625e-05\n",
      "Epoch 238/500\n",
      "\u001b[1m978/978\u001b[0m \u001b[32m━━━━━━━━━━━━━━━━━━━━\u001b[0m\u001b[37m\u001b[0m \u001b[1m5s\u001b[0m 4ms/step - accuracy: 0.0658 - loss: 4.0809 - val_accuracy: 0.0692 - val_loss: 4.1018 - learning_rate: 1.5625e-05\n",
      "Epoch 239/500\n",
      "\u001b[1m978/978\u001b[0m \u001b[32m━━━━━━━━━━━━━━━━━━━━\u001b[0m\u001b[37m\u001b[0m \u001b[1m5s\u001b[0m 5ms/step - accuracy: 0.0675 - loss: 4.0821 - val_accuracy: 0.0683 - val_loss: 4.1010 - learning_rate: 1.5625e-05\n",
      "Epoch 240/500\n",
      "\u001b[1m978/978\u001b[0m \u001b[32m━━━━━━━━━━━━━━━━━━━━\u001b[0m\u001b[37m\u001b[0m \u001b[1m4s\u001b[0m 4ms/step - accuracy: 0.0677 - loss: 4.0827 - val_accuracy: 0.0694 - val_loss: 4.1020 - learning_rate: 1.5625e-05\n",
      "Epoch 241/500\n",
      "\u001b[1m978/978\u001b[0m \u001b[32m━━━━━━━━━━━━━━━━━━━━\u001b[0m\u001b[37m\u001b[0m \u001b[1m4s\u001b[0m 4ms/step - accuracy: 0.0652 - loss: 4.0862 - val_accuracy: 0.0688 - val_loss: 4.1013 - learning_rate: 1.5625e-05\n",
      "Epoch 242/500\n",
      "\u001b[1m978/978\u001b[0m \u001b[32m━━━━━━━━━━━━━━━━━━━━\u001b[0m\u001b[37m\u001b[0m \u001b[1m6s\u001b[0m 5ms/step - accuracy: 0.0662 - loss: 4.0797 - val_accuracy: 0.0693 - val_loss: 4.1010 - learning_rate: 1.5625e-05\n",
      "Epoch 243/500\n",
      "\u001b[1m978/978\u001b[0m \u001b[32m━━━━━━━━━━━━━━━━━━━━\u001b[0m\u001b[37m\u001b[0m \u001b[1m4s\u001b[0m 4ms/step - accuracy: 0.0660 - loss: 4.0795 - val_accuracy: 0.0686 - val_loss: 4.1009 - learning_rate: 1.5625e-05\n",
      "Epoch 244/500\n",
      "\u001b[1m978/978\u001b[0m \u001b[32m━━━━━━━━━━━━━━━━━━━━\u001b[0m\u001b[37m\u001b[0m \u001b[1m4s\u001b[0m 4ms/step - accuracy: 0.0654 - loss: 4.0836 - val_accuracy: 0.0691 - val_loss: 4.1002 - learning_rate: 1.5625e-05\n",
      "Epoch 245/500\n",
      "\u001b[1m978/978\u001b[0m \u001b[32m━━━━━━━━━━━━━━━━━━━━\u001b[0m\u001b[37m\u001b[0m \u001b[1m5s\u001b[0m 5ms/step - accuracy: 0.0664 - loss: 4.0836 - val_accuracy: 0.0684 - val_loss: 4.1002 - learning_rate: 1.5625e-05\n",
      "Epoch 246/500\n",
      "\u001b[1m978/978\u001b[0m \u001b[32m━━━━━━━━━━━━━━━━━━━━\u001b[0m\u001b[37m\u001b[0m \u001b[1m4s\u001b[0m 4ms/step - accuracy: 0.0653 - loss: 4.0869 - val_accuracy: 0.0681 - val_loss: 4.1011 - learning_rate: 1.5625e-05\n",
      "Epoch 247/500\n",
      "\u001b[1m978/978\u001b[0m \u001b[32m━━━━━━━━━━━━━━━━━━━━\u001b[0m\u001b[37m\u001b[0m \u001b[1m5s\u001b[0m 4ms/step - accuracy: 0.0659 - loss: 4.0815 - val_accuracy: 0.0689 - val_loss: 4.1003 - learning_rate: 1.5625e-05\n",
      "Epoch 248/500\n",
      "\u001b[1m978/978\u001b[0m \u001b[32m━━━━━━━━━━━━━━━━━━━━\u001b[0m\u001b[37m\u001b[0m \u001b[1m5s\u001b[0m 5ms/step - accuracy: 0.0653 - loss: 4.0811 - val_accuracy: 0.0691 - val_loss: 4.0997 - learning_rate: 1.5625e-05\n",
      "Epoch 249/500\n",
      "\u001b[1m978/978\u001b[0m \u001b[32m━━━━━━━━━━━━━━━━━━━━\u001b[0m\u001b[37m\u001b[0m \u001b[1m4s\u001b[0m 4ms/step - accuracy: 0.0662 - loss: 4.0796 - val_accuracy: 0.0690 - val_loss: 4.0995 - learning_rate: 1.5625e-05\n",
      "Epoch 250/500\n",
      "\u001b[1m978/978\u001b[0m \u001b[32m━━━━━━━━━━━━━━━━━━━━\u001b[0m\u001b[37m\u001b[0m \u001b[1m5s\u001b[0m 5ms/step - accuracy: 0.0670 - loss: 4.0797 - val_accuracy: 0.0694 - val_loss: 4.1000 - learning_rate: 1.5625e-05\n",
      "Epoch 251/500\n",
      "\u001b[1m978/978\u001b[0m \u001b[32m━━━━━━━━━━━━━━━━━━━━\u001b[0m\u001b[37m\u001b[0m \u001b[1m5s\u001b[0m 5ms/step - accuracy: 0.0676 - loss: 4.0801 - val_accuracy: 0.0689 - val_loss: 4.0989 - learning_rate: 1.5625e-05\n",
      "Epoch 252/500\n",
      "\u001b[1m978/978\u001b[0m \u001b[32m━━━━━━━━━━━━━━━━━━━━\u001b[0m\u001b[37m\u001b[0m \u001b[1m5s\u001b[0m 4ms/step - accuracy: 0.0665 - loss: 4.0791 - val_accuracy: 0.0685 - val_loss: 4.0998 - learning_rate: 1.5625e-05\n",
      "Epoch 253/500\n",
      "\u001b[1m978/978\u001b[0m \u001b[32m━━━━━━━━━━━━━━━━━━━━\u001b[0m\u001b[37m\u001b[0m \u001b[1m7s\u001b[0m 6ms/step - accuracy: 0.0659 - loss: 4.0807 - val_accuracy: 0.0692 - val_loss: 4.0994 - learning_rate: 1.5625e-05\n",
      "Epoch 254/500\n",
      "\u001b[1m978/978\u001b[0m \u001b[32m━━━━━━━━━━━━━━━━━━━━\u001b[0m\u001b[37m\u001b[0m \u001b[1m9s\u001b[0m 4ms/step - accuracy: 0.0671 - loss: 4.0810 - val_accuracy: 0.0695 - val_loss: 4.0993 - learning_rate: 1.5625e-05\n",
      "Epoch 255/500\n",
      "\u001b[1m978/978\u001b[0m \u001b[32m━━━━━━━━━━━━━━━━━━━━\u001b[0m\u001b[37m\u001b[0m \u001b[1m6s\u001b[0m 5ms/step - accuracy: 0.0665 - loss: 4.0786 - val_accuracy: 0.0700 - val_loss: 4.0991 - learning_rate: 1.5625e-05\n",
      "Epoch 256/500\n",
      "\u001b[1m975/978\u001b[0m \u001b[32m━━━━━━━━━━━━━━━━━━━\u001b[0m\u001b[37m━\u001b[0m \u001b[1m0s\u001b[0m 3ms/step - accuracy: 0.0652 - loss: 4.0792\n",
      "Epoch 256: ReduceLROnPlateau reducing learning rate to 7.812500371073838e-06.\n",
      "\u001b[1m978/978\u001b[0m \u001b[32m━━━━━━━━━━━━━━━━━━━━\u001b[0m\u001b[37m\u001b[0m \u001b[1m4s\u001b[0m 4ms/step - accuracy: 0.0652 - loss: 4.0792 - val_accuracy: 0.0698 - val_loss: 4.0991 - learning_rate: 1.5625e-05\n",
      "Epoch 257/500\n",
      "\u001b[1m978/978\u001b[0m \u001b[32m━━━━━━━━━━━━━━━━━━━━\u001b[0m\u001b[37m\u001b[0m \u001b[1m4s\u001b[0m 4ms/step - accuracy: 0.0661 - loss: 4.0802 - val_accuracy: 0.0696 - val_loss: 4.0992 - learning_rate: 7.8125e-06\n",
      "Epoch 258/500\n",
      "\u001b[1m978/978\u001b[0m \u001b[32m━━━━━━━━━━━━━━━━━━━━\u001b[0m\u001b[37m\u001b[0m \u001b[1m5s\u001b[0m 5ms/step - accuracy: 0.0668 - loss: 4.0802 - val_accuracy: 0.0700 - val_loss: 4.0984 - learning_rate: 7.8125e-06\n",
      "Epoch 259/500\n",
      "\u001b[1m978/978\u001b[0m \u001b[32m━━━━━━━━━━━━━━━━━━━━\u001b[0m\u001b[37m\u001b[0m \u001b[1m5s\u001b[0m 4ms/step - accuracy: 0.0670 - loss: 4.0767 - val_accuracy: 0.0699 - val_loss: 4.0979 - learning_rate: 7.8125e-06\n",
      "Epoch 260/500\n",
      "\u001b[1m978/978\u001b[0m \u001b[32m━━━━━━━━━━━━━━━━━━━━\u001b[0m\u001b[37m\u001b[0m \u001b[1m6s\u001b[0m 5ms/step - accuracy: 0.0666 - loss: 4.0731 - val_accuracy: 0.0695 - val_loss: 4.0980 - learning_rate: 7.8125e-06\n",
      "Epoch 261/500\n",
      "\u001b[1m978/978\u001b[0m \u001b[32m━━━━━━━━━━━━━━━━━━━━\u001b[0m\u001b[37m\u001b[0m \u001b[1m4s\u001b[0m 4ms/step - accuracy: 0.0669 - loss: 4.0794 - val_accuracy: 0.0695 - val_loss: 4.0979 - learning_rate: 7.8125e-06\n",
      "Epoch 262/500\n",
      "\u001b[1m978/978\u001b[0m \u001b[32m━━━━━━━━━━━━━━━━━━━━\u001b[0m\u001b[37m\u001b[0m \u001b[1m5s\u001b[0m 4ms/step - accuracy: 0.0668 - loss: 4.0741 - val_accuracy: 0.0690 - val_loss: 4.0982 - learning_rate: 7.8125e-06\n",
      "Epoch 263/500\n",
      "\u001b[1m978/978\u001b[0m \u001b[32m━━━━━━━━━━━━━━━━━━━━\u001b[0m\u001b[37m\u001b[0m \u001b[1m6s\u001b[0m 5ms/step - accuracy: 0.0671 - loss: 4.0752 - val_accuracy: 0.0697 - val_loss: 4.0980 - learning_rate: 7.8125e-06\n",
      "Epoch 264/500\n",
      "\u001b[1m970/978\u001b[0m \u001b[32m━━━━━━━━━━━━━━━━━━━\u001b[0m\u001b[37m━\u001b[0m \u001b[1m0s\u001b[0m 4ms/step - accuracy: 0.0672 - loss: 4.0713\n",
      "Epoch 264: ReduceLROnPlateau reducing learning rate to 3.906250185536919e-06.\n",
      "\u001b[1m978/978\u001b[0m \u001b[32m━━━━━━━━━━━━━━━━━━━━\u001b[0m\u001b[37m\u001b[0m \u001b[1m5s\u001b[0m 4ms/step - accuracy: 0.0672 - loss: 4.0714 - val_accuracy: 0.0694 - val_loss: 4.0979 - learning_rate: 7.8125e-06\n",
      "Epoch 265/500\n",
      "\u001b[1m978/978\u001b[0m \u001b[32m━━━━━━━━━━━━━━━━━━━━\u001b[0m\u001b[37m\u001b[0m \u001b[1m5s\u001b[0m 5ms/step - accuracy: 0.0688 - loss: 4.0753 - val_accuracy: 0.0693 - val_loss: 4.0972 - learning_rate: 3.9063e-06\n",
      "Epoch 266/500\n",
      "\u001b[1m978/978\u001b[0m \u001b[32m━━━━━━━━━━━━━━━━━━━━\u001b[0m\u001b[37m\u001b[0m \u001b[1m5s\u001b[0m 4ms/step - accuracy: 0.0669 - loss: 4.0730 - val_accuracy: 0.0696 - val_loss: 4.0971 - learning_rate: 3.9063e-06\n",
      "Epoch 267/500\n",
      "\u001b[1m978/978\u001b[0m \u001b[32m━━━━━━━━━━━━━━━━━━━━\u001b[0m\u001b[37m\u001b[0m \u001b[1m5s\u001b[0m 4ms/step - accuracy: 0.0676 - loss: 4.0741 - val_accuracy: 0.0697 - val_loss: 4.0974 - learning_rate: 3.9063e-06\n",
      "Epoch 268/500\n",
      "\u001b[1m978/978\u001b[0m \u001b[32m━━━━━━━━━━━━━━━━━━━━\u001b[0m\u001b[37m\u001b[0m \u001b[1m5s\u001b[0m 5ms/step - accuracy: 0.0675 - loss: 4.0732 - val_accuracy: 0.0694 - val_loss: 4.0969 - learning_rate: 3.9063e-06\n",
      "Epoch 269/500\n",
      "\u001b[1m978/978\u001b[0m \u001b[32m━━━━━━━━━━━━━━━━━━━━\u001b[0m\u001b[37m\u001b[0m \u001b[1m4s\u001b[0m 4ms/step - accuracy: 0.0663 - loss: 4.0753 - val_accuracy: 0.0696 - val_loss: 4.0973 - learning_rate: 3.9063e-06\n",
      "Epoch 270/500\n",
      "\u001b[1m978/978\u001b[0m \u001b[32m━━━━━━━━━━━━━━━━━━━━\u001b[0m\u001b[37m\u001b[0m \u001b[1m5s\u001b[0m 4ms/step - accuracy: 0.0658 - loss: 4.0740 - val_accuracy: 0.0698 - val_loss: 4.0972 - learning_rate: 3.9063e-06\n",
      "Epoch 271/500\n",
      "\u001b[1m978/978\u001b[0m \u001b[32m━━━━━━━━━━━━━━━━━━━━\u001b[0m\u001b[37m\u001b[0m \u001b[1m5s\u001b[0m 5ms/step - accuracy: 0.0686 - loss: 4.0718 - val_accuracy: 0.0698 - val_loss: 4.0972 - learning_rate: 3.9063e-06\n",
      "Epoch 272/500\n",
      "\u001b[1m978/978\u001b[0m \u001b[32m━━━━━━━━━━━━━━━━━━━━\u001b[0m\u001b[37m\u001b[0m \u001b[1m4s\u001b[0m 4ms/step - accuracy: 0.0678 - loss: 4.0755 - val_accuracy: 0.0700 - val_loss: 4.0972 - learning_rate: 3.9063e-06\n",
      "Epoch 273/500\n",
      "\u001b[1m968/978\u001b[0m \u001b[32m━━━━━━━━━━━━━━━━━━━\u001b[0m\u001b[37m━\u001b[0m \u001b[1m0s\u001b[0m 4ms/step - accuracy: 0.0675 - loss: 4.0732\n",
      "Epoch 273: ReduceLROnPlateau reducing learning rate to 1.9531250927684596e-06.\n",
      "\u001b[1m978/978\u001b[0m \u001b[32m━━━━━━━━━━━━━━━━━━━━\u001b[0m\u001b[37m\u001b[0m \u001b[1m4s\u001b[0m 4ms/step - accuracy: 0.0675 - loss: 4.0732 - val_accuracy: 0.0695 - val_loss: 4.0970 - learning_rate: 3.9063e-06\n",
      "Epoch 274/500\n",
      "\u001b[1m978/978\u001b[0m \u001b[32m━━━━━━━━━━━━━━━━━━━━\u001b[0m\u001b[37m\u001b[0m \u001b[1m6s\u001b[0m 5ms/step - accuracy: 0.0676 - loss: 4.0726 - val_accuracy: 0.0697 - val_loss: 4.0967 - learning_rate: 1.9531e-06\n",
      "Epoch 275/500\n",
      "\u001b[1m978/978\u001b[0m \u001b[32m━━━━━━━━━━━━━━━━━━━━\u001b[0m\u001b[37m\u001b[0m \u001b[1m4s\u001b[0m 4ms/step - accuracy: 0.0661 - loss: 4.0754 - val_accuracy: 0.0695 - val_loss: 4.0975 - learning_rate: 1.9531e-06\n",
      "Epoch 276/500\n",
      "\u001b[1m978/978\u001b[0m \u001b[32m━━━━━━━━━━━━━━━━━━━━\u001b[0m\u001b[37m\u001b[0m \u001b[1m6s\u001b[0m 5ms/step - accuracy: 0.0665 - loss: 4.0741 - val_accuracy: 0.0698 - val_loss: 4.0970 - learning_rate: 1.9531e-06\n",
      "Epoch 277/500\n",
      "\u001b[1m978/978\u001b[0m \u001b[32m━━━━━━━━━━━━━━━━━━━━\u001b[0m\u001b[37m\u001b[0m \u001b[1m5s\u001b[0m 5ms/step - accuracy: 0.0666 - loss: 4.0736 - val_accuracy: 0.0695 - val_loss: 4.0965 - learning_rate: 1.9531e-06\n",
      "Epoch 278/500\n",
      "\u001b[1m978/978\u001b[0m \u001b[32m━━━━━━━━━━━━━━━━━━━━\u001b[0m\u001b[37m\u001b[0m \u001b[1m4s\u001b[0m 4ms/step - accuracy: 0.0692 - loss: 4.0770 - val_accuracy: 0.0696 - val_loss: 4.0971 - learning_rate: 1.9531e-06\n",
      "Epoch 279/500\n",
      "\u001b[1m978/978\u001b[0m \u001b[32m━━━━━━━━━━━━━━━━━━━━\u001b[0m\u001b[37m\u001b[0m \u001b[1m5s\u001b[0m 5ms/step - accuracy: 0.0679 - loss: 4.0736 - val_accuracy: 0.0696 - val_loss: 4.0967 - learning_rate: 1.9531e-06\n",
      "Epoch 280/500\n",
      "\u001b[1m978/978\u001b[0m \u001b[32m━━━━━━━━━━━━━━━━━━━━\u001b[0m\u001b[37m\u001b[0m \u001b[1m9s\u001b[0m 4ms/step - accuracy: 0.0682 - loss: 4.0716 - val_accuracy: 0.0698 - val_loss: 4.0971 - learning_rate: 1.9531e-06\n",
      "Epoch 281/500\n",
      "\u001b[1m978/978\u001b[0m \u001b[32m━━━━━━━━━━━━━━━━━━━━\u001b[0m\u001b[37m\u001b[0m \u001b[1m6s\u001b[0m 6ms/step - accuracy: 0.0679 - loss: 4.0726 - val_accuracy: 0.0693 - val_loss: 4.0967 - learning_rate: 1.9531e-06\n",
      "Epoch 282/500\n",
      "\u001b[1m976/978\u001b[0m \u001b[32m━━━━━━━━━━━━━━━━━━━\u001b[0m\u001b[37m━\u001b[0m \u001b[1m0s\u001b[0m 4ms/step - accuracy: 0.0682 - loss: 4.0697\n",
      "Epoch 282: ReduceLROnPlateau reducing learning rate to 1e-06.\n",
      "\u001b[1m978/978\u001b[0m \u001b[32m━━━━━━━━━━━━━━━━━━━━\u001b[0m\u001b[37m\u001b[0m \u001b[1m4s\u001b[0m 4ms/step - accuracy: 0.0681 - loss: 4.0697 - val_accuracy: 0.0699 - val_loss: 4.0974 - learning_rate: 1.9531e-06\n",
      "Epoch 283/500\n",
      "\u001b[1m978/978\u001b[0m \u001b[32m━━━━━━━━━━━━━━━━━━━━\u001b[0m\u001b[37m\u001b[0m \u001b[1m4s\u001b[0m 4ms/step - accuracy: 0.0676 - loss: 4.0741 - val_accuracy: 0.0695 - val_loss: 4.0965 - learning_rate: 1.0000e-06\n",
      "Epoch 284/500\n",
      "\u001b[1m978/978\u001b[0m \u001b[32m━━━━━━━━━━━━━━━━━━━━\u001b[0m\u001b[37m\u001b[0m \u001b[1m6s\u001b[0m 5ms/step - accuracy: 0.0671 - loss: 4.0757 - val_accuracy: 0.0694 - val_loss: 4.0972 - learning_rate: 1.0000e-06\n",
      "Epoch 285/500\n",
      "\u001b[1m978/978\u001b[0m \u001b[32m━━━━━━━━━━━━━━━━━━━━\u001b[0m\u001b[37m\u001b[0m \u001b[1m4s\u001b[0m 4ms/step - accuracy: 0.0665 - loss: 4.0752 - val_accuracy: 0.0695 - val_loss: 4.0970 - learning_rate: 1.0000e-06\n",
      "Epoch 286/500\n",
      "\u001b[1m978/978\u001b[0m \u001b[32m━━━━━━━━━━━━━━━━━━━━\u001b[0m\u001b[37m\u001b[0m \u001b[1m5s\u001b[0m 5ms/step - accuracy: 0.0678 - loss: 4.0731 - val_accuracy: 0.0699 - val_loss: 4.0972 - learning_rate: 1.0000e-06\n",
      "Epoch 287/500\n",
      "\u001b[1m978/978\u001b[0m \u001b[32m━━━━━━━━━━━━━━━━━━━━\u001b[0m\u001b[37m\u001b[0m \u001b[1m5s\u001b[0m 5ms/step - accuracy: 0.0680 - loss: 4.0752 - val_accuracy: 0.0694 - val_loss: 4.0972 - learning_rate: 1.0000e-06\n",
      "Epoch 288/500\n",
      "\u001b[1m978/978\u001b[0m \u001b[32m━━━━━━━━━━━━━━━━━━━━\u001b[0m\u001b[37m\u001b[0m \u001b[1m5s\u001b[0m 4ms/step - accuracy: 0.0676 - loss: 4.0678 - val_accuracy: 0.0696 - val_loss: 4.0965 - learning_rate: 1.0000e-06\n",
      "Epoch 289/500\n",
      "\u001b[1m978/978\u001b[0m \u001b[32m━━━━━━━━━━━━━━━━━━━━\u001b[0m\u001b[37m\u001b[0m \u001b[1m5s\u001b[0m 5ms/step - accuracy: 0.0678 - loss: 4.0729 - val_accuracy: 0.0696 - val_loss: 4.0970 - learning_rate: 1.0000e-06\n",
      "Epoch 290/500\n",
      "\u001b[1m978/978\u001b[0m \u001b[32m━━━━━━━━━━━━━━━━━━━━\u001b[0m\u001b[37m\u001b[0m \u001b[1m5s\u001b[0m 5ms/step - accuracy: 0.0682 - loss: 4.0740 - val_accuracy: 0.0697 - val_loss: 4.0973 - learning_rate: 1.0000e-06\n",
      "Epoch 291/500\n",
      "\u001b[1m978/978\u001b[0m \u001b[32m━━━━━━━━━━━━━━━━━━━━\u001b[0m\u001b[37m\u001b[0m \u001b[1m5s\u001b[0m 4ms/step - accuracy: 0.0680 - loss: 4.0718 - val_accuracy: 0.0694 - val_loss: 4.0966 - learning_rate: 1.0000e-06\n",
      "Epoch 292/500\n",
      "\u001b[1m978/978\u001b[0m \u001b[32m━━━━━━━━━━━━━━━━━━━━\u001b[0m\u001b[37m\u001b[0m \u001b[1m6s\u001b[0m 5ms/step - accuracy: 0.0677 - loss: 4.0730 - val_accuracy: 0.0695 - val_loss: 4.0967 - learning_rate: 1.0000e-06\n",
      "Epoch 293/500\n",
      "\u001b[1m978/978\u001b[0m \u001b[32m━━━━━━━━━━━━━━━━━━━━\u001b[0m\u001b[37m\u001b[0m \u001b[1m10s\u001b[0m 5ms/step - accuracy: 0.0659 - loss: 4.0747 - val_accuracy: 0.0696 - val_loss: 4.0968 - learning_rate: 1.0000e-06\n",
      "Epoch 294/500\n",
      "\u001b[1m978/978\u001b[0m \u001b[32m━━━━━━━━━━━━━━━━━━━━\u001b[0m\u001b[37m\u001b[0m \u001b[1m5s\u001b[0m 5ms/step - accuracy: 0.0660 - loss: 4.0764 - val_accuracy: 0.0694 - val_loss: 4.0967 - learning_rate: 1.0000e-06\n",
      "Epoch 295/500\n",
      "\u001b[1m978/978\u001b[0m \u001b[32m━━━━━━━━━━━━━━━━━━━━\u001b[0m\u001b[37m\u001b[0m \u001b[1m5s\u001b[0m 4ms/step - accuracy: 0.0669 - loss: 4.0744 - val_accuracy: 0.0699 - val_loss: 4.0963 - learning_rate: 1.0000e-06\n",
      "Epoch 296/500\n",
      "\u001b[1m978/978\u001b[0m \u001b[32m━━━━━━━━━━━━━━━━━━━━\u001b[0m\u001b[37m\u001b[0m \u001b[1m5s\u001b[0m 5ms/step - accuracy: 0.0667 - loss: 4.0742 - val_accuracy: 0.0694 - val_loss: 4.0965 - learning_rate: 1.0000e-06\n",
      "Epoch 297/500\n",
      "\u001b[1m978/978\u001b[0m \u001b[32m━━━━━━━━━━━━━━━━━━━━\u001b[0m\u001b[37m\u001b[0m \u001b[1m9s\u001b[0m 4ms/step - accuracy: 0.0672 - loss: 4.0727 - val_accuracy: 0.0699 - val_loss: 4.0965 - learning_rate: 1.0000e-06\n",
      "Epoch 298/500\n",
      "\u001b[1m978/978\u001b[0m \u001b[32m━━━━━━━━━━━━━━━━━━━━\u001b[0m\u001b[37m\u001b[0m \u001b[1m5s\u001b[0m 5ms/step - accuracy: 0.0667 - loss: 4.0748 - val_accuracy: 0.0699 - val_loss: 4.0965 - learning_rate: 1.0000e-06\n",
      "Epoch 299/500\n",
      "\u001b[1m978/978\u001b[0m \u001b[32m━━━━━━━━━━━━━━━━━━━━\u001b[0m\u001b[37m\u001b[0m \u001b[1m4s\u001b[0m 4ms/step - accuracy: 0.0670 - loss: 4.0760 - val_accuracy: 0.0696 - val_loss: 4.0966 - learning_rate: 1.0000e-06\n",
      "Epoch 300/500\n",
      "\u001b[1m978/978\u001b[0m \u001b[32m━━━━━━━━━━━━━━━━━━━━\u001b[0m\u001b[37m\u001b[0m \u001b[1m4s\u001b[0m 4ms/step - accuracy: 0.0667 - loss: 4.0746 - val_accuracy: 0.0700 - val_loss: 4.0965 - learning_rate: 1.0000e-06\n",
      "Epoch 301/500\n",
      "\u001b[1m978/978\u001b[0m \u001b[32m━━━━━━━━━━━━━━━━━━━━\u001b[0m\u001b[37m\u001b[0m \u001b[1m5s\u001b[0m 5ms/step - accuracy: 0.0683 - loss: 4.0711 - val_accuracy: 0.0699 - val_loss: 4.0967 - learning_rate: 1.0000e-06\n",
      "Epoch 302/500\n",
      "\u001b[1m761/978\u001b[0m \u001b[32m━━━━━━━━━━━━━━━\u001b[0m\u001b[37m━━━━━\u001b[0m \u001b[1m0s\u001b[0m 4ms/step - accuracy: 0.0673 - loss: 4.0699"
     ]
    },
    {
     "ename": "KeyboardInterrupt",
     "evalue": "",
     "output_type": "error",
     "traceback": [
      "\u001b[0;31m---------------------------------------------------------------------------\u001b[0m",
      "\u001b[0;31mKeyboardInterrupt\u001b[0m                         Traceback (most recent call last)",
      "\u001b[0;32m<ipython-input-39-1284693709>\u001b[0m in \u001b[0;36m<cell line: 0>\u001b[0;34m()\u001b[0m\n\u001b[1;32m      6\u001b[0m \u001b[0;34m\u001b[0m\u001b[0m\n\u001b[1;32m      7\u001b[0m \u001b[0;32mwith\u001b[0m \u001b[0mtf\u001b[0m\u001b[0;34m.\u001b[0m\u001b[0mdevice\u001b[0m\u001b[0;34m(\u001b[0m\u001b[0;34m'/GPU:0'\u001b[0m\u001b[0;34m)\u001b[0m\u001b[0;34m:\u001b[0m\u001b[0;34m\u001b[0m\u001b[0;34m\u001b[0m\u001b[0m\n\u001b[0;32m----> 8\u001b[0;31m   history = model.fit(\n\u001b[0m\u001b[1;32m      9\u001b[0m           \u001b[0mX_train_preproc\u001b[0m\u001b[0;34m,\u001b[0m \u001b[0my_train_cat\u001b[0m\u001b[0;34m,\u001b[0m\u001b[0;34m\u001b[0m\u001b[0;34m\u001b[0m\u001b[0m\n\u001b[1;32m     10\u001b[0m           \u001b[0mvalidation_split\u001b[0m\u001b[0;34m=\u001b[0m\u001b[0;36m0.2\u001b[0m\u001b[0;34m,\u001b[0m\u001b[0;34m\u001b[0m\u001b[0;34m\u001b[0m\u001b[0m\n",
      "\u001b[0;32m/usr/local/lib/python3.11/dist-packages/keras/src/utils/traceback_utils.py\u001b[0m in \u001b[0;36merror_handler\u001b[0;34m(*args, **kwargs)\u001b[0m\n\u001b[1;32m    115\u001b[0m         \u001b[0mfiltered_tb\u001b[0m \u001b[0;34m=\u001b[0m \u001b[0;32mNone\u001b[0m\u001b[0;34m\u001b[0m\u001b[0;34m\u001b[0m\u001b[0m\n\u001b[1;32m    116\u001b[0m         \u001b[0;32mtry\u001b[0m\u001b[0;34m:\u001b[0m\u001b[0;34m\u001b[0m\u001b[0;34m\u001b[0m\u001b[0m\n\u001b[0;32m--> 117\u001b[0;31m             \u001b[0;32mreturn\u001b[0m \u001b[0mfn\u001b[0m\u001b[0;34m(\u001b[0m\u001b[0;34m*\u001b[0m\u001b[0margs\u001b[0m\u001b[0;34m,\u001b[0m \u001b[0;34m**\u001b[0m\u001b[0mkwargs\u001b[0m\u001b[0;34m)\u001b[0m\u001b[0;34m\u001b[0m\u001b[0;34m\u001b[0m\u001b[0m\n\u001b[0m\u001b[1;32m    118\u001b[0m         \u001b[0;32mexcept\u001b[0m \u001b[0mException\u001b[0m \u001b[0;32mas\u001b[0m \u001b[0me\u001b[0m\u001b[0;34m:\u001b[0m\u001b[0;34m\u001b[0m\u001b[0;34m\u001b[0m\u001b[0m\n\u001b[1;32m    119\u001b[0m             \u001b[0mfiltered_tb\u001b[0m \u001b[0;34m=\u001b[0m \u001b[0m_process_traceback_frames\u001b[0m\u001b[0;34m(\u001b[0m\u001b[0me\u001b[0m\u001b[0;34m.\u001b[0m\u001b[0m__traceback__\u001b[0m\u001b[0;34m)\u001b[0m\u001b[0;34m\u001b[0m\u001b[0;34m\u001b[0m\u001b[0m\n",
      "\u001b[0;32m/usr/local/lib/python3.11/dist-packages/keras/src/backend/tensorflow/trainer.py\u001b[0m in \u001b[0;36mfit\u001b[0;34m(self, x, y, batch_size, epochs, verbose, callbacks, validation_split, validation_data, shuffle, class_weight, sample_weight, initial_epoch, steps_per_epoch, validation_steps, validation_batch_size, validation_freq)\u001b[0m\n\u001b[1;32m    369\u001b[0m                 \u001b[0;32mfor\u001b[0m \u001b[0mstep\u001b[0m\u001b[0;34m,\u001b[0m \u001b[0miterator\u001b[0m \u001b[0;32min\u001b[0m \u001b[0mepoch_iterator\u001b[0m\u001b[0;34m:\u001b[0m\u001b[0;34m\u001b[0m\u001b[0;34m\u001b[0m\u001b[0m\n\u001b[1;32m    370\u001b[0m                     \u001b[0mcallbacks\u001b[0m\u001b[0;34m.\u001b[0m\u001b[0mon_train_batch_begin\u001b[0m\u001b[0;34m(\u001b[0m\u001b[0mstep\u001b[0m\u001b[0;34m)\u001b[0m\u001b[0;34m\u001b[0m\u001b[0;34m\u001b[0m\u001b[0m\n\u001b[0;32m--> 371\u001b[0;31m                     \u001b[0mlogs\u001b[0m \u001b[0;34m=\u001b[0m \u001b[0mself\u001b[0m\u001b[0;34m.\u001b[0m\u001b[0mtrain_function\u001b[0m\u001b[0;34m(\u001b[0m\u001b[0miterator\u001b[0m\u001b[0;34m)\u001b[0m\u001b[0;34m\u001b[0m\u001b[0;34m\u001b[0m\u001b[0m\n\u001b[0m\u001b[1;32m    372\u001b[0m                     \u001b[0mcallbacks\u001b[0m\u001b[0;34m.\u001b[0m\u001b[0mon_train_batch_end\u001b[0m\u001b[0;34m(\u001b[0m\u001b[0mstep\u001b[0m\u001b[0;34m,\u001b[0m \u001b[0mlogs\u001b[0m\u001b[0;34m)\u001b[0m\u001b[0;34m\u001b[0m\u001b[0;34m\u001b[0m\u001b[0m\n\u001b[1;32m    373\u001b[0m                     \u001b[0;32mif\u001b[0m \u001b[0mself\u001b[0m\u001b[0;34m.\u001b[0m\u001b[0mstop_training\u001b[0m\u001b[0;34m:\u001b[0m\u001b[0;34m\u001b[0m\u001b[0;34m\u001b[0m\u001b[0m\n",
      "\u001b[0;32m/usr/local/lib/python3.11/dist-packages/keras/src/backend/tensorflow/trainer.py\u001b[0m in \u001b[0;36mfunction\u001b[0;34m(iterator)\u001b[0m\n\u001b[1;32m    218\u001b[0m             ):\n\u001b[1;32m    219\u001b[0m                 \u001b[0mopt_outputs\u001b[0m \u001b[0;34m=\u001b[0m \u001b[0mmulti_step_on_iterator\u001b[0m\u001b[0;34m(\u001b[0m\u001b[0miterator\u001b[0m\u001b[0;34m)\u001b[0m\u001b[0;34m\u001b[0m\u001b[0;34m\u001b[0m\u001b[0m\n\u001b[0;32m--> 220\u001b[0;31m                 \u001b[0;32mif\u001b[0m \u001b[0;32mnot\u001b[0m \u001b[0mopt_outputs\u001b[0m\u001b[0;34m.\u001b[0m\u001b[0mhas_value\u001b[0m\u001b[0;34m(\u001b[0m\u001b[0;34m)\u001b[0m\u001b[0;34m:\u001b[0m\u001b[0;34m\u001b[0m\u001b[0;34m\u001b[0m\u001b[0m\n\u001b[0m\u001b[1;32m    221\u001b[0m                     \u001b[0;32mraise\u001b[0m \u001b[0mStopIteration\u001b[0m\u001b[0;34m\u001b[0m\u001b[0;34m\u001b[0m\u001b[0m\n\u001b[1;32m    222\u001b[0m                 \u001b[0;32mreturn\u001b[0m \u001b[0mopt_outputs\u001b[0m\u001b[0;34m.\u001b[0m\u001b[0mget_value\u001b[0m\u001b[0;34m(\u001b[0m\u001b[0;34m)\u001b[0m\u001b[0;34m\u001b[0m\u001b[0;34m\u001b[0m\u001b[0m\n",
      "\u001b[0;32m/usr/local/lib/python3.11/dist-packages/tensorflow/python/data/ops/optional_ops.py\u001b[0m in \u001b[0;36mhas_value\u001b[0;34m(self, name)\u001b[0m\n\u001b[1;32m    174\u001b[0m   \u001b[0;32mdef\u001b[0m \u001b[0mhas_value\u001b[0m\u001b[0;34m(\u001b[0m\u001b[0mself\u001b[0m\u001b[0;34m,\u001b[0m \u001b[0mname\u001b[0m\u001b[0;34m=\u001b[0m\u001b[0;32mNone\u001b[0m\u001b[0;34m)\u001b[0m\u001b[0;34m:\u001b[0m\u001b[0;34m\u001b[0m\u001b[0;34m\u001b[0m\u001b[0m\n\u001b[1;32m    175\u001b[0m     \u001b[0;32mwith\u001b[0m \u001b[0mops\u001b[0m\u001b[0;34m.\u001b[0m\u001b[0mcolocate_with\u001b[0m\u001b[0;34m(\u001b[0m\u001b[0mself\u001b[0m\u001b[0;34m.\u001b[0m\u001b[0m_variant_tensor\u001b[0m\u001b[0;34m)\u001b[0m\u001b[0;34m:\u001b[0m\u001b[0;34m\u001b[0m\u001b[0;34m\u001b[0m\u001b[0m\n\u001b[0;32m--> 176\u001b[0;31m       return gen_optional_ops.optional_has_value(\n\u001b[0m\u001b[1;32m    177\u001b[0m           \u001b[0mself\u001b[0m\u001b[0;34m.\u001b[0m\u001b[0m_variant_tensor\u001b[0m\u001b[0;34m,\u001b[0m \u001b[0mname\u001b[0m\u001b[0;34m=\u001b[0m\u001b[0mname\u001b[0m\u001b[0;34m\u001b[0m\u001b[0;34m\u001b[0m\u001b[0m\n\u001b[1;32m    178\u001b[0m       )\n",
      "\u001b[0;32m/usr/local/lib/python3.11/dist-packages/tensorflow/python/ops/gen_optional_ops.py\u001b[0m in \u001b[0;36moptional_has_value\u001b[0;34m(optional, name)\u001b[0m\n\u001b[1;32m    170\u001b[0m   \u001b[0;32mif\u001b[0m \u001b[0mtld\u001b[0m\u001b[0;34m.\u001b[0m\u001b[0mis_eager\u001b[0m\u001b[0;34m:\u001b[0m\u001b[0;34m\u001b[0m\u001b[0;34m\u001b[0m\u001b[0m\n\u001b[1;32m    171\u001b[0m     \u001b[0;32mtry\u001b[0m\u001b[0;34m:\u001b[0m\u001b[0;34m\u001b[0m\u001b[0;34m\u001b[0m\u001b[0m\n\u001b[0;32m--> 172\u001b[0;31m       _result = pywrap_tfe.TFE_Py_FastPathExecute(\n\u001b[0m\u001b[1;32m    173\u001b[0m         _ctx, \"OptionalHasValue\", name, optional)\n\u001b[1;32m    174\u001b[0m       \u001b[0;32mreturn\u001b[0m \u001b[0m_result\u001b[0m\u001b[0;34m\u001b[0m\u001b[0;34m\u001b[0m\u001b[0m\n",
      "\u001b[0;31mKeyboardInterrupt\u001b[0m: "
     ]
    }
   ],
   "source": [
    "model = build_mlp_model()\n",
    "\n",
    "\n",
    "es = EarlyStopping(patience=20, restore_best_weights=True)\n",
    "lr_scheduler = ReduceLROnPlateau(factor=0.5, patience=5, verbose=1, min_lr=1e-6)\n",
    "\n",
    "with tf.device('/GPU:0'):\n",
    "  history = model.fit(\n",
    "          X_train_preproc, y_train_cat,\n",
    "          validation_split=0.2,\n",
    "          batch_size=156,\n",
    "          epochs=500,\n",
    "          callbacks=[es, lr_scheduler],\n",
    "          verbose=1)\n",
    "\n",
    "model.save(os.path.join(data_path,'pred_montant_model_RBE_Colab_bs156_bins100_lre-3.keras'))"
   ]
  },
  {
   "cell_type": "code",
   "execution_count": 34,
   "id": "53b9c6fb",
   "metadata": {
    "colab": {
     "base_uri": "https://localhost:8080/",
     "height": 506
    },
    "executionInfo": {
     "elapsed": 800,
     "status": "ok",
     "timestamp": 1749630046055,
     "user": {
      "displayName": "Ronan Bernard",
      "userId": "06444945164246045363"
     },
     "user_tz": -120
    },
    "id": "53b9c6fb",
    "outputId": "bf2da544-70d6-45a9-d9b4-b79ab1a2cd7b"
   },
   "outputs": [
    {
     "data": {
      "image/png": "[encoded data removed]",
      "text/plain": [
       "<Figure size 1200x500 with 2 Axes>"
      ]
     },
     "metadata": {},
     "output_type": "display_data"
    }
   ],
   "source": [
    "# Récupération des données d'entraînement et validation\n",
    "acc = history.history['accuracy']\n",
    "val_acc = history.history['val_accuracy']\n",
    "loss = history.history['loss']\n",
    "val_loss = history.history['val_loss']\n",
    "\n",
    "# Création de la figure\n",
    "plt.figure(figsize=(12, 5))\n",
    "\n",
    "# Plot de l'accuracy\n",
    "plt.subplot(1, 2, 1)\n",
    "plt.plot(acc, label='Accuracy')\n",
    "plt.plot(val_acc, label='Val Accuracy')\n",
    "plt.xlabel('Epochs')\n",
    "plt.ylabel('Accuracy')\n",
    "plt.title('Training and Validation Accuracy')\n",
    "plt.legend()\n",
    "\n",
    "# Plot de la loss\n",
    "plt.subplot(1, 2, 2)\n",
    "plt.plot(loss, label='Loss')\n",
    "plt.plot(val_loss, label='Val Loss')\n",
    "plt.xlabel('Epochs')\n",
    "plt.ylabel('Loss')\n",
    "plt.title('Training and Validation Loss')\n",
    "plt.legend()\n",
    "\n",
    "# Affichage\n",
    "plt.tight_layout()\n",
    "plt.show()"
   ]
  },
  {
   "cell_type": "code",
   "execution_count": 40,
   "id": "KO9Hi9jaMVab",
   "metadata": {
    "colab": {
     "base_uri": "https://localhost:8080/",
     "height": 35
    },
    "executionInfo": {
     "elapsed": 14,
     "status": "ok",
     "timestamp": 1749631983690,
     "user": {
      "displayName": "Ronan Bernard",
      "userId": "06444945164246045363"
     },
     "user_tz": -120
    },
    "id": "KO9Hi9jaMVab",
    "outputId": "1cffa450-17b3-4a38-aba8-ee85d158b2f6"
   },
   "outputs": [
    {
     "data": {
      "application/vnd.google.colaboratory.intrinsic+json": {
       "type": "string"
      },
      "text/plain": [
       "'/content/drive/MyDrive/Colab_Notebooks/decp_ml/data'"
      ]
     },
     "execution_count": 40,
     "metadata": {},
     "output_type": "execute_result"
    }
   ],
   "source": [
    "data_path"
   ]
  },
  {
   "cell_type": "code",
   "execution_count": 41,
   "id": "dc8419db",
   "metadata": {
    "colab": {
     "base_uri": "https://localhost:8080/",
     "height": 524
    },
    "executionInfo": {
     "elapsed": 336,
     "status": "ok",
     "timestamp": 1749631999310,
     "user": {
      "displayName": "Ronan Bernard",
      "userId": "06444945164246045363"
     },
     "user_tz": -120
    },
    "id": "dc8419db",
    "outputId": "f449cd49-0b84-4972-98d1-704ef9c66445"
   },
   "outputs": [
    {
     "data": {
      "text/html": [
       "<pre style=\"white-space:pre;overflow-x:auto;line-height:normal;font-family:Menlo,'DejaVu Sans Mono',consolas,'Courier New',monospace\"><span style=\"font-weight: bold\">Model: \"sequential_2\"</span>\n",
       "</pre>\n"
      ],
      "text/plain": [
       "\u001b[1mModel: \"sequential_2\"\u001b[0m\n"
      ]
     },
     "metadata": {},
     "output_type": "display_data"
    },
    {
     "data": {
      "text/html": [
       "<pre style=\"white-space:pre;overflow-x:auto;line-height:normal;font-family:Menlo,'DejaVu Sans Mono',consolas,'Courier New',monospace\">┏━━━━━━━━━━━━━━━━━━━━━━━━━━━━━━━━━┳━━━━━━━━━━━━━━━━━━━━━━━━┳━━━━━━━━━━━━━━━┓\n",
       "┃<span style=\"font-weight: bold\"> Layer (type)                    </span>┃<span style=\"font-weight: bold\"> Output Shape           </span>┃<span style=\"font-weight: bold\">       Param # </span>┃\n",
       "┡━━━━━━━━━━━━━━━━━━━━━━━━━━━━━━━━━╇━━━━━━━━━━━━━━━━━━━━━━━━╇━━━━━━━━━━━━━━━┩\n",
       "│ dense_8 (<span style=\"color: #0087ff; text-decoration-color: #0087ff\">Dense</span>)                 │ (<span style=\"color: #00d7ff; text-decoration-color: #00d7ff\">None</span>, <span style=\"color: #00af00; text-decoration-color: #00af00\">1028</span>)           │       <span style=\"color: #00af00; text-decoration-color: #00af00\">227,188</span> │\n",
       "├─────────────────────────────────┼────────────────────────┼───────────────┤\n",
       "│ batch_normalization_6           │ (<span style=\"color: #00d7ff; text-decoration-color: #00d7ff\">None</span>, <span style=\"color: #00af00; text-decoration-color: #00af00\">1028</span>)           │         <span style=\"color: #00af00; text-decoration-color: #00af00\">4,112</span> │\n",
       "│ (<span style=\"color: #0087ff; text-decoration-color: #0087ff\">BatchNormalization</span>)            │                        │               │\n",
       "├─────────────────────────────────┼────────────────────────┼───────────────┤\n",
       "│ dropout_6 (<span style=\"color: #0087ff; text-decoration-color: #0087ff\">Dropout</span>)             │ (<span style=\"color: #00d7ff; text-decoration-color: #00d7ff\">None</span>, <span style=\"color: #00af00; text-decoration-color: #00af00\">1028</span>)           │             <span style=\"color: #00af00; text-decoration-color: #00af00\">0</span> │\n",
       "├─────────────────────────────────┼────────────────────────┼───────────────┤\n",
       "│ dense_9 (<span style=\"color: #0087ff; text-decoration-color: #0087ff\">Dense</span>)                 │ (<span style=\"color: #00d7ff; text-decoration-color: #00d7ff\">None</span>, <span style=\"color: #00af00; text-decoration-color: #00af00\">512</span>)            │       <span style=\"color: #00af00; text-decoration-color: #00af00\">526,848</span> │\n",
       "├─────────────────────────────────┼────────────────────────┼───────────────┤\n",
       "│ batch_normalization_7           │ (<span style=\"color: #00d7ff; text-decoration-color: #00d7ff\">None</span>, <span style=\"color: #00af00; text-decoration-color: #00af00\">512</span>)            │         <span style=\"color: #00af00; text-decoration-color: #00af00\">2,048</span> │\n",
       "│ (<span style=\"color: #0087ff; text-decoration-color: #0087ff\">BatchNormalization</span>)            │                        │               │\n",
       "├─────────────────────────────────┼────────────────────────┼───────────────┤\n",
       "│ dropout_7 (<span style=\"color: #0087ff; text-decoration-color: #0087ff\">Dropout</span>)             │ (<span style=\"color: #00d7ff; text-decoration-color: #00d7ff\">None</span>, <span style=\"color: #00af00; text-decoration-color: #00af00\">512</span>)            │             <span style=\"color: #00af00; text-decoration-color: #00af00\">0</span> │\n",
       "├─────────────────────────────────┼────────────────────────┼───────────────┤\n",
       "│ dense_10 (<span style=\"color: #0087ff; text-decoration-color: #0087ff\">Dense</span>)                │ (<span style=\"color: #00d7ff; text-decoration-color: #00d7ff\">None</span>, <span style=\"color: #00af00; text-decoration-color: #00af00\">256</span>)            │       <span style=\"color: #00af00; text-decoration-color: #00af00\">131,328</span> │\n",
       "├─────────────────────────────────┼────────────────────────┼───────────────┤\n",
       "│ batch_normalization_8           │ (<span style=\"color: #00d7ff; text-decoration-color: #00d7ff\">None</span>, <span style=\"color: #00af00; text-decoration-color: #00af00\">256</span>)            │         <span style=\"color: #00af00; text-decoration-color: #00af00\">1,024</span> │\n",
       "│ (<span style=\"color: #0087ff; text-decoration-color: #0087ff\">BatchNormalization</span>)            │                        │               │\n",
       "├─────────────────────────────────┼────────────────────────┼───────────────┤\n",
       "│ dropout_8 (<span style=\"color: #0087ff; text-decoration-color: #0087ff\">Dropout</span>)             │ (<span style=\"color: #00d7ff; text-decoration-color: #00d7ff\">None</span>, <span style=\"color: #00af00; text-decoration-color: #00af00\">256</span>)            │             <span style=\"color: #00af00; text-decoration-color: #00af00\">0</span> │\n",
       "├─────────────────────────────────┼────────────────────────┼───────────────┤\n",
       "│ dense_11 (<span style=\"color: #0087ff; text-decoration-color: #0087ff\">Dense</span>)                │ (<span style=\"color: #00d7ff; text-decoration-color: #00d7ff\">None</span>, <span style=\"color: #00af00; text-decoration-color: #00af00\">100</span>)            │        <span style=\"color: #00af00; text-decoration-color: #00af00\">25,700</span> │\n",
       "└─────────────────────────────────┴────────────────────────┴───────────────┘\n",
       "</pre>\n"
      ],
      "text/plain": [
       "┏━━━━━━━━━━━━━━━━━━━━━━━━━━━━━━━━━┳━━━━━━━━━━━━━━━━━━━━━━━━┳━━━━━━━━━━━━━━━┓\n",
       "┃\u001b[1m \u001b[0m\u001b[1mLayer (type)                   \u001b[0m\u001b[1m \u001b[0m┃\u001b[1m \u001b[0m\u001b[1mOutput Shape          \u001b[0m\u001b[1m \u001b[0m┃\u001b[1m \u001b[0m\u001b[1m      Param #\u001b[0m\u001b[1m \u001b[0m┃\n",
       "┡━━━━━━━━━━━━━━━━━━━━━━━━━━━━━━━━━╇━━━━━━━━━━━━━━━━━━━━━━━━╇━━━━━━━━━━━━━━━┩\n",
       "│ dense_8 (\u001b[38;5;33mDense\u001b[0m)                 │ (\u001b[38;5;45mNone\u001b[0m, \u001b[38;5;34m1028\u001b[0m)           │       \u001b[38;5;34m227,188\u001b[0m │\n",
       "├─────────────────────────────────┼────────────────────────┼───────────────┤\n",
       "│ batch_normalization_6           │ (\u001b[38;5;45mNone\u001b[0m, \u001b[38;5;34m1028\u001b[0m)           │         \u001b[38;5;34m4,112\u001b[0m │\n",
       "│ (\u001b[38;5;33mBatchNormalization\u001b[0m)            │                        │               │\n",
       "├─────────────────────────────────┼────────────────────────┼───────────────┤\n",
       "│ dropout_6 (\u001b[38;5;33mDropout\u001b[0m)             │ (\u001b[38;5;45mNone\u001b[0m, \u001b[38;5;34m1028\u001b[0m)           │             \u001b[38;5;34m0\u001b[0m │\n",
       "├─────────────────────────────────┼────────────────────────┼───────────────┤\n",
       "│ dense_9 (\u001b[38;5;33mDense\u001b[0m)                 │ (\u001b[38;5;45mNone\u001b[0m, \u001b[38;5;34m512\u001b[0m)            │       \u001b[38;5;34m526,848\u001b[0m │\n",
       "├─────────────────────────────────┼────────────────────────┼───────────────┤\n",
       "│ batch_normalization_7           │ (\u001b[38;5;45mNone\u001b[0m, \u001b[38;5;34m512\u001b[0m)            │         \u001b[38;5;34m2,048\u001b[0m │\n",
       "│ (\u001b[38;5;33mBatchNormalization\u001b[0m)            │                        │               │\n",
       "├─────────────────────────────────┼────────────────────────┼───────────────┤\n",
       "│ dropout_7 (\u001b[38;5;33mDropout\u001b[0m)             │ (\u001b[38;5;45mNone\u001b[0m, \u001b[38;5;34m512\u001b[0m)            │             \u001b[38;5;34m0\u001b[0m │\n",
       "├─────────────────────────────────┼────────────────────────┼───────────────┤\n",
       "│ dense_10 (\u001b[38;5;33mDense\u001b[0m)                │ (\u001b[38;5;45mNone\u001b[0m, \u001b[38;5;34m256\u001b[0m)            │       \u001b[38;5;34m131,328\u001b[0m │\n",
       "├─────────────────────────────────┼────────────────────────┼───────────────┤\n",
       "│ batch_normalization_8           │ (\u001b[38;5;45mNone\u001b[0m, \u001b[38;5;34m256\u001b[0m)            │         \u001b[38;5;34m1,024\u001b[0m │\n",
       "│ (\u001b[38;5;33mBatchNormalization\u001b[0m)            │                        │               │\n",
       "├─────────────────────────────────┼────────────────────────┼───────────────┤\n",
       "│ dropout_8 (\u001b[38;5;33mDropout\u001b[0m)             │ (\u001b[38;5;45mNone\u001b[0m, \u001b[38;5;34m256\u001b[0m)            │             \u001b[38;5;34m0\u001b[0m │\n",
       "├─────────────────────────────────┼────────────────────────┼───────────────┤\n",
       "│ dense_11 (\u001b[38;5;33mDense\u001b[0m)                │ (\u001b[38;5;45mNone\u001b[0m, \u001b[38;5;34m100\u001b[0m)            │        \u001b[38;5;34m25,700\u001b[0m │\n",
       "└─────────────────────────────────┴────────────────────────┴───────────────┘\n"
      ]
     },
     "metadata": {},
     "output_type": "display_data"
    },
    {
     "data": {
      "text/html": [
       "<pre style=\"white-space:pre;overflow-x:auto;line-height:normal;font-family:Menlo,'DejaVu Sans Mono',consolas,'Courier New',monospace\"><span style=\"font-weight: bold\"> Total params: </span><span style=\"color: #00af00; text-decoration-color: #00af00\">2,747,562</span> (10.48 MB)\n",
       "</pre>\n"
      ],
      "text/plain": [
       "\u001b[1m Total params: \u001b[0m\u001b[38;5;34m2,747,562\u001b[0m (10.48 MB)\n"
      ]
     },
     "metadata": {},
     "output_type": "display_data"
    },
    {
     "data": {
      "text/html": [
       "<pre style=\"white-space:pre;overflow-x:auto;line-height:normal;font-family:Menlo,'DejaVu Sans Mono',consolas,'Courier New',monospace\"><span style=\"font-weight: bold\"> Trainable params: </span><span style=\"color: #00af00; text-decoration-color: #00af00\">914,656</span> (3.49 MB)\n",
       "</pre>\n"
      ],
      "text/plain": [
       "\u001b[1m Trainable params: \u001b[0m\u001b[38;5;34m914,656\u001b[0m (3.49 MB)\n"
      ]
     },
     "metadata": {},
     "output_type": "display_data"
    },
    {
     "data": {
      "text/html": [
       "<pre style=\"white-space:pre;overflow-x:auto;line-height:normal;font-family:Menlo,'DejaVu Sans Mono',consolas,'Courier New',monospace\"><span style=\"font-weight: bold\"> Non-trainable params: </span><span style=\"color: #00af00; text-decoration-color: #00af00\">3,592</span> (14.03 KB)\n",
       "</pre>\n"
      ],
      "text/plain": [
       "\u001b[1m Non-trainable params: \u001b[0m\u001b[38;5;34m3,592\u001b[0m (14.03 KB)\n"
      ]
     },
     "metadata": {},
     "output_type": "display_data"
    },
    {
     "data": {
      "text/html": [
       "<pre style=\"white-space:pre;overflow-x:auto;line-height:normal;font-family:Menlo,'DejaVu Sans Mono',consolas,'Courier New',monospace\"><span style=\"font-weight: bold\"> Optimizer params: </span><span style=\"color: #00af00; text-decoration-color: #00af00\">1,829,314</span> (6.98 MB)\n",
       "</pre>\n"
      ],
      "text/plain": [
       "\u001b[1m Optimizer params: \u001b[0m\u001b[38;5;34m1,829,314\u001b[0m (6.98 MB)\n"
      ]
     },
     "metadata": {},
     "output_type": "display_data"
    }
   ],
   "source": [
    "from tensorflow import keras\n",
    "\n",
    "model_name = 'pred_montant_model_RBE_Colab_bs156_bins100.keras'\n",
    "\n",
    "model = keras.models.load_model(os.path.join(data_path,model_name))  # or 'my_model' if it's a directory\n",
    "\n",
    "model.summary()"
   ]
  },
  {
   "cell_type": "code",
   "execution_count": 43,
   "id": "ckG4gxajMZrM",
   "metadata": {
    "colab": {
     "base_uri": "https://localhost:8080/"
    },
    "executionInfo": {
     "elapsed": 10690,
     "status": "ok",
     "timestamp": 1749632225903,
     "user": {
      "displayName": "Ronan Bernard",
      "userId": "06444945164246045363"
     },
     "user_tz": -120
    },
    "id": "ckG4gxajMZrM",
    "outputId": "8994d5de-d317-4603-e845-8e2bfb86c7b8"
   },
   "outputs": [
    {
     "name": "stderr",
     "output_type": "stream",
     "text": [
      "/usr/local/lib/python3.11/dist-packages/sklearn/pipeline.py:62: FutureWarning: This Pipeline instance is not fitted yet. Call 'fit' with appropriate arguments before using other methods such as transform, predict, etc. This will raise an error in 1.8 instead of the current warning.\n",
      "  warnings.warn(\n"
     ]
    },
    {
     "name": "stdout",
     "output_type": "stream",
     "text": [
      "\u001b[1m1489/1489\u001b[0m \u001b[32m━━━━━━━━━━━━━━━━━━━━\u001b[0m\u001b[37m\u001b[0m \u001b[1m4s\u001b[0m 3ms/step - accuracy: 0.1818 - loss: 3.9172\n"
     ]
    },
    {
     "data": {
      "text/plain": [
       "[3.9230551719665527, 0.18115592002868652]"
      ]
     },
     "execution_count": 43,
     "metadata": {},
     "output_type": "execute_result"
    }
   ],
   "source": [
    "X_train_preproc = pipeline.fit_transform(X_train)\n",
    "\n",
    "X_test_preproc = pipeline.transform(X_test)\n",
    "y_test_cat = to_categorical(y_test)\n",
    "\n",
    "model.evaluate(X_test_preproc, y_test_cat, verbose=1)"
   ]
  },
  {
   "cell_type": "code",
   "execution_count": 44,
   "id": "3rNcElwTNGqp",
   "metadata": {
    "colab": {
     "base_uri": "https://localhost:8080/"
    },
    "executionInfo": {
     "elapsed": 4056,
     "status": "ok",
     "timestamp": 1749632245306,
     "user": {
      "displayName": "Ronan Bernard",
      "userId": "06444945164246045363"
     },
     "user_tz": -120
    },
    "id": "3rNcElwTNGqp",
    "outputId": "5d565867-5543-477c-eddb-c3a416d568c6"
   },
   "outputs": [
    {
     "name": "stdout",
     "output_type": "stream",
     "text": [
      "\u001b[1m1489/1489\u001b[0m \u001b[32m━━━━━━━━━━━━━━━━━━━━\u001b[0m\u001b[37m\u001b[0m \u001b[1m3s\u001b[0m 2ms/step\n"
     ]
    },
    {
     "data": {
      "text/plain": [
       "array([[2.1832755e-05, 3.0042390e-06, 8.9154455e-06, ..., 3.0296431e-03,\n",
       "        9.0538757e-03, 4.7328588e-04],\n",
       "       [9.0368048e-05, 2.6370553e-05, 3.3623546e-05, ..., 2.1412321e-03,\n",
       "        2.2316523e-04, 1.3333071e-03],\n",
       "       [8.5402973e-04, 1.7775276e-03, 3.8994052e-03, ..., 2.2428498e-05,\n",
       "        3.1185738e-04, 3.1339921e-05],\n",
       "       ...,\n",
       "       [6.1311796e-03, 1.4424389e-02, 1.3480749e-02, ..., 8.5266161e-04,\n",
       "        7.9444889e-03, 4.0405148e-04],\n",
       "       [1.2899163e-02, 2.3950213e-03, 2.9241659e-03, ..., 1.7801715e-03,\n",
       "        4.3926924e-03, 1.1887633e-03],\n",
       "       [7.5692160e-04, 3.8798241e-04, 2.3193441e-04, ..., 5.9067486e-03,\n",
       "        4.4966540e-03, 9.6434290e-03]], dtype=float32)"
      ]
     },
     "execution_count": 44,
     "metadata": {},
     "output_type": "execute_result"
    }
   ],
   "source": [
    "model.predict(X_test_preproc)"
   ]
  },
  {
   "cell_type": "code",
   "execution_count": null,
   "id": "3LRMiuZQNU0p",
   "metadata": {
    "id": "3LRMiuZQNU0p"
   },
   "outputs": [],
   "source": []
  }
 ],
 "metadata": {
  "accelerator": "GPU",
  "colab": {
   "gpuType": "T4",
   "provenance": []
  },
  "kernelspec": {
   "display_name": "decp_ml_env",
   "language": "python",
   "name": "python3"
  },
  "language_info": {
   "codemirror_mode": {
    "name": "ipython",
    "version": 3
   },
   "file_extension": ".py",
   "mimetype": "text/x-python",
   "name": "python",
   "nbconvert_exporter": "python",
   "pygments_lexer": "ipython3",
   "version": "3.10.6"
  }
 },
 "nbformat": 4,
 "nbformat_minor": 5
}
