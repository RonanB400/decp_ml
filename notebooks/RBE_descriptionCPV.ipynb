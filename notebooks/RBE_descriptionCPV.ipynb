{
 "cells": [
  {
   "cell_type": "code",
   "execution_count": null,
   "metadata": {},
   "outputs": [],
   "source": [
    "import pandas as pd\n",
    "import numpy as np\n",
    "import os\n",
    "import sqlite3"
   ]
  },
  {
   "cell_type": "code",
   "execution_count": 2,
   "metadata": {},
   "outputs": [
    {
     "data": {
      "text/plain": [
       "'/home/ronan/code/RonanB400/Project/decp_ml/data/datalab.sqlite'"
      ]
     },
     "execution_count": 2,
     "metadata": {},
     "output_type": "execute_result"
    }
   ],
   "source": [
    "db_path = os.path.join(os.path.dirname(os.getcwd()), 'data', 'datalab.sqlite')\n",
    "db_path"
   ]
  },
  {
   "cell_type": "code",
   "execution_count": 3,
   "metadata": {},
   "outputs": [
    {
     "name": "stdout",
     "output_type": "stream",
     "text": [
      "<class 'pandas.core.frame.DataFrame'>\n",
      "RangeIndex: 299670 entries, 0 to 299669\n",
      "Data columns (total 31 columns):\n",
      " #   Column                     Non-Null Count   Dtype  \n",
      "---  ------                     --------------   -----  \n",
      " 0   uid                        299670 non-null  object \n",
      " 1   id                         299670 non-null  object \n",
      " 2   nature                     299670 non-null  object \n",
      " 3   acheteur_id                299670 non-null  object \n",
      " 4   acheteur_nom               299477 non-null  object \n",
      " 5   acheteur_siren             299500 non-null  object \n",
      " 6   titulaire_id               299670 non-null  object \n",
      " 7   titulaire_typeIdentifiant  299670 non-null  object \n",
      " 8   titulaire_nom              292097 non-null  object \n",
      " 9   titulaire_siren            298537 non-null  object \n",
      " 10  objet                      299670 non-null  object \n",
      " 11  montant                    299670 non-null  float64\n",
      " 12  codeCPV                    299670 non-null  object \n",
      " 13  procedure                  299670 non-null  object \n",
      " 14  dureeMois                  299663 non-null  float64\n",
      " 15  dateNotification           299670 non-null  object \n",
      " 16  datePublicationDonnees     299668 non-null  object \n",
      " 17  formePrix                  299670 non-null  object \n",
      " 18  attributionAvance          125791 non-null  float64\n",
      " 19  offresRecues               198227 non-null  float64\n",
      " 20  marcheInnovant             123320 non-null  float64\n",
      " 21  ccag                       299670 non-null  object \n",
      " 22  sousTraitanceDeclaree      155111 non-null  float64\n",
      " 23  typeGroupementOperateurs   299670 non-null  object \n",
      " 24  tauxAvance                 170113 non-null  float64\n",
      " 25  origineUE                  169189 non-null  float64\n",
      " 26  origineFrance              169190 non-null  float64\n",
      " 27  lieuExecution_code         299670 non-null  object \n",
      " 28  lieuExecution_typeCode     299670 non-null  object \n",
      " 29  idAccordCadre              65564 non-null   object \n",
      " 30  source_open_data           299670 non-null  object \n",
      "dtypes: float64(9), object(22)\n",
      "memory usage: 70.9+ MB\n"
     ]
    }
   ],
   "source": [
    "conn = sqlite3.connect(db_path)\n",
    "db = conn.cursor()\n",
    "query = f\"\"\"\n",
    "SELECT *\n",
    "FROM \"data.gouv.fr.2022.clean\"\n",
    "\"\"\"\n",
    "\n",
    "data_raw = pd.read_sql_query(query, conn)\n",
    "data_raw.info()"
   ]
  },
  {
   "cell_type": "code",
   "execution_count": 26,
   "metadata": {},
   "outputs": [
    {
     "data": {
      "text/plain": [
       "'/home/ronan/code/RonanB400/Project/decp_ml/data/cpv_2008_ver_2013_FR.csv'"
      ]
     },
     "execution_count": 26,
     "metadata": {},
     "output_type": "execute_result"
    }
   ],
   "source": [
    "cpv_path = os.path.join(os.path.dirname(os.getcwd()), 'data', 'cpv_2008_ver_2013_FR.csv')\n",
    "df_cpv = pd.read_csv(cpv_path)"
   ]
  },
  {
   "cell_type": "code",
   "execution_count": 29,
   "metadata": {},
   "outputs": [
    {
     "data": {
      "text/html": [
       "<div>\n",
       "<style scoped>\n",
       "    .dataframe tbody tr th:only-of-type {\n",
       "        vertical-align: middle;\n",
       "    }\n",
       "\n",
       "    .dataframe tbody tr th {\n",
       "        vertical-align: top;\n",
       "    }\n",
       "\n",
       "    .dataframe thead th {\n",
       "        text-align: right;\n",
       "    }\n",
       "</style>\n",
       "<table border=\"1\" class=\"dataframe\">\n",
       "  <thead>\n",
       "    <tr style=\"text-align: right;\">\n",
       "      <th></th>\n",
       "      <th>codeCPV</th>\n",
       "      <th>codeCPV_FR</th>\n",
       "      <th>CODE</th>\n",
       "    </tr>\n",
       "  </thead>\n",
       "  <tbody>\n",
       "    <tr>\n",
       "      <th>0</th>\n",
       "      <td>45210000-2</td>\n",
       "      <td>Travaux de construction de bâtiments</td>\n",
       "      <td>45210000-2</td>\n",
       "    </tr>\n",
       "    <tr>\n",
       "      <th>1</th>\n",
       "      <td>45261000-4</td>\n",
       "      <td>Travaux de charpente et de couverture et trava...</td>\n",
       "      <td>45261000-4</td>\n",
       "    </tr>\n",
       "    <tr>\n",
       "      <th>2</th>\n",
       "      <td>72514200-3</td>\n",
       "      <td>Services de gestion d'installations pour le dé...</td>\n",
       "      <td>72514200-3</td>\n",
       "    </tr>\n",
       "    <tr>\n",
       "      <th>3</th>\n",
       "      <td>71300000</td>\n",
       "      <td>NaN</td>\n",
       "      <td>NaN</td>\n",
       "    </tr>\n",
       "    <tr>\n",
       "      <th>4</th>\n",
       "      <td>44316500-3</td>\n",
       "      <td>Serrurerie</td>\n",
       "      <td>44316500-3</td>\n",
       "    </tr>\n",
       "    <tr>\n",
       "      <th>5</th>\n",
       "      <td>45261000-4</td>\n",
       "      <td>Travaux de charpente et de couverture et trava...</td>\n",
       "      <td>45261000-4</td>\n",
       "    </tr>\n",
       "    <tr>\n",
       "      <th>6</th>\n",
       "      <td>45212212</td>\n",
       "      <td>NaN</td>\n",
       "      <td>NaN</td>\n",
       "    </tr>\n",
       "    <tr>\n",
       "      <th>7</th>\n",
       "      <td>09310000-5</td>\n",
       "      <td>Électricité</td>\n",
       "      <td>09310000-5</td>\n",
       "    </tr>\n",
       "    <tr>\n",
       "      <th>8</th>\n",
       "      <td>45233142-6</td>\n",
       "      <td>Travaux de réparation de routes</td>\n",
       "      <td>45233142-6</td>\n",
       "    </tr>\n",
       "    <tr>\n",
       "      <th>9</th>\n",
       "      <td>33696500-0</td>\n",
       "      <td>Réactifs de laboratoire</td>\n",
       "      <td>33696500-0</td>\n",
       "    </tr>\n",
       "  </tbody>\n",
       "</table>\n",
       "</div>"
      ],
      "text/plain": [
       "      codeCPV                                         codeCPV_FR        CODE\n",
       "0  45210000-2               Travaux de construction de bâtiments  45210000-2\n",
       "1  45261000-4  Travaux de charpente et de couverture et trava...  45261000-4\n",
       "2  72514200-3  Services de gestion d'installations pour le dé...  72514200-3\n",
       "3    71300000                                                NaN         NaN\n",
       "4  44316500-3                                         Serrurerie  44316500-3\n",
       "5  45261000-4  Travaux de charpente et de couverture et trava...  45261000-4\n",
       "6    45212212                                                NaN         NaN\n",
       "7  09310000-5                                        Électricité  09310000-5\n",
       "8  45233142-6                    Travaux de réparation de routes  45233142-6\n",
       "9  33696500-0                            Réactifs de laboratoire  33696500-0"
      ]
     },
     "execution_count": 29,
     "metadata": {},
     "output_type": "execute_result"
    }
   ],
   "source": [
    "data_cpv = pd.merge(data_raw, df_cpv, left_on='codeCPV', right_on='CODE', how='left')\n",
    "data_cpv.rename(columns={'FR': 'codeCPV_FR'}, inplace=True)\n",
    "data_cpv[['codeCPV', 'codeCPV_FR', 'CODE']].head(10)"
   ]
  },
  {
   "cell_type": "code",
   "execution_count": 30,
   "metadata": {},
   "outputs": [
    {
     "data": {
      "text/plain": [
       "77370"
      ]
     },
     "execution_count": 30,
     "metadata": {},
     "output_type": "execute_result"
    }
   ],
   "source": [
    "data_cpv['codeCPV_FR'].isna().sum()"
   ]
  },
  {
   "cell_type": "code",
   "execution_count": 59,
   "metadata": {},
   "outputs": [
    {
     "data": {
      "text/html": [
       "<div>\n",
       "<style scoped>\n",
       "    .dataframe tbody tr th:only-of-type {\n",
       "        vertical-align: middle;\n",
       "    }\n",
       "\n",
       "    .dataframe tbody tr th {\n",
       "        vertical-align: top;\n",
       "    }\n",
       "\n",
       "    .dataframe thead th {\n",
       "        text-align: right;\n",
       "    }\n",
       "</style>\n",
       "<table border=\"1\" class=\"dataframe\">\n",
       "  <thead>\n",
       "    <tr style=\"text-align: right;\">\n",
       "      <th></th>\n",
       "      <th>codeCPV</th>\n",
       "    </tr>\n",
       "  </thead>\n",
       "  <tbody>\n",
       "    <tr>\n",
       "      <th>0</th>\n",
       "      <td>71300000</td>\n",
       "    </tr>\n",
       "    <tr>\n",
       "      <th>1</th>\n",
       "      <td>45212212</td>\n",
       "    </tr>\n",
       "    <tr>\n",
       "      <th>2</th>\n",
       "      <td>15897300</td>\n",
       "    </tr>\n",
       "    <tr>\n",
       "      <th>3</th>\n",
       "      <td>79416200</td>\n",
       "    </tr>\n",
       "    <tr>\n",
       "      <th>4</th>\n",
       "      <td>45211350</td>\n",
       "    </tr>\n",
       "    <tr>\n",
       "      <th>5</th>\n",
       "      <td>45261000</td>\n",
       "    </tr>\n",
       "    <tr>\n",
       "      <th>6</th>\n",
       "      <td>39830000</td>\n",
       "    </tr>\n",
       "    <tr>\n",
       "      <th>7</th>\n",
       "      <td>71200000</td>\n",
       "    </tr>\n",
       "    <tr>\n",
       "      <th>8</th>\n",
       "      <td>16311100</td>\n",
       "    </tr>\n",
       "    <tr>\n",
       "      <th>9</th>\n",
       "      <td>90480000</td>\n",
       "    </tr>\n",
       "  </tbody>\n",
       "</table>\n",
       "</div>"
      ],
      "text/plain": [
       "    codeCPV\n",
       "0  71300000\n",
       "1  45212212\n",
       "2  15897300\n",
       "3  79416200\n",
       "4  45211350\n",
       "5  45261000\n",
       "6  39830000\n",
       "7  71200000\n",
       "8  16311100\n",
       "9  90480000"
      ]
     },
     "execution_count": 59,
     "metadata": {},
     "output_type": "execute_result"
    }
   ],
   "source": [
    "missing_cpv = pd.DataFrame(data_cpv[data_cpv['codeCPV_FR'].isna() == True]['codeCPV'].unique())\n",
    "missing_cpv.columns = ['codeCPV']\n",
    "missing_cpv.head(10)"
   ]
  },
  {
   "cell_type": "code",
   "execution_count": 53,
   "metadata": {},
   "outputs": [
    {
     "data": {
      "text/plain": [
       "'71300000-1'"
      ]
     },
     "execution_count": 53,
     "metadata": {},
     "output_type": "execute_result"
    }
   ],
   "source": [
    "df_cpv[df_cpv['CODE'].str.startswith('71300000')]['CODE'].values[0]"
   ]
  },
  {
   "cell_type": "code",
   "execution_count": 54,
   "metadata": {},
   "outputs": [
    {
     "data": {
      "text/html": [
       "<div>\n",
       "<style scoped>\n",
       "    .dataframe tbody tr th:only-of-type {\n",
       "        vertical-align: middle;\n",
       "    }\n",
       "\n",
       "    .dataframe tbody tr th {\n",
       "        vertical-align: top;\n",
       "    }\n",
       "\n",
       "    .dataframe thead th {\n",
       "        text-align: right;\n",
       "    }\n",
       "</style>\n",
       "<table border=\"1\" class=\"dataframe\">\n",
       "  <thead>\n",
       "    <tr style=\"text-align: right;\">\n",
       "      <th></th>\n",
       "      <th>codeCPV</th>\n",
       "      <th>count_similar</th>\n",
       "      <th>new_CPV</th>\n",
       "    </tr>\n",
       "  </thead>\n",
       "  <tbody>\n",
       "    <tr>\n",
       "      <th>0</th>\n",
       "      <td>71300000</td>\n",
       "      <td>1</td>\n",
       "      <td>71300000-1</td>\n",
       "    </tr>\n",
       "    <tr>\n",
       "      <th>1</th>\n",
       "      <td>45212212</td>\n",
       "      <td>1</td>\n",
       "      <td>45212212-5</td>\n",
       "    </tr>\n",
       "    <tr>\n",
       "      <th>2</th>\n",
       "      <td>15897300</td>\n",
       "      <td>1</td>\n",
       "      <td>15897300-5</td>\n",
       "    </tr>\n",
       "    <tr>\n",
       "      <th>3</th>\n",
       "      <td>79416200</td>\n",
       "      <td>1</td>\n",
       "      <td>79416200-5</td>\n",
       "    </tr>\n",
       "    <tr>\n",
       "      <th>4</th>\n",
       "      <td>45211350</td>\n",
       "      <td>1</td>\n",
       "      <td>45211350-7</td>\n",
       "    </tr>\n",
       "  </tbody>\n",
       "</table>\n",
       "</div>"
      ],
      "text/plain": [
       "    codeCPV  count_similar     new_CPV\n",
       "0  71300000              1  71300000-1\n",
       "1  45212212              1  45212212-5\n",
       "2  15897300              1  15897300-5\n",
       "3  79416200              1  79416200-5\n",
       "4  45211350              1  45211350-7"
      ]
     },
     "execution_count": 54,
     "metadata": {},
     "output_type": "execute_result"
    }
   ],
   "source": [
    "missing_cpv.loc[:, 'count_similar'] = missing_cpv['codeCPV'].astype(str).apply(\n",
    "    lambda cpv: df_cpv['CODE'].str.startswith(cpv).sum()\n",
    ")\n",
    "\n",
    "missing_cpv.loc[:, 'new_CPV'] = missing_cpv['codeCPV'].astype(str).apply(\n",
    "    lambda cpv: df_cpv[df_cpv['CODE'].str.startswith(cpv)]['CODE'].values[0] if \n",
    "    df_cpv[df_cpv['CODE'].str.startswith(cpv)].shape[0] > 0 else None\n",
    ")\n",
    "\n",
    "missing_cpv.head()"
   ]
  },
  {
   "cell_type": "code",
   "execution_count": 50,
   "metadata": {},
   "outputs": [
    {
     "data": {
      "text/plain": [
       "count_similar\n",
       "1    2921\n",
       "0     622\n",
       "Name: count, dtype: int64"
      ]
     },
     "execution_count": 50,
     "metadata": {},
     "output_type": "execute_result"
    }
   ],
   "source": [
    "missing_cpv['count_similar'].value_counts()"
   ]
  },
  {
   "cell_type": "code",
   "execution_count": 57,
   "metadata": {},
   "outputs": [
    {
     "data": {
      "text/plain": [
       "12      20310000-2\n",
       "15      74224000-5\n",
       "16      07124000-2\n",
       "20      74200000-1\n",
       "28      29715000-4\n",
       "           ...    \n",
       "3516    45300000-9\n",
       "3522    74231410-4\n",
       "3525    45232411-0\n",
       "3535    33263200-3\n",
       "3542    66150000-8\n",
       "Name: codeCPV, Length: 622, dtype: object"
      ]
     },
     "execution_count": 57,
     "metadata": {},
     "output_type": "execute_result"
    }
   ],
   "source": [
    "no_cpv = missing_cpv[missing_cpv['count_similar'] == 0]['codeCPV']\n",
    "no_cpv"
   ]
  },
  {
   "cell_type": "code",
   "execution_count": 60,
   "metadata": {},
   "outputs": [
    {
     "data": {
      "text/html": [
       "<div>\n",
       "<style scoped>\n",
       "    .dataframe tbody tr th:only-of-type {\n",
       "        vertical-align: middle;\n",
       "    }\n",
       "\n",
       "    .dataframe tbody tr th {\n",
       "        vertical-align: top;\n",
       "    }\n",
       "\n",
       "    .dataframe thead th {\n",
       "        text-align: right;\n",
       "    }\n",
       "</style>\n",
       "<table border=\"1\" class=\"dataframe\">\n",
       "  <thead>\n",
       "    <tr style=\"text-align: right;\">\n",
       "      <th></th>\n",
       "      <th>codeCPV</th>\n",
       "      <th>codeCPV_FR</th>\n",
       "      <th>CODE</th>\n",
       "    </tr>\n",
       "  </thead>\n",
       "  <tbody>\n",
       "    <tr>\n",
       "      <th>46</th>\n",
       "      <td>20310000-2</td>\n",
       "      <td>NaN</td>\n",
       "      <td>NaN</td>\n",
       "    </tr>\n",
       "    <tr>\n",
       "      <th>52</th>\n",
       "      <td>74224000-5</td>\n",
       "      <td>NaN</td>\n",
       "      <td>NaN</td>\n",
       "    </tr>\n",
       "    <tr>\n",
       "      <th>57</th>\n",
       "      <td>07124000-2</td>\n",
       "      <td>NaN</td>\n",
       "      <td>NaN</td>\n",
       "    </tr>\n",
       "    <tr>\n",
       "      <th>70</th>\n",
       "      <td>74200000-1</td>\n",
       "      <td>NaN</td>\n",
       "      <td>NaN</td>\n",
       "    </tr>\n",
       "    <tr>\n",
       "      <th>101</th>\n",
       "      <td>29715000-4</td>\n",
       "      <td>NaN</td>\n",
       "      <td>NaN</td>\n",
       "    </tr>\n",
       "    <tr>\n",
       "      <th>...</th>\n",
       "      <td>...</td>\n",
       "      <td>...</td>\n",
       "      <td>...</td>\n",
       "    </tr>\n",
       "    <tr>\n",
       "      <th>299292</th>\n",
       "      <td>28812200-9</td>\n",
       "      <td>NaN</td>\n",
       "      <td>NaN</td>\n",
       "    </tr>\n",
       "    <tr>\n",
       "      <th>299414</th>\n",
       "      <td>74141520-0</td>\n",
       "      <td>NaN</td>\n",
       "      <td>NaN</td>\n",
       "    </tr>\n",
       "    <tr>\n",
       "      <th>299491</th>\n",
       "      <td>66150000-8</td>\n",
       "      <td>NaN</td>\n",
       "      <td>NaN</td>\n",
       "    </tr>\n",
       "    <tr>\n",
       "      <th>299515</th>\n",
       "      <td>74131500-1</td>\n",
       "      <td>NaN</td>\n",
       "      <td>NaN</td>\n",
       "    </tr>\n",
       "    <tr>\n",
       "      <th>299618</th>\n",
       "      <td>28815800-6</td>\n",
       "      <td>NaN</td>\n",
       "      <td>NaN</td>\n",
       "    </tr>\n",
       "  </tbody>\n",
       "</table>\n",
       "<p>3645 rows × 3 columns</p>\n",
       "</div>"
      ],
      "text/plain": [
       "           codeCPV codeCPV_FR CODE\n",
       "46      20310000-2        NaN  NaN\n",
       "52      74224000-5        NaN  NaN\n",
       "57      07124000-2        NaN  NaN\n",
       "70      74200000-1        NaN  NaN\n",
       "101     29715000-4        NaN  NaN\n",
       "...            ...        ...  ...\n",
       "299292  28812200-9        NaN  NaN\n",
       "299414  74141520-0        NaN  NaN\n",
       "299491  66150000-8        NaN  NaN\n",
       "299515  74131500-1        NaN  NaN\n",
       "299618  28815800-6        NaN  NaN\n",
       "\n",
       "[3645 rows x 3 columns]"
      ]
     },
     "execution_count": 60,
     "metadata": {},
     "output_type": "execute_result"
    }
   ],
   "source": [
    "data_cpv[data_cpv['codeCPV'].isin(no_cpv)][['codeCPV', 'codeCPV_FR', 'CODE']]"
   ]
  },
  {
   "cell_type": "code",
   "execution_count": null,
   "metadata": {},
   "outputs": [],
   "source": [
    "data_cpv = pd.merge(data_cpv, missing_cpv[['codeCPV', 'new_CPV']], left_on='codeCPV', right_on='codeCPV', how='left')\n"
   ]
  },
  {
   "cell_type": "code",
   "execution_count": null,
   "metadata": {},
   "outputs": [],
   "source": []
  }
 ],
 "metadata": {
  "kernelspec": {
   "display_name": "decp_ml_env",
   "language": "python",
   "name": "python3"
  },
  "language_info": {
   "codemirror_mode": {
    "name": "ipython",
    "version": 3
   },
   "file_extension": ".py",
   "mimetype": "text/x-python",
   "name": "python",
   "nbconvert_exporter": "python",
   "pygments_lexer": "ipython3",
   "version": "3.10.6"
  }
 },
 "nbformat": 4,
 "nbformat_minor": 2
}
