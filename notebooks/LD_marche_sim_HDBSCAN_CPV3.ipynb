{
 "cells": [
  {
   "cell_type": "code",
   "execution_count": 1,
   "id": "04895b75",
   "metadata": {},
   "outputs": [
    {
     "name": "stderr",
     "output_type": "stream",
     "text": [
      "/Users/loicdogon/.pyenv/versions/3.10.6/envs/decp_ml_env/lib/python3.10/site-packages/tqdm/auto.py:21: TqdmWarning: IProgress not found. Please update jupyter and ipywidgets. See https://ipywidgets.readthedocs.io/en/stable/user_install.html\n",
      "  from .autonotebook import tqdm as notebook_tqdm\n"
     ]
    }
   ],
   "source": [
    "import pandas as pd\n",
    "import numpy as np\n",
    "import matplotlib.pyplot as plt\n",
    "from sklearn.decomposition import PCA\n",
    "#from sklearn.preprocessing import StandardScaler\n",
    "from sklearn.model_selection import train_test_split\n",
    "from sklearn.mixture import GaussianMixture\n",
    "from umap import UMAP\n"
   ]
  },
  {
   "cell_type": "code",
   "execution_count": 2,
   "id": "bf1f0306",
   "metadata": {},
   "outputs": [],
   "source": [
    "from scripts.data_cleaner import filter_top_cpv_categories\n",
    "from scripts.preprocess_pipeline import create_pipeline_cat\n"
   ]
  },
  {
   "cell_type": "code",
   "execution_count": 3,
   "id": "a34d1a79",
   "metadata": {},
   "outputs": [],
   "source": [
    "data_path='../data/data_clean.csv'\n",
    "model_save_path='../data'\n",
    "top_n = 40\n",
    "cpv_column = 'codeCPV_3'"
   ]
  },
  {
   "cell_type": "code",
   "execution_count": 4,
   "id": "6bf8f71c",
   "metadata": {},
   "outputs": [],
   "source": [
    "df = pd.read_csv(data_path, encoding='utf-8')"
   ]
  },
  {
   "cell_type": "code",
   "execution_count": 5,
   "id": "0e24e195",
   "metadata": {},
   "outputs": [
    {
     "name": "stdout",
     "output_type": "stream",
     "text": [
      "Filtered from 392 to 40 CPV categories, keeping 232673 rows out of 286850\n"
     ]
    }
   ],
   "source": [
    "df_cpv = filter_top_cpv_categories(df, top_n=40, cpv_column=cpv_column)"
   ]
  },
  {
   "cell_type": "code",
   "execution_count": null,
   "id": "7f6ded0c",
   "metadata": {},
   "outputs": [],
   "source": []
  }
 ],
 "metadata": {
  "kernelspec": {
   "display_name": "decp_ml_env",
   "language": "python",
   "name": "python3"
  },
  "language_info": {
   "codemirror_mode": {
    "name": "ipython",
    "version": 3
   },
   "file_extension": ".py",
   "mimetype": "text/x-python",
   "name": "python",
   "nbconvert_exporter": "python",
   "pygments_lexer": "ipython3",
   "version": "3.10.6"
  }
 },
 "nbformat": 4,
 "nbformat_minor": 5
}
