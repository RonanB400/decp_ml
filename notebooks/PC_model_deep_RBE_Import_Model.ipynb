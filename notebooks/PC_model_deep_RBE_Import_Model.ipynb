{
 "cells": [
  {
   "cell_type": "code",
   "execution_count": 1,
   "id": "cc5601fe",
   "metadata": {
    "executionInfo": {
     "elapsed": 15,
     "status": "ok",
     "timestamp": 1749628974039,
     "user": {
      "displayName": "Ronan Bernard",
      "userId": "06444945164246045363"
     },
     "user_tz": -120
    },
    "id": "cc5601fe"
   },
   "outputs": [
    {
     "name": "stderr",
     "output_type": "stream",
     "text": [
      "2025-06-11 12:08:46.196296: I tensorflow/core/util/port.cc:153] oneDNN custom operations are on. You may see slightly different numerical results due to floating-point round-off errors from different computation orders. To turn them off, set the environment variable `TF_ENABLE_ONEDNN_OPTS=0`.\n",
      "2025-06-11 12:08:46.196940: I external/local_xla/xla/tsl/cuda/cudart_stub.cc:32] Could not find cuda drivers on your machine, GPU will not be used.\n",
      "2025-06-11 12:08:46.199638: I external/local_xla/xla/tsl/cuda/cudart_stub.cc:32] Could not find cuda drivers on your machine, GPU will not be used.\n",
      "2025-06-11 12:08:46.206983: E external/local_xla/xla/stream_executor/cuda/cuda_fft.cc:477] Unable to register cuFFT factory: Attempting to register factory for plugin cuFFT when one has already been registered\n",
      "WARNING: All log messages before absl::InitializeLog() is called are written to STDERR\n",
      "E0000 00:00:1749636526.219863   58336 cuda_dnn.cc:8310] Unable to register cuDNN factory: Attempting to register factory for plugin cuDNN when one has already been registered\n",
      "E0000 00:00:1749636526.222812   58336 cuda_blas.cc:1418] Unable to register cuBLAS factory: Attempting to register factory for plugin cuBLAS when one has already been registered\n",
      "2025-06-11 12:08:46.235763: I tensorflow/core/platform/cpu_feature_guard.cc:210] This TensorFlow binary is optimized to use available CPU instructions in performance-critical operations.\n",
      "To enable the following instructions: AVX2 AVX_VNNI FMA, in other operations, rebuild TensorFlow with the appropriate compiler flags.\n"
     ]
    }
   ],
   "source": [
    "import os\n",
    "import sys\n",
    "import pandas as pd\n",
    "import numpy as np\n",
    "import matplotlib.pyplot as plt\n",
    "\n",
    "from sklearn.model_selection import train_test_split\n",
    "\n",
    "from keras import Sequential, layers, Input, regularizers\n",
    "from keras.callbacks import EarlyStopping, ReduceLROnPlateau\n",
    "from keras.utils import to_categorical\n",
    "from tensorflow import keras\n",
    "\n",
    "from scripts.data_cleaner import filter_top_cpv_categories\n",
    "from scripts.preprocess_pipeline import create_pipeline\n"
   ]
  },
  {
   "cell_type": "code",
   "execution_count": 2,
   "id": "V8odnI-hh8ru",
   "metadata": {
    "colab": {
     "base_uri": "https://localhost:8080/"
    },
    "executionInfo": {
     "elapsed": 3258,
     "status": "ok",
     "timestamp": 1749628977446,
     "user": {
      "displayName": "Ronan Bernard",
      "userId": "06444945164246045363"
     },
     "user_tz": -120
    },
    "id": "V8odnI-hh8ru",
    "outputId": "559b7300-a614-4d5f-e14b-61189cf75f87"
   },
   "outputs": [
    {
     "name": "stderr",
     "output_type": "stream",
     "text": [
      "/tmp/ipykernel_58336/1184559175.py:8: DtypeWarning: Columns (38) have mixed types. Specify dtype option on import or set low_memory=False.\n",
      "  df = pd.read_csv(os.path.join(DATA_PATH,'data_clean.csv'))\n"
     ]
    }
   ],
   "source": [
    "DATA_PATH = os.path.join(os.path.dirname(os.getcwd()),\n",
    "                        'data')\n",
    "MODEL_PATH = os.path.join(os.path.dirname(os.getcwd()),\n",
    "                            'models', 'estimation')\n",
    "os.makedirs(MODEL_PATH, exist_ok=True)\n",
    "\n",
    "\n",
    "df = pd.read_csv(os.path.join(DATA_PATH,'data_clean.csv'))"
   ]
  },
  {
   "cell_type": "code",
   "execution_count": 3,
   "id": "f3f68ebd",
   "metadata": {
    "colab": {
     "base_uri": "https://localhost:8080/"
    },
    "executionInfo": {
     "elapsed": 422,
     "status": "ok",
     "timestamp": 1749628977869,
     "user": {
      "displayName": "Ronan Bernard",
      "userId": "06444945164246045363"
     },
     "user_tz": -120
    },
    "id": "f3f68ebd",
    "outputId": "eb9af530-3828-4d0f-b059-e9f79cf9073c"
   },
   "outputs": [
    {
     "name": "stdout",
     "output_type": "stream",
     "text": [
      "Filtered from 392 to 150 CPV categories, keeping 279174 rows out of 286850\n"
     ]
    }
   ],
   "source": [
    "df = filter_top_cpv_categories(df, top_n=150, cpv_column='codeCPV_3')\n",
    "df.drop(df[df['montant'] > 999_999].index, inplace=True)\n",
    "\n",
    "y = np.log1p(df['montant'])\n",
    "\n",
    "\n",
    "bins = np.linspace(y.min(), y.max(), 101)\n",
    "#bins = np.delete(bins, 1)\n",
    "\n",
    "#bins = bins[2:]\n",
    "\n",
    "# Créer les étiquettes correspondantes\n",
    "labels = list(range(0, len(bins)-1))\n",
    "\n",
    "# Ajouter la colonne fourchette_de_prix\n",
    "df['bins'] = pd.cut(y, bins=bins, labels=labels, include_lowest=True, right=True)\n",
    "\n",
    "df['bins'] = df['bins'].astype('int')\n",
    "df = df.drop(columns='montant')\n",
    "\n",
    "X = df.drop(columns=['bins', 'titulaire_tranche_effectif', 'titulaire_categorie'])\n",
    "y = df['bins']\n",
    "\n",
    "df[['acheteur_tranche_effectif', 'acheteur_categorie']] = df[['acheteur_tranche_effectif', 'acheteur_categorie']].fillna('null')\n"
   ]
  },
  {
   "cell_type": "code",
   "execution_count": 4,
   "id": "fa7b392d",
   "metadata": {
    "executionInfo": {
     "elapsed": 7177,
     "status": "ok",
     "timestamp": 1749628985049,
     "user": {
      "displayName": "Ronan Bernard",
      "userId": "06444945164246045363"
     },
     "user_tz": -120
    },
    "id": "fa7b392d"
   },
   "outputs": [],
   "source": [
    "X_train, X_test, y_train, y_test = train_test_split(\n",
    "    X, y, test_size=0.2, random_state=0, stratify=X['codeCPV_3'])\n",
    "\n",
    "numerical_columns = ['dureeMois', 'offresRecues', 'annee']\n",
    "\n",
    "binary_columns = ['sousTraitanceDeclaree', 'origineFrance',\n",
    "                          'marcheInnovant', 'idAccordCadre']\n",
    "\n",
    "categorical_columns = ['procedure', 'nature', 'formePrix', 'ccag',\n",
    "                               'typeGroupementOperateurs', 'tauxAvance_cat',\n",
    "                               'codeCPV_3', 'acheteur_tranche_effectif', 'acheteur_categorie']\n",
    "\n",
    "pipeline = create_pipeline(numerical_columns, binary_columns, categorical_columns)\n",
    "\n",
    "X_train_preproc = pipeline.fit_transform(X_train)\n",
    "\n",
    "y_train_cat = to_categorical(y_train)"
   ]
  },
  {
   "cell_type": "code",
   "execution_count": 5,
   "id": "IJO7fIpxATXn",
   "metadata": {
    "colab": {
     "base_uri": "https://localhost:8080/"
    },
    "executionInfo": {
     "elapsed": 26,
     "status": "ok",
     "timestamp": 1749628985077,
     "user": {
      "displayName": "Ronan Bernard",
      "userId": "06444945164246045363"
     },
     "user_tz": -120
    },
    "id": "IJO7fIpxATXn",
    "outputId": "45ab646c-18d8-4077-e6bf-dcd0b34a3852"
   },
   "outputs": [
    {
     "data": {
      "text/plain": [
       "(190530, 100)"
      ]
     },
     "execution_count": 5,
     "metadata": {},
     "output_type": "execute_result"
    }
   ],
   "source": [
    "y_train_cat.shape"
   ]
  },
  {
   "cell_type": "code",
   "execution_count": 6,
   "id": "d680bf29",
   "metadata": {},
   "outputs": [
    {
     "name": "stdout",
     "output_type": "stream",
     "text": [
      "WARNING:tensorflow:Your environment has TF_USE_LEGACY_KERAS set to True, but you do not have the tf_keras package installed. You must install it in order to use the legacy tf.keras. Install it via: `pip install tf_keras`\n"
     ]
    },
    {
     "ename": "ImportError",
     "evalue": "Keras cannot be imported. Check that it is installed.",
     "output_type": "error",
     "traceback": [
      "\u001b[0;31m---------------------------------------------------------------------------\u001b[0m",
      "\u001b[0;31mImportError\u001b[0m                               Traceback (most recent call last)",
      "Cell \u001b[0;32mIn[6], line 2\u001b[0m\n\u001b[1;32m      1\u001b[0m \u001b[38;5;28;01mfrom\u001b[39;00m\u001b[38;5;250m \u001b[39m\u001b[38;5;21;01mtensorflow\u001b[39;00m\u001b[38;5;250m \u001b[39m\u001b[38;5;28;01mimport\u001b[39;00m keras\n\u001b[0;32m----> 2\u001b[0m \u001b[38;5;28mprint\u001b[39m(\u001b[43mkeras\u001b[49m\u001b[38;5;241;43m.\u001b[39;49m\u001b[43m__version__\u001b[49m)\n",
      "File \u001b[0;32m~/.pyenv/versions/3.10.6/envs/decp_ml_env/lib/python3.10/site-packages/tensorflow/python/util/lazy_loader.py:181\u001b[0m, in \u001b[0;36mKerasLazyLoader.__getattr__\u001b[0;34m(self, item)\u001b[0m\n\u001b[1;32m    179\u001b[0m   \u001b[38;5;28;01mreturn\u001b[39;00m \u001b[38;5;28msuper\u001b[39m(types\u001b[38;5;241m.\u001b[39mModuleType, \u001b[38;5;28mself\u001b[39m)\u001b[38;5;241m.\u001b[39m\u001b[38;5;21m__getattribute__\u001b[39m(item)\n\u001b[1;32m    180\u001b[0m \u001b[38;5;28;01mif\u001b[39;00m \u001b[38;5;129;01mnot\u001b[39;00m \u001b[38;5;28mself\u001b[39m\u001b[38;5;241m.\u001b[39m_tfll_initialized:\n\u001b[0;32m--> 181\u001b[0m   \u001b[38;5;28;43mself\u001b[39;49m\u001b[38;5;241;43m.\u001b[39;49m\u001b[43m_initialize\u001b[49m\u001b[43m(\u001b[49m\u001b[43m)\u001b[49m\n\u001b[1;32m    182\u001b[0m \u001b[38;5;28;01mif\u001b[39;00m \u001b[38;5;28mself\u001b[39m\u001b[38;5;241m.\u001b[39m_tfll_keras_version \u001b[38;5;241m==\u001b[39m \u001b[38;5;124m\"\u001b[39m\u001b[38;5;124mkeras_3\u001b[39m\u001b[38;5;124m\"\u001b[39m:\n\u001b[1;32m    183\u001b[0m   \u001b[38;5;28;01mif\u001b[39;00m (\n\u001b[1;32m    184\u001b[0m       \u001b[38;5;28mself\u001b[39m\u001b[38;5;241m.\u001b[39m_tfll_mode \u001b[38;5;241m==\u001b[39m \u001b[38;5;124m\"\u001b[39m\u001b[38;5;124mv1\u001b[39m\u001b[38;5;124m\"\u001b[39m\n\u001b[1;32m    185\u001b[0m       \u001b[38;5;129;01mand\u001b[39;00m \u001b[38;5;129;01mnot\u001b[39;00m \u001b[38;5;28mself\u001b[39m\u001b[38;5;241m.\u001b[39m_tfll_submodule\n\u001b[1;32m    186\u001b[0m       \u001b[38;5;129;01mand\u001b[39;00m item\u001b[38;5;241m.\u001b[39mstartswith(\u001b[38;5;124m\"\u001b[39m\u001b[38;5;124mcompat.v1.\u001b[39m\u001b[38;5;124m\"\u001b[39m)\n\u001b[1;32m    187\u001b[0m   ):\n",
      "File \u001b[0;32m~/.pyenv/versions/3.10.6/envs/decp_ml_env/lib/python3.10/site-packages/tensorflow/python/util/lazy_loader.py:173\u001b[0m, in \u001b[0;36mKerasLazyLoader._initialize\u001b[0;34m(self)\u001b[0m\n\u001b[1;32m    169\u001b[0m   \u001b[38;5;28msuper\u001b[39m()\u001b[38;5;241m.\u001b[39m\u001b[38;5;21m__init__\u001b[39m(\n\u001b[1;32m    170\u001b[0m       \u001b[38;5;28mself\u001b[39m\u001b[38;5;241m.\u001b[39m_tfll_name, \u001b[38;5;28mself\u001b[39m\u001b[38;5;241m.\u001b[39m_tfll_parent_module_globals, package_name\n\u001b[1;32m    171\u001b[0m   )\n\u001b[1;32m    172\u001b[0m \u001b[38;5;28;01melse\u001b[39;00m:\n\u001b[0;32m--> 173\u001b[0m   \u001b[38;5;28;01mraise\u001b[39;00m \u001b[38;5;167;01mImportError\u001b[39;00m(  \u001b[38;5;66;03m# pylint: disable=raise-missing-from\u001b[39;00m\n\u001b[1;32m    174\u001b[0m       \u001b[38;5;124m\"\u001b[39m\u001b[38;5;124mKeras cannot be imported. Check that it is installed.\u001b[39m\u001b[38;5;124m\"\u001b[39m\n\u001b[1;32m    175\u001b[0m   )\n",
      "\u001b[0;31mImportError\u001b[0m: Keras cannot be imported. Check that it is installed."
     ]
    }
   ],
   "source": [
    "from tensorflow import keras\n",
    "print(keras.__version__)"
   ]
  },
  {
   "cell_type": "code",
   "execution_count": null,
   "id": "dc8419db",
   "metadata": {
    "colab": {
     "base_uri": "https://localhost:8080/",
     "height": 524
    },
    "executionInfo": {
     "elapsed": 336,
     "status": "ok",
     "timestamp": 1749631999310,
     "user": {
      "displayName": "Ronan Bernard",
      "userId": "06444945164246045363"
     },
     "user_tz": -120
    },
    "id": "dc8419db",
    "outputId": "f449cd49-0b84-4972-98d1-704ef9c66445"
   },
   "outputs": [],
   "source": [
    "model_name = 'model_montant_100.keras'\n",
    "\n",
    "model = keras.models.load_model(os.path.join(MODEL_PATH,model_name))  # or 'my_model' if it's a directory\n",
    "\n",
    "model.summary()"
   ]
  },
  {
   "cell_type": "code",
   "execution_count": null,
   "id": "ckG4gxajMZrM",
   "metadata": {
    "colab": {
     "base_uri": "https://localhost:8080/"
    },
    "executionInfo": {
     "elapsed": 10690,
     "status": "ok",
     "timestamp": 1749632225903,
     "user": {
      "displayName": "Ronan Bernard",
      "userId": "06444945164246045363"
     },
     "user_tz": -120
    },
    "id": "ckG4gxajMZrM",
    "outputId": "8994d5de-d317-4603-e845-8e2bfb86c7b8"
   },
   "outputs": [],
   "source": [
    "X_train_preproc = pipeline.fit_transform(X_train)\n",
    "\n",
    "X_test_preproc = pipeline.transform(X_test)\n",
    "y_test_cat = to_categorical(y_test)\n",
    "\n",
    "model.evaluate(X_test_preproc, y_test_cat, verbose=1)"
   ]
  },
  {
   "cell_type": "code",
   "execution_count": null,
   "id": "3rNcElwTNGqp",
   "metadata": {
    "colab": {
     "base_uri": "https://localhost:8080/"
    },
    "executionInfo": {
     "elapsed": 4056,
     "status": "ok",
     "timestamp": 1749632245306,
     "user": {
      "displayName": "Ronan Bernard",
      "userId": "06444945164246045363"
     },
     "user_tz": -120
    },
    "id": "3rNcElwTNGqp",
    "outputId": "5d565867-5543-477c-eddb-c3a416d568c6"
   },
   "outputs": [],
   "source": [
    "y_pred =model.predict(X_test_preproc)"
   ]
  },
  {
   "cell_type": "code",
   "execution_count": null,
   "id": "3LRMiuZQNU0p",
   "metadata": {
    "id": "3LRMiuZQNU0p"
   },
   "outputs": [],
   "source": []
  }
 ],
 "metadata": {
  "accelerator": "GPU",
  "colab": {
   "gpuType": "T4",
   "provenance": []
  },
  "kernelspec": {
   "display_name": "decp_ml_env",
   "language": "python",
   "name": "python3"
  },
  "language_info": {
   "codemirror_mode": {
    "name": "ipython",
    "version": 3
   },
   "file_extension": ".py",
   "mimetype": "text/x-python",
   "name": "python",
   "nbconvert_exporter": "python",
   "pygments_lexer": "ipython3",
   "version": "3.10.6"
  }
 },
 "nbformat": 4,
 "nbformat_minor": 5
}
