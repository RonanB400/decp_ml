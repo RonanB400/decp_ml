{
 "cells": [
  {
   "cell_type": "code",
   "execution_count": 1,
   "metadata": {},
   "outputs": [],
   "source": [
    "import pandas as pd\n",
    "import numpy as np\n",
    "import sqlite3\n",
    "import seaborn as sns"
   ]
  },
  {
   "cell_type": "code",
   "execution_count": 2,
   "metadata": {},
   "outputs": [
    {
     "name": "stdout",
     "output_type": "stream",
     "text": [
      "<class 'pandas.core.frame.DataFrame'>\n",
      "RangeIndex: 285444 entries, 0 to 285443\n",
      "Data columns (total 32 columns):\n",
      " #   Column                           Non-Null Count   Dtype  \n",
      "---  ------                           --------------   -----  \n",
      " 0   uid                              285444 non-null  object \n",
      " 1   id                               285444 non-null  object \n",
      " 2   nature                           285444 non-null  object \n",
      " 3   acheteur_id                      285444 non-null  object \n",
      " 4   acheteur_nom                     285252 non-null  object \n",
      " 5   acheteur_siren                   285274 non-null  object \n",
      " 6   titulaire_id                     285444 non-null  object \n",
      " 7   titulaire_typeIdentifiant        285444 non-null  object \n",
      " 8   objet                            285444 non-null  object \n",
      " 9   montant                          285444 non-null  float64\n",
      " 10  codeCPV                          285444 non-null  object \n",
      " 11  procedure                        285444 non-null  object \n",
      " 12  dureeMois                        285439 non-null  float64\n",
      " 13  dateNotification                 285444 non-null  object \n",
      " 14  datePublicationDonnees           285443 non-null  object \n",
      " 15  formePrix                        285444 non-null  object \n",
      " 16  attributionAvance                122332 non-null  float64\n",
      " 17  offresRecues                     188361 non-null  float64\n",
      " 18  marcheInnovant                   120074 non-null  float64\n",
      " 19  ccag                             285444 non-null  object \n",
      " 20  sousTraitanceDeclaree            149542 non-null  float64\n",
      " 21  typeGroupementOperateurs         285444 non-null  object \n",
      " 22  tauxAvance                       150791 non-null  float64\n",
      " 23  origineUE                        149746 non-null  float64\n",
      " 24  origineFrance                    149747 non-null  float64\n",
      " 25  lieuExecution_code               285444 non-null  object \n",
      " 26  lieuExecution_typeCode           285444 non-null  object \n",
      " 27  idAccordCadre                    63098 non-null   object \n",
      " 28  source_open_data                 285444 non-null  object \n",
      " 29  titulaire_typeIdentifiant_right  284372 non-null  object \n",
      " 30  titulaire_siren                  284364 non-null  object \n",
      " 31  titulaire_nom                    278199 non-null  object \n",
      "dtypes: float64(9), object(23)\n",
      "memory usage: 69.7+ MB\n"
     ]
    }
   ],
   "source": [
    "conn = sqlite3.connect('data/datalab.sqlite')\n",
    "db = conn.cursor()\n",
    "query = f\"\"\"\n",
    "SELECT *\n",
    "FROM \"data.gouv.fr.2022.clean\"\n",
    "\"\"\"\n",
    "\n",
    "data = pd.read_sql_query(query, conn)\n",
    "data.info()"
   ]
  },
  {
   "cell_type": "code",
   "execution_count": 63,
   "metadata": {},
   "outputs": [
    {
     "data": {
      "text/html": [
       "<div>\n",
       "<style scoped>\n",
       "    .dataframe tbody tr th:only-of-type {\n",
       "        vertical-align: middle;\n",
       "    }\n",
       "\n",
       "    .dataframe tbody tr th {\n",
       "        vertical-align: top;\n",
       "    }\n",
       "\n",
       "    .dataframe thead th {\n",
       "        text-align: right;\n",
       "    }\n",
       "</style>\n",
       "<table border=\"1\" class=\"dataframe\">\n",
       "  <thead>\n",
       "    <tr style=\"text-align: right;\">\n",
       "      <th></th>\n",
       "      <th>montant</th>\n",
       "      <th>acheteur_nom</th>\n",
       "      <th>titulaire_nom</th>\n",
       "      <th>codeCPV</th>\n",
       "      <th>objet</th>\n",
       "      <th>dureeMois</th>\n",
       "      <th>procedure</th>\n",
       "      <th>ccag</th>\n",
       "    </tr>\n",
       "  </thead>\n",
       "  <tbody>\n",
       "    <tr>\n",
       "      <th>6</th>\n",
       "      <td>400000.00</td>\n",
       "      <td>COMMUNE DE BRUNOY</td>\n",
       "      <td>HERSAND-DELAISY KARGO</td>\n",
       "      <td>39830000-9</td>\n",
       "      <td>FOURNITURE DE PRODUITS ET MATERIELS D ENTRETIEN</td>\n",
       "      <td>48.0</td>\n",
       "      <td>Appel d'offres ouvert</td>\n",
       "      <td>Fournitures courantes et services</td>\n",
       "    </tr>\n",
       "    <tr>\n",
       "      <th>7</th>\n",
       "      <td>49500.00</td>\n",
       "      <td>BORDEAUX METROPOLE</td>\n",
       "      <td>MR BOT</td>\n",
       "      <td>71800000</td>\n",
       "      <td>Mise à disposition d'un outil d'animation ludi...</td>\n",
       "      <td>24.0</td>\n",
       "      <td>Marché passé sans publicité ni mise en concurr...</td>\n",
       "      <td>Fournitures courantes et services</td>\n",
       "    </tr>\n",
       "    <tr>\n",
       "      <th>8</th>\n",
       "      <td>165100.00</td>\n",
       "      <td>CC DES HAUTS DU PERCHE</td>\n",
       "      <td>SIGMA INGENIERIE</td>\n",
       "      <td>71000000-8</td>\n",
       "      <td>Maîtrise d'Oeuvre Réhabilitation Restaurant sc...</td>\n",
       "      <td>36.0</td>\n",
       "      <td>Procédure adaptée</td>\n",
       "      <td>Pas de CCAG</td>\n",
       "    </tr>\n",
       "    <tr>\n",
       "      <th>9</th>\n",
       "      <td>174252.99</td>\n",
       "      <td>CC TOURAINE VALLEE DE L'INDRE</td>\n",
       "      <td>VAL BTP</td>\n",
       "      <td>45232411-6</td>\n",
       "      <td>2024-010 -AEP - Renouvellement des réseaux d?A...</td>\n",
       "      <td>4.0</td>\n",
       "      <td>Procédure adaptée</td>\n",
       "      <td>Travaux</td>\n",
       "    </tr>\n",
       "  </tbody>\n",
       "</table>\n",
       "</div>"
      ],
      "text/plain": [
       "     montant                   acheteur_nom          titulaire_nom  \\\n",
       "6  400000.00              COMMUNE DE BRUNOY  HERSAND-DELAISY KARGO   \n",
       "7   49500.00             BORDEAUX METROPOLE                 MR BOT   \n",
       "8  165100.00         CC DES HAUTS DU PERCHE       SIGMA INGENIERIE   \n",
       "9  174252.99  CC TOURAINE VALLEE DE L'INDRE                VAL BTP   \n",
       "\n",
       "      codeCPV                                              objet  dureeMois  \\\n",
       "6  39830000-9    FOURNITURE DE PRODUITS ET MATERIELS D ENTRETIEN       48.0   \n",
       "7    71800000  Mise à disposition d'un outil d'animation ludi...       24.0   \n",
       "8  71000000-8  Maîtrise d'Oeuvre Réhabilitation Restaurant sc...       36.0   \n",
       "9  45232411-6  2024-010 -AEP - Renouvellement des réseaux d?A...        4.0   \n",
       "\n",
       "                                           procedure  \\\n",
       "6                              Appel d'offres ouvert   \n",
       "7  Marché passé sans publicité ni mise en concurr...   \n",
       "8                                  Procédure adaptée   \n",
       "9                                  Procédure adaptée   \n",
       "\n",
       "                                ccag  \n",
       "6  Fournitures courantes et services  \n",
       "7  Fournitures courantes et services  \n",
       "8                        Pas de CCAG  \n",
       "9                            Travaux  "
      ]
     },
     "execution_count": 63,
     "metadata": {},
     "output_type": "execute_result"
    }
   ],
   "source": [
    "data.loc[6:9,['montant', 'acheteur_nom', 'titulaire_nom', 'codeCPV', 'objet', 'dureeMois', 'procedure', 'ccag']]"
   ]
  },
  {
   "cell_type": "code",
   "execution_count": 68,
   "metadata": {},
   "outputs": [
    {
     "data": {
      "text/plain": [
       "'/home/ronan/code/RonanB400/Project/decp_ml/codeCPV.csv'"
      ]
     },
     "execution_count": 68,
     "metadata": {},
     "output_type": "execute_result"
    }
   ],
   "source": [
    "import os\n",
    "\n",
    "csv_path = os.path.join(os.getcwd(), 'codeCPV.csv')\n",
    "csv_path\n",
    "\n",
    "\n"
   ]
  },
  {
   "cell_type": "code",
   "execution_count": 69,
   "metadata": {},
   "outputs": [],
   "source": [
    "data['codeCPV'].value_counts().to_csv(csv_path)"
   ]
  },
  {
   "cell_type": "code",
   "execution_count": 71,
   "metadata": {},
   "outputs": [
    {
     "data": {
      "text/html": [
       "<div>\n",
       "<style scoped>\n",
       "    .dataframe tbody tr th:only-of-type {\n",
       "        vertical-align: middle;\n",
       "    }\n",
       "\n",
       "    .dataframe tbody tr th {\n",
       "        vertical-align: top;\n",
       "    }\n",
       "\n",
       "    .dataframe thead th {\n",
       "        text-align: right;\n",
       "    }\n",
       "</style>\n",
       "<table border=\"1\" class=\"dataframe\">\n",
       "  <thead>\n",
       "    <tr style=\"text-align: right;\">\n",
       "      <th></th>\n",
       "      <th>uid</th>\n",
       "      <th>id</th>\n",
       "      <th>nature</th>\n",
       "      <th>acheteur_id</th>\n",
       "      <th>acheteur_nom</th>\n",
       "      <th>acheteur_siren</th>\n",
       "      <th>titulaire_id</th>\n",
       "      <th>titulaire_typeIdentifiant</th>\n",
       "      <th>objet</th>\n",
       "      <th>montant</th>\n",
       "      <th>...</th>\n",
       "      <th>tauxAvance</th>\n",
       "      <th>origineUE</th>\n",
       "      <th>origineFrance</th>\n",
       "      <th>lieuExecution_code</th>\n",
       "      <th>lieuExecution_typeCode</th>\n",
       "      <th>idAccordCadre</th>\n",
       "      <th>source_open_data</th>\n",
       "      <th>titulaire_typeIdentifiant_right</th>\n",
       "      <th>titulaire_siren</th>\n",
       "      <th>titulaire_nom</th>\n",
       "    </tr>\n",
       "  </thead>\n",
       "  <tbody>\n",
       "  </tbody>\n",
       "</table>\n",
       "<p>0 rows × 32 columns</p>\n",
       "</div>"
      ],
      "text/plain": [
       "Empty DataFrame\n",
       "Columns: [uid, id, nature, acheteur_id, acheteur_nom, acheteur_siren, titulaire_id, titulaire_typeIdentifiant, objet, montant, codeCPV, procedure, dureeMois, dateNotification, datePublicationDonnees, formePrix, attributionAvance, offresRecues, marcheInnovant, ccag, sousTraitanceDeclaree, typeGroupementOperateurs, tauxAvance, origineUE, origineFrance, lieuExecution_code, lieuExecution_typeCode, idAccordCadre, source_open_data, titulaire_typeIdentifiant_right, titulaire_siren, titulaire_nom]\n",
       "Index: []\n",
       "\n",
       "[0 rows x 32 columns]"
      ]
     },
     "execution_count": 71,
     "metadata": {},
     "output_type": "execute_result"
    }
   ],
   "source": [
    "data[data['codeCPV'].str.len() < 6]"
   ]
  },
  {
   "cell_type": "code",
   "execution_count": null,
   "metadata": {},
   "outputs": [
    {
     "data": {
      "text/plain": [
       "Text(0.5, 1.0, 'Distribution des montants')"
      ]
     },
     "execution_count": 47,
     "metadata": {},
     "output_type": "execute_result"
    },
    {
     "data": {
      "image/png": "[encoded data removed]",
      "text/plain": [
       "<Figure size 640x480 with 1 Axes>"
      ]
     },
     "metadata": {},
     "output_type": "display_data"
    }
   ],
   "source": [
    "\n",
    "# Filtrage des extrêmes (ex : garder entre 1 000 € et 10 M€)\n",
    "filtered_data = data[(data[\"montant\"] > 1_000) & (data[\"montant\"] < 10**6)]\n",
    "\n",
    "ax = sns.histplot(data=filtered_data, x='montant', kde=True, bins=100)\n",
    "#ax.set_xscale(\"log\")\n",
    "#ax.set_xlim(10**3,10**5)\n",
    "ax.set_xlabel('Montants (€)')\n",
    "ax.set_ylabel('Nombre de marchés')\n",
    "ax.set_title(\"Distribution des montants\")\n",
    "\n"
   ]
  },
  {
   "cell_type": "code",
   "execution_count": 60,
   "metadata": {},
   "outputs": [
    {
     "data": {
      "image/png": "[encoded data removed]",
      "text/plain": [
       "<Figure size 500x250 with 1 Axes>"
      ]
     },
     "metadata": {},
     "output_type": "display_data"
    }
   ],
   "source": [
    "import seaborn as sns\n",
    "import matplotlib.pyplot as plt\n",
    "import matplotlib.ticker as mtick\n",
    "import numpy as np\n",
    "\n",
    "# Filtrage des extrêmes\n",
    "filtered_data = data[(data[\"montant\"] > 1_000) & (data[\"montant\"] < 1_000_000)]\n",
    "\n",
    "# Set style\n",
    "sns.set_theme(style=\"whitegrid\")\n",
    "\n",
    "# Create figure\n",
    "plt.figure(figsize=(5, 2.5))\n",
    "ax = sns.histplot(data=filtered_data, x='montant', kde=True, bins=60, color=\"#2a9d8f\", edgecolor=\"white\")\n",
    "\n",
    "# Format axes\n",
    "#ax.set_xlabel(\"Montants (€)\")\n",
    "ax.xaxis.label.set_visible(False)\n",
    "ax.set_ylabel(\"Nombre de marchés\")\n",
    "ax.set_title(\"Distribution des montants (€)\", weight='bold')\n",
    "\n",
    "# Optional: format x-axis in thousands\n",
    "ax.xaxis.set_major_formatter(mtick.FuncFormatter(lambda x, _: f'{int(x/1000)} k€' if x >= 1000 else f'{int(x)} €'))\n",
    "ax.yaxis.set_major_formatter(mtick.FuncFormatter(lambda x, _: f'{int(x/1000)}k' if x >= 1000 else f'{int(x)}'))\n",
    "\n",
    "\n",
    "# Optional: remove top and right borders\n",
    "sns.despine()\n",
    "\n",
    "# Optional: tight layout for slides\n",
    "plt.tight_layout()\n",
    "\n",
    "# Save as high-quality image\n",
    "plt.savefig(\"distribution_montants.png\", dpi=300)\n",
    "\n",
    "plt.show()"
   ]
  },
  {
   "cell_type": "code",
   "execution_count": null,
   "metadata": {},
   "outputs": [
    {
     "data": {
      "text/html": [
       "<div>\n",
       "<style scoped>\n",
       "    .dataframe tbody tr th:only-of-type {\n",
       "        vertical-align: middle;\n",
       "    }\n",
       "\n",
       "    .dataframe tbody tr th {\n",
       "        vertical-align: top;\n",
       "    }\n",
       "\n",
       "    .dataframe thead th {\n",
       "        text-align: right;\n",
       "    }\n",
       "</style>\n",
       "<table border=\"1\" class=\"dataframe\">\n",
       "  <thead>\n",
       "    <tr style=\"text-align: right;\">\n",
       "      <th></th>\n",
       "      <th>uid</th>\n",
       "      <th>id</th>\n",
       "      <th>nature</th>\n",
       "      <th>acheteur_id</th>\n",
       "      <th>acheteur_nom</th>\n",
       "      <th>acheteur_siren</th>\n",
       "      <th>titulaire_id</th>\n",
       "      <th>titulaire_typeIdentifiant</th>\n",
       "      <th>objet</th>\n",
       "      <th>montant</th>\n",
       "      <th>...</th>\n",
       "      <th>tauxAvance</th>\n",
       "      <th>origineUE</th>\n",
       "      <th>origineFrance</th>\n",
       "      <th>lieuExecution_code</th>\n",
       "      <th>lieuExecution_typeCode</th>\n",
       "      <th>idAccordCadre</th>\n",
       "      <th>source_open_data</th>\n",
       "      <th>titulaire_typeIdentifiant_right</th>\n",
       "      <th>titulaire_siren</th>\n",
       "      <th>titulaire_nom</th>\n",
       "    </tr>\n",
       "  </thead>\n",
       "  <tbody>\n",
       "  </tbody>\n",
       "</table>\n",
       "<p>0 rows × 32 columns</p>\n",
       "</div>"
      ],
      "text/plain": [
       "Empty DataFrame\n",
       "Columns: [uid, id, nature, acheteur_id, acheteur_nom, acheteur_siren, titulaire_id, titulaire_typeIdentifiant, objet, montant, codeCPV, procedure, dureeMois, dateNotification, datePublicationDonnees, formePrix, attributionAvance, offresRecues, marcheInnovant, ccag, sousTraitanceDeclaree, typeGroupementOperateurs, tauxAvance, origineUE, origineFrance, lieuExecution_code, lieuExecution_typeCode, idAccordCadre, source_open_data, titulaire_typeIdentifiant_right, titulaire_siren, titulaire_nom]\n",
       "Index: []\n",
       "\n",
       "[0 rows x 32 columns]"
      ]
     },
     "metadata": {},
     "output_type": "display_data"
    }
   ],
   "source": [
    "data[data['ccag'].isna() == True].head()"
   ]
  },
  {
   "cell_type": "code",
   "execution_count": 8,
   "metadata": {},
   "outputs": [
    {
     "data": {
      "text/html": [
       "<div>\n",
       "<style scoped>\n",
       "    .dataframe tbody tr th:only-of-type {\n",
       "        vertical-align: middle;\n",
       "    }\n",
       "\n",
       "    .dataframe tbody tr th {\n",
       "        vertical-align: top;\n",
       "    }\n",
       "\n",
       "    .dataframe thead th {\n",
       "        text-align: right;\n",
       "    }\n",
       "</style>\n",
       "<table border=\"1\" class=\"dataframe\">\n",
       "  <thead>\n",
       "    <tr style=\"text-align: right;\">\n",
       "      <th></th>\n",
       "      <th>uid</th>\n",
       "      <th>id</th>\n",
       "      <th>nature</th>\n",
       "      <th>acheteur_id</th>\n",
       "      <th>acheteur_nom</th>\n",
       "      <th>acheteur_siren</th>\n",
       "      <th>titulaire_id</th>\n",
       "      <th>titulaire_typeIdentifiant</th>\n",
       "      <th>objet</th>\n",
       "      <th>montant</th>\n",
       "      <th>...</th>\n",
       "      <th>tauxAvance</th>\n",
       "      <th>origineUE</th>\n",
       "      <th>origineFrance</th>\n",
       "      <th>lieuExecution_code</th>\n",
       "      <th>lieuExecution_typeCode</th>\n",
       "      <th>idAccordCadre</th>\n",
       "      <th>source_open_data</th>\n",
       "      <th>titulaire_typeIdentifiant_right</th>\n",
       "      <th>titulaire_siren</th>\n",
       "      <th>titulaire_nom</th>\n",
       "    </tr>\n",
       "  </thead>\n",
       "  <tbody>\n",
       "  </tbody>\n",
       "</table>\n",
       "<p>0 rows × 32 columns</p>\n",
       "</div>"
      ],
      "text/plain": [
       "Empty DataFrame\n",
       "Columns: [uid, id, nature, acheteur_id, acheteur_nom, acheteur_siren, titulaire_id, titulaire_typeIdentifiant, objet, montant, codeCPV, procedure, dureeMois, dateNotification, datePublicationDonnees, formePrix, attributionAvance, offresRecues, marcheInnovant, ccag, sousTraitanceDeclaree, typeGroupementOperateurs, tauxAvance, origineUE, origineFrance, lieuExecution_code, lieuExecution_typeCode, idAccordCadre, source_open_data, titulaire_typeIdentifiant_right, titulaire_siren, titulaire_nom]\n",
       "Index: []\n",
       "\n",
       "[0 rows x 32 columns]"
      ]
     },
     "execution_count": 8,
     "metadata": {},
     "output_type": "execute_result"
    }
   ],
   "source": [
    "data[data['ccag'].isna() == True].head()"
   ]
  },
  {
   "cell_type": "code",
   "execution_count": null,
   "metadata": {},
   "outputs": [
    {
     "data": {
      "text/html": [
       "<div>\n",
       "<style scoped>\n",
       "    .dataframe tbody tr th:only-of-type {\n",
       "        vertical-align: middle;\n",
       "    }\n",
       "\n",
       "    .dataframe tbody tr th {\n",
       "        vertical-align: top;\n",
       "    }\n",
       "\n",
       "    .dataframe thead th {\n",
       "        text-align: right;\n",
       "    }\n",
       "</style>\n",
       "<table border=\"1\" class=\"dataframe\">\n",
       "  <thead>\n",
       "    <tr style=\"text-align: right;\">\n",
       "      <th></th>\n",
       "      <th>uid</th>\n",
       "      <th>id</th>\n",
       "      <th>nature</th>\n",
       "      <th>acheteur_id</th>\n",
       "      <th>acheteur_nom</th>\n",
       "      <th>acheteur_siren</th>\n",
       "      <th>titulaire_id</th>\n",
       "      <th>titulaire_typeIdentifiant</th>\n",
       "      <th>objet</th>\n",
       "      <th>montant</th>\n",
       "      <th>...</th>\n",
       "      <th>tauxAvance</th>\n",
       "      <th>origineUE</th>\n",
       "      <th>origineFrance</th>\n",
       "      <th>lieuExecution_code</th>\n",
       "      <th>lieuExecution_typeCode</th>\n",
       "      <th>idAccordCadre</th>\n",
       "      <th>source_open_data</th>\n",
       "      <th>titulaire_typeIdentifiant_right</th>\n",
       "      <th>titulaire_siren</th>\n",
       "      <th>titulaire_nom</th>\n",
       "    </tr>\n",
       "  </thead>\n",
       "  <tbody>\n",
       "  </tbody>\n",
       "</table>\n",
       "<p>0 rows × 32 columns</p>\n",
       "</div>"
      ],
      "text/plain": [
       "Empty DataFrame\n",
       "Columns: [uid, id, nature, acheteur_id, acheteur_nom, acheteur_siren, titulaire_id, titulaire_typeIdentifiant, objet, montant, codeCPV, procedure, dureeMois, dateNotification, datePublicationDonnees, formePrix, attributionAvance, offresRecues, marcheInnovant, ccag, sousTraitanceDeclaree, typeGroupementOperateurs, tauxAvance, origineUE, origineFrance, lieuExecution_code, lieuExecution_typeCode, idAccordCadre, source_open_data, titulaire_typeIdentifiant_right, titulaire_siren, titulaire_nom]\n",
       "Index: []\n",
       "\n",
       "[0 rows x 32 columns]"
      ]
     },
     "metadata": {},
     "output_type": "display_data"
    }
   ],
   "source": [
    "data[data['ccag'].isna() == True].head()"
   ]
  },
  {
   "cell_type": "code",
   "execution_count": null,
   "metadata": {},
   "outputs": [
    {
     "data": {
      "text/html": [
       "<div>\n",
       "<style scoped>\n",
       "    .dataframe tbody tr th:only-of-type {\n",
       "        vertical-align: middle;\n",
       "    }\n",
       "\n",
       "    .dataframe tbody tr th {\n",
       "        vertical-align: top;\n",
       "    }\n",
       "\n",
       "    .dataframe thead th {\n",
       "        text-align: right;\n",
       "    }\n",
       "</style>\n",
       "<table border=\"1\" class=\"dataframe\">\n",
       "  <thead>\n",
       "    <tr style=\"text-align: right;\">\n",
       "      <th></th>\n",
       "      <th>uid</th>\n",
       "      <th>id</th>\n",
       "      <th>nature</th>\n",
       "      <th>acheteur_id</th>\n",
       "      <th>acheteur_nom</th>\n",
       "      <th>acheteur_siren</th>\n",
       "      <th>titulaire_id</th>\n",
       "      <th>titulaire_typeIdentifiant</th>\n",
       "      <th>objet</th>\n",
       "      <th>montant</th>\n",
       "      <th>...</th>\n",
       "      <th>tauxAvance</th>\n",
       "      <th>origineUE</th>\n",
       "      <th>origineFrance</th>\n",
       "      <th>lieuExecution_code</th>\n",
       "      <th>lieuExecution_typeCode</th>\n",
       "      <th>idAccordCadre</th>\n",
       "      <th>source_open_data</th>\n",
       "      <th>titulaire_typeIdentifiant_right</th>\n",
       "      <th>titulaire_siren</th>\n",
       "      <th>titulaire_nom</th>\n",
       "    </tr>\n",
       "  </thead>\n",
       "  <tbody>\n",
       "  </tbody>\n",
       "</table>\n",
       "<p>0 rows × 32 columns</p>\n",
       "</div>"
      ],
      "text/plain": [
       "Empty DataFrame\n",
       "Columns: [uid, id, nature, acheteur_id, acheteur_nom, acheteur_siren, titulaire_id, titulaire_typeIdentifiant, objet, montant, codeCPV, procedure, dureeMois, dateNotification, datePublicationDonnees, formePrix, attributionAvance, offresRecues, marcheInnovant, ccag, sousTraitanceDeclaree, typeGroupementOperateurs, tauxAvance, origineUE, origineFrance, lieuExecution_code, lieuExecution_typeCode, idAccordCadre, source_open_data, titulaire_typeIdentifiant_right, titulaire_siren, titulaire_nom]\n",
       "Index: []\n",
       "\n",
       "[0 rows x 32 columns]"
      ]
     },
     "metadata": {},
     "output_type": "display_data"
    }
   ],
   "source": [
    "data[data['ccag'].isna() == True].head()"
   ]
  },
  {
   "cell_type": "code",
   "execution_count": 4,
   "metadata": {},
   "outputs": [
    {
     "data": {
      "text/plain": [
       "codeCPV\n",
       "45000000-7    7828\n",
       "71000000-8    5423\n",
       "45210000      3543\n",
       "71300000-1    3524\n",
       "45210000-2    3412\n",
       "45421000-4    3326\n",
       "71200000-0    3176\n",
       "71240000-2    3123\n",
       "71241000-9    3039\n",
       "45112500-0    2831\n",
       "Name: count, dtype: int64"
      ]
     },
     "execution_count": 4,
     "metadata": {},
     "output_type": "execute_result"
    }
   ],
   "source": [
    "cpv_df = data['codeCPV'].value_counts().sort_values(ascending=False)\n",
    "cpv_df.head(10)"
   ]
  },
  {
   "cell_type": "code",
   "execution_count": 6,
   "metadata": {},
   "outputs": [
    {
     "data": {
      "text/plain": [
       "39225"
      ]
     },
     "execution_count": 6,
     "metadata": {},
     "output_type": "execute_result"
    }
   ],
   "source": [
    "cpv_df.head(10).sum()"
   ]
  },
  {
   "cell_type": "code",
   "execution_count": 5,
   "metadata": {},
   "outputs": [
    {
     "data": {
      "text/plain": [
       "(0.0, 60.0)"
      ]
     },
     "execution_count": 5,
     "metadata": {},
     "output_type": "execute_result"
    },
    {
     "data": {
      "image/png": "[encoded data removed]",
      "text/plain": [
       "<Figure size 640x480 with 1 Axes>"
      ]
     },
     "metadata": {},
     "output_type": "display_data"
    }
   ],
   "source": [
    "df = data[data['codeCPV'] == '45000000-7']\n",
    "\n",
    "ax = sns.scatterplot(data=df,x='dureeMois', y='montant')\n",
    "ax.set_ylim(0,5_000_000)\n",
    "ax.set_xlim(0,60)\n"
   ]
  },
  {
   "cell_type": "code",
   "execution_count": null,
   "metadata": {},
   "outputs": [],
   "source": [
    "years = data['dateNotification'].str[:4]\n",
    "years.value_counts()"
   ]
  },
  {
   "cell_type": "code",
   "execution_count": null,
   "metadata": {},
   "outputs": [],
   "source": [
    "data.info()"
   ]
  },
  {
   "cell_type": "code",
   "execution_count": null,
   "metadata": {},
   "outputs": [],
   "source": [
    "data['ccag']"
   ]
  },
  {
   "cell_type": "code",
   "execution_count": null,
   "metadata": {},
   "outputs": [],
   "source": [
    "data.describe()"
   ]
  },
  {
   "cell_type": "code",
   "execution_count": null,
   "metadata": {},
   "outputs": [],
   "source": [
    "data['montant'].sum()/10**9"
   ]
  },
  {
   "cell_type": "code",
   "execution_count": null,
   "metadata": {},
   "outputs": [],
   "source": [
    "data.head()"
   ]
  },
  {
   "cell_type": "code",
   "execution_count": null,
   "metadata": {},
   "outputs": [],
   "source": [
    "query = f\"\"\"\n",
    "SELECT *\n",
    "FROM marches\n",
    "\"\"\"\n",
    "\n",
    "data_market = pd.read_sql_query(query, conn)\n",
    "data_market.info()"
   ]
  },
  {
   "cell_type": "code",
   "execution_count": 6,
   "metadata": {},
   "outputs": [
    {
     "name": "stdout",
     "output_type": "stream",
     "text": [
      "<class 'pandas.core.frame.DataFrame'>\n",
      "RangeIndex: 934942 entries, 0 to 934941\n",
      "Data columns (total 23 columns):\n",
      " #   Column                         Non-Null Count   Dtype  \n",
      "---  ------                         --------------   -----  \n",
      " 0   id                             934900 non-null  object \n",
      " 1   uid                            934900 non-null  object \n",
      " 2   acheteur.id                    934879 non-null  object \n",
      " 3   nature                         932926 non-null  object \n",
      " 4   objet                          934900 non-null  object \n",
      " 5   codeCPV                        932300 non-null  object \n",
      " 6   procedure                      908839 non-null  object \n",
      " 7   lieuExecution.code             934830 non-null  object \n",
      " 8   lieuExecution.typeCode         934876 non-null  object \n",
      " 9   lieuExecution.nom              932097 non-null  object \n",
      " 10  dureeMois                      934900 non-null  float64\n",
      " 11  dateNotification               934900 non-null  object \n",
      " 12  datePublicationDonnees         931628 non-null  object \n",
      " 13  montant                        934879 non-null  float64\n",
      " 14  formePrix                      922534 non-null  object \n",
      " 15  titulaire.id                   932670 non-null  object \n",
      " 16  titulaire.typeIdentifiant      932670 non-null  object \n",
      " 17  titulaire.denominationSociale  929909 non-null  object \n",
      " 18  objetModification              142914 non-null  object \n",
      " 19  source                         934879 non-null  object \n",
      " 20  donneesActuelles               0 non-null       object \n",
      " 21  anomalies                      0 non-null       object \n",
      " 22  acheteur.nom                   921375 non-null  object \n",
      "dtypes: float64(2), object(21)\n",
      "memory usage: 164.1+ MB\n"
     ]
    }
   ],
   "source": [
    "conn = sqlite3.connect('data/decp.sqlite')\n",
    "db = conn.cursor()\n",
    "query = f\"\"\"\n",
    "SELECT *\n",
    "FROM decp\n",
    "\"\"\"\n",
    "\n",
    "decp_df = pd.read_sql_query(query, conn)\n",
    "decp_df.info()"
   ]
  },
  {
   "cell_type": "code",
   "execution_count": 7,
   "metadata": {},
   "outputs": [
    {
     "data": {
      "text/html": [
       "<div>\n",
       "<style scoped>\n",
       "    .dataframe tbody tr th:only-of-type {\n",
       "        vertical-align: middle;\n",
       "    }\n",
       "\n",
       "    .dataframe tbody tr th {\n",
       "        vertical-align: top;\n",
       "    }\n",
       "\n",
       "    .dataframe thead th {\n",
       "        text-align: right;\n",
       "    }\n",
       "</style>\n",
       "<table border=\"1\" class=\"dataframe\">\n",
       "  <thead>\n",
       "    <tr style=\"text-align: right;\">\n",
       "      <th></th>\n",
       "      <th>id</th>\n",
       "      <th>uid</th>\n",
       "      <th>acheteur.id</th>\n",
       "      <th>nature</th>\n",
       "      <th>objet</th>\n",
       "      <th>codeCPV</th>\n",
       "      <th>procedure</th>\n",
       "      <th>lieuExecution.code</th>\n",
       "      <th>lieuExecution.typeCode</th>\n",
       "      <th>lieuExecution.nom</th>\n",
       "      <th>...</th>\n",
       "      <th>montant</th>\n",
       "      <th>formePrix</th>\n",
       "      <th>titulaire.id</th>\n",
       "      <th>titulaire.typeIdentifiant</th>\n",
       "      <th>titulaire.denominationSociale</th>\n",
       "      <th>objetModification</th>\n",
       "      <th>source</th>\n",
       "      <th>donneesActuelles</th>\n",
       "      <th>anomalies</th>\n",
       "      <th>acheteur.nom</th>\n",
       "    </tr>\n",
       "  </thead>\n",
       "  <tbody>\n",
       "    <tr>\n",
       "      <th>22572</th>\n",
       "      <td>20212021S1632900</td>\n",
       "      <td>1800050190004720212021S1632900</td>\n",
       "      <td>18000501900047</td>\n",
       "      <td>Marché</td>\n",
       "      <td>Prestations de revégétalisation de sites de l’...</td>\n",
       "      <td>None</td>\n",
       "      <td>Procédure adaptée</td>\n",
       "      <td>GF</td>\n",
       "      <td>CODE DEPARTEMENT</td>\n",
       "      <td>(973) Guyane Française</td>\n",
       "      <td>...</td>\n",
       "      <td>27605.00</td>\n",
       "      <td>Ferme et actualisable</td>\n",
       "      <td>81955673900012</td>\n",
       "      <td>SIRET</td>\n",
       "      <td>L' AGRO FORESTIERE</td>\n",
       "      <td>None</td>\n",
       "      <td>data.gouv.fr_aife</td>\n",
       "      <td>None</td>\n",
       "      <td>None</td>\n",
       "      <td>CONSERVATOIRE DE L'ESPACE LITTORAL ET DES RIVA...</td>\n",
       "    </tr>\n",
       "    <tr>\n",
       "      <th>23705</th>\n",
       "      <td>20190000200</td>\n",
       "      <td>2135001500001520190000200</td>\n",
       "      <td>21350015000015</td>\n",
       "      <td>Marché</td>\n",
       "      <td>Aménagements de l'îlot St Martin - Aménagement...</td>\n",
       "      <td>None</td>\n",
       "      <td>Procédure adaptée</td>\n",
       "      <td>35</td>\n",
       "      <td>Code département</td>\n",
       "      <td>(35) Ille-et-Vilaine</td>\n",
       "      <td>...</td>\n",
       "      <td>379586.51</td>\n",
       "      <td>Révisable</td>\n",
       "      <td>42513937500025</td>\n",
       "      <td>SIRET</td>\n",
       "      <td>MAN T.P.</td>\n",
       "      <td>None</td>\n",
       "      <td>megalis-bretagne</td>\n",
       "      <td>None</td>\n",
       "      <td>None</td>\n",
       "      <td>COMMUNE DE BALAZE - MAIRIE</td>\n",
       "    </tr>\n",
       "    <tr>\n",
       "      <th>23958</th>\n",
       "      <td>20190008000</td>\n",
       "      <td>2156026080001420190008000</td>\n",
       "      <td>21560260800014</td>\n",
       "      <td>Marché</td>\n",
       "      <td>Travaux d'aménagement intérieur du nouveau Bur...</td>\n",
       "      <td>None</td>\n",
       "      <td>Procédure adaptée</td>\n",
       "      <td>56</td>\n",
       "      <td>Code département</td>\n",
       "      <td>(56) Morbihan</td>\n",
       "      <td>...</td>\n",
       "      <td>42161.77</td>\n",
       "      <td>Révisable</td>\n",
       "      <td>87728018087728</td>\n",
       "      <td>SIRET</td>\n",
       "      <td>SVEG</td>\n",
       "      <td>None</td>\n",
       "      <td>megalis-bretagne</td>\n",
       "      <td>None</td>\n",
       "      <td>None</td>\n",
       "      <td>COMMUNE DE VANNES - MAIRIE</td>\n",
       "    </tr>\n",
       "    <tr>\n",
       "      <th>23959</th>\n",
       "      <td>20190000400</td>\n",
       "      <td>2122026670011020190000400</td>\n",
       "      <td>21220266700110</td>\n",
       "      <td>Marché</td>\n",
       "      <td>Aménagement de l'esplanade de la Salle des Fêt...</td>\n",
       "      <td>None</td>\n",
       "      <td>Procédure adaptée</td>\n",
       "      <td>22</td>\n",
       "      <td>Code département</td>\n",
       "      <td>(22) Côtes-d'Armor</td>\n",
       "      <td>...</td>\n",
       "      <td>160225.00</td>\n",
       "      <td>Révisable</td>\n",
       "      <td>43360419600488</td>\n",
       "      <td>SIRET</td>\n",
       "      <td>EIFFAGE ROUTE ILE DE FRANCE / CENTRE OUEST</td>\n",
       "      <td>None</td>\n",
       "      <td>megalis-bretagne</td>\n",
       "      <td>None</td>\n",
       "      <td>None</td>\n",
       "      <td>COMMUNE DE ROSTRENEN - MAIRIE</td>\n",
       "    </tr>\n",
       "    <tr>\n",
       "      <th>24165</th>\n",
       "      <td>20190003300</td>\n",
       "      <td>2129013590001920190003300</td>\n",
       "      <td>21290135900019</td>\n",
       "      <td>Marché</td>\n",
       "      <td>travaux de viabilisation du lotissement commun...</td>\n",
       "      <td>None</td>\n",
       "      <td>Procédure adaptée</td>\n",
       "      <td>29</td>\n",
       "      <td>Code département</td>\n",
       "      <td>(29) Finistère</td>\n",
       "      <td>...</td>\n",
       "      <td>77856.75</td>\n",
       "      <td>Ferme et actualisable</td>\n",
       "      <td>37774916300046</td>\n",
       "      <td>SIRET</td>\n",
       "      <td>ENTREPRISE TRAVAUX PUBLICS D ARMOR</td>\n",
       "      <td>None</td>\n",
       "      <td>megalis-bretagne</td>\n",
       "      <td>None</td>\n",
       "      <td>None</td>\n",
       "      <td>COMMUNE DE LOCTUDY - MAIRIE</td>\n",
       "    </tr>\n",
       "  </tbody>\n",
       "</table>\n",
       "<p>5 rows × 23 columns</p>\n",
       "</div>"
      ],
      "text/plain": [
       "                     id                             uid     acheteur.id  \\\n",
       "22572  20212021S1632900  1800050190004720212021S1632900  18000501900047   \n",
       "23705       20190000200       2135001500001520190000200  21350015000015   \n",
       "23958       20190008000       2156026080001420190008000  21560260800014   \n",
       "23959       20190000400       2122026670011020190000400  21220266700110   \n",
       "24165       20190003300       2129013590001920190003300  21290135900019   \n",
       "\n",
       "       nature                                              objet codeCPV  \\\n",
       "22572  Marché  Prestations de revégétalisation de sites de l’...    None   \n",
       "23705  Marché  Aménagements de l'îlot St Martin - Aménagement...    None   \n",
       "23958  Marché  Travaux d'aménagement intérieur du nouveau Bur...    None   \n",
       "23959  Marché  Aménagement de l'esplanade de la Salle des Fêt...    None   \n",
       "24165  Marché  travaux de viabilisation du lotissement commun...    None   \n",
       "\n",
       "               procedure lieuExecution.code lieuExecution.typeCode  \\\n",
       "22572  Procédure adaptée                 GF       CODE DEPARTEMENT   \n",
       "23705  Procédure adaptée                 35       Code département   \n",
       "23958  Procédure adaptée                 56       Code département   \n",
       "23959  Procédure adaptée                 22       Code département   \n",
       "24165  Procédure adaptée                 29       Code département   \n",
       "\n",
       "            lieuExecution.nom  ...    montant              formePrix  \\\n",
       "22572  (973) Guyane Française  ...   27605.00  Ferme et actualisable   \n",
       "23705    (35) Ille-et-Vilaine  ...  379586.51              Révisable   \n",
       "23958           (56) Morbihan  ...   42161.77              Révisable   \n",
       "23959      (22) Côtes-d'Armor  ...  160225.00              Révisable   \n",
       "24165          (29) Finistère  ...   77856.75  Ferme et actualisable   \n",
       "\n",
       "         titulaire.id  titulaire.typeIdentifiant  \\\n",
       "22572  81955673900012                      SIRET   \n",
       "23705  42513937500025                      SIRET   \n",
       "23958  87728018087728                      SIRET   \n",
       "23959  43360419600488                      SIRET   \n",
       "24165  37774916300046                      SIRET   \n",
       "\n",
       "                    titulaire.denominationSociale objetModification  \\\n",
       "22572                          L' AGRO FORESTIERE              None   \n",
       "23705                                    MAN T.P.              None   \n",
       "23958                                        SVEG              None   \n",
       "23959  EIFFAGE ROUTE ILE DE FRANCE / CENTRE OUEST              None   \n",
       "24165          ENTREPRISE TRAVAUX PUBLICS D ARMOR              None   \n",
       "\n",
       "                  source donneesActuelles anomalies  \\\n",
       "22572  data.gouv.fr_aife             None      None   \n",
       "23705   megalis-bretagne             None      None   \n",
       "23958   megalis-bretagne             None      None   \n",
       "23959   megalis-bretagne             None      None   \n",
       "24165   megalis-bretagne             None      None   \n",
       "\n",
       "                                            acheteur.nom  \n",
       "22572  CONSERVATOIRE DE L'ESPACE LITTORAL ET DES RIVA...  \n",
       "23705                         COMMUNE DE BALAZE - MAIRIE  \n",
       "23958                         COMMUNE DE VANNES - MAIRIE  \n",
       "23959                      COMMUNE DE ROSTRENEN - MAIRIE  \n",
       "24165                        COMMUNE DE LOCTUDY - MAIRIE  \n",
       "\n",
       "[5 rows x 23 columns]"
      ]
     },
     "execution_count": 7,
     "metadata": {},
     "output_type": "execute_result"
    }
   ],
   "source": [
    "decp_df[decp_df['codeCPV'].isna() == True].head()"
   ]
  },
  {
   "cell_type": "code",
   "execution_count": 12,
   "metadata": {},
   "outputs": [
    {
     "data": {
      "text/plain": [
       "Index(['uid', 'id', 'nature', 'acheteur_id', 'acheteur_nom', 'acheteur_siren',\n",
       "       'titulaire_id', 'titulaire_typeIdentifiant', 'objet', 'montant',\n",
       "       'codeCPV', 'procedure', 'dureeMois', 'dateNotification',\n",
       "       'datePublicationDonnees', 'formePrix', 'attributionAvance',\n",
       "       'offresRecues', 'marcheInnovant', 'ccag', 'sousTraitanceDeclaree',\n",
       "       'typeGroupementOperateurs', 'tauxAvance', 'origineUE', 'origineFrance',\n",
       "       'lieuExecution_code', 'lieuExecution_typeCode', 'idAccordCadre',\n",
       "       'source_open_data', 'titulaire_typeIdentifiant_right',\n",
       "       'titulaire_siren', 'titulaire_nom'],\n",
       "      dtype='object')"
      ]
     },
     "execution_count": 12,
     "metadata": {},
     "output_type": "execute_result"
    }
   ],
   "source": [
    "data.columns"
   ]
  },
  {
   "cell_type": "code",
   "execution_count": 13,
   "metadata": {},
   "outputs": [
    {
     "data": {
      "text/plain": [
       "Index(['id', 'uid', 'acheteur.id', 'nature', 'objet', 'codeCPV', 'procedure',\n",
       "       'lieuExecution.code', 'lieuExecution.typeCode', 'lieuExecution.nom',\n",
       "       'dureeMois', 'dateNotification', 'datePublicationDonnees', 'montant',\n",
       "       'formePrix', 'titulaire.id', 'titulaire.typeIdentifiant',\n",
       "       'titulaire.denominationSociale', 'objetModification', 'source',\n",
       "       'donneesActuelles', 'anomalies', 'acheteur.nom'],\n",
       "      dtype='object')"
      ]
     },
     "execution_count": 13,
     "metadata": {},
     "output_type": "execute_result"
    }
   ],
   "source": [
    "decp_df.columns"
   ]
  },
  {
   "cell_type": "code",
   "execution_count": 14,
   "metadata": {},
   "outputs": [
    {
     "name": "stdout",
     "output_type": "stream",
     "text": [
      "acheteur_id\n",
      "acheteur_nom\n",
      "acheteur_siren\n",
      "titulaire_id\n",
      "titulaire_typeIdentifiant\n",
      "attributionAvance\n",
      "offresRecues\n",
      "marcheInnovant\n",
      "ccag\n",
      "sousTraitanceDeclaree\n",
      "typeGroupementOperateurs\n",
      "tauxAvance\n",
      "origineUE\n",
      "origineFrance\n",
      "lieuExecution_code\n",
      "lieuExecution_typeCode\n",
      "idAccordCadre\n",
      "source_open_data\n",
      "titulaire_typeIdentifiant_right\n",
      "titulaire_siren\n",
      "titulaire_nom\n"
     ]
    }
   ],
   "source": [
    "for col in data.columns:\n",
    "    if col not in decp_df.columns:\n",
    "        print(col)"
   ]
  },
  {
   "cell_type": "code",
   "execution_count": null,
   "metadata": {},
   "outputs": [],
   "source": []
  }
 ],
 "metadata": {
  "kernelspec": {
   "display_name": "lewagon",
   "language": "python",
   "name": "python3"
  },
  "language_info": {
   "codemirror_mode": {
    "name": "ipython",
    "version": 3
   },
   "file_extension": ".py",
   "mimetype": "text/x-python",
   "name": "python",
   "nbconvert_exporter": "python",
   "pygments_lexer": "ipython3",
   "version": "3.12.9"
  }
 },
 "nbformat": 4,
 "nbformat_minor": 2
}
