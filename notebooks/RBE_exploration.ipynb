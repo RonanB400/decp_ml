{
 "cells": [
  {
   "cell_type": "code",
   "execution_count": 1,
   "metadata": {},
   "outputs": [],
   "source": [
    "import pandas as pd\n",
    "import numpy as np\n",
    "import os\n",
    "import sqlite3\n",
    "import matplotlib.pyplot as plt\n",
    "import seaborn as sns"
   ]
  },
  {
   "cell_type": "code",
   "execution_count": 2,
   "metadata": {},
   "outputs": [
    {
     "data": {
      "text/plain": [
       "'/home/ronan/code/RonanB400/Project/decp_ml/data/datalab.sqlite'"
      ]
     },
     "execution_count": 2,
     "metadata": {},
     "output_type": "execute_result"
    }
   ],
   "source": [
    "db_path = os.path.join(os.path.dirname(os.getcwd()), 'data', 'datalab.sqlite')\n",
    "db_path"
   ]
  },
  {
   "cell_type": "code",
   "execution_count": 3,
   "metadata": {},
   "outputs": [
    {
     "name": "stdout",
     "output_type": "stream",
     "text": [
      "<class 'pandas.core.frame.DataFrame'>\n",
      "RangeIndex: 299670 entries, 0 to 299669\n",
      "Data columns (total 31 columns):\n",
      " #   Column                     Non-Null Count   Dtype  \n",
      "---  ------                     --------------   -----  \n",
      " 0   uid                        299670 non-null  object \n",
      " 1   id                         299670 non-null  object \n",
      " 2   nature                     299670 non-null  object \n",
      " 3   acheteur_id                299670 non-null  object \n",
      " 4   acheteur_nom               299477 non-null  object \n",
      " 5   acheteur_siren             299500 non-null  object \n",
      " 6   titulaire_id               299670 non-null  object \n",
      " 7   titulaire_typeIdentifiant  299670 non-null  object \n",
      " 8   titulaire_nom              292097 non-null  object \n",
      " 9   titulaire_siren            298537 non-null  object \n",
      " 10  objet                      299670 non-null  object \n",
      " 11  montant                    299670 non-null  float64\n",
      " 12  codeCPV                    299670 non-null  object \n",
      " 13  procedure                  299670 non-null  object \n",
      " 14  dureeMois                  299663 non-null  float64\n",
      " 15  dateNotification           299670 non-null  object \n",
      " 16  datePublicationDonnees     299668 non-null  object \n",
      " 17  formePrix                  299670 non-null  object \n",
      " 18  attributionAvance          125791 non-null  float64\n",
      " 19  offresRecues               198227 non-null  float64\n",
      " 20  marcheInnovant             123320 non-null  float64\n",
      " 21  ccag                       299670 non-null  object \n",
      " 22  sousTraitanceDeclaree      155111 non-null  float64\n",
      " 23  typeGroupementOperateurs   299670 non-null  object \n",
      " 24  tauxAvance                 170113 non-null  float64\n",
      " 25  origineUE                  169189 non-null  float64\n",
      " 26  origineFrance              169190 non-null  float64\n",
      " 27  lieuExecution_code         299670 non-null  object \n",
      " 28  lieuExecution_typeCode     299670 non-null  object \n",
      " 29  idAccordCadre              65564 non-null   object \n",
      " 30  source_open_data           299670 non-null  object \n",
      "dtypes: float64(9), object(22)\n",
      "memory usage: 70.9+ MB\n"
     ]
    }
   ],
   "source": [
    "conn = sqlite3.connect(db_path)\n",
    "db = conn.cursor()\n",
    "query = f\"\"\"\n",
    "SELECT *\n",
    "FROM \"data.gouv.fr.2022.clean\"\n",
    "\"\"\"\n",
    "\n",
    "data = pd.read_sql_query(query, conn)\n",
    "data.info()"
   ]
  },
  {
   "cell_type": "code",
   "execution_count": 4,
   "metadata": {},
   "outputs": [
    {
     "data": {
      "text/plain": [
       "count    2.996700e+05\n",
       "mean     1.040053e+10\n",
       "std      1.017208e+12\n",
       "min      1.000000e-02\n",
       "25%      6.999966e+04\n",
       "50%      1.583553e+05\n",
       "75%      4.690646e+05\n",
       "max      1.000000e+14\n",
       "Name: montant, dtype: float64"
      ]
     },
     "execution_count": 4,
     "metadata": {},
     "output_type": "execute_result"
    }
   ],
   "source": [
    "montants_df = data['montant'].dropna()\n",
    "montants_df.describe()"
   ]
  },
  {
   "cell_type": "code",
   "execution_count": 5,
   "metadata": {},
   "outputs": [
    {
     "data": {
      "text/plain": [
       "Text(0.5, 1.0, 'Distribution des montants des commandes')"
      ]
     },
     "execution_count": 5,
     "metadata": {},
     "output_type": "execute_result"
    },
    {
     "data": {
      "image/png": "[encoded data removed]",
      "text/plain": [
       "<Figure size 500x250 with 1 Axes>"
      ]
     },
     "metadata": {},
     "output_type": "display_data"
    }
   ],
   "source": [
    "fig, ax = plt.subplots(figsize=(5, 2.5))\n",
    "sns.histplot( montants_df,log_scale=True, ax=ax)\n",
    "ax.set_xscale('log')\n",
    "ax.set_xlim(10**3,10**9)\n",
    "ax.set_xlabel('Montant (€)')\n",
    "ax.set_ylabel('Nombre de commandes')\n",
    "ax.set_title('Distribution des montants des commandes')"
   ]
  },
  {
   "cell_type": "code",
   "execution_count": 6,
   "metadata": {},
   "outputs": [
    {
     "name": "stdout",
     "output_type": "stream",
     "text": [
      "<class 'pandas.core.frame.DataFrame'>\n",
      "RangeIndex: 299670 entries, 0 to 299669\n",
      "Data columns (total 31 columns):\n",
      " #   Column                     Non-Null Count   Dtype  \n",
      "---  ------                     --------------   -----  \n",
      " 0   uid                        299670 non-null  object \n",
      " 1   id                         299670 non-null  object \n",
      " 2   nature                     299670 non-null  object \n",
      " 3   acheteur_id                299670 non-null  object \n",
      " 4   acheteur_nom               299477 non-null  object \n",
      " 5   acheteur_siren             299500 non-null  object \n",
      " 6   titulaire_id               299670 non-null  object \n",
      " 7   titulaire_typeIdentifiant  299670 non-null  object \n",
      " 8   titulaire_nom              292097 non-null  object \n",
      " 9   titulaire_siren            298537 non-null  object \n",
      " 10  objet                      299670 non-null  object \n",
      " 11  montant                    299670 non-null  float64\n",
      " 12  codeCPV                    299670 non-null  object \n",
      " 13  procedure                  299670 non-null  object \n",
      " 14  dureeMois                  299663 non-null  float64\n",
      " 15  dateNotification           299670 non-null  object \n",
      " 16  datePublicationDonnees     299668 non-null  object \n",
      " 17  formePrix                  299670 non-null  object \n",
      " 18  attributionAvance          125791 non-null  float64\n",
      " 19  offresRecues               198227 non-null  float64\n",
      " 20  marcheInnovant             123320 non-null  float64\n",
      " 21  ccag                       299670 non-null  object \n",
      " 22  sousTraitanceDeclaree      155111 non-null  float64\n",
      " 23  typeGroupementOperateurs   299670 non-null  object \n",
      " 24  tauxAvance                 170113 non-null  float64\n",
      " 25  origineUE                  169189 non-null  float64\n",
      " 26  origineFrance              169190 non-null  float64\n",
      " 27  lieuExecution_code         299670 non-null  object \n",
      " 28  lieuExecution_typeCode     299670 non-null  object \n",
      " 29  idAccordCadre              65564 non-null   object \n",
      " 30  source_open_data           299670 non-null  object \n",
      "dtypes: float64(9), object(22)\n",
      "memory usage: 70.9+ MB\n"
     ]
    }
   ],
   "source": [
    "data.info()"
   ]
  },
  {
   "cell_type": "code",
   "execution_count": 7,
   "metadata": {},
   "outputs": [
    {
     "data": {
      "text/plain": [
       "formePrix\n",
       "Forfaitaire    109095\n",
       "Unitaire       107397\n",
       "Mixte           83178\n",
       "Name: count, dtype: int64"
      ]
     },
     "execution_count": 7,
     "metadata": {},
     "output_type": "execute_result"
    }
   ],
   "source": [
    "data['formePrix'].value_counts()"
   ]
  },
  {
   "cell_type": "code",
   "execution_count": 8,
   "metadata": {},
   "outputs": [
    {
     "data": {
      "text/html": [
       "<div>\n",
       "<style scoped>\n",
       "    .dataframe tbody tr th:only-of-type {\n",
       "        vertical-align: middle;\n",
       "    }\n",
       "\n",
       "    .dataframe tbody tr th {\n",
       "        vertical-align: top;\n",
       "    }\n",
       "\n",
       "    .dataframe thead th {\n",
       "        text-align: right;\n",
       "    }\n",
       "</style>\n",
       "<table border=\"1\" class=\"dataframe\">\n",
       "  <thead>\n",
       "    <tr style=\"text-align: right;\">\n",
       "      <th></th>\n",
       "      <th>objet</th>\n",
       "    </tr>\n",
       "  </thead>\n",
       "  <tbody>\n",
       "    <tr>\n",
       "      <th>78</th>\n",
       "      <td>TRAVAUX RENOVATION PARTIELLE EHPAD</td>\n",
       "    </tr>\n",
       "    <tr>\n",
       "      <th>86</th>\n",
       "      <td>GPE SCO-LOT2-TRAVAUX RENOVATION ENERGETIQUE</td>\n",
       "    </tr>\n",
       "    <tr>\n",
       "      <th>203</th>\n",
       "      <td>LANDERNEAU - Construction 2nd collège  - lot 0...</td>\n",
       "    </tr>\n",
       "    <tr>\n",
       "      <th>221</th>\n",
       "      <td>Lot 6 Etanchéité</td>\n",
       "    </tr>\n",
       "    <tr>\n",
       "      <th>251</th>\n",
       "      <td>202501 PRL02 - LOT 07 DOUBLAGE CLOISONS PLAFONDS</td>\n",
       "    </tr>\n",
       "    <tr>\n",
       "      <th>...</th>\n",
       "      <td>...</td>\n",
       "    </tr>\n",
       "    <tr>\n",
       "      <th>299444</th>\n",
       "      <td>MENUISERIES BOIS</td>\n",
       "    </tr>\n",
       "    <tr>\n",
       "      <th>299453</th>\n",
       "      <td>EXTENSION RENOVATION DES URGENCES GHI MONTFERMEIL</td>\n",
       "    </tr>\n",
       "    <tr>\n",
       "      <th>299527</th>\n",
       "      <td>2023/30 -  Lot1 Gros-oeuvre/charpente-Construc...</td>\n",
       "    </tr>\n",
       "    <tr>\n",
       "      <th>299547</th>\n",
       "      <td>MARCHE DE TRAVAUX A BONS DE COMMANDE - LOT 7 CVC</td>\n",
       "    </tr>\n",
       "    <tr>\n",
       "      <th>299600</th>\n",
       "      <td>CONSTRUCTION D'UNE MSP</td>\n",
       "    </tr>\n",
       "  </tbody>\n",
       "</table>\n",
       "<p>8876 rows × 1 columns</p>\n",
       "</div>"
      ],
      "text/plain": [
       "                                                    objet\n",
       "78                     TRAVAUX RENOVATION PARTIELLE EHPAD\n",
       "86            GPE SCO-LOT2-TRAVAUX RENOVATION ENERGETIQUE\n",
       "203     LANDERNEAU - Construction 2nd collège  - lot 0...\n",
       "221                                      Lot 6 Etanchéité\n",
       "251      202501 PRL02 - LOT 07 DOUBLAGE CLOISONS PLAFONDS\n",
       "...                                                   ...\n",
       "299444                                   MENUISERIES BOIS\n",
       "299453  EXTENSION RENOVATION DES URGENCES GHI MONTFERMEIL\n",
       "299527  2023/30 -  Lot1 Gros-oeuvre/charpente-Construc...\n",
       "299547   MARCHE DE TRAVAUX A BONS DE COMMANDE - LOT 7 CVC\n",
       "299600                             CONSTRUCTION D'UNE MSP\n",
       "\n",
       "[8876 rows x 1 columns]"
      ]
     },
     "execution_count": 8,
     "metadata": {},
     "output_type": "execute_result"
    }
   ],
   "source": [
    "data[data['codeCPV'] == '45000000-7'][['objet']]"
   ]
  },
  {
   "cell_type": "code",
   "execution_count": 9,
   "metadata": {},
   "outputs": [
    {
     "data": {
      "text/plain": [
       "formePrix\n",
       "Forfaitaire    109095\n",
       "Unitaire       107397\n",
       "Mixte           83178\n",
       "Name: count, dtype: int64"
      ]
     },
     "execution_count": 9,
     "metadata": {},
     "output_type": "execute_result"
    }
   ],
   "source": [
    "data['formePrix'].value_counts()"
   ]
  },
  {
   "cell_type": "code",
   "execution_count": 10,
   "metadata": {},
   "outputs": [
    {
     "data": {
      "text/plain": [
       "ccag\n",
       "Fournitures courantes et services                     92540\n",
       "Travaux                                               92382\n",
       "Pas de CCAG                                           84251\n",
       "Prestations intellectuelles                           16225\n",
       "Maitrise d'œuvre                                      10225\n",
       "Techniques de l'information et de la communication     3930\n",
       "Marchés industriels                                     117\n",
       "Name: count, dtype: int64"
      ]
     },
     "execution_count": 10,
     "metadata": {},
     "output_type": "execute_result"
    }
   ],
   "source": [
    "data['ccag'].value_counts()"
   ]
  },
  {
   "cell_type": "code",
   "execution_count": 11,
   "metadata": {},
   "outputs": [
    {
     "data": {
      "text/plain": [
       "datePublicationDonnees\n",
       "2024    168021\n",
       "2025     62205\n",
       "2023     37431\n",
       "2022     18354\n",
       "2021     10055\n",
       "2020      2948\n",
       "2019       592\n",
       "2018        20\n",
       "2003        10\n",
       "2026         4\n",
       "2002         4\n",
       "2017         4\n",
       "2004         3\n",
       "2016         3\n",
       "2044         3\n",
       "2028         2\n",
       "2006         1\n",
       "1941         1\n",
       "2027         1\n",
       "2007         1\n",
       "2033         1\n",
       "1899         1\n",
       "1920         1\n",
       "2029         1\n",
       "0204         1\n",
       "Name: count, dtype: int64"
      ]
     },
     "execution_count": 11,
     "metadata": {},
     "output_type": "execute_result"
    }
   ],
   "source": [
    "years = data['datePublicationDonnees'].str[:4]\n",
    "years.value_counts()"
   ]
  },
  {
   "cell_type": "code",
   "execution_count": null,
   "metadata": {},
   "outputs": [],
   "source": []
  }
 ],
 "metadata": {
  "kernelspec": {
   "display_name": "decp_ml_env",
   "language": "python",
   "name": "python3"
  },
  "language_info": {
   "codemirror_mode": {
    "name": "ipython",
    "version": 3
   },
   "file_extension": ".py",
   "mimetype": "text/x-python",
   "name": "python",
   "nbconvert_exporter": "python",
   "pygments_lexer": "ipython3",
   "version": "3.10.6"
  }
 },
 "nbformat": 4,
 "nbformat_minor": 2
}
