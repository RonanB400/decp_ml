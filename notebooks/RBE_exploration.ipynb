{
 "cells": [
  {
   "cell_type": "code",
   "execution_count": 3,
   "metadata": {},
   "outputs": [],
   "source": [
    "import pandas as pd\n",
    "import numpy as np\n",
    "import os\n",
    "import sqlite3\n",
    "import matplotlib.pyplot as plt\n",
    "import seaborn as sns"
   ]
  },
  {
   "cell_type": "code",
   "execution_count": 7,
   "metadata": {},
   "outputs": [],
   "source": [
    "db_path = os.path.join(os.path.dirname(os.getcwd()), 'data', 'datalab.sqlite')\n",
    "db_path"
   ]
  },
  {
   "cell_type": "code",
   "execution_count": 8,
   "metadata": {},
   "outputs": [
    {
     "name": "stdout",
     "output_type": "stream",
     "text": [
      "<class 'pandas.core.frame.DataFrame'>\n",
      "RangeIndex: 299670 entries, 0 to 299669\n",
      "Data columns (total 31 columns):\n",
      " #   Column                     Non-Null Count   Dtype  \n",
      "---  ------                     --------------   -----  \n",
      " 0   uid                        299670 non-null  object \n",
      " 1   id                         299670 non-null  object \n",
      " 2   nature                     299670 non-null  object \n",
      " 3   acheteur_id                299670 non-null  object \n",
      " 4   acheteur_nom               299477 non-null  object \n",
      " 5   acheteur_siren             299500 non-null  object \n",
      " 6   titulaire_id               299670 non-null  object \n",
      " 7   titulaire_typeIdentifiant  299670 non-null  object \n",
      " 8   titulaire_nom              292097 non-null  object \n",
      " 9   titulaire_siren            298537 non-null  object \n",
      " 10  objet                      299670 non-null  object \n",
      " 11  montant                    299670 non-null  float64\n",
      " 12  codeCPV                    299670 non-null  object \n",
      " 13  procedure                  299670 non-null  object \n",
      " 14  dureeMois                  299663 non-null  float64\n",
      " 15  dateNotification           299670 non-null  object \n",
      " 16  datePublicationDonnees     299668 non-null  object \n",
      " 17  formePrix                  299670 non-null  object \n",
      " 18  attributionAvance          125791 non-null  float64\n",
      " 19  offresRecues               198227 non-null  float64\n",
      " 20  marcheInnovant             123320 non-null  float64\n",
      " 21  ccag                       299670 non-null  object \n",
      " 22  sousTraitanceDeclaree      155111 non-null  float64\n",
      " 23  typeGroupementOperateurs   299670 non-null  object \n",
      " 24  tauxAvance                 170113 non-null  float64\n",
      " 25  origineUE                  169189 non-null  float64\n",
      " 26  origineFrance              169190 non-null  float64\n",
      " 27  lieuExecution_code         299670 non-null  object \n",
      " 28  lieuExecution_typeCode     299670 non-null  object \n",
      " 29  idAccordCadre              65564 non-null   object \n",
      " 30  source_open_data           299670 non-null  object \n",
      "dtypes: float64(9), object(22)\n",
      "memory usage: 70.9+ MB\n"
     ]
    }
   ],
   "source": [
    "conn = sqlite3.connect(db_path)\n",
    "db = conn.cursor()\n",
    "query = f\"\"\"\n",
    "SELECT *\n",
    "FROM \"data.gouv.fr.2022.clean\"\n",
    "\"\"\"\n",
    "\n",
    "data = pd.read_sql_query(query, conn)\n",
    "data.info()"
   ]
  },
  {
   "cell_type": "code",
   "execution_count": 13,
   "metadata": {},
   "outputs": [
    {
     "data": {
      "text/plain": [
       "count    2.854440e+05\n",
       "mean     1.091786e+10\n",
       "std      1.042245e+12\n",
       "min      1.000000e-02\n",
       "25%      6.981250e+04\n",
       "50%      1.580000e+05\n",
       "75%      4.689365e+05\n",
       "max      1.000000e+14\n",
       "Name: montant, dtype: float64"
      ]
     },
     "execution_count": 13,
     "metadata": {},
     "output_type": "execute_result"
    }
   ],
   "source": [
    "montants_df = data['montant'].dropna()\n",
    "montants_df.describe()"
   ]
  },
  {
   "cell_type": "code",
   "execution_count": 27,
   "metadata": {},
   "outputs": [
    {
     "data": {
      "text/plain": [
       "Text(0.5, 1.0, 'Distribution des montants des commandes')"
      ]
     },
     "execution_count": 27,
     "metadata": {},
     "output_type": "execute_result"
    },
    {
     "data": {
      "image/png": "[encoded data removed]",
      "text/plain": [
       "<Figure size 500x250 with 1 Axes>"
      ]
     },
     "metadata": {},
     "output_type": "display_data"
    }
   ],
   "source": [
    "fig, ax = plt.subplots(figsize=(5, 2.5))\n",
    "sns.histplot( montants_df,log_scale=True, ax=ax)\n",
    "ax.set_xscale('log')\n",
    "ax.set_xlim(10**3,10**9)\n",
    "ax.set_xlabel('Montant (€)')\n",
    "ax.set_ylabel('Nombre de commandes')\n",
    "ax.set_title('Distribution des montants des commandes')"
   ]
  },
  {
   "cell_type": "code",
   "execution_count": 34,
   "metadata": {},
   "outputs": [
    {
     "name": "stdout",
     "output_type": "stream",
     "text": [
      "<class 'pandas.core.frame.DataFrame'>\n",
      "RangeIndex: 285444 entries, 0 to 285443\n",
      "Data columns (total 32 columns):\n",
      " #   Column                           Non-Null Count   Dtype  \n",
      "---  ------                           --------------   -----  \n",
      " 0   uid                              285444 non-null  object \n",
      " 1   id                               285444 non-null  object \n",
      " 2   nature                           285444 non-null  object \n",
      " 3   acheteur_id                      285444 non-null  object \n",
      " 4   acheteur_nom                     285252 non-null  object \n",
      " 5   acheteur_siren                   285274 non-null  object \n",
      " 6   titulaire_id                     285444 non-null  object \n",
      " 7   titulaire_typeIdentifiant        285444 non-null  object \n",
      " 8   objet                            285444 non-null  object \n",
      " 9   montant                          285444 non-null  float64\n",
      " 10  codeCPV                          285444 non-null  object \n",
      " 11  procedure                        285444 non-null  object \n",
      " 12  dureeMois                        285439 non-null  float64\n",
      " 13  dateNotification                 285444 non-null  object \n",
      " 14  datePublicationDonnees           285443 non-null  object \n",
      " 15  formePrix                        285444 non-null  object \n",
      " 16  attributionAvance                122332 non-null  float64\n",
      " 17  offresRecues                     188361 non-null  float64\n",
      " 18  marcheInnovant                   120074 non-null  float64\n",
      " 19  ccag                             285444 non-null  object \n",
      " 20  sousTraitanceDeclaree            149542 non-null  float64\n",
      " 21  typeGroupementOperateurs         285444 non-null  object \n",
      " 22  tauxAvance                       150791 non-null  float64\n",
      " 23  origineUE                        149746 non-null  float64\n",
      " 24  origineFrance                    149747 non-null  float64\n",
      " 25  lieuExecution_code               285444 non-null  object \n",
      " 26  lieuExecution_typeCode           285444 non-null  object \n",
      " 27  idAccordCadre                    63098 non-null   object \n",
      " 28  source_open_data                 285444 non-null  object \n",
      " 29  titulaire_typeIdentifiant_right  284372 non-null  object \n",
      " 30  titulaire_siren                  284364 non-null  object \n",
      " 31  titulaire_nom                    278199 non-null  object \n",
      "dtypes: float64(9), object(23)\n",
      "memory usage: 69.7+ MB\n"
     ]
    }
   ],
   "source": [
    "data.info()"
   ]
  },
  {
   "cell_type": "code",
   "execution_count": 38,
   "metadata": {},
   "outputs": [
    {
     "data": {
      "text/plain": [
       "formePrix\n",
       "Forfaitaire    103058\n",
       "Unitaire       101784\n",
       "Mixte           80602\n",
       "Name: count, dtype: int64"
      ]
     },
     "execution_count": 38,
     "metadata": {},
     "output_type": "execute_result"
    }
   ],
   "source": [
    "data['formePrix'].value_counts()"
   ]
  },
  {
   "cell_type": "code",
   "execution_count": 36,
   "metadata": {},
   "outputs": [
    {
     "data": {
      "text/html": [
       "<div>\n",
       "<style scoped>\n",
       "    .dataframe tbody tr th:only-of-type {\n",
       "        vertical-align: middle;\n",
       "    }\n",
       "\n",
       "    .dataframe tbody tr th {\n",
       "        vertical-align: top;\n",
       "    }\n",
       "\n",
       "    .dataframe thead th {\n",
       "        text-align: right;\n",
       "    }\n",
       "</style>\n",
       "<table border=\"1\" class=\"dataframe\">\n",
       "  <thead>\n",
       "    <tr style=\"text-align: right;\">\n",
       "      <th></th>\n",
       "      <th>objet</th>\n",
       "    </tr>\n",
       "  </thead>\n",
       "  <tbody>\n",
       "    <tr>\n",
       "      <th>17</th>\n",
       "      <td>CVC et plomberie</td>\n",
       "    </tr>\n",
       "    <tr>\n",
       "      <th>24</th>\n",
       "      <td>MISE AUX NORMES ET RENOVATION DES SALLES POLYV...</td>\n",
       "    </tr>\n",
       "    <tr>\n",
       "      <th>45</th>\n",
       "      <td>SERRURERIE MENUISERIES EXTERIEURES OCCULTATIONS</td>\n",
       "    </tr>\n",
       "    <tr>\n",
       "      <th>89</th>\n",
       "      <td>LOT 1 DEMOLITIONS EXTER TERRASEMT VRD AMENAGMT...</td>\n",
       "    </tr>\n",
       "    <tr>\n",
       "      <th>102</th>\n",
       "      <td>Lot 12 Cloison mobile</td>\n",
       "    </tr>\n",
       "    <tr>\n",
       "      <th>...</th>\n",
       "      <td>...</td>\n",
       "    </tr>\n",
       "    <tr>\n",
       "      <th>285304</th>\n",
       "      <td>Salle des fêtes lot 12 VRD</td>\n",
       "    </tr>\n",
       "    <tr>\n",
       "      <th>285310</th>\n",
       "      <td>515TX02 MAZAN ABBAYE</td>\n",
       "    </tr>\n",
       "    <tr>\n",
       "      <th>285317</th>\n",
       "      <td>LOT 1 -TRAVAUX DIVERS ET ENTRETIEN DES COUVERT...</td>\n",
       "    </tr>\n",
       "    <tr>\n",
       "      <th>285368</th>\n",
       "      <td>ISOLATION PAILLE - ENDUIT</td>\n",
       "    </tr>\n",
       "    <tr>\n",
       "      <th>285386</th>\n",
       "      <td>TRAVAUX DE RESTAURATION DE LA CAPITALE DU REDA...</td>\n",
       "    </tr>\n",
       "  </tbody>\n",
       "</table>\n",
       "<p>7828 rows × 1 columns</p>\n",
       "</div>"
      ],
      "text/plain": [
       "                                                    objet\n",
       "17                                       CVC et plomberie\n",
       "24      MISE AUX NORMES ET RENOVATION DES SALLES POLYV...\n",
       "45        SERRURERIE MENUISERIES EXTERIEURES OCCULTATIONS\n",
       "89      LOT 1 DEMOLITIONS EXTER TERRASEMT VRD AMENAGMT...\n",
       "102                                 Lot 12 Cloison mobile\n",
       "...                                                   ...\n",
       "285304                         Salle des fêtes lot 12 VRD\n",
       "285310                               515TX02 MAZAN ABBAYE\n",
       "285317  LOT 1 -TRAVAUX DIVERS ET ENTRETIEN DES COUVERT...\n",
       "285368                          ISOLATION PAILLE - ENDUIT\n",
       "285386  TRAVAUX DE RESTAURATION DE LA CAPITALE DU REDA...\n",
       "\n",
       "[7828 rows x 1 columns]"
      ]
     },
     "execution_count": 36,
     "metadata": {},
     "output_type": "execute_result"
    }
   ],
   "source": [
    "data[data['codeCPV'] == '45000000-7'][['objet']]"
   ]
  },
  {
   "cell_type": "code",
   "execution_count": 32,
   "metadata": {},
   "outputs": [
    {
     "data": {
      "text/plain": [
       "formePrix\n",
       "Forfaitaire    103058\n",
       "Unitaire       101784\n",
       "Mixte           80602\n",
       "Name: count, dtype: int64"
      ]
     },
     "execution_count": 32,
     "metadata": {},
     "output_type": "execute_result"
    }
   ],
   "source": [
    "data['formePrix'].value_counts()"
   ]
  },
  {
   "cell_type": "code",
   "execution_count": 33,
   "metadata": {},
   "outputs": [
    {
     "data": {
      "text/plain": [
       "ccag\n",
       "Fournitures courantes et services                     88709\n",
       "Travaux                                               87456\n",
       "Pas de CCAG                                           80122\n",
       "Prestations intellectuelles                           15512\n",
       "Maitrise d'œuvre                                       9736\n",
       "Techniques de l'information et de la communication     3800\n",
       "Marchés industriels                                     109\n",
       "Name: count, dtype: int64"
      ]
     },
     "execution_count": 33,
     "metadata": {},
     "output_type": "execute_result"
    }
   ],
   "source": [
    "data['ccag'].value_counts()"
   ]
  },
  {
   "cell_type": "code",
   "execution_count": null,
   "metadata": {},
   "outputs": [],
   "source": [
    "years = data['datePublicationDonnees'].str[:4]\n",
    "years.value_counts()"
   ]
  },
  {
   "cell_type": "code",
   "execution_count": null,
   "metadata": {},
   "outputs": [],
   "source": [
    "years = data['dateNotification'].str[:4]\n",
    "years.value_counts()"
   ]
  },
  {
   "cell_type": "code",
   "execution_count": null,
   "metadata": {},
   "outputs": [],
   "source": [
    "data.info()"
   ]
  },
  {
   "cell_type": "code",
   "execution_count": null,
   "metadata": {},
   "outputs": [],
   "source": [
    "data['ccag']"
   ]
  },
  {
   "cell_type": "code",
   "execution_count": null,
   "metadata": {},
   "outputs": [],
   "source": [
    "data.describe()"
   ]
  },
  {
   "cell_type": "code",
   "execution_count": null,
   "metadata": {},
   "outputs": [],
   "source": [
    "data['montant'].sum()/10**9"
   ]
  },
  {
   "cell_type": "code",
   "execution_count": null,
   "metadata": {},
   "outputs": [],
   "source": [
    "data.head()"
   ]
  },
  {
   "cell_type": "code",
   "execution_count": null,
   "metadata": {},
   "outputs": [],
   "source": [
    "query = f\"\"\"\n",
    "SELECT *\n",
    "FROM marches\n",
    "\"\"\"\n",
    "\n",
    "data_market = pd.read_sql_query(query, conn)\n",
    "data_market.info()"
   ]
  },
  {
   "cell_type": "code",
   "execution_count": null,
   "metadata": {},
   "outputs": [],
   "source": []
  }
 ],
 "metadata": {
  "kernelspec": {
   "display_name": "decp_ml_env",
   "language": "python",
   "name": "python3"
  },
  "language_info": {
   "codemirror_mode": {
    "name": "ipython",
    "version": 3
   },
   "file_extension": ".py",
   "mimetype": "text/x-python",
   "name": "python",
   "nbconvert_exporter": "python",
   "pygments_lexer": "ipython3",
   "version": "3.12.9"
  }
 },
 "nbformat": 4,
 "nbformat_minor": 2
}
